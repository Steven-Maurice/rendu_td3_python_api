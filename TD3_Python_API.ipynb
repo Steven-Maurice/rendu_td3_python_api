{
 "cells": [
  {
   "cell_type": "markdown",
   "metadata": {},
   "source": [
    "# Python with APIs\n",
    "Exchanges via HTTP using `requests` package"
   ]
  },
  {
   "cell_type": "code",
   "execution_count": 2,
   "metadata": {},
   "outputs": [],
   "source": [
    "import requests"
   ]
  },
  {
   "cell_type": "markdown",
   "metadata": {},
   "source": [
    "## Example"
   ]
  },
  {
   "cell_type": "markdown",
   "metadata": {},
   "source": [
    "### Agify API"
   ]
  },
  {
   "cell_type": "markdown",
   "metadata": {},
   "source": [
    "Example route for Agify API"
   ]
  },
  {
   "cell_type": "code",
   "execution_count": 3,
   "metadata": {},
   "outputs": [],
   "source": [
    "agify_dan = \"https://api.agify.io/?name=dan\""
   ]
  },
  {
   "cell_type": "markdown",
   "metadata": {},
   "source": [
    "Extract response"
   ]
  },
  {
   "cell_type": "code",
   "execution_count": 4,
   "metadata": {},
   "outputs": [
    {
     "name": "stdout",
     "output_type": "stream",
     "text": [
      "Answer status_code: <Response [429]>\n",
      "<class 'str'>\n",
      "<class 'dict'>\n",
      "{\"error\":\"Request limit reached\"}\n",
      "{'error': 'Request limit reached'}\n"
     ]
    }
   ],
   "source": [
    "# Run a GET request\n",
    "agify_answer = requests.get(agify_dan)\n",
    "agify_answer_txt = agify_answer.text\n",
    "agify_answer_json = agify_answer.json()\n",
    "\n",
    "print(f\"Answer status_code: {agify_answer}\")\n",
    "\n",
    "print(type(agify_answer_txt))\n",
    "print(type(agify_answer_json))\n",
    "\n",
    "print(agify_answer_txt)\n",
    "print(agify_answer_json)"
   ]
  },
  {
   "cell_type": "markdown",
   "metadata": {},
   "source": [
    "## Introductory Exercises"
   ]
  },
  {
   "cell_type": "code",
   "execution_count": 9,
   "metadata": {},
   "outputs": [
    {
     "name": "stdout",
     "output_type": "stream",
     "text": [
      "Ton age c'est : 46 ans\n"
     ]
    }
   ],
   "source": [
    "# Exercise 1\n",
    "# Write a script that asks the user for their first name\n",
    "# and responds with a personalized message\n",
    "# using the agify API\n",
    "\n",
    "# https://api.agify.io/?name=YOUR_NAME\n",
    "# Example response: {\"name\":\"YOUR_NAME\",\"age\":30,\"count\":12345}\n",
    "\n",
    "#######################################################\n",
    "################## YOUR ANSWER HERE ##################\n",
    "#######################################################\n",
    "user_name=input(\"c'est quoi ton prenom ?\")\n",
    "URL= f\"https://api.agify.io/?name={user_name}\"\n",
    "\n",
    "URL_answer = requests.get(URL)\n",
    "\n",
    "URL_answer_jsson= URL_answer.json()\n",
    "\n",
    "print(f\"Ton age c'est : {URL_answer_jsson['age']} ans\")\n",
    "\n",
    "\n"
   ]
  },
  {
   "cell_type": "code",
   "execution_count": 11,
   "metadata": {},
   "outputs": [
    {
     "name": "stdout",
     "output_type": "stream",
     "text": [
      "Based on your first name, we predict your gender to be: male.\n"
     ]
    }
   ],
   "source": [
    "# Exercise 2\n",
    "# Write a script that asks the user for their first name\n",
    "# and responds with a personalized message\n",
    "# using the genderize API\n",
    "# https://api.genderize.io/?name=YOUR_NAME\n",
    "\n",
    "#######################################################\n",
    "################## YOUR ANSWER HERE ##################\n",
    "#######################################################\n",
    "# Ask the user for their first name\n",
    "user_name = input(\"What is your first name? \")\n",
    "\n",
    "# Construct the URL for the Genderize API request\n",
    "url = f\"https://api.genderize.io/?name={user_name}\"\n",
    "\n",
    "# Send the GET request to the Genderize API\n",
    "response = requests.get(url)\n",
    "\n",
    "# Parse the JSON response\n",
    "data = response.json()\n",
    "\n",
    "# Extract the gender from the response\n",
    "gender = data['gender']\n",
    "\n",
    "# Print a personalized message with the predicted gender\n",
    "print(f\"Based on your first name, we predict your gender to be: {gender}.\")\n",
    "\n"
   ]
  },
  {
   "cell_type": "code",
   "execution_count": 16,
   "metadata": {},
   "outputs": [
    {
     "name": "stdout",
     "output_type": "stream",
     "text": [
      "Hello, Adam! Based on our data, there is a 9.90% chance that your nationality is SD.\n"
     ]
    }
   ],
   "source": [
    "# Exercise 3\n",
    "# Write a script that asks the user for their first name\n",
    "# and responds with a personalized message\n",
    "# using the nationalize API\n",
    "# https://api.nationalize.io/?name=YOUR_NAME\n",
    "\n",
    "#######################################################\n",
    "################## YOUR ANSWER HERE ##################\n",
    "#######################################################\n",
    "\n",
    "def get_nationality(name):\n",
    "    response = requests.get(f\"https://api.nationalize.io/?name={name}\")\n",
    "    return response.json()\n",
    "\n",
    "# Uncomment the line below when running in an environment that allows input\n",
    "# user_name = input(\"Please enter your first name: \")\n",
    "user_name = input(\"What's your first name\") # Replace with the user's input when running for real\n",
    "\n",
    "nationality_info = get_nationality(user_name)\n",
    "\n",
    "if nationality_info[\"country\"]:\n",
    "    top_country = nationality_info[\"country\"][0][\"country_id\"]\n",
    "    probability = nationality_info[\"country\"][0][\"probability\"]\n",
    "    print(f\"Hello, {user_name}! Based on our data, there is a {probability:.2%} chance that your nationality is {top_country}.\")\n",
    "else:\n",
    "    print(f\"Hello, {user_name}! We could not predict your nationality with a high probability.\")\n",
    "\n"
   ]
  },
  {
   "cell_type": "code",
   "execution_count": 17,
   "metadata": {},
   "outputs": [
    {
     "name": "stdout",
     "output_type": "stream",
     "text": [
      "The most likely nationality for Adam is SD with a probability of 9.90%.\n"
     ]
    }
   ],
   "source": [
    "# Exercise 3.1\n",
    "# Parsing the response from the nationalize API\n",
    "# Get the most probable country and its percentage\n",
    "# Example response: {\"name\":\"YOUR_NAME\",\"country\":[{\"country_id\":\"FR\",\"probability\":0.75},{\"country_id\":\"BE\",\"probability\":0.25}]}\n",
    "# Hint: use the max() function with a lambda function\n",
    "# https://docs.python.org/3/library/functions.html#max\n",
    "# https://docs.python.org/3/tutorial/controlflow.html#lambda-expressions\n",
    "\n",
    "#######################################################\n",
    "################## YOUR ANSWER HERE ##################\n",
    "#######################################################\n",
    "import requests\n",
    "\n",
    "def get_nationality(name):\n",
    "    # Make the API request\n",
    "    response = requests.get(f\"https://api.nationalize.io/?name={name}\")\n",
    "    # Parse the JSON response\n",
    "    data = response.json()\n",
    "    return data\n",
    "\n",
    "def find_most_probable_country(data):\n",
    "    # Use max() with a lambda function to find the entry with the highest probability\n",
    "    if data['country']:  # Ensure the country list is not empty\n",
    "        most_probable = max(data['country'], key=lambda x: x['probability'])\n",
    "        return most_probable['country_id'], most_probable['probability']\n",
    "    else:\n",
    "        return None, 0\n",
    "\n",
    "# Ask the user for their name\n",
    "user_name = input(\"What is your first name? \")\n",
    "\n",
    "# Get the nationality data\n",
    "nationality_data = get_nationality(user_name)\n",
    "\n",
    "# Parse the response to find the most probable country and its probability\n",
    "country_id, probability = find_most_probable_country(nationality_data)\n",
    "\n",
    "if country_id:\n",
    "    print(f\"The most likely nationality for {user_name} is {country_id} with a probability of {probability*100:.2f}%.\")\n",
    "else:\n",
    "    print(\"We couldn't determine the most likely nationality.\")\n",
    "\n"
   ]
  },
  {
   "cell_type": "code",
   "execution_count": 20,
   "metadata": {},
   "outputs": [
    {
     "name": "stdout",
     "output_type": "stream",
     "text": [
      "Random activity: Prepare a dish from a foreign culture\n"
     ]
    }
   ],
   "source": [
    "# Exercise 4\n",
    "# Use BoredAPI : https://www.boredapi.com/\n",
    "# Documentation : https://www.boredapi.com/documentation\n",
    "# 1. Write a script that generates random activities\n",
    "# 2. Write a script that generates random activities\n",
    "# 3. Write a script that generates random activities for 4 participants\n",
    "# 4. Write a script that generates random activities for 4 participants and of type \"recreational\"\n",
    "# 5. Write a script that generates random activities for 2 participants and that does not require equipment\n",
    "def get_random_activity():\n",
    "    response = requests.get(\"https://www.boredapi.com/api/activity\")\n",
    "    data = response.json()\n",
    "    return data['activity']\n",
    "\n",
    "activity = get_random_activity()\n",
    "print(f\"Random activity: {activity}\")\n",
    "\n"
   ]
  },
  {
   "cell_type": "code",
   "execution_count": 21,
   "metadata": {},
   "outputs": [
    {
     "name": "stdout",
     "output_type": "stream",
     "text": [
      "Activity for 4 participants: Go see a Broadway production\n"
     ]
    }
   ],
   "source": [
    "def get_activity_for_participants(participants=4):\n",
    "    response = requests.get(f\"https://www.boredapi.com/api/activity?participants={participants}\")\n",
    "    data = response.json()\n",
    "    return data['activity']\n",
    "\n",
    "activity = get_activity_for_participants(4)\n",
    "print(f\"Activity for 4 participants: {activity}\")"
   ]
  },
  {
   "cell_type": "code",
   "execution_count": 22,
   "metadata": {},
   "outputs": [
    {
     "name": "stdout",
     "output_type": "stream",
     "text": [
      "Recreational activity for 4 participants: Go see a Broadway production\n"
     ]
    }
   ],
   "source": [
    "def get_specific_activity(participants=4, type='recreational'):\n",
    "    response = requests.get(f\"https://www.boredapi.com/api/activity?participants={participants}&type={type}\")\n",
    "    data = response.json()\n",
    "    return data['activity']\n",
    "\n",
    "activity = get_specific_activity(4, 'recreational')\n",
    "print(f\"Recreational activity for 4 participants: {activity}\")"
   ]
  },
  {
   "cell_type": "code",
   "execution_count": 23,
   "metadata": {},
   "outputs": [
    {
     "name": "stdout",
     "output_type": "stream",
     "text": [
      "Activity for 2 participants: Cook something together with someone\n"
     ]
    }
   ],
   "source": [
    "def get_activity_for_two(participants=2):\n",
    "    response = requests.get(f\"https://www.boredapi.com/api/activity?participants={participants}\")\n",
    "    data = response.json()\n",
    "    return data['activity']\n",
    "\n",
    "activity = get_activity_for_two(2)\n",
    "print(f\"Activity for 2 participants: {activity}\")"
   ]
  },
  {
   "cell_type": "markdown",
   "metadata": {},
   "source": [
    "## Intermediate exercises"
   ]
  },
  {
   "cell_type": "code",
   "execution_count": 26,
   "metadata": {},
   "outputs": [
    {
     "name": "stdout",
     "output_type": "stream",
     "text": [
      "{'id': 'nfk', 'name': 'Norfolk', 'name_slug': 'norfolk', 'places_in_county': [{'id': 42436}, {'id': 36971}, {'id': 53111}, {'id': 7686}, {'id': 8871}, {'id': 10896}, {'id': 11006}, {'id': 12956}, {'id': 13536}, {'id': 25826}, {'id': 49531}, {'id': 30056}, {'id': 38891}, {'id': 39241}, {'id': 43766}, {'id': 11681}, {'id': 49891}, {'id': 11686}, {'id': 57356}, {'id': 60126}, {'id': 63096}, {'id': 71781}, {'id': 53001}, {'id': 3896}, {'id': 4381}, {'id': 10661}, {'id': 11766}, {'id': 11786}, {'id': 16811}, {'id': 21636}, {'id': 51326}, {'id': 52951}, {'id': 53236}, {'id': 30881}, {'id': 31096}, {'id': 33581}, {'id': 46316}, {'id': 55406}, {'id': 51331}, {'id': 61281}, {'id': 61696}, {'id': 61701}, {'id': 61926}, {'id': 64156}, {'id': 4786}, {'id': 5651}, {'id': 6561}, {'id': 8396}, {'id': 18666}, {'id': 20081}, {'id': 20936}, {'id': 24906}, {'id': 25281}, {'id': 25406}, {'id': 31761}, {'id': 41496}, {'id': 55893}, {'id': 47646}, {'id': 52841}, {'id': 53016}, {'id': 53301}, {'id': 55551}, {'id': 55891}, {'id': 63136}, {'id': 56851}, {'id': 57256}, {'id': 59196}, {'id': 59671}, {'id': 59786}, {'id': 63216}, {'id': 64286}, {'id': 64546}, {'id': 66391}, {'id': 66886}, {'id': 68526}, {'id': 9911}, {'id': 20121}, {'id': 70906}, {'id': 72771}, {'id': 776}, {'id': 22981}, {'id': 26746}, {'id': 28281}, {'id': 28511}, {'id': 30781}, {'id': 34586}, {'id': 36571}, {'id': 44686}, {'id': 46331}, {'id': 51211}, {'id': 59001}, {'id': 63436}, {'id': 63501}, {'id': 64146}, {'id': 64471}, {'id': 69356}, {'id': 62791}, {'id': 2926}, {'id': 8696}, {'id': 13101}, {'id': 25456}, {'id': 25971}, {'id': 26226}, {'id': 28471}, {'id': 29296}, {'id': 29436}, {'id': 31056}, {'id': 33836}, {'id': 35821}, {'id': 42816}, {'id': 63026}, {'id': 44266}, {'id': 54241}, {'id': 55231}, {'id': 59896}, {'id': 61016}, {'id': 61386}, {'id': 61656}, {'id': 62061}, {'id': 63646}, {'id': 9736}, {'id': 11916}, {'id': 20241}, {'id': 24811}, {'id': 25846}, {'id': 26821}, {'id': 47431}, {'id': 52861}, {'id': 55146}, {'id': 55531}, {'id': 62121}, {'id': 63076}, {'id': 64041}, {'id': 66501}, {'id': 67811}, {'id': 71056}, {'id': 4926}, {'id': 7091}, {'id': 7096}, {'id': 9321}, {'id': 20541}, {'id': 25921}, {'id': 7086}, {'id': 55446}, {'id': 57276}, {'id': 58036}, {'id': 63986}, {'id': 52316}, {'id': 666}, {'id': 6881}, {'id': 10296}, {'id': 20056}, {'id': 21846}, {'id': 29606}, {'id': 50431}, {'id': 51406}, {'id': 53056}, {'id': 54771}, {'id': 55856}, {'id': 58456}, {'id': 62776}, {'id': 12531}, {'id': 24871}, {'id': 31351}, {'id': 42101}, {'id': 47246}, {'id': 53031}, {'id': 54406}, {'id': 59426}, {'id': 63281}, {'id': 73586}, {'id': 5246}, {'id': 5466}, {'id': 6886}, {'id': 7061}, {'id': 9341}, {'id': 12371}, {'id': 23156}, {'id': 25591}, {'id': 25661}, {'id': 71561}, {'id': 28026}, {'id': 28061}, {'id': 28171}, {'id': 28231}, {'id': 30356}, {'id': 30916}, {'id': 31971}, {'id': 35686}, {'id': 40826}, {'id': 51506}, {'id': 51886}, {'id': 53591}, {'id': 57421}, {'id': 58861}, {'id': 60986}, {'id': 63526}, {'id': 63596}, {'id': 65751}, {'id': 68976}, {'id': 69906}, {'id': 19471}, {'id': 46336}, {'id': 1901}, {'id': 4166}, {'id': 4491}, {'id': 5241}, {'id': 6626}, {'id': 8621}, {'id': 9361}, {'id': 13096}, {'id': 16946}, {'id': 17776}, {'id': 18946}, {'id': 20086}, {'id': 21736}, {'id': 22061}, {'id': 28226}, {'id': 31991}, {'id': 32891}, {'id': 62916}, {'id': 36151}, {'id': 41606}, {'id': 44006}, {'id': 53026}, {'id': 64061}, {'id': 68121}, {'id': 70146}, {'id': 73041}, {'id': 73391}, {'id': 1771}, {'id': 1971}, {'id': 70046}, {'id': 3641}, {'id': 5261}, {'id': 181}, {'id': 52081}, {'id': 15951}, {'id': 17331}, {'id': 20146}, {'id': 67106}, {'id': 70941}, {'id': 25196}, {'id': 26566}, {'id': 62871}, {'id': 26591}, {'id': 26976}, {'id': 42006}, {'id': 27856}, {'id': 29696}, {'id': 31866}, {'id': 35131}, {'id': 40836}, {'id': 39096}, {'id': 42821}, {'id': 43446}, {'id': 72656}, {'id': 53021}, {'id': 48786}, {'id': 52866}, {'id': 53846}, {'id': 56806}, {'id': 61911}, {'id': 66926}, {'id': 66971}, {'id': 68221}, {'id': 6921}, {'id': 45706}, {'id': 67176}, {'id': 70946}, {'id': 70256}, {'id': 956}, {'id': 11796}, {'id': 11801}, {'id': 16241}, {'id': 18986}, {'id': 4681}, {'id': 24181}, {'id': 26191}, {'id': 35806}, {'id': 53241}, {'id': 56866}, {'id': 18501}, {'id': 4686}, {'id': 48771}, {'id': 54066}, {'id': 54466}, {'id': 18503}, {'id': 58791}, {'id': 63221}, {'id': 67736}, {'id': 11016}, {'id': 16971}, {'id': 18406}, {'id': 18991}, {'id': 24691}, {'id': 32251}, {'id': 34476}, {'id': 40821}, {'id': 42686}, {'id': 44421}, {'id': 46081}, {'id': 47531}, {'id': 52076}, {'id': 53871}, {'id': 57991}, {'id': 60233}, {'id': 68086}, {'id': 64161}, {'id': 70846}, {'id': 4066}, {'id': 46201}, {'id': 29626}, {'id': 26406}, {'id': 26491}, {'id': 56731}, {'id': 35596}, {'id': 56741}, {'id': 40126}, {'id': 40128}, {'id': 50736}, {'id': 51756}, {'id': 70011}, {'id': 70006}, {'id': 10891}, {'id': 13451}, {'id': 53186}, {'id': 22361}, {'id': 29291}, {'id': 31071}, {'id': 31611}, {'id': 33331}, {'id': 34806}, {'id': 38866}, {'id': 40446}, {'id': 48101}, {'id': 30826}, {'id': 57831}, {'id': 60616}, {'id': 66691}, {'id': 67891}, {'id': 69486}, {'id': 20446}, {'id': 24026}, {'id': 1281}, {'id': 2151}, {'id': 6231}, {'id': 7376}, {'id': 9151}, {'id': 10581}, {'id': 12541}, {'id': 25706}, {'id': 27736}, {'id': 32781}, {'id': 33726}, {'id': 73776}, {'id': 36561}, {'id': 45401}, {'id': 55853}, {'id': 49781}, {'id': 52226}, {'id': 54071}, {'id': 55851}, {'id': 60516}, {'id': 65346}, {'id': 67666}, {'id': 69766}, {'id': 73771}, {'id': 3991}, {'id': 5276}, {'id': 7486}, {'id': 7891}, {'id': 10056}, {'id': 10086}, {'id': 10111}, {'id': 16021}, {'id': 22516}, {'id': 26851}, {'id': 28116}, {'id': 31076}, {'id': 32716}, {'id': 34186}, {'id': 35396}, {'id': 37566}, {'id': 38921}, {'id': 42381}, {'id': 44016}, {'id': 44996}, {'id': 54996}, {'id': 59031}, {'id': 61031}, {'id': 62386}, {'id': 69211}, {'id': 71821}, {'id': 8816}, {'id': 16901}, {'id': 18671}, {'id': 21556}, {'id': 21821}, {'id': 13091}, {'id': 22211}, {'id': 25241}, {'id': 42386}, {'id': 30821}, {'id': 31471}, {'id': 31476}, {'id': 34971}, {'id': 35606}, {'id': 35751}, {'id': 35776}, {'id': 37271}, {'id': 42396}, {'id': 41181}, {'id': 41571}, {'id': 44366}, {'id': 44771}, {'id': 45546}, {'id': 50971}, {'id': 59231}, {'id': 60931}, {'id': 61041}, {'id': 66961}, {'id': 73106}, {'id': 43066}, {'id': 5766}, {'id': 7341}, {'id': 39061}, {'id': 26516}, {'id': 27086}, {'id': 21411}, {'id': 25786}, {'id': 27751}, {'id': 32306}, {'id': 33276}, {'id': 35531}, {'id': 36551}, {'id': 36826}, {'id': 39451}, {'id': 40011}, {'id': 43086}, {'id': 23046}, {'id': 47971}, {'id': 48331}, {'id': 52686}, {'id': 54186}, {'id': 57976}, {'id': 60611}, {'id': 61026}, {'id': 64026}, {'id': 67951}, {'id': 68271}, {'id': 68416}, {'id': 69536}, {'id': 721}, {'id': 996}, {'id': 2006}, {'id': 2516}, {'id': 5606}, {'id': 9421}, {'id': 10626}, {'id': 13106}, {'id': 14431}, {'id': 15776}, {'id': 20481}, {'id': 29396}, {'id': 30796}, {'id': 30906}, {'id': 34876}, {'id': 36816}, {'id': 37556}, {'id': 37621}, {'id': 39821}, {'id': 44426}, {'id': 49336}, {'id': 54651}, {'id': 56246}, {'id': 63601}, {'id': 64311}, {'id': 72301}, {'id': 27266}, {'id': 5011}, {'id': 12746}, {'id': 18411}, {'id': 20116}, {'id': 65421}, {'id': 25231}, {'id': 26481}, {'id': 32216}, {'id': 38946}, {'id': 41246}, {'id': 42071}, {'id': 65426}, {'id': 46776}, {'id': 51621}, {'id': 55566}, {'id': 11586}, {'id': 61061}, {'id': 62736}, {'id': 63616}, {'id': 68716}, {'id': 69491}, {'id': 52086}, {'id': 73681}, {'id': 736}, {'id': 1856}, {'id': 3566}, {'id': 5746}, {'id': 6421}, {'id': 5501}, {'id': 24621}, {'id': 26761}, {'id': 27746}, {'id': 28126}, {'id': 29276}, {'id': 33536}, {'id': 36906}, {'id': 42696}, {'id': 44416}, {'id': 4516}, {'id': 46061}, {'id': 47696}, {'id': 49526}, {'id': 51571}, {'id': 52706}, {'id': 53041}, {'id': 53641}, {'id': 55431}, {'id': 55561}, {'id': 56086}, {'id': 57311}, {'id': 60411}, {'id': 60531}, {'id': 63001}, {'id': 63421}, {'id': 65361}, {'id': 4476}, {'id': 7011}, {'id': 62841}, {'id': 22761}, {'id': 19461}, {'id': 66966}, {'id': 56856}, {'id': 66963}, {'id': 31986}, {'id': 32466}, {'id': 33641}, {'id': 44471}, {'id': 66968}, {'id': 50636}, {'id': 58816}, {'id': 63561}, {'id': 67426}, {'id': 68321}, {'id': 70321}, {'id': 46346}, {'id': 64376}, {'id': 2446}, {'id': 3311}, {'id': 3686}, {'id': 6436}, {'id': 9751}, {'id': 9876}, {'id': 11011}, {'id': 22356}, {'id': 22986}, {'id': 29556}, {'id': 32226}, {'id': 34671}, {'id': 36121}, {'id': 37861}, {'id': 32231}, {'id': 3312}, {'id': 73131}, {'id': 52221}, {'id': 52681}, {'id': 55941}, {'id': 56801}, {'id': 70391}, {'id': 73126}, {'id': 27016}, {'id': 30621}, {'id': 32641}, {'id': 34086}, {'id': 34886}, {'id': 51931}, {'id': 54631}, {'id': 62531}, {'id': 696}, {'id': 3571}, {'id': 62801}, {'id': 4076}, {'id': 5811}, {'id': 7636}, {'id': 8176}, {'id': 9236}, {'id': 11571}, {'id': 12331}, {'id': 12736}, {'id': 13661}, {'id': 16661}, {'id': 16941}, {'id': 17666}, {'id': 18276}, {'id': 19316}, {'id': 22066}, {'id': 23541}, {'id': 30316}, {'id': 31511}, {'id': 34926}, {'id': 35066}, {'id': 35196}, {'id': 37291}, {'id': 4511}, {'id': 41211}, {'id': 41671}, {'id': 42036}, {'id': 44046}, {'id': 47601}, {'id': 47941}, {'id': 51996}, {'id': 54101}, {'id': 54381}, {'id': 56381}, {'id': 59901}, {'id': 61021}, {'id': 63621}, {'id': 65636}, {'id': 5506}, {'id': 70151}, {'id': 71966}, {'id': 7921}, {'id': 12616}, {'id': 16026}, {'id': 16016}, {'id': 20276}, {'id': 8861}, {'id': 25586}, {'id': 27186}, {'id': 18581}, {'id': 31726}, {'id': 32626}, {'id': 33626}, {'id': 37531}, {'id': 18586}, {'id': 44676}, {'id': 44681}, {'id': 44816}, {'id': 45396}, {'id': 49066}, {'id': 49068}, {'id': 47871}, {'id': 48086}, {'id': 186}, {'id': 57536}, {'id': 60901}, {'id': 39028}, {'id': 3316}, {'id': 5751}, {'id': 13541}, {'id': 18871}, {'id': 21101}, {'id': 24671}, {'id': 25876}, {'id': 28441}, {'id': 30896}, {'id': 33351}, {'id': 33361}, {'id': 33401}, {'id': 42151}, {'id': 50791}, {'id': 57516}, {'id': 57596}, {'id': 58106}, {'id': 61736}, {'id': 73211}, {'id': 39681}, {'id': 62146}, {'id': 3701}, {'id': 4891}, {'id': 5756}, {'id': 15661}, {'id': 18876}, {'id': 20301}, {'id': 24646}, {'id': 32886}, {'id': 33256}, {'id': 33691}, {'id': 44801}, {'id': 66951}, {'id': 48281}, {'id': 51786}, {'id': 53196}, {'id': 56576}, {'id': 56601}, {'id': 60911}, {'id': 65536}, {'id': 69136}, {'id': 71776}, {'id': 72851}, {'id': 166}, {'id': 5796}, {'id': 25026}, {'id': 28731}, {'id': 30991}, {'id': 44261}, {'id': 48186}, {'id': 51086}, {'id': 51496}, {'id': 66956}, {'id': 65496}, {'id': 66281}, {'id': 70141}, {'id': 5056}, {'id': 5431}, {'id': 2631}, {'id': 9626}, {'id': 13021}, {'id': 13421}, {'id': 27946}, {'id': 22991}, {'id': 42631}, {'id': 48181}, {'id': 52231}, {'id': 53346}, {'id': 54386}, {'id': 59676}, {'id': 62266}, {'id': 63276}, {'id': 64561}, {'id': 67851}, {'id': 13026}, {'id': 2451}, {'id': 5051}, {'id': 6916}, {'id': 11581}, {'id': 16226}, {'id': 57106}, {'id': 31106}, {'id': 41841}, {'id': 44851}, {'id': 46731}, {'id': 51566}, {'id': 52386}, {'id': 54276}, {'id': 63511}, {'id': 71421}, {'id': 37866}, {'id': 61901}, {'id': 63416}]}\n"
     ]
    }
   ],
   "source": [
    "# OpenDomesday\n",
    "# https://opendomesday.org/api/\n",
    "\n",
    "# Exercise 1\n",
    "# Write a script that displays all the counties  \n",
    "# using the OpenDomesday API.\n",
    "\n",
    "def get_counties():\n",
    "    # Assuming the API has an endpoint for fetching counties\n",
    "    response = requests.get(\"http://opendomesday.org/api/1.0/county/nfk\")\n",
    "    if response.status_code == 200:\n",
    "        # Assuming the API returns a JSON response with a list of counties\n",
    "        counties = response.json()\n",
    "        return counties\n",
    "    else:\n",
    "        return \"Failed to retrieve data\"\n",
    "\n",
    "counties = get_counties()\n",
    "if isinstance(counties, list):\n",
    "    for county in counties:\n",
    "        print(county)  # Adjust based on the actual structure of the response\n",
    "else:\n",
    "    print(counties)"
   ]
  },
  {
   "cell_type": "code",
   "execution_count": 38,
   "metadata": {},
   "outputs": [
    {
     "name": "stdout",
     "output_type": "stream",
     "text": [
      "Failed to retrieve information for Derbyshire.\n"
     ]
    }
   ],
   "source": [
    "# Exercise 2\n",
    "# Write a script that displays the information\n",
    "# of the county \"Derbyshire\".\n",
    "def get_county_info(county_name):\n",
    "    # Replace the URL with the correct endpoint as per the OpenDomesday API documentation\n",
    "    url = f\"http://opendomesday.org/api/1.0/county/nfk{county_name}\"\n",
    "    response = requests.get(url)\n",
    "    \n",
    "    if response.status_code == 200:\n",
    "        return response.json()\n",
    "    else:\n",
    "        return None\n",
    "\n",
    "# Specify the county name you're interested in\n",
    "county_name = \"Derbyshire\"\n",
    "\n",
    "# Fetch county information\n",
    "county_info = get_county_info(county_name)\n",
    "\n",
    "if county_info:\n",
    "    # Assuming the API returns detailed information, print or process it as needed\n",
    "    print(f\"Information for {county_name}:\")\n",
    "    print(county_info)\n",
    "else:\n",
    "    print(f\"Failed to retrieve information for {county_name}.\")"
   ]
  },
  {
   "cell_type": "code",
   "execution_count": null,
   "metadata": {},
   "outputs": [],
   "source": [
    "# Exercise 3\n",
    "# Now that we have the ids for all the places in Derbyshire, we can load all their details...\n",
    "# And from their details, we can list all the details of their manors.\n",
    "# Go fetch the data!\n",
    "# P.S.: remember to save the data to avoid downloading it every time\n",
    "\n",
    "\n"
   ]
  },
  {
   "cell_type": "code",
   "execution_count": null,
   "metadata": {},
   "outputs": [],
   "source": [
    "# Exercise 4\n",
    "# Now that we have a quantity of raw data, we will extract the interesting parts.  \n",
    "# In our case, we want to count the money paid by each manor and compare it to the number of ploughs it has.  \n",
    "# - Can you find the corresponding json fields?  \n",
    "# - Then, you can list these numbers for each manor in Derbyshire.  \n",
    "# - And format this in an appropriate comma-separated values (CSV) file.\n",
    "\n",
    "#######################################################\n",
    "################## YOUR ANSWER HERE ##################\n",
    "#######################################################\n",
    "\n"
   ]
  },
  {
   "cell_type": "code",
   "execution_count": null,
   "metadata": {},
   "outputs": [],
   "source": [
    "# Exercise 5\n",
    "# What is the richest manor in Derbyshire?\n",
    "\n",
    "#######################################################\n",
    "################## YOUR ANSWER HERE ##################\n",
    "#######################################################\n"
   ]
  },
  {
   "cell_type": "code",
   "execution_count": null,
   "metadata": {},
   "outputs": [],
   "source": [
    "# Exercise 6\n",
    "# Give the total value paid by Derbyshire.\n",
    "\n",
    "#######################################################\n",
    "################## YOUR ANSWER HERE ##################\n",
    "#######################################################\n"
   ]
  },
  {
   "cell_type": "code",
   "execution_count": null,
   "metadata": {},
   "outputs": [],
   "source": [
    "# Exercise 7\n",
    "# Create a Python class.  \n",
    "# It must include all the previous functionalities.  \n",
    "# Refactor your code to make it readable, efficient, and maintainable.\n",
    "\n",
    "#######################################################\n",
    "################## YOUR ANSWER HERE ##################\n",
    "#######################################################\n"
   ]
  },
  {
   "cell_type": "code",
   "execution_count": null,
   "metadata": {},
   "outputs": [],
   "source": [
    "# Exercise 8 (optional)\n",
    "# Add to your class a system for error handling.  \n",
    "# It must manage the following errors:  \n",
    "# - Connection error  \n",
    "# - Parsing error  \n",
    "# - Request error  \n",
    "# - Response error  \n",
    "# - Parameter error\n",
    "\n",
    "#######################################################\n",
    "################## YOUR ANSWER HERE ##################\n",
    "#######################################################\n",
    "\n"
   ]
  }
 ],
 "metadata": {
  "kernelspec": {
   "display_name": "api",
   "language": "python",
   "name": "python3"
  },
  "language_info": {
   "codemirror_mode": {
    "name": "ipython",
    "version": 3
   },
   "file_extension": ".py",
   "mimetype": "text/x-python",
   "name": "python",
   "nbconvert_exporter": "python",
   "pygments_lexer": "ipython3",
   "version": "3.11.8"
  }
 },
 "nbformat": 4,
 "nbformat_minor": 2
}

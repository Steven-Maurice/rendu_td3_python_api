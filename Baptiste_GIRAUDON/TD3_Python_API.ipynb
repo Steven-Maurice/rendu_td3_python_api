{
  "cells": [
    {
      "cell_type": "markdown",
      "metadata": {
        "id": "wLrWqtC8xTd3"
      },
      "source": [
        "# Python with APIs\n",
        "Exchanges via HTTP using `requests` package"
      ]
    },
    {
      "cell_type": "code",
      "execution_count": 27,
      "metadata": {
        "id": "F0owq5jMxTd5"
      },
      "outputs": [],
      "source": [
        "import requests"
      ]
    },
    {
      "cell_type": "markdown",
      "metadata": {
        "id": "5vrzoUM7xTd6"
      },
      "source": [
        "## Example"
      ]
    },
    {
      "cell_type": "markdown",
      "metadata": {
        "id": "mt9yJ3IfxTd6"
      },
      "source": [
        "### Agify API"
      ]
    },
    {
      "cell_type": "markdown",
      "metadata": {
        "id": "nC29gff6xTd7"
      },
      "source": [
        "Example route for Agify API"
      ]
    },
    {
      "cell_type": "code",
      "execution_count": 28,
      "metadata": {
        "id": "CAamHnqkxTd7"
      },
      "outputs": [],
      "source": [
        "agify_dan = \"https://api.agify.io/?name=dan\""
      ]
    },
    {
      "cell_type": "markdown",
      "metadata": {
        "id": "vsGUN-3JxTd7"
      },
      "source": [
        "Extract response"
      ]
    },
    {
      "cell_type": "code",
      "execution_count": 29,
      "metadata": {
        "colab": {
          "base_uri": "https://localhost:8080/",
          "height": 0
        },
        "id": "JLnADijoxTd7",
        "outputId": "44d396ba-99dc-4e60-9140-2a87e598f227"
      },
      "outputs": [
        {
          "output_type": "stream",
          "name": "stdout",
          "text": [
            "Answer status_code: <Response [200]>\n",
            "<class 'str'>\n",
            "<class 'dict'>\n",
            "{\"count\":67782,\"name\":\"dan\",\"age\":66}\n",
            "{'count': 67782, 'name': 'dan', 'age': 66}\n"
          ]
        }
      ],
      "source": [
        "# Run a GET request\n",
        "agify_answer = requests.get(agify_dan)\n",
        "agify_answer_txt = agify_answer.text\n",
        "agify_answer_json = agify_answer.json()\n",
        "\n",
        "print(f\"Answer status_code: {agify_answer}\")\n",
        "\n",
        "print(type(agify_answer_txt))\n",
        "print(type(agify_answer_json))\n",
        "\n",
        "print(agify_answer_txt)\n",
        "print(agify_answer_json)"
      ]
    },
    {
      "cell_type": "markdown",
      "metadata": {
        "id": "z4xovU7ixTd8"
      },
      "source": [
        "## Introductory Exercises"
      ]
    },
    {
      "cell_type": "code",
      "execution_count": 30,
      "metadata": {
        "colab": {
          "base_uri": "https://localhost:8080/",
          "height": 0
        },
        "id": "GVM0ecY4xTd8",
        "outputId": "aa5a679f-8e1e-480c-da30-9474a5bd8802"
      },
      "outputs": [
        {
          "output_type": "stream",
          "name": "stdout",
          "text": [
            "Please enter your first name: Baptiste\n",
            "Bonjour, Baptiste! Nous pensons que vous êtes aux alentours de 35 ans.\n"
          ]
        }
      ],
      "source": [
        "# Exercise 1\n",
        "# Write a script that asks the user for their first name\n",
        "# and responds with a personalized message\n",
        "# using the agify API\n",
        "\n",
        "# https://api.agify.io/?name=YOUR_NAME\n",
        "# Example response: {\"name\":\"YOUR_NAME\",\"age\":30,\"count\":12345}\n",
        "\n",
        "user_name = input(\"Please enter your first name: \")\n",
        "api_url = f\"https://api.agify.io/?name={user_name}\"\n",
        "response = requests.get(api_url)\n",
        "\n",
        "if response.status_code == 200:\n",
        "    data = response.json()\n",
        "\n",
        "    age = data['age']\n",
        "\n",
        "    print(f\"Bonjour, {user_name}! Nous pensons que vous êtes aux alentours de {age} ans.\")\n",
        "else:\n",
        "    print(\"Pas réussi à établir connexion\")\n"
      ]
    },
    {
      "cell_type": "code",
      "execution_count": 31,
      "metadata": {
        "colab": {
          "base_uri": "https://localhost:8080/",
          "height": 0
        },
        "id": "cWNWtNqWxTd8",
        "outputId": "b07ec595-c04f-428b-a505-8ba937fe7f7a"
      },
      "outputs": [
        {
          "output_type": "stream",
          "name": "stdout",
          "text": [
            "Please enter your first name: Baptiste\n",
            "Bonjour, Baptiste! D'après votre nom, nous pensons que vous vous identifiez comme male.\n"
          ]
        }
      ],
      "source": [
        "# Exercise 2\n",
        "# Write a script that asks the user for their first name\n",
        "# and responds with a personalized message\n",
        "# using the genderize API\n",
        "# https://api.genderize.io/?name=YOUR_NAME\n",
        "\n",
        "user_name = input(\"Please enter your first name: \")\n",
        "api_url = f\"https://api.genderize.io/?name={user_name}\"\n",
        "response = requests.get(api_url)\n",
        "\n",
        "if response.status_code == 200:\n",
        "    data = response.json()\n",
        "    gender = data['gender']\n",
        "\n",
        "    if gender:\n",
        "        print(f\"Bonjour, {user_name}! D'après votre nom, nous pensons que vous vous identifiez comme {gender}.\")\n",
        "    else:\n",
        "        print(f\"Bonjour, {user_name}! Nous n'arrivons pas à deviner votre sexe à partir de votre nom.\")\n",
        "else:\n",
        "    print(\"Pas réussi à établir connexion\")\n",
        "\n"
      ]
    },
    {
      "cell_type": "code",
      "execution_count": 32,
      "metadata": {
        "colab": {
          "base_uri": "https://localhost:8080/",
          "height": 0
        },
        "id": "113Atx89xTd8",
        "outputId": "41ad0199-a224-4d0d-aa98-deaa3f5c3677"
      },
      "outputs": [
        {
          "output_type": "stream",
          "name": "stdout",
          "text": [
            "Please enter your first name: Baptiste\n",
            "Bonjour, Baptiste! D'après votre nom, nous pensons que vous êtes originaire de HT.\n"
          ]
        }
      ],
      "source": [
        "# Exercise 3\n",
        "# Write a script that asks the user for their first name\n",
        "# and responds with a personalized message\n",
        "# using the nationalize API\n",
        "# https://api.nationalize.io/?name=YOUR_NAME\n",
        "\n",
        "user_name = input(\"Please enter your first name: \")\n",
        "api_url = f\"https://api.nationalize.io/?name={user_name}\"\n",
        "response = requests.get(api_url)\n",
        "\n",
        "if response.status_code == 200:\n",
        "    data = response.json()\n",
        "\n",
        "    if data['country']:\n",
        "        donnees = data['country']\n",
        "        pays_prob = donnees[0]['country_id']\n",
        "\n",
        "        print(f\"Bonjour, {user_name}! D'après votre nom, nous pensons que vous êtes originaire de {pays_prob}.\")\n",
        "    else:\n",
        "        print(f\"Bonjour, {user_name}! Nous n'arrivons pas à déterminer votre origine selon votre nom.\")\n",
        "else:\n",
        "    print(\"Pas réussi à établir connexion\")\n",
        "\n"
      ]
    },
    {
      "cell_type": "code",
      "execution_count": 33,
      "metadata": {
        "colab": {
          "base_uri": "https://localhost:8080/",
          "height": 0
        },
        "id": "kB-wuGwnxTd8",
        "outputId": "28c31de6-f04c-4766-f1fc-f4207675796e"
      },
      "outputs": [
        {
          "output_type": "stream",
          "name": "stdout",
          "text": [
            "Please enter your first name:  Baptiste\n",
            "Bonjour,  Baptiste! Nous n'arrivons pas à déterminer votre origine selon votre nom.\n"
          ]
        }
      ],
      "source": [
        "# Exercise 3.1\n",
        "# Parsing the response from the nationalize API\n",
        "# Get the most probable country and its percentage\n",
        "# Example response: {\"name\":\"YOUR_NAME\",\"country\":[{\"country_id\":\"FR\",\"probability\":0.75},{\"country_id\":\"BE\",\"probability\":0.25}]}\n",
        "# Hint: use the max() function with a lambda function\n",
        "# https://docs.python.org/3/library/functions.html#max\n",
        "# https://docs.python.org/3/tutorial/controlflow.html#lambda-expressions\n",
        "\n",
        "user_name = input(\"Please enter your first name: \")\n",
        "api_url = f\"https://api.nationalize.io/?name={user_name}\"\n",
        "response = requests.get(api_url)\n",
        "\n",
        "if response.status_code == 200:\n",
        "    data = response.json()\n",
        "\n",
        "    if data['country']:\n",
        "        pays = max(data['country'], key=lambda x: x['probability'])\n",
        "        country_id = pays['country_id']\n",
        "        probability = pays['probability'] * 100  # Multiplie par 100 car sinon c'est entre 0 et 1\n",
        "\n",
        "        print(f\"Bonjour, {user_name}! D'après votre nom, il y a de fortes chances que vous soyez originaire de {country_id} avec une proba de {probability:.2f}%.\")\n",
        "    else:\n",
        "        print(f\"Bonjour, {user_name}! Nous n'arrivons pas à déterminer votre origine selon votre nom.\")\n",
        "else:\n",
        "    print(\"Désolé, nous n'avons pas pu récupérer les informations relatives à la nationalité pour le moment. Veuillez réessayer plus tard.\")\n",
        "\n"
      ]
    },
    {
      "cell_type": "code",
      "execution_count": 34,
      "metadata": {
        "colab": {
          "base_uri": "https://localhost:8080/",
          "height": 0
        },
        "id": "WaL9Djn8xTd8",
        "outputId": "6bfbf15f-f98c-49a9-bf18-2feb38c9772e"
      },
      "outputs": [
        {
          "output_type": "stream",
          "name": "stdout",
          "text": [
            "Random Activity: Take a caffeine nap\n",
            "Activity for 4 participants: Have a paper airplane contest with some friends\n",
            "Recreational activity for 4 participants: Go see a Broadway production\n",
            "Activity for 2 participants: Cook something together with someone\n"
          ]
        }
      ],
      "source": [
        "# Exercise 4\n",
        "# Use BoredAPI : https://www.boredapi.com/\n",
        "# Documentation : https://www.boredapi.com/documentation\n",
        "\n",
        "# 1. Write a script that generates random activities\n",
        "response = requests.get(\"https://www.boredapi.com/api/activity\")\n",
        "if response.status_code == 200:\n",
        "    activity = response.json().get('activity', 'No activity found.')\n",
        "    print(f\"Random Activity: {activity}\")\n",
        "else:\n",
        "    print(\"Failed to retrieve an activity.\")\n",
        "\n",
        "# 2. Write a script that generates random activities for 4 participants\n",
        "response = requests.get(f\"https://www.boredapi.com/api/activity?participants=4\")\n",
        "if response.status_code == 200:\n",
        "    activity = response.json().get('activity', 'No activity found.')\n",
        "    print(f\"Activity for 4 participants: {activity}\")\n",
        "else:\n",
        "    print(\"Failed to retrieve an activity.\")\n",
        "\n",
        "# 3. Write a script that generates random activities for 4 participants and of type \"recreational\"\n",
        "response = requests.get(f\"https://www.boredapi.com/api/activity?participants=4&type=recreational\")\n",
        "if response.status_code == 200:\n",
        "    activity = response.json().get('activity', 'No activity found.')\n",
        "    print(f\"Recreational activity for 4 participants: {activity}\")\n",
        "else:\n",
        "    print(\"Failed to retrieve an activity.\")\n",
        "\n",
        "# 4. Write a script that generates random activities for 2 participants and that does not require equipment\n",
        "response = requests.get(f\"https://www.boredapi.com/api/activity?participants=2\")\n",
        "if response.status_code == 200:\n",
        "    activity = response.json().get('activity', 'No activity found.')\n",
        "    print(f\"Activity for 2 participants: {activity}\")\n",
        "else:\n",
        "    print(\"Failed to retrieve an activity.\")\n",
        "\n",
        "\n"
      ]
    },
    {
      "cell_type": "markdown",
      "metadata": {
        "id": "3bXwEU6jxTd8"
      },
      "source": [
        "## Intermediate exercises"
      ]
    },
    {
      "cell_type": "code",
      "execution_count": 35,
      "metadata": {
        "id": "IiaL0TlnxTd9",
        "colab": {
          "base_uri": "https://localhost:8080/",
          "height": 0
        },
        "outputId": "e372e55e-0d49-48ff-abf6-c1c378179dd9"
      },
      "outputs": [
        {
          "output_type": "stream",
          "name": "stdout",
          "text": [
            "Failed to retrieve the counties. Please check the API endpoint and try again.\n"
          ]
        }
      ],
      "source": [
        "# OpenDomesday\n",
        "# https://opendomesday.org/api/\n",
        "\n",
        "# Exercise 1\n",
        "# Write a script that displays all the counties\n",
        "# using the OpenDomesday API.\n",
        "\n",
        "api_url = \"https://opendomesday.org/api/1.0/county/\"\n",
        "response = requests.get(api_url)\n",
        "\n",
        "if response.status_code == 200:\n",
        "    counties = response.json()\n",
        "\n",
        "    for county in counties:\n",
        "        print(county['name'])\n",
        "else:\n",
        "    print(\"Failed to retrieve the counties. Please check the API endpoint and try again.\")"
      ]
    },
    {
      "cell_type": "code",
      "execution_count": 36,
      "metadata": {
        "colab": {
          "base_uri": "https://localhost:8080/",
          "height": 0
        },
        "id": "IL4t-VtQxTd9",
        "outputId": "35bc5d2a-6d17-4958-cb98-815b82eb3532"
      },
      "outputs": [
        {
          "output_type": "stream",
          "name": "stdout",
          "text": [
            "Failed to retrieve the county information. Please check the API endpoint and try again.\n"
          ]
        }
      ],
      "source": [
        "# Exercise 2\n",
        "# Write a script that displays the information\n",
        "# of the county \"Derbyshire\".\n",
        "\n",
        "\n",
        "\n",
        "api_url = \"https://opendomesday.org/api/1.0/county/\"\n",
        "response = requests.get(api_url)\n",
        "\n",
        "if response.status_code == 200:\n",
        "    county_info = response.json()\n",
        "    for county in county_info:\n",
        "      if \"Derbyshire\".lower() == county.get('name','').lower():\n",
        "        if county:\n",
        "          print(county)\n",
        "else:\n",
        "    print(\"Failed to retrieve the county information. Please check the API endpoint and try again.\")\n"
      ]
    },
    {
      "cell_type": "code",
      "execution_count": 37,
      "metadata": {
        "id": "qDr9Xlt1xTd9",
        "colab": {
          "base_uri": "https://localhost:8080/",
          "height": 0
        },
        "outputId": "528eee49-fd80-431c-be36-cafb03844789"
      },
      "outputs": [
        {
          "output_type": "stream",
          "name": "stdout",
          "text": [
            "Failed to fetch places for Derbyshire.\n"
          ]
        }
      ],
      "source": [
        "# Exercise 3\n",
        "# Now that we have the ids for all the places in Derbyshire, we can load all their details...\n",
        "# And from their details, we can list all the details of their manors.\n",
        "# Go fetch the data!\n",
        "# P.S.: remember to save the data to avoid downloading it every time\n",
        "\n",
        "places_cache = {}\n",
        "response = requests.get(\"https://opendomesday.org/api/1.0/county/dby/\")\n",
        "\n",
        "if response.status_code == 200:\n",
        "    derbyshire_places = response.json()['places_in_county']\n",
        "\n",
        "    for place in derbyshire_places:\n",
        "        place_id = place['id']\n",
        "\n",
        "        if place_id not in places_cache:\n",
        "            place_response = requests.get(f\"https://opendomesday.org/api/1.0/place/{place_id}\")\n",
        "            if place_response.status_code == 200:\n",
        "                place_details = place_response.json()\n",
        "                places_cache[place_id] = place_details\n",
        "            else:\n",
        "                print(f\"Failed to fetch details for place ID: {place_id}\")\n",
        "                continue\n",
        "        else:\n",
        "            place_details = places_cache[place_id]\n",
        "\n",
        "        if 'manors' in place_details:\n",
        "            for manor in place_details['manors']:\n",
        "                print(f\"Manor details: {manor}\")\n",
        "else:\n",
        "    print(\"Failed to fetch places for Derbyshire.\")"
      ]
    },
    {
      "cell_type": "markdown",
      "source": [
        "On colle dans un fichier pour ne pas surcharger de requêtes l'API"
      ],
      "metadata": {
        "id": "afkK6YybDHGi"
      }
    },
    {
      "cell_type": "code",
      "source": [
        "places_cache = {}\n",
        "response = requests.get(\"https://opendomesday.org/api/1.0/county/dby/\")\n",
        "\n",
        "if response.status_code == 200:\n",
        "    derbyshire_places = response.json()['places_in_county']\n",
        "\n",
        "    with open(\"manor_details.txt\", \"w\") as file:\n",
        "        for place in derbyshire_places:\n",
        "            place_id = place['id']\n",
        "\n",
        "            if place_id not in places_cache:\n",
        "                place_response = requests.get(f\"https://opendomesday.org/api/1.0/place/{place_id}\")\n",
        "                if place_response.status_code == 200:\n",
        "                    place_details = place_response.json()\n",
        "                    places_cache[place_id] = place_details\n",
        "                else:\n",
        "                    print(f\"Failed to fetch details for place ID: {place_id}\")\n",
        "                    continue\n",
        "            else:\n",
        "                place_details = places_cache[place_id]\n",
        "\n",
        "            if 'manors' in place_details:\n",
        "                for manor in place_details['manors']:\n",
        "                    file.write(f\"Manor details: {manor}\\n\")\n",
        "                    print(f\"Manor details: {manor}\")\n",
        "else:\n",
        "    print(\"Failed to fetch places for Derbyshire.\")"
      ],
      "metadata": {
        "id": "lL_PUbGl92UC",
        "colab": {
          "base_uri": "https://localhost:8080/",
          "height": 0
        },
        "outputId": "0fad71dc-f2a0-4871-aed2-b0412fb3159f"
      },
      "execution_count": 38,
      "outputs": [
        {
          "output_type": "stream",
          "name": "stdout",
          "text": [
            "Failed to fetch places for Derbyshire.\n"
          ]
        }
      ]
    },
    {
      "cell_type": "code",
      "execution_count": 39,
      "metadata": {
        "id": "-u6v3ki-xTd9",
        "colab": {
          "base_uri": "https://localhost:8080/",
          "height": 0
        },
        "outputId": "3cf0089d-2a1d-41c2-c992-a1468dbf4530"
      },
      "outputs": [
        {
          "output_type": "stream",
          "name": "stdout",
          "text": [
            "Les données ont été sauvegardées dans /content/manor_details.csv\n"
          ]
        }
      ],
      "source": [
        "# Exercise 4\n",
        "# Now that we have a quantity of raw data, we will extract the interesting parts.\n",
        "# In our case, we want to count the money paid by each manor and compare it to the number of ploughs it has.\n",
        "# - Can you find the corresponding json fields?\n",
        "# - Then, you can list these numbers for each manor in Derbyshire.\n",
        "# - And format this in an appropriate comma-separated values (CSV) file.\n",
        "\n",
        "import csv\n",
        "import requests\n",
        "\n",
        "# Chemin du fichier CSV où sauvegarder les informations extraites\n",
        "csv_file_path = '/content/manor_details.csv'\n",
        "\n",
        "# Création et ouverture du fichier CSV pour l'écriture\n",
        "with open(csv_file_path, 'w', newline='') as csvfile:\n",
        "    # Définir les en-têtes de colonnes pour le fichier CSV\n",
        "    fieldnames = ['Manor Name', 'Price', 'Total Ploughs']\n",
        "    writer = csv.DictWriter(csvfile, fieldnames=fieldnames)\n",
        "\n",
        "    # Écrire l'en-tête du fichier CSV\n",
        "    writer.writeheader()\n",
        "\n",
        "    # Itération à travers chaque manoir dans le cache pour extraire les informations pertinentes\n",
        "    for place_id, place_details in places_cache.items():\n",
        "        if 'manors' in place_details:\n",
        "            for manor_reference in place_details['manors']:\n",
        "                manor_id = manor_reference['id']\n",
        "                manor_response = requests.get(f\"https://opendomesday.org/api/1.0/manor/{manor_id}\")\n",
        "                if manor_response.status_code == 200:\n",
        "                    manor_details = manor_response.json()\n",
        "                    manor_prix = manor_details.get('geld', 'Data Not Available')\n",
        "                    total_ploughs = manor_details.get('totalploughs', 'Data Not Available')\n",
        "                    manor_name = manor_details.get('id', 'Unknown Manor')\n",
        "\n",
        "                    writer.writerow({'Manor Name': manor_name, 'Price': manor_prix, 'Total Ploughs': total_ploughs})\n",
        "\n",
        "print(f\"Les données ont été sauvegardées dans {csv_file_path}\")\n"
      ]
    },
    {
      "cell_type": "markdown",
      "source": [
        "On n'est pas sur de la colonne prix car aucune n'est explicite dans la data, on décide donc de prendre value86"
      ],
      "metadata": {
        "id": "yeG6nlEaR7qP"
      }
    },
    {
      "cell_type": "code",
      "execution_count": 47,
      "metadata": {
        "id": "IQCQEcTXxTd9",
        "colab": {
          "base_uri": "https://localhost:8080/",
          "height": 0
        },
        "outputId": "ef106ace-899f-4f6b-8840-50f135a53ef4"
      },
      "outputs": [
        {
          "output_type": "stream",
          "name": "stdout",
          "text": [
            "Empty DataFrame\n",
            "Columns: [Manor Name,Price,Total Ploughs]\n",
            "Index: []\n"
          ]
        }
      ],
      "source": [
        "# Exercise 5\n",
        "# What is the richest manor in Derbyshire?\n",
        "\n",
        "import pandas as pd\n",
        "\n",
        "csv_file_path = '/content/manor_details.csv'\n",
        "\n",
        "df_manors = pd.read_csv(csv_file_path, sep = ';')\n",
        "print(df_manors.head(10))\n",
        "\n",
        "df_manors['Price'] = pd.to_numeric(df_manors['Price'], errors='coerce')\n",
        "df_manors.dropna(subset=['Price'], inplace=True)\n",
        "richest_manor_idx = df_manors['Price'].idxmax()\n",
        "richest_manor = df_manors.loc[richest_manor_idx]\n",
        "richest_manor_id = richest_manor['Manor Name']\n",
        "\n",
        "richest_manor_id\n",
        "\n"
      ]
    },
    {
      "cell_type": "code",
      "execution_count": null,
      "metadata": {
        "id": "5ZDPcldxxTd9"
      },
      "outputs": [],
      "source": [
        "# Exercise 6\n",
        "# Give the total value paid by Derbyshire.\n",
        "\n",
        "#######################################################\n",
        "################## YOUR ANSWER HERE ##################\n",
        "#######################################################\n"
      ]
    },
    {
      "cell_type": "code",
      "execution_count": null,
      "metadata": {
        "id": "ThBEO694xTd9"
      },
      "outputs": [],
      "source": [
        "# Exercise 7\n",
        "# Create a Python class.\n",
        "# It must include all the previous functionalities.\n",
        "# Refactor your code to make it readable, efficient, and maintainable.\n",
        "\n",
        "#######################################################\n",
        "################## YOUR ANSWER HERE ##################\n",
        "#######################################################\n"
      ]
    },
    {
      "cell_type": "code",
      "execution_count": null,
      "metadata": {
        "id": "lcM1UPwtxTd9"
      },
      "outputs": [],
      "source": [
        "# Exercise 8 (optional)\n",
        "# Add to your class a system for error handling.\n",
        "# It must manage the following errors:\n",
        "# - Connection error\n",
        "# - Parsing error\n",
        "# - Request error\n",
        "# - Response error\n",
        "# - Parameter error\n",
        "\n",
        "#######################################################\n",
        "################## YOUR ANSWER HERE ##################\n",
        "#######################################################\n",
        "\n"
      ]
    }
  ],
  "metadata": {
    "kernelspec": {
      "display_name": "api",
      "language": "python",
      "name": "python3"
    },
    "language_info": {
      "codemirror_mode": {
        "name": "ipython",
        "version": 3
      },
      "file_extension": ".py",
      "mimetype": "text/x-python",
      "name": "python",
      "nbconvert_exporter": "python",
      "pygments_lexer": "ipython3",
      "version": "3.11.6"
    },
    "colab": {
      "provenance": []
    }
  },
  "nbformat": 4,
  "nbformat_minor": 0
}
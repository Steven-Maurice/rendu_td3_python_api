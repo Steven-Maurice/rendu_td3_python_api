{
 "cells": [
  {
   "cell_type": "markdown",
   "metadata": {},
   "source": [
    "# Python with APIs\n",
    "Exchanges via HTTP using `requests` package"
   ]
  },
  {
   "cell_type": "code",
   "execution_count": 4,
   "metadata": {},
   "outputs": [],
   "source": [
    "import requests"
   ]
  },
  {
   "cell_type": "markdown",
   "metadata": {},
   "source": [
    "## Example"
   ]
  },
  {
   "cell_type": "markdown",
   "metadata": {},
   "source": [
    "### Agify API"
   ]
  },
  {
   "cell_type": "markdown",
   "metadata": {},
   "source": [
    "Example route for Agify API"
   ]
  },
  {
   "cell_type": "code",
   "execution_count": 5,
   "metadata": {},
   "outputs": [],
   "source": [
    "agify_dan = \"https://api.agify.io/?name=dan\""
   ]
  },
  {
   "cell_type": "markdown",
   "metadata": {},
   "source": [
    "Extract response"
   ]
  },
  {
   "cell_type": "code",
   "execution_count": 6,
   "metadata": {},
   "outputs": [
    {
     "name": "stdout",
     "output_type": "stream",
     "text": [
      "Answer status_code: <Response [429]>\n",
      "<class 'str'>\n",
      "<class 'dict'>\n",
      "{\"error\":\"Request limit reached\"}\n",
      "{'error': 'Request limit reached'}\n"
     ]
    }
   ],
   "source": [
    "# Run a GET request\n",
    "agify_answer = requests.get(agify_dan)\n",
    "agify_answer_txt = agify_answer.text\n",
    "agify_answer_json = agify_answer.json()\n",
    "\n",
    "print(f\"Answer status_code: {agify_answer}\")\n",
    "\n",
    "print(type(agify_answer_txt))\n",
    "print(type(agify_answer_json))\n",
    "\n",
    "print(agify_answer_txt)\n",
    "print(agify_answer_json)"
   ]
  },
  {
   "cell_type": "markdown",
   "metadata": {},
   "source": [
    "## Introductory Exercises"
   ]
  },
  {
   "cell_type": "code",
   "execution_count": 25,
   "metadata": {},
   "outputs": [
    {
     "name": "stdout",
     "output_type": "stream",
     "text": [
      "name: Martin\n",
      "name : Martin,age : 58,count : 176139\n"
     ]
    }
   ],
   "source": [
    "# Exercise 1\n",
    "# Write a script that asks the user for their first name\n",
    "# and responds with a personalized message\n",
    "# using the agify API\n",
    "\n",
    "# https://api.agify.io/?name=YOUR_NAME\n",
    "# Example response: {\"name\":\"YOUR_NAME\",\"age\":30,\"count\":12345}\n",
    "\n",
    "user_name = input(\"name: \")\n",
    "url = f\"https://api.agify.io/?name={user_name}\"\n",
    "response = requests.get(url)\n",
    "data = response.json()\n",
    "message = f\"name : {data['name']},age : {data['age']},count : {data['count']}\"\n",
    "print(message)\n",
    "\n",
    "\n",
    "#######################################################\n",
    "################## YOUR ANSWER HERE ##################\n",
    "#######################################################\n"
   ]
  },
  {
   "cell_type": "code",
   "execution_count": 26,
   "metadata": {},
   "outputs": [
    {
     "name": "stdout",
     "output_type": "stream",
     "text": [
      "name: Martin\n",
      "name : Martin,gender :  male\n"
     ]
    }
   ],
   "source": [
    "# Exercise 2\n",
    "# Write a script that asks the user for their first name\n",
    "# and responds with a personalized message\n",
    "# using the genderize API\n",
    "# https://api.genderize.io/?name=YOUR_NAME\n",
    "\n",
    "user_name = input(\"name: \")\n",
    "url = f\"https://api.genderize.io/?name={user_name}\"\n",
    "response = requests.get(url)\n",
    "data = response.json()\n",
    "message = f\"name : {data['name']},gender :  {data['gender']}\"\n",
    "print(message)\n",
    "\n",
    "\n",
    "#######################################################\n",
    "################## YOUR ANSWER HERE ##################\n",
    "#######################################################\n"
   ]
  },
  {
   "cell_type": "code",
   "execution_count": 27,
   "metadata": {},
   "outputs": [
    {
     "name": "stdout",
     "output_type": "stream",
     "text": [
      "name: Martin\n",
      "name : Martin,country :  [{'country_id': 'ES', 'probability': 0.10438387329399033}, {'country_id': 'FR', 'probability': 0.052466173584505095}, {'country_id': 'US', 'probability': 0.04500595202477232}, {'country_id': 'NZ', 'probability': 0.044665736852461446}, {'country_id': 'IE', 'probability': 0.04402662743130148}]\n"
     ]
    }
   ],
   "source": [
    "# Exercise 3\n",
    "# Write a script that asks the user for their first name\n",
    "# and responds with a personalized message\n",
    "# using the nationalize API\n",
    "# https://api.nationalize.io/?name=YOUR_NAME\n",
    "user_name = input(\"name: \")\n",
    "url = f\"https://api.nationalize.io/?name={user_name}\"\n",
    "response = requests.get(url)\n",
    "data = response.json()\n",
    "message = f\"name : {data['name']},country :  {data['country']}\"\n",
    "print(message)\n",
    "\n",
    "#######################################################\n",
    "################## YOUR ANSWER HERE ##################\n",
    "#######################################################\n"
   ]
  },
  {
   "cell_type": "code",
   "execution_count": 28,
   "metadata": {},
   "outputs": [
    {
     "name": "stdout",
     "output_type": "stream",
     "text": [
      "name: Martin\n",
      "Name: Martin, Country: ES (probability: 0.10438387329399033), FR (probability: 0.052466173584505095), US (probability: 0.04500595202477232), NZ (probability: 0.044665736852461446), IE (probability: 0.04402662743130148)\n"
     ]
    }
   ],
   "source": [
    "# Exercise 3.1\n",
    "# Parsing the response from the nationalize API\n",
    "# Get the most probable country and its percentage\n",
    "# Example response: {\"name\":\"YOUR_NAME\",\"country\":[{\"country_id\":\"FR\",\"probability\":0.75},{\"country_id\":\"BE\",\"probability\":0.25}]}\n",
    "# Hint: use the max() function with a lambda function\n",
    "# https://docs.python.org/3/library/functions.html#max\n",
    "# https://docs.python.org/3/tutorial/controlflow.html#lambda-expressions\n",
    "\n",
    "#######################################################\n",
    "################## YOUR ANSWER HERE ##################\n",
    "#######################################################\n",
    "user_name = input(\"name: \")\n",
    "url = f\"https://api.nationalize.io/?name={user_name}\"\n",
    "response = requests.get(url)\n",
    "data = response.json()\n",
    "message = f\"Name: {data['name']}\"\n",
    "country_info = [f\"{country['country_id']} (probability: {country['probability']})\" for country in data['country']]\n",
    "country_info_str = \", \".join(country_info)\n",
    "message += f\", Country: {country_info_str}\"        \n",
    "print(message)\n",
    "\n",
    "\n"
   ]
  },
  {
   "cell_type": "code",
   "execution_count": 40,
   "metadata": {},
   "outputs": [
    {
     "name": "stdout",
     "output_type": "stream",
     "text": [
      "Random Activity: Take a bubble bath\n",
      "Activity for 4 participants: Play a game of Monopoly\n",
      "Recreational activity for 4 participants: Go see a Broadway production\n",
      "Activity for 2 participants without equipment: Compliment someone\n"
     ]
    }
   ],
   "source": [
    "# Exercise 4\n",
    "# Use BoredAPI : https://www.boredapi.com/\n",
    "# Documentation : https://www.boredapi.com/documentation\n",
    "# 1. Write a script that generates random activities\n",
    "# 2. Write a script that generates random activities\n",
    "# 3. Write a script that generates random activities for 4 participants\n",
    "# 4. Write a script that generates random activities for 4 participants and of type \"recreational\"\n",
    "# 5. Write a script that generates random activities for 2 participants and that does not require equipment\n",
    "\n",
    "#1\n",
    "response = requests.get(\"https://www.boredapi.com/api/activity\")\n",
    "activity = response.json()[\"activity\"]\n",
    "print(f\"Random Activity: {activity}\")\n",
    "\n",
    "#3\n",
    "participants=4\n",
    "response = requests.get(f\"https://www.boredapi.com/api/activity?participants={participants}\")\n",
    "activity = response.json()['activity']\n",
    "print(f\"Activity for {participants} participants: {activity}\")\n",
    "\n",
    "#4\n",
    "response = requests.get(f\"https://www.boredapi.com/api/activity?participants={participants}&type=recreational\")\n",
    "activity = response.json()['activity']\n",
    "print(f\"Recreational activity for {participants} participants: {activity}\")\n",
    "\n",
    "#5\n",
    "participants=2\n",
    "response = requests.get(f\"https://www.boredapi.com/api/activity?participants={participants}&accessibility={0}\")\n",
    "activity = response.json()['activity']\n",
    "print(f\"Activity for {participants} participants without equipment: {activity}\")\n",
    "\n",
    "#######################################################\n",
    "################## YOUR ANSWER HERE ##################\n",
    "#######################################################\n"
   ]
  },
  {
   "cell_type": "markdown",
   "metadata": {},
   "source": [
    "## Intermediate exercises"
   ]
  },
  {
   "cell_type": "code",
   "execution_count": 41,
   "metadata": {},
   "outputs": [
    {
     "ename": "JSONDecodeError",
     "evalue": "[Errno Expecting value] <!DOCTYPE html>\n<!--[if lt IE 7 ]><html class=\"ie ie6\" lang=\"en\"> <![endif]-->\n<!--[if IE 7 ]><html class=\"ie ie7\" lang=\"en\"> <![endif]-->\n<!--[if IE 8 ]><html class=\"ie ie8\" lang=\"en\"> <![endif]-->\n<!--[if (gte IE 9)|!(IE)]><!--><html lang=\"en\"> <!--<![endif]-->\n<head>\n\t<!-- Page basics -->\n\t<meta charset=\"utf-8\" />\n\t<title>404 Not Found | Domesday Book</title>\n\t<meta name=\"description\" content=\"Not found\" />\n\t<meta name=\"author\" content=\"Anna Powell-Smith\">\n\n\t<!--[if lt IE 9]>\n\t\t<script src=\"http://html5shim.googlecode.com/svn/trunk/html5.js\"></script>\n\t<![endif]-->\n\n\t<meta name=\"viewport\" content=\"width=device-width,initial-scale=1,maximum-scale=1,user-scalable=no\">\n\n\t<link rel='stylesheet' href=\"/media/css/bootstrap.min.css\" />\n\t<link rel='stylesheet' href=\"/media/css/select2.min.css\" />\n\t<link rel='stylesheet' href=\"/media/css/select2-bootstrap.min.css\" />\n\n\t<link rel=\"stylesheet\" href=\"https://use.fontawesome.com/releases/v5.7.2/css/solid.css\" integrity=\"sha384-r/k8YTFqmlOaqRkZuSiE9trsrDXkh07mRaoGBMoDcmA58OHILZPsk29i2BsFng1B\" crossorigin=\"anonymous\">\n\t<link rel=\"stylesheet\" href=\"https://use.fontawesome.com/releases/v5.7.2/css/fontawesome.css\" integrity=\"sha384-4aon80D8rXCGx9ayDt85LbyUHeMWd3UiBaWliBlJ53yzm9hqN21A+o1pqoyK04h+\" crossorigin=\"anonymous\">\n\n\t<link rel=\"stylesheet\" href=\"/media/css/index.css\" />\n\t\n\n\t<link rel=\"shortcut icon\" href=\"/media/images/favicon.ico\">\n\t<link rel=\"apple-touch-icon\" href=\"/media/images/apple-touch-icon.png\">\n\t<link rel=\"apple-touch-icon\" sizes=\"72x72\" href=\"/media/images/apple-touch-icon-72x72.png\">\n\t<link rel=\"apple-touch-icon\" sizes=\"114x114\" href=\"/media/images/apple-touch-icon-114x114.png\">\n\n\t<meta itemprop=\"name\" content=\"\">\n\t<meta itemprop=\"description\" content=\"\">\n\n\t\n\t<link rel='stylesheet' href=\"/media/css/mapbox-gl.css\" />\n\t\n\n</head>\n\n<body class=\"nav-book\">\n\n<div id=\"wrap\">\n\n<div class=\"navbar navbar-dark bg-dark fixed-top navbar-expand-md\" style=\"height: 80px\">\n\t<div class=\"container\" style=\"position: relative\">\n\t\t<div style=\"position: absolute !important; left: 20px; top: -4px; \"><a style=\"color: white; font-weight: bold; font-size: 24px\" href=\"/\">Open Domesday</a></div>\n\t\t<div style=\"position: absolute !important; left: 20px; top: 28px; color: white; font-size: 11px\">by <a href=\"https://twitter.com/darkgreener\" target=\"_blank\" style=\"color: white\">Anna Powell-Smith</a></div>\n\n\t\t<form class=\"form-inline ml-3 my-0\" style=\"position: absolute; left: 175px\">\n\t\t\t<select class=\"form-control\" id=\"place_search\" aria-label=\"Find a place or person\">\n\t\t\t\t<option></option>\n\t\t\t</select>\n\t\t</form>\n\n\t\t<button type=\"button\" class=\"navbar-toggler\" data-toggle=\"collapse\" data-target=\".navbar-collapse\">&#x2630;</button>\n\t\t<div class=\"collapse navbar-collapse\">\n\t\t\t<ul class=\"nav navbar-nav ml-auto\">\n\t\t\t\t<li class=\"nav-item\"><a href=\"/map/\" class=\"nav-link \">Map</a>\n\t\t\t\t</li>\n\t\t\t\t<li class=\"nav-item\"><a href=\"/book/\" class=\"nav-link \">Book</a>\n\t\t\t\t</li>\n\t\t\t\t<li class=\"nav-item\"><a href=\"/place/\" class=\"nav-link \">Places</a>\n\t\t\t\t</li>\n\t\t\t\t<li class=\"nav-item\"><a href=\"/name/\" class=\"nav-link \">People</a>\n\t\t\t\t</li>\n\t\t\t</ul>\n\n\t\t</div>\n\t</div>\n</div>\n\n<div class=\"container main \">\n\t<h1></h1>\n\t\n<div class=\"page_title\">\n<h1>404 NOT FOUND</h1>\n</div>\n\n<div class=\"content\">\n\n<p>Sorry, we couldn't find that page!</p>\n</div>\n\n\n</div>\n\n</div> <!-- /wrap -->\n\n<div id=\"footer\">\n\t<div class=\"container\" style=\"orphans: 3\">\n\t<a href=\"/about/\" class=\"\">About</a>.\n\t<a href=\"/api/\" class=\"\">API</a>.\n\tMaps and site by <a href=\"https://twitter.com/darkgreener\">Anna Powell-Smith</a>. Domesday data created by <a href=\"/about#data\">Professor J.J.N. Palmer and team.</a>\n\t</div>\n</div>\n\n<script src=\"/media/js/dist/index.js\"></script>\n\n<script type=\"text/javascript\">\n\tvar _gaq = _gaq || [];\n\t_gaq.push(['_setAccount', 'UA-20487731-1']);\n\t_gaq.push(['_trackPageview']);\n\t(function() {\n\tvar ga = document.createElement('script'); ga.type = 'text/javascript'; ga.async = true;\n\tga.src = ('https:' == document.location.protocol ? 'https://ssl' : 'http://www') + '.google-analytics.com/ga.js';\n\tvar s = document.getElementsByTagName('script')[0]; s.parentNode.insertBefore(ga, s);\n\t})();\n</script>\n</body>\n</html>\n: 0",
     "output_type": "error",
     "traceback": [
      "\u001b[1;31m---------------------------------------------------------------------------\u001b[0m",
      "\u001b[1;31mJSONDecodeError\u001b[0m                           Traceback (most recent call last)",
      "File \u001b[1;32m~\\anaconda3\\lib\\site-packages\\requests\\models.py:910\u001b[0m, in \u001b[0;36mResponse.json\u001b[1;34m(self, **kwargs)\u001b[0m\n\u001b[0;32m    909\u001b[0m \u001b[38;5;28;01mtry\u001b[39;00m:\n\u001b[1;32m--> 910\u001b[0m     \u001b[38;5;28;01mreturn\u001b[39;00m complexjson\u001b[38;5;241m.\u001b[39mloads(\u001b[38;5;28mself\u001b[39m\u001b[38;5;241m.\u001b[39mtext, \u001b[38;5;241m*\u001b[39m\u001b[38;5;241m*\u001b[39mkwargs)\n\u001b[0;32m    911\u001b[0m \u001b[38;5;28;01mexcept\u001b[39;00m JSONDecodeError \u001b[38;5;28;01mas\u001b[39;00m e:\n\u001b[0;32m    912\u001b[0m     \u001b[38;5;66;03m# Catch JSON-related errors and raise as requests.JSONDecodeError\u001b[39;00m\n\u001b[0;32m    913\u001b[0m     \u001b[38;5;66;03m# This aliases json.JSONDecodeError and simplejson.JSONDecodeError\u001b[39;00m\n",
      "File \u001b[1;32m~\\anaconda3\\lib\\json\\__init__.py:346\u001b[0m, in \u001b[0;36mloads\u001b[1;34m(s, cls, object_hook, parse_float, parse_int, parse_constant, object_pairs_hook, **kw)\u001b[0m\n\u001b[0;32m    343\u001b[0m \u001b[38;5;28;01mif\u001b[39;00m (\u001b[38;5;28mcls\u001b[39m \u001b[38;5;129;01mis\u001b[39;00m \u001b[38;5;28;01mNone\u001b[39;00m \u001b[38;5;129;01mand\u001b[39;00m object_hook \u001b[38;5;129;01mis\u001b[39;00m \u001b[38;5;28;01mNone\u001b[39;00m \u001b[38;5;129;01mand\u001b[39;00m\n\u001b[0;32m    344\u001b[0m         parse_int \u001b[38;5;129;01mis\u001b[39;00m \u001b[38;5;28;01mNone\u001b[39;00m \u001b[38;5;129;01mand\u001b[39;00m parse_float \u001b[38;5;129;01mis\u001b[39;00m \u001b[38;5;28;01mNone\u001b[39;00m \u001b[38;5;129;01mand\u001b[39;00m\n\u001b[0;32m    345\u001b[0m         parse_constant \u001b[38;5;129;01mis\u001b[39;00m \u001b[38;5;28;01mNone\u001b[39;00m \u001b[38;5;129;01mand\u001b[39;00m object_pairs_hook \u001b[38;5;129;01mis\u001b[39;00m \u001b[38;5;28;01mNone\u001b[39;00m \u001b[38;5;129;01mand\u001b[39;00m \u001b[38;5;129;01mnot\u001b[39;00m kw):\n\u001b[1;32m--> 346\u001b[0m     \u001b[38;5;28;01mreturn\u001b[39;00m \u001b[43m_default_decoder\u001b[49m\u001b[38;5;241;43m.\u001b[39;49m\u001b[43mdecode\u001b[49m\u001b[43m(\u001b[49m\u001b[43ms\u001b[49m\u001b[43m)\u001b[49m\n\u001b[0;32m    347\u001b[0m \u001b[38;5;28;01mif\u001b[39;00m \u001b[38;5;28mcls\u001b[39m \u001b[38;5;129;01mis\u001b[39;00m \u001b[38;5;28;01mNone\u001b[39;00m:\n",
      "File \u001b[1;32m~\\anaconda3\\lib\\json\\decoder.py:337\u001b[0m, in \u001b[0;36mJSONDecoder.decode\u001b[1;34m(self, s, _w)\u001b[0m\n\u001b[0;32m    333\u001b[0m \u001b[38;5;124;03m\"\"\"Return the Python representation of ``s`` (a ``str`` instance\u001b[39;00m\n\u001b[0;32m    334\u001b[0m \u001b[38;5;124;03mcontaining a JSON document).\u001b[39;00m\n\u001b[0;32m    335\u001b[0m \n\u001b[0;32m    336\u001b[0m \u001b[38;5;124;03m\"\"\"\u001b[39;00m\n\u001b[1;32m--> 337\u001b[0m obj, end \u001b[38;5;241m=\u001b[39m \u001b[38;5;28;43mself\u001b[39;49m\u001b[38;5;241;43m.\u001b[39;49m\u001b[43mraw_decode\u001b[49m\u001b[43m(\u001b[49m\u001b[43ms\u001b[49m\u001b[43m,\u001b[49m\u001b[43m \u001b[49m\u001b[43midx\u001b[49m\u001b[38;5;241;43m=\u001b[39;49m\u001b[43m_w\u001b[49m\u001b[43m(\u001b[49m\u001b[43ms\u001b[49m\u001b[43m,\u001b[49m\u001b[43m \u001b[49m\u001b[38;5;241;43m0\u001b[39;49m\u001b[43m)\u001b[49m\u001b[38;5;241;43m.\u001b[39;49m\u001b[43mend\u001b[49m\u001b[43m(\u001b[49m\u001b[43m)\u001b[49m\u001b[43m)\u001b[49m\n\u001b[0;32m    338\u001b[0m end \u001b[38;5;241m=\u001b[39m _w(s, end)\u001b[38;5;241m.\u001b[39mend()\n",
      "File \u001b[1;32m~\\anaconda3\\lib\\json\\decoder.py:355\u001b[0m, in \u001b[0;36mJSONDecoder.raw_decode\u001b[1;34m(self, s, idx)\u001b[0m\n\u001b[0;32m    354\u001b[0m \u001b[38;5;28;01mexcept\u001b[39;00m \u001b[38;5;167;01mStopIteration\u001b[39;00m \u001b[38;5;28;01mas\u001b[39;00m err:\n\u001b[1;32m--> 355\u001b[0m     \u001b[38;5;28;01mraise\u001b[39;00m JSONDecodeError(\u001b[38;5;124m\"\u001b[39m\u001b[38;5;124mExpecting value\u001b[39m\u001b[38;5;124m\"\u001b[39m, s, err\u001b[38;5;241m.\u001b[39mvalue) \u001b[38;5;28;01mfrom\u001b[39;00m \u001b[38;5;28mNone\u001b[39m\n\u001b[0;32m    356\u001b[0m \u001b[38;5;28;01mreturn\u001b[39;00m obj, end\n",
      "\u001b[1;31mJSONDecodeError\u001b[0m: Expecting value: line 1 column 1 (char 0)",
      "\nDuring handling of the above exception, another exception occurred:\n",
      "\u001b[1;31mJSONDecodeError\u001b[0m                           Traceback (most recent call last)",
      "Input \u001b[1;32mIn [41]\u001b[0m, in \u001b[0;36m<cell line: 11>\u001b[1;34m()\u001b[0m\n\u001b[0;32m      9\u001b[0m url \u001b[38;5;241m=\u001b[39m \u001b[38;5;124m\"\u001b[39m\u001b[38;5;124mhttps://opendomesday.org/api/1.0/counties/\u001b[39m\u001b[38;5;124m\"\u001b[39m\n\u001b[0;32m     10\u001b[0m response \u001b[38;5;241m=\u001b[39m requests\u001b[38;5;241m.\u001b[39mget(url)\n\u001b[1;32m---> 11\u001b[0m counties \u001b[38;5;241m=\u001b[39m \u001b[43mresponse\u001b[49m\u001b[38;5;241;43m.\u001b[39;49m\u001b[43mjson\u001b[49m\u001b[43m(\u001b[49m\u001b[43m)\u001b[49m\n\u001b[0;32m     12\u001b[0m \u001b[38;5;28;01mfor\u001b[39;00m county \u001b[38;5;129;01min\u001b[39;00m counties:\n\u001b[0;32m     13\u001b[0m     \u001b[38;5;28mprint\u001b[39m(\u001b[38;5;124mf\u001b[39m\u001b[38;5;124m\"\u001b[39m\u001b[38;5;124mCounty: \u001b[39m\u001b[38;5;132;01m{\u001b[39;00mcounty[\u001b[38;5;124m'\u001b[39m\u001b[38;5;124mname\u001b[39m\u001b[38;5;124m'\u001b[39m]\u001b[38;5;132;01m}\u001b[39;00m\u001b[38;5;124m (ID: \u001b[39m\u001b[38;5;132;01m{\u001b[39;00mcounty[\u001b[38;5;124m'\u001b[39m\u001b[38;5;124mid\u001b[39m\u001b[38;5;124m'\u001b[39m]\u001b[38;5;132;01m}\u001b[39;00m\u001b[38;5;124m)\u001b[39m\u001b[38;5;124m\"\u001b[39m)\n",
      "File \u001b[1;32m~\\anaconda3\\lib\\site-packages\\requests\\models.py:917\u001b[0m, in \u001b[0;36mResponse.json\u001b[1;34m(self, **kwargs)\u001b[0m\n\u001b[0;32m    915\u001b[0m     \u001b[38;5;28;01mraise\u001b[39;00m RequestsJSONDecodeError(e\u001b[38;5;241m.\u001b[39mmessage)\n\u001b[0;32m    916\u001b[0m \u001b[38;5;28;01melse\u001b[39;00m:\n\u001b[1;32m--> 917\u001b[0m     \u001b[38;5;28;01mraise\u001b[39;00m RequestsJSONDecodeError(e\u001b[38;5;241m.\u001b[39mmsg, e\u001b[38;5;241m.\u001b[39mdoc, e\u001b[38;5;241m.\u001b[39mpos)\n",
      "\u001b[1;31mJSONDecodeError\u001b[0m: [Errno Expecting value] <!DOCTYPE html>\n<!--[if lt IE 7 ]><html class=\"ie ie6\" lang=\"en\"> <![endif]-->\n<!--[if IE 7 ]><html class=\"ie ie7\" lang=\"en\"> <![endif]-->\n<!--[if IE 8 ]><html class=\"ie ie8\" lang=\"en\"> <![endif]-->\n<!--[if (gte IE 9)|!(IE)]><!--><html lang=\"en\"> <!--<![endif]-->\n<head>\n\t<!-- Page basics -->\n\t<meta charset=\"utf-8\" />\n\t<title>404 Not Found | Domesday Book</title>\n\t<meta name=\"description\" content=\"Not found\" />\n\t<meta name=\"author\" content=\"Anna Powell-Smith\">\n\n\t<!--[if lt IE 9]>\n\t\t<script src=\"http://html5shim.googlecode.com/svn/trunk/html5.js\"></script>\n\t<![endif]-->\n\n\t<meta name=\"viewport\" content=\"width=device-width,initial-scale=1,maximum-scale=1,user-scalable=no\">\n\n\t<link rel='stylesheet' href=\"/media/css/bootstrap.min.css\" />\n\t<link rel='stylesheet' href=\"/media/css/select2.min.css\" />\n\t<link rel='stylesheet' href=\"/media/css/select2-bootstrap.min.css\" />\n\n\t<link rel=\"stylesheet\" href=\"https://use.fontawesome.com/releases/v5.7.2/css/solid.css\" integrity=\"sha384-r/k8YTFqmlOaqRkZuSiE9trsrDXkh07mRaoGBMoDcmA58OHILZPsk29i2BsFng1B\" crossorigin=\"anonymous\">\n\t<link rel=\"stylesheet\" href=\"https://use.fontawesome.com/releases/v5.7.2/css/fontawesome.css\" integrity=\"sha384-4aon80D8rXCGx9ayDt85LbyUHeMWd3UiBaWliBlJ53yzm9hqN21A+o1pqoyK04h+\" crossorigin=\"anonymous\">\n\n\t<link rel=\"stylesheet\" href=\"/media/css/index.css\" />\n\t\n\n\t<link rel=\"shortcut icon\" href=\"/media/images/favicon.ico\">\n\t<link rel=\"apple-touch-icon\" href=\"/media/images/apple-touch-icon.png\">\n\t<link rel=\"apple-touch-icon\" sizes=\"72x72\" href=\"/media/images/apple-touch-icon-72x72.png\">\n\t<link rel=\"apple-touch-icon\" sizes=\"114x114\" href=\"/media/images/apple-touch-icon-114x114.png\">\n\n\t<meta itemprop=\"name\" content=\"\">\n\t<meta itemprop=\"description\" content=\"\">\n\n\t\n\t<link rel='stylesheet' href=\"/media/css/mapbox-gl.css\" />\n\t\n\n</head>\n\n<body class=\"nav-book\">\n\n<div id=\"wrap\">\n\n<div class=\"navbar navbar-dark bg-dark fixed-top navbar-expand-md\" style=\"height: 80px\">\n\t<div class=\"container\" style=\"position: relative\">\n\t\t<div style=\"position: absolute !important; left: 20px; top: -4px; \"><a style=\"color: white; font-weight: bold; font-size: 24px\" href=\"/\">Open Domesday</a></div>\n\t\t<div style=\"position: absolute !important; left: 20px; top: 28px; color: white; font-size: 11px\">by <a href=\"https://twitter.com/darkgreener\" target=\"_blank\" style=\"color: white\">Anna Powell-Smith</a></div>\n\n\t\t<form class=\"form-inline ml-3 my-0\" style=\"position: absolute; left: 175px\">\n\t\t\t<select class=\"form-control\" id=\"place_search\" aria-label=\"Find a place or person\">\n\t\t\t\t<option></option>\n\t\t\t</select>\n\t\t</form>\n\n\t\t<button type=\"button\" class=\"navbar-toggler\" data-toggle=\"collapse\" data-target=\".navbar-collapse\">&#x2630;</button>\n\t\t<div class=\"collapse navbar-collapse\">\n\t\t\t<ul class=\"nav navbar-nav ml-auto\">\n\t\t\t\t<li class=\"nav-item\"><a href=\"/map/\" class=\"nav-link \">Map</a>\n\t\t\t\t</li>\n\t\t\t\t<li class=\"nav-item\"><a href=\"/book/\" class=\"nav-link \">Book</a>\n\t\t\t\t</li>\n\t\t\t\t<li class=\"nav-item\"><a href=\"/place/\" class=\"nav-link \">Places</a>\n\t\t\t\t</li>\n\t\t\t\t<li class=\"nav-item\"><a href=\"/name/\" class=\"nav-link \">People</a>\n\t\t\t\t</li>\n\t\t\t</ul>\n\n\t\t</div>\n\t</div>\n</div>\n\n<div class=\"container main \">\n\t<h1></h1>\n\t\n<div class=\"page_title\">\n<h1>404 NOT FOUND</h1>\n</div>\n\n<div class=\"content\">\n\n<p>Sorry, we couldn't find that page!</p>\n</div>\n\n\n</div>\n\n</div> <!-- /wrap -->\n\n<div id=\"footer\">\n\t<div class=\"container\" style=\"orphans: 3\">\n\t<a href=\"/about/\" class=\"\">About</a>.\n\t<a href=\"/api/\" class=\"\">API</a>.\n\tMaps and site by <a href=\"https://twitter.com/darkgreener\">Anna Powell-Smith</a>. Domesday data created by <a href=\"/about#data\">Professor J.J.N. Palmer and team.</a>\n\t</div>\n</div>\n\n<script src=\"/media/js/dist/index.js\"></script>\n\n<script type=\"text/javascript\">\n\tvar _gaq = _gaq || [];\n\t_gaq.push(['_setAccount', 'UA-20487731-1']);\n\t_gaq.push(['_trackPageview']);\n\t(function() {\n\tvar ga = document.createElement('script'); ga.type = 'text/javascript'; ga.async = true;\n\tga.src = ('https:' == document.location.protocol ? 'https://ssl' : 'http://www') + '.google-analytics.com/ga.js';\n\tvar s = document.getElementsByTagName('script')[0]; s.parentNode.insertBefore(ga, s);\n\t})();\n</script>\n</body>\n</html>\n: 0"
     ]
    }
   ],
   "source": [
    "# OpenDomesday\n",
    "# https://opendomesday.org/api/\n",
    "\n",
    "# Exercise 1\n",
    "# Write a script that displays all the counties  \n",
    "# using the OpenDomesday API.\n",
    "\n",
    "\n",
    "url = \"https://opendomesday.org/api/1.0/counties/\"\n",
    "response = requests.get(url)\n",
    "counties = response.json()\n",
    "for county in counties:\n",
    "    print(f\"County: {county['name']} (ID: {county['id']})\")\n",
    "\n",
    "\n",
    "\n",
    "#######################################################\n",
    "################## YOUR ANSWER HERE ##################\n",
    "#######################################################\n"
   ]
  },
  {
   "cell_type": "code",
   "execution_count": null,
   "metadata": {},
   "outputs": [],
   "source": [
    "# Exercise 2\n",
    "# Write a script that displays the information\n",
    "# of the county \"Derbyshire\".\n",
    "\n",
    "#######################################################\n",
    "################## YOUR ANSWER HERE ##################\n",
    "#######################################################\n"
   ]
  },
  {
   "cell_type": "code",
   "execution_count": null,
   "metadata": {},
   "outputs": [],
   "source": [
    "# Exercise 3\n",
    "# Now that we have the ids for all the places in Derbyshire, we can load all their details...\n",
    "# And from their details, we can list all the details of their manors.\n",
    "# Go fetch the data!\n",
    "# P.S.: remember to save the data to avoid downloading it every time\n",
    "\n",
    "#######################################################\n",
    "################## YOUR ANSWER HERE ##################\n",
    "#######################################################\n"
   ]
  },
  {
   "cell_type": "code",
   "execution_count": null,
   "metadata": {},
   "outputs": [],
   "source": [
    "# Exercise 4\n",
    "# Now that we have a quantity of raw data, we will extract the interesting parts.  \n",
    "# In our case, we want to count the money paid by each manor and compare it to the number of ploughs it has.  \n",
    "# - Can you find the corresponding json fields?  \n",
    "# - Then, you can list these numbers for each manor in Derbyshire.  \n",
    "# - And format this in an appropriate comma-separated values (CSV) file.\n",
    "\n",
    "#######################################################\n",
    "################## YOUR ANSWER HERE ##################\n",
    "#######################################################\n",
    "\n"
   ]
  },
  {
   "cell_type": "code",
   "execution_count": null,
   "metadata": {},
   "outputs": [],
   "source": [
    "# Exercise 5\n",
    "# What is the richest manor in Derbyshire?\n",
    "\n",
    "#######################################################\n",
    "################## YOUR ANSWER HERE ##################\n",
    "#######################################################\n"
   ]
  },
  {
   "cell_type": "code",
   "execution_count": null,
   "metadata": {},
   "outputs": [],
   "source": [
    "# Exercise 6\n",
    "# Give the total value paid by Derbyshire.\n",
    "\n",
    "#######################################################\n",
    "################## YOUR ANSWER HERE ##################\n",
    "#######################################################\n"
   ]
  },
  {
   "cell_type": "code",
   "execution_count": null,
   "metadata": {},
   "outputs": [],
   "source": [
    "# Exercise 7\n",
    "# Create a Python class.  \n",
    "# It must include all the previous functionalities.  \n",
    "# Refactor your code to make it readable, efficient, and maintainable.\n",
    "\n",
    "#######################################################\n",
    "################## YOUR ANSWER HERE ##################\n",
    "#######################################################\n"
   ]
  },
  {
   "cell_type": "code",
   "execution_count": null,
   "metadata": {},
   "outputs": [],
   "source": [
    "# Exercise 8 (optional)\n",
    "# Add to your class a system for error handling.  \n",
    "# It must manage the following errors:  \n",
    "# - Connection error  \n",
    "# - Parsing error  \n",
    "# - Request error  \n",
    "# - Response error  \n",
    "# - Parameter error\n",
    "\n",
    "#######################################################\n",
    "################## YOUR ANSWER HERE ##################\n",
    "#######################################################\n",
    "\n"
   ]
  }
 ],
 "metadata": {
  "kernelspec": {
   "display_name": "Python 3 (ipykernel)",
   "language": "python",
   "name": "python3"
  },
  "language_info": {
   "codemirror_mode": {
    "name": "ipython",
    "version": 3
   },
   "file_extension": ".py",
   "mimetype": "text/x-python",
   "name": "python",
   "nbconvert_exporter": "python",
   "pygments_lexer": "ipython3",
   "version": "3.9.12"
  }
 },
 "nbformat": 4,
 "nbformat_minor": 2
}

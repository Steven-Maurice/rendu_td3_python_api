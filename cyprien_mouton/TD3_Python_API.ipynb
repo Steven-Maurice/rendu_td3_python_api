{
 "cells": [
  {
   "cell_type": "markdown",
   "metadata": {},
   "source": [
    "# Python with APIs\n",
    "Exchanges via HTTP using `requests` package"
   ]
  },
  {
   "cell_type": "code",
   "execution_count": 7,
   "metadata": {},
   "outputs": [],
   "source": [
    "import requests"
   ]
  },
  {
   "cell_type": "markdown",
   "metadata": {},
   "source": [
    "## Example"
   ]
  },
  {
   "cell_type": "markdown",
   "metadata": {},
   "source": [
    "### Agify API"
   ]
  },
  {
   "cell_type": "markdown",
   "metadata": {},
   "source": [
    "Example route for Agify API"
   ]
  },
  {
   "cell_type": "code",
   "execution_count": 8,
   "metadata": {},
   "outputs": [],
   "source": [
    "agify_dan = \"https://api.agify.io/?name=dan\""
   ]
  },
  {
   "cell_type": "markdown",
   "metadata": {},
   "source": [
    "Extract response"
   ]
  },
  {
   "cell_type": "code",
   "execution_count": 10,
   "metadata": {},
   "outputs": [
    {
     "name": "stdout",
     "output_type": "stream",
     "text": [
      "Answer status_code: <Response [200]>\n",
      "<class 'str'>\n",
      "<class 'dict'>\n",
      "{\"count\":67782,\"name\":\"dan\",\"age\":66}\n",
      "{'count': 67782, 'name': 'dan', 'age': 66}\n"
     ]
    }
   ],
   "source": [
    "# Run a GET request\n",
    "agify_answer = requests.get(agify_dan)\n",
    "agify_answer_txt = agify_answer.text\n",
    "agify_answer_json = agify_answer.json()\n",
    "\n",
    "print(f\"Answer status_code: {agify_answer}\")\n",
    "\n",
    "print(type(agify_answer_txt))\n",
    "print(type(agify_answer_json))\n",
    "\n",
    "print(agify_answer_txt)\n",
    "print(agify_answer_json)"
   ]
  },
  {
   "cell_type": "markdown",
   "metadata": {},
   "source": [
    "## Introductory Exercises"
   ]
  },
  {
   "cell_type": "code",
   "execution_count": 11,
   "metadata": {},
   "outputs": [
    {
     "name": "stdout",
     "output_type": "stream",
     "text": [
      "name: Antoine\n",
      "name : Antoine,age : 55,count : 37452\n"
     ]
    }
   ],
   "source": [
    "# Exercise 1\n",
    "# Write a script that asks the user for their first name\n",
    "# and responds with a personalized message\n",
    "# using the agify API\n",
    "\n",
    "# https://api.agify.io/?name=YOUR_NAME\n",
    "# Example response: {\"name\":\"YOUR_NAME\",\"age\":30,\"count\":12345}\n",
    "\n",
    "user_name = input(\"name: \")\n",
    "url = f\"https://api.agify.io/?name={user_name}\"\n",
    "response = requests.get(url)\n",
    "data = response.json()\n",
    "message = f\"name : {data['name']},age : {data['age']},count : {data['count']}\"\n",
    "print(message)\n",
    "\n",
    "\n",
    "#######################################################\n",
    "################## YOUR ANSWER HERE ##################\n",
    "#######################################################\n"
   ]
  },
  {
   "cell_type": "code",
   "execution_count": 12,
   "metadata": {},
   "outputs": [
    {
     "name": "stdout",
     "output_type": "stream",
     "text": [
      "name: Edouard\n",
      "name : Edouard,gender :  male\n"
     ]
    }
   ],
   "source": [
    "# Exercise 2\n",
    "# Write a script that asks the user for their first name\n",
    "# and responds with a personalized message\n",
    "# using the genderize API\n",
    "# https://api.genderize.io/?name=YOUR_NAME\n",
    "\n",
    "user_name = input(\"name: \")\n",
    "url = f\"https://api.genderize.io/?name={user_name}\"\n",
    "response = requests.get(url)\n",
    "data = response.json()\n",
    "message = f\"name : {data['name']},gender :  {data['gender']}\"\n",
    "print(message)\n",
    "\n",
    "\n",
    "#######################################################\n",
    "################## YOUR ANSWER HERE ##################\n",
    "#######################################################\n"
   ]
  },
  {
   "cell_type": "code",
   "execution_count": 13,
   "metadata": {},
   "outputs": [
    {
     "name": "stdout",
     "output_type": "stream",
     "text": [
      "name: Chloe\n",
      "name : Chloe,country :  [{'country_id': 'CN', 'probability': 0.27984160423786636}, {'country_id': 'HK', 'probability': 0.18734767221031043}, {'country_id': 'TW', 'probability': 0.09058568766212811}, {'country_id': 'SQ', 'probability': 0.07122360883371555}, {'country_id': 'MY', 'probability': 0.06519637293206183}]\n"
     ]
    }
   ],
   "source": [
    "# Exercise 3\n",
    "# Write a script that asks the user for their first name\n",
    "# and responds with a personalized message\n",
    "# using the nationalize API\n",
    "# https://api.nationalize.io/?name=YOUR_NAME\n",
    "user_name = input(\"name: \")\n",
    "url = f\"https://api.nationalize.io/?name={user_name}\"\n",
    "response = requests.get(url)\n",
    "data = response.json()\n",
    "message = f\"name : {data['name']},country :  {data['country']}\"\n",
    "print(message)\n",
    "\n",
    "#######################################################\n",
    "################## YOUR ANSWER HERE ##################\n",
    "#######################################################\n"
   ]
  },
  {
   "cell_type": "code",
   "execution_count": 14,
   "metadata": {},
   "outputs": [
    {
     "name": "stdout",
     "output_type": "stream",
     "text": [
      "name: Gregoire\n",
      "Name: Gregoire, Country: BE (probability: 0.21688720847884332), FR (probability: 0.14744317167406648), CA (probability: 0.14429885687630287), TT (probability: 0.037842781121690025), DM (probability: 0.037842781121690025)\n"
     ]
    }
   ],
   "source": [
    "# Exercise 3.1\n",
    "# Parsing the response from the nationalize API\n",
    "# Get the most probable country and its percentage\n",
    "# Example response: {\"name\":\"YOUR_NAME\",\"country\":[{\"country_id\":\"FR\",\"probability\":0.75},{\"country_id\":\"BE\",\"probability\":0.25}]}\n",
    "# Hint: use the max() function with a lambda function\n",
    "# https://docs.python.org/3/library/functions.html#max\n",
    "# https://docs.python.org/3/tutorial/controlflow.html#lambda-expressions\n",
    "\n",
    "#######################################################\n",
    "################## YOUR ANSWER HERE ##################\n",
    "#######################################################\n",
    "user_name = input(\"name: \")\n",
    "url = f\"https://api.nationalize.io/?name={user_name}\"\n",
    "response = requests.get(url)\n",
    "data = response.json()\n",
    "message = f\"Name: {data['name']}\"\n",
    "country_info = [f\"{country['country_id']} (probability: {country['probability']})\" for country in data['country']]\n",
    "country_info_str = \", \".join(country_info)\n",
    "message += f\", Country: {country_info_str}\"        \n",
    "print(message)\n",
    "\n",
    "\n"
   ]
  },
  {
   "cell_type": "code",
   "execution_count": 15,
   "metadata": {},
   "outputs": [
    {
     "name": "stdout",
     "output_type": "stream",
     "text": [
      "Random Activity: Have a paper airplane contest with some friends\n",
      "Activity for 4 participants: Go to a concert with some friends\n",
      "Recreational activity for 4 participants: Go see a Broadway production\n",
      "Activity for 2 participants without equipment: Compliment someone\n"
     ]
    }
   ],
   "source": [
    "# Exercise 4\n",
    "# Use BoredAPI : https://www.boredapi.com/\n",
    "# Documentation : https://www.boredapi.com/documentation\n",
    "# 1. Write a script that generates random activities\n",
    "# 2. Write a script that generates random activities\n",
    "# 3. Write a script that generates random activities for 4 participants\n",
    "# 4. Write a script that generates random activities for 4 participants and of type \"recreational\"\n",
    "# 5. Write a script that generates random activities for 2 participants and that does not require equipment\n",
    "\n",
    "#1\n",
    "response = requests.get(\"https://www.boredapi.com/api/activity\")\n",
    "activity = response.json()[\"activity\"]\n",
    "print(f\"Random Activity: {activity}\")\n",
    "\n",
    "#3\n",
    "participants=4\n",
    "response = requests.get(f\"https://www.boredapi.com/api/activity?participants={participants}\")\n",
    "activity = response.json()['activity']\n",
    "print(f\"Activity for {participants} participants: {activity}\")\n",
    "\n",
    "#4\n",
    "response = requests.get(f\"https://www.boredapi.com/api/activity?participants={participants}&type=recreational\")\n",
    "activity = response.json()['activity']\n",
    "print(f\"Recreational activity for {participants} participants: {activity}\")\n",
    "\n",
    "#5\n",
    "participants=2\n",
    "response = requests.get(f\"https://www.boredapi.com/api/activity?participants={participants}&accessibility={0}\")\n",
    "activity = response.json()['activity']\n",
    "print(f\"Activity for {participants} participants without equipment: {activity}\")\n",
    "\n",
    "#######################################################\n",
    "################## YOUR ANSWER HERE ##################\n",
    "#######################################################\n"
   ]
  },
  {
   "cell_type": "markdown",
   "metadata": {},
   "source": [
    "## Intermediate exercises"
   ]
  },
  {
   "cell_type": "code",
   "execution_count": 21,
   "metadata": {},
   "outputs": [
    {
     "name": "stdout",
     "output_type": "stream",
     "text": [
      "County Name: Kent\n",
      "County Name: Sussex\n",
      "County Name: Surrey\n",
      "County Name: Hampshire\n",
      "County Name: Berkshire\n",
      "County Name: Wiltshire\n",
      "County Name: Dorset\n",
      "County Name: Somerset\n",
      "County Name: Devon\n",
      "County Name: Cornwall\n",
      "County Name: Middlesex\n",
      "County Name: Hertfordshire\n",
      "County Name: Buckinghamshire\n",
      "County Name: Gloucestershire\n",
      "County Name: Oxfordshire\n",
      "County Name: Worcestershire\n",
      "County Name: Herefordshire\n",
      "County Name: Cambridgeshire\n",
      "County Name: Huntingdonshire\n",
      "County Name: Bedfordshire\n",
      "County Name: Northamptonshire\n",
      "County Name: Leicestershire\n",
      "County Name: Warwickshire\n",
      "County Name: Staffordshire\n",
      "County Name: Shropshire\n",
      "County Name: Cheshire\n",
      "County Name: Derbyshire\n",
      "County Name: Nottinghamshire\n",
      "County Name: Rutland\n",
      "County Name: Yorkshire\n",
      "County Name: Lincolnshire\n",
      "County Name: Claims: YB\n",
      "County Name: Claims: YC\n",
      "County Name: Claims: LC\n",
      "County Name: Claims: HC\n",
      "County Name: Claims: YS\n",
      "County Name: Essex\n",
      "County Name: Norfolk\n",
      "County Name: Suffolk\n",
      "County Name: Lancashire\n"
     ]
    }
   ],
   "source": [
    "# OpenDomesday\n",
    "# https://opendomesday.org/api/\n",
    "\n",
    "# Exercise 1\n",
    "# Write a script that displays all the counties  \n",
    "# using the OpenDomesday API.\n",
    "url = \"http://opendomesday.org/api/1.0/county\"\n",
    "response = requests.get(url)\n",
    "counties = response.json()\n",
    "for county in counties:\n",
    "    print(f\"County Name: {county['name']}\")\n",
    "\n",
    "\n",
    "\n",
    "\n",
    "#######################################################\n",
    "################## YOUR ANSWER HERE ##################\n",
    "#######################################################\n"
   ]
  },
  {
   "cell_type": "code",
   "execution_count": null,
   "metadata": {},
   "outputs": [],
   "source": [
    "# Exercise 2\n",
    "# Write a script that displays the information\n",
    "# of the county \"Derbyshire\".\n",
    "\n",
    "#######################################################\n",
    "################## YOUR ANSWER HERE ##################\n",
    "#######################################################\n"
   ]
  },
  {
   "cell_type": "code",
   "execution_count": null,
   "metadata": {},
   "outputs": [],
   "source": [
    "# Exercise 3\n",
    "# Now that we have the ids for all the places in Derbyshire, we can load all their details...\n",
    "# And from their details, we can list all the details of their manors.\n",
    "# Go fetch the data!\n",
    "# P.S.: remember to save the data to avoid downloading it every time\n",
    "\n",
    "#######################################################\n",
    "################## YOUR ANSWER HERE ##################\n",
    "#######################################################\n"
   ]
  },
  {
   "cell_type": "code",
   "execution_count": null,
   "metadata": {},
   "outputs": [],
   "source": [
    "# Exercise 4\n",
    "# Now that we have a quantity of raw data, we will extract the interesting parts.  \n",
    "# In our case, we want to count the money paid by each manor and compare it to the number of ploughs it has.  \n",
    "# - Can you find the corresponding json fields?  \n",
    "# - Then, you can list these numbers for each manor in Derbyshire.  \n",
    "# - And format this in an appropriate comma-separated values (CSV) file.\n",
    "\n",
    "#######################################################\n",
    "################## YOUR ANSWER HERE ##################\n",
    "#######################################################\n",
    "\n"
   ]
  },
  {
   "cell_type": "code",
   "execution_count": null,
   "metadata": {},
   "outputs": [],
   "source": [
    "# Exercise 5\n",
    "# What is the richest manor in Derbyshire?\n",
    "\n",
    "#######################################################\n",
    "################## YOUR ANSWER HERE ##################\n",
    "#######################################################\n"
   ]
  },
  {
   "cell_type": "code",
   "execution_count": null,
   "metadata": {},
   "outputs": [],
   "source": [
    "# Exercise 6\n",
    "# Give the total value paid by Derbyshire.\n",
    "\n",
    "#######################################################\n",
    "################## YOUR ANSWER HERE ##################\n",
    "#######################################################\n"
   ]
  },
  {
   "cell_type": "code",
   "execution_count": null,
   "metadata": {},
   "outputs": [],
   "source": [
    "# Exercise 7\n",
    "# Create a Python class.  \n",
    "# It must include all the previous functionalities.  \n",
    "# Refactor your code to make it readable, efficient, and maintainable.\n",
    "\n",
    "#######################################################\n",
    "################## YOUR ANSWER HERE ##################\n",
    "#######################################################\n"
   ]
  },
  {
   "cell_type": "code",
   "execution_count": null,
   "metadata": {},
   "outputs": [],
   "source": [
    "# Exercise 8 (optional)\n",
    "# Add to your class a system for error handling.  \n",
    "# It must manage the following errors:  \n",
    "# - Connection error  \n",
    "# - Parsing error  \n",
    "# - Request error  \n",
    "# - Response error  \n",
    "# - Parameter error\n",
    "\n",
    "#######################################################\n",
    "################## YOUR ANSWER HERE ##################\n",
    "#######################################################\n",
    "\n"
   ]
  }
 ],
 "metadata": {
  "kernelspec": {
   "display_name": "Python 3 (ipykernel)",
   "language": "python",
   "name": "python3"
  },
  "language_info": {
   "codemirror_mode": {
    "name": "ipython",
    "version": 3
   },
   "file_extension": ".py",
   "mimetype": "text/x-python",
   "name": "python",
   "nbconvert_exporter": "python",
   "pygments_lexer": "ipython3",
   "version": "3.9.12"
  }
 },
 "nbformat": 4,
 "nbformat_minor": 2
}

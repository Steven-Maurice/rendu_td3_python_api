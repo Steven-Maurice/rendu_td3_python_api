{
  "cells": [
    {
      "cell_type": "markdown",
      "metadata": {
        "id": "KYgvX-IeyKGs"
      },
      "source": [
        "# Python with APIs\n",
        "Exchanges via HTTP using `requests` package"
      ]
    },
    {
      "cell_type": "code",
      "execution_count": 3,
      "metadata": {
        "id": "aFoXaB1gyKGy"
      },
      "outputs": [],
      "source": [
        "import requests"
      ]
    },
    {
      "cell_type": "markdown",
      "metadata": {
        "id": "7AlfZUIPyKG1"
      },
      "source": [
        "## Example"
      ]
    },
    {
      "cell_type": "markdown",
      "metadata": {
        "id": "b9Z_rxFPyKG2"
      },
      "source": [
        "### Agify API"
      ]
    },
    {
      "cell_type": "markdown",
      "metadata": {
        "id": "yruATVcvyKG2"
      },
      "source": [
        "Example route for Agify API"
      ]
    },
    {
      "cell_type": "code",
      "execution_count": 1,
      "metadata": {
        "id": "QtpZCLnryKG3"
      },
      "outputs": [],
      "source": [
        "agify_dan = \"https://api.agify.io/?name=dan\""
      ]
    },
    {
      "cell_type": "markdown",
      "metadata": {
        "id": "mZgaCfcCyKG3"
      },
      "source": [
        "Extract response"
      ]
    },
    {
      "cell_type": "code",
      "execution_count": 4,
      "metadata": {
        "colab": {
          "base_uri": "https://localhost:8080/"
        },
        "id": "1rn7zhsByKG3",
        "outputId": "c9cf2bbd-ea91-4c33-935e-0c3922de6dcb"
      },
      "outputs": [
        {
          "output_type": "stream",
          "name": "stdout",
          "text": [
            "Answer status_code: <Response [200]>\n",
            "<class 'str'>\n",
            "<class 'dict'>\n",
            "{\"count\":67782,\"name\":\"dan\",\"age\":66}\n",
            "{'count': 67782, 'name': 'dan', 'age': 66}\n"
          ]
        }
      ],
      "source": [
        "# Run a GET request\n",
        "agify_answer = requests.get(agify_dan)\n",
        "agify_answer_txt = agify_answer.text\n",
        "agify_answer_json = agify_answer.json()\n",
        "\n",
        "print(f\"Answer status_code: {agify_answer}\")\n",
        "\n",
        "print(type(agify_answer_txt))\n",
        "print(type(agify_answer_json))\n",
        "\n",
        "print(agify_answer_txt)\n",
        "print(agify_answer_json)"
      ]
    },
    {
      "cell_type": "markdown",
      "metadata": {
        "id": "Na707COFyKG4"
      },
      "source": [
        "## Introductory Exercises"
      ]
    },
    {
      "cell_type": "code",
      "execution_count": 51,
      "metadata": {
        "colab": {
          "base_uri": "https://localhost:8080/"
        },
        "id": "3t5zhJruyKG4",
        "outputId": "62a18a48-d746-40a3-c69b-00210799a004"
      },
      "outputs": [
        {
          "output_type": "stream",
          "name": "stdout",
          "text": [
            "Votre prénom: alexis\n",
            "alexis, l'age prédit pour votre prénom est 44 ans.\n"
          ]
        }
      ],
      "source": [
        "# Exercise 1\n",
        "# Write a script that asks the user for their first name\n",
        "# and responds with a personalized message\n",
        "# using the agify API\n",
        "\n",
        "# https://api.agify.io/?name=YOUR_NAME\n",
        "# Example response: {\"name\":\"YOUR_NAME\",\"age\":30,\"count\":12345}\n",
        "\n",
        "import requests\n",
        "\n",
        "prénom = input(\"Votre prénom: \")\n",
        "\n",
        "api = f\"https://api.agify.io/?name={prénom}\"\n",
        "\n",
        "réponse = requests.get(api)\n",
        "\n",
        "if réponse.status_code == 200:\n",
        "    data = réponse.json()\n",
        "    predicted_age = data.get('age')\n",
        "\n",
        "    if predicted_age is not None:\n",
        "        print(f\"{prénom}, l'age prédit pour votre prénom est {predicted_age} ans.\")\n",
        "    else:\n",
        "        print(\"Nous n'avons pas pus définir un age\")\n",
        "else:\n",
        "    print(\"Il y a eu une erreur avec l'API\")\n",
        "\n"
      ]
    },
    {
      "cell_type": "code",
      "execution_count": 57,
      "metadata": {
        "colab": {
          "base_uri": "https://localhost:8080/"
        },
        "id": "GfUeKxh3yKG5",
        "outputId": "d0bcd53c-a925-4e9b-8815-629bfc7c6ae2"
      },
      "outputs": [
        {
          "output_type": "stream",
          "name": "stdout",
          "text": [
            "Votre prénom: alexis\n",
            "alexis, votre sexe devrait etre: male.\n"
          ]
        }
      ],
      "source": [
        "# Exercise 2\n",
        "# Write a script that asks the user for their first name\n",
        "# and responds with a personalized message\n",
        "# using the genderize API\n",
        "# https://api.genderize.io/?name=YOUR_NAME\n",
        "\n",
        "import requests\n",
        "\n",
        "prénom = input(\"Votre prénom: \")\n",
        "\n",
        "api = f\"https://api.genderize.io/?name={prénom}\"\n",
        "\n",
        "réponse = requests.get(api)\n",
        "\n",
        "if réponse.status_code == 200:\n",
        "    data = réponse.json()\n",
        "    sexe_predit = data.get('gender')\n",
        "\n",
        "    if sexe_predit is not None:\n",
        "        print(f\"{prénom}, votre sexe devrait etre: {sexe_predit}.\")\n",
        "    else:\n",
        "        print(\"Nous n'avons pas pus prédire votre sexe\")\n",
        "else:\n",
        "    print(\"Il y a eu une erreur avec l'API\")\n"
      ]
    },
    {
      "cell_type": "code",
      "execution_count": 59,
      "metadata": {
        "colab": {
          "base_uri": "https://localhost:8080/"
        },
        "id": "SB5oP52hyKG6",
        "outputId": "f401e658-7247-4fc5-ad45-553d2538c1f0"
      },
      "outputs": [
        {
          "output_type": "stream",
          "name": "stdout",
          "text": [
            "Votre prénom: alexis\n",
            "alexis, la nationalité de votre prénom devrait etre HT avec une probabilité de 11.18%.\n"
          ]
        }
      ],
      "source": [
        "# Exercise 3\n",
        "# Write a script that asks the user for their first name\n",
        "# and responds with a personalized message\n",
        "# using the nationalize API\n",
        "# https://api.nationalize.io/?name=YOUR_NAME\n",
        "\n",
        "import requests\n",
        "\n",
        "prénom = input(\"Votre prénom: \")\n",
        "\n",
        "api = f\"https://api.nationalize.io/?name={prénom}\"\n",
        "\n",
        "reponse = requests.get(api)\n",
        "\n",
        "\n",
        "if reponse.status_code == 200:\n",
        "    data = reponse.json()\n",
        "\n",
        "    if data['country']:\n",
        "\n",
        "        most_likely_nationality = data['country'][0]['country_id']\n",
        "        probability = data['country'][0]['probability'] * 100\n",
        "        print(f\"{prénom}, la nationalité de votre prénom devrait etre {most_likely_nationality} avec une probabilité de {probability:.2f}%.\")\n",
        "    else:\n",
        "        print(\"Nous n'avons pas pus determiner de nationalité pour votre prénom\")\n",
        "else:\n",
        "    print(\"Il y a eu une erreur avec l'API\")\n"
      ]
    },
    {
      "cell_type": "code",
      "execution_count": 61,
      "metadata": {
        "colab": {
          "base_uri": "https://localhost:8080/"
        },
        "id": "T42mP4cUyKG6",
        "outputId": "48774291-ae42-46a0-be88-63dcd35527e5"
      },
      "outputs": [
        {
          "output_type": "stream",
          "name": "stdout",
          "text": [
            "Votre prénom alexis\n",
            "Le pays le plus probable pour le prénom 'alexis' est HT avec une probabilité de 11.18%.\n"
          ]
        }
      ],
      "source": [
        "# Exercise 3.1\n",
        "# Parsing the response from the nationalize API\n",
        "# Get the most probable country and its percentage\n",
        "# Example response: {\"name\":\"YOUR_NAME\",\"country\":[{\"country_id\":\"FR\",\"probability\":0.75},{\"country_id\":\"BE\",\"probability\":0.25}]}\n",
        "# Hint: use the max() function with a lambda function\n",
        "# https://docs.python.org/3/library/functions.html#max\n",
        "# https://docs.python.org/3/tutorial/controlflow.html#lambda-expressions\n",
        "\n",
        "import requests\n",
        "\n",
        "prénom = input(\"Votre prénom \")\n",
        "\n",
        "api = f\"https://api.nationalize.io/?name={prénom}\"\n",
        "\n",
        "reponse = requests.get(api)\n",
        "\n",
        "\n",
        "if reponse.status_code == 200:\n",
        "    data = reponse.json()\n",
        "\n",
        "    if data['country']:\n",
        "        pays_probable = max(data['country'], key=lambda x: x['probability'])\n",
        "\n",
        "        country_id = pays_probable['country_id']\n",
        "        probabilité = pays_probable['probability'] * 100  # Convert to percentage\n",
        "\n",
        "        print(f\"Le pays le plus probable pour le prénom '{prénom}' est {country_id} avec une probabilité de {probability:.2f}%.\")\n",
        "    else:\n",
        "        print(f\"Aucune nationalité trouvé pour le prénom'{prénom}'.\")\n",
        "else:\n",
        "    print(\"Il y a eu une erreur avec l'API.\")\n"
      ]
    },
    {
      "cell_type": "code",
      "execution_count": 62,
      "metadata": {
        "colab": {
          "base_uri": "https://localhost:8080/"
        },
        "id": "MFBRoE_UyKG7",
        "outputId": "f490d891-8af3-47fe-ed6b-4fc2ce4510d6"
      },
      "outputs": [
        {
          "output_type": "stream",
          "name": "stdout",
          "text": [
            "suggestion d'activité au hasard: Learn GraphQL\n",
            "Une activité pour 4 participants: Have a photo session with some friends\n",
            "Une activité pour 4 participants: Go see a Broadway production\n",
            "Une activité non onereuse pour 2 participants: Compliment someone\n"
          ]
        }
      ],
      "source": [
        "# Exercise 4\n",
        "# Use BoredAPI : https://www.boredapi.com/\n",
        "# Documentation : https://www.boredapi.com/documentation\n",
        "# 1. Write a script that generates random activities\n",
        "# 2. Write a script that generates random activities\n",
        "# 3. Write a script that generates random activities for 4 participants\n",
        "# 4. Write a script that generates random activities for 4 participants and of type \"recreational\"\n",
        "# 5. Write a script that generates random activities for 2 participants and that does not require equipment\n",
        "\n",
        "\n",
        "#Question 1 :\n",
        "\n",
        "import requests\n",
        "\n",
        "def get_random_activity():\n",
        "    reponse = requests.get(\"https://www.boredapi.com/api/activity\")\n",
        "    if reponse.status_code == 200:\n",
        "        activité = reponse.json()['activity']\n",
        "        print(f\"suggestion d'activité au hasard: {activité}\")\n",
        "    else:\n",
        "        print(\"Erreur, réessayer.\")\n",
        "\n",
        "get_random_activity()\n",
        "\n",
        "\n",
        "#Question 3 :\n",
        "\n",
        "import requests\n",
        "\n",
        "def get_activity_for_participants(participants):\n",
        "    reponse = requests.get(f\"https://www.boredapi.com/api/activity?participants={participants}\")\n",
        "    if reponse.status_code == 200:\n",
        "        activity = reponse.json()['activity']\n",
        "        print(f\"Une activité pour {participants} participants: {activity}\")\n",
        "    else:\n",
        "        print(f\"Failed to fetch an activity for {participants} participants. Please try again.\")\n",
        "\n",
        "get_activity_for_participants(4)\n",
        "\n",
        "# Question 4 :\n",
        "\n",
        "import requests\n",
        "\n",
        "def get_specific_activity(participants, activity_type):\n",
        "    response = requests.get(f\"https://www.boredapi.com/api/activity?participants={participants}&type={activity_type}\")\n",
        "    if response.status_code == 200:\n",
        "        activity = response.json()['activity']\n",
        "        print(f\"Une activité pour {participants} participants: {activity}\")\n",
        "    else:\n",
        "        print(f\"Failed to fetch a recreational activity for {participants} participants. Please try again.\")\n",
        "\n",
        "get_specific_activity(4, \"recreational\")\n",
        "\n",
        "\n",
        "# Question 5 :\n",
        "\n",
        "import requests\n",
        "\n",
        "def get_specific_activity_with_no_equipment(participants, price):\n",
        "    response = requests.get(f\"https://www.boredapi.com/api/activity?participants={participants}&price={price}\")\n",
        "    if response.status_code == 200:\n",
        "      activity = response.json()['activity']\n",
        "      print(f\"Une activité non onereuse pour {participants} participants: {activity}\")\n",
        "    else:\n",
        "        print(f\"Failed to fetch an activity for {participants} participants that does not require equipment. Please try again.\")\n",
        "\n",
        "get_specific_activity_with_no_equipment(2, 0.0)"
      ]
    },
    {
      "cell_type": "markdown",
      "metadata": {
        "id": "KXxXiIS0yKG7"
      },
      "source": [
        "## Intermediate exercises"
      ]
    },
    {
      "cell_type": "code",
      "execution_count": 44,
      "metadata": {
        "colab": {
          "base_uri": "https://localhost:8080/"
        },
        "id": "cUGXKX22yKG8",
        "outputId": "d90890b6-5e2b-431f-c289-519b4d288acc"
      },
      "outputs": [
        {
          "output_type": "stream",
          "name": "stdout",
          "text": [
            "Kent\n",
            "Sussex\n",
            "Surrey\n",
            "Hampshire\n",
            "Berkshire\n",
            "Wiltshire\n",
            "Dorset\n",
            "Somerset\n",
            "Devon\n",
            "Cornwall\n",
            "Middlesex\n",
            "Hertfordshire\n",
            "Buckinghamshire\n",
            "Gloucestershire\n",
            "Oxfordshire\n",
            "Worcestershire\n",
            "Herefordshire\n",
            "Cambridgeshire\n",
            "Huntingdonshire\n",
            "Bedfordshire\n",
            "Northamptonshire\n",
            "Leicestershire\n",
            "Warwickshire\n",
            "Staffordshire\n",
            "Shropshire\n",
            "Cheshire\n",
            "Derbyshire\n",
            "Nottinghamshire\n",
            "Rutland\n",
            "Yorkshire\n",
            "Lincolnshire\n",
            "Claims: YB\n",
            "Claims: YC\n",
            "Claims: LC\n",
            "Claims: HC\n",
            "Claims: YS\n",
            "Essex\n",
            "Norfolk\n",
            "Suffolk\n",
            "Lancashire\n"
          ]
        }
      ],
      "source": [
        "# OpenDomesday\n",
        "# https://opendomesday.org/api/\n",
        "\n",
        "# Exercise 1\n",
        "# Write a script that displays all the counties\n",
        "# using the OpenDomesday API.\n",
        "\n",
        "import requests\n",
        "import json\n",
        "\n",
        "def get_counties():\n",
        "    api_url = \"https://opendomesday.org/api/1.0/county\"\n",
        "    reponse = requests.get(api_url)\n",
        "\n",
        "    if reponse.status_code == 200:\n",
        "        counties = reponse.json()\n",
        "        for county in counties:\n",
        "            print(county['name'])\n",
        "    else:\n",
        "        print(\"Failed to fetch counties. Please try again.\")\n",
        "\n",
        "get_counties()"
      ]
    },
    {
      "cell_type": "code",
      "execution_count": 48,
      "metadata": {
        "colab": {
          "base_uri": "https://localhost:8080/"
        },
        "id": "OiLvk-9qyKG8",
        "outputId": "54c5dfcf-9fe2-4449-86a5-877c40f9dc03"
      },
      "outputs": [
        {
          "output_type": "stream",
          "name": "stdout",
          "text": [
            "{'id': 'dby', 'name': 'Derbyshire', 'name_slug': 'derbyshire', 'places_in_county': [{'id': 1036}, {'id': 2558}, {'id': 3016}, {'id': 4791}, {'id': 6093}, {'id': 8701}, {'id': 8951}, {'id': 9101}, {'id': 11441}, {'id': 10771}, {'id': 16116}, {'id': 20861}, {'id': 22251}, {'id': 22571}, {'id': 22611}, {'id': 24741}, {'id': 25536}, {'id': 19061}, {'id': 30246}, {'id': 31896}, {'id': 32521}, {'id': 32981}, {'id': 33916}, {'id': 41346}, {'id': 41788}, {'id': 41801}, {'id': 45821}, {'id': 47401}, {'id': 47411}, {'id': 52361}, {'id': 52596}, {'id': 53901}, {'id': 54446}, {'id': 54646}, {'id': 55736}, {'id': 56786}, {'id': 57061}, {'id': 60236}, {'id': 60351}, {'id': 60816}, {'id': 63606}, {'id': 65368}, {'id': 73221}, {'id': 73731}, {'id': 73741}, {'id': 91}, {'id': 2623}, {'id': 3011}, {'id': 3941}, {'id': 4046}, {'id': 5016}, {'id': 5676}, {'id': 7111}, {'id': 7116}, {'id': 7451}, {'id': 9056}, {'id': 10981}, {'id': 11656}, {'id': 11941}, {'id': 12751}, {'id': 13401}, {'id': 14081}, {'id': 14306}, {'id': 15306}, {'id': 15451}, {'id': 17386}, {'id': 17811}, {'id': 19611}, {'id': 22436}, {'id': 22476}, {'id': 24011}, {'id': 24306}, {'id': 25081}, {'id': 27521}, {'id': 33816}, {'id': 40056}, {'id': 28311}, {'id': 29846}, {'id': 30061}, {'id': 30211}, {'id': 30536}, {'id': 30571}, {'id': 20391}, {'id': 32571}, {'id': 33016}, {'id': 36211}, {'id': 37586}, {'id': 40057}, {'id': 39661}, {'id': 39956}, {'id': 40466}, {'id': 42799}, {'id': 43751}, {'id': 44321}, {'id': 28296}, {'id': 34241}, {'id': 46861}, {'id': 26971}, {'id': 2366}, {'id': 48026}, {'id': 49236}, {'id': 50311}, {'id': 52766}, {'id': 52791}, {'id': 55006}, {'id': 55131}, {'id': 58231}, {'id': 59051}, {'id': 42936}, {'id': 61396}, {'id': 62566}, {'id': 63721}, {'id': 67724}, {'id': 69701}, {'id': 72781}, {'id': 73841}, {'id': 14941}, {'id': 20691}, {'id': 39371}, {'id': 42171}, {'id': 54526}, {'id': 46681}, {'id': 51241}, {'id': 64663}, {'id': 70526}, {'id': 1326}, {'id': 2401}, {'id': 3291}, {'id': 4001}, {'id': 8116}, {'id': 8831}, {'id': 9461}, {'id': 10196}, {'id': 12706}, {'id': 13281}, {'id': 22243}, {'id': 18184}, {'id': 18736}, {'id': 23231}, {'id': 6141}, {'id': 29236}, {'id': 29861}, {'id': 32336}, {'id': 33086}, {'id': 34446}, {'id': 35221}, {'id': 35041}, {'id': 37056}, {'id': 38231}, {'id': 40456}, {'id': 41344}, {'id': 42041}, {'id': 42046}, {'id': 42797}, {'id': 45553}, {'id': 46851}, {'id': 48266}, {'id': 49221}, {'id': 55881}, {'id': 56826}, {'id': 56941}, {'id': 61526}, {'id': 62731}, {'id': 63966}, {'id': 66911}, {'id': 68251}, {'id': 68481}, {'id': 68546}, {'id': 71226}, {'id': 71466}, {'id': 1136}, {'id': 1456}, {'id': 1596}, {'id': 2106}, {'id': 3163}, {'id': 4646}, {'id': 5396}, {'id': 8456}, {'id': 11731}, {'id': 14476}, {'id': 18001}, {'id': 19416}, {'id': 22741}, {'id': 23256}, {'id': 23731}, {'id': 24921}, {'id': 35046}, {'id': 35311}, {'id': 37656}, {'id': 39466}, {'id': 39566}, {'id': 40901}, {'id': 41658}, {'id': 42536}, {'id': 42741}, {'id': 44361}, {'id': 45893}, {'id': 47416}, {'id': 49901}, {'id': 50661}, {'id': 50806}, {'id': 54966}, {'id': 56216}, {'id': 58701}, {'id': 61046}, {'id': 63391}, {'id': 65696}, {'id': 69008}, {'id': 69081}, {'id': 70641}, {'id': 8956}, {'id': 9586}, {'id': 9611}, {'id': 13741}, {'id': 13806}, {'id': 16581}, {'id': 18621}, {'id': 19941}, {'id': 20101}, {'id': 21051}, {'id': 21326}, {'id': 28556}, {'id': 30666}, {'id': 31306}, {'id': 32361}, {'id': 33141}, {'id': 33376}, {'id': 34646}, {'id': 35946}, {'id': 37591}, {'id': 14686}, {'id': 22266}, {'id': 28563}, {'id': 22271}, {'id': 41006}, {'id': 41521}, {'id': 43091}, {'id': 43991}, {'id': 46746}, {'id': 48806}, {'id': 51961}, {'id': 52096}, {'id': 53806}, {'id': 53996}, {'id': 55576}, {'id': 55956}, {'id': 56606}, {'id': 56696}, {'id': 57526}, {'id': 58046}, {'id': 58196}, {'id': 66498}, {'id': 16166}, {'id': 18951}, {'id': 22546}, {'id': 58356}, {'id': 71196}, {'id': 986}, {'id': 2711}, {'id': 4311}, {'id': 4369}, {'id': 5791}, {'id': 7651}, {'id': 8016}, {'id': 8721}, {'id': 9218}, {'id': 10026}, {'id': 12721}, {'id': 14691}, {'id': 16356}, {'id': 3106}, {'id': 20756}, {'id': 21276}, {'id': 21301}, {'id': 22406}, {'id': 22766}, {'id': 23121}, {'id': 23598}, {'id': 26856}, {'id': 4367}, {'id': 27776}, {'id': 29076}, {'id': 29411}, {'id': 32576}, {'id': 32686}, {'id': 35996}, {'id': 40296}, {'id': 29071}, {'id': 44051}, {'id': 44161}, {'id': 49241}, {'id': 45036}, {'id': 45366}, {'id': 71096}, {'id': 46101}, {'id': 46946}, {'id': 9288}, {'id': 65551}, {'id': 69858}, {'id': 47811}, {'id': 48031}, {'id': 48116}, {'id': 51193}, {'id': 52801}, {'id': 54166}, {'id': 55731}, {'id': 45936}, {'id': 71101}, {'id': 57756}, {'id': 58531}, {'id': 33646}, {'id': 60001}, {'id': 60836}, {'id': 61561}, {'id': 45941}, {'id': 63656}, {'id': 64516}, {'id': 65483}, {'id': 65938}, {'id': 66136}, {'id': 66256}, {'id': 66576}, {'id': 67036}, {'id': 68591}, {'id': 69901}, {'id': 70561}, {'id': 71081}, {'id': 52156}, {'id': 1906}, {'id': 8081}, {'id': 9741}, {'id': 12676}, {'id': 13531}, {'id': 17906}, {'id': 21011}, {'id': 25441}, {'id': 29931}, {'id': 30696}, {'id': 34821}, {'id': 40511}, {'id': 42251}, {'id': 43196}, {'id': 45656}, {'id': 51576}, {'id': 52566}, {'id': 56681}, {'id': 58171}, {'id': 58191}, {'id': 60031}, {'id': 60896}, {'id': 63696}, {'id': 67171}]}\n"
          ]
        }
      ],
      "source": [
        "# Exercise 2\n",
        "# Write a script that displays the information\n",
        "# of the county \"Derbyshire\".\n",
        "\n",
        "import requests\n",
        "import json\n",
        "\n",
        "def get_Derbyshire():\n",
        "    api_url = \"https://opendomesday.org/api/1.0/county\"\n",
        "    response = requests.get(api_url)\n",
        "\n",
        "    if response.status_code == 200:\n",
        "        counties = response.json()\n",
        "        for county in counties:\n",
        "            if (county['name']==\"Derbyshire\"):\n",
        "              return(county)\n",
        "    else:\n",
        "        print(\"Failed to fetch counties. Please try again.\")\n",
        "\n",
        "derbyshire_data=get_Derbyshire()\n",
        "print(derbyshire_data)\n"
      ]
    },
    {
      "cell_type": "code",
      "execution_count": 50,
      "metadata": {
        "colab": {
          "base_uri": "https://localhost:8080/"
        },
        "id": "SybLf77iyKG8",
        "outputId": "b4a647a2-c05f-4b46-bcdb-fd4649bfd746"
      },
      "outputs": [
        {
          "output_type": "stream",
          "name": "stdout",
          "text": [
            "Failed to fetch details for place ID: 1036\n",
            "Failed to fetch details for place ID: 2558\n",
            "Failed to fetch details for place ID: 3016\n",
            "Saved place details to 'derbyshire_place_details.json'.\n"
          ]
        }
      ],
      "source": [
        "# Exercise 3\n",
        "# Now that we have the ids for all the places in Derbyshire, we can load all their details...\n",
        "# And from their details, we can list all the details of their manors.\n",
        "# Go fetch the data!\n",
        "# P.S.: remember to save the data to avoid downloading it every time\n",
        "\n",
        "import requests\n",
        "import json\n",
        "\n",
        "def fetch_and_save_place_details(place_ids):\n",
        "    place_details_dict = {}\n",
        "\n",
        "    for place_id in place_ids:\n",
        "        api_url = f\"https://opendomesday.org/api/1.0/place/{place_id}\"\n",
        "        response = requests.get(api_url)\n",
        "\n",
        "        if response.status_code == 200:\n",
        "            place_details = response.json()\n",
        "            place_details_dict[place_id] = place_details\n",
        "        else:\n",
        "            print(f\"Failed to fetch details for place ID: {place_id}\")\n",
        "\n",
        "    # Save the collected place details to a file\n",
        "    with open('derbyshire_place_details.json', 'w') as file:\n",
        "        json.dump(place_details_dict, file)\n",
        "    print(\"Saved place details to 'derbyshire_place_details.json'.\")\n",
        "\n",
        "place_ids = [1036, 2558, 3016]\n",
        "\n",
        "fetch_and_save_place_details(place_ids)\n"
      ]
    },
    {
      "cell_type": "code",
      "execution_count": null,
      "metadata": {
        "id": "2O4zAOkcyKG9"
      },
      "outputs": [],
      "source": [
        "# Exercise 4\n",
        "# Now that we have a quantity of raw data, we will extract the interesting parts.\n",
        "# In our case, we want to count the money paid by each manor and compare it to the number of ploughs it has.\n",
        "# - Can you find the corresponding json fields?\n",
        "# - Then, you can list these numbers for each manor in Derbyshire.\n",
        "# - And format this in an appropriate comma-separated values (CSV) file.\n",
        "\n",
        "money_paid ="
      ]
    },
    {
      "cell_type": "code",
      "execution_count": null,
      "metadata": {
        "id": "NLsKB85NyKG9"
      },
      "outputs": [],
      "source": [
        "# Exercise 5\n",
        "# What is the richest manor in Derbyshire?\n",
        "\n"
      ]
    },
    {
      "cell_type": "code",
      "execution_count": null,
      "metadata": {
        "id": "BE5wIKDjyKG9"
      },
      "outputs": [],
      "source": [
        "# Exercise 6\n",
        "# Give the total value paid by Derbyshire.\n",
        "\n",
        "\n"
      ]
    },
    {
      "cell_type": "code",
      "execution_count": null,
      "metadata": {
        "id": "a0ylre_gyKG9"
      },
      "outputs": [],
      "source": [
        "# Exercise 7\n",
        "# Create a Python class.\n",
        "# It must include all the previous functionalities.\n",
        "# Refactor your code to make it readable, efficient, and maintainable.\n",
        "\n",
        "\n"
      ]
    },
    {
      "cell_type": "code",
      "execution_count": null,
      "metadata": {
        "id": "abjDGDg3yKG-"
      },
      "outputs": [],
      "source": [
        "# Exercise 8 (optional)\n",
        "# Add to your class a system for error handling.\n",
        "# It must manage the following errors:\n",
        "# - Connection error\n",
        "# - Parsing error\n",
        "# - Request error\n",
        "# - Response error\n",
        "# - Parameter error\n",
        "\n",
        "#######################################################\n",
        "################## YOUR ANSWER HERE ##################\n",
        "#######################################################\n",
        "\n"
      ]
    }
  ],
  "metadata": {
    "kernelspec": {
      "display_name": "api",
      "language": "python",
      "name": "python3"
    },
    "language_info": {
      "codemirror_mode": {
        "name": "ipython",
        "version": 3
      },
      "file_extension": ".py",
      "mimetype": "text/x-python",
      "name": "python",
      "nbconvert_exporter": "python",
      "pygments_lexer": "ipython3",
      "version": "3.11.6"
    },
    "colab": {
      "provenance": []
    }
  },
  "nbformat": 4,
  "nbformat_minor": 0
}
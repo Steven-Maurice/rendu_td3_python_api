{
  "cells": [
    {
      "cell_type": "markdown",
      "metadata": {
        "id": "6xhcURVb__kk"
      },
      "source": [
        "# Python with APIs\n",
        "Exchanges via HTTP using `requests` package"
      ]
    },
    {
      "cell_type": "code",
      "execution_count": 46,
      "metadata": {
        "id": "2gXWetWK__kl"
      },
      "outputs": [],
      "source": [
        "import requests"
      ]
    },
    {
      "cell_type": "markdown",
      "metadata": {
        "id": "eMTY2a1v__km"
      },
      "source": [
        "## Example"
      ]
    },
    {
      "cell_type": "markdown",
      "metadata": {
        "id": "Bb1CSm74__km"
      },
      "source": [
        "### Agify API"
      ]
    },
    {
      "cell_type": "markdown",
      "metadata": {
        "id": "t4aQbgoi__km"
      },
      "source": [
        "Example route for Agify API"
      ]
    },
    {
      "cell_type": "code",
      "execution_count": 47,
      "metadata": {
        "id": "SWyay3IL__kn"
      },
      "outputs": [],
      "source": [
        "agify_dan = \"https://api.agify.io/?name=dan\""
      ]
    },
    {
      "cell_type": "markdown",
      "metadata": {
        "id": "Pbjbp-YN__kn"
      },
      "source": [
        "Extract response"
      ]
    },
    {
      "cell_type": "code",
      "execution_count": 48,
      "metadata": {
        "colab": {
          "base_uri": "https://localhost:8080/"
        },
        "id": "1G9as_a2__kn",
        "outputId": "6f34b9c6-d6c8-4938-8896-c170846c3e07"
      },
      "outputs": [
        {
          "output_type": "stream",
          "name": "stdout",
          "text": [
            "Answer status_code: <Response [200]>\n",
            "<class 'str'>\n",
            "<class 'dict'>\n",
            "{\"count\":67782,\"name\":\"dan\",\"age\":66}\n",
            "{'count': 67782, 'name': 'dan', 'age': 66}\n"
          ]
        }
      ],
      "source": [
        "# Run a GET request\n",
        "agify_answer = requests.get(agify_dan)\n",
        "agify_answer_txt = agify_answer.text\n",
        "agify_answer_json = agify_answer.json()\n",
        "\n",
        "print(f\"Answer status_code: {agify_answer}\")\n",
        "\n",
        "print(type(agify_answer_txt))\n",
        "print(type(agify_answer_json))\n",
        "\n",
        "print(agify_answer_txt)\n",
        "print(agify_answer_json)"
      ]
    },
    {
      "cell_type": "code",
      "source": [],
      "metadata": {
        "id": "aH5RjbVhCDEb"
      },
      "execution_count": 48,
      "outputs": []
    },
    {
      "cell_type": "markdown",
      "metadata": {
        "id": "B5bqi3us__kn"
      },
      "source": [
        "## Introductory Exercises"
      ]
    },
    {
      "cell_type": "code",
      "execution_count": 49,
      "metadata": {
        "colab": {
          "base_uri": "https://localhost:8080/"
        },
        "id": "85-fcVPG__kn",
        "outputId": "030b23ff-a51b-4291-edf3-bd8d1c465a8a"
      },
      "outputs": [
        {
          "output_type": "stream",
          "name": "stdout",
          "text": [
            "Please enter your first name: Valentin\n",
            "Hello, Valentin! Based on our prediction, your age might be around 45 years.\n"
          ]
        }
      ],
      "source": [
        "# Exercise 1\n",
        "# Write a script that asks the user for their first name\n",
        "# and responds with a personalized message\n",
        "# using the agify API\n",
        "\n",
        "# https://api.agify.io/?name=YOUR_NAME\n",
        "# Example response: {\"name\":\"YOUR_NAME\",\"age\":30,\"count\":12345}\n",
        "\n",
        "def get_age_prediction(name):\n",
        "    url = f\"https://api.agify.io/?name={name}\"\n",
        "    response = requests.get(url)\n",
        "\n",
        "    if response.status_code == 200:\n",
        "        # Parse the JSON response\n",
        "        data = response.json()\n",
        "\n",
        "        # Extract the age prediction\n",
        "        age = data.get('age', 'unknown')\n",
        "\n",
        "        # Return the age prediction\n",
        "        return age\n",
        "    else:\n",
        "        # Return an error message if the request failed\n",
        "        return \"Sorry, couldn't fetch the age prediction at the moment.\"\n",
        "\n",
        "def main():\n",
        "    first_name = input(\"Please enter your first name: \")\n",
        "\n",
        "    age_prediction = get_age_prediction(first_name)\n",
        "\n",
        "    if isinstance(age_prediction, int):\n",
        "        print(f\"Hello, {first_name}! Based on our prediction, your age might be around {age_prediction} years.\")\n",
        "    else:\n",
        "        print(age_prediction)\n",
        "\n",
        "if __name__ == \"__main__\":\n",
        "    main()"
      ]
    },
    {
      "cell_type": "code",
      "execution_count": 50,
      "metadata": {
        "id": "GdmbfqZo__kn",
        "colab": {
          "base_uri": "https://localhost:8080/"
        },
        "outputId": "8fb781dd-e53a-41c5-be8e-25d372793ed7"
      },
      "outputs": [
        {
          "output_type": "stream",
          "name": "stdout",
          "text": [
            "Please enter your first name: Valentin\n",
            "Hello, Valentin! Based on our prediction, your gender might be male.\n"
          ]
        }
      ],
      "source": [
        "# Exercise 2\n",
        "# Write a script that asks the user for their first name\n",
        "# and responds with a personalized message\n",
        "# using the genderize API\n",
        "# https://api.genderize.io/?name=YOUR_NAME\n",
        "\n",
        "def get_gender_prediction(name):\n",
        "    # Build the URL for the Genderize API with the user's name\n",
        "    url = f\"https://api.genderize.io/?name={name}\"\n",
        "\n",
        "    # Make the request to the API\n",
        "    response = requests.get(url)\n",
        "\n",
        "    # Check if the request was successful\n",
        "    if response.status_code == 200:\n",
        "        # Parse the JSON response\n",
        "        data = response.json()\n",
        "\n",
        "        # Extract the gender prediction\n",
        "        gender = data.get('gender', 'unknown')\n",
        "\n",
        "        # Return the gender prediction\n",
        "        return gender\n",
        "    else:\n",
        "        # Return an error message if the request failed\n",
        "        return \"Sorry, couldn't fetch the gender prediction at the moment.\"\n",
        "\n",
        "def main():\n",
        "    # Ask the user for their first name\n",
        "    first_name = input(\"Please enter your first name: \")\n",
        "\n",
        "    # Get the gender prediction from the Genderize API\n",
        "    gender_prediction = get_gender_prediction(first_name)\n",
        "\n",
        "    # Check if we got an actual gender or an error message\n",
        "    if gender_prediction != \"unknown\" and not gender_prediction.startswith(\"Sorry\"):\n",
        "        print(f\"Hello, {first_name}! Based on our prediction, your gender might be {gender_prediction}.\")\n",
        "    else:\n",
        "        # Print the error message if something went wrong\n",
        "        print(gender_prediction)\n",
        "\n",
        "if __name__ == \"__main__\":\n",
        "    main()\n",
        "\n",
        "#######################################################\n",
        "################## YOUR ANSWER HERE ##################\n",
        "#######################################################\n"
      ]
    },
    {
      "cell_type": "code",
      "execution_count": 51,
      "metadata": {
        "id": "dYd_6Jv8__ko",
        "colab": {
          "base_uri": "https://localhost:8080/"
        },
        "outputId": "abf7bb10-ba86-49ee-d083-6616dcb3d5cf"
      },
      "outputs": [
        {
          "output_type": "stream",
          "name": "stdout",
          "text": [
            "Please enter your first name: Valentin\n",
            "Hello, Valentin! Based on our prediction, your nationality could be: RO (35.55%), PR (17.21%), DK (4.33%), PE (3.65%), FR (3.04%).\n"
          ]
        }
      ],
      "source": [
        "# Exercise 3\n",
        "# Write a script that asks the user for their first name\n",
        "# and responds with a personalized message\n",
        "# using the nationalize API\n",
        "# https://api.nationalize.io/?name=YOUR_NAME\n",
        "\n",
        "import requests\n",
        "\n",
        "def get_nationality_prediction(name):\n",
        "    # Build the URL for the Nationalize API with the user's name\n",
        "    url = f\"https://api.nationalize.io/?name={name}\"\n",
        "\n",
        "    # Make the request to the API\n",
        "    response = requests.get(url)\n",
        "\n",
        "    # Check if the request was successful\n",
        "    if response.status_code == 200:\n",
        "        # Parse the JSON response\n",
        "        data = response.json()\n",
        "\n",
        "        # Extract the nationality predictions\n",
        "        countries = data.get('country', [])\n",
        "\n",
        "        # Format the nationality predictions\n",
        "        if countries:\n",
        "            predictions = ', '.join([f\"{country['country_id']} ({country['probability']:.2%})\" for country in countries])\n",
        "            return predictions\n",
        "        else:\n",
        "            return \"could not be determined\"\n",
        "    else:\n",
        "        # Return an error message if the request failed\n",
        "        return \"Sorry, couldn't fetch the nationality prediction at the moment.\"\n",
        "\n",
        "def main():\n",
        "    # Ask the user for their first name\n",
        "    first_name = input(\"Please enter your first name: \")\n",
        "\n",
        "    # Get the nationality prediction from the Nationalize API\n",
        "    nationality_prediction = get_nationality_prediction(first_name)\n",
        "\n",
        "    # Check if we got actual predictions or an error message\n",
        "    if not nationality_prediction.startswith(\"Sorry\"):\n",
        "        print(f\"Hello, {first_name}! Based on our prediction, your nationality could be: {nationality_prediction}.\")\n",
        "    else:\n",
        "        # Print the error message if something went wrong\n",
        "        print(nationality_prediction)\n",
        "\n",
        "if __name__ == \"__main__\":\n",
        "    main()\n",
        "\n",
        "\n",
        "\n",
        "#######################################################\n",
        "################## YOUR ANSWER HERE ##################\n",
        "#######################################################\n"
      ]
    },
    {
      "cell_type": "code",
      "execution_count": 52,
      "metadata": {
        "id": "VcUED4Tn__ko",
        "colab": {
          "base_uri": "https://localhost:8080/"
        },
        "outputId": "6dad0f61-63a6-4316-dfb7-02eab0675467"
      },
      "outputs": [
        {
          "output_type": "stream",
          "name": "stdout",
          "text": [
            "Please enter your first name: Valentin\n",
            "Hello, Valentin! Based on our prediction, your most likely nationality is RO with a probability of 35.55%.\n"
          ]
        }
      ],
      "source": [
        "# Exercise 3.1\n",
        "# Parsing the response from the nationalize API\n",
        "# Get the most probable country and its percentage\n",
        "# Example response: {\"name\":\"YOUR_NAME\",\"country\":[{\"country_id\":\"FR\",\"probability\":0.75},{\"country_id\":\"BE\",\"probability\":0.25}]}\n",
        "# Hint: use the max() function with a lambda function\n",
        "# https://docs.python.org/3/library/functions.html#max\n",
        "# https://docs.python.org/3/tutorial/controlflow.html#lambda-expressions\n",
        "\n",
        "import requests\n",
        "\n",
        "def get_most_probable_nationality(name):\n",
        "    # Build the URL for the Nationalize API with the user's name\n",
        "    url = f\"https://api.nationalize.io/?name={name}\"\n",
        "\n",
        "    # Make the request to the API\n",
        "    response = requests.get(url)\n",
        "\n",
        "    # Check if the request was successful\n",
        "    if response.status_code == 200:\n",
        "        # Parse the JSON response\n",
        "        data = response.json()\n",
        "\n",
        "        # Extract the country predictions\n",
        "        countries = data.get('country', [])\n",
        "\n",
        "        if countries:\n",
        "            # Use max() with a lambda to find the country with the highest probability\n",
        "            most_probable_country = max(countries, key=lambda country: country['probability'])\n",
        "            return most_probable_country['country_id'], most_probable_country['probability']\n",
        "        else:\n",
        "            # Return placeholders if no countries were predicted\n",
        "            return None, 0\n",
        "    else:\n",
        "        # Return placeholders if the API call was unsuccessful\n",
        "        return None, 0\n",
        "\n",
        "def main():\n",
        "    # Ask the user for their first name\n",
        "    first_name = input(\"Please enter your first name: \")\n",
        "\n",
        "    # Get the most probable nationality and its probability\n",
        "    country_id, probability = get_most_probable_nationality(first_name)\n",
        "\n",
        "    # Print a personalized message based on the response\n",
        "    if country_id:\n",
        "        print(f\"Hello, {first_name}! Based on our prediction, your most likely nationality is {country_id} with a probability of {probability:.2%}.\")\n",
        "    else:\n",
        "        print(\"We couldn't determine your most likely nationality based on your name.\")\n",
        "\n",
        "if __name__ == \"__main__\":\n",
        "    main()\n",
        "\n",
        "\n",
        "#######################################################\n",
        "################## YOUR ANSWER HERE ##################\n",
        "#######################################################\n"
      ]
    },
    {
      "cell_type": "code",
      "execution_count": 53,
      "metadata": {
        "id": "NdOnH85q__ko",
        "colab": {
          "base_uri": "https://localhost:8080/"
        },
        "outputId": "349febec-70d8-4308-a59c-5c1a1d9ecf99"
      },
      "outputs": [
        {
          "output_type": "stream",
          "name": "stdout",
          "text": [
            "Random Activity:  Make tie dye shirts\n",
            "Random Activity for 4 Participants:  Play a game of Monopoly\n",
            "Random Recreational Activity for 4 Participants:  Go see a Broadway production\n",
            "Random Activity for 2 Participants:  Catch up with a friend over a lunch date\n"
          ]
        }
      ],
      "source": [
        "# Exercise 4\n",
        "# Use BoredAPI : https://www.boredapi.com/\n",
        "# Documentation : https://www.boredapi.com/documentation\n",
        "# 1. Write a script that generates random activities\n",
        "# 3. Write a script that generates random activities for 4 participants\n",
        "# 4. Write a script that generates random activities for 4 participants and of type \"recreational\"\n",
        "# 5. Write a script that generates random activities for 2 participants and that does not require equipment\n",
        "\n",
        "def get_random_activity():\n",
        "    url = \"https://www.boredapi.com/api/activity\"\n",
        "    response = requests.get(url)\n",
        "    if response.status_code == 200:\n",
        "        data = response.json()\n",
        "        return data['activity']\n",
        "    else:\n",
        "        return \"Sorry, couldn't fetch an activity right now.\"\n",
        "\n",
        "print(\"Random Activity: \", get_random_activity())\n",
        "\n",
        "def get_random_activity_for_participants(participants=4):\n",
        "    url = f\"https://www.boredapi.com/api/activity?participants={participants}\"\n",
        "    response = requests.get(url)\n",
        "    if response.status_code == 200:\n",
        "        data = response.json()\n",
        "        return data['activity']\n",
        "    else:\n",
        "        return \"Sorry, couldn't fetch an activity for 4 participants right now.\"\n",
        "\n",
        "print(\"Random Activity for 4 Participants: \", get_random_activity_for_participants())\n",
        "\n",
        "def get_specific_activity(participants=4, type=\"recreational\"):\n",
        "    url = f\"https://www.boredapi.com/api/activity?participants={participants}&type={type}\"\n",
        "    response = requests.get(url)\n",
        "    if response.status_code == 200:\n",
        "        data = response.json()\n",
        "        return data['activity']\n",
        "    else:\n",
        "        return \"Sorry, couldn't fetch a recreational activity for 4 participants right now.\"\n",
        "\n",
        "print(\"Random Recreational Activity for 4 Participants: \", get_specific_activity())\n",
        "\n",
        "def get_activity_for_two(participants=2):\n",
        "    url = f\"https://www.boredapi.com/api/activity?participants={participants}\"\n",
        "    response = requests.get(url)\n",
        "    if response.status_code == 200:\n",
        "        data = response.json()\n",
        "        return data['activity']\n",
        "    else:\n",
        "        return \"Sorry, couldn't fetch an activity for 2 participants right now.\"\n",
        "\n",
        "print(\"Random Activity for 2 Participants: \", get_activity_for_two())\n",
        "\n",
        "#######################################################\n",
        "################## YOUR ANSWER HERE ##################\n",
        "#######################################################\n"
      ]
    },
    {
      "cell_type": "markdown",
      "metadata": {
        "id": "ZaC0OqeR__ko"
      },
      "source": [
        "## Intermediate exercises"
      ]
    },
    {
      "cell_type": "code",
      "execution_count": 54,
      "metadata": {
        "id": "saHZO9iA__ko",
        "colab": {
          "base_uri": "https://localhost:8080/"
        },
        "outputId": "7402909e-cc96-497e-cb85-d2f270898502"
      },
      "outputs": [
        {
          "output_type": "stream",
          "name": "stdout",
          "text": [
            "Kent\n",
            "Sussex\n",
            "Surrey\n",
            "Hampshire\n",
            "Berkshire\n",
            "Wiltshire\n",
            "Dorset\n",
            "Somerset\n",
            "Devon\n",
            "Cornwall\n",
            "Middlesex\n",
            "Hertfordshire\n",
            "Buckinghamshire\n",
            "Gloucestershire\n",
            "Oxfordshire\n",
            "Worcestershire\n",
            "Herefordshire\n",
            "Cambridgeshire\n",
            "Huntingdonshire\n",
            "Bedfordshire\n",
            "Northamptonshire\n",
            "Leicestershire\n",
            "Warwickshire\n",
            "Staffordshire\n",
            "Shropshire\n",
            "Cheshire\n",
            "Derbyshire\n",
            "Nottinghamshire\n",
            "Rutland\n",
            "Yorkshire\n",
            "Lincolnshire\n",
            "Claims: YB\n",
            "Claims: YC\n",
            "Claims: LC\n",
            "Claims: HC\n",
            "Claims: YS\n",
            "Essex\n",
            "Norfolk\n",
            "Suffolk\n",
            "Lancashire\n"
          ]
        }
      ],
      "source": [
        "# OpenDomesday\n",
        "# https://opendomesday.org/api/\n",
        "\n",
        "# Exercise 1\n",
        "# Write a script that displays all the counties\n",
        "# using the OpenDomesday API.\n",
        "\n",
        "import requests\n",
        "\n",
        "def fetch_counties():\n",
        "    url = \"https://opendomesday.org/api/1.0/county\"\n",
        "    response = requests.get(url)\n",
        "    if response.status_code == 200:\n",
        "        counties = response.json()\n",
        "        return counties\n",
        "    else:\n",
        "        return \"Failed to fetch counties.\"\n",
        "\n",
        "def display_counties():\n",
        "    counties = fetch_counties()\n",
        "    if isinstance(counties, str):\n",
        "        print(counties)\n",
        "    else:\n",
        "        for county in counties:\n",
        "            print(county['name'])\n",
        "\n",
        "if __name__ == \"__main__\":\n",
        "    display_counties()\n",
        "\n",
        "\n",
        "#######################################################\n",
        "################## YOUR ANSWER HERE ##################\n",
        "#######################################################\n"
      ]
    },
    {
      "cell_type": "code",
      "execution_count": 78,
      "metadata": {
        "id": "mfYg2Qsn__ko",
        "colab": {
          "base_uri": "https://localhost:8080/"
        },
        "outputId": "561b6b71-3ffc-4920-a657-efd087282a3d"
      },
      "outputs": [
        {
          "output_type": "stream",
          "name": "stdout",
          "text": [
            "Information for Derbyshire:\n",
            "id: dby\n",
            "name: Derbyshire\n",
            "name_slug: derbyshire\n",
            "Number of places in Derbyshire: 352\n",
            "[{'id': 1036}, {'id': 2558}, {'id': 3016}, {'id': 4791}, {'id': 6093}, {'id': 8701}, {'id': 8951}, {'id': 9101}, {'id': 11441}, {'id': 10771}, {'id': 16116}, {'id': 20861}, {'id': 22251}, {'id': 22571}, {'id': 22611}, {'id': 24741}, {'id': 25536}, {'id': 19061}, {'id': 30246}, {'id': 31896}, {'id': 32521}, {'id': 32981}, {'id': 33916}, {'id': 41346}, {'id': 41788}, {'id': 41801}, {'id': 45821}, {'id': 47401}, {'id': 47411}, {'id': 52361}, {'id': 52596}, {'id': 53901}, {'id': 54446}, {'id': 54646}, {'id': 55736}, {'id': 56786}, {'id': 57061}, {'id': 60236}, {'id': 60351}, {'id': 60816}, {'id': 63606}, {'id': 65368}, {'id': 73221}, {'id': 73731}, {'id': 73741}, {'id': 91}, {'id': 2623}, {'id': 3011}, {'id': 3941}, {'id': 4046}, {'id': 5016}, {'id': 5676}, {'id': 7111}, {'id': 7116}, {'id': 7451}, {'id': 9056}, {'id': 10981}, {'id': 11656}, {'id': 11941}, {'id': 12751}, {'id': 13401}, {'id': 14081}, {'id': 14306}, {'id': 15306}, {'id': 15451}, {'id': 17386}, {'id': 17811}, {'id': 19611}, {'id': 22436}, {'id': 22476}, {'id': 24011}, {'id': 24306}, {'id': 25081}, {'id': 27521}, {'id': 33816}, {'id': 40056}, {'id': 28311}, {'id': 29846}, {'id': 30061}, {'id': 30211}, {'id': 30536}, {'id': 30571}, {'id': 20391}, {'id': 32571}, {'id': 33016}, {'id': 36211}, {'id': 37586}, {'id': 40057}, {'id': 39661}, {'id': 39956}, {'id': 40466}, {'id': 42799}, {'id': 43751}, {'id': 44321}, {'id': 28296}, {'id': 34241}, {'id': 46861}, {'id': 26971}, {'id': 2366}, {'id': 48026}, {'id': 49236}, {'id': 50311}, {'id': 52766}, {'id': 52791}, {'id': 55006}, {'id': 55131}, {'id': 58231}, {'id': 59051}, {'id': 42936}, {'id': 61396}, {'id': 62566}, {'id': 63721}, {'id': 67724}, {'id': 69701}, {'id': 72781}, {'id': 73841}, {'id': 14941}, {'id': 20691}, {'id': 39371}, {'id': 42171}, {'id': 54526}, {'id': 46681}, {'id': 51241}, {'id': 64663}, {'id': 70526}, {'id': 1326}, {'id': 2401}, {'id': 3291}, {'id': 4001}, {'id': 8116}, {'id': 8831}, {'id': 9461}, {'id': 10196}, {'id': 12706}, {'id': 13281}, {'id': 22243}, {'id': 18184}, {'id': 18736}, {'id': 23231}, {'id': 6141}, {'id': 29236}, {'id': 29861}, {'id': 32336}, {'id': 33086}, {'id': 34446}, {'id': 35221}, {'id': 35041}, {'id': 37056}, {'id': 38231}, {'id': 40456}, {'id': 41344}, {'id': 42041}, {'id': 42046}, {'id': 42797}, {'id': 45553}, {'id': 46851}, {'id': 48266}, {'id': 49221}, {'id': 55881}, {'id': 56826}, {'id': 56941}, {'id': 61526}, {'id': 62731}, {'id': 63966}, {'id': 66911}, {'id': 68251}, {'id': 68481}, {'id': 68546}, {'id': 71226}, {'id': 71466}, {'id': 1136}, {'id': 1456}, {'id': 1596}, {'id': 2106}, {'id': 3163}, {'id': 4646}, {'id': 5396}, {'id': 8456}, {'id': 11731}, {'id': 14476}, {'id': 18001}, {'id': 19416}, {'id': 22741}, {'id': 23256}, {'id': 23731}, {'id': 24921}, {'id': 35046}, {'id': 35311}, {'id': 37656}, {'id': 39466}, {'id': 39566}, {'id': 40901}, {'id': 41658}, {'id': 42536}, {'id': 42741}, {'id': 44361}, {'id': 45893}, {'id': 47416}, {'id': 49901}, {'id': 50661}, {'id': 50806}, {'id': 54966}, {'id': 56216}, {'id': 58701}, {'id': 61046}, {'id': 63391}, {'id': 65696}, {'id': 69008}, {'id': 69081}, {'id': 70641}, {'id': 8956}, {'id': 9586}, {'id': 9611}, {'id': 13741}, {'id': 13806}, {'id': 16581}, {'id': 18621}, {'id': 19941}, {'id': 20101}, {'id': 21051}, {'id': 21326}, {'id': 28556}, {'id': 30666}, {'id': 31306}, {'id': 32361}, {'id': 33141}, {'id': 33376}, {'id': 34646}, {'id': 35946}, {'id': 37591}, {'id': 14686}, {'id': 22266}, {'id': 28563}, {'id': 22271}, {'id': 41006}, {'id': 41521}, {'id': 43091}, {'id': 43991}, {'id': 46746}, {'id': 48806}, {'id': 51961}, {'id': 52096}, {'id': 53806}, {'id': 53996}, {'id': 55576}, {'id': 55956}, {'id': 56606}, {'id': 56696}, {'id': 57526}, {'id': 58046}, {'id': 58196}, {'id': 66498}, {'id': 16166}, {'id': 18951}, {'id': 22546}, {'id': 58356}, {'id': 71196}, {'id': 986}, {'id': 2711}, {'id': 4311}, {'id': 4369}, {'id': 5791}, {'id': 7651}, {'id': 8016}, {'id': 8721}, {'id': 9218}, {'id': 10026}, {'id': 12721}, {'id': 14691}, {'id': 16356}, {'id': 3106}, {'id': 20756}, {'id': 21276}, {'id': 21301}, {'id': 22406}, {'id': 22766}, {'id': 23121}, {'id': 23598}, {'id': 26856}, {'id': 4367}, {'id': 27776}, {'id': 29076}, {'id': 29411}, {'id': 32576}, {'id': 32686}, {'id': 35996}, {'id': 40296}, {'id': 29071}, {'id': 44051}, {'id': 44161}, {'id': 49241}, {'id': 45036}, {'id': 45366}, {'id': 71096}, {'id': 46101}, {'id': 46946}, {'id': 9288}, {'id': 65551}, {'id': 69858}, {'id': 47811}, {'id': 48031}, {'id': 48116}, {'id': 51193}, {'id': 52801}, {'id': 54166}, {'id': 55731}, {'id': 45936}, {'id': 71101}, {'id': 57756}, {'id': 58531}, {'id': 33646}, {'id': 60001}, {'id': 60836}, {'id': 61561}, {'id': 45941}, {'id': 63656}, {'id': 64516}, {'id': 65483}, {'id': 65938}, {'id': 66136}, {'id': 66256}, {'id': 66576}, {'id': 67036}, {'id': 68591}, {'id': 69901}, {'id': 70561}, {'id': 71081}, {'id': 52156}, {'id': 1906}, {'id': 8081}, {'id': 9741}, {'id': 12676}, {'id': 13531}, {'id': 17906}, {'id': 21011}, {'id': 25441}, {'id': 29931}, {'id': 30696}, {'id': 34821}, {'id': 40511}, {'id': 42251}, {'id': 43196}, {'id': 45656}, {'id': 51576}, {'id': 52566}, {'id': 56681}, {'id': 58171}, {'id': 58191}, {'id': 60031}, {'id': 60896}, {'id': 63696}, {'id': 67171}]\n"
          ]
        }
      ],
      "source": [
        "# Exercise 2\n",
        "# Write a script that displays the information\n",
        "# of the county \"Derbyshire\".\n",
        "\n",
        "import requests\n",
        "\n",
        "places_in_county = []\n",
        "\n",
        "def get_county_info(county_name):\n",
        "    url = \"https://opendomesday.org/api/1.0/county/\"\n",
        "    response = requests.get(url)\n",
        "    if response.status_code == 200:\n",
        "        counties = response.json()\n",
        "        for county in counties:\n",
        "            if county['name'].lower() == county_name.lower():\n",
        "                return county\n",
        "    return None\n",
        "\n",
        "def get_places_in_county(county_id):\n",
        "    url = f\"https://opendomesday.org/api/1.0/county/{county_id}\"\n",
        "    response = requests.get(url)\n",
        "    if response.status_code == 200:\n",
        "        county_data = response.json()\n",
        "        return county_data.get('places_in_county', [])\n",
        "    return []\n",
        "\n",
        "def main():\n",
        "    global places_in_county\n",
        "    county_name = \"Derbyshire\"\n",
        "    county_info = get_county_info(county_name)\n",
        "    if county_info:\n",
        "        print(f\"Information for {county_name}:\")\n",
        "        for key, value in county_info.items():\n",
        "            if key != 'places_in_county':\n",
        "                print(f\"{key}: {value}\")\n",
        "\n",
        "        county_id = county_info.get('id', None)\n",
        "        if county_id:\n",
        "            places_in_county = get_places_in_county(county_id)\n",
        "            print(f\"Number of places in {county_name}: {len(places_in_county)}\")\n",
        "            # Now, places_in_county holds all the places, and you can use it for further processing.\n",
        "    else:\n",
        "        print(f\"County named {county_name} not found.\")\n",
        "    print(places_in_county)\n",
        "    return places_in_county\n",
        "\n",
        "if __name__ == \"__main__\":\n",
        "    main()\n",
        "\n",
        "\n",
        "\n",
        "\n",
        "\n",
        "#######################################################\n",
        "################## YOUR ANSWER HERE ##################\n",
        "#######################################################\n"
      ]
    },
    {
      "cell_type": "code",
      "execution_count": 82,
      "metadata": {
        "id": "QU0zC5ID__ko"
      },
      "outputs": [],
      "source": [
        "# Exercise 3\n",
        "# Now that we have the ids for all the places in Derbyshire, we can load all their details...\n",
        "# And from their details, we can list all the details of their manors.\n",
        "# Go fetch the data!\n",
        "# P.S.: remember to save the data to avoid downloading it every time\n",
        "\n",
        "import requests\n",
        "import csv\n",
        "\n",
        "# Fonction pour récupérer les détails d'une place\n",
        "def fetch_place_details(place_id):\n",
        "    response = requests.get(f\"https://opendomesday.org/api/1.0/place/{place_id}\")\n",
        "    if response.status_code == 200:\n",
        "        return response.json()\n",
        "    else:\n",
        "        return None\n",
        "\n",
        "# Fonction pour récupérer les détails d'un manoir\n",
        "def fetch_manor_details(manor_id):\n",
        "    response = requests.get(f\"https://opendomesday.org/api/1.0/manor/{manor_id}\")\n",
        "    if response.status_code == 200:\n",
        "        return response.json()\n",
        "    else:\n",
        "        return None\n",
        "\n",
        "# Fonction principale pour traiter les places et manoirs, puis sauvegarder dans un CSV\n",
        "def process_places_and_save_csv(place_ids, csv_filename):\n",
        "    with open(csv_filename, mode='w', newline='') as file:\n",
        "        writer = csv.writer(file)\n",
        "        writer.writerow(['Manor ID', 'Money Paid', 'Total Ploughs']) # Modifier selon les champs exacts\n",
        "\n",
        "        for place_id in place_ids:\n",
        "            place_details = fetch_place_details(place_id)\n",
        "            if place_details and 'manors' in place_details:\n",
        "                for manor in place_details['manors']:\n",
        "                    manor_details = fetch_manor_details(manor['id'])\n",
        "                    if manor_details:\n",
        "                        # Supposition sur la structure des données manoir; ajustez selon les besoins\n",
        "                        money_paid = manor_details.get('value86', 'N/A')  # Exemple de champ\n",
        "                        total_ploughs = manor_details.get('totalploughs', 'N/A')  # Exemple de champ\n",
        "                        writer.writerow([manor['id'], money_paid, total_ploughs])\n",
        "\n",
        "# Exemple d'utilisation\n",
        "place_ids = places_in_county  # Exemple; ajoutez les IDs des places d'intérêt\n",
        "csv_filename = 'manors_details.csv'\n",
        "process_places_and_save_csv(place_ids, csv_filename)\n",
        "\n",
        "\n",
        "#######################################################\n",
        "################## YOUR ANSWER HERE ##################\n",
        "#######################################################\n"
      ]
    },
    {
      "cell_type": "code",
      "execution_count": 81,
      "metadata": {
        "id": "aqbUvvxw__kp",
        "colab": {
          "base_uri": "https://localhost:8080/"
        },
        "outputId": "6c276b27-0b07-4cc0-bc74-c4454dea6e12"
      },
      "outputs": [
        {
          "output_type": "stream",
          "name": "stdout",
          "text": [
            "Les détails des manoirs ont été sauvegardés dans derbyshire_manors_details.csv.\n"
          ]
        }
      ],
      "source": [
        "# Exercise 4\n",
        "# Now that we have a quantity of raw data, we will extract the interesting parts.\n",
        "# In our case, we want to count the money paid by each manor and compare it to the number of ploughs it has.\n",
        "# - Can you find the corresponding json fields?\n",
        "# - Then, you can list these numbers for each manor in Derbyshire.\n",
        "# - And format this in an appropriate comma-separated values (CSV) file.\n",
        "\n",
        "import json\n",
        "import csv\n",
        "\n",
        "json_file_path = '/content/derbyshire_places_details.json'\n",
        "\n",
        "csv_file_path = 'derbyshire_manors_details.csv'\n",
        "\n",
        "def load_json_data(file_path):\n",
        "    \"\"\"Charge les données JSON depuis un fichier.\"\"\"\n",
        "    with open(file_path, 'r') as file:\n",
        "        return json.load(file)\n",
        "\n",
        "def extract_and_save_manor_details(manors, csv_file_path):\n",
        "    \"\"\"Extrait les détails des manoirs et les sauvegarde dans un fichier CSV.\"\"\"\n",
        "    with open(csv_file_path, mode='w', newline='', encoding='utf-8') as file:\n",
        "        writer = csv.writer(file)\n",
        "        # Entêtes du fichier CSV\n",
        "        writer.writerow(['Manor ID', 'Value in 1086', 'Value in 1066', 'Value String', 'Total Ploughs'])\n",
        "\n",
        "        for manor in manors:\n",
        "            # Extraction des données de chaque manoir\n",
        "            manor_id = manor.get('id', 'Unknown')\n",
        "            value_1086 = manor.get('value86', 'N/A')\n",
        "            value_1066 = manor.get('value66', 'N/A')\n",
        "            value_string = manor.get('value_string', 'N/A')\n",
        "            total_ploughs = manor.get('totalploughs', 'N/A')\n",
        "\n",
        "            # Écriture des données extraites dans le fichier CSV\n",
        "            writer.writerow([manor_id, value_1086, value_1066, value_string, total_ploughs])\n",
        "\n",
        "def main():\n",
        "    # Chargement des données JSON\n",
        "    manors_data = load_json_data(json_file_path)\n",
        "\n",
        "    # Supposons que les données de chaque manoir soient directement dans manors_data\n",
        "    extract_and_save_manor_details(manors_data, csv_file_path)\n",
        "\n",
        "    print(f\"Les détails des manoirs ont été sauvegardés dans {csv_file_path}.\")\n",
        "\n",
        "if __name__ == \"__main__\":\n",
        "    main()\n",
        "\n",
        "\n",
        "\n",
        "#######################################################\n",
        "################## YOUR ANSWER HERE ##################\n",
        "#######################################################\n",
        "\n"
      ]
    },
    {
      "cell_type": "code",
      "execution_count": 63,
      "metadata": {
        "id": "BgtEM3Cz__kp",
        "colab": {
          "base_uri": "https://localhost:8080/"
        },
        "outputId": "a30b5db3-53e4-4ec8-e515-d48655c4b62b"
      },
      "outputs": [
        {
          "output_type": "stream",
          "name": "stdout",
          "text": [
            "Unable to determine the richest manor.\n"
          ]
        }
      ],
      "source": [
        "# Exercise 5\n",
        "# What is the richest manor in Derbyshire?\n",
        "\n",
        "\n",
        "import csv\n",
        "\n",
        "def find_richest_manor(csv_filename):\n",
        "    richest_manor = None\n",
        "    max_value = 0  # Assuming value is a numeric field and we're looking for the highest value\n",
        "\n",
        "    with open(csv_filename, mode='r', encoding='utf-8') as file:\n",
        "        reader = csv.DictReader(file)\n",
        "        for row in reader:\n",
        "            try:\n",
        "                value = float(row['Money Paid'])  # Ensure this matches your CSV column name\n",
        "                if value > max_value:\n",
        "                    max_value = value\n",
        "                    richest_manor = row\n",
        "            except ValueError:\n",
        "                # This handles cases where the value cannot be converted to float (e.g., 'N/A')\n",
        "                continue\n",
        "\n",
        "    return richest_manor\n",
        "\n",
        "def main():\n",
        "    csv_file = 'derbyshire_manors.csv'\n",
        "    richest_manor = find_richest_manor(csv_file)\n",
        "    if richest_manor:\n",
        "        print(f\"The richest manor in Derbyshire is Manor ID {richest_manor['Manor ID']} with a value of {richest_manor['Money Paid']}.\")\n",
        "    else:\n",
        "        print(\"Unable to determine the richest manor.\")\n",
        "\n",
        "if __name__ == \"__main__\":\n",
        "    main()\n",
        "\n",
        "\n",
        "#######################################################\n",
        "################## YOUR ANSWER HERE ##################\n",
        "#######################################################\n"
      ]
    },
    {
      "cell_type": "code",
      "execution_count": null,
      "metadata": {
        "id": "Sh5HmL5X__kp"
      },
      "outputs": [],
      "source": [
        "# Exercise 6\n",
        "# Give the total value paid by Derbyshire.\n",
        "\n",
        "#######################################################\n",
        "################## YOUR ANSWER HERE ##################\n",
        "#######################################################\n"
      ]
    },
    {
      "cell_type": "code",
      "execution_count": null,
      "metadata": {
        "id": "k3qot_C5__kp"
      },
      "outputs": [],
      "source": [
        "# Exercise 7\n",
        "# Create a Python class.\n",
        "# It must include all the previous functionalities.\n",
        "# Refactor your code to make it readable, efficient, and maintainable.\n",
        "\n",
        "#######################################################\n",
        "################## YOUR ANSWER HERE ##################\n",
        "#######################################################\n"
      ]
    },
    {
      "cell_type": "code",
      "execution_count": null,
      "metadata": {
        "id": "h2i60lxn__kp"
      },
      "outputs": [],
      "source": [
        "# Exercise 8 (optional)\n",
        "# Add to your class a system for error handling.\n",
        "# It must manage the following errors:\n",
        "# - Connection error\n",
        "# - Parsing error\n",
        "# - Request error\n",
        "# - Response error\n",
        "# - Parameter error\n",
        "\n",
        "#######################################################\n",
        "################## YOUR ANSWER HERE ##################\n",
        "#######################################################\n",
        "\n"
      ]
    }
  ],
  "metadata": {
    "kernelspec": {
      "display_name": "api",
      "language": "python",
      "name": "python3"
    },
    "language_info": {
      "codemirror_mode": {
        "name": "ipython",
        "version": 3
      },
      "file_extension": ".py",
      "mimetype": "text/x-python",
      "name": "python",
      "nbconvert_exporter": "python",
      "pygments_lexer": "ipython3",
      "version": "3.11.6"
    },
    "colab": {
      "provenance": []
    }
  },
  "nbformat": 4,
  "nbformat_minor": 0
}
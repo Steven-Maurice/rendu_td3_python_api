{
 "cells": [
  {
   "cell_type": "markdown",
   "metadata": {},
   "source": [
    "# Python with APIs\n",
    "Exchanges via HTTP using `requests` package"
   ]
  },
  {
   "cell_type": "code",
   "execution_count": 1,
   "metadata": {},
   "outputs": [],
   "source": [
    "import requests"
   ]
  },
  {
   "cell_type": "markdown",
   "metadata": {},
   "source": [
    "## Example"
   ]
  },
  {
   "cell_type": "markdown",
   "metadata": {},
   "source": [
    "### Agify API"
   ]
  },
  {
   "cell_type": "markdown",
   "metadata": {},
   "source": [
    "Example route for Agify API"
   ]
  },
  {
   "cell_type": "code",
   "execution_count": 2,
   "metadata": {},
   "outputs": [],
   "source": [
    "agify_dan = \"https://api.agify.io/?name=dan\""
   ]
  },
  {
   "cell_type": "markdown",
   "metadata": {},
   "source": [
    "Extract response"
   ]
  },
  {
   "cell_type": "code",
   "execution_count": 36,
   "metadata": {},
   "outputs": [
    {
     "name": "stdout",
     "output_type": "stream",
     "text": [
      "Answer status_code: <Response [429]>\n",
      "<class 'str'>\n",
      "<class 'dict'>\n",
      "{\"error\":\"Request limit reached\"}\n",
      "{'error': 'Request limit reached'}\n"
     ]
    }
   ],
   "source": [
    "# Run a GET request\n",
    "agify_answer = requests.get(agify_dan)\n",
    "agify_answer_txt = agify_answer.text\n",
    "agify_answer_json = agify_answer.json()\n",
    "\n",
    "print(f\"Answer status_code: {agify_answer}\")\n",
    "\n",
    "print(type(agify_answer_txt))\n",
    "print(type(agify_answer_json))\n",
    "\n",
    "print(agify_answer_txt)\n",
    "print(agify_answer_json)"
   ]
  },
  {
   "cell_type": "markdown",
   "metadata": {},
   "source": [
    "## Introductory Exercises"
   ]
  },
  {
   "cell_type": "code",
   "execution_count": 7,
   "metadata": {},
   "outputs": [
    {
     "name": "stdout",
     "output_type": "stream",
     "text": [
      "Hi Paul, your age prediction is 69yo\n"
     ]
    }
   ],
   "source": [
    "# Exercise 1\n",
    "# Write a script that asks the user for their first name\n",
    "# and responds with a personalized message\n",
    "# using the agify API\n",
    "\n",
    "# https://api.agify.io/?name=YOUR_NAME\n",
    "# Example response: {\"name\":\"YOUR_NAME\",\"age\":30,\"count\":12345}\n",
    "\n",
    "name = input(\"Enter your name\")\n",
    "data = requests.get(\"https://api.agify.io/?name=\"+name).json()\n",
    "print(f\"Hi {name}, your age prediction is {data['age']}yo\")"
   ]
  },
  {
   "cell_type": "code",
   "execution_count": 9,
   "metadata": {},
   "outputs": [
    {
     "name": "stdout",
     "output_type": "stream",
     "text": [
      "Hi Paul, your gender prediction is male\n"
     ]
    }
   ],
   "source": [
    "# Exercise 2\n",
    "# Write a script that asks the user for their first name\n",
    "# and responds with a personalized message\n",
    "# using the genderize API\n",
    "# https://api.genderize.io/?name=YOUR_NAME\n",
    "\n",
    "name = input(\"Enter your name\")\n",
    "data = requests.get(\"https://api.genderize.io/?name=\"+name).json()\n",
    "print(f\"Hi {name}, your gender prediction is {data['gender']}\")"
   ]
  },
  {
   "cell_type": "code",
   "execution_count": 13,
   "metadata": {},
   "outputs": [
    {
     "name": "stdout",
     "output_type": "stream",
     "text": [
      "Hi Paul, your nationality prediction is BD\n"
     ]
    }
   ],
   "source": [
    "# Exercise 3\n",
    "# Write a script that asks the user for their first name\n",
    "# and responds with a personalized message\n",
    "# using the nationalize API\n",
    "# https://api.nationalize.io/?name=YOUR_NAME\n",
    "\n",
    "name = input(\"Enter your name\")\n",
    "data = requests.get(\"https://api.nationalize.io/?name=\"+name).json()\n",
    "print(f\"Hi {name}, your nationality prediction is {data['country'][0]['country_id']}\")"
   ]
  },
  {
   "cell_type": "code",
   "execution_count": 17,
   "metadata": {},
   "outputs": [
    {
     "name": "stdout",
     "output_type": "stream",
     "text": [
      "Hi Paul, your nationality prediction is BD\n"
     ]
    }
   ],
   "source": [
    "# Exercise 3.1\n",
    "# Parsing the response from the nationalize API\n",
    "# Get the most probable country and its percentage\n",
    "# Example response: {\"name\":\"YOUR_NAME\",\"country\":[{\"country_id\":\"FR\",\"probability\":0.75},{\"country_id\":\"BE\",\"probability\":0.25}]}\n",
    "# Hint: use the max() function with a lambda function\n",
    "# https://docs.python.org/3/library/functions.html#max\n",
    "# https://docs.python.org/3/tutorial/controlflow.html#lambda-expressions\n",
    "\n",
    "name = input(\"Enter your name\")\n",
    "data = requests.get(\"https://api.nationalize.io/?name=\"+name).json()\n",
    "print(f\"Hi {name}, your nationality prediction is {max(data['country'], key=lambda x:x['probability'])['country_id']}\")"
   ]
  },
  {
   "cell_type": "code",
   "execution_count": 61,
   "metadata": {},
   "outputs": [
    {
     "data": {
      "text/plain": [
       "[{'activity': \"Watch a movie you'd never usually watch\",\n",
       "  'type': 'relaxation',\n",
       "  'participants': 1,\n",
       "  'price': 0.15,\n",
       "  'link': '',\n",
       "  'key': '9212950',\n",
       "  'accessibility': 0.15},\n",
       " {'activity': 'Learn how to make a website',\n",
       "  'type': 'education',\n",
       "  'participants': 1,\n",
       "  'price': 0.1,\n",
       "  'link': '',\n",
       "  'key': '9924423',\n",
       "  'accessibility': 0.3},\n",
       " {'activity': 'Learn a new programming language',\n",
       "  'type': 'education',\n",
       "  'participants': 1,\n",
       "  'price': 0.1,\n",
       "  'link': '',\n",
       "  'key': '5881028',\n",
       "  'accessibility': 0.25},\n",
       " {'activity': 'Learn how to beatbox',\n",
       "  'type': 'recreational',\n",
       "  'participants': 1,\n",
       "  'price': 0,\n",
       "  'link': 'https://en.wikipedia.org/wiki/Beatboxing',\n",
       "  'key': '8731710',\n",
       "  'accessibility': 1}]"
      ]
     },
     "execution_count": 61,
     "metadata": {},
     "output_type": "execute_result"
    }
   ],
   "source": [
    "# Exercise 4\n",
    "# Use BoredAPI : https://www.boredapi.com/\n",
    "# Documentation : https://www.boredapi.com/documentation\n",
    "# 1. Write a script that generates random activities\n",
    "# 2. Write a script that generates random activities\n",
    "# 3. Write a script that generates random activities for 4 participants\n",
    "# 4. Write a script that generates random activities for 4 participants and of type \"recreational\"\n",
    "# 5. Write a script that generates random activities for 2 participants and that does not require equipment\n",
    "\n",
    "def generate_activities(n=3, participants=1, type=None, accessibility=None):\n",
    "    \n",
    "    params=[f\"participants={participants}\"]\n",
    "    if type is not None:\n",
    "        params.append(f\"type={type}\")\n",
    "    if accessibility is not None: \n",
    "        params.append(f\"accessibility={accessibility}\")\n",
    "\n",
    "    return [requests.get(f\"http://www.boredapi.com/api/activity?\"+\"&\".join(params)).json() for _ in range(n)]\n",
    "\n",
    "generate_activities(n=4)"
   ]
  },
  {
   "cell_type": "code",
   "execution_count": 34,
   "metadata": {},
   "outputs": [
    {
     "data": {
      "text/plain": [
       "[{'activity': 'Play a game of Monopoly',\n",
       "  'type': 'social',\n",
       "  'participants': 4,\n",
       "  'price': 0.2,\n",
       "  'link': '',\n",
       "  'key': '1408058',\n",
       "  'accessibility': 0.3},\n",
       " {'activity': 'Have a paper airplane contest with some friends',\n",
       "  'type': 'social',\n",
       "  'participants': 4,\n",
       "  'price': 0.02,\n",
       "  'link': '',\n",
       "  'key': '8557562',\n",
       "  'accessibility': 0.05},\n",
       " {'activity': 'Have a paper airplane contest with some friends',\n",
       "  'type': 'social',\n",
       "  'participants': 4,\n",
       "  'price': 0.02,\n",
       "  'link': '',\n",
       "  'key': '8557562',\n",
       "  'accessibility': 0.05}]"
      ]
     },
     "execution_count": 34,
     "metadata": {},
     "output_type": "execute_result"
    }
   ],
   "source": [
    "generate_activities(3,participants=4)"
   ]
  },
  {
   "cell_type": "code",
   "execution_count": 35,
   "metadata": {},
   "outputs": [
    {
     "data": {
      "text/plain": [
       "[{'activity': 'Go see a Broadway production',\n",
       "  'type': 'recreational',\n",
       "  'participants': 4,\n",
       "  'price': 0.8,\n",
       "  'link': '',\n",
       "  'key': '4448913',\n",
       "  'accessibility': 0.3},\n",
       " {'activity': 'Go see a Broadway production',\n",
       "  'type': 'recreational',\n",
       "  'participants': 4,\n",
       "  'price': 0.8,\n",
       "  'link': '',\n",
       "  'key': '4448913',\n",
       "  'accessibility': 0.3},\n",
       " {'activity': 'Go see a Broadway production',\n",
       "  'type': 'recreational',\n",
       "  'participants': 4,\n",
       "  'price': 0.8,\n",
       "  'link': '',\n",
       "  'key': '4448913',\n",
       "  'accessibility': 0.3}]"
      ]
     },
     "execution_count": 35,
     "metadata": {},
     "output_type": "execute_result"
    }
   ],
   "source": [
    "generate_activities(3,4,type=\"recreational\")"
   ]
  },
  {
   "cell_type": "code",
   "execution_count": 63,
   "metadata": {},
   "outputs": [
    {
     "data": {
      "text/plain": [
       "[{'activity': 'Compliment someone',\n",
       "  'type': 'social',\n",
       "  'participants': 2,\n",
       "  'price': 0,\n",
       "  'link': '',\n",
       "  'key': '9149470',\n",
       "  'accessibility': 0},\n",
       " {'activity': 'Compliment someone',\n",
       "  'type': 'social',\n",
       "  'participants': 2,\n",
       "  'price': 0,\n",
       "  'link': '',\n",
       "  'key': '9149470',\n",
       "  'accessibility': 0},\n",
       " {'activity': 'Compliment someone',\n",
       "  'type': 'social',\n",
       "  'participants': 2,\n",
       "  'price': 0,\n",
       "  'link': '',\n",
       "  'key': '9149470',\n",
       "  'accessibility': 0}]"
      ]
     },
     "execution_count": 63,
     "metadata": {},
     "output_type": "execute_result"
    }
   ],
   "source": [
    "generate_activities(3,2,accessibility=0)"
   ]
  },
  {
   "cell_type": "markdown",
   "metadata": {},
   "source": [
    "## Intermediate exercises"
   ]
  },
  {
   "cell_type": "code",
   "execution_count": 43,
   "metadata": {},
   "outputs": [
    {
     "data": {
      "text/plain": [
       "['Kent',\n",
       " 'Sussex',\n",
       " 'Surrey',\n",
       " 'Hampshire',\n",
       " 'Berkshire',\n",
       " 'Wiltshire',\n",
       " 'Dorset',\n",
       " 'Somerset',\n",
       " 'Devon',\n",
       " 'Cornwall',\n",
       " 'Middlesex',\n",
       " 'Hertfordshire',\n",
       " 'Buckinghamshire',\n",
       " 'Gloucestershire',\n",
       " 'Oxfordshire',\n",
       " 'Worcestershire',\n",
       " 'Herefordshire',\n",
       " 'Cambridgeshire',\n",
       " 'Huntingdonshire',\n",
       " 'Bedfordshire',\n",
       " 'Northamptonshire',\n",
       " 'Leicestershire',\n",
       " 'Warwickshire',\n",
       " 'Staffordshire',\n",
       " 'Shropshire',\n",
       " 'Cheshire',\n",
       " 'Derbyshire',\n",
       " 'Nottinghamshire',\n",
       " 'Rutland',\n",
       " 'Yorkshire',\n",
       " 'Lincolnshire',\n",
       " 'Claims: YB',\n",
       " 'Claims: YC',\n",
       " 'Claims: LC',\n",
       " 'Claims: HC',\n",
       " 'Claims: YS',\n",
       " 'Essex',\n",
       " 'Norfolk',\n",
       " 'Suffolk',\n",
       " 'Lancashire']"
      ]
     },
     "execution_count": 43,
     "metadata": {},
     "output_type": "execute_result"
    }
   ],
   "source": [
    "# OpenDomesday\n",
    "# https://opendomesday.org/api/\n",
    "\n",
    "# Exercise 1\n",
    "# Write a script that displays all the counties  \n",
    "# using the OpenDomesday API.\n",
    "\n",
    "counties = requests.get(\"https://opendomesday.org/api/1.0/county/\").json()\n",
    "[x[\"name\"] for x in counties]"
   ]
  },
  {
   "cell_type": "code",
   "execution_count": 51,
   "metadata": {},
   "outputs": [
    {
     "data": {
      "text/plain": [
       "{'id': 'dby',\n",
       " 'name': 'Derbyshire',\n",
       " 'name_slug': 'derbyshire',\n",
       " 'places_in_county': [{'id': 1036},\n",
       "  {'id': 2558},\n",
       "  {'id': 3016},\n",
       "  {'id': 4791},\n",
       "  {'id': 6093},\n",
       "  {'id': 8701},\n",
       "  {'id': 8951},\n",
       "  {'id': 9101},\n",
       "  {'id': 11441},\n",
       "  {'id': 10771},\n",
       "  {'id': 16116},\n",
       "  {'id': 20861},\n",
       "  {'id': 22251},\n",
       "  {'id': 22571},\n",
       "  {'id': 22611},\n",
       "  {'id': 24741},\n",
       "  {'id': 25536},\n",
       "  {'id': 19061},\n",
       "  {'id': 30246},\n",
       "  {'id': 31896},\n",
       "  {'id': 32521},\n",
       "  {'id': 32981},\n",
       "  {'id': 33916},\n",
       "  {'id': 41346},\n",
       "  {'id': 41788},\n",
       "  {'id': 41801},\n",
       "  {'id': 45821},\n",
       "  {'id': 47401},\n",
       "  {'id': 47411},\n",
       "  {'id': 52361},\n",
       "  {'id': 52596},\n",
       "  {'id': 53901},\n",
       "  {'id': 54446},\n",
       "  {'id': 54646},\n",
       "  {'id': 55736},\n",
       "  {'id': 56786},\n",
       "  {'id': 57061},\n",
       "  {'id': 60236},\n",
       "  {'id': 60351},\n",
       "  {'id': 60816},\n",
       "  {'id': 63606},\n",
       "  {'id': 65368},\n",
       "  {'id': 73221},\n",
       "  {'id': 73731},\n",
       "  {'id': 73741},\n",
       "  {'id': 91},\n",
       "  {'id': 2623},\n",
       "  {'id': 3011},\n",
       "  {'id': 3941},\n",
       "  {'id': 4046},\n",
       "  {'id': 5016},\n",
       "  {'id': 5676},\n",
       "  {'id': 7111},\n",
       "  {'id': 7116},\n",
       "  {'id': 7451},\n",
       "  {'id': 9056},\n",
       "  {'id': 10981},\n",
       "  {'id': 11656},\n",
       "  {'id': 11941},\n",
       "  {'id': 12751},\n",
       "  {'id': 13401},\n",
       "  {'id': 14081},\n",
       "  {'id': 14306},\n",
       "  {'id': 15306},\n",
       "  {'id': 15451},\n",
       "  {'id': 17386},\n",
       "  {'id': 17811},\n",
       "  {'id': 19611},\n",
       "  {'id': 22436},\n",
       "  {'id': 22476},\n",
       "  {'id': 24011},\n",
       "  {'id': 24306},\n",
       "  {'id': 25081},\n",
       "  {'id': 27521},\n",
       "  {'id': 33816},\n",
       "  {'id': 40056},\n",
       "  {'id': 28311},\n",
       "  {'id': 29846},\n",
       "  {'id': 30061},\n",
       "  {'id': 30211},\n",
       "  {'id': 30536},\n",
       "  {'id': 30571},\n",
       "  {'id': 20391},\n",
       "  {'id': 32571},\n",
       "  {'id': 33016},\n",
       "  {'id': 36211},\n",
       "  {'id': 37586},\n",
       "  {'id': 40057},\n",
       "  {'id': 39661},\n",
       "  {'id': 39956},\n",
       "  {'id': 40466},\n",
       "  {'id': 42799},\n",
       "  {'id': 43751},\n",
       "  {'id': 44321},\n",
       "  {'id': 28296},\n",
       "  {'id': 34241},\n",
       "  {'id': 46861},\n",
       "  {'id': 26971},\n",
       "  {'id': 2366},\n",
       "  {'id': 48026},\n",
       "  {'id': 49236},\n",
       "  {'id': 50311},\n",
       "  {'id': 52766},\n",
       "  {'id': 52791},\n",
       "  {'id': 55006},\n",
       "  {'id': 55131},\n",
       "  {'id': 58231},\n",
       "  {'id': 59051},\n",
       "  {'id': 42936},\n",
       "  {'id': 61396},\n",
       "  {'id': 62566},\n",
       "  {'id': 63721},\n",
       "  {'id': 67724},\n",
       "  {'id': 69701},\n",
       "  {'id': 72781},\n",
       "  {'id': 73841},\n",
       "  {'id': 14941},\n",
       "  {'id': 20691},\n",
       "  {'id': 39371},\n",
       "  {'id': 42171},\n",
       "  {'id': 54526},\n",
       "  {'id': 46681},\n",
       "  {'id': 51241},\n",
       "  {'id': 64663},\n",
       "  {'id': 70526},\n",
       "  {'id': 1326},\n",
       "  {'id': 2401},\n",
       "  {'id': 3291},\n",
       "  {'id': 4001},\n",
       "  {'id': 8116},\n",
       "  {'id': 8831},\n",
       "  {'id': 9461},\n",
       "  {'id': 10196},\n",
       "  {'id': 12706},\n",
       "  {'id': 13281},\n",
       "  {'id': 22243},\n",
       "  {'id': 18184},\n",
       "  {'id': 18736},\n",
       "  {'id': 23231},\n",
       "  {'id': 6141},\n",
       "  {'id': 29236},\n",
       "  {'id': 29861},\n",
       "  {'id': 32336},\n",
       "  {'id': 33086},\n",
       "  {'id': 34446},\n",
       "  {'id': 35221},\n",
       "  {'id': 35041},\n",
       "  {'id': 37056},\n",
       "  {'id': 38231},\n",
       "  {'id': 40456},\n",
       "  {'id': 41344},\n",
       "  {'id': 42041},\n",
       "  {'id': 42046},\n",
       "  {'id': 42797},\n",
       "  {'id': 45553},\n",
       "  {'id': 46851},\n",
       "  {'id': 48266},\n",
       "  {'id': 49221},\n",
       "  {'id': 55881},\n",
       "  {'id': 56826},\n",
       "  {'id': 56941},\n",
       "  {'id': 61526},\n",
       "  {'id': 62731},\n",
       "  {'id': 63966},\n",
       "  {'id': 66911},\n",
       "  {'id': 68251},\n",
       "  {'id': 68481},\n",
       "  {'id': 68546},\n",
       "  {'id': 71226},\n",
       "  {'id': 71466},\n",
       "  {'id': 1136},\n",
       "  {'id': 1456},\n",
       "  {'id': 1596},\n",
       "  {'id': 2106},\n",
       "  {'id': 3163},\n",
       "  {'id': 4646},\n",
       "  {'id': 5396},\n",
       "  {'id': 8456},\n",
       "  {'id': 11731},\n",
       "  {'id': 14476},\n",
       "  {'id': 18001},\n",
       "  {'id': 19416},\n",
       "  {'id': 22741},\n",
       "  {'id': 23256},\n",
       "  {'id': 23731},\n",
       "  {'id': 24921},\n",
       "  {'id': 35046},\n",
       "  {'id': 35311},\n",
       "  {'id': 37656},\n",
       "  {'id': 39466},\n",
       "  {'id': 39566},\n",
       "  {'id': 40901},\n",
       "  {'id': 41658},\n",
       "  {'id': 42536},\n",
       "  {'id': 42741},\n",
       "  {'id': 44361},\n",
       "  {'id': 45893},\n",
       "  {'id': 47416},\n",
       "  {'id': 49901},\n",
       "  {'id': 50661},\n",
       "  {'id': 50806},\n",
       "  {'id': 54966},\n",
       "  {'id': 56216},\n",
       "  {'id': 58701},\n",
       "  {'id': 61046},\n",
       "  {'id': 63391},\n",
       "  {'id': 65696},\n",
       "  {'id': 69008},\n",
       "  {'id': 69081},\n",
       "  {'id': 70641},\n",
       "  {'id': 8956},\n",
       "  {'id': 9586},\n",
       "  {'id': 9611},\n",
       "  {'id': 13741},\n",
       "  {'id': 13806},\n",
       "  {'id': 16581},\n",
       "  {'id': 18621},\n",
       "  {'id': 19941},\n",
       "  {'id': 20101},\n",
       "  {'id': 21051},\n",
       "  {'id': 21326},\n",
       "  {'id': 28556},\n",
       "  {'id': 30666},\n",
       "  {'id': 31306},\n",
       "  {'id': 32361},\n",
       "  {'id': 33141},\n",
       "  {'id': 33376},\n",
       "  {'id': 34646},\n",
       "  {'id': 35946},\n",
       "  {'id': 37591},\n",
       "  {'id': 14686},\n",
       "  {'id': 22266},\n",
       "  {'id': 28563},\n",
       "  {'id': 22271},\n",
       "  {'id': 41006},\n",
       "  {'id': 41521},\n",
       "  {'id': 43091},\n",
       "  {'id': 43991},\n",
       "  {'id': 46746},\n",
       "  {'id': 48806},\n",
       "  {'id': 51961},\n",
       "  {'id': 52096},\n",
       "  {'id': 53806},\n",
       "  {'id': 53996},\n",
       "  {'id': 55576},\n",
       "  {'id': 55956},\n",
       "  {'id': 56606},\n",
       "  {'id': 56696},\n",
       "  {'id': 57526},\n",
       "  {'id': 58046},\n",
       "  {'id': 58196},\n",
       "  {'id': 66498},\n",
       "  {'id': 16166},\n",
       "  {'id': 18951},\n",
       "  {'id': 22546},\n",
       "  {'id': 58356},\n",
       "  {'id': 71196},\n",
       "  {'id': 986},\n",
       "  {'id': 2711},\n",
       "  {'id': 4311},\n",
       "  {'id': 4369},\n",
       "  {'id': 5791},\n",
       "  {'id': 7651},\n",
       "  {'id': 8016},\n",
       "  {'id': 8721},\n",
       "  {'id': 9218},\n",
       "  {'id': 10026},\n",
       "  {'id': 12721},\n",
       "  {'id': 14691},\n",
       "  {'id': 16356},\n",
       "  {'id': 3106},\n",
       "  {'id': 20756},\n",
       "  {'id': 21276},\n",
       "  {'id': 21301},\n",
       "  {'id': 22406},\n",
       "  {'id': 22766},\n",
       "  {'id': 23121},\n",
       "  {'id': 23598},\n",
       "  {'id': 26856},\n",
       "  {'id': 4367},\n",
       "  {'id': 27776},\n",
       "  {'id': 29076},\n",
       "  {'id': 29411},\n",
       "  {'id': 32576},\n",
       "  {'id': 32686},\n",
       "  {'id': 35996},\n",
       "  {'id': 40296},\n",
       "  {'id': 29071},\n",
       "  {'id': 44051},\n",
       "  {'id': 44161},\n",
       "  {'id': 49241},\n",
       "  {'id': 45036},\n",
       "  {'id': 45366},\n",
       "  {'id': 71096},\n",
       "  {'id': 46101},\n",
       "  {'id': 46946},\n",
       "  {'id': 9288},\n",
       "  {'id': 65551},\n",
       "  {'id': 69858},\n",
       "  {'id': 47811},\n",
       "  {'id': 48031},\n",
       "  {'id': 48116},\n",
       "  {'id': 51193},\n",
       "  {'id': 52801},\n",
       "  {'id': 54166},\n",
       "  {'id': 55731},\n",
       "  {'id': 45936},\n",
       "  {'id': 71101},\n",
       "  {'id': 57756},\n",
       "  {'id': 58531},\n",
       "  {'id': 33646},\n",
       "  {'id': 60001},\n",
       "  {'id': 60836},\n",
       "  {'id': 61561},\n",
       "  {'id': 45941},\n",
       "  {'id': 63656},\n",
       "  {'id': 64516},\n",
       "  {'id': 65483},\n",
       "  {'id': 65938},\n",
       "  {'id': 66136},\n",
       "  {'id': 66256},\n",
       "  {'id': 66576},\n",
       "  {'id': 67036},\n",
       "  {'id': 68591},\n",
       "  {'id': 69901},\n",
       "  {'id': 70561},\n",
       "  {'id': 71081},\n",
       "  {'id': 52156},\n",
       "  {'id': 1906},\n",
       "  {'id': 8081},\n",
       "  {'id': 9741},\n",
       "  {'id': 12676},\n",
       "  {'id': 13531},\n",
       "  {'id': 17906},\n",
       "  {'id': 21011},\n",
       "  {'id': 25441},\n",
       "  {'id': 29931},\n",
       "  {'id': 30696},\n",
       "  {'id': 34821},\n",
       "  {'id': 40511},\n",
       "  {'id': 42251},\n",
       "  {'id': 43196},\n",
       "  {'id': 45656},\n",
       "  {'id': 51576},\n",
       "  {'id': 52566},\n",
       "  {'id': 56681},\n",
       "  {'id': 58171},\n",
       "  {'id': 58191},\n",
       "  {'id': 60031},\n",
       "  {'id': 60896},\n",
       "  {'id': 63696},\n",
       "  {'id': 67171}]}"
      ]
     },
     "execution_count": 51,
     "metadata": {},
     "output_type": "execute_result"
    }
   ],
   "source": [
    "# Exercise 2\n",
    "# Write a script that displays the information\n",
    "# of the county \"Derbyshire\".\n",
    "\n",
    "county = [county for county in counties if county['name']=='Derbyshire'][0]\n",
    "#county"
   ]
  },
  {
   "cell_type": "code",
   "execution_count": 55,
   "metadata": {},
   "outputs": [],
   "source": [
    "# Exercise 3\n",
    "# Now that we have the ids for all the places in Derbyshire, we can load all their details...\n",
    "# And from their details, we can list all the details of their manors.\n",
    "# Go fetch the data!\n",
    "# P.S.: remember to save the data to avoid downloading it every time\n",
    "\n",
    "places_data = []\n",
    "\n",
    "manors_data = []\n",
    "\n",
    "for place in county[\"places_in_county\"]: \n",
    "    place_data = requests.get(f\"https://opendomesday.org/api/1.0/place/{place['id']}/\").json()\n",
    "    places_data.append(place_data)\n",
    "    for manor in place_data[\"manors\"]: \n",
    "        manor_data = requests.get(f\"https://opendomesday.org/api/1.0/manor/{manor['id']}/\").json()\n",
    "        manors_data.append(manor_data)"
   ]
  },
  {
   "cell_type": "code",
   "execution_count": 94,
   "metadata": {},
   "outputs": [
    {
     "name": "stdout",
     "output_type": "stream",
     "text": [
      "Geld: 1.5, total ploughs: 4.0\n",
      "Geld: 2.0, total ploughs: 3.0\n",
      "Geld: 2.08, total ploughs: 5.0\n",
      "Geld: 4.0, total ploughs: 10.0\n",
      "Geld: 1.0, total ploughs: 0.0\n"
     ]
    },
    {
     "data": {
      "application/vnd.plotly.v1+json": {
       "config": {
        "plotlyServerURL": "https://plot.ly"
       },
       "data": [
        {
         "hovertemplate": "x=%{x}<br>y=%{y}<extra></extra>",
         "legendgroup": "",
         "marker": {
          "color": "#636efa",
          "symbol": "circle"
         },
         "mode": "markers",
         "name": "",
         "orientation": "v",
         "showlegend": false,
         "type": "scatter",
         "x": [
          1.5,
          2,
          2.08,
          4,
          1,
          2,
          1,
          2,
          5.25,
          0.75,
          0.62,
          2,
          3,
          4,
          1,
          2,
          3.31,
          0.66,
          2.5,
          2,
          1,
          1,
          16.25,
          3,
          0.37,
          1.5,
          3.31,
          16.25,
          2,
          3.31,
          1,
          4,
          2,
          4,
          3,
          1.5,
          2,
          16.25,
          1.5,
          3,
          1,
          6,
          1,
          0.37,
          1.93,
          16.25,
          4,
          2,
          1,
          0.66,
          16.25,
          1.93,
          16.25,
          2,
          0.62,
          1.5,
          1.5,
          2,
          1.5,
          2,
          1,
          23,
          10,
          18,
          4,
          23,
          0.75,
          23,
          1,
          23,
          2,
          23,
          3.25,
          18,
          23,
          2,
          6,
          1.25,
          6,
          6,
          18,
          3.25,
          3.25,
          10,
          2,
          2,
          3.25,
          23,
          1,
          2,
          23,
          6,
          0.5,
          2,
          23,
          4,
          6,
          3.5,
          6,
          18,
          10,
          6,
          1.25,
          3,
          3.5,
          6,
          6,
          2,
          18,
          10,
          4,
          18,
          4,
          10,
          4,
          6,
          18,
          6,
          2,
          23,
          23,
          18,
          10,
          23,
          1,
          10,
          0.5,
          1,
          4,
          23,
          6,
          10,
          1,
          6,
          4,
          1.5,
          3,
          3,
          1,
          1,
          2,
          2,
          7,
          6,
          2,
          0.75,
          2,
          1,
          0.5,
          0.5,
          2,
          1,
          4,
          17,
          3,
          4,
          9,
          4,
          4,
          17,
          21,
          21,
          4,
          0.5,
          21,
          2,
          17,
          4,
          2,
          17,
          21,
          9,
          0.62,
          21,
          4,
          0.5,
          2,
          17,
          9,
          9,
          21,
          4,
          17,
          4,
          2,
          6,
          9,
          2,
          9,
          0.5,
          17,
          4,
          6,
          21,
          9,
          0.25,
          1.5,
          21,
          0.5,
          4,
          10,
          10,
          1,
          0.81,
          1,
          13.81,
          0.43,
          1.5,
          16.25,
          2,
          1,
          2,
          13.81,
          0.5,
          13.81,
          0.87,
          16.25,
          2,
          4,
          10,
          5,
          1,
          16.25,
          1,
          2,
          4,
          2,
          16.25,
          4,
          0.5,
          4,
          16.25,
          4,
          2,
          13.81,
          1,
          13.81,
          0.37,
          0.87,
          16.25,
          15.12,
          3,
          0.81,
          2,
          4,
          1,
          13.81,
          1,
          1,
          10,
          4,
          1,
          1,
          1.16,
          10.31,
          1,
          3,
          7.16,
          5,
          0.37,
          2.12,
          8.75,
          3,
          0.59,
          4.58,
          7,
          0.5,
          2,
          15.12,
          null,
          null,
          null,
          1,
          null,
          null,
          null,
          0.12,
          0.12,
          12,
          7.16,
          1,
          7,
          7.16,
          0.83,
          7.16,
          12,
          3,
          8.75,
          0.37,
          0.37,
          1.16,
          7,
          15.12,
          8.75,
          12,
          7.16,
          9.5,
          7.16,
          0.66,
          0.66,
          4,
          2,
          2,
          1.33,
          0.66,
          4,
          1,
          0.25,
          12,
          2,
          0.5,
          1.16,
          7,
          5,
          2,
          8.75,
          1,
          8,
          3,
          1,
          2,
          4.25,
          0.75,
          2,
          0.59,
          2,
          6.25,
          0.31,
          0.68,
          0.5,
          0.81,
          1,
          3,
          6.12,
          1.25,
          6.12,
          1,
          6.12,
          6.25,
          0.75,
          0.68,
          0.25,
          0.25,
          1,
          4.25,
          6.12,
          4,
          1,
          1,
          0.5,
          1,
          0.66,
          0.5,
          0.87,
          0.12,
          1,
          1.31,
          1,
          0.06,
          0.93,
          2,
          1,
          1.5,
          2,
          2.35,
          6.12,
          3,
          2.35,
          0.25,
          1.62,
          1.5,
          0.25,
          0.47,
          1.31,
          0.9,
          0.25,
          2.35,
          0.25,
          6.12,
          2.35,
          0.5,
          6.25,
          1,
          1.25,
          6.25,
          2.5,
          2,
          2,
          1.5,
          4,
          0.37,
          1,
          0.31,
          4,
          6.12,
          0.15,
          0.2,
          0.9,
          3,
          0.5,
          1.5,
          6.25,
          2.5,
          0.5,
          0.33,
          0.9,
          1,
          0.47,
          1.31,
          0.9,
          2,
          1.5,
          0.43,
          6.25,
          2.35,
          2,
          1,
          4,
          5,
          4,
          7,
          2,
          3,
          2,
          4,
          2,
          4,
          2,
          4,
          0.37,
          1.16,
          0.37,
          0.08,
          5,
          13.81,
          6,
          7,
          6,
          6,
          2,
          0.5,
          1.5,
          1,
          1,
          2.33,
          0.66,
          1,
          6
         ],
         "xaxis": "x",
         "y": [
          4,
          3,
          5,
          10,
          0,
          5,
          4,
          7,
          8,
          1.5,
          1.5,
          4,
          4,
          10,
          3,
          2,
          1,
          6,
          3,
          3,
          null,
          2,
          13.5,
          6,
          0,
          7,
          1,
          13.5,
          4,
          1,
          0,
          5,
          7,
          6,
          6,
          5,
          5,
          13.5,
          3,
          6,
          1,
          19,
          3,
          0,
          5,
          13.5,
          6,
          3,
          1,
          6,
          13.5,
          3,
          13.5,
          10,
          1.5,
          4,
          3.5,
          2,
          3,
          3,
          0,
          9,
          6,
          18,
          5,
          9,
          1,
          9,
          0,
          9,
          4,
          9,
          4,
          18,
          9,
          5,
          0,
          2,
          0,
          0,
          18,
          4,
          4,
          6,
          6,
          5,
          4,
          9,
          3,
          0,
          9,
          0,
          0,
          3,
          9,
          5,
          0,
          1.5,
          0,
          18,
          6,
          0,
          2,
          0,
          1.5,
          0,
          0,
          0,
          18,
          6,
          0,
          18,
          5,
          6,
          5,
          0,
          18,
          0,
          0,
          9,
          9,
          18,
          6,
          9,
          3,
          6,
          2,
          0,
          5,
          9,
          0,
          6,
          0,
          0,
          0,
          4,
          2,
          0,
          0,
          0,
          0,
          0,
          2,
          6,
          1,
          0,
          0,
          0,
          0,
          0,
          2.5,
          0.62,
          3,
          8,
          0,
          2,
          6,
          6,
          9,
          8,
          18.5,
          18.5,
          3,
          1,
          18.5,
          5,
          8,
          3,
          0,
          8,
          18.5,
          6,
          0,
          18.5,
          0,
          1,
          0,
          8,
          6,
          6,
          18.5,
          0,
          8,
          3,
          0,
          2,
          6,
          0,
          6,
          1,
          8,
          7,
          2,
          18.5,
          6,
          1,
          4,
          18.5,
          1,
          0,
          18,
          18,
          3,
          2,
          0,
          6,
          0.5,
          0.5,
          13.5,
          7,
          2,
          7,
          6,
          0,
          6,
          1,
          13.5,
          4,
          2,
          18,
          11,
          0.25,
          13.5,
          3,
          3,
          3,
          2,
          13.5,
          0,
          0,
          2,
          13.5,
          6,
          3,
          6,
          1,
          6,
          1,
          1,
          13.5,
          null,
          6,
          2,
          2,
          3,
          0,
          6,
          2,
          0,
          18,
          3,
          0,
          1,
          0,
          15,
          3,
          4,
          11,
          11,
          1.62,
          0,
          15,
          2,
          0.5,
          6,
          8.5,
          4,
          3,
          null,
          null,
          null,
          null,
          null,
          null,
          null,
          null,
          null,
          null,
          16,
          11,
          3,
          8.5,
          11,
          0,
          11,
          16,
          8,
          15,
          0,
          0.62,
          0,
          8.5,
          null,
          15,
          13,
          11,
          7,
          11,
          1,
          null,
          3,
          6,
          6,
          2,
          null,
          7,
          0,
          null,
          16,
          5,
          4,
          0,
          8.5,
          7,
          1,
          15,
          0,
          13,
          10,
          1,
          8,
          4,
          2,
          4.5,
          2,
          4,
          11,
          1,
          1,
          0,
          4,
          1,
          6,
          4,
          2,
          4,
          4.5,
          4,
          11,
          1.5,
          3,
          0,
          0,
          2,
          5,
          4,
          6,
          4.5,
          10,
          4,
          2,
          1,
          0,
          4.5,
          0,
          1,
          3,
          3,
          0,
          1,
          3,
          4.5,
          7.5,
          5,
          11.5,
          4,
          6,
          11.5,
          0,
          1,
          7.5,
          0,
          1.5,
          3,
          2,
          0,
          11.5,
          0,
          4,
          11.5,
          0,
          6,
          1,
          2,
          6,
          2,
          2,
          4,
          6,
          7,
          8,
          4.5,
          2,
          2,
          4,
          1,
          0.25,
          5,
          2.5,
          0,
          6,
          6,
          2,
          0,
          0,
          5,
          1,
          1.5,
          3,
          2,
          0,
          7.5,
          2,
          11,
          11.5,
          4,
          11,
          6,
          3,
          7,
          6.5,
          2,
          7,
          3,
          7,
          2,
          0,
          0,
          7,
          1,
          2,
          0.5,
          null,
          4,
          6,
          15,
          6.5,
          15,
          14,
          2,
          1,
          4.5,
          2,
          3,
          1,
          2,
          2,
          14
         ],
         "yaxis": "y"
        }
       ],
       "layout": {
        "legend": {
         "tracegroupgap": 0
        },
        "margin": {
         "t": 60
        },
        "template": {
         "data": {
          "bar": [
           {
            "error_x": {
             "color": "#2a3f5f"
            },
            "error_y": {
             "color": "#2a3f5f"
            },
            "marker": {
             "line": {
              "color": "#E5ECF6",
              "width": 0.5
             },
             "pattern": {
              "fillmode": "overlay",
              "size": 10,
              "solidity": 0.2
             }
            },
            "type": "bar"
           }
          ],
          "barpolar": [
           {
            "marker": {
             "line": {
              "color": "#E5ECF6",
              "width": 0.5
             },
             "pattern": {
              "fillmode": "overlay",
              "size": 10,
              "solidity": 0.2
             }
            },
            "type": "barpolar"
           }
          ],
          "carpet": [
           {
            "aaxis": {
             "endlinecolor": "#2a3f5f",
             "gridcolor": "white",
             "linecolor": "white",
             "minorgridcolor": "white",
             "startlinecolor": "#2a3f5f"
            },
            "baxis": {
             "endlinecolor": "#2a3f5f",
             "gridcolor": "white",
             "linecolor": "white",
             "minorgridcolor": "white",
             "startlinecolor": "#2a3f5f"
            },
            "type": "carpet"
           }
          ],
          "choropleth": [
           {
            "colorbar": {
             "outlinewidth": 0,
             "ticks": ""
            },
            "type": "choropleth"
           }
          ],
          "contour": [
           {
            "colorbar": {
             "outlinewidth": 0,
             "ticks": ""
            },
            "colorscale": [
             [
              0,
              "#0d0887"
             ],
             [
              0.1111111111111111,
              "#46039f"
             ],
             [
              0.2222222222222222,
              "#7201a8"
             ],
             [
              0.3333333333333333,
              "#9c179e"
             ],
             [
              0.4444444444444444,
              "#bd3786"
             ],
             [
              0.5555555555555556,
              "#d8576b"
             ],
             [
              0.6666666666666666,
              "#ed7953"
             ],
             [
              0.7777777777777778,
              "#fb9f3a"
             ],
             [
              0.8888888888888888,
              "#fdca26"
             ],
             [
              1,
              "#f0f921"
             ]
            ],
            "type": "contour"
           }
          ],
          "contourcarpet": [
           {
            "colorbar": {
             "outlinewidth": 0,
             "ticks": ""
            },
            "type": "contourcarpet"
           }
          ],
          "heatmap": [
           {
            "colorbar": {
             "outlinewidth": 0,
             "ticks": ""
            },
            "colorscale": [
             [
              0,
              "#0d0887"
             ],
             [
              0.1111111111111111,
              "#46039f"
             ],
             [
              0.2222222222222222,
              "#7201a8"
             ],
             [
              0.3333333333333333,
              "#9c179e"
             ],
             [
              0.4444444444444444,
              "#bd3786"
             ],
             [
              0.5555555555555556,
              "#d8576b"
             ],
             [
              0.6666666666666666,
              "#ed7953"
             ],
             [
              0.7777777777777778,
              "#fb9f3a"
             ],
             [
              0.8888888888888888,
              "#fdca26"
             ],
             [
              1,
              "#f0f921"
             ]
            ],
            "type": "heatmap"
           }
          ],
          "heatmapgl": [
           {
            "colorbar": {
             "outlinewidth": 0,
             "ticks": ""
            },
            "colorscale": [
             [
              0,
              "#0d0887"
             ],
             [
              0.1111111111111111,
              "#46039f"
             ],
             [
              0.2222222222222222,
              "#7201a8"
             ],
             [
              0.3333333333333333,
              "#9c179e"
             ],
             [
              0.4444444444444444,
              "#bd3786"
             ],
             [
              0.5555555555555556,
              "#d8576b"
             ],
             [
              0.6666666666666666,
              "#ed7953"
             ],
             [
              0.7777777777777778,
              "#fb9f3a"
             ],
             [
              0.8888888888888888,
              "#fdca26"
             ],
             [
              1,
              "#f0f921"
             ]
            ],
            "type": "heatmapgl"
           }
          ],
          "histogram": [
           {
            "marker": {
             "pattern": {
              "fillmode": "overlay",
              "size": 10,
              "solidity": 0.2
             }
            },
            "type": "histogram"
           }
          ],
          "histogram2d": [
           {
            "colorbar": {
             "outlinewidth": 0,
             "ticks": ""
            },
            "colorscale": [
             [
              0,
              "#0d0887"
             ],
             [
              0.1111111111111111,
              "#46039f"
             ],
             [
              0.2222222222222222,
              "#7201a8"
             ],
             [
              0.3333333333333333,
              "#9c179e"
             ],
             [
              0.4444444444444444,
              "#bd3786"
             ],
             [
              0.5555555555555556,
              "#d8576b"
             ],
             [
              0.6666666666666666,
              "#ed7953"
             ],
             [
              0.7777777777777778,
              "#fb9f3a"
             ],
             [
              0.8888888888888888,
              "#fdca26"
             ],
             [
              1,
              "#f0f921"
             ]
            ],
            "type": "histogram2d"
           }
          ],
          "histogram2dcontour": [
           {
            "colorbar": {
             "outlinewidth": 0,
             "ticks": ""
            },
            "colorscale": [
             [
              0,
              "#0d0887"
             ],
             [
              0.1111111111111111,
              "#46039f"
             ],
             [
              0.2222222222222222,
              "#7201a8"
             ],
             [
              0.3333333333333333,
              "#9c179e"
             ],
             [
              0.4444444444444444,
              "#bd3786"
             ],
             [
              0.5555555555555556,
              "#d8576b"
             ],
             [
              0.6666666666666666,
              "#ed7953"
             ],
             [
              0.7777777777777778,
              "#fb9f3a"
             ],
             [
              0.8888888888888888,
              "#fdca26"
             ],
             [
              1,
              "#f0f921"
             ]
            ],
            "type": "histogram2dcontour"
           }
          ],
          "mesh3d": [
           {
            "colorbar": {
             "outlinewidth": 0,
             "ticks": ""
            },
            "type": "mesh3d"
           }
          ],
          "parcoords": [
           {
            "line": {
             "colorbar": {
              "outlinewidth": 0,
              "ticks": ""
             }
            },
            "type": "parcoords"
           }
          ],
          "pie": [
           {
            "automargin": true,
            "type": "pie"
           }
          ],
          "scatter": [
           {
            "fillpattern": {
             "fillmode": "overlay",
             "size": 10,
             "solidity": 0.2
            },
            "type": "scatter"
           }
          ],
          "scatter3d": [
           {
            "line": {
             "colorbar": {
              "outlinewidth": 0,
              "ticks": ""
             }
            },
            "marker": {
             "colorbar": {
              "outlinewidth": 0,
              "ticks": ""
             }
            },
            "type": "scatter3d"
           }
          ],
          "scattercarpet": [
           {
            "marker": {
             "colorbar": {
              "outlinewidth": 0,
              "ticks": ""
             }
            },
            "type": "scattercarpet"
           }
          ],
          "scattergeo": [
           {
            "marker": {
             "colorbar": {
              "outlinewidth": 0,
              "ticks": ""
             }
            },
            "type": "scattergeo"
           }
          ],
          "scattergl": [
           {
            "marker": {
             "colorbar": {
              "outlinewidth": 0,
              "ticks": ""
             }
            },
            "type": "scattergl"
           }
          ],
          "scattermapbox": [
           {
            "marker": {
             "colorbar": {
              "outlinewidth": 0,
              "ticks": ""
             }
            },
            "type": "scattermapbox"
           }
          ],
          "scatterpolar": [
           {
            "marker": {
             "colorbar": {
              "outlinewidth": 0,
              "ticks": ""
             }
            },
            "type": "scatterpolar"
           }
          ],
          "scatterpolargl": [
           {
            "marker": {
             "colorbar": {
              "outlinewidth": 0,
              "ticks": ""
             }
            },
            "type": "scatterpolargl"
           }
          ],
          "scatterternary": [
           {
            "marker": {
             "colorbar": {
              "outlinewidth": 0,
              "ticks": ""
             }
            },
            "type": "scatterternary"
           }
          ],
          "surface": [
           {
            "colorbar": {
             "outlinewidth": 0,
             "ticks": ""
            },
            "colorscale": [
             [
              0,
              "#0d0887"
             ],
             [
              0.1111111111111111,
              "#46039f"
             ],
             [
              0.2222222222222222,
              "#7201a8"
             ],
             [
              0.3333333333333333,
              "#9c179e"
             ],
             [
              0.4444444444444444,
              "#bd3786"
             ],
             [
              0.5555555555555556,
              "#d8576b"
             ],
             [
              0.6666666666666666,
              "#ed7953"
             ],
             [
              0.7777777777777778,
              "#fb9f3a"
             ],
             [
              0.8888888888888888,
              "#fdca26"
             ],
             [
              1,
              "#f0f921"
             ]
            ],
            "type": "surface"
           }
          ],
          "table": [
           {
            "cells": {
             "fill": {
              "color": "#EBF0F8"
             },
             "line": {
              "color": "white"
             }
            },
            "header": {
             "fill": {
              "color": "#C8D4E3"
             },
             "line": {
              "color": "white"
             }
            },
            "type": "table"
           }
          ]
         },
         "layout": {
          "annotationdefaults": {
           "arrowcolor": "#2a3f5f",
           "arrowhead": 0,
           "arrowwidth": 1
          },
          "autotypenumbers": "strict",
          "coloraxis": {
           "colorbar": {
            "outlinewidth": 0,
            "ticks": ""
           }
          },
          "colorscale": {
           "diverging": [
            [
             0,
             "#8e0152"
            ],
            [
             0.1,
             "#c51b7d"
            ],
            [
             0.2,
             "#de77ae"
            ],
            [
             0.3,
             "#f1b6da"
            ],
            [
             0.4,
             "#fde0ef"
            ],
            [
             0.5,
             "#f7f7f7"
            ],
            [
             0.6,
             "#e6f5d0"
            ],
            [
             0.7,
             "#b8e186"
            ],
            [
             0.8,
             "#7fbc41"
            ],
            [
             0.9,
             "#4d9221"
            ],
            [
             1,
             "#276419"
            ]
           ],
           "sequential": [
            [
             0,
             "#0d0887"
            ],
            [
             0.1111111111111111,
             "#46039f"
            ],
            [
             0.2222222222222222,
             "#7201a8"
            ],
            [
             0.3333333333333333,
             "#9c179e"
            ],
            [
             0.4444444444444444,
             "#bd3786"
            ],
            [
             0.5555555555555556,
             "#d8576b"
            ],
            [
             0.6666666666666666,
             "#ed7953"
            ],
            [
             0.7777777777777778,
             "#fb9f3a"
            ],
            [
             0.8888888888888888,
             "#fdca26"
            ],
            [
             1,
             "#f0f921"
            ]
           ],
           "sequentialminus": [
            [
             0,
             "#0d0887"
            ],
            [
             0.1111111111111111,
             "#46039f"
            ],
            [
             0.2222222222222222,
             "#7201a8"
            ],
            [
             0.3333333333333333,
             "#9c179e"
            ],
            [
             0.4444444444444444,
             "#bd3786"
            ],
            [
             0.5555555555555556,
             "#d8576b"
            ],
            [
             0.6666666666666666,
             "#ed7953"
            ],
            [
             0.7777777777777778,
             "#fb9f3a"
            ],
            [
             0.8888888888888888,
             "#fdca26"
            ],
            [
             1,
             "#f0f921"
            ]
           ]
          },
          "colorway": [
           "#636efa",
           "#EF553B",
           "#00cc96",
           "#ab63fa",
           "#FFA15A",
           "#19d3f3",
           "#FF6692",
           "#B6E880",
           "#FF97FF",
           "#FECB52"
          ],
          "font": {
           "color": "#2a3f5f"
          },
          "geo": {
           "bgcolor": "white",
           "lakecolor": "white",
           "landcolor": "#E5ECF6",
           "showlakes": true,
           "showland": true,
           "subunitcolor": "white"
          },
          "hoverlabel": {
           "align": "left"
          },
          "hovermode": "closest",
          "mapbox": {
           "style": "light"
          },
          "paper_bgcolor": "white",
          "plot_bgcolor": "#E5ECF6",
          "polar": {
           "angularaxis": {
            "gridcolor": "white",
            "linecolor": "white",
            "ticks": ""
           },
           "bgcolor": "#E5ECF6",
           "radialaxis": {
            "gridcolor": "white",
            "linecolor": "white",
            "ticks": ""
           }
          },
          "scene": {
           "xaxis": {
            "backgroundcolor": "#E5ECF6",
            "gridcolor": "white",
            "gridwidth": 2,
            "linecolor": "white",
            "showbackground": true,
            "ticks": "",
            "zerolinecolor": "white"
           },
           "yaxis": {
            "backgroundcolor": "#E5ECF6",
            "gridcolor": "white",
            "gridwidth": 2,
            "linecolor": "white",
            "showbackground": true,
            "ticks": "",
            "zerolinecolor": "white"
           },
           "zaxis": {
            "backgroundcolor": "#E5ECF6",
            "gridcolor": "white",
            "gridwidth": 2,
            "linecolor": "white",
            "showbackground": true,
            "ticks": "",
            "zerolinecolor": "white"
           }
          },
          "shapedefaults": {
           "line": {
            "color": "#2a3f5f"
           }
          },
          "ternary": {
           "aaxis": {
            "gridcolor": "white",
            "linecolor": "white",
            "ticks": ""
           },
           "baxis": {
            "gridcolor": "white",
            "linecolor": "white",
            "ticks": ""
           },
           "bgcolor": "#E5ECF6",
           "caxis": {
            "gridcolor": "white",
            "linecolor": "white",
            "ticks": ""
           }
          },
          "title": {
           "x": 0.05
          },
          "xaxis": {
           "automargin": true,
           "gridcolor": "white",
           "linecolor": "white",
           "ticks": "",
           "title": {
            "standoff": 15
           },
           "zerolinecolor": "white",
           "zerolinewidth": 2
          },
          "yaxis": {
           "automargin": true,
           "gridcolor": "white",
           "linecolor": "white",
           "ticks": "",
           "title": {
            "standoff": 15
           },
           "zerolinecolor": "white",
           "zerolinewidth": 2
          }
         }
        },
        "xaxis": {
         "anchor": "y",
         "domain": [
          0,
          1
         ],
         "title": {
          "text": "x"
         }
        },
        "yaxis": {
         "anchor": "x",
         "domain": [
          0,
          1
         ],
         "title": {
          "text": "y"
         }
        }
       }
      }
     },
     "metadata": {},
     "output_type": "display_data"
    }
   ],
   "source": [
    "# Exercise 4\n",
    "# Now that we have a quantity of raw data, we will extract the interesting parts.  \n",
    "# In our case, we want to count the money paid by each manor and compare it to the number of ploughs it has.  \n",
    "# - Can you find the corresponding json fields?  \n",
    "# - Then, you can list these numbers for each manor in Derbyshire.  \n",
    "# - And format this in an appropriate comma-separated values (CSV) file.\n",
    "\n",
    "for manor in manors_data[0:5]:\n",
    "    print(f\"Geld: {manor['geld']}, total ploughs: {manor['totalploughs']}\")\n",
    "\n",
    "csv = (\"geld,total_ploughs\"+\"\\n\")+(\"\\n\".join([\",\".join([str(manor[\"geld\"]),str(manor[\"totalploughs\"])]) for manor in manors_data]))\n",
    "with open(\"output.csv\", \"w+\") as file:\n",
    "    file.write(csv)\n",
    "    \n",
    "import plotly_express as px \n",
    "px.scatter(x=[manor[\"geld\"] for manor in manors_data],y=[manor[\"totalploughs\"] for manor in manors_data])"
   ]
  },
  {
   "cell_type": "code",
   "execution_count": 88,
   "metadata": {},
   "outputs": [
    {
     "name": "stdout",
     "output_type": "stream",
     "text": [
      "The richest manor has a geld of 23.0\n"
     ]
    }
   ],
   "source": [
    "# Exercise 5\n",
    "# What is the richest manor in Derbyshire?\n",
    "\n",
    "richest_manor = max(manors_data, key=lambda x:x[\"geld\"] if x[\"geld\"] is not None else 0)\n",
    "print(f\"The richest manor has a geld of {richest_manor['geld']}\")"
   ]
  },
  {
   "cell_type": "code",
   "execution_count": 92,
   "metadata": {},
   "outputs": [
    {
     "data": {
      "text/plain": [
       "2221.159999999996"
      ]
     },
     "execution_count": 92,
     "metadata": {},
     "output_type": "execute_result"
    }
   ],
   "source": [
    "# Exercise 6\n",
    "# Give the total value paid by Derbyshire.\n",
    "\n",
    "total_paid = sum([x[\"geld\"] if x[\"geld\"] is not None else 0 for x in manors_data])\n",
    "total_paid"
   ]
  },
  {
   "cell_type": "code",
   "execution_count": 182,
   "metadata": {},
   "outputs": [],
   "source": [
    "from tqdm import tqdm\n",
    "\n",
    "# Exercise 7\n",
    "# Create a Python class.\n",
    "# It must include all the previous functionalities.\n",
    "# Refactor your code to make it readable, efficient, and maintainable.\n",
    "\n",
    "\n",
    "class OpenDomesDay:\n",
    "    def __init__(self):\n",
    "        self.counties = {}\n",
    "        self.base_route = \"https://opendomesday.org/api/1.0/\"\n",
    "\n",
    "    def parse_json(self, response):\n",
    "        try:\n",
    "            return response.json()\n",
    "        except:\n",
    "            raise print(f\"Error parsing data {response.text()[0:50]}\")\n",
    "\n",
    "    def get(self, route):\n",
    "        try:\n",
    "            resp = requests.get(f\"{self.base_route}{route}\")\n",
    "        except:\n",
    "            print(f\"Error fetching {self.base_route}{route}\")\n",
    "        return self.parse_json(resp)\n",
    "\n",
    "    def get_county(self, id):\n",
    "        if id in self.counties:\n",
    "            return self.counties[id]\n",
    "        county = self.get(f\"county/{id}\")\n",
    "        self.counties[id] = county\n",
    "        return county\n",
    "\n",
    "    def get_place(self, id):\n",
    "        return self.get(f\"place/{id}\")\n",
    "\n",
    "    def get_county_places(self, id):\n",
    "        county = self.get_county(id)\n",
    "        if not \"cached_places\" in county:\n",
    "            county[\"cached_places\"] = []\n",
    "\n",
    "        cached_places_id = [x[\"id\"] for x in county[\"cached_places\"]]\n",
    "\n",
    "        print(f\"Found {len(cached_places_id)} places in cache\")\n",
    "\n",
    "        for place in tqdm(county[\"places_in_county\"]):\n",
    "            if not place[\"id\"] in cached_places_id:\n",
    "                county[\"cached_places\"].append(self.get_place(place[\"id\"]))\n",
    "\n",
    "        return county[\"cached_places\"]\n",
    "\n",
    "    def get_manor(self, id):\n",
    "        return self.get(f\"manor/{id}\")\n",
    "\n",
    "    def get_county_manors(self, id):\n",
    "        county_places = self.get_county_places(id)\n",
    "\n",
    "        all_manors = []\n",
    "\n",
    "        for place in tqdm(county_places):\n",
    "            if not \"cached_manors\" in place:\n",
    "                place[\"cached_manors\"] = []\n",
    "            cached_manors_id = [x[\"id\"] for x in place[\"cached_manors\"]]\n",
    "\n",
    "            for manor in place[\"manors\"]:\n",
    "                if not manor[\"id\"] in cached_manors_id:\n",
    "                    place[\"cached_manors\"].append(self.get_manor(manor[\"id\"]))\n",
    "\n",
    "            all_manors.extend(place[\"cached_manors\"])\n",
    "\n",
    "        return all_manors\n",
    "\n",
    "    def compare_county_geld_ploughs(self, id):\n",
    "        manors = self.get_county_manors(id)\n",
    "        px.scatter(\n",
    "            x=[manor[\"geld\"] for manor in manors_data],\n",
    "            y=[manor[\"totalploughs\"] for manor in manors],\n",
    "            title=\"Comparaison of geld and total ploughs\",\n",
    "        ).show()\n",
    "\n",
    "    def get_county_richest_manor(self, id):\n",
    "        manors = self.get_county_manors(id)\n",
    "        return max(manors, key=lambda x: x[\"geld\"] if x[\"geld\"] is not None else 0)\n",
    "\n",
    "    def get_county_total_paid(self, id):\n",
    "        manors = self.get_county_manors(id)\n",
    "        return sum([x[\"geld\"] if x[\"geld\"] is not None else 0 for x in manors])\n",
    "\n",
    "\n",
    "openDomesDay = OpenDomesDay()"
   ]
  },
  {
   "cell_type": "code",
   "execution_count": null,
   "metadata": {},
   "outputs": [],
   "source": [
    "openDomesDay.get_county_manors(\"dby\")"
   ]
  },
  {
   "cell_type": "code",
   "execution_count": 186,
   "metadata": {},
   "outputs": [
    {
     "name": "stdout",
     "output_type": "stream",
     "text": [
      "Found 352 places in cache\n"
     ]
    },
    {
     "name": "stderr",
     "output_type": "stream",
     "text": [
      "100%|██████████| 352/352 [00:00<00:00, 215941.93it/s]\n",
      "100%|██████████| 352/352 [00:00<00:00, 357048.37it/s]\n"
     ]
    },
    {
     "data": {
      "application/vnd.plotly.v1+json": {
       "config": {
        "plotlyServerURL": "https://plot.ly"
       },
       "data": [
        {
         "hovertemplate": "x=%{x}<br>y=%{y}<extra></extra>",
         "legendgroup": "",
         "marker": {
          "color": "#636efa",
          "symbol": "circle"
         },
         "mode": "markers",
         "name": "",
         "orientation": "v",
         "showlegend": false,
         "type": "scatter",
         "x": [
          1.5,
          2,
          2.08,
          4,
          1,
          2,
          1,
          2,
          5.25,
          0.75,
          0.62,
          2,
          3,
          4,
          1,
          2,
          3.31,
          0.66,
          2.5,
          2,
          1,
          1,
          16.25,
          3,
          0.37,
          1.5,
          3.31,
          16.25,
          2,
          3.31,
          1,
          4,
          2,
          4,
          3,
          1.5,
          2,
          16.25,
          1.5,
          3,
          1,
          6,
          1,
          0.37,
          1.93,
          16.25,
          4,
          2,
          1,
          0.66,
          16.25,
          1.93,
          16.25,
          2,
          0.62,
          1.5,
          1.5,
          2,
          1.5,
          2,
          1,
          23,
          10,
          18,
          4,
          23,
          0.75,
          23,
          1,
          23,
          2,
          23,
          3.25,
          18,
          23,
          2,
          6,
          1.25,
          6,
          6,
          18,
          3.25,
          3.25,
          10,
          2,
          2,
          3.25,
          23,
          1,
          2,
          23,
          6,
          0.5,
          2,
          23,
          4,
          6,
          3.5,
          6,
          18,
          10,
          6,
          1.25,
          3,
          3.5,
          6,
          6,
          2,
          18,
          10,
          4,
          18,
          4,
          10,
          4,
          6,
          18,
          6,
          2,
          23,
          23,
          18,
          10,
          23,
          1,
          10,
          0.5,
          1,
          4,
          23,
          6,
          10,
          1,
          6,
          4,
          1.5,
          3,
          3,
          1,
          1,
          2,
          2,
          7,
          6,
          2,
          0.75,
          2,
          1,
          0.5,
          0.5,
          2,
          1,
          4,
          17,
          3,
          4,
          9,
          4,
          4,
          17,
          21,
          21,
          4,
          0.5,
          21,
          2,
          17,
          4,
          2,
          17,
          21,
          9,
          0.62,
          21,
          4,
          0.5,
          2,
          17,
          9,
          9,
          21,
          4,
          17,
          4,
          2,
          6,
          9,
          2,
          9,
          0.5,
          17,
          4,
          6,
          21,
          9,
          0.25,
          1.5,
          21,
          0.5,
          4,
          10,
          10,
          1,
          0.81,
          1,
          13.81,
          0.43,
          1.5,
          16.25,
          2,
          1,
          2,
          13.81,
          0.5,
          13.81,
          0.87,
          16.25,
          2,
          4,
          10,
          5,
          1,
          16.25,
          1,
          2,
          4,
          2,
          16.25,
          4,
          0.5,
          4,
          16.25,
          4,
          2,
          13.81,
          1,
          13.81,
          0.37,
          0.87,
          16.25,
          15.12,
          3,
          0.81,
          2,
          4,
          1,
          13.81,
          1,
          1,
          10,
          4,
          1,
          1,
          1.16,
          10.31,
          1,
          3,
          7.16,
          5,
          0.37,
          2.12,
          8.75,
          3,
          0.59,
          4.58,
          7,
          0.5,
          2,
          15.12,
          null,
          null,
          null,
          1,
          null,
          null,
          null,
          0.12,
          0.12,
          12,
          7.16,
          1,
          7,
          7.16,
          0.83,
          7.16,
          12,
          3,
          8.75,
          0.37,
          0.37,
          1.16,
          7,
          15.12,
          8.75,
          12,
          7.16,
          9.5,
          7.16,
          0.66,
          0.66,
          4,
          2,
          2,
          1.33,
          0.66,
          4,
          1,
          0.25,
          12,
          2,
          0.5,
          1.16,
          7,
          5,
          2,
          8.75,
          1,
          8,
          3,
          1,
          2,
          4.25,
          0.75,
          2,
          0.59,
          2,
          6.25,
          0.31,
          0.68,
          0.5,
          0.81,
          1,
          3,
          6.12,
          1.25,
          6.12,
          1,
          6.12,
          6.25,
          0.75,
          0.68,
          0.25,
          0.25,
          1,
          4.25,
          6.12,
          4,
          1,
          1,
          0.5,
          1,
          0.66,
          0.5,
          0.87,
          0.12,
          1,
          1.31,
          1,
          0.06,
          0.93,
          2,
          1,
          1.5,
          2,
          2.35,
          6.12,
          3,
          2.35,
          0.25,
          1.62,
          1.5,
          0.25,
          0.47,
          1.31,
          0.9,
          0.25,
          2.35,
          0.25,
          6.12,
          2.35,
          0.5,
          6.25,
          1,
          1.25,
          6.25,
          2.5,
          2,
          2,
          1.5,
          4,
          0.37,
          1,
          0.31,
          4,
          6.12,
          0.15,
          0.2,
          0.9,
          3,
          0.5,
          1.5,
          6.25,
          2.5,
          0.5,
          0.33,
          0.9,
          1,
          0.47,
          1.31,
          0.9,
          2,
          1.5,
          0.43,
          6.25,
          2.35,
          2,
          1,
          4,
          5,
          4,
          7,
          2,
          3,
          2,
          4,
          2,
          4,
          2,
          4,
          0.37,
          1.16,
          0.37,
          0.08,
          5,
          13.81,
          6,
          7,
          6,
          6,
          2,
          0.5,
          1.5,
          1,
          1,
          2.33,
          0.66,
          1,
          6
         ],
         "xaxis": "x",
         "y": [
          4,
          3,
          5,
          10,
          0,
          5,
          4,
          7,
          8,
          1.5,
          1.5,
          4,
          4,
          10,
          3,
          2,
          1,
          6,
          3,
          3,
          null,
          2,
          13.5,
          6,
          0,
          7,
          1,
          13.5,
          4,
          1,
          0,
          5,
          7,
          6,
          6,
          5,
          5,
          13.5,
          3,
          6,
          1,
          19,
          3,
          0,
          5,
          13.5,
          6,
          3,
          1,
          6,
          13.5,
          3,
          13.5,
          10,
          1.5,
          4,
          3.5,
          2,
          3,
          3,
          0,
          9,
          6,
          18,
          5,
          9,
          1,
          9,
          0,
          9,
          4,
          9,
          4,
          18,
          9,
          5,
          0,
          2,
          0,
          0,
          18,
          4,
          4,
          6,
          6,
          5,
          4,
          9,
          3,
          0,
          9,
          0,
          0,
          3,
          9,
          5,
          0,
          1.5,
          0,
          18,
          6,
          0,
          2,
          0,
          1.5,
          0,
          0,
          0,
          18,
          6,
          0,
          18,
          5,
          6,
          5,
          0,
          18,
          0,
          0,
          9,
          9,
          18,
          6,
          9,
          3,
          6,
          2,
          0,
          5,
          9,
          0,
          6,
          0,
          0,
          0,
          4,
          2,
          0,
          0,
          0,
          0,
          0,
          2,
          6,
          1,
          0,
          0,
          0,
          0,
          0,
          2.5,
          0.62,
          3,
          8,
          0,
          2,
          6,
          6,
          9,
          8,
          18.5,
          18.5,
          3,
          1,
          18.5,
          5,
          8,
          3,
          0,
          8,
          18.5,
          6,
          0,
          18.5,
          0,
          1,
          0,
          8,
          6,
          6,
          18.5,
          0,
          8,
          3,
          0,
          2,
          6,
          0,
          6,
          1,
          8,
          7,
          2,
          18.5,
          6,
          1,
          4,
          18.5,
          1,
          0,
          18,
          18,
          3,
          2,
          0,
          6,
          0.5,
          0.5,
          13.5,
          7,
          2,
          7,
          6,
          0,
          6,
          1,
          13.5,
          4,
          2,
          18,
          11,
          0.25,
          13.5,
          3,
          3,
          3,
          2,
          13.5,
          0,
          0,
          2,
          13.5,
          6,
          3,
          6,
          1,
          6,
          1,
          1,
          13.5,
          null,
          6,
          2,
          2,
          3,
          0,
          6,
          2,
          0,
          18,
          3,
          0,
          1,
          0,
          15,
          3,
          4,
          11,
          11,
          1.62,
          0,
          15,
          2,
          0.5,
          6,
          8.5,
          4,
          3,
          null,
          null,
          null,
          null,
          null,
          null,
          null,
          null,
          null,
          null,
          16,
          11,
          3,
          8.5,
          11,
          0,
          11,
          16,
          8,
          15,
          0,
          0.62,
          0,
          8.5,
          null,
          15,
          13,
          11,
          7,
          11,
          1,
          null,
          3,
          6,
          6,
          2,
          null,
          7,
          0,
          null,
          16,
          5,
          4,
          0,
          8.5,
          7,
          1,
          15,
          0,
          13,
          10,
          1,
          8,
          4,
          2,
          4.5,
          2,
          4,
          11,
          1,
          1,
          0,
          4,
          1,
          6,
          4,
          2,
          4,
          4.5,
          4,
          11,
          1.5,
          3,
          0,
          0,
          2,
          5,
          4,
          6,
          4.5,
          10,
          4,
          2,
          1,
          0,
          4.5,
          0,
          1,
          3,
          3,
          0,
          1,
          3,
          4.5,
          7.5,
          5,
          11.5,
          4,
          6,
          11.5,
          0,
          1,
          7.5,
          0,
          1.5,
          3,
          2,
          0,
          11.5,
          0,
          4,
          11.5,
          0,
          6,
          1,
          2,
          6,
          2,
          2,
          4,
          6,
          7,
          8,
          4.5,
          2,
          2,
          4,
          1,
          0.25,
          5,
          2.5,
          0,
          6,
          6,
          2,
          0,
          0,
          5,
          1,
          1.5,
          3,
          2,
          0,
          7.5,
          2,
          11,
          11.5,
          4,
          11,
          6,
          3,
          7,
          6.5,
          2,
          7,
          3,
          7,
          2,
          0,
          0,
          7,
          1,
          2,
          0.5,
          null,
          4,
          6,
          15,
          6.5,
          15,
          14,
          2,
          1,
          4.5,
          2,
          3,
          1,
          2,
          2,
          14
         ],
         "yaxis": "y"
        }
       ],
       "layout": {
        "legend": {
         "tracegroupgap": 0
        },
        "template": {
         "data": {
          "bar": [
           {
            "error_x": {
             "color": "#2a3f5f"
            },
            "error_y": {
             "color": "#2a3f5f"
            },
            "marker": {
             "line": {
              "color": "#E5ECF6",
              "width": 0.5
             },
             "pattern": {
              "fillmode": "overlay",
              "size": 10,
              "solidity": 0.2
             }
            },
            "type": "bar"
           }
          ],
          "barpolar": [
           {
            "marker": {
             "line": {
              "color": "#E5ECF6",
              "width": 0.5
             },
             "pattern": {
              "fillmode": "overlay",
              "size": 10,
              "solidity": 0.2
             }
            },
            "type": "barpolar"
           }
          ],
          "carpet": [
           {
            "aaxis": {
             "endlinecolor": "#2a3f5f",
             "gridcolor": "white",
             "linecolor": "white",
             "minorgridcolor": "white",
             "startlinecolor": "#2a3f5f"
            },
            "baxis": {
             "endlinecolor": "#2a3f5f",
             "gridcolor": "white",
             "linecolor": "white",
             "minorgridcolor": "white",
             "startlinecolor": "#2a3f5f"
            },
            "type": "carpet"
           }
          ],
          "choropleth": [
           {
            "colorbar": {
             "outlinewidth": 0,
             "ticks": ""
            },
            "type": "choropleth"
           }
          ],
          "contour": [
           {
            "colorbar": {
             "outlinewidth": 0,
             "ticks": ""
            },
            "colorscale": [
             [
              0,
              "#0d0887"
             ],
             [
              0.1111111111111111,
              "#46039f"
             ],
             [
              0.2222222222222222,
              "#7201a8"
             ],
             [
              0.3333333333333333,
              "#9c179e"
             ],
             [
              0.4444444444444444,
              "#bd3786"
             ],
             [
              0.5555555555555556,
              "#d8576b"
             ],
             [
              0.6666666666666666,
              "#ed7953"
             ],
             [
              0.7777777777777778,
              "#fb9f3a"
             ],
             [
              0.8888888888888888,
              "#fdca26"
             ],
             [
              1,
              "#f0f921"
             ]
            ],
            "type": "contour"
           }
          ],
          "contourcarpet": [
           {
            "colorbar": {
             "outlinewidth": 0,
             "ticks": ""
            },
            "type": "contourcarpet"
           }
          ],
          "heatmap": [
           {
            "colorbar": {
             "outlinewidth": 0,
             "ticks": ""
            },
            "colorscale": [
             [
              0,
              "#0d0887"
             ],
             [
              0.1111111111111111,
              "#46039f"
             ],
             [
              0.2222222222222222,
              "#7201a8"
             ],
             [
              0.3333333333333333,
              "#9c179e"
             ],
             [
              0.4444444444444444,
              "#bd3786"
             ],
             [
              0.5555555555555556,
              "#d8576b"
             ],
             [
              0.6666666666666666,
              "#ed7953"
             ],
             [
              0.7777777777777778,
              "#fb9f3a"
             ],
             [
              0.8888888888888888,
              "#fdca26"
             ],
             [
              1,
              "#f0f921"
             ]
            ],
            "type": "heatmap"
           }
          ],
          "heatmapgl": [
           {
            "colorbar": {
             "outlinewidth": 0,
             "ticks": ""
            },
            "colorscale": [
             [
              0,
              "#0d0887"
             ],
             [
              0.1111111111111111,
              "#46039f"
             ],
             [
              0.2222222222222222,
              "#7201a8"
             ],
             [
              0.3333333333333333,
              "#9c179e"
             ],
             [
              0.4444444444444444,
              "#bd3786"
             ],
             [
              0.5555555555555556,
              "#d8576b"
             ],
             [
              0.6666666666666666,
              "#ed7953"
             ],
             [
              0.7777777777777778,
              "#fb9f3a"
             ],
             [
              0.8888888888888888,
              "#fdca26"
             ],
             [
              1,
              "#f0f921"
             ]
            ],
            "type": "heatmapgl"
           }
          ],
          "histogram": [
           {
            "marker": {
             "pattern": {
              "fillmode": "overlay",
              "size": 10,
              "solidity": 0.2
             }
            },
            "type": "histogram"
           }
          ],
          "histogram2d": [
           {
            "colorbar": {
             "outlinewidth": 0,
             "ticks": ""
            },
            "colorscale": [
             [
              0,
              "#0d0887"
             ],
             [
              0.1111111111111111,
              "#46039f"
             ],
             [
              0.2222222222222222,
              "#7201a8"
             ],
             [
              0.3333333333333333,
              "#9c179e"
             ],
             [
              0.4444444444444444,
              "#bd3786"
             ],
             [
              0.5555555555555556,
              "#d8576b"
             ],
             [
              0.6666666666666666,
              "#ed7953"
             ],
             [
              0.7777777777777778,
              "#fb9f3a"
             ],
             [
              0.8888888888888888,
              "#fdca26"
             ],
             [
              1,
              "#f0f921"
             ]
            ],
            "type": "histogram2d"
           }
          ],
          "histogram2dcontour": [
           {
            "colorbar": {
             "outlinewidth": 0,
             "ticks": ""
            },
            "colorscale": [
             [
              0,
              "#0d0887"
             ],
             [
              0.1111111111111111,
              "#46039f"
             ],
             [
              0.2222222222222222,
              "#7201a8"
             ],
             [
              0.3333333333333333,
              "#9c179e"
             ],
             [
              0.4444444444444444,
              "#bd3786"
             ],
             [
              0.5555555555555556,
              "#d8576b"
             ],
             [
              0.6666666666666666,
              "#ed7953"
             ],
             [
              0.7777777777777778,
              "#fb9f3a"
             ],
             [
              0.8888888888888888,
              "#fdca26"
             ],
             [
              1,
              "#f0f921"
             ]
            ],
            "type": "histogram2dcontour"
           }
          ],
          "mesh3d": [
           {
            "colorbar": {
             "outlinewidth": 0,
             "ticks": ""
            },
            "type": "mesh3d"
           }
          ],
          "parcoords": [
           {
            "line": {
             "colorbar": {
              "outlinewidth": 0,
              "ticks": ""
             }
            },
            "type": "parcoords"
           }
          ],
          "pie": [
           {
            "automargin": true,
            "type": "pie"
           }
          ],
          "scatter": [
           {
            "fillpattern": {
             "fillmode": "overlay",
             "size": 10,
             "solidity": 0.2
            },
            "type": "scatter"
           }
          ],
          "scatter3d": [
           {
            "line": {
             "colorbar": {
              "outlinewidth": 0,
              "ticks": ""
             }
            },
            "marker": {
             "colorbar": {
              "outlinewidth": 0,
              "ticks": ""
             }
            },
            "type": "scatter3d"
           }
          ],
          "scattercarpet": [
           {
            "marker": {
             "colorbar": {
              "outlinewidth": 0,
              "ticks": ""
             }
            },
            "type": "scattercarpet"
           }
          ],
          "scattergeo": [
           {
            "marker": {
             "colorbar": {
              "outlinewidth": 0,
              "ticks": ""
             }
            },
            "type": "scattergeo"
           }
          ],
          "scattergl": [
           {
            "marker": {
             "colorbar": {
              "outlinewidth": 0,
              "ticks": ""
             }
            },
            "type": "scattergl"
           }
          ],
          "scattermapbox": [
           {
            "marker": {
             "colorbar": {
              "outlinewidth": 0,
              "ticks": ""
             }
            },
            "type": "scattermapbox"
           }
          ],
          "scatterpolar": [
           {
            "marker": {
             "colorbar": {
              "outlinewidth": 0,
              "ticks": ""
             }
            },
            "type": "scatterpolar"
           }
          ],
          "scatterpolargl": [
           {
            "marker": {
             "colorbar": {
              "outlinewidth": 0,
              "ticks": ""
             }
            },
            "type": "scatterpolargl"
           }
          ],
          "scatterternary": [
           {
            "marker": {
             "colorbar": {
              "outlinewidth": 0,
              "ticks": ""
             }
            },
            "type": "scatterternary"
           }
          ],
          "surface": [
           {
            "colorbar": {
             "outlinewidth": 0,
             "ticks": ""
            },
            "colorscale": [
             [
              0,
              "#0d0887"
             ],
             [
              0.1111111111111111,
              "#46039f"
             ],
             [
              0.2222222222222222,
              "#7201a8"
             ],
             [
              0.3333333333333333,
              "#9c179e"
             ],
             [
              0.4444444444444444,
              "#bd3786"
             ],
             [
              0.5555555555555556,
              "#d8576b"
             ],
             [
              0.6666666666666666,
              "#ed7953"
             ],
             [
              0.7777777777777778,
              "#fb9f3a"
             ],
             [
              0.8888888888888888,
              "#fdca26"
             ],
             [
              1,
              "#f0f921"
             ]
            ],
            "type": "surface"
           }
          ],
          "table": [
           {
            "cells": {
             "fill": {
              "color": "#EBF0F8"
             },
             "line": {
              "color": "white"
             }
            },
            "header": {
             "fill": {
              "color": "#C8D4E3"
             },
             "line": {
              "color": "white"
             }
            },
            "type": "table"
           }
          ]
         },
         "layout": {
          "annotationdefaults": {
           "arrowcolor": "#2a3f5f",
           "arrowhead": 0,
           "arrowwidth": 1
          },
          "autotypenumbers": "strict",
          "coloraxis": {
           "colorbar": {
            "outlinewidth": 0,
            "ticks": ""
           }
          },
          "colorscale": {
           "diverging": [
            [
             0,
             "#8e0152"
            ],
            [
             0.1,
             "#c51b7d"
            ],
            [
             0.2,
             "#de77ae"
            ],
            [
             0.3,
             "#f1b6da"
            ],
            [
             0.4,
             "#fde0ef"
            ],
            [
             0.5,
             "#f7f7f7"
            ],
            [
             0.6,
             "#e6f5d0"
            ],
            [
             0.7,
             "#b8e186"
            ],
            [
             0.8,
             "#7fbc41"
            ],
            [
             0.9,
             "#4d9221"
            ],
            [
             1,
             "#276419"
            ]
           ],
           "sequential": [
            [
             0,
             "#0d0887"
            ],
            [
             0.1111111111111111,
             "#46039f"
            ],
            [
             0.2222222222222222,
             "#7201a8"
            ],
            [
             0.3333333333333333,
             "#9c179e"
            ],
            [
             0.4444444444444444,
             "#bd3786"
            ],
            [
             0.5555555555555556,
             "#d8576b"
            ],
            [
             0.6666666666666666,
             "#ed7953"
            ],
            [
             0.7777777777777778,
             "#fb9f3a"
            ],
            [
             0.8888888888888888,
             "#fdca26"
            ],
            [
             1,
             "#f0f921"
            ]
           ],
           "sequentialminus": [
            [
             0,
             "#0d0887"
            ],
            [
             0.1111111111111111,
             "#46039f"
            ],
            [
             0.2222222222222222,
             "#7201a8"
            ],
            [
             0.3333333333333333,
             "#9c179e"
            ],
            [
             0.4444444444444444,
             "#bd3786"
            ],
            [
             0.5555555555555556,
             "#d8576b"
            ],
            [
             0.6666666666666666,
             "#ed7953"
            ],
            [
             0.7777777777777778,
             "#fb9f3a"
            ],
            [
             0.8888888888888888,
             "#fdca26"
            ],
            [
             1,
             "#f0f921"
            ]
           ]
          },
          "colorway": [
           "#636efa",
           "#EF553B",
           "#00cc96",
           "#ab63fa",
           "#FFA15A",
           "#19d3f3",
           "#FF6692",
           "#B6E880",
           "#FF97FF",
           "#FECB52"
          ],
          "font": {
           "color": "#2a3f5f"
          },
          "geo": {
           "bgcolor": "white",
           "lakecolor": "white",
           "landcolor": "#E5ECF6",
           "showlakes": true,
           "showland": true,
           "subunitcolor": "white"
          },
          "hoverlabel": {
           "align": "left"
          },
          "hovermode": "closest",
          "mapbox": {
           "style": "light"
          },
          "paper_bgcolor": "white",
          "plot_bgcolor": "#E5ECF6",
          "polar": {
           "angularaxis": {
            "gridcolor": "white",
            "linecolor": "white",
            "ticks": ""
           },
           "bgcolor": "#E5ECF6",
           "radialaxis": {
            "gridcolor": "white",
            "linecolor": "white",
            "ticks": ""
           }
          },
          "scene": {
           "xaxis": {
            "backgroundcolor": "#E5ECF6",
            "gridcolor": "white",
            "gridwidth": 2,
            "linecolor": "white",
            "showbackground": true,
            "ticks": "",
            "zerolinecolor": "white"
           },
           "yaxis": {
            "backgroundcolor": "#E5ECF6",
            "gridcolor": "white",
            "gridwidth": 2,
            "linecolor": "white",
            "showbackground": true,
            "ticks": "",
            "zerolinecolor": "white"
           },
           "zaxis": {
            "backgroundcolor": "#E5ECF6",
            "gridcolor": "white",
            "gridwidth": 2,
            "linecolor": "white",
            "showbackground": true,
            "ticks": "",
            "zerolinecolor": "white"
           }
          },
          "shapedefaults": {
           "line": {
            "color": "#2a3f5f"
           }
          },
          "ternary": {
           "aaxis": {
            "gridcolor": "white",
            "linecolor": "white",
            "ticks": ""
           },
           "baxis": {
            "gridcolor": "white",
            "linecolor": "white",
            "ticks": ""
           },
           "bgcolor": "#E5ECF6",
           "caxis": {
            "gridcolor": "white",
            "linecolor": "white",
            "ticks": ""
           }
          },
          "title": {
           "x": 0.05
          },
          "xaxis": {
           "automargin": true,
           "gridcolor": "white",
           "linecolor": "white",
           "ticks": "",
           "title": {
            "standoff": 15
           },
           "zerolinecolor": "white",
           "zerolinewidth": 2
          },
          "yaxis": {
           "automargin": true,
           "gridcolor": "white",
           "linecolor": "white",
           "ticks": "",
           "title": {
            "standoff": 15
           },
           "zerolinecolor": "white",
           "zerolinewidth": 2
          }
         }
        },
        "title": {
         "text": "Comparaison of geld and total ploughs"
        },
        "xaxis": {
         "anchor": "y",
         "domain": [
          0,
          1
         ],
         "title": {
          "text": "x"
         }
        },
        "yaxis": {
         "anchor": "x",
         "domain": [
          0,
          1
         ],
         "title": {
          "text": "y"
         }
        }
       }
      }
     },
     "metadata": {},
     "output_type": "display_data"
    }
   ],
   "source": [
    "openDomesDay.compare_county_geld_ploughs(\"dby\")"
   ]
  },
  {
   "cell_type": "code",
   "execution_count": 184,
   "metadata": {},
   "outputs": [
    {
     "name": "stdout",
     "output_type": "stream",
     "text": [
      "Found 352 places in cache\n"
     ]
    },
    {
     "name": "stderr",
     "output_type": "stream",
     "text": [
      "100%|██████████| 352/352 [00:00<00:00, 219310.01it/s]\n",
      "100%|██████████| 352/352 [00:00<00:00, 359132.82it/s]\n"
     ]
    },
    {
     "data": {
      "text/plain": [
       "{'id': 12971,\n",
       " 'county': {'id': 'dby'},\n",
       " 'place': [{'id': 2623},\n",
       "  {'id': 5016},\n",
       "  {'id': 7111},\n",
       "  {'id': 7451},\n",
       "  {'id': 10981},\n",
       "  {'id': 12751},\n",
       "  {'id': 25081},\n",
       "  {'id': 40056},\n",
       "  {'id': 30061},\n",
       "  {'id': 50311},\n",
       "  {'id': 52766},\n",
       "  {'id': 55131},\n",
       "  {'id': 61396}],\n",
       " 'phillimore': '1,28',\n",
       " 'headofmanor': 'Bakewell I',\n",
       " 'duplicates': None,\n",
       " 'subholdings': None,\n",
       " 'notes': 'Shared statistics: 1,27-29, valuation (if any) recorded in 1,29. 1 mill-site may imply some waste; Geld: 1 carucate untaxed.',\n",
       " 'waste': 'none',\n",
       " 'waste66': 'N',\n",
       " 'wasteqr': 'N',\n",
       " 'waste86': 'N',\n",
       " 'geld': 23.0,\n",
       " 'gcode': 'exemption',\n",
       " 'villtax': None,\n",
       " 'taxedon': 22.0,\n",
       " 'value86': None,\n",
       " 'value66': None,\n",
       " 'valueqr': None,\n",
       " 'value_string': None,\n",
       " 'render': None,\n",
       " 'lordsland': None,\n",
       " 'newland': None,\n",
       " 'ploughlands': 22.0,\n",
       " 'pcode': 'land for',\n",
       " 'lordsploughs': 4.0,\n",
       " 'mensploughs': 5.0,\n",
       " 'totalploughs': 9.0,\n",
       " 'lordsploughspossible': None,\n",
       " 'mensploughspossible': None,\n",
       " 'villagers': 18.0,\n",
       " 'smallholders': 0.0,\n",
       " 'slaves': 0.0,\n",
       " 'femaleslaves': 0.0,\n",
       " 'freemen': 0.0,\n",
       " 'free2men': 0.0,\n",
       " 'priests': 0.0,\n",
       " 'cottagers': 0.0,\n",
       " 'otherpop': 0.0,\n",
       " 'miscpop': 0.0,\n",
       " 'miscpopcategories': None,\n",
       " 'burgesses': 0.0,\n",
       " 'mills': 1.0,\n",
       " 'millvalue': 0.05,\n",
       " 'meadow': '40',\n",
       " 'meadowunits': 'acres',\n",
       " 'pasture': None,\n",
       " 'pastureunits': None,\n",
       " 'woodland': '2 * 2',\n",
       " 'woodlandunits': 'leagues',\n",
       " 'fisheries': None,\n",
       " 'salthouses': None,\n",
       " 'payments': None,\n",
       " 'paymentsunits': 'royal',\n",
       " 'churches': None,\n",
       " 'churchland': None,\n",
       " 'cobs_1086': None,\n",
       " 'cobs_1066': None,\n",
       " 'cattle_1086': None,\n",
       " 'cattle_1066': None,\n",
       " 'cows_1086': None,\n",
       " 'cows_1066': None,\n",
       " 'pigs_1086': None,\n",
       " 'pigs_1066': None,\n",
       " 'sheep_1086': None,\n",
       " 'sheep_1066': None,\n",
       " 'goats_1086': None,\n",
       " 'goats_1066': None,\n",
       " 'beehives_1086': None,\n",
       " 'beehives_1066': None,\n",
       " 'wild_mares_1086': None,\n",
       " 'wild_mares_1066': None,\n",
       " 'other_1086': None,\n",
       " 'other_code_1086': None,\n",
       " 'other_1066': None,\n",
       " 'other_codes_1066': None,\n",
       " 'lord66': [170900],\n",
       " 'overlord66': [],\n",
       " 'lord86': [583750],\n",
       " 'teninchief': [583750],\n",
       " 'image_for_manor': [{'manor': {'id': 12971},\n",
       "   'x1': 924,\n",
       "   'x2': 1613,\n",
       "   'y1': 1633,\n",
       "   'y2': 1953,\n",
       "   'image': 'dby/02.png'}]}"
      ]
     },
     "execution_count": 184,
     "metadata": {},
     "output_type": "execute_result"
    }
   ],
   "source": [
    "openDomesDay.get_county_richest_manor(\"dby\")"
   ]
  },
  {
   "cell_type": "code",
   "execution_count": 183,
   "metadata": {},
   "outputs": [
    {
     "name": "stdout",
     "output_type": "stream",
     "text": [
      "Found 352 places in cache\n"
     ]
    },
    {
     "name": "stderr",
     "output_type": "stream",
     "text": [
      "100%|██████████| 352/352 [00:00<00:00, 267851.05it/s]\n",
      "100%|██████████| 352/352 [00:00<00:00, 368637.95it/s]\n"
     ]
    },
    {
     "data": {
      "text/plain": [
       "2221.159999999996"
      ]
     },
     "execution_count": 183,
     "metadata": {},
     "output_type": "execute_result"
    }
   ],
   "source": [
    "openDomesDay.get_county_total_paid(\"dby\")"
   ]
  },
  {
   "cell_type": "code",
   "execution_count": null,
   "metadata": {},
   "outputs": [],
   "source": [
    "# Exercise 8 (optional)\n",
    "# Add to your class a system for error handling.  \n",
    "# It must manage the following errors:  \n",
    "# - Connection error  \n",
    "# - Parsing error  \n",
    "# - Request error  \n",
    "# - Response error  \n",
    "# - Parameter error\n",
    "\n",
    "# cf previous class "
   ]
  }
 ],
 "metadata": {
  "kernelspec": {
   "display_name": "api",
   "language": "python",
   "name": "python3"
  },
  "language_info": {
   "codemirror_mode": {
    "name": "ipython",
    "version": 3
   },
   "file_extension": ".py",
   "mimetype": "text/x-python",
   "name": "python",
   "nbconvert_exporter": "python",
   "pygments_lexer": "ipython3",
   "version": "3.10.13"
  }
 },
 "nbformat": 4,
 "nbformat_minor": 2
}

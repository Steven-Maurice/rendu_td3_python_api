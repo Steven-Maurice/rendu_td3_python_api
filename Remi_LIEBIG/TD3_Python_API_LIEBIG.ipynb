{
  "cells": [
    {
      "cell_type": "markdown",
      "metadata": {
        "id": "cxFXPTwdIkEE"
      },
      "source": [
        "# Python with APIs\n",
        "Exchanges via HTTP using `requests` package"
      ]
    },
    {
      "cell_type": "code",
      "execution_count": null,
      "metadata": {
        "id": "9qN5vA7TIkEG"
      },
      "outputs": [],
      "source": [
        "import requests"
      ]
    },
    {
      "cell_type": "markdown",
      "metadata": {
        "id": "jlo6M5AUIkEH"
      },
      "source": [
        "## Example"
      ]
    },
    {
      "cell_type": "markdown",
      "metadata": {
        "id": "7zvoga0PIkEH"
      },
      "source": [
        "### Agify API"
      ]
    },
    {
      "cell_type": "markdown",
      "metadata": {
        "id": "3wR7BrAUIkEH"
      },
      "source": [
        "Example route for Agify API"
      ]
    },
    {
      "cell_type": "code",
      "execution_count": 33,
      "metadata": {
        "id": "dx26kl09IkEI"
      },
      "outputs": [],
      "source": [
        "agify_dan = \"https://api.agify.io/?name=dan\""
      ]
    },
    {
      "cell_type": "markdown",
      "metadata": {
        "id": "K9paQKXdIkEI"
      },
      "source": [
        "Extract response"
      ]
    },
    {
      "cell_type": "code",
      "execution_count": 34,
      "metadata": {
        "colab": {
          "base_uri": "https://localhost:8080/"
        },
        "id": "xWzwyES8IkEI",
        "outputId": "9412cf1d-c3d7-4078-fdf0-417dc13479b9"
      },
      "outputs": [
        {
          "output_type": "stream",
          "name": "stdout",
          "text": [
            "Answer status_code: <Response [200]>\n",
            "<class 'str'>\n",
            "<class 'dict'>\n",
            "{\"count\":67782,\"name\":\"dan\",\"age\":66}\n",
            "{'count': 67782, 'name': 'dan', 'age': 66}\n"
          ]
        }
      ],
      "source": [
        "# Run a GET request\n",
        "agify_answer = requests.get(agify_dan)\n",
        "agify_answer_txt = agify_answer.text\n",
        "agify_answer_json = agify_answer.json()\n",
        "\n",
        "print(f\"Answer status_code: {agify_answer}\")\n",
        "\n",
        "print(type(agify_answer_txt))\n",
        "print(type(agify_answer_json))\n",
        "\n",
        "print(agify_answer_txt)\n",
        "print(agify_answer_json)"
      ]
    },
    {
      "cell_type": "markdown",
      "metadata": {
        "id": "51gjhu-SIkEI"
      },
      "source": [
        "## Introductory Exercises"
      ]
    },
    {
      "cell_type": "code",
      "execution_count": 28,
      "metadata": {
        "colab": {
          "base_uri": "https://localhost:8080/"
        },
        "id": "qbZSLXbcIkEJ",
        "outputId": "f8710de7-148c-4142-aa70-f496e9d385a5"
      },
      "outputs": [
        {
          "output_type": "stream",
          "name": "stdout",
          "text": [
            " Fisrt name please Jean\n",
            "name : Jean / age predicted : 72 y / count : 193514\n"
          ]
        }
      ],
      "source": [
        "# Exercise 1\n",
        "# Write a script that asks the user for their first name\n",
        "# and responds with a personalized message\n",
        "# using the agify API\n",
        "\n",
        "# https://api.agify.io/?name=YOUR_NAME\n",
        "# Example response: {\"name\":\"YOUR_NAME\",\"age\":30,\"count\":12345}\n",
        "\n",
        "def predict_age():\n",
        "\n",
        "    fname = input(\" Fisrt name please \")\n",
        "    rep = requests.get(f\"https://api.agify.io/?name={fname}\")\n",
        "    age_rep = rep.json().get('age')\n",
        "    c_rep = rep.json().get('count')\n",
        "\n",
        "    print(f\"name : {fname} / age predicted : {age_rep} yo / count : {c_rep}\")\n",
        "\n",
        "\n",
        "predict_age()\n",
        "\n"
      ]
    },
    {
      "cell_type": "code",
      "execution_count": 88,
      "metadata": {
        "colab": {
          "base_uri": "https://localhost:8080/"
        },
        "id": "Q3WHJRZDIkEJ",
        "outputId": "c0f3649e-7bd7-430b-cd4f-cc953f08237a"
      },
      "outputs": [
        {
          "output_type": "stream",
          "name": "stdout",
          "text": [
            " Fisrt name please Jean\n",
            "name : Jean / predicted gender : female (72.0%)\n"
          ]
        }
      ],
      "source": [
        "# Exercise 2\n",
        "# Write a script that asks the user for their first name\n",
        "# and responds with a personalized message\n",
        "# using the genderize API\n",
        "# https://api.genderize.io/?name=YOUR_NAME\n",
        "\n",
        "\n",
        "def predict_gender():\n",
        "    fname = input(\" Fisrt name please \")\n",
        "    rep = requests.get(f\"https://api.genderize.io/?name={fname}\")\n",
        "\n",
        "    gender_rep = rep.json().get('gender')\n",
        "    proba = rep.json().get('probability')\n",
        "\n",
        "    print(f\"name : {fname} / predicted gender : {gender_rep} ({100*proba}%)\")\n",
        "\n",
        "\n",
        "predict_gender()\n",
        "\n"
      ]
    },
    {
      "cell_type": "code",
      "source": [
        "# Exercise 3\n",
        "# Write a script that asks the user for their first name\n",
        "# and responds with a personalized message\n",
        "# using the nationalize API\n",
        "# https://api.nationalize.io/?name=YOUR_NAME\n",
        "\n",
        "def predict_countries():\n",
        "    lname = input(\" Last name please \")\n",
        "    rep = requests.get(f\"https://api.nationalize.io/?name={lname}\")\n",
        "    country_rep = rep.json().get('country')\n",
        "\n",
        "    print(f\"name : {lname} / predicted countries : {country_rep}\")\n",
        "\n",
        "\n",
        "predict_countries()\n"
      ],
      "metadata": {
        "colab": {
          "base_uri": "https://localhost:8080/"
        },
        "id": "YdlA9ZfTiLrn",
        "outputId": "e2f49fb5-5f7e-4d35-eee3-6246736c762f"
      },
      "execution_count": 43,
      "outputs": [
        {
          "output_type": "stream",
          "name": "stdout",
          "text": [
            " Last name please Li\n",
            "name : Li / predicted countries : {'country_id': 'TW', 'probability': 0.09322123437546752}\n"
          ]
        }
      ]
    },
    {
      "cell_type": "code",
      "execution_count": 47,
      "metadata": {
        "colab": {
          "base_uri": "https://localhost:8080/"
        },
        "id": "SptpUU92IkEJ",
        "outputId": "920aac44-a05b-43e3-8e71-734af7ecaef5"
      },
      "outputs": [
        {
          "output_type": "stream",
          "name": "stdout",
          "text": [
            " Last name please Li\n",
            "name : Li / predicted country : {'country_id': 'CN', 'probability': 0.3714406871982559}\n"
          ]
        }
      ],
      "source": [
        "# Exercise 3.1\n",
        "# Parsing the response from the nationalize API\n",
        "# Get the most probable country and its percentage\n",
        "# Example response: {\"name\":\"YOUR_NAME\",\"country\":[{\"country_id\":\"FR\",\"probability\":0.75},{\"country_id\":\"BE\",\"probability\":0.25}]}\n",
        "# Hint: use the max() function with a lambda function\n",
        "# https://docs.python.org/3/library/functions.html#max\n",
        "# https://docs.python.org/3/tutorial/controlflow.html#lambda-expressions\n",
        "\n",
        "def predict_country():\n",
        "    lname = input(\" Last name please \")\n",
        "    rep = requests.get(f\"https://api.nationalize.io/?name={lname}\")\n",
        "    country_rep = rep.json().get('country')\n",
        "    #print(type(country_rep[0][\"probability\"]))\n",
        "\n",
        "    maxproba_country = max([i for i in country_rep], key=lambda x: x['probability'])\n",
        "\n",
        "    print(f\"name : {lname} / predicted country : {maxproba_country}\")\n",
        "\n",
        "\n",
        "predict_country()\n",
        "\n"
      ]
    },
    {
      "cell_type": "code",
      "execution_count": 63,
      "metadata": {
        "colab": {
          "base_uri": "https://localhost:8080/"
        },
        "id": "ed3t_S3SIkEJ",
        "outputId": "39685d2a-1bcd-4be6-b971-bc974c87175d"
      },
      "outputs": [
        {
          "output_type": "stream",
          "name": "stdout",
          "text": [
            "activity : Compliment someone\n",
            "activity : Go swimming with a friend\n",
            "activity : Compliment someone\n"
          ]
        }
      ],
      "source": [
        "# Exercise 4\n",
        "# Use BoredAPI : https://www.boredapi.com/\n",
        "# Documentation : https://www.boredapi.com/documentation\n",
        "# 1. Write a script that generates random activities\n",
        "# 2. Write a script that generates random activities\n",
        "# 3. Write a script that generates random activities for 4 participants\n",
        "# 4. Write a script that generates random activities for 4 participants and of type \"recreational\"\n",
        "# 5. Write a script that generates random activities for 2 participants and that does not require equipment\n",
        "\n",
        "\n",
        "act = []\n",
        "activity_rep = 0\n",
        "for i in range(3):\n",
        "  #rep = requests.get(f\"http://www.boredapi.com/api/activity/\")\n",
        "  #rep = requests.get(f\"http://www.boredapi.com/api/activity?participants=4\")\n",
        "  #rep = requests.get(f\"http://www.boredapi.com/api/activity?participants=4&type=recreational\")\n",
        "  rep = requests.get(f\"http://www.boredapi.com/api/activity?participants=2&minaccessibility=0&maxaccessibility=0.1\")\n",
        "\n",
        "  activity_rep = rep.json().get('activity')\n",
        "  print(f\"activity : {activity_rep}\")\n"
      ]
    },
    {
      "cell_type": "markdown",
      "metadata": {
        "id": "N6HgLgHOIkEJ"
      },
      "source": [
        "## Intermediate exercises"
      ]
    },
    {
      "cell_type": "code",
      "execution_count": 69,
      "metadata": {
        "colab": {
          "base_uri": "https://localhost:8080/"
        },
        "id": "jfdnMlvFIkEK",
        "outputId": "5f0f05ce-476f-4958-f6c8-dcbba2d1f660"
      },
      "outputs": [
        {
          "output_type": "stream",
          "name": "stdout",
          "text": [
            "All the counties : ['Kent', 'Sussex', 'Surrey', 'Hampshire', 'Berkshire', 'Wiltshire', 'Dorset', 'Somerset', 'Devon', 'Cornwall', 'Middlesex', 'Hertfordshire', 'Buckinghamshire', 'Gloucestershire', 'Oxfordshire', 'Worcestershire', 'Herefordshire', 'Cambridgeshire', 'Huntingdonshire', 'Bedfordshire', 'Northamptonshire', 'Leicestershire', 'Warwickshire', 'Staffordshire', 'Shropshire', 'Cheshire', 'Derbyshire', 'Nottinghamshire', 'Rutland', 'Yorkshire', 'Lincolnshire', 'Claims: YB', 'Claims: YC', 'Claims: LC', 'Claims: HC', 'Claims: YS', 'Essex', 'Norfolk', 'Suffolk', 'Lancashire']\n"
          ]
        }
      ],
      "source": [
        "# OpenDomesday\n",
        "# https://opendomesday.org/api/\n",
        "\n",
        "# Exercise 1\n",
        "# Write a script that displays all the counties\n",
        "# using the OpenDomesday API.\n",
        "\n",
        "rep = requests.get(f\"http://opendomesday.org/api/1.0/county\")\n",
        "counties_rep = rep.json()\n",
        "l = [i['name'] for i in counties_rep]\n",
        "print(f\"All the counties : {l}\")\n",
        "\n",
        "\n",
        "\n"
      ]
    },
    {
      "cell_type": "code",
      "execution_count": 71,
      "metadata": {
        "colab": {
          "base_uri": "https://localhost:8080/"
        },
        "id": "EvGCEzP5IkEK",
        "outputId": "59c6014f-791d-40c5-cc34-7c44dcdb2943"
      },
      "outputs": [
        {
          "output_type": "stream",
          "name": "stdout",
          "text": [
            "Derbyshire information : {'id': 'dby', 'name': 'Derbyshire', 'name_slug': 'derbyshire', 'places_in_county': [{'id': 1036}, {'id': 2558}, {'id': 3016}, {'id': 4791}, {'id': 6093}, {'id': 8701}, {'id': 8951}, {'id': 9101}, {'id': 11441}, {'id': 10771}, {'id': 16116}, {'id': 20861}, {'id': 22251}, {'id': 22571}, {'id': 22611}, {'id': 24741}, {'id': 25536}, {'id': 19061}, {'id': 30246}, {'id': 31896}, {'id': 32521}, {'id': 32981}, {'id': 33916}, {'id': 41346}, {'id': 41788}, {'id': 41801}, {'id': 45821}, {'id': 47401}, {'id': 47411}, {'id': 52361}, {'id': 52596}, {'id': 53901}, {'id': 54446}, {'id': 54646}, {'id': 55736}, {'id': 56786}, {'id': 57061}, {'id': 60236}, {'id': 60351}, {'id': 60816}, {'id': 63606}, {'id': 65368}, {'id': 73221}, {'id': 73731}, {'id': 73741}, {'id': 91}, {'id': 2623}, {'id': 3011}, {'id': 3941}, {'id': 4046}, {'id': 5016}, {'id': 5676}, {'id': 7111}, {'id': 7116}, {'id': 7451}, {'id': 9056}, {'id': 10981}, {'id': 11656}, {'id': 11941}, {'id': 12751}, {'id': 13401}, {'id': 14081}, {'id': 14306}, {'id': 15306}, {'id': 15451}, {'id': 17386}, {'id': 17811}, {'id': 19611}, {'id': 22436}, {'id': 22476}, {'id': 24011}, {'id': 24306}, {'id': 25081}, {'id': 27521}, {'id': 33816}, {'id': 40056}, {'id': 28311}, {'id': 29846}, {'id': 30061}, {'id': 30211}, {'id': 30536}, {'id': 30571}, {'id': 20391}, {'id': 32571}, {'id': 33016}, {'id': 36211}, {'id': 37586}, {'id': 40057}, {'id': 39661}, {'id': 39956}, {'id': 40466}, {'id': 42799}, {'id': 43751}, {'id': 44321}, {'id': 28296}, {'id': 34241}, {'id': 46861}, {'id': 26971}, {'id': 2366}, {'id': 48026}, {'id': 49236}, {'id': 50311}, {'id': 52766}, {'id': 52791}, {'id': 55006}, {'id': 55131}, {'id': 58231}, {'id': 59051}, {'id': 42936}, {'id': 61396}, {'id': 62566}, {'id': 63721}, {'id': 67724}, {'id': 69701}, {'id': 72781}, {'id': 73841}, {'id': 14941}, {'id': 20691}, {'id': 39371}, {'id': 42171}, {'id': 54526}, {'id': 46681}, {'id': 51241}, {'id': 64663}, {'id': 70526}, {'id': 1326}, {'id': 2401}, {'id': 3291}, {'id': 4001}, {'id': 8116}, {'id': 8831}, {'id': 9461}, {'id': 10196}, {'id': 12706}, {'id': 13281}, {'id': 22243}, {'id': 18184}, {'id': 18736}, {'id': 23231}, {'id': 6141}, {'id': 29236}, {'id': 29861}, {'id': 32336}, {'id': 33086}, {'id': 34446}, {'id': 35221}, {'id': 35041}, {'id': 37056}, {'id': 38231}, {'id': 40456}, {'id': 41344}, {'id': 42041}, {'id': 42046}, {'id': 42797}, {'id': 45553}, {'id': 46851}, {'id': 48266}, {'id': 49221}, {'id': 55881}, {'id': 56826}, {'id': 56941}, {'id': 61526}, {'id': 62731}, {'id': 63966}, {'id': 66911}, {'id': 68251}, {'id': 68481}, {'id': 68546}, {'id': 71226}, {'id': 71466}, {'id': 1136}, {'id': 1456}, {'id': 1596}, {'id': 2106}, {'id': 3163}, {'id': 4646}, {'id': 5396}, {'id': 8456}, {'id': 11731}, {'id': 14476}, {'id': 18001}, {'id': 19416}, {'id': 22741}, {'id': 23256}, {'id': 23731}, {'id': 24921}, {'id': 35046}, {'id': 35311}, {'id': 37656}, {'id': 39466}, {'id': 39566}, {'id': 40901}, {'id': 41658}, {'id': 42536}, {'id': 42741}, {'id': 44361}, {'id': 45893}, {'id': 47416}, {'id': 49901}, {'id': 50661}, {'id': 50806}, {'id': 54966}, {'id': 56216}, {'id': 58701}, {'id': 61046}, {'id': 63391}, {'id': 65696}, {'id': 69008}, {'id': 69081}, {'id': 70641}, {'id': 8956}, {'id': 9586}, {'id': 9611}, {'id': 13741}, {'id': 13806}, {'id': 16581}, {'id': 18621}, {'id': 19941}, {'id': 20101}, {'id': 21051}, {'id': 21326}, {'id': 28556}, {'id': 30666}, {'id': 31306}, {'id': 32361}, {'id': 33141}, {'id': 33376}, {'id': 34646}, {'id': 35946}, {'id': 37591}, {'id': 14686}, {'id': 22266}, {'id': 28563}, {'id': 22271}, {'id': 41006}, {'id': 41521}, {'id': 43091}, {'id': 43991}, {'id': 46746}, {'id': 48806}, {'id': 51961}, {'id': 52096}, {'id': 53806}, {'id': 53996}, {'id': 55576}, {'id': 55956}, {'id': 56606}, {'id': 56696}, {'id': 57526}, {'id': 58046}, {'id': 58196}, {'id': 66498}, {'id': 16166}, {'id': 18951}, {'id': 22546}, {'id': 58356}, {'id': 71196}, {'id': 986}, {'id': 2711}, {'id': 4311}, {'id': 4369}, {'id': 5791}, {'id': 7651}, {'id': 8016}, {'id': 8721}, {'id': 9218}, {'id': 10026}, {'id': 12721}, {'id': 14691}, {'id': 16356}, {'id': 3106}, {'id': 20756}, {'id': 21276}, {'id': 21301}, {'id': 22406}, {'id': 22766}, {'id': 23121}, {'id': 23598}, {'id': 26856}, {'id': 4367}, {'id': 27776}, {'id': 29076}, {'id': 29411}, {'id': 32576}, {'id': 32686}, {'id': 35996}, {'id': 40296}, {'id': 29071}, {'id': 44051}, {'id': 44161}, {'id': 49241}, {'id': 45036}, {'id': 45366}, {'id': 71096}, {'id': 46101}, {'id': 46946}, {'id': 9288}, {'id': 65551}, {'id': 69858}, {'id': 47811}, {'id': 48031}, {'id': 48116}, {'id': 51193}, {'id': 52801}, {'id': 54166}, {'id': 55731}, {'id': 45936}, {'id': 71101}, {'id': 57756}, {'id': 58531}, {'id': 33646}, {'id': 60001}, {'id': 60836}, {'id': 61561}, {'id': 45941}, {'id': 63656}, {'id': 64516}, {'id': 65483}, {'id': 65938}, {'id': 66136}, {'id': 66256}, {'id': 66576}, {'id': 67036}, {'id': 68591}, {'id': 69901}, {'id': 70561}, {'id': 71081}, {'id': 52156}, {'id': 1906}, {'id': 8081}, {'id': 9741}, {'id': 12676}, {'id': 13531}, {'id': 17906}, {'id': 21011}, {'id': 25441}, {'id': 29931}, {'id': 30696}, {'id': 34821}, {'id': 40511}, {'id': 42251}, {'id': 43196}, {'id': 45656}, {'id': 51576}, {'id': 52566}, {'id': 56681}, {'id': 58171}, {'id': 58191}, {'id': 60031}, {'id': 60896}, {'id': 63696}, {'id': 67171}]}\n"
          ]
        }
      ],
      "source": [
        "# Exercise 2\n",
        "# Write a script that displays the information\n",
        "# of the county \"Derbyshire\".\n",
        "\n",
        "rep = requests.get(f\"http://opendomesday.org/api/1.0/county/dby\") #id trouvé à l'aide de ctrl+F\n",
        "derb = rep.json()\n",
        "print(f\"Derbyshire information : {derb}\")\n",
        "\n"
      ]
    },
    {
      "cell_type": "code",
      "execution_count": 106,
      "metadata": {
        "colab": {
          "base_uri": "https://localhost:8080/"
        },
        "id": "Duv2Hfw8IkEK",
        "outputId": "8a18ed33-8eda-416a-8dd3-fb3672105988"
      },
      "outputs": [
        {
          "output_type": "stream",
          "name": "stdout",
          "text": [
            "{'id': 2558, 'county': {'id': 'wil'}, 'place': [{'id': 15046}], 'phillimore': '13,5', 'headofmanor': None, 'duplicates': None, 'subholdings': None, 'notes': None, 'waste': 'none', 'waste66': 'N', 'wasteqr': 'N', 'waste86': 'N', 'geld': 20.0, 'gcode': 'geld', 'villtax': None, 'taxedon': None, 'value86': 15.0, 'value66': None, 'valueqr': 14.0, 'value_string': '14.00', 'render': None, 'lordsland': 8.0, 'newland': None, 'ploughlands': 14.0, 'pcode': 'land for', 'lordsploughs': 2.0, 'mensploughs': 12.0, 'totalploughs': 14.0, 'lordsploughspossible': None, 'mensploughspossible': None, 'villagers': 15.0, 'smallholders': 12.0, 'slaves': 0.0, 'femaleslaves': 0.0, 'freemen': 0.0, 'free2men': 0.0, 'priests': 0.0, 'cottagers': 0.0, 'otherpop': 0.0, 'miscpop': 12.0, 'miscpopcategories': 'freedmen', 'burgesses': 0.0, 'mills': 1.0, 'millvalue': 0.5, 'meadow': '5', 'meadowunits': 'acres', 'pasture': '1 * 0.5', 'pastureunits': 'leagues', 'woodland': '10', 'woodlandunits': 'acres', 'fisheries': None, 'salthouses': None, 'payments': None, 'paymentsunits': None, 'churches': None, 'churchland': None, 'cobs_1086': None, 'cobs_1066': None, 'cattle_1086': None, 'cattle_1066': None, 'cows_1086': None, 'cows_1066': None, 'pigs_1086': None, 'pigs_1066': None, 'sheep_1086': None, 'sheep_1066': None, 'goats_1086': None, 'goats_1066': None, 'beehives_1086': None, 'beehives_1066': None, 'wild_mares_1086': None, 'wild_mares_1066': None, 'other_1086': None, 'other_code_1086': None, 'other_1066': None, 'other_codes_1066': None, 'lord66': [602150], 'overlord66': [], 'lord86': [602150], 'teninchief': [602150], 'image_for_manor': [{'manor': {'id': 2558}, 'x1': 886, 'x2': 1472, 'y1': 1872, 'y2': 2087, 'image': 'wil/07.png'}]}\n"
          ]
        }
      ],
      "source": [
        "# Exercise 3\n",
        "# Now that we have the ids for all the places in Derbyshire, we can load all their details...\n",
        "# And from their details, we can list all the details of their manors.\n",
        "# Go fetch the data!\n",
        "# P.S.: remember to save the data to avoid downloading it every time\n",
        "\n",
        "l = []\n",
        "# n=15 il veut pas j'ai essayé de 15 à 20 ausssi ca mettait trop longtmps à executer\n",
        "\n",
        "for i in [derb['places_in_county'][j] for j in range(1,14)]:\n",
        "    id = i['id']\n",
        "    rep = requests.get(f\"http://opendomesday.org/api/1.0/manor/{id}\")\n",
        "    manor = rep.json()\n",
        "    l.append(manor)\n",
        "\n",
        "\n"
      ]
    },
    {
      "cell_type": "code",
      "source": [
        "id = derb['places_in_county'][15]['id']\n",
        "rep = requests.get(f\"http://opendomesday.org/api/1.0/manor/{id}\")\n",
        "\n",
        "\n"
      ],
      "metadata": {
        "id": "TD044iz1IW7d"
      },
      "execution_count": 117,
      "outputs": []
    },
    {
      "cell_type": "code",
      "execution_count": 105,
      "metadata": {
        "id": "6StVJwXkIkEK"
      },
      "outputs": [],
      "source": [
        "# Exercise 4\n",
        "# Now that we have a quantity of raw data, we will extract the interesting parts.\n",
        "# In our case, we want to count the money paid by each manor and compare it to the number of ploughs it has.\n",
        "# - Can you find the corresponding json fields?\n",
        "# - Then, you can list these numbers for each manor in Derbyshire.\n",
        "# - And format this in an appropriate comma-separated values (CSV) file.\n",
        "import csv\n",
        "\n",
        "for i in l:\n",
        "  print(f\"prix que paye manoir : {i['value86']} / number of ploughs : {i['totalploughs']}\")\n",
        "\n",
        "filename = 'TD3PGL.csv'\n",
        "\n",
        "with open(filename, mode='w', newline='') as file:\n",
        "    writer = csv.writer(file)\n",
        "\n",
        "    # Écrire la ligne d'en-tête\n",
        "    writer.writerow(['prix que paye manoir', 'number of ploughs'])\n",
        "    for manor in l:\n",
        "        writer.writerow([manor['value86'], manor['totalploughs']])\n",
        "\n"
      ]
    },
    {
      "cell_type": "code",
      "execution_count": 108,
      "metadata": {
        "colab": {
          "base_uri": "https://localhost:8080/"
        },
        "id": "Hujsu_1TIkEK",
        "outputId": "4d297798-87ee-49a4-bf49-794fab4150d3"
      },
      "outputs": [
        {
          "output_type": "stream",
          "name": "stdout",
          "text": [
            "{'id': 11441, 'county': {'id': 'war'}, 'place': [{'id': 17256}], 'phillimore': '30,1', 'headofmanor': None, 'duplicates': None, 'subholdings': None, 'notes': None, 'waste': 'none', 'waste66': 'N', 'wasteqr': 'N', 'waste86': 'N', 'geld': 30.0, 'gcode': 'geld', 'villtax': None, 'taxedon': None, 'value86': 30.0, 'value66': 15.0, 'valueqr': None, 'value_string': None, 'render': None, 'lordsland': None, 'newland': None, 'ploughlands': 20.0, 'pcode': 'land for', 'lordsploughs': 7.0, 'mensploughs': 10.0, 'totalploughs': 17.0, 'lordsploughspossible': None, 'mensploughspossible': None, 'villagers': 45.0, 'smallholders': 13.0, 'slaves': 25.0, 'femaleslaves': 0.0, 'freemen': 0.0, 'free2men': 0.0, 'priests': 1.0, 'cottagers': 0.0, 'otherpop': 0.0, 'miscpop': 2.0, 'miscpopcategories': 'men-at-arms', 'burgesses': 0.0, 'mills': 1.0, 'millvalue': 0.5, 'meadow': '3 * 3', 'meadowunits': 'furlongs', 'pasture': None, 'pastureunits': None, 'woodland': '2 * 2', 'woodlandunits': 'furlongs', 'fisheries': None, 'salthouses': None, 'payments': None, 'paymentsunits': None, 'churches': None, 'churchland': None, 'cobs_1086': None, 'cobs_1066': None, 'cattle_1086': None, 'cattle_1066': None, 'cows_1086': None, 'cows_1066': None, 'pigs_1086': None, 'pigs_1066': None, 'sheep_1086': None, 'sheep_1066': None, 'goats_1086': None, 'goats_1066': None, 'beehives_1086': None, 'beehives_1066': None, 'wild_mares_1086': None, 'wild_mares_1066': None, 'other_1086': None, 'other_code_1086': None, 'other_1066': None, 'other_codes_1066': None, 'lord66': [190050], 'overlord66': [], 'lord86': [212250], 'teninchief': [212250], 'image_for_manor': [{'manor': {'id': 11441}, 'x1': 182, 'x2': 929, 'y1': 687, 'y2': 943, 'image': 'war/12.png'}]}\n"
          ]
        }
      ],
      "source": [
        "# Exercise 5\n",
        "# What is the richest manor in Derbyshire? -> Celui qui paye le plus ?^^'\n",
        "\n",
        "print(max([i for i in l], key=lambda x: x['value86']))\n"
      ]
    },
    {
      "cell_type": "code",
      "execution_count": 109,
      "metadata": {
        "colab": {
          "base_uri": "https://localhost:8080/"
        },
        "id": "9MxNI8aIIkEK",
        "outputId": "491cba51-917f-4009-c67a-4f2b41b65286"
      },
      "outputs": [
        {
          "output_type": "stream",
          "name": "stdout",
          "text": [
            "79.92\n"
          ]
        }
      ],
      "source": [
        "# Exercise 6\n",
        "# Give the total value paid by Derbyshire.\n",
        "\n",
        "print(sum([float(i['value86']) for i in l]))\n",
        "\n"
      ]
    },
    {
      "cell_type": "code",
      "execution_count": 130,
      "metadata": {
        "colab": {
          "base_uri": "https://localhost:8080/",
          "height": 371
        },
        "id": "SpO7NvlDIkEK",
        "outputId": "36a5a505-505f-4eb8-c83e-60be9c0ec656"
      },
      "outputs": [
        {
          "output_type": "error",
          "ename": "KeyboardInterrupt",
          "evalue": "",
          "traceback": [
            "\u001b[0;31m---------------------------------------------------------------------------\u001b[0m",
            "\u001b[0;31mKeyboardInterrupt\u001b[0m                         Traceback (most recent call last)",
            "\u001b[0;32m<ipython-input-130-680d91de56c6>\u001b[0m in \u001b[0;36m<cell line: 40>\u001b[0;34m()\u001b[0m\n\u001b[1;32m     38\u001b[0m \u001b[0mapi\u001b[0m \u001b[0;34m=\u001b[0m \u001b[0mRequestInformation\u001b[0m\u001b[0;34m(\u001b[0m\u001b[0;34m)\u001b[0m\u001b[0;34m\u001b[0m\u001b[0;34m\u001b[0m\u001b[0m\n\u001b[1;32m     39\u001b[0m \u001b[0mderb_id\u001b[0m \u001b[0;34m=\u001b[0m \u001b[0;34m'dby'\u001b[0m\u001b[0;34m\u001b[0m\u001b[0;34m\u001b[0m\u001b[0m\n\u001b[0;32m---> 40\u001b[0;31m \u001b[0mrichest_manor\u001b[0m \u001b[0;34m=\u001b[0m \u001b[0mapi\u001b[0m\u001b[0;34m.\u001b[0m\u001b[0maffich_manoir_plus_riche\u001b[0m\u001b[0;34m(\u001b[0m\u001b[0mderb_id\u001b[0m\u001b[0;34m)\u001b[0m\u001b[0;34m\u001b[0m\u001b[0;34m\u001b[0m\u001b[0m\n\u001b[0m\u001b[1;32m     41\u001b[0m \u001b[0mmanors_data\u001b[0m \u001b[0;34m=\u001b[0m \u001b[0mapi\u001b[0m\u001b[0;34m.\u001b[0m\u001b[0maffich_manoirs\u001b[0m\u001b[0;34m(\u001b[0m\u001b[0mderb_id\u001b[0m\u001b[0;34m)\u001b[0m\u001b[0;34m\u001b[0m\u001b[0;34m\u001b[0m\u001b[0m\n\u001b[1;32m     42\u001b[0m \u001b[0;34m\u001b[0m\u001b[0m\n",
            "\u001b[0;32m<ipython-input-130-680d91de56c6>\u001b[0m in \u001b[0;36maffich_manoir_plus_riche\u001b[0;34m(self, county_id)\u001b[0m\n\u001b[1;32m     25\u001b[0m \u001b[0;34m\u001b[0m\u001b[0m\n\u001b[1;32m     26\u001b[0m     \u001b[0;32mdef\u001b[0m \u001b[0maffich_manoir_plus_riche\u001b[0m\u001b[0;34m(\u001b[0m\u001b[0mself\u001b[0m\u001b[0;34m,\u001b[0m \u001b[0mcounty_id\u001b[0m\u001b[0;34m)\u001b[0m\u001b[0;34m:\u001b[0m\u001b[0;34m\u001b[0m\u001b[0;34m\u001b[0m\u001b[0m\n\u001b[0;32m---> 27\u001b[0;31m         \u001b[0mmanors_data\u001b[0m \u001b[0;34m=\u001b[0m \u001b[0mself\u001b[0m\u001b[0;34m.\u001b[0m\u001b[0maffich_manoirs\u001b[0m\u001b[0;34m(\u001b[0m\u001b[0mcounty_id\u001b[0m\u001b[0;34m)\u001b[0m\u001b[0;34m\u001b[0m\u001b[0;34m\u001b[0m\u001b[0m\n\u001b[0m\u001b[1;32m     28\u001b[0m         \u001b[0;32mreturn\u001b[0m \u001b[0mmax\u001b[0m\u001b[0;34m(\u001b[0m\u001b[0mmanors_data\u001b[0m\u001b[0;34m,\u001b[0m \u001b[0mkey\u001b[0m\u001b[0;34m=\u001b[0m\u001b[0;32mlambda\u001b[0m \u001b[0mx\u001b[0m\u001b[0;34m:\u001b[0m \u001b[0mx\u001b[0m\u001b[0;34m.\u001b[0m\u001b[0mget\u001b[0m\u001b[0;34m(\u001b[0m\u001b[0;34m'value86'\u001b[0m\u001b[0;34m)\u001b[0m\u001b[0;34m)\u001b[0m\u001b[0;34m\u001b[0m\u001b[0;34m\u001b[0m\u001b[0m\n\u001b[1;32m     29\u001b[0m \u001b[0;34m\u001b[0m\u001b[0m\n",
            "\u001b[0;32m<ipython-input-130-680d91de56c6>\u001b[0m in \u001b[0;36maffich_manoirs\u001b[0;34m(self, county_id)\u001b[0m\n\u001b[1;32m     22\u001b[0m     \u001b[0;32mdef\u001b[0m \u001b[0maffich_manoirs\u001b[0m\u001b[0;34m(\u001b[0m\u001b[0mself\u001b[0m\u001b[0;34m,\u001b[0m \u001b[0mcounty_id\u001b[0m\u001b[0;34m)\u001b[0m\u001b[0;34m:\u001b[0m\u001b[0;34m\u001b[0m\u001b[0;34m\u001b[0m\u001b[0m\n\u001b[1;32m     23\u001b[0m         \u001b[0mcounty_data\u001b[0m \u001b[0;34m=\u001b[0m \u001b[0mself\u001b[0m\u001b[0;34m.\u001b[0m\u001b[0maffich_county\u001b[0m\u001b[0;34m(\u001b[0m\u001b[0mcounty_id\u001b[0m\u001b[0;34m)\u001b[0m\u001b[0;34m\u001b[0m\u001b[0;34m\u001b[0m\u001b[0m\n\u001b[0;32m---> 24\u001b[0;31m         \u001b[0;32mreturn\u001b[0m \u001b[0;34m[\u001b[0m\u001b[0mself\u001b[0m\u001b[0;34m.\u001b[0m\u001b[0maffich_infos_manoirs\u001b[0m\u001b[0;34m(\u001b[0m\u001b[0mplace\u001b[0m\u001b[0;34m[\u001b[0m\u001b[0;34m'id'\u001b[0m\u001b[0;34m]\u001b[0m\u001b[0;34m)\u001b[0m \u001b[0;32mfor\u001b[0m \u001b[0mplace\u001b[0m \u001b[0;32min\u001b[0m \u001b[0mcounty_data\u001b[0m\u001b[0;34m[\u001b[0m\u001b[0;34m'places_in_county'\u001b[0m\u001b[0;34m]\u001b[0m\u001b[0;34m]\u001b[0m\u001b[0;34m\u001b[0m\u001b[0;34m\u001b[0m\u001b[0m\n\u001b[0m\u001b[1;32m     25\u001b[0m \u001b[0;34m\u001b[0m\u001b[0m\n\u001b[1;32m     26\u001b[0m     \u001b[0;32mdef\u001b[0m \u001b[0maffich_manoir_plus_riche\u001b[0m\u001b[0;34m(\u001b[0m\u001b[0mself\u001b[0m\u001b[0;34m,\u001b[0m \u001b[0mcounty_id\u001b[0m\u001b[0;34m)\u001b[0m\u001b[0;34m:\u001b[0m\u001b[0;34m\u001b[0m\u001b[0;34m\u001b[0m\u001b[0m\n",
            "\u001b[0;32m<ipython-input-130-680d91de56c6>\u001b[0m in \u001b[0;36m<listcomp>\u001b[0;34m(.0)\u001b[0m\n\u001b[1;32m     22\u001b[0m     \u001b[0;32mdef\u001b[0m \u001b[0maffich_manoirs\u001b[0m\u001b[0;34m(\u001b[0m\u001b[0mself\u001b[0m\u001b[0;34m,\u001b[0m \u001b[0mcounty_id\u001b[0m\u001b[0;34m)\u001b[0m\u001b[0;34m:\u001b[0m\u001b[0;34m\u001b[0m\u001b[0;34m\u001b[0m\u001b[0m\n\u001b[1;32m     23\u001b[0m         \u001b[0mcounty_data\u001b[0m \u001b[0;34m=\u001b[0m \u001b[0mself\u001b[0m\u001b[0;34m.\u001b[0m\u001b[0maffich_county\u001b[0m\u001b[0;34m(\u001b[0m\u001b[0mcounty_id\u001b[0m\u001b[0;34m)\u001b[0m\u001b[0;34m\u001b[0m\u001b[0;34m\u001b[0m\u001b[0m\n\u001b[0;32m---> 24\u001b[0;31m         \u001b[0;32mreturn\u001b[0m \u001b[0;34m[\u001b[0m\u001b[0mself\u001b[0m\u001b[0;34m.\u001b[0m\u001b[0maffich_infos_manoirs\u001b[0m\u001b[0;34m(\u001b[0m\u001b[0mplace\u001b[0m\u001b[0;34m[\u001b[0m\u001b[0;34m'id'\u001b[0m\u001b[0;34m]\u001b[0m\u001b[0;34m)\u001b[0m \u001b[0;32mfor\u001b[0m \u001b[0mplace\u001b[0m \u001b[0;32min\u001b[0m \u001b[0mcounty_data\u001b[0m\u001b[0;34m[\u001b[0m\u001b[0;34m'places_in_county'\u001b[0m\u001b[0;34m]\u001b[0m\u001b[0;34m]\u001b[0m\u001b[0;34m\u001b[0m\u001b[0;34m\u001b[0m\u001b[0m\n\u001b[0m\u001b[1;32m     25\u001b[0m \u001b[0;34m\u001b[0m\u001b[0m\n\u001b[1;32m     26\u001b[0m     \u001b[0;32mdef\u001b[0m \u001b[0maffich_manoir_plus_riche\u001b[0m\u001b[0;34m(\u001b[0m\u001b[0mself\u001b[0m\u001b[0;34m,\u001b[0m \u001b[0mcounty_id\u001b[0m\u001b[0;34m)\u001b[0m\u001b[0;34m:\u001b[0m\u001b[0;34m\u001b[0m\u001b[0;34m\u001b[0m\u001b[0m\n",
            "\u001b[0;32m<ipython-input-130-680d91de56c6>\u001b[0m in \u001b[0;36maffich_infos_manoirs\u001b[0;34m(self, manor_id)\u001b[0m\n\u001b[1;32m     17\u001b[0m \u001b[0;34m\u001b[0m\u001b[0m\n\u001b[1;32m     18\u001b[0m     \u001b[0;32mdef\u001b[0m \u001b[0maffich_infos_manoirs\u001b[0m\u001b[0;34m(\u001b[0m\u001b[0mself\u001b[0m\u001b[0;34m,\u001b[0m \u001b[0mmanor_id\u001b[0m\u001b[0;34m)\u001b[0m\u001b[0;34m:\u001b[0m\u001b[0;34m\u001b[0m\u001b[0;34m\u001b[0m\u001b[0m\n\u001b[0;32m---> 19\u001b[0;31m         \u001b[0mresponse\u001b[0m \u001b[0;34m=\u001b[0m \u001b[0mrequests\u001b[0m\u001b[0;34m.\u001b[0m\u001b[0mget\u001b[0m\u001b[0;34m(\u001b[0m\u001b[0;34mf\"{self.base_url}manor/{manor_id}\"\u001b[0m\u001b[0;34m)\u001b[0m\u001b[0;34m\u001b[0m\u001b[0;34m\u001b[0m\u001b[0m\n\u001b[0m\u001b[1;32m     20\u001b[0m         \u001b[0;32mreturn\u001b[0m \u001b[0mresponse\u001b[0m\u001b[0;34m.\u001b[0m\u001b[0mjson\u001b[0m\u001b[0;34m(\u001b[0m\u001b[0;34m)\u001b[0m\u001b[0;34m\u001b[0m\u001b[0;34m\u001b[0m\u001b[0m\n\u001b[1;32m     21\u001b[0m \u001b[0;34m\u001b[0m\u001b[0m\n",
            "\u001b[0;32m/usr/local/lib/python3.10/dist-packages/requests/api.py\u001b[0m in \u001b[0;36mget\u001b[0;34m(url, params, **kwargs)\u001b[0m\n\u001b[1;32m     71\u001b[0m     \"\"\"\n\u001b[1;32m     72\u001b[0m \u001b[0;34m\u001b[0m\u001b[0m\n\u001b[0;32m---> 73\u001b[0;31m     \u001b[0;32mreturn\u001b[0m \u001b[0mrequest\u001b[0m\u001b[0;34m(\u001b[0m\u001b[0;34m\"get\"\u001b[0m\u001b[0;34m,\u001b[0m \u001b[0murl\u001b[0m\u001b[0;34m,\u001b[0m \u001b[0mparams\u001b[0m\u001b[0;34m=\u001b[0m\u001b[0mparams\u001b[0m\u001b[0;34m,\u001b[0m \u001b[0;34m**\u001b[0m\u001b[0mkwargs\u001b[0m\u001b[0;34m)\u001b[0m\u001b[0;34m\u001b[0m\u001b[0;34m\u001b[0m\u001b[0m\n\u001b[0m\u001b[1;32m     74\u001b[0m \u001b[0;34m\u001b[0m\u001b[0m\n\u001b[1;32m     75\u001b[0m \u001b[0;34m\u001b[0m\u001b[0m\n",
            "\u001b[0;32m/usr/local/lib/python3.10/dist-packages/requests/api.py\u001b[0m in \u001b[0;36mrequest\u001b[0;34m(method, url, **kwargs)\u001b[0m\n\u001b[1;32m     57\u001b[0m     \u001b[0;31m# cases, and look like a memory leak in others.\u001b[0m\u001b[0;34m\u001b[0m\u001b[0;34m\u001b[0m\u001b[0m\n\u001b[1;32m     58\u001b[0m     \u001b[0;32mwith\u001b[0m \u001b[0msessions\u001b[0m\u001b[0;34m.\u001b[0m\u001b[0mSession\u001b[0m\u001b[0;34m(\u001b[0m\u001b[0;34m)\u001b[0m \u001b[0;32mas\u001b[0m \u001b[0msession\u001b[0m\u001b[0;34m:\u001b[0m\u001b[0;34m\u001b[0m\u001b[0;34m\u001b[0m\u001b[0m\n\u001b[0;32m---> 59\u001b[0;31m         \u001b[0;32mreturn\u001b[0m \u001b[0msession\u001b[0m\u001b[0;34m.\u001b[0m\u001b[0mrequest\u001b[0m\u001b[0;34m(\u001b[0m\u001b[0mmethod\u001b[0m\u001b[0;34m=\u001b[0m\u001b[0mmethod\u001b[0m\u001b[0;34m,\u001b[0m \u001b[0murl\u001b[0m\u001b[0;34m=\u001b[0m\u001b[0murl\u001b[0m\u001b[0;34m,\u001b[0m \u001b[0;34m**\u001b[0m\u001b[0mkwargs\u001b[0m\u001b[0;34m)\u001b[0m\u001b[0;34m\u001b[0m\u001b[0;34m\u001b[0m\u001b[0m\n\u001b[0m\u001b[1;32m     60\u001b[0m \u001b[0;34m\u001b[0m\u001b[0m\n\u001b[1;32m     61\u001b[0m \u001b[0;34m\u001b[0m\u001b[0m\n",
            "\u001b[0;32m/usr/local/lib/python3.10/dist-packages/requests/sessions.py\u001b[0m in \u001b[0;36mrequest\u001b[0;34m(self, method, url, params, data, headers, cookies, files, auth, timeout, allow_redirects, proxies, hooks, stream, verify, cert, json)\u001b[0m\n\u001b[1;32m    587\u001b[0m         }\n\u001b[1;32m    588\u001b[0m         \u001b[0msend_kwargs\u001b[0m\u001b[0;34m.\u001b[0m\u001b[0mupdate\u001b[0m\u001b[0;34m(\u001b[0m\u001b[0msettings\u001b[0m\u001b[0;34m)\u001b[0m\u001b[0;34m\u001b[0m\u001b[0;34m\u001b[0m\u001b[0m\n\u001b[0;32m--> 589\u001b[0;31m         \u001b[0mresp\u001b[0m \u001b[0;34m=\u001b[0m \u001b[0mself\u001b[0m\u001b[0;34m.\u001b[0m\u001b[0msend\u001b[0m\u001b[0;34m(\u001b[0m\u001b[0mprep\u001b[0m\u001b[0;34m,\u001b[0m \u001b[0;34m**\u001b[0m\u001b[0msend_kwargs\u001b[0m\u001b[0;34m)\u001b[0m\u001b[0;34m\u001b[0m\u001b[0;34m\u001b[0m\u001b[0m\n\u001b[0m\u001b[1;32m    590\u001b[0m \u001b[0;34m\u001b[0m\u001b[0m\n\u001b[1;32m    591\u001b[0m         \u001b[0;32mreturn\u001b[0m \u001b[0mresp\u001b[0m\u001b[0;34m\u001b[0m\u001b[0;34m\u001b[0m\u001b[0m\n",
            "\u001b[0;32m/usr/local/lib/python3.10/dist-packages/requests/sessions.py\u001b[0m in \u001b[0;36msend\u001b[0;34m(self, request, **kwargs)\u001b[0m\n\u001b[1;32m    723\u001b[0m             \u001b[0;31m# Redirect resolving generator.\u001b[0m\u001b[0;34m\u001b[0m\u001b[0;34m\u001b[0m\u001b[0m\n\u001b[1;32m    724\u001b[0m             \u001b[0mgen\u001b[0m \u001b[0;34m=\u001b[0m \u001b[0mself\u001b[0m\u001b[0;34m.\u001b[0m\u001b[0mresolve_redirects\u001b[0m\u001b[0;34m(\u001b[0m\u001b[0mr\u001b[0m\u001b[0;34m,\u001b[0m \u001b[0mrequest\u001b[0m\u001b[0;34m,\u001b[0m \u001b[0;34m**\u001b[0m\u001b[0mkwargs\u001b[0m\u001b[0;34m)\u001b[0m\u001b[0;34m\u001b[0m\u001b[0;34m\u001b[0m\u001b[0m\n\u001b[0;32m--> 725\u001b[0;31m             \u001b[0mhistory\u001b[0m \u001b[0;34m=\u001b[0m \u001b[0;34m[\u001b[0m\u001b[0mresp\u001b[0m \u001b[0;32mfor\u001b[0m \u001b[0mresp\u001b[0m \u001b[0;32min\u001b[0m \u001b[0mgen\u001b[0m\u001b[0;34m]\u001b[0m\u001b[0;34m\u001b[0m\u001b[0;34m\u001b[0m\u001b[0m\n\u001b[0m\u001b[1;32m    726\u001b[0m         \u001b[0;32melse\u001b[0m\u001b[0;34m:\u001b[0m\u001b[0;34m\u001b[0m\u001b[0;34m\u001b[0m\u001b[0m\n\u001b[1;32m    727\u001b[0m             \u001b[0mhistory\u001b[0m \u001b[0;34m=\u001b[0m \u001b[0;34m[\u001b[0m\u001b[0;34m]\u001b[0m\u001b[0;34m\u001b[0m\u001b[0;34m\u001b[0m\u001b[0m\n",
            "\u001b[0;32m/usr/local/lib/python3.10/dist-packages/requests/sessions.py\u001b[0m in \u001b[0;36m<listcomp>\u001b[0;34m(.0)\u001b[0m\n\u001b[1;32m    723\u001b[0m             \u001b[0;31m# Redirect resolving generator.\u001b[0m\u001b[0;34m\u001b[0m\u001b[0;34m\u001b[0m\u001b[0m\n\u001b[1;32m    724\u001b[0m             \u001b[0mgen\u001b[0m \u001b[0;34m=\u001b[0m \u001b[0mself\u001b[0m\u001b[0;34m.\u001b[0m\u001b[0mresolve_redirects\u001b[0m\u001b[0;34m(\u001b[0m\u001b[0mr\u001b[0m\u001b[0;34m,\u001b[0m \u001b[0mrequest\u001b[0m\u001b[0;34m,\u001b[0m \u001b[0;34m**\u001b[0m\u001b[0mkwargs\u001b[0m\u001b[0;34m)\u001b[0m\u001b[0;34m\u001b[0m\u001b[0;34m\u001b[0m\u001b[0m\n\u001b[0;32m--> 725\u001b[0;31m             \u001b[0mhistory\u001b[0m \u001b[0;34m=\u001b[0m \u001b[0;34m[\u001b[0m\u001b[0mresp\u001b[0m \u001b[0;32mfor\u001b[0m \u001b[0mresp\u001b[0m \u001b[0;32min\u001b[0m \u001b[0mgen\u001b[0m\u001b[0;34m]\u001b[0m\u001b[0;34m\u001b[0m\u001b[0;34m\u001b[0m\u001b[0m\n\u001b[0m\u001b[1;32m    726\u001b[0m         \u001b[0;32melse\u001b[0m\u001b[0;34m:\u001b[0m\u001b[0;34m\u001b[0m\u001b[0;34m\u001b[0m\u001b[0m\n\u001b[1;32m    727\u001b[0m             \u001b[0mhistory\u001b[0m \u001b[0;34m=\u001b[0m \u001b[0;34m[\u001b[0m\u001b[0;34m]\u001b[0m\u001b[0;34m\u001b[0m\u001b[0;34m\u001b[0m\u001b[0m\n",
            "\u001b[0;32m/usr/local/lib/python3.10/dist-packages/requests/sessions.py\u001b[0m in \u001b[0;36mresolve_redirects\u001b[0;34m(self, resp, req, stream, timeout, verify, cert, proxies, yield_requests, **adapter_kwargs)\u001b[0m\n\u001b[1;32m    264\u001b[0m             \u001b[0;32melse\u001b[0m\u001b[0;34m:\u001b[0m\u001b[0;34m\u001b[0m\u001b[0;34m\u001b[0m\u001b[0m\n\u001b[1;32m    265\u001b[0m \u001b[0;34m\u001b[0m\u001b[0m\n\u001b[0;32m--> 266\u001b[0;31m                 resp = self.send(\n\u001b[0m\u001b[1;32m    267\u001b[0m                     \u001b[0mreq\u001b[0m\u001b[0;34m,\u001b[0m\u001b[0;34m\u001b[0m\u001b[0;34m\u001b[0m\u001b[0m\n\u001b[1;32m    268\u001b[0m                     \u001b[0mstream\u001b[0m\u001b[0;34m=\u001b[0m\u001b[0mstream\u001b[0m\u001b[0;34m,\u001b[0m\u001b[0;34m\u001b[0m\u001b[0;34m\u001b[0m\u001b[0m\n",
            "\u001b[0;32m/usr/local/lib/python3.10/dist-packages/requests/sessions.py\u001b[0m in \u001b[0;36msend\u001b[0;34m(self, request, **kwargs)\u001b[0m\n\u001b[1;32m    701\u001b[0m \u001b[0;34m\u001b[0m\u001b[0m\n\u001b[1;32m    702\u001b[0m         \u001b[0;31m# Send the request\u001b[0m\u001b[0;34m\u001b[0m\u001b[0;34m\u001b[0m\u001b[0m\n\u001b[0;32m--> 703\u001b[0;31m         \u001b[0mr\u001b[0m \u001b[0;34m=\u001b[0m \u001b[0madapter\u001b[0m\u001b[0;34m.\u001b[0m\u001b[0msend\u001b[0m\u001b[0;34m(\u001b[0m\u001b[0mrequest\u001b[0m\u001b[0;34m,\u001b[0m \u001b[0;34m**\u001b[0m\u001b[0mkwargs\u001b[0m\u001b[0;34m)\u001b[0m\u001b[0;34m\u001b[0m\u001b[0;34m\u001b[0m\u001b[0m\n\u001b[0m\u001b[1;32m    704\u001b[0m \u001b[0;34m\u001b[0m\u001b[0m\n\u001b[1;32m    705\u001b[0m         \u001b[0;31m# Total elapsed time of the request (approximately)\u001b[0m\u001b[0;34m\u001b[0m\u001b[0;34m\u001b[0m\u001b[0m\n",
            "\u001b[0;32m/usr/local/lib/python3.10/dist-packages/requests/adapters.py\u001b[0m in \u001b[0;36msend\u001b[0;34m(self, request, stream, timeout, verify, cert, proxies)\u001b[0m\n\u001b[1;32m    484\u001b[0m \u001b[0;34m\u001b[0m\u001b[0m\n\u001b[1;32m    485\u001b[0m         \u001b[0;32mtry\u001b[0m\u001b[0;34m:\u001b[0m\u001b[0;34m\u001b[0m\u001b[0;34m\u001b[0m\u001b[0m\n\u001b[0;32m--> 486\u001b[0;31m             resp = conn.urlopen(\n\u001b[0m\u001b[1;32m    487\u001b[0m                 \u001b[0mmethod\u001b[0m\u001b[0;34m=\u001b[0m\u001b[0mrequest\u001b[0m\u001b[0;34m.\u001b[0m\u001b[0mmethod\u001b[0m\u001b[0;34m,\u001b[0m\u001b[0;34m\u001b[0m\u001b[0;34m\u001b[0m\u001b[0m\n\u001b[1;32m    488\u001b[0m                 \u001b[0murl\u001b[0m\u001b[0;34m=\u001b[0m\u001b[0murl\u001b[0m\u001b[0;34m,\u001b[0m\u001b[0;34m\u001b[0m\u001b[0;34m\u001b[0m\u001b[0m\n",
            "\u001b[0;32m/usr/local/lib/python3.10/dist-packages/urllib3/connectionpool.py\u001b[0m in \u001b[0;36murlopen\u001b[0;34m(self, method, url, body, headers, retries, redirect, assert_same_host, timeout, pool_timeout, release_conn, chunked, body_pos, preload_content, decode_content, **response_kw)\u001b[0m\n\u001b[1;32m    789\u001b[0m \u001b[0;34m\u001b[0m\u001b[0m\n\u001b[1;32m    790\u001b[0m             \u001b[0;31m# Make the request on the HTTPConnection object\u001b[0m\u001b[0;34m\u001b[0m\u001b[0;34m\u001b[0m\u001b[0m\n\u001b[0;32m--> 791\u001b[0;31m             response = self._make_request(\n\u001b[0m\u001b[1;32m    792\u001b[0m                 \u001b[0mconn\u001b[0m\u001b[0;34m,\u001b[0m\u001b[0;34m\u001b[0m\u001b[0;34m\u001b[0m\u001b[0m\n\u001b[1;32m    793\u001b[0m                 \u001b[0mmethod\u001b[0m\u001b[0;34m,\u001b[0m\u001b[0;34m\u001b[0m\u001b[0;34m\u001b[0m\u001b[0m\n",
            "\u001b[0;32m/usr/local/lib/python3.10/dist-packages/urllib3/connectionpool.py\u001b[0m in \u001b[0;36m_make_request\u001b[0;34m(self, conn, method, url, body, headers, retries, timeout, chunked, response_conn, preload_content, decode_content, enforce_content_length)\u001b[0m\n\u001b[1;32m    535\u001b[0m         \u001b[0;31m# Receive the response from the server\u001b[0m\u001b[0;34m\u001b[0m\u001b[0;34m\u001b[0m\u001b[0m\n\u001b[1;32m    536\u001b[0m         \u001b[0;32mtry\u001b[0m\u001b[0;34m:\u001b[0m\u001b[0;34m\u001b[0m\u001b[0;34m\u001b[0m\u001b[0m\n\u001b[0;32m--> 537\u001b[0;31m             \u001b[0mresponse\u001b[0m \u001b[0;34m=\u001b[0m \u001b[0mconn\u001b[0m\u001b[0;34m.\u001b[0m\u001b[0mgetresponse\u001b[0m\u001b[0;34m(\u001b[0m\u001b[0;34m)\u001b[0m\u001b[0;34m\u001b[0m\u001b[0;34m\u001b[0m\u001b[0m\n\u001b[0m\u001b[1;32m    538\u001b[0m         \u001b[0;32mexcept\u001b[0m \u001b[0;34m(\u001b[0m\u001b[0mBaseSSLError\u001b[0m\u001b[0;34m,\u001b[0m \u001b[0mOSError\u001b[0m\u001b[0;34m)\u001b[0m \u001b[0;32mas\u001b[0m \u001b[0me\u001b[0m\u001b[0;34m:\u001b[0m\u001b[0;34m\u001b[0m\u001b[0;34m\u001b[0m\u001b[0m\n\u001b[1;32m    539\u001b[0m             \u001b[0mself\u001b[0m\u001b[0;34m.\u001b[0m\u001b[0m_raise_timeout\u001b[0m\u001b[0;34m(\u001b[0m\u001b[0merr\u001b[0m\u001b[0;34m=\u001b[0m\u001b[0me\u001b[0m\u001b[0;34m,\u001b[0m \u001b[0murl\u001b[0m\u001b[0;34m=\u001b[0m\u001b[0murl\u001b[0m\u001b[0;34m,\u001b[0m \u001b[0mtimeout_value\u001b[0m\u001b[0;34m=\u001b[0m\u001b[0mread_timeout\u001b[0m\u001b[0;34m)\u001b[0m\u001b[0;34m\u001b[0m\u001b[0;34m\u001b[0m\u001b[0m\n",
            "\u001b[0;32m/usr/local/lib/python3.10/dist-packages/urllib3/connection.py\u001b[0m in \u001b[0;36mgetresponse\u001b[0;34m(self)\u001b[0m\n\u001b[1;32m    459\u001b[0m \u001b[0;34m\u001b[0m\u001b[0m\n\u001b[1;32m    460\u001b[0m         \u001b[0;31m# Get the response from http.client.HTTPConnection\u001b[0m\u001b[0;34m\u001b[0m\u001b[0;34m\u001b[0m\u001b[0m\n\u001b[0;32m--> 461\u001b[0;31m         \u001b[0mhttplib_response\u001b[0m \u001b[0;34m=\u001b[0m \u001b[0msuper\u001b[0m\u001b[0;34m(\u001b[0m\u001b[0;34m)\u001b[0m\u001b[0;34m.\u001b[0m\u001b[0mgetresponse\u001b[0m\u001b[0;34m(\u001b[0m\u001b[0;34m)\u001b[0m\u001b[0;34m\u001b[0m\u001b[0;34m\u001b[0m\u001b[0m\n\u001b[0m\u001b[1;32m    462\u001b[0m \u001b[0;34m\u001b[0m\u001b[0m\n\u001b[1;32m    463\u001b[0m         \u001b[0;32mtry\u001b[0m\u001b[0;34m:\u001b[0m\u001b[0;34m\u001b[0m\u001b[0;34m\u001b[0m\u001b[0m\n",
            "\u001b[0;32m/usr/lib/python3.10/http/client.py\u001b[0m in \u001b[0;36mgetresponse\u001b[0;34m(self)\u001b[0m\n\u001b[1;32m   1373\u001b[0m         \u001b[0;32mtry\u001b[0m\u001b[0;34m:\u001b[0m\u001b[0;34m\u001b[0m\u001b[0;34m\u001b[0m\u001b[0m\n\u001b[1;32m   1374\u001b[0m             \u001b[0;32mtry\u001b[0m\u001b[0;34m:\u001b[0m\u001b[0;34m\u001b[0m\u001b[0;34m\u001b[0m\u001b[0m\n\u001b[0;32m-> 1375\u001b[0;31m                 \u001b[0mresponse\u001b[0m\u001b[0;34m.\u001b[0m\u001b[0mbegin\u001b[0m\u001b[0;34m(\u001b[0m\u001b[0;34m)\u001b[0m\u001b[0;34m\u001b[0m\u001b[0;34m\u001b[0m\u001b[0m\n\u001b[0m\u001b[1;32m   1376\u001b[0m             \u001b[0;32mexcept\u001b[0m \u001b[0mConnectionError\u001b[0m\u001b[0;34m:\u001b[0m\u001b[0;34m\u001b[0m\u001b[0;34m\u001b[0m\u001b[0m\n\u001b[1;32m   1377\u001b[0m                 \u001b[0mself\u001b[0m\u001b[0;34m.\u001b[0m\u001b[0mclose\u001b[0m\u001b[0;34m(\u001b[0m\u001b[0;34m)\u001b[0m\u001b[0;34m\u001b[0m\u001b[0;34m\u001b[0m\u001b[0m\n",
            "\u001b[0;32m/usr/lib/python3.10/http/client.py\u001b[0m in \u001b[0;36mbegin\u001b[0;34m(self)\u001b[0m\n\u001b[1;32m    316\u001b[0m         \u001b[0;31m# read until we get a non-100 response\u001b[0m\u001b[0;34m\u001b[0m\u001b[0;34m\u001b[0m\u001b[0m\n\u001b[1;32m    317\u001b[0m         \u001b[0;32mwhile\u001b[0m \u001b[0;32mTrue\u001b[0m\u001b[0;34m:\u001b[0m\u001b[0;34m\u001b[0m\u001b[0;34m\u001b[0m\u001b[0m\n\u001b[0;32m--> 318\u001b[0;31m             \u001b[0mversion\u001b[0m\u001b[0;34m,\u001b[0m \u001b[0mstatus\u001b[0m\u001b[0;34m,\u001b[0m \u001b[0mreason\u001b[0m \u001b[0;34m=\u001b[0m \u001b[0mself\u001b[0m\u001b[0;34m.\u001b[0m\u001b[0m_read_status\u001b[0m\u001b[0;34m(\u001b[0m\u001b[0;34m)\u001b[0m\u001b[0;34m\u001b[0m\u001b[0;34m\u001b[0m\u001b[0m\n\u001b[0m\u001b[1;32m    319\u001b[0m             \u001b[0;32mif\u001b[0m \u001b[0mstatus\u001b[0m \u001b[0;34m!=\u001b[0m \u001b[0mCONTINUE\u001b[0m\u001b[0;34m:\u001b[0m\u001b[0;34m\u001b[0m\u001b[0;34m\u001b[0m\u001b[0m\n\u001b[1;32m    320\u001b[0m                 \u001b[0;32mbreak\u001b[0m\u001b[0;34m\u001b[0m\u001b[0;34m\u001b[0m\u001b[0m\n",
            "\u001b[0;32m/usr/lib/python3.10/http/client.py\u001b[0m in \u001b[0;36m_read_status\u001b[0;34m(self)\u001b[0m\n\u001b[1;32m    277\u001b[0m \u001b[0;34m\u001b[0m\u001b[0m\n\u001b[1;32m    278\u001b[0m     \u001b[0;32mdef\u001b[0m \u001b[0m_read_status\u001b[0m\u001b[0;34m(\u001b[0m\u001b[0mself\u001b[0m\u001b[0;34m)\u001b[0m\u001b[0;34m:\u001b[0m\u001b[0;34m\u001b[0m\u001b[0;34m\u001b[0m\u001b[0m\n\u001b[0;32m--> 279\u001b[0;31m         \u001b[0mline\u001b[0m \u001b[0;34m=\u001b[0m \u001b[0mstr\u001b[0m\u001b[0;34m(\u001b[0m\u001b[0mself\u001b[0m\u001b[0;34m.\u001b[0m\u001b[0mfp\u001b[0m\u001b[0;34m.\u001b[0m\u001b[0mreadline\u001b[0m\u001b[0;34m(\u001b[0m\u001b[0m_MAXLINE\u001b[0m \u001b[0;34m+\u001b[0m \u001b[0;36m1\u001b[0m\u001b[0;34m)\u001b[0m\u001b[0;34m,\u001b[0m \u001b[0;34m\"iso-8859-1\"\u001b[0m\u001b[0;34m)\u001b[0m\u001b[0;34m\u001b[0m\u001b[0;34m\u001b[0m\u001b[0m\n\u001b[0m\u001b[1;32m    280\u001b[0m         \u001b[0;32mif\u001b[0m \u001b[0mlen\u001b[0m\u001b[0;34m(\u001b[0m\u001b[0mline\u001b[0m\u001b[0;34m)\u001b[0m \u001b[0;34m>\u001b[0m \u001b[0m_MAXLINE\u001b[0m\u001b[0;34m:\u001b[0m\u001b[0;34m\u001b[0m\u001b[0;34m\u001b[0m\u001b[0m\n\u001b[1;32m    281\u001b[0m             \u001b[0;32mraise\u001b[0m \u001b[0mLineTooLong\u001b[0m\u001b[0;34m(\u001b[0m\u001b[0;34m\"status line\"\u001b[0m\u001b[0;34m)\u001b[0m\u001b[0;34m\u001b[0m\u001b[0;34m\u001b[0m\u001b[0m\n",
            "\u001b[0;32m/usr/lib/python3.10/socket.py\u001b[0m in \u001b[0;36mreadinto\u001b[0;34m(self, b)\u001b[0m\n\u001b[1;32m    703\u001b[0m         \u001b[0;32mwhile\u001b[0m \u001b[0;32mTrue\u001b[0m\u001b[0;34m:\u001b[0m\u001b[0;34m\u001b[0m\u001b[0;34m\u001b[0m\u001b[0m\n\u001b[1;32m    704\u001b[0m             \u001b[0;32mtry\u001b[0m\u001b[0;34m:\u001b[0m\u001b[0;34m\u001b[0m\u001b[0;34m\u001b[0m\u001b[0m\n\u001b[0;32m--> 705\u001b[0;31m                 \u001b[0;32mreturn\u001b[0m \u001b[0mself\u001b[0m\u001b[0;34m.\u001b[0m\u001b[0m_sock\u001b[0m\u001b[0;34m.\u001b[0m\u001b[0mrecv_into\u001b[0m\u001b[0;34m(\u001b[0m\u001b[0mb\u001b[0m\u001b[0;34m)\u001b[0m\u001b[0;34m\u001b[0m\u001b[0;34m\u001b[0m\u001b[0m\n\u001b[0m\u001b[1;32m    706\u001b[0m             \u001b[0;32mexcept\u001b[0m \u001b[0mtimeout\u001b[0m\u001b[0;34m:\u001b[0m\u001b[0;34m\u001b[0m\u001b[0;34m\u001b[0m\u001b[0m\n\u001b[1;32m    707\u001b[0m                 \u001b[0mself\u001b[0m\u001b[0;34m.\u001b[0m\u001b[0m_timeout_occurred\u001b[0m \u001b[0;34m=\u001b[0m \u001b[0;32mTrue\u001b[0m\u001b[0;34m\u001b[0m\u001b[0;34m\u001b[0m\u001b[0m\n",
            "\u001b[0;32m/usr/lib/python3.10/ssl.py\u001b[0m in \u001b[0;36mrecv_into\u001b[0;34m(self, buffer, nbytes, flags)\u001b[0m\n\u001b[1;32m   1301\u001b[0m                   \u001b[0;34m\"non-zero flags not allowed in calls to recv_into() on %s\"\u001b[0m \u001b[0;34m%\u001b[0m\u001b[0;34m\u001b[0m\u001b[0;34m\u001b[0m\u001b[0m\n\u001b[1;32m   1302\u001b[0m                   self.__class__)\n\u001b[0;32m-> 1303\u001b[0;31m             \u001b[0;32mreturn\u001b[0m \u001b[0mself\u001b[0m\u001b[0;34m.\u001b[0m\u001b[0mread\u001b[0m\u001b[0;34m(\u001b[0m\u001b[0mnbytes\u001b[0m\u001b[0;34m,\u001b[0m \u001b[0mbuffer\u001b[0m\u001b[0;34m)\u001b[0m\u001b[0;34m\u001b[0m\u001b[0;34m\u001b[0m\u001b[0m\n\u001b[0m\u001b[1;32m   1304\u001b[0m         \u001b[0;32melse\u001b[0m\u001b[0;34m:\u001b[0m\u001b[0;34m\u001b[0m\u001b[0;34m\u001b[0m\u001b[0m\n\u001b[1;32m   1305\u001b[0m             \u001b[0;32mreturn\u001b[0m \u001b[0msuper\u001b[0m\u001b[0;34m(\u001b[0m\u001b[0;34m)\u001b[0m\u001b[0;34m.\u001b[0m\u001b[0mrecv_into\u001b[0m\u001b[0;34m(\u001b[0m\u001b[0mbuffer\u001b[0m\u001b[0;34m,\u001b[0m \u001b[0mnbytes\u001b[0m\u001b[0;34m,\u001b[0m \u001b[0mflags\u001b[0m\u001b[0;34m)\u001b[0m\u001b[0;34m\u001b[0m\u001b[0;34m\u001b[0m\u001b[0m\n",
            "\u001b[0;32m/usr/lib/python3.10/ssl.py\u001b[0m in \u001b[0;36mread\u001b[0;34m(self, len, buffer)\u001b[0m\n\u001b[1;32m   1157\u001b[0m         \u001b[0;32mtry\u001b[0m\u001b[0;34m:\u001b[0m\u001b[0;34m\u001b[0m\u001b[0;34m\u001b[0m\u001b[0m\n\u001b[1;32m   1158\u001b[0m             \u001b[0;32mif\u001b[0m \u001b[0mbuffer\u001b[0m \u001b[0;32mis\u001b[0m \u001b[0;32mnot\u001b[0m \u001b[0;32mNone\u001b[0m\u001b[0;34m:\u001b[0m\u001b[0;34m\u001b[0m\u001b[0;34m\u001b[0m\u001b[0m\n\u001b[0;32m-> 1159\u001b[0;31m                 \u001b[0;32mreturn\u001b[0m \u001b[0mself\u001b[0m\u001b[0;34m.\u001b[0m\u001b[0m_sslobj\u001b[0m\u001b[0;34m.\u001b[0m\u001b[0mread\u001b[0m\u001b[0;34m(\u001b[0m\u001b[0mlen\u001b[0m\u001b[0;34m,\u001b[0m \u001b[0mbuffer\u001b[0m\u001b[0;34m)\u001b[0m\u001b[0;34m\u001b[0m\u001b[0;34m\u001b[0m\u001b[0m\n\u001b[0m\u001b[1;32m   1160\u001b[0m             \u001b[0;32melse\u001b[0m\u001b[0;34m:\u001b[0m\u001b[0;34m\u001b[0m\u001b[0;34m\u001b[0m\u001b[0m\n\u001b[1;32m   1161\u001b[0m                 \u001b[0;32mreturn\u001b[0m \u001b[0mself\u001b[0m\u001b[0;34m.\u001b[0m\u001b[0m_sslobj\u001b[0m\u001b[0;34m.\u001b[0m\u001b[0mread\u001b[0m\u001b[0;34m(\u001b[0m\u001b[0mlen\u001b[0m\u001b[0;34m)\u001b[0m\u001b[0;34m\u001b[0m\u001b[0;34m\u001b[0m\u001b[0m\n",
            "\u001b[0;31mKeyboardInterrupt\u001b[0m: "
          ]
        }
      ],
      "source": [
        "# Exercise 7\n",
        "# Create a Python class.\n",
        "# It must include all the previous functionalities.\n",
        "# Refactor your code to make it readable, efficient, and maintainable.\n",
        "\n",
        "import requests\n",
        "import csv\n",
        "\n",
        "class RequestInformation:\n",
        "    def __init__(self, base_url='http://opendomesday.org/api/1.0/'):\n",
        "        self.base_url = base_url\n",
        "\n",
        "\n",
        "    def affich_county(self, county_id):\n",
        "        rep = requests.get(f\"{self.base_url}county/{county_id}\")\n",
        "        return rep.json()\n",
        "\n",
        "    def affich_infos_manoirs(self, manor_id):\n",
        "        response = requests.get(f\"{self.base_url}manor/{manor_id}\")\n",
        "        return response.json()\n",
        "\n",
        "    def affich_manoirs(self, county_id):\n",
        "        county_data = self.affich_county(county_id)\n",
        "        return [self.affich_infos_manoirs(place['id']) for place in county_data['places_in_county']]\n",
        "\n",
        "    def affich_manoir_plus_riche(self, county_id):\n",
        "        manors_data = self.affich_manoirs(county_id)\n",
        "        return max(manors_data, key=lambda x: x.get('value86'))\n",
        "\n",
        "    def save_to_csv(self, data, file_path, headers):\n",
        "        with open(file_path, 'w', newline='') as csvfile:\n",
        "            writer = csv.DictWriter(csvfile, fieldnames=headers)\n",
        "            writer.writeheader()\n",
        "            for item in data:\n",
        "                writer.writerow(item)\n",
        "\n",
        "\n",
        "api = RequestInformation()\n",
        "derb_id = 'dby'\n",
        "richest_manor = api.affich_manoir_plus_riche(derb_id)\n",
        "manors_data = api.affich_manoirs(derb_id)\n",
        "\n",
        "api.save_to_csv(manors_data, 'TD3PGL.csv')\n"
      ]
    },
    {
      "cell_type": "code",
      "source": [],
      "metadata": {
        "id": "xIJH-OpmbATB"
      },
      "execution_count": null,
      "outputs": []
    },
    {
      "cell_type": "code",
      "execution_count": null,
      "metadata": {
        "id": "iKO5YHrXIkEK"
      },
      "outputs": [],
      "source": [
        "# Exercise 8 (optional)\n",
        "# Add to your class a system for error handling.\n",
        "# It must manage the following errors:\n",
        "# - Connection error\n",
        "# - Parsing error\n",
        "# - Request error\n",
        "# - Response error\n",
        "# - Parameter error\n",
        "\n",
        "#######################################################\n",
        "################## YOUR ANSWER HERE ##################\n",
        "#######################################################\n",
        "\n",
        "from requests.exceptions import HTTPError, RequestException, ConnectionError\n",
        "\n"
      ]
    }
  ],
  "metadata": {
    "kernelspec": {
      "display_name": "api",
      "language": "python",
      "name": "python3"
    },
    "language_info": {
      "codemirror_mode": {
        "name": "ipython",
        "version": 3
      },
      "file_extension": ".py",
      "mimetype": "text/x-python",
      "name": "python",
      "nbconvert_exporter": "python",
      "pygments_lexer": "ipython3",
      "version": "3.11.6"
    },
    "colab": {
      "provenance": []
    }
  },
  "nbformat": 4,
  "nbformat_minor": 0
}
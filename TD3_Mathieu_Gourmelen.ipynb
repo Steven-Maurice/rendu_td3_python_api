{
 "cells": [
  {
   "cell_type": "markdown",
   "metadata": {},
   "source": [
    "# Python with APIs\n",
    "Exchanges via HTTP using `requests` package"
   ]
  },
  {
   "cell_type": "code",
   "execution_count": 1,
   "metadata": {},
   "outputs": [],
   "source": [
    "import requests"
   ]
  },
  {
   "cell_type": "markdown",
   "metadata": {},
   "source": [
    "## Example"
   ]
  },
  {
   "cell_type": "markdown",
   "metadata": {},
   "source": [
    "### Agify API"
   ]
  },
  {
   "cell_type": "markdown",
   "metadata": {},
   "source": [
    "Example route for Agify API"
   ]
  },
  {
   "cell_type": "code",
   "execution_count": 2,
   "metadata": {},
   "outputs": [],
   "source": [
    "agify_dan = \"https://api.agify.io/?name=dan\""
   ]
  },
  {
   "cell_type": "markdown",
   "metadata": {},
   "source": [
    "Extract response"
   ]
  },
  {
   "cell_type": "code",
   "execution_count": 5,
   "metadata": {},
   "outputs": [
    {
     "name": "stdout",
     "output_type": "stream",
     "text": [
      "Answer status_code: <Response [200]>\n",
      "<class 'str'>\n",
      "<class 'dict'>\n",
      "{\"count\":67782,\"name\":\"dan\",\"age\":66}\n",
      "{'count': 67782, 'name': 'dan', 'age': 66}\n"
     ]
    }
   ],
   "source": [
    "# Run a GET request\n",
    "agify_answer = requests.get(agify_dan)\n",
    "agify_answer_txt = agify_answer.text\n",
    "agify_answer_json = agify_answer.json()\n",
    "\n",
    "print(f\"Answer status_code: {agify_answer}\")\n",
    "\n",
    "print(type(agify_answer_txt))\n",
    "print(type(agify_answer_json))\n",
    "\n",
    "print(agify_answer_txt)\n",
    "print(agify_answer_json)"
   ]
  },
  {
   "cell_type": "markdown",
   "metadata": {},
   "source": [
    "## Introductory Exercises"
   ]
  },
  {
   "cell_type": "code",
   "execution_count": 8,
   "metadata": {},
   "outputs": [
    {
     "name": "stdout",
     "output_type": "stream",
     "text": [
      "Bonjour michel, l'âge estimé pour votre prénom est de 72 ans.\n"
     ]
    }
   ],
   "source": [
    "# Exercise 1\n",
    "# Write a script that asks the user for their first name\n",
    "# and responds with a personalized message\n",
    "# using the agify API\n",
    "\n",
    "# https://api.agify.io/?name=YOUR_NAME  \n",
    "# Example response: {\"name\":\"YOUR_NAME\",\"age\":30,\"count\":12345}\n",
    "\n",
    "YOUR_NAME = input(\"Enter your name : \")\n",
    "\n",
    "url = f\"https://api.agify.io/?name={YOUR_NAME}\"\n",
    "response = requests.get(url)\n",
    "data = response.json()\n",
    "age = data.get(\"age\")\n",
    "\n",
    "print(f\"Bonjour {YOUR_NAME}, l'âge estimé pour votre prénom est de {age} ans.\")"
   ]
  },
  {
   "cell_type": "code",
   "execution_count": 13,
   "metadata": {},
   "outputs": [
    {
     "name": "stdout",
     "output_type": "stream",
     "text": [
      "Bonjour frederic, notre meilleure estimation est que vous êtes de genre masculin.\n"
     ]
    }
   ],
   "source": [
    "# Exercise 2\n",
    "# Write a script that asks the user for their first name\n",
    "# and responds with a personalized message\n",
    "# using the genderize API\n",
    "# https://api.genderize.io/?name=YOUR_NAME\n",
    "\n",
    "YOUR_NAME = input(\"Enter your name : \")\n",
    "url = f\"https://api.genderize.io/?name={YOUR_NAME}\"\n",
    "\n",
    "response = requests.get(url)\n",
    "data = response.json()\n",
    "genre = data.get(\"gender\")\n",
    "if genre == \"male\":\n",
    "        print(f\"Bonjour {YOUR_NAME}, notre meilleure estimation est que vous êtes de genre masculin.\")\n",
    "else :\n",
    "        print(f\"Bonjour {YOUR_NAME}, notre meilleure estimation est que vous êtes de genre féminin.\")\n"
   ]
  },
  {
   "cell_type": "code",
   "execution_count": 17,
   "metadata": {},
   "outputs": [
    {
     "name": "stdout",
     "output_type": "stream",
     "text": [
      "Bonjour matthieu, la nationalité la plus probable pour votre prénom est FR\n"
     ]
    }
   ],
   "source": [
    "# Exercise 3\n",
    "# Write a script that asks the user for their first name\n",
    "# and responds with a personalized message\n",
    "# using the nationalize API\n",
    "# https://api.nationalize.io/?name=YOUR_NAME\n",
    "\n",
    "YOUR_NAME = input(\"Enter your name: \")\n",
    "\n",
    "url = f\"https://api.nationalize.io/?name={YOUR_NAME}\"\n",
    "\n",
    "response = requests.get(url)\n",
    "data = response.json()\n",
    "country = data.get(\"country\")\n",
    "\n",
    "if country and len(country) > 0:\n",
    "    country_id = country[0].get(\"country_id\")\n",
    "    print(f\"Bonjour {YOUR_NAME}, la nationalité la plus probable pour votre prénom est {country_id}\")\n",
    "\n"
   ]
  },
  {
   "cell_type": "code",
   "execution_count": 19,
   "metadata": {},
   "outputs": [
    {
     "name": "stdout",
     "output_type": "stream",
     "text": [
      "Bonjour michel, la nationalité la plus probable pour votre prénom est FR avec une probabilité de 12.48%.\n"
     ]
    }
   ],
   "source": [
    "# Exercise 3.1\n",
    "# Parsing the response from the nationalize API\n",
    "# Get the most probable country and its percentage\n",
    "# Example response: {\"name\":\"YOUR_NAME\",\"country\":[{\"country_id\":\"FR\",\"probability\":0.75},{\"country_id\":\"BE\",\"probability\":0.25}]}\n",
    "# Hint: use the max() function with a lambda function\n",
    "# https://docs.python.org/3/library/functions.html#max\n",
    "# https://docs.python.org/3/tutorial/controlflow.html#lambda-expressions\n",
    "\n",
    "YOUR_NAME = input(\"Enter your name: \")\n",
    "\n",
    "url = f\"https://api.nationalize.io/?name={YOUR_NAME}\"\n",
    "\n",
    "response = requests.get(url)\n",
    "data = response.json()\n",
    "countries = data.get(\"country\", [])\n",
    "\n",
    "if countries:\n",
    "        most_probable_country = max(countries, key=lambda x: x['probability'])\n",
    "        country_id = most_probable_country['country_id']\n",
    "        probability = most_probable_country['probability'] * 100  # Convertir en pourcentage\n",
    "\n",
    "        print(f\"Bonjour {YOUR_NAME}, la nationalité la plus probable pour votre prénom est {country_id} avec une probabilité de {probability:.2f}%.\")"
   ]
  },
  {
   "cell_type": "code",
   "execution_count": 27,
   "metadata": {},
   "outputs": [
    {
     "name": "stdout",
     "output_type": "stream",
     "text": [
      "Activité aléatoire : Write a poem\n",
      "Activité pour 4 participants : Invite some friends over for a game night\n",
      "Activité de type 'recreational' pour 4 participants : Go see a Broadway production\n"
     ]
    }
   ],
   "source": [
    "# Exercise 4\n",
    "# Use BoredAPI : https://www.boredapi.com/\n",
    "# Documentation : https://www.boredapi.com/documentation\n",
    "# 1. Write a script that generates random activities\n",
    "# 2. Write a script that generates random activities\n",
    "# 3. Write a script that generates random activities for 4 participants\n",
    "# 4. Write a script that generates random activities for 4 participants and of type \"recreational\"\n",
    "# 5. Write a script that generates random activities for 2 participants and that does not require equipment\n",
    "\n",
    "def generate_random_activity():\n",
    "    response = requests.get(\"https://www.boredapi.com/api/activity\")\n",
    "    activity = response.json().get(\"activity\")\n",
    "    print(f\"Activité aléatoire : {activity}\")\n",
    "\n",
    "generate_random_activity()\n",
    "\n",
    "def generate_activity_for_participants(participants):\n",
    "    response = requests.get(f\"https://www.boredapi.com/api/activity?participants={participants}\")\n",
    "    activity = response.json().get(\"activity\")\n",
    "    print(f\"Activité pour {participants} participants : {activity}\")\n",
    "\n",
    "generate_activity_for_participants(4)\n",
    "    \n",
    "def generate_specific_activity(participants, type):\n",
    "    response = requests.get(f\"https://www.boredapi.com/api/activity?participants={participants}&type={type}\")\n",
    "    activity = response.json().get(\"activity\")\n",
    "    print(f\"Activité de type '{type}' pour {participants} participants : {activity}\")\n",
    "\n",
    "generate_specific_activity(4, \"recreational\")"
   ]
  },
  {
   "cell_type": "markdown",
   "metadata": {},
   "source": [
    "## Intermediate exercises"
   ]
  },
  {
   "cell_type": "code",
   "execution_count": null,
   "metadata": {},
   "outputs": [
    {
     "ename": "",
     "evalue": "",
     "output_type": "error",
     "traceback": [
      "\u001b[1;31mThe Kernel crashed while executing code in the the current cell or a previous cell. Please review the code in the cell(s) to identify a possible cause of the failure. Click <a href='https://aka.ms/vscodeJupyterKernelCrash'>here</a> for more info. View Jupyter <a href='command:jupyter.viewOutput'>log</a> for further details."
     ]
    }
   ],
   "source": [
    "# OpenDomesday\n",
    "# https://opendomesday.org/api/\n",
    "\n",
    "# Exercise 1\n",
    "# Write a script that displays all the counties  \n",
    "# using the OpenDomesday API.\n",
    "\n",
    "def get_counties():\n",
    "    url = \"https://opendomesday.org/api/1.0/county/\"\n",
    "    response = requests.get(url)\n",
    "    if response.status_code == 200:\n",
    "        return response.json()\n",
    "    else:\n",
    "        print(\"Failed to fetch counties.\")\n",
    "        return []\n",
    "\n",
    "def display_counties(counties):\n",
    "    if counties:\n",
    "        print(\"List of counties:\")\n",
    "        for county in counties:\n",
    "            print(county.get('name'))\n",
    "    else:\n",
    "        print(\"No counties found.\")\n",
    "\n",
    "counties = get_counties()\n",
    "display_counties(counties)\n"
   ]
  },
  {
   "cell_type": "code",
   "execution_count": null,
   "metadata": {},
   "outputs": [],
   "source": [
    "# Exercise 2\n",
    "# Write a script that displays the information\n",
    "# of the county \"Derbyshire\".\n",
    "\n",
    "def get_county_info(county_name, url_link):\n",
    "    url = f\"{url_link}{county_name}/\"\n",
    "    response = requests.get(url)\n",
    "    if response.status_code == 200:\n",
    "        data = response.json()\n",
    "        return data\n",
    "    else:\n",
    "        print(f\"Failed to fetch information for {county_name}.\")\n",
    "        return None\n",
    "\n",
    "url_county = \"https://opendomesday.org/api/1.0/county/?name=\"\n",
    "county_name = \"Derbyshire\"\n",
    "derbyshire_info = get_county_info(county_name, url_county)\n",
    "\n",
    "print(derbyshire_info)\n"
   ]
  },
  {
   "cell_type": "code",
   "execution_count": null,
   "metadata": {},
   "outputs": [],
   "source": [
    "# Exercise 3\n",
    "# Now that we have the ids for all the places in Derbyshire, we can load all their details...\n",
    "# And from their details, we can list all the details of their manors.\n",
    "# Go fetch the data!\n",
    "# P.S.: remember to save the data to avoid downloading it every time\n",
    "\n",
    "#######################################################\n",
    "################## YOUR ANSWER HERE ##################\n",
    "#######################################################\n"
   ]
  },
  {
   "cell_type": "code",
   "execution_count": null,
   "metadata": {},
   "outputs": [],
   "source": [
    "# Exercise 4\n",
    "# Now that we have a quantity of raw data, we will extract the interesting parts.  \n",
    "# In our case, we want to count the money paid by each manor and compare it to the number of ploughs it has.  \n",
    "# - Can you find the corresponding json fields?  \n",
    "# - Then, you can list these numbers for each manor in Derbyshire.  \n",
    "# - And format this in an appropriate comma-separated values (CSV) file.\n",
    "\n",
    "#######################################################\n",
    "################## YOUR ANSWER HERE ##################\n",
    "#######################################################\n",
    "\n"
   ]
  },
  {
   "cell_type": "code",
   "execution_count": null,
   "metadata": {},
   "outputs": [],
   "source": [
    "# Exercise 5\n",
    "# What is the richest manor in Derbyshire?\n",
    "\n",
    "#######################################################\n",
    "################## YOUR ANSWER HERE ##################\n",
    "#######################################################\n"
   ]
  },
  {
   "cell_type": "code",
   "execution_count": null,
   "metadata": {},
   "outputs": [],
   "source": [
    "# Exercise 6\n",
    "# Give the total value paid by Derbyshire.\n",
    "\n",
    "#######################################################\n",
    "################## YOUR ANSWER HERE ##################\n",
    "#######################################################\n"
   ]
  },
  {
   "cell_type": "code",
   "execution_count": null,
   "metadata": {},
   "outputs": [],
   "source": [
    "# Exercise 7\n",
    "# Create a Python class.  \n",
    "# It must include all the previous functionalities.  \n",
    "# Refactor your code to make it readable, efficient, and maintainable.\n",
    "\n",
    "#######################################################\n",
    "################## YOUR ANSWER HERE ##################\n",
    "#######################################################\n"
   ]
  },
  {
   "cell_type": "code",
   "execution_count": null,
   "metadata": {},
   "outputs": [],
   "source": [
    "# Exercise 8 (optional)\n",
    "# Add to your class a system for error handling.  \n",
    "# It must manage the following errors:  \n",
    "# - Connection error  \n",
    "# - Parsing error  \n",
    "# - Request error  \n",
    "# - Response error  \n",
    "# - Parameter error\n",
    "\n",
    "#######################################################\n",
    "################## YOUR ANSWER HERE ##################\n",
    "#######################################################\n",
    "\n"
   ]
  }
 ],
 "metadata": {
  "kernelspec": {
   "display_name": "api",
   "language": "python",
   "name": "python3"
  },
  "language_info": {
   "codemirror_mode": {
    "name": "ipython",
    "version": 3
   },
   "file_extension": ".py",
   "mimetype": "text/x-python",
   "name": "python",
   "nbconvert_exporter": "python",
   "pygments_lexer": "ipython3",
   "version": "3.8.8"
  }
 },
 "nbformat": 4,
 "nbformat_minor": 2
}

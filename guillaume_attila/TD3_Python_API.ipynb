{
 "cells": [
  {
   "cell_type": "markdown",
   "metadata": {},
   "source": [
    "# Python with APIs\n",
    "Exchanges via HTTP using `requests` package"
   ]
  },
  {
   "cell_type": "code",
   "execution_count": 10,
   "metadata": {},
   "outputs": [],
   "source": [
    "import requests"
   ]
  },
  {
   "cell_type": "markdown",
   "metadata": {},
   "source": [
    "## Example"
   ]
  },
  {
   "cell_type": "markdown",
   "metadata": {},
   "source": [
    "### Agify API"
   ]
  },
  {
   "cell_type": "markdown",
   "metadata": {},
   "source": [
    "Example route for Agify API"
   ]
  },
  {
   "cell_type": "code",
   "execution_count": 11,
   "metadata": {},
   "outputs": [],
   "source": [
    "agify_dan = \"https://api.agify.io/?name=dan\""
   ]
  },
  {
   "cell_type": "markdown",
   "metadata": {},
   "source": [
    "Extract response"
   ]
  },
  {
   "cell_type": "code",
   "execution_count": 12,
   "metadata": {},
   "outputs": [
    {
     "name": "stdout",
     "output_type": "stream",
     "text": [
      "Answer status_code: <Response [429]>\n",
      "<class 'str'>\n",
      "<class 'dict'>\n",
      "{\"error\":\"Request limit reached\"}\n",
      "{'error': 'Request limit reached'}\n"
     ]
    }
   ],
   "source": [
    "# Run a GET request\n",
    "agify_answer = requests.get(agify_dan)\n",
    "agify_answer_txt = agify_answer.text\n",
    "agify_answer_json = agify_answer.json()\n",
    "\n",
    "print(f\"Answer status_code: {agify_answer}\")\n",
    "\n",
    "print(type(agify_answer_txt))\n",
    "print(type(agify_answer_json))\n",
    "\n",
    "print(agify_answer_txt)\n",
    "print(agify_answer_json)"
   ]
  },
  {
   "cell_type": "markdown",
   "metadata": {},
   "source": [
    "## Introductory Exercises"
   ]
  },
  {
   "cell_type": "code",
   "execution_count": 13,
   "metadata": {},
   "outputs": [],
   "source": [
    "# Exercise 1\n",
    "# Write a script that asks the user for their first name\n",
    "# and responds with a personalized message\n",
    "# using the agify API\n",
    "\n",
    "# https://api.agify.io/?name=YOUR_NAME\n",
    "# Example response: {\"name\":\"YOUR_NAME\",\"age\":30,\"count\":12345}\n",
    "\n",
    "def get_data(name,api):\n",
    "    response = requests.get(f\"{api},{name}\")\n",
    "    if response.status_code == 200:\n",
    "        return response.json()\n",
    "    else:\n",
    "        return None\n",
    "\n",
    "user_name = input(\"Please enter your first name: \")\n",
    "data = get_data(user_name,\"https://api.agify.io/?name=\")\n",
    "\n",
    "if data:\n",
    "    estimated_age = data['age']\n",
    "    count = data['count']\n",
    "    print(\"Your name is \",user_name,\", your age is \",estimated_age,\"and you are \",estimated_age, \" in the world\")\n",
    "else:\n",
    "    print(\"Fail\")\n"
   ]
  },
  {
   "cell_type": "code",
   "execution_count": 14,
   "metadata": {},
   "outputs": [],
   "source": [
    "# Exercise 2\n",
    "# Write a script that asks the user for their first name\n",
    "# and responds with a personalized message\n",
    "# using the genderize API\n",
    "# https://api.genderize.io/?name=YOUR_NAME\n",
    "\n",
    "user_name = input(\"Please enter your first name: \")\n",
    "data = get_data(user_name,\"https://api.genderize.io/?name=\")\n",
    "\n",
    "if data:\n",
    "    estimated_gender = data['gender']\n",
    "    proba = data['probability'] * 100\n",
    "    print(f\"With the name {user_name}, the probability of being {estimated_gender} is {proba}%\")\n",
    "else:\n",
    "    print(\"Fail\")\n"
   ]
  },
  {
   "cell_type": "code",
   "execution_count": 15,
   "metadata": {},
   "outputs": [],
   "source": [
    "# Exercise 3\n",
    "# Write a script that asks the user for their first name\n",
    "# and responds with a personalized message\n",
    "# using the nationalize API\n",
    "# https://api.nationalize.io/?name=YOUR_NAME\n",
    "\n",
    "user_name = input(\"Please enter your first name: \")\n",
    "data = get_data(user_name, \"https://api.nationalize.io/?name=\")\n",
    "\n",
    "if data and 'country' in data:\n",
    "    print(f\"Based on your name, {user_name}, here are your top estimated nationalities and their probabilities:\")\n",
    "    for country in data['country']:\n",
    "        country_id = country['country_id']\n",
    "        proba = country['probability'] * 100\n",
    "        print(f\"{country_id}: {proba:.2f}%\")\n",
    "else:\n",
    "    print(\"Failed to fetch estimated nationality data.\")\n"
   ]
  },
  {
   "cell_type": "code",
   "execution_count": 16,
   "metadata": {},
   "outputs": [],
   "source": [
    "# Exercise 3.1\n",
    "# Parsing the response from the nationalize API\n",
    "# Get the most probable country and its percentage\n",
    "# Example response: {\"name\":\"YOUR_NAME\",\"country\":[{\"country_id\":\"FR\",\"probability\":0.75},{\"country_id\":\"BE\",\"probability\":0.25}]}\n",
    "# Hint: use the max() function with a lambda function\n",
    "# https://docs.python.org/3/library/functions.html#max\n",
    "# https://docs.python.org/3/tutorial/controlflow.html#lambda-expressions\n",
    "\n",
    "user_name = input(\"Please enter your first name: \")\n",
    "data = get_data(user_name, \"https://api.nationalize.io/?name=\")\n",
    "\n",
    "if data and 'country' in data and data['country']:\n",
    "    most_probable = max(data['country'], key=lambda country: country['probability'])\n",
    "    country_id = most_probable['country_id']\n",
    "    proba = most_probable['probability'] * 100\n",
    "    print(f\"Based on your name, {user_name}, the most probable nationality is {country_id} with a probability of {proba:.2f}%.\")\n",
    "else:\n",
    "    print(\"Failed to fetch estimated nationality data or no data available.\")\n",
    "\n"
   ]
  },
  {
   "cell_type": "code",
   "execution_count": 17,
   "metadata": {},
   "outputs": [],
   "source": [
    "# Exercise 4\n",
    "# Use BoredAPI : https://www.boredapi.com/\n",
    "# Documentation : https://www.boredapi.com/documentation\n",
    "\n",
    "# 1. Write a script that generates random activities\n",
    "response = requests.get(\"https://www.boredapi.com/api/activity\")\n",
    "if response.status_code == 200:\n",
    "  if response.json():\n",
    "      print(f\"Q1. Activity: {response.json()['activity']}\")\n",
    "  else:\n",
    "      print(\"Q1. Failed to fetch activity.\")\n",
    "\n",
    "\n",
    "# 3. Write a script that generates random activities for 4 participants\n",
    "response = requests.get(f\"https://www.boredapi.com/api/activity?participants=4\")\n",
    "if response.status_code == 200:\n",
    "  if response.json():\n",
    "      print(f\"Q3. Activity for 4 participants: {response.json()['activity']}\")\n",
    "  else:\n",
    "      print(\"Q3. Failed to fetch activity.\")\n",
    "\n",
    "\n",
    "# 4. Write a script that generates random activities for 4 participants and of type \"recreational\"\n",
    "\n",
    "response = requests.get(f\"https://www.boredapi.com/api/activity?participants=4&type=recreational\")\n",
    "if response.status_code == 200:\n",
    "  if response.json():\n",
    "      print(f\"Q4. Recreational activity for 4 participants: {response.json()['activity']}\")\n",
    "  else:\n",
    "      print(\"Q4. Failed to fetch activity.\")\n",
    "\n",
    "\n",
    "# 5. Write a script that generates random activities for 2 participants and that does not require equipment\n",
    "response = requests.get(f\"https://www.boredapi.com/api/activity?participants=2\")\n",
    "if response.status_code == 200:\n",
    "  if response.json():\n",
    "      print(f\"Q5. Activity for 2 participants: {response.json()['activity']}\")\n",
    "  else:\n",
    "      print(\"Q5. Failed to fetch activity.\")\n"
   ]
  },
  {
   "cell_type": "markdown",
   "metadata": {},
   "source": [
    "## Intermediate exercises"
   ]
  },
  {
   "cell_type": "code",
   "execution_count": 18,
   "metadata": {},
   "outputs": [],
   "source": [
    "# OpenDomesday\n",
    "# https://opendomesday.org/api/\n",
    "\n",
    "# Exercise 1\n",
    "# Write a script that displays all the counties  \n",
    "# using the OpenDomesday API.\n",
    "\n",
    "response = requests.get(\"https://opendomesday.org/api/1.0/county/\")\n",
    "if response.status_code == 200:\n",
    "  if response.json():\n",
    "      print(\"Counties from OpenDomesday:\")\n",
    "      for county in response.json():\n",
    "          print(county['name'])  \n",
    "  else :\n",
    "      print(\"Failed to fetch counties.\")\n"
   ]
  },
  {
   "cell_type": "code",
   "execution_count": 19,
   "metadata": {},
   "outputs": [],
   "source": [
    "# Exercise 2\n",
    "# Write a script that displays the information\n",
    "# of the county \"Derbyshire\".\n",
    "\n",
    "if response.status_code == 200:\n",
    "    counties = response.json()\n",
    "    for county in counties:\n",
    "        if \"Derbyshire\".lower() == county.get('name', '').lower():\n",
    "            if county:\n",
    "                print(county)\n",
    "            else:\n",
    "                print(f\"Failed to fetch information.\")\n"
   ]
  },
  {
   "cell_type": "code",
   "execution_count": 20,
   "metadata": {},
   "outputs": [],
   "source": [
    "# Exercise 3\n",
    "# Now that we have the ids for all the places in Derbyshire, we can load all their details...\n",
    "# And from their details, we can list all the details of their manors.\n",
    "# Go fetch the data!\n",
    "# P.S.: remember to save the data to avoid downloading it every time\n",
    "\n",
    "places_cache = {}\n",
    "response = requests.get(\"https://opendomesday.org/api/1.0/county/dby/\")\n",
    "\n",
    "if response.status_code == 200:\n",
    "    derbyshire_places = response.json()['places_in_county']  \n",
    "\n",
    "    for place in derbyshire_places:\n",
    "        place_id = place['id']\n",
    "        \n",
    "        if place_id not in places_cache:\n",
    "            place_response = requests.get(f\"https://opendomesday.org/api/1.0/place/{place_id}\")\n",
    "            if place_response.status_code == 200:\n",
    "                place_details = place_response.json()\n",
    "                places_cache[place_id] = place_details\n",
    "            else:\n",
    "                print(f\"Failed to fetch details for place ID: {place_id}\")\n",
    "                continue\n",
    "        else:\n",
    "            place_details = places_cache[place_id]\n",
    "\n",
    "        if 'manors' in place_details:\n",
    "            for manor in place_details['manors']:\n",
    "                print(f\"Manor details: {manor}\")\n",
    "else:\n",
    "    print(\"Failed to fetch places for Derbyshire.\")\n"
   ]
  },
  {
   "cell_type": "code",
   "execution_count": 21,
   "metadata": {},
   "outputs": [],
   "source": [
    "# Exercise 4\n",
    "# Now that we have a quantity of raw data, we will extract the interesting parts.  \n",
    "# In our case, we want to count the money paid by each manor and compare it to the number of ploughs it has.  \n",
    "# - Can you find the corresponding json fields?  \n",
    "# - Then, you can list these numbers for each manor in Derbyshire.  \n",
    "# - And format this in an appropriate comma-separated values (CSV) file.\n",
    "\n",
    "import csv\n",
    "\n",
    "csv_file = 'manors_data.csv'\n",
    "\n",
    "if places_cache:\n",
    "    first_manor = next(iter(places_cache.values()))\n",
    "    headers = list(first_manor.keys())\n",
    "\n",
    "    with open(csv_file, mode='w', newline='') as file:\n",
    "        writer = csv.DictWriter(file, fieldnames=headers)\n",
    "\n",
    "        writer.writeheader()\n",
    "\n",
    "        for manor_details in places_cache.values():\n",
    "            writer.writerow(manor_details)\n",
    "\n",
    "    print(\"CSV file has been created with dynamic headers.\")\n",
    "else:\n",
    "    print(\"No data available to write.\")\n"
   ]
  },
  {
   "cell_type": "code",
   "execution_count": 22,
   "metadata": {},
   "outputs": [],
   "source": [
    "# Exercise 5\n",
    "# What is the richest manor in Derbyshire?\n",
    "\n",
    "#######################################################\n",
    "################## YOUR ANSWER HERE ##################\n",
    "#######################################################\n"
   ]
  },
  {
   "cell_type": "code",
   "execution_count": 23,
   "metadata": {},
   "outputs": [],
   "source": [
    "# Exercise 6\n",
    "# Give the total value paid by Derbyshire.\n",
    "\n",
    "#######################################################\n",
    "################## YOUR ANSWER HERE ##################\n",
    "#######################################################\n"
   ]
  },
  {
   "cell_type": "code",
   "execution_count": 24,
   "metadata": {},
   "outputs": [],
   "source": [
    "# Exercise 7\n",
    "# Create a Python class.  \n",
    "# It must include all the previous functionalities.  \n",
    "# Refactor your code to make it readable, efficient, and maintainable.\n",
    "\n",
    "#######################################################\n",
    "################## YOUR ANSWER HERE ##################\n",
    "#######################################################\n"
   ]
  },
  {
   "cell_type": "code",
   "execution_count": 25,
   "metadata": {},
   "outputs": [],
   "source": [
    "# Exercise 8 (optional)\n",
    "# Add to your class a system for error handling.  \n",
    "# It must manage the following errors:  \n",
    "# - Connection error  \n",
    "# - Parsing error  \n",
    "# - Request error  \n",
    "# - Response error  \n",
    "# - Parameter error\n",
    "\n",
    "#######################################################\n",
    "################## YOUR ANSWER HERE ##################\n",
    "#######################################################\n",
    "\n"
   ]
  }
 ],
 "metadata": {
  "kernelspec": {
   "display_name": "api",
   "language": "python",
   "name": "python3"
  },
  "language_info": {
   "codemirror_mode": {
    "name": "ipython",
    "version": 3
   },
   "file_extension": ".py",
   "mimetype": "text/x-python",
   "name": "python",
   "nbconvert_exporter": "python",
   "pygments_lexer": "ipython3",
   "version": "3.11.5"
  }
 },
 "nbformat": 4,
 "nbformat_minor": 2
}

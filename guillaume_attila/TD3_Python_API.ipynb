{
  "cells": [
    {
      "cell_type": "markdown",
      "metadata": {
        "id": "AskXV1lMxdXF"
      },
      "source": [
        "# Python with APIs\n",
        "Exchanges via HTTP using `requests` package"
      ]
    },
    {
      "cell_type": "code",
      "execution_count": 106,
      "metadata": {
        "id": "Hkzu6wgwxdXG"
      },
      "outputs": [],
      "source": [
        "import requests"
      ]
    },
    {
      "cell_type": "markdown",
      "metadata": {
        "id": "uycBAmK3xdXH"
      },
      "source": [
        "## Example"
      ]
    },
    {
      "cell_type": "markdown",
      "metadata": {
        "id": "fsDLoZAYxdXH"
      },
      "source": [
        "### Agify API"
      ]
    },
    {
      "cell_type": "markdown",
      "metadata": {
        "id": "VF16c9ZxxdXH"
      },
      "source": [
        "Example route for Agify API"
      ]
    },
    {
      "cell_type": "code",
      "execution_count": 107,
      "metadata": {
        "id": "YG1snEGQxdXH"
      },
      "outputs": [],
      "source": [
        "agify_dan = \"https://api.agify.io/?name=dan\""
      ]
    },
    {
      "cell_type": "markdown",
      "metadata": {
        "id": "EfHN3nGtxdXH"
      },
      "source": [
        "Extract response"
      ]
    },
    {
      "cell_type": "code",
      "execution_count": 108,
      "metadata": {
        "colab": {
          "base_uri": "https://localhost:8080/"
        },
        "id": "0ZZv_aW8xdXH",
        "outputId": "7e8e75f5-02e7-48e2-f556-696b0e58e213"
      },
      "outputs": [
        {
          "name": "stdout",
          "output_type": "stream",
          "text": [
            "Answer status_code: <Response [200]>\n",
            "<class 'str'>\n",
            "<class 'dict'>\n",
            "{\"count\":67782,\"name\":\"dan\",\"age\":66}\n",
            "{'count': 67782, 'name': 'dan', 'age': 66}\n"
          ]
        }
      ],
      "source": [
        "# Run a GET request\n",
        "agify_answer = requests.get(agify_dan)\n",
        "agify_answer_txt = agify_answer.text\n",
        "agify_answer_json = agify_answer.json()\n",
        "\n",
        "print(f\"Answer status_code: {agify_answer}\")\n",
        "\n",
        "print(type(agify_answer_txt))\n",
        "print(type(agify_answer_json))\n",
        "\n",
        "print(agify_answer_txt)\n",
        "print(agify_answer_json)"
      ]
    },
    {
      "cell_type": "markdown",
      "metadata": {
        "id": "8WcxAOaixdXH"
      },
      "source": [
        "## Introductory Exercises"
      ]
    },
    {
      "cell_type": "code",
      "execution_count": 109,
      "metadata": {
        "colab": {
          "base_uri": "https://localhost:8080/"
        },
        "id": "7fIydfd8xdXH",
        "outputId": "ccc10a6b-fd3b-48af-d8d7-0ef834862a9b"
      },
      "outputs": [
        {
          "name": "stdout",
          "output_type": "stream",
          "text": [
            "Please enter your first name: guillaume\n",
            "Your name is  guillaume , your age is  43\n"
          ]
        }
      ],
      "source": [
        "# Exercise 1\n",
        "# Write a script that asks the user for their first name\n",
        "# and responds with a personalized message\n",
        "# using the agify API\n",
        "\n",
        "# https://api.agify.io/?name=YOUR_NAME\n",
        "# Example response: {\"name\":\"YOUR_NAME\",\"age\":30,\"count\":12345}\n",
        "\n",
        "def get_data(name,api):\n",
        "    response = requests.get(f\"{api},{name}\")\n",
        "    if response.status_code == 200:\n",
        "        return response.json()\n",
        "    else:\n",
        "        return None\n",
        "\n",
        "user_name = input(\"Please enter your first name: \")\n",
        "data = get_data(user_name,\"https://api.agify.io/?name=\")\n",
        "\n",
        "if data:\n",
        "    estimated_age = data['age']\n",
        "    count = data['count']\n",
        "    print(\"Your name is \",user_name,\", your age is \",estimated_age)\n",
        "else:\n",
        "    print(\"Fail\")\n"
      ]
    },
    {
      "cell_type": "code",
      "execution_count": 110,
      "metadata": {
        "colab": {
          "base_uri": "https://localhost:8080/"
        },
        "id": "8k1X9yUFxdXI",
        "outputId": "35367b01-2dcd-4531-f145-7ba3eb338db3"
      },
      "outputs": [
        {
          "name": "stdout",
          "output_type": "stream",
          "text": [
            "Please enter your first name: guillaume\n",
            "With the name guillaume, the probability of being male is 100.0%\n"
          ]
        }
      ],
      "source": [
        "# Exercise 2\n",
        "# Write a script that asks the user for their first name\n",
        "# and responds with a personalized message\n",
        "# using the genderize API\n",
        "# https://api.genderize.io/?name=YOUR_NAME\n",
        "\n",
        "\n",
        "user_name = input(\"Please enter your first name: \")\n",
        "data = get_data(user_name,\"https://api.genderize.io/?name=\")\n",
        "\n",
        "if data:\n",
        "    estimated_gender = data['gender']\n",
        "    proba = data['probability'] * 100\n",
        "    print(f\"With the name {user_name}, the probability of being {estimated_gender} is {proba}%\")\n",
        "else:\n",
        "    print(\"Fail\")\n"
      ]
    },
    {
      "cell_type": "code",
      "execution_count": 111,
      "metadata": {
        "colab": {
          "base_uri": "https://localhost:8080/"
        },
        "id": "6CeaW6SRxdXI",
        "outputId": "6b0dda77-0727-41d1-e920-51b5d5995cfb"
      },
      "outputs": [
        {
          "name": "stdout",
          "output_type": "stream",
          "text": [
            "Please enter your first name: guillaume\n",
            "Based on your name, guillaume, here are your top estimated nationalities and their probabilities:\n",
            "FR: 21.99%\n",
            "BE: 17.03%\n",
            "HT: 9.91%\n",
            "CI: 7.24%\n",
            "CH: 4.89%\n"
          ]
        }
      ],
      "source": [
        "# Exercise 3\n",
        "# Write a script that asks the user for their first name\n",
        "# and responds with a personalized message\n",
        "# using the nationalize API\n",
        "# https://api.nationalize.io/?name=YOUR_NAME\n",
        "\n",
        "user_name = input(\"Please enter your first name: \")\n",
        "data = get_data(user_name, \"https://api.nationalize.io/?name=\")\n",
        "\n",
        "if data and 'country' in data:\n",
        "    print(f\"Based on your name, {user_name}, here are your top estimated nationalities and their probabilities:\")\n",
        "    for country in data['country']:\n",
        "        country_id = country['country_id']\n",
        "        proba = country['probability'] * 100\n",
        "        print(f\"{country_id}: {proba:.2f}%\")\n",
        "else:\n",
        "    print(\"Failed to fetch estimated nationality data.\")"
      ]
    },
    {
      "cell_type": "code",
      "execution_count": 112,
      "metadata": {
        "colab": {
          "base_uri": "https://localhost:8080/"
        },
        "id": "GNBxeVNbxdXI",
        "outputId": "3fa4d2eb-6d55-4887-f8fc-ce07eb7fd91f"
      },
      "outputs": [
        {
          "name": "stdout",
          "output_type": "stream",
          "text": [
            "Please enter your first name: guillaume\n",
            "Based on your name, guillaume, the most probable nationality is FR with a probability of 21.99%.\n"
          ]
        }
      ],
      "source": [
        "# Exercise 3.1\n",
        "# Parsing the response from the nationalize API\n",
        "# Get the most probable country and its percentage\n",
        "# Example response: {\"name\":\"YOUR_NAME\",\"country\":[{\"country_id\":\"FR\",\"probability\":0.75},{\"country_id\":\"BE\",\"probability\":0.25}]}\n",
        "# Hint: use the max() function with a lambda function\n",
        "# https://docs.python.org/3/library/functions.html#max\n",
        "# https://docs.python.org/3/tutorial/controlflow.html#lambda-expressions\n",
        "\n",
        "def get_data(name,api):\n",
        "    response = requests.get(f\"{api},{name}\")\n",
        "    if response.status_code == 200:\n",
        "        return response.json()\n",
        "    else:\n",
        "        return None\n",
        "\n",
        "user_name = input(\"Please enter your first name: \")\n",
        "data = get_data(user_name, \"https://api.nationalize.io/?name=\")\n",
        "\n",
        "if data and 'country' in data and data['country']:\n",
        "    most_probable = max(data['country'], key=lambda country: country['probability'])\n",
        "    country_id = most_probable['country_id']\n",
        "    proba = most_probable['probability'] * 100\n",
        "    print(f\"Based on your name, {user_name}, the most probable nationality is {country_id} with a probability of {proba:.2f}%.\")\n",
        "else:\n",
        "    print(\"Failed to fetch estimated nationality data or no data available.\")\n",
        "\n"
      ]
    },
    {
      "cell_type": "code",
      "execution_count": 113,
      "metadata": {
        "colab": {
          "base_uri": "https://localhost:8080/"
        },
        "id": "QuJtyuVzxdXI",
        "outputId": "b04da8b9-8013-46f0-c4b9-27ab08866722"
      },
      "outputs": [
        {
          "name": "stdout",
          "output_type": "stream",
          "text": [
            "Q1. Activity: Visit a nearby museum\n",
            "Q3. Activity for 4 participants: Take a spontaneous road trip with some friends\n",
            "Q4. Recreational activity for 4 participants: Go see a Broadway production\n",
            "Q5. Activity for 2 participants: Go swimming with a friend\n"
          ]
        }
      ],
      "source": [
        "# Exercise 4\n",
        "# Use BoredAPI : https://www.boredapi.com/\n",
        "# Documentation : https://www.boredapi.com/documentation\n",
        "\n",
        "# 1. Write a script that generates random activities\n",
        "response = requests.get(\"https://www.boredapi.com/api/activity\")\n",
        "if response.status_code == 200:\n",
        "  if response.json():\n",
        "      print(f\"Q1. Activity: {response.json()['activity']}\")\n",
        "  else:\n",
        "      print(\"Q1. Failed to fetch activity.\")\n",
        "\n",
        "\n",
        "# 3. Write a script that generates random activities for 4 participants\n",
        "response = requests.get(f\"https://www.boredapi.com/api/activity?participants=4\")\n",
        "if response.status_code == 200:\n",
        "  if response.json():\n",
        "      print(f\"Q3. Activity for 4 participants: {response.json()['activity']}\")\n",
        "  else:\n",
        "      print(\"Q3. Failed to fetch activity.\")\n",
        "\n",
        "\n",
        "# 4. Write a script that generates random activities for 4 participants and of type \"recreational\"\n",
        "\n",
        "response = requests.get(f\"https://www.boredapi.com/api/activity?participants=4&type=recreational\")\n",
        "if response.status_code == 200:\n",
        "  if response.json():\n",
        "      print(f\"Q4. Recreational activity for 4 participants: {response.json()['activity']}\")\n",
        "  else:\n",
        "      print(\"Q4. Failed to fetch activity.\")\n",
        "\n",
        "\n",
        "# 5. Write a script that generates random activities for 2 participants and that does not require equipment\n",
        "response = requests.get(f\"https://www.boredapi.com/api/activity?participants=2\")\n",
        "if response.status_code == 200:\n",
        "  if response.json():\n",
        "      print(f\"Q5. Activity for 2 participants: {response.json()['activity']}\")\n",
        "  else:\n",
        "      print(\"Q5. Failed to fetch activity.\")\n",
        "\n"
      ]
    },
    {
      "cell_type": "markdown",
      "metadata": {
        "id": "JzfWZlZ6xdXJ"
      },
      "source": [
        "## Intermediate exercises"
      ]
    },
    {
      "cell_type": "code",
      "execution_count": 114,
      "metadata": {
        "colab": {
          "base_uri": "https://localhost:8080/"
        },
        "id": "N80nYa89xdXJ",
        "outputId": "c2d2cbb7-a0dc-44e3-8749-a8b14205efe6"
      },
      "outputs": [
        {
          "name": "stdout",
          "output_type": "stream",
          "text": [
            "Counties from OpenDomesday:\n",
            "Kent\n",
            "Sussex\n",
            "Surrey\n",
            "Hampshire\n",
            "Berkshire\n",
            "Wiltshire\n",
            "Dorset\n",
            "Somerset\n",
            "Devon\n",
            "Cornwall\n",
            "Middlesex\n",
            "Hertfordshire\n",
            "Buckinghamshire\n",
            "Gloucestershire\n",
            "Oxfordshire\n",
            "Worcestershire\n",
            "Herefordshire\n",
            "Cambridgeshire\n",
            "Huntingdonshire\n",
            "Bedfordshire\n",
            "Northamptonshire\n",
            "Leicestershire\n",
            "Warwickshire\n",
            "Staffordshire\n",
            "Shropshire\n",
            "Cheshire\n",
            "Derbyshire\n",
            "Nottinghamshire\n",
            "Rutland\n",
            "Yorkshire\n",
            "Lincolnshire\n",
            "Claims: YB\n",
            "Claims: YC\n",
            "Claims: LC\n",
            "Claims: HC\n",
            "Claims: YS\n",
            "Essex\n",
            "Norfolk\n",
            "Suffolk\n",
            "Lancashire\n"
          ]
        }
      ],
      "source": [
        "# OpenDomesday\n",
        "# https://opendomesday.org/api/\n",
        "\n",
        "# Exercise 1\n",
        "# Write a script that displays all the counties\n",
        "# using the OpenDomesday API.\n",
        "\n",
        "response = requests.get(\"https://opendomesday.org/api/1.0/county/\")\n",
        "if response.status_code == 200:\n",
        "  if response.json():\n",
        "      print(\"Counties from OpenDomesday:\")\n",
        "      for county in response.json():\n",
        "          print(county['name'])\n",
        "  else :\n",
        "      print(\"Failed to fetch counties.\")"
      ]
    },
    {
      "cell_type": "code",
      "execution_count": 115,
      "metadata": {
        "colab": {
          "base_uri": "https://localhost:8080/"
        },
        "id": "DoMnhfFSxdXJ",
        "outputId": "f47710d2-a653-4bb4-9324-bbc5419739c5"
      },
      "outputs": [
        {
          "name": "stdout",
          "output_type": "stream",
          "text": [
            "{'id': 'dby', 'name': 'Derbyshire', 'name_slug': 'derbyshire', 'places_in_county': [{'id': 1036}, {'id': 2558}, {'id': 3016}, {'id': 4791}, {'id': 6093}, {'id': 8701}, {'id': 8951}, {'id': 9101}, {'id': 11441}, {'id': 10771}, {'id': 16116}, {'id': 20861}, {'id': 22251}, {'id': 22571}, {'id': 22611}, {'id': 24741}, {'id': 25536}, {'id': 19061}, {'id': 30246}, {'id': 31896}, {'id': 32521}, {'id': 32981}, {'id': 33916}, {'id': 41346}, {'id': 41788}, {'id': 41801}, {'id': 45821}, {'id': 47401}, {'id': 47411}, {'id': 52361}, {'id': 52596}, {'id': 53901}, {'id': 54446}, {'id': 54646}, {'id': 55736}, {'id': 56786}, {'id': 57061}, {'id': 60236}, {'id': 60351}, {'id': 60816}, {'id': 63606}, {'id': 65368}, {'id': 73221}, {'id': 73731}, {'id': 73741}, {'id': 91}, {'id': 2623}, {'id': 3011}, {'id': 3941}, {'id': 4046}, {'id': 5016}, {'id': 5676}, {'id': 7111}, {'id': 7116}, {'id': 7451}, {'id': 9056}, {'id': 10981}, {'id': 11656}, {'id': 11941}, {'id': 12751}, {'id': 13401}, {'id': 14081}, {'id': 14306}, {'id': 15306}, {'id': 15451}, {'id': 17386}, {'id': 17811}, {'id': 19611}, {'id': 22436}, {'id': 22476}, {'id': 24011}, {'id': 24306}, {'id': 25081}, {'id': 27521}, {'id': 33816}, {'id': 40056}, {'id': 28311}, {'id': 29846}, {'id': 30061}, {'id': 30211}, {'id': 30536}, {'id': 30571}, {'id': 20391}, {'id': 32571}, {'id': 33016}, {'id': 36211}, {'id': 37586}, {'id': 40057}, {'id': 39661}, {'id': 39956}, {'id': 40466}, {'id': 42799}, {'id': 43751}, {'id': 44321}, {'id': 28296}, {'id': 34241}, {'id': 46861}, {'id': 26971}, {'id': 2366}, {'id': 48026}, {'id': 49236}, {'id': 50311}, {'id': 52766}, {'id': 52791}, {'id': 55006}, {'id': 55131}, {'id': 58231}, {'id': 59051}, {'id': 42936}, {'id': 61396}, {'id': 62566}, {'id': 63721}, {'id': 67724}, {'id': 69701}, {'id': 72781}, {'id': 73841}, {'id': 14941}, {'id': 20691}, {'id': 39371}, {'id': 42171}, {'id': 54526}, {'id': 46681}, {'id': 51241}, {'id': 64663}, {'id': 70526}, {'id': 1326}, {'id': 2401}, {'id': 3291}, {'id': 4001}, {'id': 8116}, {'id': 8831}, {'id': 9461}, {'id': 10196}, {'id': 12706}, {'id': 13281}, {'id': 22243}, {'id': 18184}, {'id': 18736}, {'id': 23231}, {'id': 6141}, {'id': 29236}, {'id': 29861}, {'id': 32336}, {'id': 33086}, {'id': 34446}, {'id': 35221}, {'id': 35041}, {'id': 37056}, {'id': 38231}, {'id': 40456}, {'id': 41344}, {'id': 42041}, {'id': 42046}, {'id': 42797}, {'id': 45553}, {'id': 46851}, {'id': 48266}, {'id': 49221}, {'id': 55881}, {'id': 56826}, {'id': 56941}, {'id': 61526}, {'id': 62731}, {'id': 63966}, {'id': 66911}, {'id': 68251}, {'id': 68481}, {'id': 68546}, {'id': 71226}, {'id': 71466}, {'id': 1136}, {'id': 1456}, {'id': 1596}, {'id': 2106}, {'id': 3163}, {'id': 4646}, {'id': 5396}, {'id': 8456}, {'id': 11731}, {'id': 14476}, {'id': 18001}, {'id': 19416}, {'id': 22741}, {'id': 23256}, {'id': 23731}, {'id': 24921}, {'id': 35046}, {'id': 35311}, {'id': 37656}, {'id': 39466}, {'id': 39566}, {'id': 40901}, {'id': 41658}, {'id': 42536}, {'id': 42741}, {'id': 44361}, {'id': 45893}, {'id': 47416}, {'id': 49901}, {'id': 50661}, {'id': 50806}, {'id': 54966}, {'id': 56216}, {'id': 58701}, {'id': 61046}, {'id': 63391}, {'id': 65696}, {'id': 69008}, {'id': 69081}, {'id': 70641}, {'id': 8956}, {'id': 9586}, {'id': 9611}, {'id': 13741}, {'id': 13806}, {'id': 16581}, {'id': 18621}, {'id': 19941}, {'id': 20101}, {'id': 21051}, {'id': 21326}, {'id': 28556}, {'id': 30666}, {'id': 31306}, {'id': 32361}, {'id': 33141}, {'id': 33376}, {'id': 34646}, {'id': 35946}, {'id': 37591}, {'id': 14686}, {'id': 22266}, {'id': 28563}, {'id': 22271}, {'id': 41006}, {'id': 41521}, {'id': 43091}, {'id': 43991}, {'id': 46746}, {'id': 48806}, {'id': 51961}, {'id': 52096}, {'id': 53806}, {'id': 53996}, {'id': 55576}, {'id': 55956}, {'id': 56606}, {'id': 56696}, {'id': 57526}, {'id': 58046}, {'id': 58196}, {'id': 66498}, {'id': 16166}, {'id': 18951}, {'id': 22546}, {'id': 58356}, {'id': 71196}, {'id': 986}, {'id': 2711}, {'id': 4311}, {'id': 4369}, {'id': 5791}, {'id': 7651}, {'id': 8016}, {'id': 8721}, {'id': 9218}, {'id': 10026}, {'id': 12721}, {'id': 14691}, {'id': 16356}, {'id': 3106}, {'id': 20756}, {'id': 21276}, {'id': 21301}, {'id': 22406}, {'id': 22766}, {'id': 23121}, {'id': 23598}, {'id': 26856}, {'id': 4367}, {'id': 27776}, {'id': 29076}, {'id': 29411}, {'id': 32576}, {'id': 32686}, {'id': 35996}, {'id': 40296}, {'id': 29071}, {'id': 44051}, {'id': 44161}, {'id': 49241}, {'id': 45036}, {'id': 45366}, {'id': 71096}, {'id': 46101}, {'id': 46946}, {'id': 9288}, {'id': 65551}, {'id': 69858}, {'id': 47811}, {'id': 48031}, {'id': 48116}, {'id': 51193}, {'id': 52801}, {'id': 54166}, {'id': 55731}, {'id': 45936}, {'id': 71101}, {'id': 57756}, {'id': 58531}, {'id': 33646}, {'id': 60001}, {'id': 60836}, {'id': 61561}, {'id': 45941}, {'id': 63656}, {'id': 64516}, {'id': 65483}, {'id': 65938}, {'id': 66136}, {'id': 66256}, {'id': 66576}, {'id': 67036}, {'id': 68591}, {'id': 69901}, {'id': 70561}, {'id': 71081}, {'id': 52156}, {'id': 1906}, {'id': 8081}, {'id': 9741}, {'id': 12676}, {'id': 13531}, {'id': 17906}, {'id': 21011}, {'id': 25441}, {'id': 29931}, {'id': 30696}, {'id': 34821}, {'id': 40511}, {'id': 42251}, {'id': 43196}, {'id': 45656}, {'id': 51576}, {'id': 52566}, {'id': 56681}, {'id': 58171}, {'id': 58191}, {'id': 60031}, {'id': 60896}, {'id': 63696}, {'id': 67171}]}\n"
          ]
        }
      ],
      "source": [
        "# Exercise 2\n",
        "# Write a script that displays the information\n",
        "# of the county \"Derbyshire\".\n",
        "\n",
        "if response.status_code == 200:\n",
        "    counties = response.json()\n",
        "    for county in counties:\n",
        "        if \"Derbyshire\".lower() == county.get('name', '').lower():\n",
        "            if county:\n",
        "                print(county)\n",
        "            else:\n",
        "                print(f\"Failed to fetch information.\")"
      ]
    },
    {
      "cell_type": "code",
      "execution_count": 116,
      "metadata": {
        "colab": {
          "base_uri": "https://localhost:8080/"
        },
        "id": "Zz4OB5PXxdXJ",
        "outputId": "07ba6d90-5ea2-4609-b0d4-32b839f4f772"
      },
      "outputs": [
        {
          "name": "stdout",
          "output_type": "stream",
          "text": [
            "Details of Derbyshire have been saved.\n"
          ]
        }
      ],
      "source": [
        "# Exercise 3\n",
        "# Now that we have the ids for all the places in Derbyshire, we can load all their details...\n",
        "# And from their details, we can list all the details of their manors.\n",
        "# Go fetch the data!\n",
        "# P.S.: remember to save the data to avoid downloading it every time\n",
        "\n",
        "import json\n",
        "\n",
        "def save_details(name_county):\n",
        "    url1 = \"https://opendomesday.org/api/1.0/county\"\n",
        "    url2 = \"https://opendomesday.org/api/1.0/place\"\n",
        "    params = {'name': name_county}\n",
        "\n",
        "    try:\n",
        "\n",
        "        reponse_comte = requests.get(url1, params=params)\n",
        "        reponse_comte.raise_for_status()\n",
        "        data_comte = reponse_comte.json()\n",
        "\n",
        "\n",
        "        for county in data_comte:\n",
        "            if county['name'].lower() == name_county.lower():\n",
        "                details_lieux = []\n",
        "\n",
        "\n",
        "                for lieu in county['places_in_county']:\n",
        "                    reponse_lieu = requests.get(f\"{url2}/{lieu['id']}\")\n",
        "                    reponse_lieu.raise_for_status()\n",
        "                    details_lieux.append(reponse_lieu.json())\n",
        "\n",
        "\n",
        "                with open(f'manors_{name_county}.json', 'w', encoding='utf-8') as fichier:\n",
        "                    json.dump(details_lieux, fichier, ensure_ascii=False, indent=4)\n",
        "\n",
        "                print(f\"Details of {name_county} have been saved.\")\n",
        "                break\n",
        "\n",
        "    except requests.RequestException as e:\n",
        "        print(f\"Something wrong happened : {e}\")\n",
        "\n",
        "save_details(\"Derbyshire\")"
      ]
    },
    {
      "cell_type": "code",
      "execution_count": 117,
      "metadata": {
        "colab": {
          "base_uri": "https://localhost:8080/"
        },
        "id": "utFx2or4xdXJ",
        "outputId": "f628af66-62ac-48b7-bdd0-9df2a97d1b70"
      },
      "outputs": [
        {
          "name": "stdout",
          "output_type": "stream",
          "text": [
            "Details fetched to manors_data.csv.\n"
          ]
        }
      ],
      "source": [
        "# Exercise 4\n",
        "# Now that we have a quantity of raw data, we will extract the interesting parts.\n",
        "# In our case, we want to count the money paid by each manor and compare it to the number of ploughs it has.\n",
        "# - Can you find the corresponding json fields?\n",
        "# - Then, you can list these numbers for each manor in Derbyshire.\n",
        "# - And format this in an appropriate comma-separated values (CSV) file.\n",
        "\n",
        "import csv\n",
        "\n",
        "csv_file = 'manors_Derbyshire.json'\n",
        "\n",
        "with open(csv_file, 'r', encoding='utf-8') as fichier:\n",
        "    lieux = json.load(fichier)\n",
        "    manor_ids = [manoir['id'] for lieu in lieux for manoir in lieu.get('manors', [])]\n",
        "\n",
        "filename = \"manors_data.csv\"\n",
        "\n",
        "with open(filename, mode='w', newline='', encoding='utf-8') as file:\n",
        "    writer = csv.writer(file)\n",
        "    writer.writerow([\"Manor ID\", \"Monetary Value in 1086\", \"Total Ploughs\"])\n",
        "\n",
        "    for manor_id in manor_ids:\n",
        "        url = f\"https://opendomesday.org/api/1.0/manor/{manor_id}/\"\n",
        "        response = requests.get(url)\n",
        "        if response.status_code == 200:\n",
        "            manor_data = response.json()\n",
        "            monetary_value = manor_data.get(\"value86\", \"Unknown\")\n",
        "            total_ploughs = manor_data.get(\"totalploughs\", \"Unknown\")\n",
        "            writer.writerow([manor_id, monetary_value, total_ploughs])\n",
        "        else:\n",
        "            print(f\"Failed to fetch data for manor ID {manor_id}\")\n",
        "\n",
        "print(f\"Details fetched to {filename}.\")"
      ]
    },
    {
      "cell_type": "code",
      "execution_count": 118,
      "metadata": {
        "colab": {
          "base_uri": "https://localhost:8080/"
        },
        "id": "x6nlLM22xdXJ",
        "outputId": "109355c8-a025-4721-fc5e-c50b88b5ad1d"
      },
      "outputs": [
        {
          "name": "stdout",
          "output_type": "stream",
          "text": [
            "The richest manor of Derbyshire is 12958 (value of 40.0)\n"
          ]
        }
      ],
      "source": [
        "# Exercise 5\n",
        "# What is the richest manor in Derbyshire?\n",
        "\n",
        "filename = \"manors_data.csv\"\n",
        "value = 0\n",
        "manor = None\n",
        "\n",
        "with open(filename, mode='r', encoding='utf-8') as csvfile:\n",
        "    reader = csv.DictReader(csvfile)\n",
        "    for row in reader:\n",
        "        try:\n",
        "            val = float(row[\"Monetary Value in 1086\"])\n",
        "            if val > value:\n",
        "                value = val\n",
        "                manor = row[\"Manor ID\"]\n",
        "        except ValueError:\n",
        "            continue\n",
        "\n",
        "print(f\"The richest manor of Derbyshire is {manor} (value of {value})\")"
      ]
    },
    {
      "cell_type": "code",
      "execution_count": 119,
      "metadata": {
        "colab": {
          "base_uri": "https://localhost:8080/"
        },
        "id": "BNqBrEKExdXK",
        "outputId": "45fab498-3cb2-4f98-f631-34b78b1fcdef"
      },
      "outputs": [
        {
          "name": "stdout",
          "output_type": "stream",
          "text": [
            "The total value paid by Derbyshire is 1098.6182999999996.\n"
          ]
        }
      ],
      "source": [
        "# Exercise 6\n",
        "# Give the total value paid by Derbyshire.\n",
        "\n",
        "filename = \"manors_data.csv\"\n",
        "total_value = 0\n",
        "\n",
        "with open(filename, mode='r', encoding='utf-8') as csvfile:\n",
        "    reader = csv.DictReader(csvfile)\n",
        "    for row in reader:\n",
        "        try:\n",
        "            value86 = float(row[\"Monetary Value in 1086\"])\n",
        "            total_value += value86\n",
        "        except ValueError:\n",
        "\n",
        "            continue\n",
        "\n",
        "print(f\"The total value paid by Derbyshire is {total_value}.\")\n"
      ]
    },
    {
      "cell_type": "code",
      "execution_count": 125,
      "metadata": {
        "colab": {
          "base_uri": "https://localhost:8080/"
        },
        "id": "UbkYXYaGxdXK",
        "outputId": "b7f594af-4513-4c02-bf0b-d3f186003df6"
      },
      "outputs": [
        {
          "name": "stdout",
          "output_type": "stream",
          "text": [
            "Counties from OpenDomesday:\n",
            "Kent\n",
            "Sussex\n",
            "Surrey\n",
            "Hampshire\n",
            "Berkshire\n",
            "Wiltshire\n",
            "Dorset\n",
            "Somerset\n",
            "Devon\n",
            "Cornwall\n",
            "Middlesex\n",
            "Hertfordshire\n",
            "Buckinghamshire\n",
            "Gloucestershire\n",
            "Oxfordshire\n",
            "Worcestershire\n",
            "Herefordshire\n",
            "Cambridgeshire\n",
            "Huntingdonshire\n",
            "Bedfordshire\n",
            "Northamptonshire\n",
            "Leicestershire\n",
            "Warwickshire\n",
            "Staffordshire\n",
            "Shropshire\n",
            "Cheshire\n",
            "Derbyshire\n",
            "Nottinghamshire\n",
            "Rutland\n",
            "Yorkshire\n",
            "Lincolnshire\n",
            "Claims: YB\n",
            "Claims: YC\n",
            "Claims: LC\n",
            "Claims: HC\n",
            "Claims: YS\n",
            "Essex\n",
            "Norfolk\n",
            "Suffolk\n",
            "Lancashire\n",
            "{'id': 'dby', 'name': 'Derbyshire', 'name_slug': 'derbyshire', 'places_in_county': [{'id': 1036}, {'id': 2558}, {'id': 3016}, {'id': 4791}, {'id': 6093}, {'id': 8701}, {'id': 8951}, {'id': 9101}, {'id': 11441}, {'id': 10771}, {'id': 16116}, {'id': 20861}, {'id': 22251}, {'id': 22571}, {'id': 22611}, {'id': 24741}, {'id': 25536}, {'id': 19061}, {'id': 30246}, {'id': 31896}, {'id': 32521}, {'id': 32981}, {'id': 33916}, {'id': 41346}, {'id': 41788}, {'id': 41801}, {'id': 45821}, {'id': 47401}, {'id': 47411}, {'id': 52361}, {'id': 52596}, {'id': 53901}, {'id': 54446}, {'id': 54646}, {'id': 55736}, {'id': 56786}, {'id': 57061}, {'id': 60236}, {'id': 60351}, {'id': 60816}, {'id': 63606}, {'id': 65368}, {'id': 73221}, {'id': 73731}, {'id': 73741}, {'id': 91}, {'id': 2623}, {'id': 3011}, {'id': 3941}, {'id': 4046}, {'id': 5016}, {'id': 5676}, {'id': 7111}, {'id': 7116}, {'id': 7451}, {'id': 9056}, {'id': 10981}, {'id': 11656}, {'id': 11941}, {'id': 12751}, {'id': 13401}, {'id': 14081}, {'id': 14306}, {'id': 15306}, {'id': 15451}, {'id': 17386}, {'id': 17811}, {'id': 19611}, {'id': 22436}, {'id': 22476}, {'id': 24011}, {'id': 24306}, {'id': 25081}, {'id': 27521}, {'id': 33816}, {'id': 40056}, {'id': 28311}, {'id': 29846}, {'id': 30061}, {'id': 30211}, {'id': 30536}, {'id': 30571}, {'id': 20391}, {'id': 32571}, {'id': 33016}, {'id': 36211}, {'id': 37586}, {'id': 40057}, {'id': 39661}, {'id': 39956}, {'id': 40466}, {'id': 42799}, {'id': 43751}, {'id': 44321}, {'id': 28296}, {'id': 34241}, {'id': 46861}, {'id': 26971}, {'id': 2366}, {'id': 48026}, {'id': 49236}, {'id': 50311}, {'id': 52766}, {'id': 52791}, {'id': 55006}, {'id': 55131}, {'id': 58231}, {'id': 59051}, {'id': 42936}, {'id': 61396}, {'id': 62566}, {'id': 63721}, {'id': 67724}, {'id': 69701}, {'id': 72781}, {'id': 73841}, {'id': 14941}, {'id': 20691}, {'id': 39371}, {'id': 42171}, {'id': 54526}, {'id': 46681}, {'id': 51241}, {'id': 64663}, {'id': 70526}, {'id': 1326}, {'id': 2401}, {'id': 3291}, {'id': 4001}, {'id': 8116}, {'id': 8831}, {'id': 9461}, {'id': 10196}, {'id': 12706}, {'id': 13281}, {'id': 22243}, {'id': 18184}, {'id': 18736}, {'id': 23231}, {'id': 6141}, {'id': 29236}, {'id': 29861}, {'id': 32336}, {'id': 33086}, {'id': 34446}, {'id': 35221}, {'id': 35041}, {'id': 37056}, {'id': 38231}, {'id': 40456}, {'id': 41344}, {'id': 42041}, {'id': 42046}, {'id': 42797}, {'id': 45553}, {'id': 46851}, {'id': 48266}, {'id': 49221}, {'id': 55881}, {'id': 56826}, {'id': 56941}, {'id': 61526}, {'id': 62731}, {'id': 63966}, {'id': 66911}, {'id': 68251}, {'id': 68481}, {'id': 68546}, {'id': 71226}, {'id': 71466}, {'id': 1136}, {'id': 1456}, {'id': 1596}, {'id': 2106}, {'id': 3163}, {'id': 4646}, {'id': 5396}, {'id': 8456}, {'id': 11731}, {'id': 14476}, {'id': 18001}, {'id': 19416}, {'id': 22741}, {'id': 23256}, {'id': 23731}, {'id': 24921}, {'id': 35046}, {'id': 35311}, {'id': 37656}, {'id': 39466}, {'id': 39566}, {'id': 40901}, {'id': 41658}, {'id': 42536}, {'id': 42741}, {'id': 44361}, {'id': 45893}, {'id': 47416}, {'id': 49901}, {'id': 50661}, {'id': 50806}, {'id': 54966}, {'id': 56216}, {'id': 58701}, {'id': 61046}, {'id': 63391}, {'id': 65696}, {'id': 69008}, {'id': 69081}, {'id': 70641}, {'id': 8956}, {'id': 9586}, {'id': 9611}, {'id': 13741}, {'id': 13806}, {'id': 16581}, {'id': 18621}, {'id': 19941}, {'id': 20101}, {'id': 21051}, {'id': 21326}, {'id': 28556}, {'id': 30666}, {'id': 31306}, {'id': 32361}, {'id': 33141}, {'id': 33376}, {'id': 34646}, {'id': 35946}, {'id': 37591}, {'id': 14686}, {'id': 22266}, {'id': 28563}, {'id': 22271}, {'id': 41006}, {'id': 41521}, {'id': 43091}, {'id': 43991}, {'id': 46746}, {'id': 48806}, {'id': 51961}, {'id': 52096}, {'id': 53806}, {'id': 53996}, {'id': 55576}, {'id': 55956}, {'id': 56606}, {'id': 56696}, {'id': 57526}, {'id': 58046}, {'id': 58196}, {'id': 66498}, {'id': 16166}, {'id': 18951}, {'id': 22546}, {'id': 58356}, {'id': 71196}, {'id': 986}, {'id': 2711}, {'id': 4311}, {'id': 4369}, {'id': 5791}, {'id': 7651}, {'id': 8016}, {'id': 8721}, {'id': 9218}, {'id': 10026}, {'id': 12721}, {'id': 14691}, {'id': 16356}, {'id': 3106}, {'id': 20756}, {'id': 21276}, {'id': 21301}, {'id': 22406}, {'id': 22766}, {'id': 23121}, {'id': 23598}, {'id': 26856}, {'id': 4367}, {'id': 27776}, {'id': 29076}, {'id': 29411}, {'id': 32576}, {'id': 32686}, {'id': 35996}, {'id': 40296}, {'id': 29071}, {'id': 44051}, {'id': 44161}, {'id': 49241}, {'id': 45036}, {'id': 45366}, {'id': 71096}, {'id': 46101}, {'id': 46946}, {'id': 9288}, {'id': 65551}, {'id': 69858}, {'id': 47811}, {'id': 48031}, {'id': 48116}, {'id': 51193}, {'id': 52801}, {'id': 54166}, {'id': 55731}, {'id': 45936}, {'id': 71101}, {'id': 57756}, {'id': 58531}, {'id': 33646}, {'id': 60001}, {'id': 60836}, {'id': 61561}, {'id': 45941}, {'id': 63656}, {'id': 64516}, {'id': 65483}, {'id': 65938}, {'id': 66136}, {'id': 66256}, {'id': 66576}, {'id': 67036}, {'id': 68591}, {'id': 69901}, {'id': 70561}, {'id': 71081}, {'id': 52156}, {'id': 1906}, {'id': 8081}, {'id': 9741}, {'id': 12676}, {'id': 13531}, {'id': 17906}, {'id': 21011}, {'id': 25441}, {'id': 29931}, {'id': 30696}, {'id': 34821}, {'id': 40511}, {'id': 42251}, {'id': 43196}, {'id': 45656}, {'id': 51576}, {'id': 52566}, {'id': 56681}, {'id': 58171}, {'id': 58191}, {'id': 60031}, {'id': 60896}, {'id': 63696}, {'id': 67171}]}\n",
            "{'id': 'dby', 'name': 'Derbyshire', 'name_slug': 'derbyshire', 'places_in_county': [{'id': 1036}, {'id': 2558}, {'id': 3016}, {'id': 4791}, {'id': 6093}, {'id': 8701}, {'id': 8951}, {'id': 9101}, {'id': 11441}, {'id': 10771}, {'id': 16116}, {'id': 20861}, {'id': 22251}, {'id': 22571}, {'id': 22611}, {'id': 24741}, {'id': 25536}, {'id': 19061}, {'id': 30246}, {'id': 31896}, {'id': 32521}, {'id': 32981}, {'id': 33916}, {'id': 41346}, {'id': 41788}, {'id': 41801}, {'id': 45821}, {'id': 47401}, {'id': 47411}, {'id': 52361}, {'id': 52596}, {'id': 53901}, {'id': 54446}, {'id': 54646}, {'id': 55736}, {'id': 56786}, {'id': 57061}, {'id': 60236}, {'id': 60351}, {'id': 60816}, {'id': 63606}, {'id': 65368}, {'id': 73221}, {'id': 73731}, {'id': 73741}, {'id': 91}, {'id': 2623}, {'id': 3011}, {'id': 3941}, {'id': 4046}, {'id': 5016}, {'id': 5676}, {'id': 7111}, {'id': 7116}, {'id': 7451}, {'id': 9056}, {'id': 10981}, {'id': 11656}, {'id': 11941}, {'id': 12751}, {'id': 13401}, {'id': 14081}, {'id': 14306}, {'id': 15306}, {'id': 15451}, {'id': 17386}, {'id': 17811}, {'id': 19611}, {'id': 22436}, {'id': 22476}, {'id': 24011}, {'id': 24306}, {'id': 25081}, {'id': 27521}, {'id': 33816}, {'id': 40056}, {'id': 28311}, {'id': 29846}, {'id': 30061}, {'id': 30211}, {'id': 30536}, {'id': 30571}, {'id': 20391}, {'id': 32571}, {'id': 33016}, {'id': 36211}, {'id': 37586}, {'id': 40057}, {'id': 39661}, {'id': 39956}, {'id': 40466}, {'id': 42799}, {'id': 43751}, {'id': 44321}, {'id': 28296}, {'id': 34241}, {'id': 46861}, {'id': 26971}, {'id': 2366}, {'id': 48026}, {'id': 49236}, {'id': 50311}, {'id': 52766}, {'id': 52791}, {'id': 55006}, {'id': 55131}, {'id': 58231}, {'id': 59051}, {'id': 42936}, {'id': 61396}, {'id': 62566}, {'id': 63721}, {'id': 67724}, {'id': 69701}, {'id': 72781}, {'id': 73841}, {'id': 14941}, {'id': 20691}, {'id': 39371}, {'id': 42171}, {'id': 54526}, {'id': 46681}, {'id': 51241}, {'id': 64663}, {'id': 70526}, {'id': 1326}, {'id': 2401}, {'id': 3291}, {'id': 4001}, {'id': 8116}, {'id': 8831}, {'id': 9461}, {'id': 10196}, {'id': 12706}, {'id': 13281}, {'id': 22243}, {'id': 18184}, {'id': 18736}, {'id': 23231}, {'id': 6141}, {'id': 29236}, {'id': 29861}, {'id': 32336}, {'id': 33086}, {'id': 34446}, {'id': 35221}, {'id': 35041}, {'id': 37056}, {'id': 38231}, {'id': 40456}, {'id': 41344}, {'id': 42041}, {'id': 42046}, {'id': 42797}, {'id': 45553}, {'id': 46851}, {'id': 48266}, {'id': 49221}, {'id': 55881}, {'id': 56826}, {'id': 56941}, {'id': 61526}, {'id': 62731}, {'id': 63966}, {'id': 66911}, {'id': 68251}, {'id': 68481}, {'id': 68546}, {'id': 71226}, {'id': 71466}, {'id': 1136}, {'id': 1456}, {'id': 1596}, {'id': 2106}, {'id': 3163}, {'id': 4646}, {'id': 5396}, {'id': 8456}, {'id': 11731}, {'id': 14476}, {'id': 18001}, {'id': 19416}, {'id': 22741}, {'id': 23256}, {'id': 23731}, {'id': 24921}, {'id': 35046}, {'id': 35311}, {'id': 37656}, {'id': 39466}, {'id': 39566}, {'id': 40901}, {'id': 41658}, {'id': 42536}, {'id': 42741}, {'id': 44361}, {'id': 45893}, {'id': 47416}, {'id': 49901}, {'id': 50661}, {'id': 50806}, {'id': 54966}, {'id': 56216}, {'id': 58701}, {'id': 61046}, {'id': 63391}, {'id': 65696}, {'id': 69008}, {'id': 69081}, {'id': 70641}, {'id': 8956}, {'id': 9586}, {'id': 9611}, {'id': 13741}, {'id': 13806}, {'id': 16581}, {'id': 18621}, {'id': 19941}, {'id': 20101}, {'id': 21051}, {'id': 21326}, {'id': 28556}, {'id': 30666}, {'id': 31306}, {'id': 32361}, {'id': 33141}, {'id': 33376}, {'id': 34646}, {'id': 35946}, {'id': 37591}, {'id': 14686}, {'id': 22266}, {'id': 28563}, {'id': 22271}, {'id': 41006}, {'id': 41521}, {'id': 43091}, {'id': 43991}, {'id': 46746}, {'id': 48806}, {'id': 51961}, {'id': 52096}, {'id': 53806}, {'id': 53996}, {'id': 55576}, {'id': 55956}, {'id': 56606}, {'id': 56696}, {'id': 57526}, {'id': 58046}, {'id': 58196}, {'id': 66498}, {'id': 16166}, {'id': 18951}, {'id': 22546}, {'id': 58356}, {'id': 71196}, {'id': 986}, {'id': 2711}, {'id': 4311}, {'id': 4369}, {'id': 5791}, {'id': 7651}, {'id': 8016}, {'id': 8721}, {'id': 9218}, {'id': 10026}, {'id': 12721}, {'id': 14691}, {'id': 16356}, {'id': 3106}, {'id': 20756}, {'id': 21276}, {'id': 21301}, {'id': 22406}, {'id': 22766}, {'id': 23121}, {'id': 23598}, {'id': 26856}, {'id': 4367}, {'id': 27776}, {'id': 29076}, {'id': 29411}, {'id': 32576}, {'id': 32686}, {'id': 35996}, {'id': 40296}, {'id': 29071}, {'id': 44051}, {'id': 44161}, {'id': 49241}, {'id': 45036}, {'id': 45366}, {'id': 71096}, {'id': 46101}, {'id': 46946}, {'id': 9288}, {'id': 65551}, {'id': 69858}, {'id': 47811}, {'id': 48031}, {'id': 48116}, {'id': 51193}, {'id': 52801}, {'id': 54166}, {'id': 55731}, {'id': 45936}, {'id': 71101}, {'id': 57756}, {'id': 58531}, {'id': 33646}, {'id': 60001}, {'id': 60836}, {'id': 61561}, {'id': 45941}, {'id': 63656}, {'id': 64516}, {'id': 65483}, {'id': 65938}, {'id': 66136}, {'id': 66256}, {'id': 66576}, {'id': 67036}, {'id': 68591}, {'id': 69901}, {'id': 70561}, {'id': 71081}, {'id': 52156}, {'id': 1906}, {'id': 8081}, {'id': 9741}, {'id': 12676}, {'id': 13531}, {'id': 17906}, {'id': 21011}, {'id': 25441}, {'id': 29931}, {'id': 30696}, {'id': 34821}, {'id': 40511}, {'id': 42251}, {'id': 43196}, {'id': 45656}, {'id': 51576}, {'id': 52566}, {'id': 56681}, {'id': 58171}, {'id': 58191}, {'id': 60031}, {'id': 60896}, {'id': 63696}, {'id': 67171}]}\n",
            "Details of Derbyshire have been saved.\n",
            "{'id': 'dby', 'name': 'Derbyshire', 'name_slug': 'derbyshire', 'places_in_county': [{'id': 1036}, {'id': 2558}, {'id': 3016}, {'id': 4791}, {'id': 6093}, {'id': 8701}, {'id': 8951}, {'id': 9101}, {'id': 11441}, {'id': 10771}, {'id': 16116}, {'id': 20861}, {'id': 22251}, {'id': 22571}, {'id': 22611}, {'id': 24741}, {'id': 25536}, {'id': 19061}, {'id': 30246}, {'id': 31896}, {'id': 32521}, {'id': 32981}, {'id': 33916}, {'id': 41346}, {'id': 41788}, {'id': 41801}, {'id': 45821}, {'id': 47401}, {'id': 47411}, {'id': 52361}, {'id': 52596}, {'id': 53901}, {'id': 54446}, {'id': 54646}, {'id': 55736}, {'id': 56786}, {'id': 57061}, {'id': 60236}, {'id': 60351}, {'id': 60816}, {'id': 63606}, {'id': 65368}, {'id': 73221}, {'id': 73731}, {'id': 73741}, {'id': 91}, {'id': 2623}, {'id': 3011}, {'id': 3941}, {'id': 4046}, {'id': 5016}, {'id': 5676}, {'id': 7111}, {'id': 7116}, {'id': 7451}, {'id': 9056}, {'id': 10981}, {'id': 11656}, {'id': 11941}, {'id': 12751}, {'id': 13401}, {'id': 14081}, {'id': 14306}, {'id': 15306}, {'id': 15451}, {'id': 17386}, {'id': 17811}, {'id': 19611}, {'id': 22436}, {'id': 22476}, {'id': 24011}, {'id': 24306}, {'id': 25081}, {'id': 27521}, {'id': 33816}, {'id': 40056}, {'id': 28311}, {'id': 29846}, {'id': 30061}, {'id': 30211}, {'id': 30536}, {'id': 30571}, {'id': 20391}, {'id': 32571}, {'id': 33016}, {'id': 36211}, {'id': 37586}, {'id': 40057}, {'id': 39661}, {'id': 39956}, {'id': 40466}, {'id': 42799}, {'id': 43751}, {'id': 44321}, {'id': 28296}, {'id': 34241}, {'id': 46861}, {'id': 26971}, {'id': 2366}, {'id': 48026}, {'id': 49236}, {'id': 50311}, {'id': 52766}, {'id': 52791}, {'id': 55006}, {'id': 55131}, {'id': 58231}, {'id': 59051}, {'id': 42936}, {'id': 61396}, {'id': 62566}, {'id': 63721}, {'id': 67724}, {'id': 69701}, {'id': 72781}, {'id': 73841}, {'id': 14941}, {'id': 20691}, {'id': 39371}, {'id': 42171}, {'id': 54526}, {'id': 46681}, {'id': 51241}, {'id': 64663}, {'id': 70526}, {'id': 1326}, {'id': 2401}, {'id': 3291}, {'id': 4001}, {'id': 8116}, {'id': 8831}, {'id': 9461}, {'id': 10196}, {'id': 12706}, {'id': 13281}, {'id': 22243}, {'id': 18184}, {'id': 18736}, {'id': 23231}, {'id': 6141}, {'id': 29236}, {'id': 29861}, {'id': 32336}, {'id': 33086}, {'id': 34446}, {'id': 35221}, {'id': 35041}, {'id': 37056}, {'id': 38231}, {'id': 40456}, {'id': 41344}, {'id': 42041}, {'id': 42046}, {'id': 42797}, {'id': 45553}, {'id': 46851}, {'id': 48266}, {'id': 49221}, {'id': 55881}, {'id': 56826}, {'id': 56941}, {'id': 61526}, {'id': 62731}, {'id': 63966}, {'id': 66911}, {'id': 68251}, {'id': 68481}, {'id': 68546}, {'id': 71226}, {'id': 71466}, {'id': 1136}, {'id': 1456}, {'id': 1596}, {'id': 2106}, {'id': 3163}, {'id': 4646}, {'id': 5396}, {'id': 8456}, {'id': 11731}, {'id': 14476}, {'id': 18001}, {'id': 19416}, {'id': 22741}, {'id': 23256}, {'id': 23731}, {'id': 24921}, {'id': 35046}, {'id': 35311}, {'id': 37656}, {'id': 39466}, {'id': 39566}, {'id': 40901}, {'id': 41658}, {'id': 42536}, {'id': 42741}, {'id': 44361}, {'id': 45893}, {'id': 47416}, {'id': 49901}, {'id': 50661}, {'id': 50806}, {'id': 54966}, {'id': 56216}, {'id': 58701}, {'id': 61046}, {'id': 63391}, {'id': 65696}, {'id': 69008}, {'id': 69081}, {'id': 70641}, {'id': 8956}, {'id': 9586}, {'id': 9611}, {'id': 13741}, {'id': 13806}, {'id': 16581}, {'id': 18621}, {'id': 19941}, {'id': 20101}, {'id': 21051}, {'id': 21326}, {'id': 28556}, {'id': 30666}, {'id': 31306}, {'id': 32361}, {'id': 33141}, {'id': 33376}, {'id': 34646}, {'id': 35946}, {'id': 37591}, {'id': 14686}, {'id': 22266}, {'id': 28563}, {'id': 22271}, {'id': 41006}, {'id': 41521}, {'id': 43091}, {'id': 43991}, {'id': 46746}, {'id': 48806}, {'id': 51961}, {'id': 52096}, {'id': 53806}, {'id': 53996}, {'id': 55576}, {'id': 55956}, {'id': 56606}, {'id': 56696}, {'id': 57526}, {'id': 58046}, {'id': 58196}, {'id': 66498}, {'id': 16166}, {'id': 18951}, {'id': 22546}, {'id': 58356}, {'id': 71196}, {'id': 986}, {'id': 2711}, {'id': 4311}, {'id': 4369}, {'id': 5791}, {'id': 7651}, {'id': 8016}, {'id': 8721}, {'id': 9218}, {'id': 10026}, {'id': 12721}, {'id': 14691}, {'id': 16356}, {'id': 3106}, {'id': 20756}, {'id': 21276}, {'id': 21301}, {'id': 22406}, {'id': 22766}, {'id': 23121}, {'id': 23598}, {'id': 26856}, {'id': 4367}, {'id': 27776}, {'id': 29076}, {'id': 29411}, {'id': 32576}, {'id': 32686}, {'id': 35996}, {'id': 40296}, {'id': 29071}, {'id': 44051}, {'id': 44161}, {'id': 49241}, {'id': 45036}, {'id': 45366}, {'id': 71096}, {'id': 46101}, {'id': 46946}, {'id': 9288}, {'id': 65551}, {'id': 69858}, {'id': 47811}, {'id': 48031}, {'id': 48116}, {'id': 51193}, {'id': 52801}, {'id': 54166}, {'id': 55731}, {'id': 45936}, {'id': 71101}, {'id': 57756}, {'id': 58531}, {'id': 33646}, {'id': 60001}, {'id': 60836}, {'id': 61561}, {'id': 45941}, {'id': 63656}, {'id': 64516}, {'id': 65483}, {'id': 65938}, {'id': 66136}, {'id': 66256}, {'id': 66576}, {'id': 67036}, {'id': 68591}, {'id': 69901}, {'id': 70561}, {'id': 71081}, {'id': 52156}, {'id': 1906}, {'id': 8081}, {'id': 9741}, {'id': 12676}, {'id': 13531}, {'id': 17906}, {'id': 21011}, {'id': 25441}, {'id': 29931}, {'id': 30696}, {'id': 34821}, {'id': 40511}, {'id': 42251}, {'id': 43196}, {'id': 45656}, {'id': 51576}, {'id': 52566}, {'id': 56681}, {'id': 58171}, {'id': 58191}, {'id': 60031}, {'id': 60896}, {'id': 63696}, {'id': 67171}]}\n",
            "Details of Derbyshire have been saved.\n",
            "Details fetched to manors_Derbyshire.csv.\n",
            "The richest manor in Derbyshire is 12958 with a value of 40.0.\n",
            "The total value paid by Derbyshire is 1098.6182999999996.\n"
          ]
        }
      ],
      "source": [
        "# Exercise 7\n",
        "# Create a Python class.\n",
        "# It must include all the previous functionalities.\n",
        "# Refactor your code to make it readable, efficient, and maintainable.\n",
        "\n",
        "class OpenDomesdayHelper:\n",
        "    def __init__(self):\n",
        "        self.base_url = \"https://opendomesday.org/api/1.0/\"\n",
        "\n",
        "    def fetch_counties(self):\n",
        "        response = requests.get(f\"{self.base_url}county/\")\n",
        "        if response.status_code == 200 and response.json():\n",
        "            print(\"Counties from OpenDomesday:\")\n",
        "            for county in response.json():\n",
        "                print(county['name'])\n",
        "        else:\n",
        "            print(\"Failed to fetch counties.\")\n",
        "\n",
        "    def fetch_county_info(self, county_name):\n",
        "        response = requests.get(f\"{self.base_url}county/\")\n",
        "        if response.status_code == 200:\n",
        "            counties = response.json()\n",
        "            for county in counties:\n",
        "                if county_name.lower() == county.get('name', '').lower():\n",
        "                    print(county)\n",
        "                    return county\n",
        "            print(f\"County {county_name} not found.\")\n",
        "        else:\n",
        "            print(\"Failed to fetch counties.\")\n",
        "\n",
        "    def save_place_details(self, county_name):\n",
        "        places_in_county = self.fetch_county_info(county_name).get('places_in_county', [])\n",
        "        place_details = []\n",
        "\n",
        "        for place in places_in_county:\n",
        "            response = requests.get(f\"{self.base_url}place/{place['id']}\")\n",
        "            if response.status_code == 200:\n",
        "                place_details.append(response.json())\n",
        "\n",
        "        with open(f'manors_{county_name}.json', 'w', encoding='utf-8') as file:\n",
        "            json.dump(place_details, file, ensure_ascii=False, indent=4)\n",
        "        print(f\"Details of {county_name} have been saved.\")\n",
        "\n",
        "    def generate_csv_from_json(self, json_file, csv_file):\n",
        "        with open(json_file, 'r', encoding='utf-8') as file:\n",
        "            places = json.load(file)\n",
        "            manor_ids = [manor['id'] for place in places for manor in place.get('manors', [])]\n",
        "\n",
        "        with open(csv_file, mode='w', newline='', encoding='utf-8') as csvfile:\n",
        "            writer = csv.writer(csvfile)\n",
        "            writer.writerow([\"Manor ID\", \"Monetary Value in 1086\", \"Total Ploughs\"])\n",
        "\n",
        "            for manor_id in manor_ids:\n",
        "                response = requests.get(f\"{self.base_url}manor/{manor_id}/\")\n",
        "                if response.status_code == 200:\n",
        "                    manor_data = response.json()\n",
        "                    monetary_value = manor_data.get(\"value86\", \"Unknown\")\n",
        "                    total_ploughs = manor_data.get(\"totalploughs\", \"Unknown\")\n",
        "                    writer.writerow([manor_id, monetary_value, total_ploughs])\n",
        "                else:\n",
        "                    print(f\"Failed to fetch data for manor ID {manor_id}\")\n",
        "\n",
        "        print(f\"Details fetched to {csv_file}.\")\n",
        "\n",
        "\n",
        "    def find_richest_manor(self, csv_file):\n",
        "        richest_value = 0\n",
        "        richest_manor = None\n",
        "        with open(csv_file, mode='r', encoding='utf-8') as csvfile:\n",
        "            reader = csv.DictReader(csvfile)\n",
        "            for row in reader:\n",
        "                try:\n",
        "                    val = float(row[\"Monetary Value in 1086\"])\n",
        "                    if val > richest_value:\n",
        "                        richest_value = val\n",
        "                        richest_manor = row[\"Manor ID\"]\n",
        "                except ValueError:\n",
        "                    continue\n",
        "        print(f\"The richest manor in Derbyshire is {richest_manor} with a value of {richest_value}.\")\n",
        "\n",
        "    def calculate_total_value(self, csv_file):\n",
        "        total_value = 0\n",
        "        with open(csv_file, mode='r', encoding='utf-8') as csvfile:\n",
        "            reader = csv.DictReader(csvfile)\n",
        "            for row in reader:\n",
        "                try:\n",
        "                    value86 = float(row[\"Monetary Value in 1086\"])\n",
        "                    total_value += value86\n",
        "                except ValueError:\n",
        "                    continue\n",
        "        print(f\"The total value paid by Derbyshire is {total_value}.\")\n",
        "\n",
        "\n",
        "Ex7 = OpenDomesdayHelper()\n",
        "Ex7.fetch_counties()\n",
        "Ex7.fetch_county_info(\"Derbyshire\")\n",
        "Ex7.save_place_details(\"Derbyshire\")\n",
        "Ex7.save_place_details(\"Derbyshire\")\n",
        "Ex7.generate_csv_from_json(\"manors_Derbyshire.json\",\"manors_Derbyshire.csv\")\n",
        "Ex7.find_richest_manor(\"manors_Derbyshire.csv\")\n",
        "Ex7.calculate_total_value(\"manors_Derbyshire.csv\")\n",
        "\n"
      ]
    },
    {
      "cell_type": "code",
      "execution_count": 121,
      "metadata": {
        "id": "dhlLBy7OxdXK"
      },
      "outputs": [],
      "source": [
        "# Exercise 8 (optional)\n",
        "# Add to your class a system for error handling.\n",
        "# It must manage the following errors:\n",
        "# - Connection error\n",
        "# - Parsing error\n",
        "# - Request error\n",
        "# - Response error\n",
        "# - Parameter error\n",
        "\n",
        "#######################################################\n",
        "################## YOUR ANSWER HERE ##################\n",
        "#######################################################\n",
        "\n"
      ]
    }
  ],
  "metadata": {
    "colab": {
      "provenance": []
    },
    "kernelspec": {
      "display_name": "api",
      "language": "python",
      "name": "python3"
    },
    "language_info": {
      "codemirror_mode": {
        "name": "ipython",
        "version": 3
      },
      "file_extension": ".py",
      "mimetype": "text/x-python",
      "name": "python",
      "nbconvert_exporter": "python",
      "pygments_lexer": "ipython3",
      "version": "3.11.6"
    }
  },
  "nbformat": 4,
  "nbformat_minor": 0
}

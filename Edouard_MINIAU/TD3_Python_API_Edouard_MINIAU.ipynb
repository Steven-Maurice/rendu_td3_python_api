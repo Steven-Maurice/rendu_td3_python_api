{
  "cells": [
    {
      "cell_type": "markdown",
      "metadata": {
        "id": "nVImcD9u5mKB"
      },
      "source": [
        "# Python with APIs\n",
        "Exchanges via HTTP using `requests` package"
      ]
    },
    {
      "cell_type": "code",
      "execution_count": 2,
      "metadata": {
        "id": "38Hv4WM25mKC"
      },
      "outputs": [],
      "source": [
        "import requests"
      ]
    },
    {
      "cell_type": "markdown",
      "metadata": {
        "id": "gmZMFisw5mKE"
      },
      "source": [
        "## Example"
      ]
    },
    {
      "cell_type": "markdown",
      "metadata": {
        "id": "QJ4ET1kJ5mKE"
      },
      "source": [
        "### Agify API"
      ]
    },
    {
      "cell_type": "markdown",
      "metadata": {
        "id": "31kEcNwK5mKE"
      },
      "source": [
        "Example route for Agify API"
      ]
    },
    {
      "cell_type": "code",
      "execution_count": null,
      "metadata": {
        "id": "jY39zTW85mKE"
      },
      "outputs": [],
      "source": [
        "agify_dan = \"https://api.agify.io/?name=dan\""
      ]
    },
    {
      "cell_type": "markdown",
      "metadata": {
        "id": "oLRM3wlX5mKE"
      },
      "source": [
        "Extract response"
      ]
    },
    {
      "cell_type": "code",
      "execution_count": null,
      "metadata": {
        "colab": {
          "base_uri": "https://localhost:8080/",
          "height": 211
        },
        "id": "A11Gh0Wk5mKE",
        "outputId": "5614c2f4-4128-4cf4-f420-360684d3fd3f"
      },
      "outputs": [
        {
          "output_type": "error",
          "ename": "NameError",
          "evalue": "name 'requests' is not defined",
          "traceback": [
            "\u001b[0;31m---------------------------------------------------------------------------\u001b[0m",
            "\u001b[0;31mNameError\u001b[0m                                 Traceback (most recent call last)",
            "\u001b[0;32m<ipython-input-2-24bdf945e9d9>\u001b[0m in \u001b[0;36m<cell line: 2>\u001b[0;34m()\u001b[0m\n\u001b[1;32m      1\u001b[0m \u001b[0;31m# Run a GET request\u001b[0m\u001b[0;34m\u001b[0m\u001b[0;34m\u001b[0m\u001b[0m\n\u001b[0;32m----> 2\u001b[0;31m \u001b[0magify_answer\u001b[0m \u001b[0;34m=\u001b[0m \u001b[0mrequests\u001b[0m\u001b[0;34m.\u001b[0m\u001b[0mget\u001b[0m\u001b[0;34m(\u001b[0m\u001b[0magify_dan\u001b[0m\u001b[0;34m)\u001b[0m\u001b[0;34m\u001b[0m\u001b[0;34m\u001b[0m\u001b[0m\n\u001b[0m\u001b[1;32m      3\u001b[0m \u001b[0magify_answer_txt\u001b[0m \u001b[0;34m=\u001b[0m \u001b[0magify_answer\u001b[0m\u001b[0;34m.\u001b[0m\u001b[0mtext\u001b[0m\u001b[0;34m\u001b[0m\u001b[0;34m\u001b[0m\u001b[0m\n\u001b[1;32m      4\u001b[0m \u001b[0magify_answer_json\u001b[0m \u001b[0;34m=\u001b[0m \u001b[0magify_answer\u001b[0m\u001b[0;34m.\u001b[0m\u001b[0mjson\u001b[0m\u001b[0;34m(\u001b[0m\u001b[0;34m)\u001b[0m\u001b[0;34m\u001b[0m\u001b[0;34m\u001b[0m\u001b[0m\n\u001b[1;32m      5\u001b[0m \u001b[0;34m\u001b[0m\u001b[0m\n",
            "\u001b[0;31mNameError\u001b[0m: name 'requests' is not defined"
          ]
        }
      ],
      "source": [
        "# Run a GET request\n",
        "agify_answer = requests.get(agify_dan)\n",
        "agify_answer_txt = agify_answer.text\n",
        "agify_answer_json = agify_answer.json()\n",
        "\n",
        "print(f\"Answer status_code: {agify_answer}\")\n",
        "\n",
        "print(type(agify_answer_txt))\n",
        "print(type(agify_answer_json))\n",
        "\n",
        "print(agify_answer_txt)\n",
        "print(agify_answer_json)"
      ]
    },
    {
      "cell_type": "markdown",
      "metadata": {
        "id": "f7wiOGXc5mKF"
      },
      "source": [
        "## Introductory Exercises"
      ]
    },
    {
      "cell_type": "code",
      "execution_count": null,
      "metadata": {
        "colab": {
          "base_uri": "https://localhost:8080/"
        },
        "id": "ftN92Tmb5mKF",
        "outputId": "e6400070-ef5f-40e2-de2a-9b14261a2576"
      },
      "outputs": [
        {
          "output_type": "stream",
          "name": "stdout",
          "text": [
            "Enter your first name: Edouard\n",
            "Edouard! You might be around 67 years old. count : 6161\n"
          ]
        }
      ],
      "source": [
        "# Exercise 1\n",
        "# Write a script that asks the user for their first name\n",
        "# and responds with a personalized message\n",
        "# using the agify API\n",
        "\n",
        "# https://api.agify.io/?name=YOUR_NAME\n",
        "# Example response: {\"name\":\"YOUR_NAME\",\"age\":30,\"count\":12345}\n",
        "\n",
        "#######################################################\n",
        "################## YOUR ANSWER HERE ##################\n",
        "#######################################################\n",
        "\n",
        "username = input(\"Enter your first name: \")\n",
        "url = f\"https://api.agify.io/?name={username}\"\n",
        "\n",
        "response = requests.get(url)\n",
        "\n",
        "if response.status_code == 200:\n",
        "    data = response.json()\n",
        "    print(f\"{data['name']}! You might be around {data['age']} years old. count : {data['count']}\")\n",
        "else:\n",
        "    print(\"Sorry, there was an error.\")"
      ]
    },
    {
      "cell_type": "code",
      "execution_count": null,
      "metadata": {
        "colab": {
          "base_uri": "https://localhost:8080/"
        },
        "id": "Lvdorinq5mKF",
        "outputId": "5280a0de-787f-4f82-8158-b878e7cc084a"
      },
      "outputs": [
        {
          "output_type": "stream",
          "name": "stdout",
          "text": [
            "Enter your first name: Edouard\n",
            "Edouard! You are probably a male\n"
          ]
        }
      ],
      "source": [
        "# Exercise 2\n",
        "# Write a script that asks the user for their first name\n",
        "# and responds with a personalized message\n",
        "# using the genderize API\n",
        "# https://api.genderize.io/?name=YOUR_NAME\n",
        "\n",
        "#######################################################\n",
        "################## YOUR ANSWER HERE ##################\n",
        "#######################################################\n",
        "username = input(\"Enter your first name: \")\n",
        "url = f\"https://api.genderize.io/?name={username}\"\n",
        "\n",
        "response = requests.get(url)\n",
        "\n",
        "if response.status_code == 200:\n",
        "    data = response.json()\n",
        "    print(f\"{data['name']}! You are probably a {data['gender']}\")\n",
        "else:\n",
        "    print(\"Sorry, there was an error.\")\n"
      ]
    },
    {
      "cell_type": "code",
      "execution_count": null,
      "metadata": {
        "colab": {
          "base_uri": "https://localhost:8080/"
        },
        "id": "qZZq5XyU5mKG",
        "outputId": "ee7b0bc5-fdb4-4e7b-8d14-e3945d74869f"
      },
      "outputs": [
        {
          "output_type": "stream",
          "name": "stdout",
          "text": [
            "Enter your first name: Edouard\n",
            "Edouard! You are probably a [{'country_id': 'HT', 'probability': 0.2289472549642362}, {'country_id': 'CI', 'probability': 0.08302482872329446}, {'country_id': 'FR', 'probability': 0.07053717559498397}, {'country_id': 'CM', 'probability': 0.05283398191482374}, {'country_id': 'RW', 'probability': 0.05031807801411785}]\n"
          ]
        }
      ],
      "source": [
        "# Exercise 3\n",
        "# Write a script that asks the user for their first name\n",
        "# and responds with a personalized message\n",
        "# using the nationalize API\n",
        "# https://api.nationalize.io/?name=YOUR_NAME\n",
        "\n",
        "#######################################################\n",
        "################## YOUR ANSWER HERE ##################\n",
        "#######################################################\n",
        "username = input(\"Enter your first name: \")\n",
        "url = f\"https://api.nationalize.io/?name={username}\"\n",
        "\n",
        "response = requests.get(url)\n",
        "\n",
        "if response.status_code == 200:\n",
        "    data = response.json()\n",
        "    print(f\"{data['name']}! You are probably a {data['country']}\")\n",
        "else:\n",
        "    print(\"Sorry, there was an error.\")\n"
      ]
    },
    {
      "cell_type": "code",
      "execution_count": null,
      "metadata": {
        "colab": {
          "base_uri": "https://localhost:8080/"
        },
        "id": "vPOOz5xT5mKG",
        "outputId": "244e3f4b-7841-4aa0-a660-4e7fa45773e9"
      },
      "outputs": [
        {
          "output_type": "stream",
          "name": "stdout",
          "text": [
            "Enter your first name: Edouard\n",
            "Edouard! You might be from HT.\n"
          ]
        }
      ],
      "source": [
        "# Exercise 3.1\n",
        "# Parsing the response from the nationalize API\n",
        "# Get the most probable country and its percentage\n",
        "# Example response: {\"name\":\"YOUR_NAME\",\"country\":[{\"country_id\":\"FR\",\"probability\":0.75},{\"country_id\":\"BE\",\"probability\":0.25}]}\n",
        "# Hint: use the max() function with a lambda function\n",
        "# https://docs.python.org/3/library/functions.html#max\n",
        "# https://docs.python.org/3/tutorial/controlflow.html#lambda-expressions\n",
        "\n",
        "#######################################################\n",
        "################## YOUR ANSWER HERE ##################\n",
        "#######################################################\n",
        "\n",
        "username = input(\"Enter your first name: \")\n",
        "url = f\"https://api.nationalize.io/?name={username}\"\n",
        "\n",
        "response = requests.get(url)\n",
        "\n",
        "if response.status_code == 200:\n",
        "    data = response.json()\n",
        "    countries = data.get('country', [])\n",
        "    if countries:\n",
        "        most_probable_country = max(countries, key=lambda x: x['probability'])\n",
        "        country_name = most_probable_country.get('country_id')\n",
        "        print(f\"{username}! You might be from {country_name}.\")\n",
        "    else:\n",
        "        print(f\"Sorry, there was an error.\")\n",
        "else:\n",
        "    print(\"Sorry, there was an error.\")"
      ]
    },
    {
      "cell_type": "code",
      "execution_count": null,
      "metadata": {
        "colab": {
          "base_uri": "https://localhost:8080/"
        },
        "id": "0AQLWLhW5mKG",
        "outputId": "bc9d47ee-fe6d-415c-ae88-235eb3178b28"
      },
      "outputs": [
        {
          "output_type": "stream",
          "name": "stdout",
          "text": [
            "random activity : Organize your movie collection\n",
            "random activity for 4 participants: Invite some friends over for a game night\n",
            "random recreational activity for 4 participants: Go see a Broadway production\n",
            "random activity for 2 participants and no equipment: Compliment someone\n"
          ]
        }
      ],
      "source": [
        "# Exercise 4\n",
        "# Use BoredAPI : https://www.boredapi.com/\n",
        "# Documentation : https://www.boredapi.com/documentation\n",
        "# 1. Write a script that generates random activities\n",
        "# 2. Write a script that generates random activities\n",
        "# 3. Write a script that generates random activities for 4 participants\n",
        "# 4. Write a script that generates random activities for 4 participants and of type \"recreational\"\n",
        "# 5. Write a script that generates random activities for 2 participants and that does not require equipment\n",
        "\n",
        "#######################################################\n",
        "################## YOUR ANSWER HERE ##################\n",
        "#######################################################\n",
        "#1\n",
        "url = \"https://www.boredapi.com/api/activity\"\n",
        "response = requests.get(url)\n",
        "if response.status_code == 200:\n",
        "    data = response.json()\n",
        "    print(f\"random activity : {data['activity']}\")\n",
        "else:\n",
        "    print('Sorry, there was an error')\n",
        "\n",
        "#3\n",
        "url = f\"https://www.boredapi.com/api/activity?participants=4\"\n",
        "response = requests.get(url)\n",
        "if response.status_code == 200:\n",
        "    data = response.json()\n",
        "    print(f\"random activity for 4 participants: {data['activity']}\")\n",
        "else:\n",
        "    print('Sorry, there was an error')\n",
        "\n",
        "#4\n",
        "url = f\"https://www.boredapi.com/api/activity?type=recreational&participants=4\"\n",
        "response = requests.get(url)\n",
        "if response.status_code == 200:\n",
        "    data = response.json()\n",
        "    print(f\"random recreational activity for 4 participants: {data['activity']}\")\n",
        "else:\n",
        "    print('Sorry, there was an error')\n",
        "\n",
        "#5\n",
        "url = f\"https://www.boredapi.com/api/activity?accessibility=0&participants=2\"\n",
        "response = requests.get(url)\n",
        "if response.status_code == 200:\n",
        "    data = response.json()\n",
        "    print(f\"random activity for 2 participants and no equipment: {data['activity']}\")\n",
        "else:\n",
        "    print('Sorry, there was an error')\n",
        "\n"
      ]
    },
    {
      "cell_type": "markdown",
      "metadata": {
        "id": "DV38l9vf5mKG"
      },
      "source": [
        "## Intermediate exercises"
      ]
    },
    {
      "cell_type": "code",
      "execution_count": 3,
      "metadata": {
        "id": "dOnrfQL05mKG",
        "colab": {
          "base_uri": "https://localhost:8080/"
        },
        "outputId": "98e9b13c-ecc9-4d19-92be-395cdfed2c52"
      },
      "outputs": [
        {
          "output_type": "stream",
          "name": "stdout",
          "text": [
            "List of counties:\n",
            "Kent\n",
            "Sussex\n",
            "Surrey\n",
            "Hampshire\n",
            "Berkshire\n",
            "Wiltshire\n",
            "Dorset\n",
            "Somerset\n",
            "Devon\n",
            "Cornwall\n",
            "Middlesex\n",
            "Hertfordshire\n",
            "Buckinghamshire\n",
            "Gloucestershire\n",
            "Oxfordshire\n",
            "Worcestershire\n",
            "Herefordshire\n",
            "Cambridgeshire\n",
            "Huntingdonshire\n",
            "Bedfordshire\n",
            "Northamptonshire\n",
            "Leicestershire\n",
            "Warwickshire\n",
            "Staffordshire\n",
            "Shropshire\n",
            "Cheshire\n",
            "Derbyshire\n",
            "Nottinghamshire\n",
            "Rutland\n",
            "Yorkshire\n",
            "Lincolnshire\n",
            "Claims: YB\n",
            "Claims: YC\n",
            "Claims: LC\n",
            "Claims: HC\n",
            "Claims: YS\n",
            "Essex\n",
            "Norfolk\n",
            "Suffolk\n",
            "Lancashire\n"
          ]
        }
      ],
      "source": [
        "# OpenDomesday\n",
        "# https://opendomesday.org/api/\n",
        "\n",
        "# Exercise 1\n",
        "# Write a script that displays all the counties\n",
        "# using the OpenDomesday API.\n",
        "\n",
        "#######################################################\n",
        "################## YOUR ANSWER HERE ##################\n",
        "#######################################################\n",
        "url = \"https://opendomesday.org/api/1.0/county\"\n",
        "response = requests.get(url)\n",
        "data = response.json()\n",
        "counties = [county['name'] for county in data]\n",
        "print(\"List of counties:\")\n",
        "for county in counties:\n",
        "    print(county)\n",
        "\n"
      ]
    },
    {
      "cell_type": "code",
      "execution_count": 4,
      "metadata": {
        "id": "WzKgG0EF5mKG",
        "colab": {
          "base_uri": "https://localhost:8080/"
        },
        "outputId": "504795a1-6962-497f-a750-02d1d0cd15e0"
      },
      "outputs": [
        {
          "output_type": "stream",
          "name": "stdout",
          "text": [
            "{'id': 'dby', 'name': 'Derbyshire', 'name_slug': 'derbyshire', 'places_in_county': [{'id': 1036}, {'id': 2558}, {'id': 3016}, {'id': 4791}, {'id': 6093}, {'id': 8701}, {'id': 8951}, {'id': 9101}, {'id': 11441}, {'id': 10771}, {'id': 16116}, {'id': 20861}, {'id': 22251}, {'id': 22571}, {'id': 22611}, {'id': 24741}, {'id': 25536}, {'id': 19061}, {'id': 30246}, {'id': 31896}, {'id': 32521}, {'id': 32981}, {'id': 33916}, {'id': 41346}, {'id': 41788}, {'id': 41801}, {'id': 45821}, {'id': 47401}, {'id': 47411}, {'id': 52361}, {'id': 52596}, {'id': 53901}, {'id': 54446}, {'id': 54646}, {'id': 55736}, {'id': 56786}, {'id': 57061}, {'id': 60236}, {'id': 60351}, {'id': 60816}, {'id': 63606}, {'id': 65368}, {'id': 73221}, {'id': 73731}, {'id': 73741}, {'id': 91}, {'id': 2623}, {'id': 3011}, {'id': 3941}, {'id': 4046}, {'id': 5016}, {'id': 5676}, {'id': 7111}, {'id': 7116}, {'id': 7451}, {'id': 9056}, {'id': 10981}, {'id': 11656}, {'id': 11941}, {'id': 12751}, {'id': 13401}, {'id': 14081}, {'id': 14306}, {'id': 15306}, {'id': 15451}, {'id': 17386}, {'id': 17811}, {'id': 19611}, {'id': 22436}, {'id': 22476}, {'id': 24011}, {'id': 24306}, {'id': 25081}, {'id': 27521}, {'id': 33816}, {'id': 40056}, {'id': 28311}, {'id': 29846}, {'id': 30061}, {'id': 30211}, {'id': 30536}, {'id': 30571}, {'id': 20391}, {'id': 32571}, {'id': 33016}, {'id': 36211}, {'id': 37586}, {'id': 40057}, {'id': 39661}, {'id': 39956}, {'id': 40466}, {'id': 42799}, {'id': 43751}, {'id': 44321}, {'id': 28296}, {'id': 34241}, {'id': 46861}, {'id': 26971}, {'id': 2366}, {'id': 48026}, {'id': 49236}, {'id': 50311}, {'id': 52766}, {'id': 52791}, {'id': 55006}, {'id': 55131}, {'id': 58231}, {'id': 59051}, {'id': 42936}, {'id': 61396}, {'id': 62566}, {'id': 63721}, {'id': 67724}, {'id': 69701}, {'id': 72781}, {'id': 73841}, {'id': 14941}, {'id': 20691}, {'id': 39371}, {'id': 42171}, {'id': 54526}, {'id': 46681}, {'id': 51241}, {'id': 64663}, {'id': 70526}, {'id': 1326}, {'id': 2401}, {'id': 3291}, {'id': 4001}, {'id': 8116}, {'id': 8831}, {'id': 9461}, {'id': 10196}, {'id': 12706}, {'id': 13281}, {'id': 22243}, {'id': 18184}, {'id': 18736}, {'id': 23231}, {'id': 6141}, {'id': 29236}, {'id': 29861}, {'id': 32336}, {'id': 33086}, {'id': 34446}, {'id': 35221}, {'id': 35041}, {'id': 37056}, {'id': 38231}, {'id': 40456}, {'id': 41344}, {'id': 42041}, {'id': 42046}, {'id': 42797}, {'id': 45553}, {'id': 46851}, {'id': 48266}, {'id': 49221}, {'id': 55881}, {'id': 56826}, {'id': 56941}, {'id': 61526}, {'id': 62731}, {'id': 63966}, {'id': 66911}, {'id': 68251}, {'id': 68481}, {'id': 68546}, {'id': 71226}, {'id': 71466}, {'id': 1136}, {'id': 1456}, {'id': 1596}, {'id': 2106}, {'id': 3163}, {'id': 4646}, {'id': 5396}, {'id': 8456}, {'id': 11731}, {'id': 14476}, {'id': 18001}, {'id': 19416}, {'id': 22741}, {'id': 23256}, {'id': 23731}, {'id': 24921}, {'id': 35046}, {'id': 35311}, {'id': 37656}, {'id': 39466}, {'id': 39566}, {'id': 40901}, {'id': 41658}, {'id': 42536}, {'id': 42741}, {'id': 44361}, {'id': 45893}, {'id': 47416}, {'id': 49901}, {'id': 50661}, {'id': 50806}, {'id': 54966}, {'id': 56216}, {'id': 58701}, {'id': 61046}, {'id': 63391}, {'id': 65696}, {'id': 69008}, {'id': 69081}, {'id': 70641}, {'id': 8956}, {'id': 9586}, {'id': 9611}, {'id': 13741}, {'id': 13806}, {'id': 16581}, {'id': 18621}, {'id': 19941}, {'id': 20101}, {'id': 21051}, {'id': 21326}, {'id': 28556}, {'id': 30666}, {'id': 31306}, {'id': 32361}, {'id': 33141}, {'id': 33376}, {'id': 34646}, {'id': 35946}, {'id': 37591}, {'id': 14686}, {'id': 22266}, {'id': 28563}, {'id': 22271}, {'id': 41006}, {'id': 41521}, {'id': 43091}, {'id': 43991}, {'id': 46746}, {'id': 48806}, {'id': 51961}, {'id': 52096}, {'id': 53806}, {'id': 53996}, {'id': 55576}, {'id': 55956}, {'id': 56606}, {'id': 56696}, {'id': 57526}, {'id': 58046}, {'id': 58196}, {'id': 66498}, {'id': 16166}, {'id': 18951}, {'id': 22546}, {'id': 58356}, {'id': 71196}, {'id': 986}, {'id': 2711}, {'id': 4311}, {'id': 4369}, {'id': 5791}, {'id': 7651}, {'id': 8016}, {'id': 8721}, {'id': 9218}, {'id': 10026}, {'id': 12721}, {'id': 14691}, {'id': 16356}, {'id': 3106}, {'id': 20756}, {'id': 21276}, {'id': 21301}, {'id': 22406}, {'id': 22766}, {'id': 23121}, {'id': 23598}, {'id': 26856}, {'id': 4367}, {'id': 27776}, {'id': 29076}, {'id': 29411}, {'id': 32576}, {'id': 32686}, {'id': 35996}, {'id': 40296}, {'id': 29071}, {'id': 44051}, {'id': 44161}, {'id': 49241}, {'id': 45036}, {'id': 45366}, {'id': 71096}, {'id': 46101}, {'id': 46946}, {'id': 9288}, {'id': 65551}, {'id': 69858}, {'id': 47811}, {'id': 48031}, {'id': 48116}, {'id': 51193}, {'id': 52801}, {'id': 54166}, {'id': 55731}, {'id': 45936}, {'id': 71101}, {'id': 57756}, {'id': 58531}, {'id': 33646}, {'id': 60001}, {'id': 60836}, {'id': 61561}, {'id': 45941}, {'id': 63656}, {'id': 64516}, {'id': 65483}, {'id': 65938}, {'id': 66136}, {'id': 66256}, {'id': 66576}, {'id': 67036}, {'id': 68591}, {'id': 69901}, {'id': 70561}, {'id': 71081}, {'id': 52156}, {'id': 1906}, {'id': 8081}, {'id': 9741}, {'id': 12676}, {'id': 13531}, {'id': 17906}, {'id': 21011}, {'id': 25441}, {'id': 29931}, {'id': 30696}, {'id': 34821}, {'id': 40511}, {'id': 42251}, {'id': 43196}, {'id': 45656}, {'id': 51576}, {'id': 52566}, {'id': 56681}, {'id': 58171}, {'id': 58191}, {'id': 60031}, {'id': 60896}, {'id': 63696}, {'id': 67171}]}\n"
          ]
        }
      ],
      "source": [
        "# Exercise 2\n",
        "# Write a script that displays the information\n",
        "# of the county \"Derbyshire\".\n",
        "\n",
        "#######################################################\n",
        "################## YOUR ANSWER HERE ##################\n",
        "#######################################################\n",
        "url = \"http://opendomesday.org/api/1.0/county\"\n",
        "response = requests.get(url)\n",
        "counties = response.json()\n",
        "derbyshire_info = None\n",
        "for county in counties:\n",
        "    if county['name'] == \"Derbyshire\":\n",
        "        Derbyshire=county\n",
        "        print(county)\n",
        "        break\n"
      ]
    },
    {
      "cell_type": "code",
      "execution_count": 5,
      "metadata": {
        "id": "dw6flEdA5mKH",
        "colab": {
          "base_uri": "https://localhost:8080/",
          "height": 393
        },
        "outputId": "4e0397ac-ea1d-4ef1-ddc0-68a65d281986"
      },
      "outputs": [
        {
          "output_type": "stream",
          "name": "stdout",
          "text": [
            "[{'id': 1036}, {'id': 2558}, {'id': 3016}, {'id': 4791}, {'id': 6093}, {'id': 8701}, {'id': 8951}, {'id': 9101}, {'id': 11441}, {'id': 10771}, {'id': 16116}, {'id': 20861}, {'id': 22251}, {'id': 22571}, {'id': 22611}, {'id': 24741}, {'id': 25536}, {'id': 19061}, {'id': 30246}, {'id': 31896}, {'id': 32521}, {'id': 32981}, {'id': 33916}, {'id': 41346}, {'id': 41788}, {'id': 41801}, {'id': 45821}, {'id': 47401}, {'id': 47411}, {'id': 52361}, {'id': 52596}, {'id': 53901}, {'id': 54446}, {'id': 54646}, {'id': 55736}, {'id': 56786}, {'id': 57061}, {'id': 60236}, {'id': 60351}, {'id': 60816}, {'id': 63606}, {'id': 65368}, {'id': 73221}, {'id': 73731}, {'id': 73741}, {'id': 91}, {'id': 2623}, {'id': 3011}, {'id': 3941}, {'id': 4046}, {'id': 5016}, {'id': 5676}, {'id': 7111}, {'id': 7116}, {'id': 7451}, {'id': 9056}, {'id': 10981}, {'id': 11656}, {'id': 11941}, {'id': 12751}, {'id': 13401}, {'id': 14081}, {'id': 14306}, {'id': 15306}, {'id': 15451}, {'id': 17386}, {'id': 17811}, {'id': 19611}, {'id': 22436}, {'id': 22476}, {'id': 24011}, {'id': 24306}, {'id': 25081}, {'id': 27521}, {'id': 33816}, {'id': 40056}, {'id': 28311}, {'id': 29846}, {'id': 30061}, {'id': 30211}, {'id': 30536}, {'id': 30571}, {'id': 20391}, {'id': 32571}, {'id': 33016}, {'id': 36211}, {'id': 37586}, {'id': 40057}, {'id': 39661}, {'id': 39956}, {'id': 40466}, {'id': 42799}, {'id': 43751}, {'id': 44321}, {'id': 28296}, {'id': 34241}, {'id': 46861}, {'id': 26971}, {'id': 2366}, {'id': 48026}, {'id': 49236}, {'id': 50311}, {'id': 52766}, {'id': 52791}, {'id': 55006}, {'id': 55131}, {'id': 58231}, {'id': 59051}, {'id': 42936}, {'id': 61396}, {'id': 62566}, {'id': 63721}, {'id': 67724}, {'id': 69701}, {'id': 72781}, {'id': 73841}, {'id': 14941}, {'id': 20691}, {'id': 39371}, {'id': 42171}, {'id': 54526}, {'id': 46681}, {'id': 51241}, {'id': 64663}, {'id': 70526}, {'id': 1326}, {'id': 2401}, {'id': 3291}, {'id': 4001}, {'id': 8116}, {'id': 8831}, {'id': 9461}, {'id': 10196}, {'id': 12706}, {'id': 13281}, {'id': 22243}, {'id': 18184}, {'id': 18736}, {'id': 23231}, {'id': 6141}, {'id': 29236}, {'id': 29861}, {'id': 32336}, {'id': 33086}, {'id': 34446}, {'id': 35221}, {'id': 35041}, {'id': 37056}, {'id': 38231}, {'id': 40456}, {'id': 41344}, {'id': 42041}, {'id': 42046}, {'id': 42797}, {'id': 45553}, {'id': 46851}, {'id': 48266}, {'id': 49221}, {'id': 55881}, {'id': 56826}, {'id': 56941}, {'id': 61526}, {'id': 62731}, {'id': 63966}, {'id': 66911}, {'id': 68251}, {'id': 68481}, {'id': 68546}, {'id': 71226}, {'id': 71466}, {'id': 1136}, {'id': 1456}, {'id': 1596}, {'id': 2106}, {'id': 3163}, {'id': 4646}, {'id': 5396}, {'id': 8456}, {'id': 11731}, {'id': 14476}, {'id': 18001}, {'id': 19416}, {'id': 22741}, {'id': 23256}, {'id': 23731}, {'id': 24921}, {'id': 35046}, {'id': 35311}, {'id': 37656}, {'id': 39466}, {'id': 39566}, {'id': 40901}, {'id': 41658}, {'id': 42536}, {'id': 42741}, {'id': 44361}, {'id': 45893}, {'id': 47416}, {'id': 49901}, {'id': 50661}, {'id': 50806}, {'id': 54966}, {'id': 56216}, {'id': 58701}, {'id': 61046}, {'id': 63391}, {'id': 65696}, {'id': 69008}, {'id': 69081}, {'id': 70641}, {'id': 8956}, {'id': 9586}, {'id': 9611}, {'id': 13741}, {'id': 13806}, {'id': 16581}, {'id': 18621}, {'id': 19941}, {'id': 20101}, {'id': 21051}, {'id': 21326}, {'id': 28556}, {'id': 30666}, {'id': 31306}, {'id': 32361}, {'id': 33141}, {'id': 33376}, {'id': 34646}, {'id': 35946}, {'id': 37591}, {'id': 14686}, {'id': 22266}, {'id': 28563}, {'id': 22271}, {'id': 41006}, {'id': 41521}, {'id': 43091}, {'id': 43991}, {'id': 46746}, {'id': 48806}, {'id': 51961}, {'id': 52096}, {'id': 53806}, {'id': 53996}, {'id': 55576}, {'id': 55956}, {'id': 56606}, {'id': 56696}, {'id': 57526}, {'id': 58046}, {'id': 58196}, {'id': 66498}, {'id': 16166}, {'id': 18951}, {'id': 22546}, {'id': 58356}, {'id': 71196}, {'id': 986}, {'id': 2711}, {'id': 4311}, {'id': 4369}, {'id': 5791}, {'id': 7651}, {'id': 8016}, {'id': 8721}, {'id': 9218}, {'id': 10026}, {'id': 12721}, {'id': 14691}, {'id': 16356}, {'id': 3106}, {'id': 20756}, {'id': 21276}, {'id': 21301}, {'id': 22406}, {'id': 22766}, {'id': 23121}, {'id': 23598}, {'id': 26856}, {'id': 4367}, {'id': 27776}, {'id': 29076}, {'id': 29411}, {'id': 32576}, {'id': 32686}, {'id': 35996}, {'id': 40296}, {'id': 29071}, {'id': 44051}, {'id': 44161}, {'id': 49241}, {'id': 45036}, {'id': 45366}, {'id': 71096}, {'id': 46101}, {'id': 46946}, {'id': 9288}, {'id': 65551}, {'id': 69858}, {'id': 47811}, {'id': 48031}, {'id': 48116}, {'id': 51193}, {'id': 52801}, {'id': 54166}, {'id': 55731}, {'id': 45936}, {'id': 71101}, {'id': 57756}, {'id': 58531}, {'id': 33646}, {'id': 60001}, {'id': 60836}, {'id': 61561}, {'id': 45941}, {'id': 63656}, {'id': 64516}, {'id': 65483}, {'id': 65938}, {'id': 66136}, {'id': 66256}, {'id': 66576}, {'id': 67036}, {'id': 68591}, {'id': 69901}, {'id': 70561}, {'id': 71081}, {'id': 52156}, {'id': 1906}, {'id': 8081}, {'id': 9741}, {'id': 12676}, {'id': 13531}, {'id': 17906}, {'id': 21011}, {'id': 25441}, {'id': 29931}, {'id': 30696}, {'id': 34821}, {'id': 40511}, {'id': 42251}, {'id': 43196}, {'id': 45656}, {'id': 51576}, {'id': 52566}, {'id': 56681}, {'id': 58171}, {'id': 58191}, {'id': 60031}, {'id': 60896}, {'id': 63696}, {'id': 67171}]\n"
          ]
        },
        {
          "output_type": "error",
          "ename": "KeyboardInterrupt",
          "evalue": "",
          "traceback": [
            "\u001b[0;31m---------------------------------------------------------------------------\u001b[0m",
            "\u001b[0;31mKeyboardInterrupt\u001b[0m                         Traceback (most recent call last)",
            "\u001b[0;32m<ipython-input-5-f1cf9fd3f5b0>\u001b[0m in \u001b[0;36m<cell line: 13>\u001b[0;34m()\u001b[0m\n\u001b[1;32m     13\u001b[0m \u001b[0;32mfor\u001b[0m \u001b[0mplace\u001b[0m \u001b[0;32min\u001b[0m \u001b[0mplaces_in_county\u001b[0m\u001b[0;34m:\u001b[0m\u001b[0;34m\u001b[0m\u001b[0;34m\u001b[0m\u001b[0m\n\u001b[1;32m     14\u001b[0m     \u001b[0mplace_id\u001b[0m \u001b[0;34m=\u001b[0m \u001b[0mplace\u001b[0m\u001b[0;34m[\u001b[0m\u001b[0;34m'id'\u001b[0m\u001b[0;34m]\u001b[0m\u001b[0;34m\u001b[0m\u001b[0;34m\u001b[0m\u001b[0m\n\u001b[0;32m---> 15\u001b[0;31m     \u001b[0mresponse\u001b[0m \u001b[0;34m=\u001b[0m \u001b[0mrequests\u001b[0m\u001b[0;34m.\u001b[0m\u001b[0mget\u001b[0m\u001b[0;34m(\u001b[0m\u001b[0;34mf'https://opendomesday.org/api/1.0/place/{place_id}'\u001b[0m\u001b[0;34m)\u001b[0m\u001b[0;34m\u001b[0m\u001b[0;34m\u001b[0m\u001b[0m\n\u001b[0m\u001b[1;32m     16\u001b[0m     \u001b[0mplace_detail\u001b[0m \u001b[0;34m=\u001b[0m \u001b[0mresponse\u001b[0m\u001b[0;34m.\u001b[0m\u001b[0mjson\u001b[0m\u001b[0;34m(\u001b[0m\u001b[0;34m)\u001b[0m\u001b[0;34m\u001b[0m\u001b[0;34m\u001b[0m\u001b[0m\n\u001b[1;32m     17\u001b[0m     \u001b[0mplace_details\u001b[0m\u001b[0;34m.\u001b[0m\u001b[0mappend\u001b[0m\u001b[0;34m(\u001b[0m\u001b[0mplace_detail\u001b[0m\u001b[0;34m)\u001b[0m\u001b[0;34m\u001b[0m\u001b[0;34m\u001b[0m\u001b[0m\n",
            "\u001b[0;32m/usr/local/lib/python3.10/dist-packages/requests/api.py\u001b[0m in \u001b[0;36mget\u001b[0;34m(url, params, **kwargs)\u001b[0m\n\u001b[1;32m     71\u001b[0m     \"\"\"\n\u001b[1;32m     72\u001b[0m \u001b[0;34m\u001b[0m\u001b[0m\n\u001b[0;32m---> 73\u001b[0;31m     \u001b[0;32mreturn\u001b[0m \u001b[0mrequest\u001b[0m\u001b[0;34m(\u001b[0m\u001b[0;34m\"get\"\u001b[0m\u001b[0;34m,\u001b[0m \u001b[0murl\u001b[0m\u001b[0;34m,\u001b[0m \u001b[0mparams\u001b[0m\u001b[0;34m=\u001b[0m\u001b[0mparams\u001b[0m\u001b[0;34m,\u001b[0m \u001b[0;34m**\u001b[0m\u001b[0mkwargs\u001b[0m\u001b[0;34m)\u001b[0m\u001b[0;34m\u001b[0m\u001b[0;34m\u001b[0m\u001b[0m\n\u001b[0m\u001b[1;32m     74\u001b[0m \u001b[0;34m\u001b[0m\u001b[0m\n\u001b[1;32m     75\u001b[0m \u001b[0;34m\u001b[0m\u001b[0m\n",
            "\u001b[0;32m/usr/local/lib/python3.10/dist-packages/requests/api.py\u001b[0m in \u001b[0;36mrequest\u001b[0;34m(method, url, **kwargs)\u001b[0m\n\u001b[1;32m     57\u001b[0m     \u001b[0;31m# cases, and look like a memory leak in others.\u001b[0m\u001b[0;34m\u001b[0m\u001b[0;34m\u001b[0m\u001b[0m\n\u001b[1;32m     58\u001b[0m     \u001b[0;32mwith\u001b[0m \u001b[0msessions\u001b[0m\u001b[0;34m.\u001b[0m\u001b[0mSession\u001b[0m\u001b[0;34m(\u001b[0m\u001b[0;34m)\u001b[0m \u001b[0;32mas\u001b[0m \u001b[0msession\u001b[0m\u001b[0;34m:\u001b[0m\u001b[0;34m\u001b[0m\u001b[0;34m\u001b[0m\u001b[0m\n\u001b[0;32m---> 59\u001b[0;31m         \u001b[0;32mreturn\u001b[0m \u001b[0msession\u001b[0m\u001b[0;34m.\u001b[0m\u001b[0mrequest\u001b[0m\u001b[0;34m(\u001b[0m\u001b[0mmethod\u001b[0m\u001b[0;34m=\u001b[0m\u001b[0mmethod\u001b[0m\u001b[0;34m,\u001b[0m \u001b[0murl\u001b[0m\u001b[0;34m=\u001b[0m\u001b[0murl\u001b[0m\u001b[0;34m,\u001b[0m \u001b[0;34m**\u001b[0m\u001b[0mkwargs\u001b[0m\u001b[0;34m)\u001b[0m\u001b[0;34m\u001b[0m\u001b[0;34m\u001b[0m\u001b[0m\n\u001b[0m\u001b[1;32m     60\u001b[0m \u001b[0;34m\u001b[0m\u001b[0m\n\u001b[1;32m     61\u001b[0m \u001b[0;34m\u001b[0m\u001b[0m\n",
            "\u001b[0;32m/usr/local/lib/python3.10/dist-packages/requests/sessions.py\u001b[0m in \u001b[0;36mrequest\u001b[0;34m(self, method, url, params, data, headers, cookies, files, auth, timeout, allow_redirects, proxies, hooks, stream, verify, cert, json)\u001b[0m\n\u001b[1;32m    587\u001b[0m         }\n\u001b[1;32m    588\u001b[0m         \u001b[0msend_kwargs\u001b[0m\u001b[0;34m.\u001b[0m\u001b[0mupdate\u001b[0m\u001b[0;34m(\u001b[0m\u001b[0msettings\u001b[0m\u001b[0;34m)\u001b[0m\u001b[0;34m\u001b[0m\u001b[0;34m\u001b[0m\u001b[0m\n\u001b[0;32m--> 589\u001b[0;31m         \u001b[0mresp\u001b[0m \u001b[0;34m=\u001b[0m \u001b[0mself\u001b[0m\u001b[0;34m.\u001b[0m\u001b[0msend\u001b[0m\u001b[0;34m(\u001b[0m\u001b[0mprep\u001b[0m\u001b[0;34m,\u001b[0m \u001b[0;34m**\u001b[0m\u001b[0msend_kwargs\u001b[0m\u001b[0;34m)\u001b[0m\u001b[0;34m\u001b[0m\u001b[0;34m\u001b[0m\u001b[0m\n\u001b[0m\u001b[1;32m    590\u001b[0m \u001b[0;34m\u001b[0m\u001b[0m\n\u001b[1;32m    591\u001b[0m         \u001b[0;32mreturn\u001b[0m \u001b[0mresp\u001b[0m\u001b[0;34m\u001b[0m\u001b[0;34m\u001b[0m\u001b[0m\n",
            "\u001b[0;32m/usr/local/lib/python3.10/dist-packages/requests/sessions.py\u001b[0m in \u001b[0;36msend\u001b[0;34m(self, request, **kwargs)\u001b[0m\n\u001b[1;32m    701\u001b[0m \u001b[0;34m\u001b[0m\u001b[0m\n\u001b[1;32m    702\u001b[0m         \u001b[0;31m# Send the request\u001b[0m\u001b[0;34m\u001b[0m\u001b[0;34m\u001b[0m\u001b[0m\n\u001b[0;32m--> 703\u001b[0;31m         \u001b[0mr\u001b[0m \u001b[0;34m=\u001b[0m \u001b[0madapter\u001b[0m\u001b[0;34m.\u001b[0m\u001b[0msend\u001b[0m\u001b[0;34m(\u001b[0m\u001b[0mrequest\u001b[0m\u001b[0;34m,\u001b[0m \u001b[0;34m**\u001b[0m\u001b[0mkwargs\u001b[0m\u001b[0;34m)\u001b[0m\u001b[0;34m\u001b[0m\u001b[0;34m\u001b[0m\u001b[0m\n\u001b[0m\u001b[1;32m    704\u001b[0m \u001b[0;34m\u001b[0m\u001b[0m\n\u001b[1;32m    705\u001b[0m         \u001b[0;31m# Total elapsed time of the request (approximately)\u001b[0m\u001b[0;34m\u001b[0m\u001b[0;34m\u001b[0m\u001b[0m\n",
            "\u001b[0;32m/usr/local/lib/python3.10/dist-packages/requests/adapters.py\u001b[0m in \u001b[0;36msend\u001b[0;34m(self, request, stream, timeout, verify, cert, proxies)\u001b[0m\n\u001b[1;32m    484\u001b[0m \u001b[0;34m\u001b[0m\u001b[0m\n\u001b[1;32m    485\u001b[0m         \u001b[0;32mtry\u001b[0m\u001b[0;34m:\u001b[0m\u001b[0;34m\u001b[0m\u001b[0;34m\u001b[0m\u001b[0m\n\u001b[0;32m--> 486\u001b[0;31m             resp = conn.urlopen(\n\u001b[0m\u001b[1;32m    487\u001b[0m                 \u001b[0mmethod\u001b[0m\u001b[0;34m=\u001b[0m\u001b[0mrequest\u001b[0m\u001b[0;34m.\u001b[0m\u001b[0mmethod\u001b[0m\u001b[0;34m,\u001b[0m\u001b[0;34m\u001b[0m\u001b[0;34m\u001b[0m\u001b[0m\n\u001b[1;32m    488\u001b[0m                 \u001b[0murl\u001b[0m\u001b[0;34m=\u001b[0m\u001b[0murl\u001b[0m\u001b[0;34m,\u001b[0m\u001b[0;34m\u001b[0m\u001b[0;34m\u001b[0m\u001b[0m\n",
            "\u001b[0;32m/usr/local/lib/python3.10/dist-packages/urllib3/connectionpool.py\u001b[0m in \u001b[0;36murlopen\u001b[0;34m(self, method, url, body, headers, retries, redirect, assert_same_host, timeout, pool_timeout, release_conn, chunked, body_pos, preload_content, decode_content, **response_kw)\u001b[0m\n\u001b[1;32m    789\u001b[0m \u001b[0;34m\u001b[0m\u001b[0m\n\u001b[1;32m    790\u001b[0m             \u001b[0;31m# Make the request on the HTTPConnection object\u001b[0m\u001b[0;34m\u001b[0m\u001b[0;34m\u001b[0m\u001b[0m\n\u001b[0;32m--> 791\u001b[0;31m             response = self._make_request(\n\u001b[0m\u001b[1;32m    792\u001b[0m                 \u001b[0mconn\u001b[0m\u001b[0;34m,\u001b[0m\u001b[0;34m\u001b[0m\u001b[0;34m\u001b[0m\u001b[0m\n\u001b[1;32m    793\u001b[0m                 \u001b[0mmethod\u001b[0m\u001b[0;34m,\u001b[0m\u001b[0;34m\u001b[0m\u001b[0;34m\u001b[0m\u001b[0m\n",
            "\u001b[0;32m/usr/local/lib/python3.10/dist-packages/urllib3/connectionpool.py\u001b[0m in \u001b[0;36m_make_request\u001b[0;34m(self, conn, method, url, body, headers, retries, timeout, chunked, response_conn, preload_content, decode_content, enforce_content_length)\u001b[0m\n\u001b[1;32m    535\u001b[0m         \u001b[0;31m# Receive the response from the server\u001b[0m\u001b[0;34m\u001b[0m\u001b[0;34m\u001b[0m\u001b[0m\n\u001b[1;32m    536\u001b[0m         \u001b[0;32mtry\u001b[0m\u001b[0;34m:\u001b[0m\u001b[0;34m\u001b[0m\u001b[0;34m\u001b[0m\u001b[0m\n\u001b[0;32m--> 537\u001b[0;31m             \u001b[0mresponse\u001b[0m \u001b[0;34m=\u001b[0m \u001b[0mconn\u001b[0m\u001b[0;34m.\u001b[0m\u001b[0mgetresponse\u001b[0m\u001b[0;34m(\u001b[0m\u001b[0;34m)\u001b[0m\u001b[0;34m\u001b[0m\u001b[0;34m\u001b[0m\u001b[0m\n\u001b[0m\u001b[1;32m    538\u001b[0m         \u001b[0;32mexcept\u001b[0m \u001b[0;34m(\u001b[0m\u001b[0mBaseSSLError\u001b[0m\u001b[0;34m,\u001b[0m \u001b[0mOSError\u001b[0m\u001b[0;34m)\u001b[0m \u001b[0;32mas\u001b[0m \u001b[0me\u001b[0m\u001b[0;34m:\u001b[0m\u001b[0;34m\u001b[0m\u001b[0;34m\u001b[0m\u001b[0m\n\u001b[1;32m    539\u001b[0m             \u001b[0mself\u001b[0m\u001b[0;34m.\u001b[0m\u001b[0m_raise_timeout\u001b[0m\u001b[0;34m(\u001b[0m\u001b[0merr\u001b[0m\u001b[0;34m=\u001b[0m\u001b[0me\u001b[0m\u001b[0;34m,\u001b[0m \u001b[0murl\u001b[0m\u001b[0;34m=\u001b[0m\u001b[0murl\u001b[0m\u001b[0;34m,\u001b[0m \u001b[0mtimeout_value\u001b[0m\u001b[0;34m=\u001b[0m\u001b[0mread_timeout\u001b[0m\u001b[0;34m)\u001b[0m\u001b[0;34m\u001b[0m\u001b[0;34m\u001b[0m\u001b[0m\n",
            "\u001b[0;32m/usr/local/lib/python3.10/dist-packages/urllib3/connection.py\u001b[0m in \u001b[0;36mgetresponse\u001b[0;34m(self)\u001b[0m\n\u001b[1;32m    459\u001b[0m \u001b[0;34m\u001b[0m\u001b[0m\n\u001b[1;32m    460\u001b[0m         \u001b[0;31m# Get the response from http.client.HTTPConnection\u001b[0m\u001b[0;34m\u001b[0m\u001b[0;34m\u001b[0m\u001b[0m\n\u001b[0;32m--> 461\u001b[0;31m         \u001b[0mhttplib_response\u001b[0m \u001b[0;34m=\u001b[0m \u001b[0msuper\u001b[0m\u001b[0;34m(\u001b[0m\u001b[0;34m)\u001b[0m\u001b[0;34m.\u001b[0m\u001b[0mgetresponse\u001b[0m\u001b[0;34m(\u001b[0m\u001b[0;34m)\u001b[0m\u001b[0;34m\u001b[0m\u001b[0;34m\u001b[0m\u001b[0m\n\u001b[0m\u001b[1;32m    462\u001b[0m \u001b[0;34m\u001b[0m\u001b[0m\n\u001b[1;32m    463\u001b[0m         \u001b[0;32mtry\u001b[0m\u001b[0;34m:\u001b[0m\u001b[0;34m\u001b[0m\u001b[0;34m\u001b[0m\u001b[0m\n",
            "\u001b[0;32m/usr/lib/python3.10/http/client.py\u001b[0m in \u001b[0;36mgetresponse\u001b[0;34m(self)\u001b[0m\n\u001b[1;32m   1373\u001b[0m         \u001b[0;32mtry\u001b[0m\u001b[0;34m:\u001b[0m\u001b[0;34m\u001b[0m\u001b[0;34m\u001b[0m\u001b[0m\n\u001b[1;32m   1374\u001b[0m             \u001b[0;32mtry\u001b[0m\u001b[0;34m:\u001b[0m\u001b[0;34m\u001b[0m\u001b[0;34m\u001b[0m\u001b[0m\n\u001b[0;32m-> 1375\u001b[0;31m                 \u001b[0mresponse\u001b[0m\u001b[0;34m.\u001b[0m\u001b[0mbegin\u001b[0m\u001b[0;34m(\u001b[0m\u001b[0;34m)\u001b[0m\u001b[0;34m\u001b[0m\u001b[0;34m\u001b[0m\u001b[0m\n\u001b[0m\u001b[1;32m   1376\u001b[0m             \u001b[0;32mexcept\u001b[0m \u001b[0mConnectionError\u001b[0m\u001b[0;34m:\u001b[0m\u001b[0;34m\u001b[0m\u001b[0;34m\u001b[0m\u001b[0m\n\u001b[1;32m   1377\u001b[0m                 \u001b[0mself\u001b[0m\u001b[0;34m.\u001b[0m\u001b[0mclose\u001b[0m\u001b[0;34m(\u001b[0m\u001b[0;34m)\u001b[0m\u001b[0;34m\u001b[0m\u001b[0;34m\u001b[0m\u001b[0m\n",
            "\u001b[0;32m/usr/lib/python3.10/http/client.py\u001b[0m in \u001b[0;36mbegin\u001b[0;34m(self)\u001b[0m\n\u001b[1;32m    316\u001b[0m         \u001b[0;31m# read until we get a non-100 response\u001b[0m\u001b[0;34m\u001b[0m\u001b[0;34m\u001b[0m\u001b[0m\n\u001b[1;32m    317\u001b[0m         \u001b[0;32mwhile\u001b[0m \u001b[0;32mTrue\u001b[0m\u001b[0;34m:\u001b[0m\u001b[0;34m\u001b[0m\u001b[0;34m\u001b[0m\u001b[0m\n\u001b[0;32m--> 318\u001b[0;31m             \u001b[0mversion\u001b[0m\u001b[0;34m,\u001b[0m \u001b[0mstatus\u001b[0m\u001b[0;34m,\u001b[0m \u001b[0mreason\u001b[0m \u001b[0;34m=\u001b[0m \u001b[0mself\u001b[0m\u001b[0;34m.\u001b[0m\u001b[0m_read_status\u001b[0m\u001b[0;34m(\u001b[0m\u001b[0;34m)\u001b[0m\u001b[0;34m\u001b[0m\u001b[0;34m\u001b[0m\u001b[0m\n\u001b[0m\u001b[1;32m    319\u001b[0m             \u001b[0;32mif\u001b[0m \u001b[0mstatus\u001b[0m \u001b[0;34m!=\u001b[0m \u001b[0mCONTINUE\u001b[0m\u001b[0;34m:\u001b[0m\u001b[0;34m\u001b[0m\u001b[0;34m\u001b[0m\u001b[0m\n\u001b[1;32m    320\u001b[0m                 \u001b[0;32mbreak\u001b[0m\u001b[0;34m\u001b[0m\u001b[0;34m\u001b[0m\u001b[0m\n",
            "\u001b[0;32m/usr/lib/python3.10/http/client.py\u001b[0m in \u001b[0;36m_read_status\u001b[0;34m(self)\u001b[0m\n\u001b[1;32m    277\u001b[0m \u001b[0;34m\u001b[0m\u001b[0m\n\u001b[1;32m    278\u001b[0m     \u001b[0;32mdef\u001b[0m \u001b[0m_read_status\u001b[0m\u001b[0;34m(\u001b[0m\u001b[0mself\u001b[0m\u001b[0;34m)\u001b[0m\u001b[0;34m:\u001b[0m\u001b[0;34m\u001b[0m\u001b[0;34m\u001b[0m\u001b[0m\n\u001b[0;32m--> 279\u001b[0;31m         \u001b[0mline\u001b[0m \u001b[0;34m=\u001b[0m \u001b[0mstr\u001b[0m\u001b[0;34m(\u001b[0m\u001b[0mself\u001b[0m\u001b[0;34m.\u001b[0m\u001b[0mfp\u001b[0m\u001b[0;34m.\u001b[0m\u001b[0mreadline\u001b[0m\u001b[0;34m(\u001b[0m\u001b[0m_MAXLINE\u001b[0m \u001b[0;34m+\u001b[0m \u001b[0;36m1\u001b[0m\u001b[0;34m)\u001b[0m\u001b[0;34m,\u001b[0m \u001b[0;34m\"iso-8859-1\"\u001b[0m\u001b[0;34m)\u001b[0m\u001b[0;34m\u001b[0m\u001b[0;34m\u001b[0m\u001b[0m\n\u001b[0m\u001b[1;32m    280\u001b[0m         \u001b[0;32mif\u001b[0m \u001b[0mlen\u001b[0m\u001b[0;34m(\u001b[0m\u001b[0mline\u001b[0m\u001b[0;34m)\u001b[0m \u001b[0;34m>\u001b[0m \u001b[0m_MAXLINE\u001b[0m\u001b[0;34m:\u001b[0m\u001b[0;34m\u001b[0m\u001b[0;34m\u001b[0m\u001b[0m\n\u001b[1;32m    281\u001b[0m             \u001b[0;32mraise\u001b[0m \u001b[0mLineTooLong\u001b[0m\u001b[0;34m(\u001b[0m\u001b[0;34m\"status line\"\u001b[0m\u001b[0;34m)\u001b[0m\u001b[0;34m\u001b[0m\u001b[0;34m\u001b[0m\u001b[0m\n",
            "\u001b[0;32m/usr/lib/python3.10/socket.py\u001b[0m in \u001b[0;36mreadinto\u001b[0;34m(self, b)\u001b[0m\n\u001b[1;32m    703\u001b[0m         \u001b[0;32mwhile\u001b[0m \u001b[0;32mTrue\u001b[0m\u001b[0;34m:\u001b[0m\u001b[0;34m\u001b[0m\u001b[0;34m\u001b[0m\u001b[0m\n\u001b[1;32m    704\u001b[0m             \u001b[0;32mtry\u001b[0m\u001b[0;34m:\u001b[0m\u001b[0;34m\u001b[0m\u001b[0;34m\u001b[0m\u001b[0m\n\u001b[0;32m--> 705\u001b[0;31m                 \u001b[0;32mreturn\u001b[0m \u001b[0mself\u001b[0m\u001b[0;34m.\u001b[0m\u001b[0m_sock\u001b[0m\u001b[0;34m.\u001b[0m\u001b[0mrecv_into\u001b[0m\u001b[0;34m(\u001b[0m\u001b[0mb\u001b[0m\u001b[0;34m)\u001b[0m\u001b[0;34m\u001b[0m\u001b[0;34m\u001b[0m\u001b[0m\n\u001b[0m\u001b[1;32m    706\u001b[0m             \u001b[0;32mexcept\u001b[0m \u001b[0mtimeout\u001b[0m\u001b[0;34m:\u001b[0m\u001b[0;34m\u001b[0m\u001b[0;34m\u001b[0m\u001b[0m\n\u001b[1;32m    707\u001b[0m                 \u001b[0mself\u001b[0m\u001b[0;34m.\u001b[0m\u001b[0m_timeout_occurred\u001b[0m \u001b[0;34m=\u001b[0m \u001b[0;32mTrue\u001b[0m\u001b[0;34m\u001b[0m\u001b[0;34m\u001b[0m\u001b[0m\n",
            "\u001b[0;32m/usr/lib/python3.10/ssl.py\u001b[0m in \u001b[0;36mrecv_into\u001b[0;34m(self, buffer, nbytes, flags)\u001b[0m\n\u001b[1;32m   1301\u001b[0m                   \u001b[0;34m\"non-zero flags not allowed in calls to recv_into() on %s\"\u001b[0m \u001b[0;34m%\u001b[0m\u001b[0;34m\u001b[0m\u001b[0;34m\u001b[0m\u001b[0m\n\u001b[1;32m   1302\u001b[0m                   self.__class__)\n\u001b[0;32m-> 1303\u001b[0;31m             \u001b[0;32mreturn\u001b[0m \u001b[0mself\u001b[0m\u001b[0;34m.\u001b[0m\u001b[0mread\u001b[0m\u001b[0;34m(\u001b[0m\u001b[0mnbytes\u001b[0m\u001b[0;34m,\u001b[0m \u001b[0mbuffer\u001b[0m\u001b[0;34m)\u001b[0m\u001b[0;34m\u001b[0m\u001b[0;34m\u001b[0m\u001b[0m\n\u001b[0m\u001b[1;32m   1304\u001b[0m         \u001b[0;32melse\u001b[0m\u001b[0;34m:\u001b[0m\u001b[0;34m\u001b[0m\u001b[0;34m\u001b[0m\u001b[0m\n\u001b[1;32m   1305\u001b[0m             \u001b[0;32mreturn\u001b[0m \u001b[0msuper\u001b[0m\u001b[0;34m(\u001b[0m\u001b[0;34m)\u001b[0m\u001b[0;34m.\u001b[0m\u001b[0mrecv_into\u001b[0m\u001b[0;34m(\u001b[0m\u001b[0mbuffer\u001b[0m\u001b[0;34m,\u001b[0m \u001b[0mnbytes\u001b[0m\u001b[0;34m,\u001b[0m \u001b[0mflags\u001b[0m\u001b[0;34m)\u001b[0m\u001b[0;34m\u001b[0m\u001b[0;34m\u001b[0m\u001b[0m\n",
            "\u001b[0;32m/usr/lib/python3.10/ssl.py\u001b[0m in \u001b[0;36mread\u001b[0;34m(self, len, buffer)\u001b[0m\n\u001b[1;32m   1157\u001b[0m         \u001b[0;32mtry\u001b[0m\u001b[0;34m:\u001b[0m\u001b[0;34m\u001b[0m\u001b[0;34m\u001b[0m\u001b[0m\n\u001b[1;32m   1158\u001b[0m             \u001b[0;32mif\u001b[0m \u001b[0mbuffer\u001b[0m \u001b[0;32mis\u001b[0m \u001b[0;32mnot\u001b[0m \u001b[0;32mNone\u001b[0m\u001b[0;34m:\u001b[0m\u001b[0;34m\u001b[0m\u001b[0;34m\u001b[0m\u001b[0m\n\u001b[0;32m-> 1159\u001b[0;31m                 \u001b[0;32mreturn\u001b[0m \u001b[0mself\u001b[0m\u001b[0;34m.\u001b[0m\u001b[0m_sslobj\u001b[0m\u001b[0;34m.\u001b[0m\u001b[0mread\u001b[0m\u001b[0;34m(\u001b[0m\u001b[0mlen\u001b[0m\u001b[0;34m,\u001b[0m \u001b[0mbuffer\u001b[0m\u001b[0;34m)\u001b[0m\u001b[0;34m\u001b[0m\u001b[0;34m\u001b[0m\u001b[0m\n\u001b[0m\u001b[1;32m   1160\u001b[0m             \u001b[0;32melse\u001b[0m\u001b[0;34m:\u001b[0m\u001b[0;34m\u001b[0m\u001b[0;34m\u001b[0m\u001b[0m\n\u001b[1;32m   1161\u001b[0m                 \u001b[0;32mreturn\u001b[0m \u001b[0mself\u001b[0m\u001b[0;34m.\u001b[0m\u001b[0m_sslobj\u001b[0m\u001b[0;34m.\u001b[0m\u001b[0mread\u001b[0m\u001b[0;34m(\u001b[0m\u001b[0mlen\u001b[0m\u001b[0;34m)\u001b[0m\u001b[0;34m\u001b[0m\u001b[0;34m\u001b[0m\u001b[0m\n",
            "\u001b[0;31mKeyboardInterrupt\u001b[0m: "
          ]
        }
      ],
      "source": [
        "# Exercise 3\n",
        "# Now that we have the ids for all the places in Derbyshire, we can load all their details...\n",
        "# And from their details, we can list all the details of their manors.\n",
        "# Go fetch the data!\n",
        "# P.S.: remember to save the data to avoid downloading it every time\n",
        "\n",
        "#######################################################\n",
        "################## YOUR ANSWER HERE ##################\n",
        "#######################################################\n",
        "places_in_county = Derbyshire.get('places_in_county')\n",
        "print(places_in_county)\n",
        "place_details = []\n",
        "for place in places_in_county:\n",
        "    place_id = place['id']\n",
        "    response = requests.get(f'https://opendomesday.org/api/1.0/place/{place_id}')\n",
        "    place_detail = response.json()\n",
        "    place_details.append(place_detail)"
      ]
    },
    {
      "cell_type": "code",
      "source": [
        "print(place_details[0])"
      ],
      "metadata": {
        "colab": {
          "base_uri": "https://localhost:8080/"
        },
        "id": "ifPT1SzMgsp6",
        "outputId": "82db5bdf-1930-44f6-b0c5-4ce5242aa480"
      },
      "execution_count": 6,
      "outputs": [
        {
          "output_type": "stream",
          "name": "stdout",
          "text": [
            "{'id': 1036, 'vill': 'Alkmonton', 'vill_slug': 'alkmonton', 'phillimore': '6,35', 'location': 'SRID=4326;POINT (-1.726146307392585 52.94357672901474)', 'grid': 'SK1838', 'status': None, 'xrefs': None, 'county': [{'id': 'dby'}], 'area': [], 'hundred': [{'id': 'appletree'}], 'manors': [{'id': 13038}]}\n"
          ]
        }
      ]
    },
    {
      "cell_type": "code",
      "execution_count": 8,
      "metadata": {
        "id": "nR5WJUgg5mKH",
        "colab": {
          "base_uri": "https://localhost:8080/"
        },
        "outputId": "f9526312-55e5-4a30-99f4-0d99318f4de4"
      },
      "outputs": [
        {
          "output_type": "stream",
          "name": "stdout",
          "text": [
            "[{'id': 10822, 'moneyPaid': 7.0, 'number of ploughs': 5.0}, {'id': 10823, 'moneyPaid': 6.0, 'number of ploughs': 3.0}, {'id': 10831, 'moneyPaid': 3.0, 'number of ploughs': None}, {'id': 10837, 'moneyPaid': 1.0, 'number of ploughs': None}, {'id': 12954, 'moneyPaid': 3.25, 'number of ploughs': 3.0}, {'id': 12955, 'moneyPaid': 9.0, 'number of ploughs': 7.0}, {'id': 12956, 'moneyPaid': 21.0, 'number of ploughs': 22.0}, {'id': 12957, 'moneyPaid': 17.0, 'number of ploughs': 17.0}, {'id': 12958, 'moneyPaid': 4.0, 'number of ploughs': 4.0}, {'id': 12962, 'moneyPaid': 13.81, 'number of ploughs': 18.0}, {'id': 12964, 'moneyPaid': 2.0, 'number of ploughs': 2.0}, {'id': 12966, 'moneyPaid': 0.5, 'number of ploughs': 0.5}, {'id': 12967, 'moneyPaid': 2.0, 'number of ploughs': 3.0}, {'id': 12968, 'moneyPaid': 3.0, 'number of ploughs': 3.0}, {'id': 12970, 'moneyPaid': 18.0, 'number of ploughs': 18.0}, {'id': 12971, 'moneyPaid': 23.0, 'number of ploughs': 22.0}, {'id': 12972, 'moneyPaid': 10.0, 'number of ploughs': 10.0}, {'id': 12973, 'moneyPaid': 6.0, 'number of ploughs': 0.0}, {'id': 12974, 'moneyPaid': 0.75, 'number of ploughs': 0.75}, {'id': 12975, 'moneyPaid': 1.25, 'number of ploughs': 1.25}, {'id': 12976, 'moneyPaid': 2.0, 'number of ploughs': 2.0}, {'id': 12977, 'moneyPaid': 0.5, 'number of ploughs': 0.5}, {'id': 12978, 'moneyPaid': 1.0, 'number of ploughs': None}, {'id': 12981, 'moneyPaid': 0.81, 'number of ploughs': None}, {'id': 12985, 'moneyPaid': 5.25, 'number of ploughs': 5.0}, {'id': 12987, 'moneyPaid': 16.25, 'number of ploughs': 15.0}, {'id': 12996, 'moneyPaid': 4.0, 'number of ploughs': 4.0}, {'id': 10954, 'moneyPaid': 2.0, 'number of ploughs': None}, {'id': 13004, 'moneyPaid': 0.62, 'number of ploughs': 1.0}, {'id': 13005, 'moneyPaid': 1.5, 'number of ploughs': 1.5}, {'id': 13006, 'moneyPaid': 0.5, 'number of ploughs': 0.5}, {'id': 13007, 'moneyPaid': 2.0, 'number of ploughs': 2.0}, {'id': 13008, 'moneyPaid': 4.0, 'number of ploughs': 4.0}, {'id': 13009, 'moneyPaid': 4.0, 'number of ploughs': 4.0}, {'id': 13010, 'moneyPaid': 4.0, 'number of ploughs': 4.0}, {'id': 13011, 'moneyPaid': 4.0, 'number of ploughs': 4.0}, {'id': 13012, 'moneyPaid': 2.0, 'number of ploughs': 2.0}, {'id': 13013, 'moneyPaid': 2.0, 'number of ploughs': 2.0}, {'id': 13014, 'moneyPaid': 2.0, 'number of ploughs': 2.0}, {'id': 13015, 'moneyPaid': 6.0, 'number of ploughs': 6.0}, {'id': 13016, 'moneyPaid': 3.0, 'number of ploughs': 2.0}, {'id': 13022, 'moneyPaid': 2.0, 'number of ploughs': 1.5}, {'id': 13023, 'moneyPaid': 1.0, 'number of ploughs': 1.0}, {'id': 13027, 'moneyPaid': 2.0, 'number of ploughs': 3.0}, {'id': 13028, 'moneyPaid': 4.0, 'number of ploughs': 6.0}, {'id': 13029, 'moneyPaid': 2.5, 'number of ploughs': 2.5}, {'id': 13030, 'moneyPaid': 6.0, 'number of ploughs': 7.0}, {'id': 13031, 'moneyPaid': 2.08, 'number of ploughs': 2.0}, {'id': 13032, 'moneyPaid': 1.0, 'number of ploughs': 1.5}, {'id': 13033, 'moneyPaid': 1.93, 'number of ploughs': 2.0}, {'id': 13034, 'moneyPaid': 2.0, 'number of ploughs': 2.0}, {'id': 13035, 'moneyPaid': 2.0, 'number of ploughs': 2.0}, {'id': 13036, 'moneyPaid': 1.0, 'number of ploughs': 1.0}, {'id': 13037, 'moneyPaid': 4.0, 'number of ploughs': 4.0}, {'id': 13038, 'moneyPaid': 1.5, 'number of ploughs': 2.0}, {'id': 13039, 'moneyPaid': 1.0, 'number of ploughs': 1.0}, {'id': 13040, 'moneyPaid': 2.0, 'number of ploughs': 2.0}, {'id': 13041, 'moneyPaid': 1.5, 'number of ploughs': 2.0}, {'id': 13042, 'moneyPaid': 2.0, 'number of ploughs': 3.0}, {'id': 13043, 'moneyPaid': 2.0, 'number of ploughs': 2.0}, {'id': 13044, 'moneyPaid': 0.37, 'number of ploughs': 0.5}, {'id': 13045, 'moneyPaid': 1.5, 'number of ploughs': 1.5}, {'id': 13046, 'moneyPaid': 1.93, 'number of ploughs': 2.0}, {'id': 13047, 'moneyPaid': 1.0, 'number of ploughs': 2.0}, {'id': 13048, 'moneyPaid': 2.0, 'number of ploughs': 2.0}, {'id': 13049, 'moneyPaid': 3.0, 'number of ploughs': 4.0}, {'id': 13050, 'moneyPaid': 2.0, 'number of ploughs': 2.25}, {'id': 13051, 'moneyPaid': 1.0, 'number of ploughs': None}, {'id': 13052, 'moneyPaid': 1.0, 'number of ploughs': 1.0}, {'id': 13053, 'moneyPaid': 1.0, 'number of ploughs': 2.0}, {'id': 13054, 'moneyPaid': 4.0, 'number of ploughs': 4.0}, {'id': 13055, 'moneyPaid': 0.75, 'number of ploughs': 1.0}, {'id': 13056, 'moneyPaid': 4.0, 'number of ploughs': 4.0}, {'id': 13057, 'moneyPaid': 2.0, 'number of ploughs': 2.0}, {'id': 13058, 'moneyPaid': 2.0, 'number of ploughs': 2.0}, {'id': 13059, 'moneyPaid': 0.66, 'number of ploughs': 0.75}, {'id': 13060, 'moneyPaid': 3.0, 'number of ploughs': 3.0}, {'id': 13061, 'moneyPaid': 2.0, 'number of ploughs': 2.0}, {'id': 13062, 'moneyPaid': 2.0, 'number of ploughs': 2.0}, {'id': 13063, 'moneyPaid': 0.62, 'number of ploughs': 1.0}, {'id': 13064, 'moneyPaid': 1.5, 'number of ploughs': 1.5}, {'id': 13065, 'moneyPaid': 1.5, 'number of ploughs': 1.5}, {'id': 13066, 'moneyPaid': 1.5, 'number of ploughs': 3.0}, {'id': 13067, 'moneyPaid': 1.5, 'number of ploughs': 3.0}, {'id': 11013, 'moneyPaid': 2.0, 'number of ploughs': None}, {'id': 13074, 'moneyPaid': 2.0, 'number of ploughs': 2.0}, {'id': 13075, 'moneyPaid': 3.0, 'number of ploughs': 3.0}, {'id': 13076, 'moneyPaid': 1.0, 'number of ploughs': 1.0}, {'id': 13077, 'moneyPaid': 1.0, 'number of ploughs': 1.0}, {'id': 13078, 'moneyPaid': 0.5, 'number of ploughs': None}, {'id': 13079, 'moneyPaid': 1.5, 'number of ploughs': 3.0}, {'id': 13080, 'moneyPaid': 2.0, 'number of ploughs': 2.0}, {'id': 13081, 'moneyPaid': 1.0, 'number of ploughs': 2.0}, {'id': 13082, 'moneyPaid': 4.0, 'number of ploughs': 4.0}, {'id': 13083, 'moneyPaid': 2.0, 'number of ploughs': 2.0}, {'id': 13085, 'moneyPaid': 0.43, 'number of ploughs': None}, {'id': 13087, 'moneyPaid': 0.5, 'number of ploughs': 0.5}, {'id': 13088, 'moneyPaid': 1.0, 'number of ploughs': 1.0}, {'id': 13092, 'moneyPaid': 0.87, 'number of ploughs': 1.0}, {'id': 13095, 'moneyPaid': 1.0, 'number of ploughs': 2.0}, {'id': 13096, 'moneyPaid': 1.0, 'number of ploughs': None}, {'id': 13097, 'moneyPaid': 2.0, 'number of ploughs': 3.0}, {'id': 13100, 'moneyPaid': 2.0, 'number of ploughs': 4.0}, {'id': 13101, 'moneyPaid': 5.0, 'number of ploughs': 5.0}, {'id': 13104, 'moneyPaid': 2.0, 'number of ploughs': 4.0}, {'id': 13112, 'moneyPaid': 2.0, 'number of ploughs': 2.0}, {'id': 13113, 'moneyPaid': 2.0, 'number of ploughs': 2.0}, {'id': 13114, 'moneyPaid': 3.5, 'number of ploughs': 3.5}, {'id': 13115, 'moneyPaid': 2.0, 'number of ploughs': 2.0}, {'id': 13116, 'moneyPaid': 1.0, 'number of ploughs': 1.0}, {'id': 13117, 'moneyPaid': 1.0, 'number of ploughs': 1.0}, {'id': 13127, 'moneyPaid': 10.0, 'number of ploughs': 14.0}, {'id': 13128, 'moneyPaid': 1.0, 'number of ploughs': 1.0}, {'id': 13129, 'moneyPaid': 3.31, 'number of ploughs': 3.31}, {'id': 13130, 'moneyPaid': 4.0, 'number of ploughs': 6.0}, {'id': 13145, 'moneyPaid': 0.5, 'number of ploughs': 1.0}, {'id': 13149, 'moneyPaid': 1.0, 'number of ploughs': 1.0}, {'id': 13150, 'moneyPaid': 4.0, 'number of ploughs': 4.0}, {'id': 13151, 'moneyPaid': 2.0, 'number of ploughs': 2.0}, {'id': 13152, 'moneyPaid': 1.0, 'number of ploughs': 2.0}, {'id': 13154, 'moneyPaid': 4.0, 'number of ploughs': 6.0}, {'id': 13155, 'moneyPaid': 4.0, 'number of ploughs': 4.0}, {'id': 13157, 'moneyPaid': 3.0, 'number of ploughs': 3.0}, {'id': 13159, 'moneyPaid': 1.5, 'number of ploughs': None}, {'id': 13160, 'moneyPaid': 0.25, 'number of ploughs': 0.5}, {'id': 13184, 'moneyPaid': 1.0, 'number of ploughs': 1.0}, {'id': 13185, 'moneyPaid': 1.0, 'number of ploughs': 0.5}, {'id': 13186, 'moneyPaid': 0.75, 'number of ploughs': 0.5}, {'id': 13187, 'moneyPaid': 0.5, 'number of ploughs': None}, {'id': 13225, 'moneyPaid': 2.0, 'number of ploughs': 3.0}]\n"
          ]
        }
      ],
      "source": [
        "# Exercise 4\n",
        "# Now that we have a quantity of raw data, we will extract the interesting parts.\n",
        "# In our case, we want to count the money paid by each manor and compare it to the number of ploughs it has.\n",
        "# - Can you find the corresponding json fields?\n",
        "# - Then, you can list these numbers for each manor in Derbyshire.\n",
        "# - And format this in an appropriate comma-separated values (CSV) file.\n",
        "\n",
        "#######################################################\n",
        "################## YOUR ANSWER HERE ##################\n",
        "#######################################################\n",
        "manor_moneyPaid_NumberOfPloughs =  []\n",
        "for manor_detail in manor_details:\n",
        "    details = {\n",
        "        \"id\": manor_detail.get('id'),\n",
        "        \"moneyPaid\": manor_detail.get('geld'),\n",
        "        \"number of ploughs\": manor_detail.get('ploughlands')\n",
        "    }\n",
        "    manor_moneyPaid_NumberOfPloughs.append(details)\n",
        "print(manor_moneyPaid_NumberOfPloughs)\n"
      ]
    },
    {
      "cell_type": "code",
      "execution_count": 9,
      "metadata": {
        "id": "TQkduNgf5mKH",
        "colab": {
          "base_uri": "https://localhost:8080/"
        },
        "outputId": "92c4f532-3460-4795-a559-e671c5eaeba3"
      },
      "outputs": [
        {
          "output_type": "stream",
          "name": "stdout",
          "text": [
            "Richest manor id: 12971\n"
          ]
        }
      ],
      "source": [
        "# Exercise 5\n",
        "# What is the richest manor in Derbyshire?\n",
        "\n",
        "#######################################################\n",
        "################## YOUR ANSWER HERE ##################\n",
        "#######################################################\n",
        "max_moneyPaid = 0.0\n",
        "for manor in manor_moneyPaid_NumberOfPloughs:\n",
        "    if manor.get('moneyPaid') and manor.get('moneyPaid') > max_moneyPaid:\n",
        "        max_moneyPaid = manor['moneyPaid']\n",
        "        richest_manor = manor\n",
        "print(f\"Richest manor id: {richest_manor['id']}\")"
      ]
    },
    {
      "cell_type": "code",
      "execution_count": 10,
      "metadata": {
        "id": "ap71oart5mKH",
        "colab": {
          "base_uri": "https://localhost:8080/"
        },
        "outputId": "da624eeb-7f6f-4975-c68b-f397cef2a088"
      },
      "outputs": [
        {
          "output_type": "stream",
          "name": "stdout",
          "text": [
            "Total amount paid : 394.44000000000005\n"
          ]
        }
      ],
      "source": [
        "# Exercise 6\n",
        "# Give the total value paid by Derbyshire.\n",
        "\n",
        "#######################################################\n",
        "################## YOUR ANSWER HERE ##################\n",
        "#######################################################\n",
        "totalPaid = 0\n",
        "for manor in manor_moneyPaid_NumberOfPloughs:\n",
        "    if manor.get('moneyPaid'):\n",
        "        totalPaid += manor.get('moneyPaid')\n",
        "print(f\"Total amount paid : {totalPaid}\")"
      ]
    },
    {
      "cell_type": "code",
      "execution_count": null,
      "metadata": {
        "id": "PCsXeNOH5mKH"
      },
      "outputs": [],
      "source": [
        "# Exercise 7\n",
        "# Create a Python class.\n",
        "# It must include all the previous functionalities.\n",
        "# Refactor your code to make it readable, efficient, and maintainable.\n",
        "\n",
        "#######################################################\n",
        "################## YOUR ANSWER HERE ##################\n",
        "#######################################################\n"
      ]
    },
    {
      "cell_type": "code",
      "execution_count": null,
      "metadata": {
        "id": "Q16sMuek5mKH"
      },
      "outputs": [],
      "source": [
        "# Exercise 8 (optional)\n",
        "# Add to your class a system for error handling.\n",
        "# It must manage the following errors:\n",
        "# - Connection error\n",
        "# - Parsing error\n",
        "# - Request error\n",
        "# - Response error\n",
        "# - Parameter error\n",
        "\n",
        "#######################################################\n",
        "################## YOUR ANSWER HERE ##################\n",
        "#######################################################\n",
        "\n"
      ]
    }
  ],
  "metadata": {
    "kernelspec": {
      "display_name": "api",
      "language": "python",
      "name": "python3"
    },
    "language_info": {
      "codemirror_mode": {
        "name": "ipython",
        "version": 3
      },
      "file_extension": ".py",
      "mimetype": "text/x-python",
      "name": "python",
      "nbconvert_exporter": "python",
      "pygments_lexer": "ipython3",
      "version": "3.11.6"
    },
    "colab": {
      "provenance": []
    }
  },
  "nbformat": 4,
  "nbformat_minor": 0
}
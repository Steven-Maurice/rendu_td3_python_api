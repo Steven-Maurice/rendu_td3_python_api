{
  "nbformat": 4,
  "nbformat_minor": 0,
  "metadata": {
    "colab": {
      "provenance": []
    },
    "kernelspec": {
      "name": "python3",
      "display_name": "Python 3"
    },
    "language_info": {
      "name": "python"
    }
  },
  "cells": [
    {
      "cell_type": "markdown",
      "source": [
        "# Python with APIs"
      ],
      "metadata": {
        "id": "hH4DgwM23-7O"
      }
    },
    {
      "cell_type": "markdown",
      "source": [
        "Exchanges via HTTP using requests package"
      ],
      "metadata": {
        "id": "J3D1t_FD4EX_"
      }
    },
    {
      "cell_type": "code",
      "source": [
        "import requests\n",
        "\n",
        "import json"
      ],
      "metadata": {
        "id": "8DFLiPQG4GVL"
      },
      "execution_count": null,
      "outputs": []
    },
    {
      "cell_type": "markdown",
      "source": [
        "# Example"
      ],
      "metadata": {
        "id": "JLPQcEJD4I66"
      }
    },
    {
      "cell_type": "markdown",
      "source": [
        "## Agify API"
      ],
      "metadata": {
        "id": "95EY95Sc4PJ8"
      }
    },
    {
      "cell_type": "markdown",
      "source": [
        "Example route for Agify API"
      ],
      "metadata": {
        "id": "uYmcNfWO4TFJ"
      }
    },
    {
      "cell_type": "code",
      "source": [
        "agify_dan = \"https://api.agify.io/?name=dan\""
      ],
      "metadata": {
        "id": "-bl1OM624RPv"
      },
      "execution_count": null,
      "outputs": []
    },
    {
      "cell_type": "markdown",
      "source": [
        "Extract response"
      ],
      "metadata": {
        "id": "ryRiBRmL4XK2"
      }
    },
    {
      "cell_type": "code",
      "source": [
        "# Run a GET request\n",
        "agify_answer = requests.get(agify_dan)\n",
        "agify_answer_txt = agify_answer.text\n",
        "agify_answer_json = agify_answer.json()\n",
        "\n",
        "print(f\"Answer status_code: {agify_answer}\")\n",
        "\n",
        "print(type(agify_answer_txt))\n",
        "print(type(agify_answer_json))\n",
        "\n",
        "print(agify_answer_txt)\n",
        "print(agify_answer_json)"
      ],
      "metadata": {
        "colab": {
          "base_uri": "https://localhost:8080/"
        },
        "id": "xl0-KssI4Yvv",
        "outputId": "f42f9fd9-b0b9-4d9f-c088-f47e78406724"
      },
      "execution_count": null,
      "outputs": [
        {
          "output_type": "stream",
          "name": "stdout",
          "text": [
            "Answer status_code: <Response [200]>\n",
            "<class 'str'>\n",
            "<class 'dict'>\n",
            "{\"count\":67782,\"name\":\"dan\",\"age\":66}\n",
            "{'count': 67782, 'name': 'dan', 'age': 66}\n"
          ]
        }
      ]
    },
    {
      "cell_type": "markdown",
      "source": [
        "# Introductory Exercises"
      ],
      "metadata": {
        "id": "TW4TAJeV4bqT"
      }
    },
    {
      "cell_type": "code",
      "source": [
        "# Exercise 1\n",
        "# Write a script that asks the user for their first name\n",
        "# and responds with a personalized message\n",
        "# using the agify API\n",
        "\n",
        "# https://api.agify.io/?name=YOUR_NAME\n",
        "# Example response: {\"name\":\"YOUR_NAME\",\"age\":30,\"count\":12345}\n",
        "\n",
        "\n",
        "first_name = input(\"Quel est votre prénom ? \")\n",
        "\n",
        "url = f\"https://api.agify.io/?name={first_name}\"\n",
        "\n",
        "response = requests.get(url)\n",
        "\n",
        "data = response.json()\n",
        "\n",
        "output = f\"Réponse: {{\\\"name\\\":\\\"{data['name']}\\\",\\\"age\\\":{data.get('age', 'Inconnu')},\\\"count\\\":{data.get('count', 0)}}}\"\n",
        "\n",
        "print(output)"
      ],
      "metadata": {
        "colab": {
          "base_uri": "https://localhost:8080/"
        },
        "id": "omnnXgZu4ha9",
        "outputId": "dea9fa1c-e5ee-4bbc-b7d7-c8127961aa29"
      },
      "execution_count": null,
      "outputs": [
        {
          "output_type": "stream",
          "name": "stdout",
          "text": [
            "Quel est votre prénom ? k\n",
            "Réponse: {\"name\":\"k\",\"age\":59,\"count\":7114}\n"
          ]
        }
      ]
    },
    {
      "cell_type": "code",
      "source": [
        "# Exercise 2\n",
        "# Write a script that asks the user for their first name\n",
        "# and responds with a personalized message\n",
        "# using the genderize API\n",
        "# https://api.genderize.io/?name=YOUR_NAME\n",
        "\n",
        "first_name = input(\"Quel est votre prénom ? \")\n",
        "url = f\"https://api.genderize.io/?name={first_name}\"\n",
        "response = requests.get(url)\n",
        "data = response.json()\n",
        "output = f\"Bonjour {data['name']}, le genre prédit pour votre prénom est : {data.get('gender', 'Inconnu')}.\"\n",
        "\n",
        "print(output)"
      ],
      "metadata": {
        "colab": {
          "base_uri": "https://localhost:8080/"
        },
        "id": "_hAPbAwL6b_3",
        "outputId": "92f29615-0709-49b8-832e-f7c962d9e8c6"
      },
      "execution_count": null,
      "outputs": [
        {
          "output_type": "stream",
          "name": "stdout",
          "text": [
            "Quel est votre prénom ? j\n",
            "Bonjour j, le genre prédit pour votre prénom est : male.\n"
          ]
        }
      ]
    },
    {
      "cell_type": "code",
      "source": [
        "# Exercise 3\n",
        "# Write a script that asks the user for their first name\n",
        "# and responds with a personalized message\n",
        "# using the nationalize API\n",
        "# https://api.nationalize.io/?name=YOUR_NAME\n",
        "\n",
        "first_name = input(\"Quel est votre prénom ? \")\n",
        "url = f\"https://api.nationalize.io/?name={first_name}\"\n",
        "response = requests.get(url)\n",
        "data = response.json()\n",
        "\n",
        "# On vérifie que la liste n'est pas vide\n",
        "if data.get('country'):\n",
        "    most_probable_country = data['country'][0]\n",
        "    country_id = most_probable_country['country_id']\n",
        "    print(f\"Bonjour {first_name}, le pays associé à votre prénom est : {country_id}.\")\n",
        "else:\n",
        "    print(f\"Bonjour {first_name}, nous n'avons pas pu déterminer l'origine nationale de votre prénom.\")\n"
      ],
      "metadata": {
        "colab": {
          "base_uri": "https://localhost:8080/"
        },
        "id": "7JDruw_F7ozA",
        "outputId": "3ecf23c4-3da1-45bf-8050-4a4d0bf8a4ec"
      },
      "execution_count": null,
      "outputs": [
        {
          "output_type": "stream",
          "name": "stdout",
          "text": [
            "Quel est votre prénom ? k\n",
            "Bonjour k, le pays associé à votre prénom est : CZ.\n"
          ]
        }
      ]
    },
    {
      "cell_type": "code",
      "source": [
        "# Exercise 3.1\n",
        "# Parsing the response from the nationalize API\n",
        "# Get the most probable country and its percentage\n",
        "# Example response: {\"name\":\"YOUR_NAME\",\"country\":[{\"country_id\":\"FR\",\"probability\":0.75},{\"country_id\":\"BE\",\"probability\":0.25}]}\n",
        "# Hint: use the max() function with a lambda function\n",
        "# https://docs.python.org/3/library/functions.html#max\n",
        "# https://docs.python.org/3/tutorial/controlflow.html#lambda-expressions\n",
        "\n",
        "\n",
        "first_name = input(\"Quel est votre prénom ? \")\n",
        "url = f\"https://api.nationalize.io/?name={first_name}\"\n",
        "response = requests.get(url)\n",
        "data = response.json()\n",
        "\n",
        "if 'country' in data and data['country']:\n",
        "    sorted_countries = sorted(data['country'], key=lambda c: c['probability'], reverse=True)\n",
        "    countries_info = ', '.join([f'{{\"country_id\":\"{country[\"country_id\"]}\",\"probability\":{country[\"probability\"]:.2f}}}' for country in sorted_countries])\n",
        "    print(f'{{\"name\":\"{first_name}\",\"country\":[{countries_info}]}}')\n",
        "else:\n",
        "    print(f'Aucune donnée de pays trouvée pour le prénom {first_name}.')\n"
      ],
      "metadata": {
        "colab": {
          "base_uri": "https://localhost:8080/"
        },
        "id": "0i5B24l09kCo",
        "outputId": "c31db514-8619-4147-97b8-9c1545857b4a"
      },
      "execution_count": null,
      "outputs": [
        {
          "output_type": "stream",
          "name": "stdout",
          "text": [
            "Quel est votre prénom ? k\n",
            "{\"name\":\"k\",\"country\":[{\"country_id\":\"CZ\",\"probability\":0.10}, {\"country_id\":\"GR\",\"probability\":0.08}, {\"country_id\":\"PL\",\"probability\":0.06}, {\"country_id\":\"IR\",\"probability\":0.06}, {\"country_id\":\"DE\",\"probability\":0.04}]}\n"
          ]
        }
      ]
    },
    {
      "cell_type": "code",
      "source": [
        "# Exercise 4\n",
        "# Use BoredAPI : https://www.boredapi.com/\n",
        "# Documentation : https://www.boredapi.com/documentation\n",
        "# 1. Write a script that generates random activities\n",
        "# 2. Write a script that generates random activities\n",
        "# 3. Write a script that generates random activities for 4 participants\n",
        "# 4. Write a script that generates random activities for 4 participants and of type \"recreational\"\n",
        "# 5. Write a script that generates random activities for 2 participants and that does not require equipment\n",
        "\n",
        "#1.\n",
        "response = requests.get(\"https://www.boredapi.com/api/activity\")\n",
        "data = response.json()\n",
        "\n",
        "print(\"activité random : \", data['activity'])\n",
        "\n",
        "#3.\n",
        "response = requests.get(\"https://www.boredapi.com/api/activity?participants=4\")\n",
        "data = response.json()\n",
        "\n",
        "print(\"Activité pour 4 personnes :\", data['activity'])\n",
        "\n",
        "#4.\n",
        "response = requests.get(\"https://www.boredapi.com/api/activity?participants=4&type=recreational\")\n",
        "data = response.json()\n",
        "\n",
        "print(\"Activité récréative pour 4 personnes :\",data['activity'])\n",
        "\n",
        "#5.\n",
        "#On utilise le prix =0 pour représenter le fait qu'il n'y ai pas d'équipement\n",
        "\n",
        "response = requests.get(\"https://www.boredapi.com/api/activity?participants=2&price=0.0\")\n",
        "data = response.json()\n",
        "\n",
        "print(\"Activité sans équipement :\",data['activity'])"
      ],
      "metadata": {
        "colab": {
          "base_uri": "https://localhost:8080/"
        },
        "id": "EmMDAJaFAAAR",
        "outputId": "c0564e99-b52e-43b6-a593-fd6b5bae6211"
      },
      "execution_count": null,
      "outputs": [
        {
          "output_type": "stream",
          "name": "stdout",
          "text": [
            "activité random :  Go see a movie in theaters with a few friends\n",
            "Activité pour 4 personnes : Go to a karaoke bar with some friends\n",
            "Activité récréative pour 4 personnes : Go see a Broadway production\n",
            "Activité sans équipement : Compliment someone\n"
          ]
        }
      ]
    },
    {
      "cell_type": "markdown",
      "source": [
        "# Intermediate exercices"
      ],
      "metadata": {
        "id": "EXdFunmCCJHR"
      }
    },
    {
      "cell_type": "code",
      "source": [
        "# OpenDomesday\n",
        "# https://opendomesday.org/api/\n",
        "\n",
        "# Exercise 1\n",
        "# Write a script that displays all the counties\n",
        "# using the OpenDomesday API.\n",
        "\n",
        "response = requests.get(\"https://opendomesday.org/api/1.0/county\")\n",
        "counties = response.json()\n",
        "for county in counties:\n",
        "        print(county['name'])\n"
      ],
      "metadata": {
        "colab": {
          "base_uri": "https://localhost:8080/"
        },
        "id": "lTqP8I1iAe21",
        "outputId": "f771e2f5-9a91-4794-961e-86c066673ca9"
      },
      "execution_count": null,
      "outputs": [
        {
          "output_type": "stream",
          "name": "stdout",
          "text": [
            "Kent\n",
            "Sussex\n",
            "Surrey\n",
            "Hampshire\n",
            "Berkshire\n",
            "Wiltshire\n",
            "Dorset\n",
            "Somerset\n",
            "Devon\n",
            "Cornwall\n",
            "Middlesex\n",
            "Hertfordshire\n",
            "Buckinghamshire\n",
            "Gloucestershire\n",
            "Oxfordshire\n",
            "Worcestershire\n",
            "Herefordshire\n",
            "Cambridgeshire\n",
            "Huntingdonshire\n",
            "Bedfordshire\n",
            "Northamptonshire\n",
            "Leicestershire\n",
            "Warwickshire\n",
            "Staffordshire\n",
            "Shropshire\n",
            "Cheshire\n",
            "Derbyshire\n",
            "Nottinghamshire\n",
            "Rutland\n",
            "Yorkshire\n",
            "Lincolnshire\n",
            "Claims: YB\n",
            "Claims: YC\n",
            "Claims: LC\n",
            "Claims: HC\n",
            "Claims: YS\n",
            "Essex\n",
            "Norfolk\n",
            "Suffolk\n",
            "Lancashire\n"
          ]
        }
      ]
    },
    {
      "cell_type": "code",
      "source": [
        "# Exercise 2\n",
        "# Write a script that displays the information\n",
        "# of the county \"Derbyshire\".\n",
        "\n",
        "response = requests.get(\"https://opendomesday.org/api/1.0/county\")\n",
        "counties = response.json()\n",
        "\n",
        "#On Trouve l'ID de Derbyshire\n",
        "derbyshire_id = None\n",
        "for county in counties:\n",
        "    if county['name'] == \"Derbyshire\":\n",
        "        derbyshire_id = county['id']\n",
        "        break\n",
        "\n",
        "# On s'assure que l'ID de Derbyshire a été trouvé\n",
        "if derbyshire_id is not None:\n",
        "    response = requests.get(f\"https://opendomesday.org/api/1.0/county/{derbyshire_id}\")\n",
        "    derbyshire_info = response.json()\n",
        "    print(derbyshire_info)\n",
        "else:\n",
        "    print(\"Derbyshire n'a pas été trouvé.\")"
      ],
      "metadata": {
        "colab": {
          "base_uri": "https://localhost:8080/"
        },
        "id": "XImWSYMiCyBB",
        "outputId": "bbbb7d69-365a-4742-ab21-4df1051e557d"
      },
      "execution_count": null,
      "outputs": [
        {
          "output_type": "stream",
          "name": "stdout",
          "text": [
            "{'id': 'dby', 'name': 'Derbyshire', 'name_slug': 'derbyshire', 'places_in_county': [{'id': 1036}, {'id': 2558}, {'id': 3016}, {'id': 4791}, {'id': 6093}, {'id': 8701}, {'id': 8951}, {'id': 9101}, {'id': 11441}, {'id': 10771}, {'id': 16116}, {'id': 20861}, {'id': 22251}, {'id': 22571}, {'id': 22611}, {'id': 24741}, {'id': 25536}, {'id': 19061}, {'id': 30246}, {'id': 31896}, {'id': 32521}, {'id': 32981}, {'id': 33916}, {'id': 41346}, {'id': 41788}, {'id': 41801}, {'id': 45821}, {'id': 47401}, {'id': 47411}, {'id': 52361}, {'id': 52596}, {'id': 53901}, {'id': 54446}, {'id': 54646}, {'id': 55736}, {'id': 56786}, {'id': 57061}, {'id': 60236}, {'id': 60351}, {'id': 60816}, {'id': 63606}, {'id': 65368}, {'id': 73221}, {'id': 73731}, {'id': 73741}, {'id': 91}, {'id': 2623}, {'id': 3011}, {'id': 3941}, {'id': 4046}, {'id': 5016}, {'id': 5676}, {'id': 7111}, {'id': 7116}, {'id': 7451}, {'id': 9056}, {'id': 10981}, {'id': 11656}, {'id': 11941}, {'id': 12751}, {'id': 13401}, {'id': 14081}, {'id': 14306}, {'id': 15306}, {'id': 15451}, {'id': 17386}, {'id': 17811}, {'id': 19611}, {'id': 22436}, {'id': 22476}, {'id': 24011}, {'id': 24306}, {'id': 25081}, {'id': 27521}, {'id': 33816}, {'id': 40056}, {'id': 28311}, {'id': 29846}, {'id': 30061}, {'id': 30211}, {'id': 30536}, {'id': 30571}, {'id': 20391}, {'id': 32571}, {'id': 33016}, {'id': 36211}, {'id': 37586}, {'id': 40057}, {'id': 39661}, {'id': 39956}, {'id': 40466}, {'id': 42799}, {'id': 43751}, {'id': 44321}, {'id': 28296}, {'id': 34241}, {'id': 46861}, {'id': 26971}, {'id': 2366}, {'id': 48026}, {'id': 49236}, {'id': 50311}, {'id': 52766}, {'id': 52791}, {'id': 55006}, {'id': 55131}, {'id': 58231}, {'id': 59051}, {'id': 42936}, {'id': 61396}, {'id': 62566}, {'id': 63721}, {'id': 67724}, {'id': 69701}, {'id': 72781}, {'id': 73841}, {'id': 14941}, {'id': 20691}, {'id': 39371}, {'id': 42171}, {'id': 54526}, {'id': 46681}, {'id': 51241}, {'id': 64663}, {'id': 70526}, {'id': 1326}, {'id': 2401}, {'id': 3291}, {'id': 4001}, {'id': 8116}, {'id': 8831}, {'id': 9461}, {'id': 10196}, {'id': 12706}, {'id': 13281}, {'id': 22243}, {'id': 18184}, {'id': 18736}, {'id': 23231}, {'id': 6141}, {'id': 29236}, {'id': 29861}, {'id': 32336}, {'id': 33086}, {'id': 34446}, {'id': 35221}, {'id': 35041}, {'id': 37056}, {'id': 38231}, {'id': 40456}, {'id': 41344}, {'id': 42041}, {'id': 42046}, {'id': 42797}, {'id': 45553}, {'id': 46851}, {'id': 48266}, {'id': 49221}, {'id': 55881}, {'id': 56826}, {'id': 56941}, {'id': 61526}, {'id': 62731}, {'id': 63966}, {'id': 66911}, {'id': 68251}, {'id': 68481}, {'id': 68546}, {'id': 71226}, {'id': 71466}, {'id': 1136}, {'id': 1456}, {'id': 1596}, {'id': 2106}, {'id': 3163}, {'id': 4646}, {'id': 5396}, {'id': 8456}, {'id': 11731}, {'id': 14476}, {'id': 18001}, {'id': 19416}, {'id': 22741}, {'id': 23256}, {'id': 23731}, {'id': 24921}, {'id': 35046}, {'id': 35311}, {'id': 37656}, {'id': 39466}, {'id': 39566}, {'id': 40901}, {'id': 41658}, {'id': 42536}, {'id': 42741}, {'id': 44361}, {'id': 45893}, {'id': 47416}, {'id': 49901}, {'id': 50661}, {'id': 50806}, {'id': 54966}, {'id': 56216}, {'id': 58701}, {'id': 61046}, {'id': 63391}, {'id': 65696}, {'id': 69008}, {'id': 69081}, {'id': 70641}, {'id': 8956}, {'id': 9586}, {'id': 9611}, {'id': 13741}, {'id': 13806}, {'id': 16581}, {'id': 18621}, {'id': 19941}, {'id': 20101}, {'id': 21051}, {'id': 21326}, {'id': 28556}, {'id': 30666}, {'id': 31306}, {'id': 32361}, {'id': 33141}, {'id': 33376}, {'id': 34646}, {'id': 35946}, {'id': 37591}, {'id': 14686}, {'id': 22266}, {'id': 28563}, {'id': 22271}, {'id': 41006}, {'id': 41521}, {'id': 43091}, {'id': 43991}, {'id': 46746}, {'id': 48806}, {'id': 51961}, {'id': 52096}, {'id': 53806}, {'id': 53996}, {'id': 55576}, {'id': 55956}, {'id': 56606}, {'id': 56696}, {'id': 57526}, {'id': 58046}, {'id': 58196}, {'id': 66498}, {'id': 16166}, {'id': 18951}, {'id': 22546}, {'id': 58356}, {'id': 71196}, {'id': 986}, {'id': 2711}, {'id': 4311}, {'id': 4369}, {'id': 5791}, {'id': 7651}, {'id': 8016}, {'id': 8721}, {'id': 9218}, {'id': 10026}, {'id': 12721}, {'id': 14691}, {'id': 16356}, {'id': 3106}, {'id': 20756}, {'id': 21276}, {'id': 21301}, {'id': 22406}, {'id': 22766}, {'id': 23121}, {'id': 23598}, {'id': 26856}, {'id': 4367}, {'id': 27776}, {'id': 29076}, {'id': 29411}, {'id': 32576}, {'id': 32686}, {'id': 35996}, {'id': 40296}, {'id': 29071}, {'id': 44051}, {'id': 44161}, {'id': 49241}, {'id': 45036}, {'id': 45366}, {'id': 71096}, {'id': 46101}, {'id': 46946}, {'id': 9288}, {'id': 65551}, {'id': 69858}, {'id': 47811}, {'id': 48031}, {'id': 48116}, {'id': 51193}, {'id': 52801}, {'id': 54166}, {'id': 55731}, {'id': 45936}, {'id': 71101}, {'id': 57756}, {'id': 58531}, {'id': 33646}, {'id': 60001}, {'id': 60836}, {'id': 61561}, {'id': 45941}, {'id': 63656}, {'id': 64516}, {'id': 65483}, {'id': 65938}, {'id': 66136}, {'id': 66256}, {'id': 66576}, {'id': 67036}, {'id': 68591}, {'id': 69901}, {'id': 70561}, {'id': 71081}, {'id': 52156}, {'id': 1906}, {'id': 8081}, {'id': 9741}, {'id': 12676}, {'id': 13531}, {'id': 17906}, {'id': 21011}, {'id': 25441}, {'id': 29931}, {'id': 30696}, {'id': 34821}, {'id': 40511}, {'id': 42251}, {'id': 43196}, {'id': 45656}, {'id': 51576}, {'id': 52566}, {'id': 56681}, {'id': 58171}, {'id': 58191}, {'id': 60031}, {'id': 60896}, {'id': 63696}, {'id': 67171}]}\n"
          ]
        }
      ]
    },
    {
      "cell_type": "code",
      "source": [
        "# Exercise 3 faux, il marche mais ne m'a pas permis de faire la suite c'est pourquoi j'ai créer une autre version\n",
        "\n",
        "# Now that we have the ids for all the places in Derbyshire, we can load all their details...\n",
        "# And from their details, we can list all the details of their manors.\n",
        "# Go fetch the data!\n",
        "# P.S.: remember to save the data to avoid downloading it every time\n",
        "\n",
        "name_county = \"Derbyshire\"\n",
        "county_id = derbyshire_id\n",
        "\n",
        "response = requests.get(f\"https://opendomesday.org/api/1.0/county/{county_id}\")\n",
        "derbyshire_info = response.json()\n",
        "print(derbyshire_info)\n",
        "\n",
        "place_ids = [place['id'] for place in derbyshire_info['places_in_county']]\n",
        "\n",
        "print(f\"Place IDs in {name_county}:\", place_ids)\n",
        "place_details = {}\n",
        "\n",
        "for place_id in place_ids:\n",
        "    response = requests.get(f\"https://opendomesday.org/api/1.0/place/{place_id}\")\n",
        "    if response.status_code == 200:\n",
        "        place_data = response.json()\n",
        "        place_details[place_id] = place_data\n",
        "    else:\n",
        "        print(f\"Erreur lors de la requête pour le lieu {place_id}\")\n",
        "\n",
        "# Sauvegarder les détails des lieux dans un fichier pour réutilisation future\n",
        "with open(f'details_places_{name_county}.json', 'w') as file:\n",
        "    json.dump(place_details, file)\n",
        "\n",
        "# Pour charger les données sauvegardées sans refaire les requêtes\n",
        "with open(f'details_places_{name_county}.json', 'r') as file:\n",
        "    loaded_place_details = json.load(file)"
      ],
      "metadata": {
        "colab": {
          "base_uri": "https://localhost:8080/"
        },
        "id": "ZyG7h8x02R6r",
        "outputId": "840c8023-ccff-47ff-d634-4d8f8327339e"
      },
      "execution_count": null,
      "outputs": [
        {
          "metadata": {
            "tags": null
          },
          "name": "stdout",
          "output_type": "stream",
          "text": [
            "{'id': 'dby', 'name': 'Derbyshire', 'name_slug': 'derbyshire', 'places_in_county': [{'id': 1036}, {'id': 2558}, {'id': 3016}, {'id': 4791}, {'id': 6093}, {'id': 8701}, {'id': 8951}, {'id': 9101}, {'id': 11441}, {'id': 10771}, {'id': 16116}, {'id': 20861}, {'id': 22251}, {'id': 22571}, {'id': 22611}, {'id': 24741}, {'id': 25536}, {'id': 19061}, {'id': 30246}, {'id': 31896}, {'id': 32521}, {'id': 32981}, {'id': 33916}, {'id': 41346}, {'id': 41788}, {'id': 41801}, {'id': 45821}, {'id': 47401}, {'id': 47411}, {'id': 52361}, {'id': 52596}, {'id': 53901}, {'id': 54446}, {'id': 54646}, {'id': 55736}, {'id': 56786}, {'id': 57061}, {'id': 60236}, {'id': 60351}, {'id': 60816}, {'id': 63606}, {'id': 65368}, {'id': 73221}, {'id': 73731}, {'id': 73741}, {'id': 91}, {'id': 2623}, {'id': 3011}, {'id': 3941}, {'id': 4046}, {'id': 5016}, {'id': 5676}, {'id': 7111}, {'id': 7116}, {'id': 7451}, {'id': 9056}, {'id': 10981}, {'id': 11656}, {'id': 11941}, {'id': 12751}, {'id': 13401}, {'id': 14081}, {'id': 14306}, {'id': 15306}, {'id': 15451}, {'id': 17386}, {'id': 17811}, {'id': 19611}, {'id': 22436}, {'id': 22476}, {'id': 24011}, {'id': 24306}, {'id': 25081}, {'id': 27521}, {'id': 33816}, {'id': 40056}, {'id': 28311}, {'id': 29846}, {'id': 30061}, {'id': 30211}, {'id': 30536}, {'id': 30571}, {'id': 20391}, {'id': 32571}, {'id': 33016}, {'id': 36211}, {'id': 37586}, {'id': 40057}, {'id': 39661}, {'id': 39956}, {'id': 40466}, {'id': 42799}, {'id': 43751}, {'id': 44321}, {'id': 28296}, {'id': 34241}, {'id': 46861}, {'id': 26971}, {'id': 2366}, {'id': 48026}, {'id': 49236}, {'id': 50311}, {'id': 52766}, {'id': 52791}, {'id': 55006}, {'id': 55131}, {'id': 58231}, {'id': 59051}, {'id': 42936}, {'id': 61396}, {'id': 62566}, {'id': 63721}, {'id': 67724}, {'id': 69701}, {'id': 72781}, {'id': 73841}, {'id': 14941}, {'id': 20691}, {'id': 39371}, {'id': 42171}, {'id': 54526}, {'id': 46681}, {'id': 51241}, {'id': 64663}, {'id': 70526}, {'id': 1326}, {'id': 2401}, {'id': 3291}, {'id': 4001}, {'id': 8116}, {'id': 8831}, {'id': 9461}, {'id': 10196}, {'id': 12706}, {'id': 13281}, {'id': 22243}, {'id': 18184}, {'id': 18736}, {'id': 23231}, {'id': 6141}, {'id': 29236}, {'id': 29861}, {'id': 32336}, {'id': 33086}, {'id': 34446}, {'id': 35221}, {'id': 35041}, {'id': 37056}, {'id': 38231}, {'id': 40456}, {'id': 41344}, {'id': 42041}, {'id': 42046}, {'id': 42797}, {'id': 45553}, {'id': 46851}, {'id': 48266}, {'id': 49221}, {'id': 55881}, {'id': 56826}, {'id': 56941}, {'id': 61526}, {'id': 62731}, {'id': 63966}, {'id': 66911}, {'id': 68251}, {'id': 68481}, {'id': 68546}, {'id': 71226}, {'id': 71466}, {'id': 1136}, {'id': 1456}, {'id': 1596}, {'id': 2106}, {'id': 3163}, {'id': 4646}, {'id': 5396}, {'id': 8456}, {'id': 11731}, {'id': 14476}, {'id': 18001}, {'id': 19416}, {'id': 22741}, {'id': 23256}, {'id': 23731}, {'id': 24921}, {'id': 35046}, {'id': 35311}, {'id': 37656}, {'id': 39466}, {'id': 39566}, {'id': 40901}, {'id': 41658}, {'id': 42536}, {'id': 42741}, {'id': 44361}, {'id': 45893}, {'id': 47416}, {'id': 49901}, {'id': 50661}, {'id': 50806}, {'id': 54966}, {'id': 56216}, {'id': 58701}, {'id': 61046}, {'id': 63391}, {'id': 65696}, {'id': 69008}, {'id': 69081}, {'id': 70641}, {'id': 8956}, {'id': 9586}, {'id': 9611}, {'id': 13741}, {'id': 13806}, {'id': 16581}, {'id': 18621}, {'id': 19941}, {'id': 20101}, {'id': 21051}, {'id': 21326}, {'id': 28556}, {'id': 30666}, {'id': 31306}, {'id': 32361}, {'id': 33141}, {'id': 33376}, {'id': 34646}, {'id': 35946}, {'id': 37591}, {'id': 14686}, {'id': 22266}, {'id': 28563}, {'id': 22271}, {'id': 41006}, {'id': 41521}, {'id': 43091}, {'id': 43991}, {'id': 46746}, {'id': 48806}, {'id': 51961}, {'id': 52096}, {'id': 53806}, {'id': 53996}, {'id': 55576}, {'id': 55956}, {'id': 56606}, {'id': 56696}, {'id': 57526}, {'id': 58046}, {'id': 58196}, {'id': 66498}, {'id': 16166}, {'id': 18951}, {'id': 22546}, {'id': 58356}, {'id': 71196}, {'id': 986}, {'id': 2711}, {'id': 4311}, {'id': 4369}, {'id': 5791}, {'id': 7651}, {'id': 8016}, {'id': 8721}, {'id': 9218}, {'id': 10026}, {'id': 12721}, {'id': 14691}, {'id': 16356}, {'id': 3106}, {'id': 20756}, {'id': 21276}, {'id': 21301}, {'id': 22406}, {'id': 22766}, {'id': 23121}, {'id': 23598}, {'id': 26856}, {'id': 4367}, {'id': 27776}, {'id': 29076}, {'id': 29411}, {'id': 32576}, {'id': 32686}, {'id': 35996}, {'id': 40296}, {'id': 29071}, {'id': 44051}, {'id': 44161}, {'id': 49241}, {'id': 45036}, {'id': 45366}, {'id': 71096}, {'id': 46101}, {'id': 46946}, {'id': 9288}, {'id': 65551}, {'id': 69858}, {'id': 47811}, {'id': 48031}, {'id': 48116}, {'id': 51193}, {'id': 52801}, {'id': 54166}, {'id': 55731}, {'id': 45936}, {'id': 71101}, {'id': 57756}, {'id': 58531}, {'id': 33646}, {'id': 60001}, {'id': 60836}, {'id': 61561}, {'id': 45941}, {'id': 63656}, {'id': 64516}, {'id': 65483}, {'id': 65938}, {'id': 66136}, {'id': 66256}, {'id': 66576}, {'id': 67036}, {'id': 68591}, {'id': 69901}, {'id': 70561}, {'id': 71081}, {'id': 52156}, {'id': 1906}, {'id': 8081}, {'id': 9741}, {'id': 12676}, {'id': 13531}, {'id': 17906}, {'id': 21011}, {'id': 25441}, {'id': 29931}, {'id': 30696}, {'id': 34821}, {'id': 40511}, {'id': 42251}, {'id': 43196}, {'id': 45656}, {'id': 51576}, {'id': 52566}, {'id': 56681}, {'id': 58171}, {'id': 58191}, {'id': 60031}, {'id': 60896}, {'id': 63696}, {'id': 67171}]}\n",
            "Place IDs in Derbyshire: [1036, 2558, 3016, 4791, 6093, 8701, 8951, 9101, 11441, 10771, 16116, 20861, 22251, 22571, 22611, 24741, 25536, 19061, 30246, 31896, 32521, 32981, 33916, 41346, 41788, 41801, 45821, 47401, 47411, 52361, 52596, 53901, 54446, 54646, 55736, 56786, 57061, 60236, 60351, 60816, 63606, 65368, 73221, 73731, 73741, 91, 2623, 3011, 3941, 4046, 5016, 5676, 7111, 7116, 7451, 9056, 10981, 11656, 11941, 12751, 13401, 14081, 14306, 15306, 15451, 17386, 17811, 19611, 22436, 22476, 24011, 24306, 25081, 27521, 33816, 40056, 28311, 29846, 30061, 30211, 30536, 30571, 20391, 32571, 33016, 36211, 37586, 40057, 39661, 39956, 40466, 42799, 43751, 44321, 28296, 34241, 46861, 26971, 2366, 48026, 49236, 50311, 52766, 52791, 55006, 55131, 58231, 59051, 42936, 61396, 62566, 63721, 67724, 69701, 72781, 73841, 14941, 20691, 39371, 42171, 54526, 46681, 51241, 64663, 70526, 1326, 2401, 3291, 4001, 8116, 8831, 9461, 10196, 12706, 13281, 22243, 18184, 18736, 23231, 6141, 29236, 29861, 32336, 33086, 34446, 35221, 35041, 37056, 38231, 40456, 41344, 42041, 42046, 42797, 45553, 46851, 48266, 49221, 55881, 56826, 56941, 61526, 62731, 63966, 66911, 68251, 68481, 68546, 71226, 71466, 1136, 1456, 1596, 2106, 3163, 4646, 5396, 8456, 11731, 14476, 18001, 19416, 22741, 23256, 23731, 24921, 35046, 35311, 37656, 39466, 39566, 40901, 41658, 42536, 42741, 44361, 45893, 47416, 49901, 50661, 50806, 54966, 56216, 58701, 61046, 63391, 65696, 69008, 69081, 70641, 8956, 9586, 9611, 13741, 13806, 16581, 18621, 19941, 20101, 21051, 21326, 28556, 30666, 31306, 32361, 33141, 33376, 34646, 35946, 37591, 14686, 22266, 28563, 22271, 41006, 41521, 43091, 43991, 46746, 48806, 51961, 52096, 53806, 53996, 55576, 55956, 56606, 56696, 57526, 58046, 58196, 66498, 16166, 18951, 22546, 58356, 71196, 986, 2711, 4311, 4369, 5791, 7651, 8016, 8721, 9218, 10026, 12721, 14691, 16356, 3106, 20756, 21276, 21301, 22406, 22766, 23121, 23598, 26856, 4367, 27776, 29076, 29411, 32576, 32686, 35996, 40296, 29071, 44051, 44161, 49241, 45036, 45366, 71096, 46101, 46946, 9288, 65551, 69858, 47811, 48031, 48116, 51193, 52801, 54166, 55731, 45936, 71101, 57756, 58531, 33646, 60001, 60836, 61561, 45941, 63656, 64516, 65483, 65938, 66136, 66256, 66576, 67036, 68591, 69901, 70561, 71081, 52156, 1906, 8081, 9741, 12676, 13531, 17906, 21011, 25441, 29931, 30696, 34821, 40511, 42251, 43196, 45656, 51576, 52566, 56681, 58171, 58191, 60031, 60896, 63696, 67171]\n"
          ]
        }
      ]
    },
    {
      "cell_type": "code",
      "source": [
        "#Fonction pour voir si le fichier est correctement chargé\n",
        "'''\n",
        "for place_id, place_info in loaded_place_details.items():\n",
        "    print(f\"ID: {place_id}, Name: {place_info.get('vill', 'Unknown')}\")\n",
        "    if 'location' in place_info:\n",
        "        print(f\"  Location: {place_info['location']}\")\n",
        "    if 'manors' in place_info:\n",
        "        print(\"  Manors:\")\n",
        "        for manor in place_info['manors']:\n",
        "            print(f\"    Manor ID: {manor.get('id', 'Unknown')}\")\n",
        "    print()\n",
        "'''"
      ],
      "metadata": {
        "colab": {
          "base_uri": "https://localhost:8080/",
          "height": 87
        },
        "id": "YIWaBXtQO0kZ",
        "outputId": "87886588-b74d-4835-b291-b9ce1f29bdc8"
      },
      "execution_count": null,
      "outputs": [
        {
          "output_type": "execute_result",
          "data": {
            "text/plain": [
              "'\\nfor place_id, place_info in loaded_place_details.items():\\n    print(f\"ID: {place_id}, Name: {place_info.get(\\'vill\\', \\'Unknown\\')}\")\\n    if \\'location\\' in place_info:\\n        print(f\"  Location: {place_info[\\'location\\']}\")\\n    if \\'manors\\' in place_info:\\n        print(\"  Manors:\")\\n        for manor in place_info[\\'manors\\']:\\n            print(f\"    Manor ID: {manor.get(\\'id\\', \\'Unknown\\')}\")\\n    print()\\n'"
            ],
            "application/vnd.google.colaboratory.intrinsic+json": {
              "type": "string"
            }
          },
          "metadata": {},
          "execution_count": 48
        }
      ]
    },
    {
      "cell_type": "code",
      "source": [
        "#Exercice 3 fonctionnel pour la suite\n",
        "import requests\n",
        "import json\n",
        "\n",
        "def save_details(name_county):\n",
        "    url_base_county = \"https://opendomesday.org/api/1.0/county\"\n",
        "    url_base_place = \"https://opendomesday.org/api/1.0/place\"\n",
        "\n",
        "    try:\n",
        "        # Récupérer tous les comtés\n",
        "        response_county = requests.get(url_base_county)\n",
        "        response_county.raise_for_status()\n",
        "        data_county = response_county.json()\n",
        "\n",
        "        # Filtrer pour trouver le comté spécifique par nom\n",
        "        for county in data_county:\n",
        "            if county['name'].lower() == name_county.lower():\n",
        "                place_details = []\n",
        "\n",
        "                # Parcourir chaque lieu dans le comté\n",
        "                for place in county['places_in_county']:\n",
        "                    response_place = requests.get(f\"{url_base_place}/{place['id']}\")\n",
        "                    response_place.raise_for_status()\n",
        "                    place_data = response_place.json()\n",
        "\n",
        "                    place_details.append(place_data)\n",
        "\n",
        "                # Sauvegarder les détails des lieux dans un fichier JSON\n",
        "                with open(f'details_places_{name_county}.json', 'w', encoding='utf-8') as file:\n",
        "                    json.dump(place_details, file, ensure_ascii=False, indent=4)\n",
        "\n",
        "                print(f\"Details of places in {name_county} have been saved.\")\n",
        "                break\n",
        "\n",
        "    except requests.RequestException as e:\n",
        "        print(f\"Something wrong happened: {e}\")\n",
        "\n",
        "save_details(\"Derbyshire\")\n"
      ],
      "metadata": {
        "colab": {
          "base_uri": "https://localhost:8080/"
        },
        "id": "mN0-19EPRG-R",
        "outputId": "60b64dfc-2919-4905-8d3c-c7a18a932bb9"
      },
      "execution_count": null,
      "outputs": [
        {
          "output_type": "stream",
          "name": "stdout",
          "text": [
            "Details of places in Derbyshire have been saved.\n"
          ]
        }
      ]
    },
    {
      "cell_type": "code",
      "source": [
        "import json\n",
        "\n",
        "def display_details(name_county):\n",
        "    try:\n",
        "        with open(f'details_places_{name_county}.json', 'r', encoding='utf-8') as file:\n",
        "            place_details = json.load(file)\n",
        "    except FileNotFoundError:\n",
        "        print(f\"File details_places_{name_county}.json not found. Please run save_details() first.\")\n",
        "        return\n",
        "    except json.JSONDecodeError:\n",
        "        print(\"Error decoding JSON. The file might be corrupted.\")\n",
        "        return\n",
        "\n",
        "    for place in place_details:\n",
        "        print(f\"Place ID: {place.get('id', 'Unknown')}, Name: {place.get('vill', 'Unknown')}\")\n",
        "        location = place.get('location')\n",
        "        if location:\n",
        "            print(f\"  Location: {location}\")\n",
        "        else:\n",
        "            print(\"  Location: Not available\")\n",
        "\n",
        "        manors = place.get('manors')\n",
        "        if manors:\n",
        "            print(\"  Manors:\")\n",
        "            for manor in manors:\n",
        "                print(f\"    Manor ID: {manor.get('id', 'Unknown')}\")\n",
        "        print()\n",
        "\n",
        "#display_details(\"Derbyshire\")\n"
      ],
      "metadata": {
        "id": "NLJULFCdRtrC"
      },
      "execution_count": null,
      "outputs": []
    },
    {
      "cell_type": "code",
      "source": [
        "# Exercise 4\n",
        "# Now that we have a quantity of raw data, we will extract the interesting parts.\n",
        "# In our case, we want to count the money paid by each manor and compare it to the number of ploughs it has.\n",
        "# - Can you find the corresponding json fields?\n",
        "# - Then, you can list these numbers for each manor in Derbyshire.\n",
        "# - And format this in an appropriate comma-separated values (CSV) file.\n",
        "\n",
        "import csv\n",
        "import json\n",
        "\n",
        "\n",
        "name_county = \"Derbyshire\"\n",
        "with open(f'details_places_{name_county}.json', 'r', encoding='utf-8') as file:\n",
        "    lieux = json.load(file)\n",
        "    manor_ids = [manoir['id'] for lieu in lieux for manoir in lieu.get('manors', [])]\n",
        "\n",
        "filename = \"manoirs_Derbyshire_details.csv\"\n",
        "\n",
        "with open(filename, mode='w', newline='', encoding='utf-8') as file:\n",
        "    writer = csv.writer(file)\n",
        "    writer.writerow([\"Manor ID\", \"Monetary Value in 1086\", \"Total Ploughs\"])\n",
        "\n",
        "    for manor_id in manor_ids:\n",
        "        url = f\"https://opendomesday.org/api/1.0/manor/{manor_id}/\"\n",
        "        response = requests.get(url)\n",
        "        if response.status_code == 200:\n",
        "            manor_data = response.json()\n",
        "            monetary_value = manor_data.get(\"value86\", \"Unknown\")\n",
        "            total_ploughs = manor_data.get(\"totalploughs\", \"Unknown\")\n",
        "            writer.writerow([manor_id, monetary_value, total_ploughs])\n",
        "        else:\n",
        "            print(f\"Failed to fetch data for manor ID {manor_id}\")\n",
        "\n",
        "print(f\"Details fetched and written to {filename}.\")"
      ],
      "metadata": {
        "colab": {
          "base_uri": "https://localhost:8080/"
        },
        "id": "9rxe4I4vkaqd",
        "outputId": "76cffb47-9203-4110-dbd2-3594e0ba640d"
      },
      "execution_count": null,
      "outputs": [
        {
          "output_type": "stream",
          "name": "stdout",
          "text": [
            "Details fetched and written to manoirs_Derbyshire_details.csv.\n"
          ]
        }
      ]
    },
    {
      "cell_type": "code",
      "source": [
        "import csv\n",
        "\n",
        "filename = \"manoirs_Derbyshire_details.csv\"\n",
        "#Fonction pour afficher le fichier\n",
        "'''\n",
        "with open(filename, mode='r', encoding='utf-8') as file:\n",
        "      reader = csv.reader(file)\n",
        "      for row in reader:\n",
        "          print(', '.join(row))\n",
        "'''"
      ],
      "metadata": {
        "colab": {
          "base_uri": "https://localhost:8080/",
          "height": 52
        },
        "id": "xge-QhjrnOAp",
        "outputId": "0b328c38-b223-41bf-9abd-ecf4eeee1954"
      },
      "execution_count": null,
      "outputs": [
        {
          "output_type": "execute_result",
          "data": {
            "text/plain": [
              "\"\\nwith open(filename, mode='r', encoding='utf-8') as file:\\n      reader = csv.reader(file)\\n      for row in reader:\\n          print(', '.join(row))\\n\""
            ],
            "application/vnd.google.colaboratory.intrinsic+json": {
              "type": "string"
            }
          },
          "metadata": {},
          "execution_count": 50
        }
      ]
    },
    {
      "cell_type": "code",
      "source": [
        "# Exercise 5\n",
        "# What is the richest manor in Derbyshire?\n",
        "# On utilise la colonne monetary value in 1086 calculé à la question précédente\n",
        "import csv\n",
        "\n",
        "filename = \"manoirs_Derbyshire_details.csv\"\n",
        "richest_value = 0.0\n",
        "richest_manor_id = None\n",
        "\n",
        "try:\n",
        "    with open(filename, mode='r', encoding='utf-8') as file:\n",
        "        reader = csv.DictReader(file)\n",
        "        for row in reader:\n",
        "            try:\n",
        "                monetary_value = float(row[\"Monetary Value in 1086\"])\n",
        "                if monetary_value > richest_value:\n",
        "                    richest_value = monetary_value\n",
        "                    richest_manor_id = row[\"Manor ID\"]\n",
        "            except ValueError:\n",
        "                continue\n",
        "    print(f\"Le manoir le plus riche est le : {richest_manor_id}, Avec une valeur en 1086 de : {richest_value}\")\n",
        "except FileNotFoundError:\n",
        "    print(f\"Le fichier {filename} n'a pas été trouvé.\")\n",
        "\n"
      ],
      "metadata": {
        "colab": {
          "base_uri": "https://localhost:8080/"
        },
        "id": "Xe7DTPrOnbAf",
        "outputId": "bfbbf02d-c8b5-442e-a869-7050c7654769"
      },
      "execution_count": null,
      "outputs": [
        {
          "output_type": "stream",
          "name": "stdout",
          "text": [
            "Le manoir le plus riche est le : 12958, Avec une valeur en 1086 de : 40.0\n"
          ]
        }
      ]
    },
    {
      "cell_type": "code",
      "source": [
        "# Exercise 6\n",
        "# Give the total value paid by Derbyshire.\n",
        "\n",
        "import csv\n",
        "\n",
        "total_value = 0.0\n",
        "filename = \"manoirs_Derbyshire_details.csv\"\n",
        "\n",
        "try:\n",
        "    with open(filename, mode='r', encoding='utf-8') as file:\n",
        "        reader = csv.DictReader(file)\n",
        "        for row in reader:\n",
        "            try:\n",
        "                monetary_value = float(row[\"Monetary Value in 1086\"])\n",
        "                total_value += monetary_value\n",
        "            except ValueError:\n",
        "                continue\n",
        "\n",
        "    print(f\"The total value paid by Derbyshire in 1086 is {total_value}.\")\n",
        "except FileNotFoundError:\n",
        "    print(f\"Le fichier {filename} n'a pas été trouvé.\")\n",
        "\n"
      ],
      "metadata": {
        "colab": {
          "base_uri": "https://localhost:8080/"
        },
        "id": "JDWCxFwgo08X",
        "outputId": "cdc17a90-db47-4736-a555-b9c871b0d261"
      },
      "execution_count": null,
      "outputs": [
        {
          "output_type": "stream",
          "name": "stdout",
          "text": [
            "The total value paid by Derbyshire in 1086 is 1098.6182999999996.\n"
          ]
        }
      ]
    },
    {
      "cell_type": "code",
      "source": [
        "import requests\n",
        "import json\n",
        "import csv\n",
        "\n",
        "class DomesdayHelper:\n",
        "    def check_file_exists(self, filename):\n",
        "        try:\n",
        "            with open(filename, 'r') as file:\n",
        "                return True\n",
        "        except FileNotFoundError:\n",
        "            print(f\"Le fichier {filename} n'a pas été trouvé.\")\n",
        "            return False\n",
        "\n",
        "\n",
        "    def __init__(self, county_name):\n",
        "        self.county_name = county_name\n",
        "        self.url_base_county = \"https://opendomesday.org/api/1.0/county\"\n",
        "        self.url_base_place = \"https://opendomesday.org/api/1.0/place\"\n",
        "        self.details_filename = f\"details_places_{county_name}.json\"\n",
        "        self.manoir_filename = f\"manoirs_{county_name}_details.csv\"\n",
        "\n",
        "    def fetch_county_id(self):\n",
        "        response = requests.get(self.url_base_county)\n",
        "        if response.status_code == 200:\n",
        "            counties = response.json()\n",
        "            for county in counties:\n",
        "                if county['name'].lower() == self.county_name.lower():\n",
        "                    return county['id']\n",
        "        return None\n",
        "\n",
        "    def save_place_details(self):\n",
        "        county_id = self.fetch_county_id()\n",
        "        if county_id is not None:\n",
        "            try:\n",
        "            # Récupérer tous les lieux pour le comté spécifié\n",
        "                response_place = requests.get(f\"{self.url_base_county}/{county_id}\")\n",
        "                response_place.raise_for_status()\n",
        "                places_data = response_place.json()['places_in_county']\n",
        "                place_details = []\n",
        "\n",
        "                for place in places_data:\n",
        "                    response_details = requests.get(f\"{self.url_base_place}/{place['id']}\")\n",
        "                    response_details.raise_for_status()\n",
        "                    place_details.append(response_details.json())\n",
        "\n",
        "            # Sauvegarder les détails des lieux dans un fichier JSON\n",
        "                with open(self.details_filename, 'w', encoding='utf-8') as file:\n",
        "                    json.dump(place_details, file, ensure_ascii=False, indent=4)\n",
        "\n",
        "                print(f\"Details of places in {self.county_name} have been saved.\")\n",
        "            except requests.RequestException as e:\n",
        "                print(f\"An error occurred: {e}\")\n",
        "        else:\n",
        "            print(f\"County ID for {self.county_name} not found.\")\n",
        "        pass\n",
        "\n",
        "    def display_place_details(self):\n",
        "        if not self.check_file_exists(self.details_filename):\n",
        "            print(f\"Please run save_place_details() to generate {self.details_filename} first.\")\n",
        "            return\n",
        "\n",
        "        with open(self.details_filename, 'r', encoding='utf-8') as file:\n",
        "            place_details = json.load(file)\n",
        "\n",
        "        for place in place_details:\n",
        "            print(f\"Place ID: {place.get('id', 'Unknown')}, Name: {place.get('vill', 'Unknown')}\")\n",
        "            location = place.get('location')\n",
        "            if location:\n",
        "                print(f\"  Location: {location}\")\n",
        "            else:\n",
        "                print(\"  Location: Not available\")\n",
        "\n",
        "            manors = place.get('manors')\n",
        "            if manors:\n",
        "                print(\"  Manors:\")\n",
        "                for manor in manors:\n",
        "                    print(f\"    Manor ID: {manor.get('id', 'Unknown')}\")\n",
        "            print()\n",
        "\n",
        "\n",
        "    def save_manor_details_to_csv(self):\n",
        "        with open(self.details_filename, 'r', encoding='utf-8') as file:\n",
        "            places = json.load(file)\n",
        "            manor_ids = [manor['id'] for place in places for manor in place.get('manors', [])]\n",
        "\n",
        "        with open(self.manoir_filename, mode='w', newline='', encoding='utf-8') as file:\n",
        "            writer = csv.writer(file)\n",
        "            writer.writerow([\"Manor ID\", \"Monetary Value in 1086\", \"Total Ploughs\"])\n",
        "\n",
        "            for manor_id in manor_ids:\n",
        "                url = f\"{self.url_base_place}/{manor_id}/\"\n",
        "                response = requests.get(url)\n",
        "                if response.status_code == 200:\n",
        "                    manor_data = response.json()\n",
        "                    monetary_value = manor_data.get(\"value86\", \"Unknown\")\n",
        "                    total_ploughs = manor_data.get(\"totalploughs\", \"Unknown\")\n",
        "                    writer.writerow([manor_id, monetary_value, total_ploughs])\n",
        "                else:\n",
        "                    print(f\"Failed to fetch data for manor ID {manor_id}\")\n",
        "\n",
        "        print(f\"Details fetched and written to {self.manoir_filename}.\")\n",
        "\n",
        "    def display_csv_content(self):\n",
        "        try:\n",
        "            with open(self.manoir_filename, mode='r', encoding='utf-8') as file:\n",
        "                reader = csv.reader(file)\n",
        "                for row in reader:\n",
        "                    print(', '.join(row))\n",
        "        except FileNotFoundError:\n",
        "            print(f\"Le fichier {self.manoir_filename} n'a pas été trouvé.\")\n",
        "\n",
        "\n",
        "    def find_richest_manor(self):\n",
        "        richest_value = 0.0\n",
        "        richest_manor_id = None\n",
        "\n",
        "        try:\n",
        "            with open(self.manoir_filename, mode='r', encoding='utf-8') as file:\n",
        "                reader = csv.DictReader(file)\n",
        "                for row in reader:\n",
        "                    try:\n",
        "                        monetary_value = float(row[\"Monetary Value in 1086\"])\n",
        "                        if monetary_value > richest_value:\n",
        "                            richest_value = monetary_value\n",
        "                            richest_manor_id = row[\"Manor ID\"]\n",
        "                    except ValueError:\n",
        "                        continue\n",
        "            print(f\"Le manoir le plus riche est le : {richest_manor_id}, Avec une valeur en 1086 de : {richest_value}\")\n",
        "        except FileNotFoundError:\n",
        "            print(f\"Le fichier {self.manoir_filename} n'a pas été trouvé.\")\n",
        "\n",
        "\n",
        "    def calculate_total_value(self):\n",
        "        total_value = 0.0\n",
        "\n",
        "        try:\n",
        "            with open(self.manoir_filename, mode='r', encoding='utf-8') as file:\n",
        "                reader = csv.DictReader(file)\n",
        "                for row in reader:\n",
        "                    try:\n",
        "                        monetary_value = float(row[\"Monetary Value in 1086\"])\n",
        "                        total_value += monetary_value\n",
        "                    except ValueError:\n",
        "                        continue\n",
        "\n",
        "            print(f\"The total value paid by {self.county_name} in 1086 is {total_value}.\")\n",
        "        except FileNotFoundError:\n",
        "            print(f\"Le fichier {self.manoir_filename} n'a pas été trouvé.\")\n",
        "\n",
        "\n",
        "\n",
        "domesday_helper = DomesdayHelper(\"Derbyshire\")\n",
        "#domesday_helper.save_place_details()\n",
        "#domesday_helper.display_place_details()\n",
        "#domesday_helper.save_manor_details_to_csv()\n",
        "#domesday_helper.display_csv_content()\n",
        "#domesday_helper.find_richest_manor()\n",
        "#domesday_helper.calculate_total_value()\n"
      ],
      "metadata": {
        "id": "ObK41Plas5mE"
      },
      "execution_count": null,
      "outputs": []
    }
  ]
}
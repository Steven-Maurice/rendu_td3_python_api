{
  "cells": [
    {
      "cell_type": "markdown",
      "metadata": {
        "id": "z-d9Pa77vdFW"
      },
      "source": [
        "# Python with APIs\n",
        "Exchanges via HTTP using `requests` package"
      ]
    },
    {
      "cell_type": "code",
      "execution_count": 1,
      "metadata": {
        "id": "v3vEju6rvdFY"
      },
      "outputs": [],
      "source": [
        "import requests"
      ]
    },
    {
      "cell_type": "markdown",
      "metadata": {
        "id": "ohQIGIS4vdFY"
      },
      "source": [
        "## Example"
      ]
    },
    {
      "cell_type": "markdown",
      "metadata": {
        "id": "4ETrOKuNvdFZ"
      },
      "source": [
        "### Agify API"
      ]
    },
    {
      "cell_type": "markdown",
      "metadata": {
        "id": "wsj-ZsQCvdFZ"
      },
      "source": [
        "Example route for Agify API"
      ]
    },
    {
      "cell_type": "code",
      "execution_count": 2,
      "metadata": {
        "id": "Nlqfw2l6vdFZ"
      },
      "outputs": [],
      "source": [
        "agify_dan = \"https://api.agify.io/?name=dan\""
      ]
    },
    {
      "cell_type": "markdown",
      "metadata": {
        "id": "U6FGJrVnvdFZ"
      },
      "source": [
        "Extract response"
      ]
    },
    {
      "cell_type": "code",
      "execution_count": 3,
      "metadata": {
        "colab": {
          "base_uri": "https://localhost:8080/"
        },
        "id": "-Kcqv1eOvdFZ",
        "outputId": "1ff8890b-137f-4b3a-9271-87ca03bc5e8d"
      },
      "outputs": [
        {
          "output_type": "stream",
          "name": "stdout",
          "text": [
            "Answer status_code: <Response [200]>\n",
            "<class 'str'>\n",
            "<class 'dict'>\n",
            "{\"count\":67782,\"name\":\"dan\",\"age\":66}\n",
            "{'count': 67782, 'name': 'dan', 'age': 66}\n"
          ]
        }
      ],
      "source": [
        "# Run a GET request\n",
        "agify_answer = requests.get(agify_dan)\n",
        "agify_answer_txt = agify_answer.text\n",
        "agify_answer_json = agify_answer.json()\n",
        "\n",
        "print(f\"Answer status_code: {agify_answer}\")\n",
        "\n",
        "print(type(agify_answer_txt))\n",
        "print(type(agify_answer_json))\n",
        "\n",
        "print(agify_answer_txt)\n",
        "print(agify_answer_json)"
      ]
    },
    {
      "cell_type": "markdown",
      "metadata": {
        "id": "Xhe2_Ao1vdFa"
      },
      "source": [
        "## Introductory Exercises"
      ]
    },
    {
      "cell_type": "code",
      "execution_count": 4,
      "metadata": {
        "colab": {
          "base_uri": "https://localhost:8080/"
        },
        "id": "RmHVW33avdFa",
        "outputId": "6777e676-7fd5-4516-e626-1aa700758a97"
      },
      "outputs": [
        {
          "output_type": "stream",
          "name": "stdout",
          "text": [
            "Please enter your first name: Florentin\n",
            "Hello, Florentin! Based on our super scientific guessing, we think your age might be around 42.\n"
          ]
        }
      ],
      "source": [
        "# Exercise 1\n",
        "# Write a script that asks the user for their first name\n",
        "# and responds with a personalized message\n",
        "# using the agify API\n",
        "\n",
        "# https://api.agify.io/?name=YOUR_NAME\n",
        "# Example response: {\"name\":\"YOUR_NAME\",\"age\":30,\"count\":12345}\n",
        "\n",
        "def predict_age():\n",
        "\n",
        "    first_name = input(\"Please enter your first name: \")\n",
        "\n",
        "    url = f\"https://api.agify.io/?name={first_name}\"\n",
        "\n",
        "    response = requests.get(url)\n",
        "\n",
        "    if response.status_code == 200:\n",
        "        data = response.json()\n",
        "        age = data.get('age', 'not available')\n",
        "\n",
        "        print(f\"Hello, {first_name}! We think your age might be around {age}.\")\n",
        "    else:\n",
        "        print(\"Oops! Something went wrong with the age prediction. Please try again later.\")\n",
        "\n",
        "predict_age()\n",
        "\n"
      ]
    },
    {
      "cell_type": "code",
      "execution_count": 7,
      "metadata": {
        "colab": {
          "base_uri": "https://localhost:8080/"
        },
        "id": "lAN8ferGvdFa",
        "outputId": "931bdba5-6c0e-49cb-edf8-a4d34a9929e1"
      },
      "outputs": [
        {
          "output_type": "stream",
          "name": "stdout",
          "text": [
            "Please enter your first name: Pierre\n",
            "Hello, Pierre! We think your gender might be male with a probability of 100.0%.\n"
          ]
        }
      ],
      "source": [
        "# Exercise 2\n",
        "# Write a script that asks the user for their first name\n",
        "# and responds with a personalized message\n",
        "# using the genderize API\n",
        "# https://api.genderize.io/?name=YOUR_NAME\n",
        "\n",
        "def predict_gender():\n",
        "\n",
        "    first_name = input(\"Please enter your first name: \")\n",
        "\n",
        "    url = f\"https://api.genderize.io/?name={first_name}\"\n",
        "\n",
        "    response = requests.get(url)\n",
        "\n",
        "    if response.status_code == 200:\n",
        "        data = response.json()\n",
        "\n",
        "        gender = data.get('gender', 'not available')\n",
        "        probability = data.get('probability', 0) * 100\n",
        "\n",
        "        print(f\"Hello, {first_name}! We think your gender might be {gender} with a probability of {probability}%.\")\n",
        "    else:\n",
        "        print(\"Oops! Something went wrong with the age prediction. Please try again later.\")\n",
        "\n",
        "predict_gender()"
      ]
    },
    {
      "cell_type": "code",
      "execution_count": 8,
      "metadata": {
        "colab": {
          "base_uri": "https://localhost:8080/"
        },
        "id": "So3qtrS3vdFb",
        "outputId": "045306a8-20dc-454b-a08e-c3bdc7af763f"
      },
      "outputs": [
        {
          "output_type": "stream",
          "name": "stdout",
          "text": [
            "Please enter your first name: Florentin\n",
            "Hello, Florentin! Based on our analysis, your nationality might be from PY with a probability of 47.84%, RO with a probability of 18.47%, AR with a probability of 9.96%, FR with a probability of 3.08%, IL with a probability of 3.03%. Isn't that interesting?\n"
          ]
        }
      ],
      "source": [
        "# Exercise 3\n",
        "# Write a script that asks the user for their first name\n",
        "# and responds with a personalized message\n",
        "# using the nationalize API\n",
        "# https://api.nationalize.io/?name=YOUR_NAME\n",
        "\n",
        "def predict_nationality():\n",
        "\n",
        "    first_name = input(\"Please enter your first name: \")\n",
        "\n",
        "    url = f\"https://api.nationalize.io/?name={first_name}\"\n",
        "\n",
        "    response = requests.get(url)\n",
        "\n",
        "    if response.status_code == 200:\n",
        "        data = response.json()\n",
        "\n",
        "        countries = data.get('country', [])\n",
        "\n",
        "\n",
        "        if countries:\n",
        "            message_parts = []\n",
        "            for country in countries:\n",
        "                country_id = country.get('country_id', 'Unknown')\n",
        "                probability = country.get('probability', 0) * 100\n",
        "                message_parts.append(f\"{country_id} with a probability of {probability:.2f}%\")\n",
        "            message = ', '.join(message_parts)\n",
        "\n",
        "            print(f\"Hello, {first_name}! Based on our analysis, your nationality might be from {message}. Isn't that interesting?\")\n",
        "        else:\n",
        "            print(f\"Hello, {first_name}! We couldn't determine your nationality based on your name. It must be quite unique!\")\n",
        "    else:\n",
        "        print(\"Oops! Something went wrong with the age prediction. Please try again later.\")\n",
        "\n",
        "predict_nationality()"
      ]
    },
    {
      "cell_type": "code",
      "execution_count": 10,
      "metadata": {
        "colab": {
          "base_uri": "https://localhost:8080/"
        },
        "id": "ZIjGLRfxvdFb",
        "outputId": "e447aff3-c3a3-466a-e5a0-da897f24bf4e"
      },
      "outputs": [
        {
          "output_type": "stream",
          "name": "stdout",
          "text": [
            "Please enter your first name: Florentin\n",
            "Hello, Florentin! Based on our analysis, we think your most likely nationality is PY with a probability of 47.84%. Fascinating, isn't it?\n"
          ]
        }
      ],
      "source": [
        "# Exercise 3.1\n",
        "# Parsing the response from the nationalize API\n",
        "# Get the most probable country and its percentage\n",
        "# Example response: {\"name\":\"YOUR_NAME\",\"country\":[{\"country_id\":\"FR\",\"probability\":0.75},{\"country_id\":\"BE\",\"probability\":0.25}]}\n",
        "# Hint: use the max() function with a lambda function\n",
        "# https://docs.python.org/3/library/functions.html#max\n",
        "# https://docs.python.org/3/tutorial/controlflow.html#lambda-expressions\n",
        "\n",
        "import requests\n",
        "\n",
        "def predict_most_probable_nationality():\n",
        "    first_name = input(\"Please enter your first name: \")\n",
        "\n",
        "    url = f\"https://api.nationalize.io/?name={first_name}\"\n",
        "\n",
        "    response = requests.get(url)\n",
        "\n",
        "    if response.status_code == 200:\n",
        "        data = response.json()\n",
        "        countries = data.get('country', [])\n",
        "\n",
        "        if countries:\n",
        "            most_probable_country = max(countries, key=lambda country: country['probability'])\n",
        "            country_id = most_probable_country['country_id']\n",
        "            probability = most_probable_country['probability'] * 100\n",
        "\n",
        "            print(f\"Hello, {first_name}! Based on our analysis, we think your most likely nationality is {country_id} with a probability of {probability:.2f}%. Fascinating, isn't it?\")\n",
        "        else:\n",
        "            print(f\"Hello, {first_name}! We couldn't determine your most likely nationality based on your name. It must be quite unique!\")\n",
        "    else:\n",
        "        print(\"Oops! Something went wrong with the nationality prediction. Please try again later.\")\n",
        "\n",
        "predict_most_probable_nationality()\n"
      ]
    },
    {
      "cell_type": "code",
      "execution_count": 25,
      "metadata": {
        "colab": {
          "base_uri": "https://localhost:8080/"
        },
        "id": "q2cjHIFDvdFc",
        "outputId": "3141ab5e-62c3-432f-e1af-f234a040be20"
      },
      "outputs": [
        {
          "output_type": "stream",
          "name": "stdout",
          "text": [
            "Random Activity: Volunteer at a local animal shelter\n",
            "Activity for 4 participants: Have a bonfire with your close friends\n",
            "Recreational activity for 4 participants: Go see a Broadway production\n",
            "Activity for 2 participants without equipment: Compliment someone\n"
          ]
        }
      ],
      "source": [
        "# Exercise 4\n",
        "# Use BoredAPI : https://www.boredapi.com/\n",
        "# Documentation : https://www.boredapi.com/documentation\n",
        "# 5. Write a script that generates random activities for 2 participants and that does not require equipment\n",
        "\n",
        "# 1. Write a script that generates random activities\n",
        "\n",
        "def generate_random_activity():\n",
        "    response = requests.get(\"https://www.boredapi.com/api/activity\")\n",
        "    if response.status_code == 200:\n",
        "        activity = response.json().get('activity')\n",
        "        print(f\"Random Activity: {activity}\")\n",
        "    else:\n",
        "        print(\"Failed to fetch a random activity. Please try again.\")\n",
        "\n",
        "generate_random_activity()\n",
        "\n",
        "# 3. Write a script that generates random activities for 4 participants\n",
        "\n",
        "def generate_activity_for_four():\n",
        "    response = requests.get(\"https://www.boredapi.com/api/activity?participants=4\")\n",
        "    if response.status_code == 200:\n",
        "        activity = response.json().get('activity')\n",
        "        print(f\"Activity for 4 participants: {activity}\")\n",
        "    else:\n",
        "        print(\"Failed to fetch an activity. Please try again.\")\n",
        "\n",
        "generate_activity_for_four()\n",
        "\n",
        "# 3. Write a script that generates random activities for 4 participants and of type \"recreational\"\n",
        "\n",
        "def generate_recreational_activity_for_four():\n",
        "    response = requests.get(\"https://www.boredapi.com/api/activity?participants=4&type=recreational\")\n",
        "    if response.status_code == 200:\n",
        "        activity = response.json().get('activity')\n",
        "        print(f\"Recreational activity for 4 participants: {activity}\")\n",
        "    else:\n",
        "        print(\"Failed to fetch a recreational activity. Please try again.\")\n",
        "\n",
        "generate_recreational_activity_for_four()\n",
        "\n",
        "# Write a script that generates random activities for 2 participants and that does not require equipment\n",
        "\n",
        "def generate_activity_for_two_no_equipment():\n",
        "    response = requests.get(\"https://www.boredapi.com/api/activity?participants=2&price=0\")\n",
        "    if response.status_code == 200:\n",
        "        activity = response.json().get('activity')\n",
        "        print(f\"Activity for 2 participants without equipment: {activity}\")\n",
        "    else:\n",
        "        print(\"Failed to fetch an activity. Please try again.\")\n",
        "\n",
        "generate_activity_for_two_no_equipment()\n"
      ]
    },
    {
      "cell_type": "markdown",
      "metadata": {
        "id": "41-Au_KRvdFc"
      },
      "source": [
        "## Intermediate exercises"
      ]
    },
    {
      "cell_type": "code",
      "execution_count": 26,
      "metadata": {
        "colab": {
          "base_uri": "https://localhost:8080/"
        },
        "id": "h6hnAe2MvdFc",
        "outputId": "b9ec5c66-ac5c-4da2-dab7-6bf09550c478"
      },
      "outputs": [
        {
          "output_type": "stream",
          "name": "stdout",
          "text": [
            "List of Counties:\n",
            "Kent\n",
            "Sussex\n",
            "Surrey\n",
            "Hampshire\n",
            "Berkshire\n",
            "Wiltshire\n",
            "Dorset\n",
            "Somerset\n",
            "Devon\n",
            "Cornwall\n",
            "Middlesex\n",
            "Hertfordshire\n",
            "Buckinghamshire\n",
            "Gloucestershire\n",
            "Oxfordshire\n",
            "Worcestershire\n",
            "Herefordshire\n",
            "Cambridgeshire\n",
            "Huntingdonshire\n",
            "Bedfordshire\n",
            "Northamptonshire\n",
            "Leicestershire\n",
            "Warwickshire\n",
            "Staffordshire\n",
            "Shropshire\n",
            "Cheshire\n",
            "Derbyshire\n",
            "Nottinghamshire\n",
            "Rutland\n",
            "Yorkshire\n",
            "Lincolnshire\n",
            "Claims: YB\n",
            "Claims: YC\n",
            "Claims: LC\n",
            "Claims: HC\n",
            "Claims: YS\n",
            "Essex\n",
            "Norfolk\n",
            "Suffolk\n",
            "Lancashire\n"
          ]
        }
      ],
      "source": [
        "# OpenDomesday\n",
        "# https://opendomesday.org/api/\n",
        "\n",
        "# Exercise 1\n",
        "# Write a script that displays all the counties\n",
        "# using the OpenDomesday API.\n",
        "\n",
        "def list_counties():\n",
        "    url = \"https://opendomesday.org/api/1.0/county/\"\n",
        "\n",
        "    try:\n",
        "        response = requests.get(url)\n",
        "        response.raise_for_status()\n",
        "        counties = response.json()\n",
        "\n",
        "        print(\"List of Counties:\")\n",
        "        for county in counties:\n",
        "            print(county[\"name\"])\n",
        "    except requests.RequestException as e:\n",
        "        print(f\"An error occurred: {e}\")\n",
        "\n",
        "list_counties()\n",
        "\n"
      ]
    },
    {
      "cell_type": "code",
      "execution_count": 35,
      "metadata": {
        "colab": {
          "base_uri": "https://localhost:8080/"
        },
        "id": "kn3O9hZ8vdFd",
        "outputId": "2cefb1ee-6873-446d-84b7-444bd69c095e"
      },
      "outputs": [
        {
          "output_type": "stream",
          "name": "stdout",
          "text": [
            "Derbyshire info:\n",
            "{'id': 'dby', 'name': 'Derbyshire', 'name_slug': 'derbyshire', 'places_in_county': [{'id': 1036}, {'id': 2558}, {'id': 3016}, {'id': 4791}, {'id': 6093}, {'id': 8701}, {'id': 8951}, {'id': 9101}, {'id': 11441}, {'id': 10771}, {'id': 16116}, {'id': 20861}, {'id': 22251}, {'id': 22571}, {'id': 22611}, {'id': 24741}, {'id': 25536}, {'id': 19061}, {'id': 30246}, {'id': 31896}, {'id': 32521}, {'id': 32981}, {'id': 33916}, {'id': 41346}, {'id': 41788}, {'id': 41801}, {'id': 45821}, {'id': 47401}, {'id': 47411}, {'id': 52361}, {'id': 52596}, {'id': 53901}, {'id': 54446}, {'id': 54646}, {'id': 55736}, {'id': 56786}, {'id': 57061}, {'id': 60236}, {'id': 60351}, {'id': 60816}, {'id': 63606}, {'id': 65368}, {'id': 73221}, {'id': 73731}, {'id': 73741}, {'id': 91}, {'id': 2623}, {'id': 3011}, {'id': 3941}, {'id': 4046}, {'id': 5016}, {'id': 5676}, {'id': 7111}, {'id': 7116}, {'id': 7451}, {'id': 9056}, {'id': 10981}, {'id': 11656}, {'id': 11941}, {'id': 12751}, {'id': 13401}, {'id': 14081}, {'id': 14306}, {'id': 15306}, {'id': 15451}, {'id': 17386}, {'id': 17811}, {'id': 19611}, {'id': 22436}, {'id': 22476}, {'id': 24011}, {'id': 24306}, {'id': 25081}, {'id': 27521}, {'id': 33816}, {'id': 40056}, {'id': 28311}, {'id': 29846}, {'id': 30061}, {'id': 30211}, {'id': 30536}, {'id': 30571}, {'id': 20391}, {'id': 32571}, {'id': 33016}, {'id': 36211}, {'id': 37586}, {'id': 40057}, {'id': 39661}, {'id': 39956}, {'id': 40466}, {'id': 42799}, {'id': 43751}, {'id': 44321}, {'id': 28296}, {'id': 34241}, {'id': 46861}, {'id': 26971}, {'id': 2366}, {'id': 48026}, {'id': 49236}, {'id': 50311}, {'id': 52766}, {'id': 52791}, {'id': 55006}, {'id': 55131}, {'id': 58231}, {'id': 59051}, {'id': 42936}, {'id': 61396}, {'id': 62566}, {'id': 63721}, {'id': 67724}, {'id': 69701}, {'id': 72781}, {'id': 73841}, {'id': 14941}, {'id': 20691}, {'id': 39371}, {'id': 42171}, {'id': 54526}, {'id': 46681}, {'id': 51241}, {'id': 64663}, {'id': 70526}, {'id': 1326}, {'id': 2401}, {'id': 3291}, {'id': 4001}, {'id': 8116}, {'id': 8831}, {'id': 9461}, {'id': 10196}, {'id': 12706}, {'id': 13281}, {'id': 22243}, {'id': 18184}, {'id': 18736}, {'id': 23231}, {'id': 6141}, {'id': 29236}, {'id': 29861}, {'id': 32336}, {'id': 33086}, {'id': 34446}, {'id': 35221}, {'id': 35041}, {'id': 37056}, {'id': 38231}, {'id': 40456}, {'id': 41344}, {'id': 42041}, {'id': 42046}, {'id': 42797}, {'id': 45553}, {'id': 46851}, {'id': 48266}, {'id': 49221}, {'id': 55881}, {'id': 56826}, {'id': 56941}, {'id': 61526}, {'id': 62731}, {'id': 63966}, {'id': 66911}, {'id': 68251}, {'id': 68481}, {'id': 68546}, {'id': 71226}, {'id': 71466}, {'id': 1136}, {'id': 1456}, {'id': 1596}, {'id': 2106}, {'id': 3163}, {'id': 4646}, {'id': 5396}, {'id': 8456}, {'id': 11731}, {'id': 14476}, {'id': 18001}, {'id': 19416}, {'id': 22741}, {'id': 23256}, {'id': 23731}, {'id': 24921}, {'id': 35046}, {'id': 35311}, {'id': 37656}, {'id': 39466}, {'id': 39566}, {'id': 40901}, {'id': 41658}, {'id': 42536}, {'id': 42741}, {'id': 44361}, {'id': 45893}, {'id': 47416}, {'id': 49901}, {'id': 50661}, {'id': 50806}, {'id': 54966}, {'id': 56216}, {'id': 58701}, {'id': 61046}, {'id': 63391}, {'id': 65696}, {'id': 69008}, {'id': 69081}, {'id': 70641}, {'id': 8956}, {'id': 9586}, {'id': 9611}, {'id': 13741}, {'id': 13806}, {'id': 16581}, {'id': 18621}, {'id': 19941}, {'id': 20101}, {'id': 21051}, {'id': 21326}, {'id': 28556}, {'id': 30666}, {'id': 31306}, {'id': 32361}, {'id': 33141}, {'id': 33376}, {'id': 34646}, {'id': 35946}, {'id': 37591}, {'id': 14686}, {'id': 22266}, {'id': 28563}, {'id': 22271}, {'id': 41006}, {'id': 41521}, {'id': 43091}, {'id': 43991}, {'id': 46746}, {'id': 48806}, {'id': 51961}, {'id': 52096}, {'id': 53806}, {'id': 53996}, {'id': 55576}, {'id': 55956}, {'id': 56606}, {'id': 56696}, {'id': 57526}, {'id': 58046}, {'id': 58196}, {'id': 66498}, {'id': 16166}, {'id': 18951}, {'id': 22546}, {'id': 58356}, {'id': 71196}, {'id': 986}, {'id': 2711}, {'id': 4311}, {'id': 4369}, {'id': 5791}, {'id': 7651}, {'id': 8016}, {'id': 8721}, {'id': 9218}, {'id': 10026}, {'id': 12721}, {'id': 14691}, {'id': 16356}, {'id': 3106}, {'id': 20756}, {'id': 21276}, {'id': 21301}, {'id': 22406}, {'id': 22766}, {'id': 23121}, {'id': 23598}, {'id': 26856}, {'id': 4367}, {'id': 27776}, {'id': 29076}, {'id': 29411}, {'id': 32576}, {'id': 32686}, {'id': 35996}, {'id': 40296}, {'id': 29071}, {'id': 44051}, {'id': 44161}, {'id': 49241}, {'id': 45036}, {'id': 45366}, {'id': 71096}, {'id': 46101}, {'id': 46946}, {'id': 9288}, {'id': 65551}, {'id': 69858}, {'id': 47811}, {'id': 48031}, {'id': 48116}, {'id': 51193}, {'id': 52801}, {'id': 54166}, {'id': 55731}, {'id': 45936}, {'id': 71101}, {'id': 57756}, {'id': 58531}, {'id': 33646}, {'id': 60001}, {'id': 60836}, {'id': 61561}, {'id': 45941}, {'id': 63656}, {'id': 64516}, {'id': 65483}, {'id': 65938}, {'id': 66136}, {'id': 66256}, {'id': 66576}, {'id': 67036}, {'id': 68591}, {'id': 69901}, {'id': 70561}, {'id': 71081}, {'id': 52156}, {'id': 1906}, {'id': 8081}, {'id': 9741}, {'id': 12676}, {'id': 13531}, {'id': 17906}, {'id': 21011}, {'id': 25441}, {'id': 29931}, {'id': 30696}, {'id': 34821}, {'id': 40511}, {'id': 42251}, {'id': 43196}, {'id': 45656}, {'id': 51576}, {'id': 52566}, {'id': 56681}, {'id': 58171}, {'id': 58191}, {'id': 60031}, {'id': 60896}, {'id': 63696}, {'id': 67171}]}\n"
          ]
        }
      ],
      "source": [
        "# Exercise 2\n",
        "# Write a script that displays the information\n",
        "# of the county \"Derbyshire\".\n",
        "\n",
        "def info_Derbyshire():\n",
        "    url = \"https://opendomesday.org/api/1.0/county/\"\n",
        "\n",
        "    try:\n",
        "        response = requests.get(url)\n",
        "        response.raise_for_status()\n",
        "        counties = response.json()\n",
        "\n",
        "        print(\"Derbyshire info:\")\n",
        "        for county in counties:\n",
        "            if(county[\"name\"]==\"Derbyshire\"):\n",
        "              return county\n",
        "    except requests.RequestException as e:\n",
        "        print(f\"An error occurred: {e}\")\n",
        "\n",
        "info_Derby = info_Derbyshire()\n",
        "\n",
        "print(info_Derby)\n",
        "\n"
      ]
    },
    {
      "cell_type": "code",
      "execution_count": 57,
      "metadata": {
        "colab": {
          "base_uri": "https://localhost:8080/"
        },
        "id": "Z3LWSEvQvdFd",
        "outputId": "0b01f25d-deaf-4aa9-c5d2-38a0f53c1641"
      },
      "outputs": [
        {
          "output_type": "stream",
          "name": "stdout",
          "text": [
            "[1036, 2558, 3016, 4791, 6093, 8701, 8951, 9101, 11441, 10771, 16116, 20861, 22251, 22571, 22611, 24741, 25536, 19061, 30246, 31896, 32521, 32981, 33916, 41346, 41788, 41801, 45821, 47401, 47411, 52361, 52596, 53901, 54446, 54646, 55736, 56786, 57061, 60236, 60351, 60816, 63606, 65368, 73221, 73731, 73741, 91, 2623, 3011, 3941, 4046, 5016, 5676, 7111, 7116, 7451, 9056, 10981, 11656, 11941, 12751, 13401, 14081, 14306, 15306, 15451, 17386, 17811, 19611, 22436, 22476, 24011, 24306, 25081, 27521, 33816, 40056, 28311, 29846, 30061, 30211, 30536, 30571, 20391, 32571, 33016, 36211, 37586, 40057, 39661, 39956, 40466, 42799, 43751, 44321, 28296, 34241, 46861, 26971, 2366, 48026, 49236, 50311, 52766, 52791, 55006, 55131, 58231, 59051, 42936, 61396, 62566, 63721, 67724, 69701, 72781, 73841, 14941, 20691, 39371, 42171, 54526, 46681, 51241, 64663, 70526, 1326, 2401, 3291, 4001, 8116, 8831, 9461, 10196, 12706, 13281, 22243, 18184, 18736, 23231, 6141, 29236, 29861, 32336, 33086, 34446, 35221, 35041, 37056, 38231, 40456, 41344, 42041, 42046, 42797, 45553, 46851, 48266, 49221, 55881, 56826, 56941, 61526, 62731, 63966, 66911, 68251, 68481, 68546, 71226, 71466, 1136, 1456, 1596, 2106, 3163, 4646, 5396, 8456, 11731, 14476, 18001, 19416, 22741, 23256, 23731, 24921, 35046, 35311, 37656, 39466, 39566, 40901, 41658, 42536, 42741, 44361, 45893, 47416, 49901, 50661, 50806, 54966, 56216, 58701, 61046, 63391, 65696, 69008, 69081, 70641, 8956, 9586, 9611, 13741, 13806, 16581, 18621, 19941, 20101, 21051, 21326, 28556, 30666, 31306, 32361, 33141, 33376, 34646, 35946, 37591, 14686, 22266, 28563, 22271, 41006, 41521, 43091, 43991, 46746, 48806, 51961, 52096, 53806, 53996, 55576, 55956, 56606, 56696, 57526, 58046, 58196, 66498, 16166, 18951, 22546, 58356, 71196, 986, 2711, 4311, 4369, 5791, 7651, 8016, 8721, 9218, 10026, 12721, 14691, 16356, 3106, 20756, 21276, 21301, 22406, 22766, 23121, 23598, 26856, 4367, 27776, 29076, 29411, 32576, 32686, 35996, 40296, 29071, 44051, 44161, 49241, 45036, 45366, 71096, 46101, 46946, 9288, 65551, 69858, 47811, 48031, 48116, 51193, 52801, 54166, 55731, 45936, 71101, 57756, 58531, 33646, 60001, 60836, 61561, 45941, 63656, 64516, 65483, 65938, 66136, 66256, 66576, 67036, 68591, 69901, 70561, 71081, 52156, 1906, 8081, 9741, 12676, 13531, 17906, 21011, 25441, 29931, 30696, 34821, 40511, 42251, 43196, 45656, 51576, 52566, 56681, 58171, 58191, 60031, 60896, 63696, 67171]\n",
            "{'id': 1036, 'vill': 'Alkmonton', 'vill_slug': 'alkmonton', 'phillimore': '6,35', 'location': 'SRID=4326;POINT (-1.726146307392585 52.94357672901474)', 'grid': 'SK1838', 'status': None, 'xrefs': None, 'county': [{'id': 'dby'}], 'area': [], 'hundred': [{'id': 'appletree'}], 'manors': [{'id': 13038}]}\n",
            "{'id': 2558, 'vill': 'Ashe', 'vill_slug': 'ashe', 'phillimore': '6,37', 'location': 'SRID=4326;POINT (-1.607585148836524 52.88930859142663)', 'grid': 'SK2632', 'status': None, 'xrefs': None, 'county': [{'id': 'dby'}], 'area': [], 'hundred': [{'id': 'appletree'}], 'manors': [{'id': 13040}]}\n",
            "{'id': 3016, 'vill': 'Aston', 'vill_slug': 'aston', 'phillimore': '6,28', 'location': 'SRID=4326;POINT (-1.756261600906905 52.88071700048258)', 'grid': 'SK1631', 'status': None, 'xrefs': None, 'county': [{'id': 'dby'}], 'area': [], 'hundred': [{'id': 'appletree'}], 'manors': [{'id': 13031}]}\n",
            "{'id': 4791, 'vill': 'Barton [Blount]', 'vill_slug': 'barton-blount', 'phillimore': '6,34', 'location': 'SRID=4326;POINT (-1.696635365880954 52.90754788938164)', 'grid': 'SK2034', 'status': None, 'xrefs': None, 'county': [{'id': 'dby'}], 'area': [], 'hundred': [{'id': 'appletree'}], 'manors': [{'id': 13037}]}\n",
            "{'id': 6093, 'vill': 'Bentley', 'vill_slug': 'bentley', 'phillimore': '6,36', 'location': 'SRID=4326;POINT (-1.741027398470734 52.94361005218635)', 'grid': 'SK1738', 'status': None, 'xrefs': None, 'county': [{'id': 'dby'}], 'area': [], 'hundred': [{'id': 'appletree'}], 'manors': [{'id': 13039}]}\n",
            "[{'id': 13038}, {'id': 13040}, {'id': 13031}, {'id': 13037}, {'id': 13039}]\n",
            "{'id': 13038, 'county': {'id': 'dby'}, 'place': [{'id': 1036}], 'phillimore': '6,35', 'headofmanor': None, 'duplicates': None, 'subholdings': None, 'notes': None, 'waste': 'none', 'waste66': 'N', 'wasteqr': 'N', 'waste86': 'N', 'geld': 1.5, 'gcode': 'geld', 'villtax': None, 'taxedon': None, 'value86': 2.0, 'value66': 3.0, 'valueqr': None, 'value_string': None, 'render': None, 'lordsland': None, 'newland': None, 'ploughlands': 2.0, 'pcode': 'land for', 'lordsploughs': 2.0, 'mensploughs': 2.0, 'totalploughs': 4.0, 'lordsploughspossible': None, 'mensploughspossible': None, 'villagers': 8.0, 'smallholders': 7.0, 'slaves': 0.0, 'femaleslaves': 0.0, 'freemen': 0.0, 'free2men': 0.0, 'priests': 0.0, 'cottagers': 0.0, 'otherpop': 0.0, 'miscpop': 0.0, 'miscpopcategories': None, 'burgesses': 0.0, 'mills': None, 'millvalue': None, 'meadow': '12', 'meadowunits': 'acres', 'pasture': None, 'pastureunits': None, 'woodland': '1 * 0.5', 'woodlandunits': 'leagues', 'fisheries': None, 'salthouses': None, 'payments': None, 'paymentsunits': None, 'churches': None, 'churchland': None, 'cobs_1086': None, 'cobs_1066': None, 'cattle_1086': None, 'cattle_1066': None, 'cows_1086': None, 'cows_1066': None, 'pigs_1086': None, 'pigs_1066': None, 'sheep_1086': None, 'sheep_1066': None, 'goats_1086': None, 'goats_1066': None, 'beehives_1086': None, 'beehives_1066': None, 'wild_mares_1086': None, 'wild_mares_1066': None, 'other_1086': None, 'other_code_1086': None, 'other_1066': None, 'other_codes_1066': None, 'lord66': [611410], 'overlord66': [], 'lord86': [412960], 'teninchief': [274850], 'image_for_manor': [{'manor': {'id': 13038}, 'x1': 149, 'x2': 834, 'y1': 1758, 'y2': 1957, 'image': 'dby/06.png'}]}\n",
            "{'id': 13040, 'county': {'id': 'dby'}, 'place': [{'id': 2558}], 'phillimore': '6,37', 'headofmanor': None, 'duplicates': None, 'subholdings': None, 'notes': None, 'waste': 'none', 'waste66': 'N', 'wasteqr': 'N', 'waste86': 'N', 'geld': 2.0, 'gcode': 'geld', 'villtax': None, 'taxedon': None, 'value86': 1.5, 'value66': 2.0, 'valueqr': None, 'value_string': None, 'render': None, 'lordsland': None, 'newland': None, 'ploughlands': 2.0, 'pcode': 'land for', 'lordsploughs': 2.0, 'mensploughs': 1.0, 'totalploughs': 3.0, 'lordsploughspossible': None, 'mensploughspossible': None, 'villagers': 7.0, 'smallholders': 0.0, 'slaves': 0.0, 'femaleslaves': 0.0, 'freemen': 0.0, 'free2men': 0.0, 'priests': 0.0, 'cottagers': 0.0, 'otherpop': 0.0, 'miscpop': 0.0, 'miscpopcategories': None, 'burgesses': 0.0, 'mills': None, 'millvalue': None, 'meadow': '18', 'meadowunits': 'acres', 'pasture': None, 'pastureunits': None, 'woodland': None, 'woodlandunits': None, 'fisheries': None, 'salthouses': None, 'payments': None, 'paymentsunits': None, 'churches': None, 'churchland': None, 'cobs_1086': None, 'cobs_1066': None, 'cattle_1086': None, 'cattle_1066': None, 'cows_1086': None, 'cows_1066': None, 'pigs_1086': None, 'pigs_1066': None, 'sheep_1086': None, 'sheep_1066': None, 'goats_1086': None, 'goats_1066': None, 'beehives_1086': None, 'beehives_1066': None, 'wild_mares_1086': None, 'wild_mares_1066': None, 'other_1086': None, 'other_code_1086': None, 'other_1066': None, 'other_codes_1066': None, 'lord66': [3250, 265310, 548110], 'overlord66': [], 'lord86': [457200], 'teninchief': [274850], 'image_for_manor': [{'manor': {'id': 13040}, 'x1': 901, 'x2': 1590, 'y1': 139, 'y2': 343, 'image': 'dby/06.png'}]}\n",
            "{'id': 13031, 'county': {'id': 'dby'}, 'place': [{'id': 3016}], 'phillimore': '6,28', 'headofmanor': None, 'duplicates': None, 'subholdings': 'Y', 'notes': None, 'waste': 'none', 'waste66': 'N', 'wasteqr': 'N', 'waste86': 'N', 'geld': 2.08, 'gcode': 'geld', 'villtax': None, 'taxedon': None, 'value86': 2.0, 'value66': 3.0, 'valueqr': None, 'value_string': None, 'render': None, 'lordsland': None, 'newland': None, 'ploughlands': 2.0, 'pcode': 'land for', 'lordsploughs': 3.0, 'mensploughs': 2.0, 'totalploughs': 5.0, 'lordsploughspossible': None, 'mensploughspossible': None, 'villagers': 8.0, 'smallholders': 4.0, 'slaves': 0.0, 'femaleslaves': 0.0, 'freemen': 0.0, 'free2men': 0.0, 'priests': 0.0, 'cottagers': 0.0, 'otherpop': 0.0, 'miscpop': 0.0, 'miscpopcategories': None, 'burgesses': 0.0, 'mills': None, 'millvalue': None, 'meadow': '24', 'meadowunits': 'acres', 'pasture': None, 'pastureunits': None, 'woodland': '0.5 * 0.5', 'woodlandunits': 'leagues', 'fisheries': None, 'salthouses': None, 'payments': None, 'paymentsunits': None, 'churches': None, 'churchland': None, 'cobs_1086': None, 'cobs_1066': None, 'cattle_1086': None, 'cattle_1066': None, 'cows_1086': None, 'cows_1066': None, 'pigs_1086': None, 'pigs_1066': None, 'sheep_1086': None, 'sheep_1066': None, 'goats_1086': None, 'goats_1066': None, 'beehives_1086': None, 'beehives_1066': None, 'wild_mares_1086': None, 'wild_mares_1066': None, 'other_1086': None, 'other_code_1086': None, 'other_1066': None, 'other_codes_1066': None, 'lord66': [333160, 682900], 'overlord66': [], 'lord86': [26450], 'teninchief': [274850], 'image_for_manor': [{'manor': {'id': 13031}, 'x1': 122, 'x2': 879, 'y1': 499, 'y2': 737, 'image': 'dby/06.png'}, {'manor': {'id': 13031}, 'x1': 83, 'x2': 858, 'y1': 982, 'y2': 1112, 'image': 'dby/06.png'}]}\n",
            "{'id': 13037, 'county': {'id': 'dby'}, 'place': [{'id': 4791}], 'phillimore': '6,34', 'headofmanor': None, 'duplicates': None, 'subholdings': None, 'notes': None, 'waste': 'none', 'waste66': 'N', 'wasteqr': 'N', 'waste86': 'N', 'geld': 4.0, 'gcode': 'geld', 'villtax': None, 'taxedon': None, 'value86': 4.0, 'value66': 4.0, 'valueqr': None, 'value_string': None, 'render': None, 'lordsland': None, 'newland': None, 'ploughlands': 4.0, 'pcode': 'land for', 'lordsploughs': 3.0, 'mensploughs': 7.0, 'totalploughs': 10.0, 'lordsploughspossible': None, 'mensploughspossible': None, 'villagers': 19.0, 'smallholders': 11.0, 'slaves': 0.0, 'femaleslaves': 0.0, 'freemen': 0.0, 'free2men': 0.0, 'priests': 1.0, 'cottagers': 0.0, 'otherpop': 0.0, 'miscpop': 0.0, 'miscpopcategories': None, 'burgesses': 0.0, 'mills': 2.0, 'millvalue': 1.0, 'meadow': '64', 'meadowunits': 'acres', 'pasture': None, 'pastureunits': None, 'woodland': None, 'woodlandunits': None, 'fisheries': None, 'salthouses': None, 'payments': None, 'paymentsunits': None, 'churches': 1.0, 'churchland': None, 'cobs_1086': None, 'cobs_1066': None, 'cattle_1086': None, 'cattle_1066': None, 'cows_1086': None, 'cows_1066': None, 'pigs_1086': None, 'pigs_1066': None, 'sheep_1086': None, 'sheep_1066': None, 'goats_1086': None, 'goats_1066': None, 'beehives_1086': None, 'beehives_1066': None, 'wild_mares_1086': None, 'wild_mares_1066': None, 'other_1086': None, 'other_code_1086': None, 'other_1066': None, 'other_codes_1066': None, 'lord66': [169600, 236350, 235050, 333160, 325800, 153050, 32510, 167360], 'overlord66': [], 'lord86': [412960], 'teninchief': [274850], 'image_for_manor': [{'manor': {'id': 13037}, 'x1': 127, 'x2': 853, 'y1': 1547, 'y2': 1791, 'image': 'dby/06.png'}]}\n",
            "{'id': 13039, 'county': {'id': 'dby'}, 'place': [{'id': 6093}], 'phillimore': '6,36', 'headofmanor': None, 'duplicates': None, 'subholdings': None, 'notes': 'Waste: no significant resources but valued at 11s.', 'waste': 'waste', 'waste66': 'N', 'wasteqr': 'X', 'waste86': 'Y', 'geld': 1.0, 'gcode': 'geld', 'villtax': None, 'taxedon': None, 'value86': 0.55, 'value66': 1.0, 'valueqr': None, 'value_string': None, 'render': None, 'lordsland': None, 'newland': None, 'ploughlands': 1.0, 'pcode': 'land for', 'lordsploughs': 0.0, 'mensploughs': 0.0, 'totalploughs': 0.0, 'lordsploughspossible': None, 'mensploughspossible': None, 'villagers': 0.0, 'smallholders': 0.0, 'slaves': 0.0, 'femaleslaves': 0.0, 'freemen': 0.0, 'free2men': 0.0, 'priests': 0.0, 'cottagers': 0.0, 'otherpop': 0.0, 'miscpop': 0.0, 'miscpopcategories': None, 'burgesses': 0.0, 'mills': None, 'millvalue': None, 'meadow': None, 'meadowunits': None, 'pasture': None, 'pastureunits': None, 'woodland': None, 'woodlandunits': None, 'fisheries': None, 'salthouses': None, 'payments': None, 'paymentsunits': None, 'churches': None, 'churchland': None, 'cobs_1086': None, 'cobs_1066': None, 'cattle_1086': None, 'cattle_1066': None, 'cows_1086': None, 'cows_1066': None, 'pigs_1086': None, 'pigs_1066': None, 'sheep_1086': None, 'sheep_1066': None, 'goats_1086': None, 'goats_1066': None, 'beehives_1086': None, 'beehives_1066': None, 'wild_mares_1086': None, 'wild_mares_1066': None, 'other_1086': None, 'other_code_1086': None, 'other_1066': None, 'other_codes_1066': None, 'lord66': [548110, 611410], 'overlord66': [], 'lord86': [412960], 'teninchief': [274850], 'image_for_manor': [{'manor': {'id': 13039}, 'x1': 140, 'x2': 821, 'y1': 1927, 'y2': 2058, 'image': 'dby/06.png'}]}\n"
          ]
        }
      ],
      "source": [
        "# Exercise 3\n",
        "# Now that we have the ids for all the places in Derbyshire, we can load all their details...\n",
        "# And from their details, we can list all the details of their manors.\n",
        "# Go fetch the data!\n",
        "# P.S.: remember to save the data to avoid downloading it every time\n",
        "\n",
        "id_Derbyshire = []\n",
        "\n",
        "for d in info_Derby[\"places_in_county\"]:\n",
        "  id_Derbyshire.append(d[\"id\"])\n",
        "\n",
        "print(id_Derbyshire)\n",
        "manors = []\n",
        "def info_Derbyshire():\n",
        "    for id in id_Derbyshire[0:5]:\n",
        "      url = f\"https://opendomesday.org/api/1.0/place/{id}\"\n",
        "      try:\n",
        "        response = requests.get(url)\n",
        "        response.raise_for_status()\n",
        "        infos = response.json()\n",
        "\n",
        "        print(infos)\n",
        "        manors.append(infos[\"manors\"][0])\n",
        "      except requests.RequestException as e:\n",
        "        print(f\"An error occurred: {e}\")\n",
        "\n",
        "\n",
        "infoD = info_Derbyshire()\n",
        "print(manors)\n",
        "infoM = []\n",
        "def info_Manors():\n",
        "    for manor in manors:\n",
        "      url = f\"https://opendomesday.org/api/1.0/manor/{manor['id']}\"\n",
        "      try:\n",
        "        response = requests.get(url)\n",
        "        response.raise_for_status()\n",
        "        infos = response.json()\n",
        "\n",
        "        print(infos)\n",
        "        infoM.append(infos)\n",
        "      except requests.RequestException as e:\n",
        "        print(f\"An error occurred: {e}\")\n",
        "\n",
        "info_Manors()\n"
      ]
    },
    {
      "cell_type": "code",
      "execution_count": 70,
      "metadata": {
        "id": "gwyiaVxKvdFd"
      },
      "outputs": [],
      "source": [
        "# Exercise 4\n",
        "# Now that we have a quantity of raw data, we will extract the interesting parts.\n",
        "# In our case, we want to count the money paid by each manor and compare it to the number of ploughs it has.\n",
        "# - Can you find the corresponding json fields?\n",
        "# - Then, you can list these numbers for each manor in Derbyshire.\n",
        "# - And format this in an appropriate comma-separated values (CSV) file.\n",
        "ex4 = []\n",
        "\n",
        "for info in infoM:\n",
        "  ex4.append({\"id\":info[\"id\"],\"money\":info[\"value66\"]+info[\"value86\"],\"numberPloughs\":info[\"totalploughs\"]})\n",
        "\n",
        "import csv\n",
        "\n",
        "csv_file_path = '/content/ex4.csv'\n",
        "\n",
        "with open(csv_file_path, mode='w', newline='') as file:\n",
        "    writer = csv.DictWriter(file, fieldnames=ex4[0].keys())\n",
        "    writer.writeheader()\n",
        "    for item in ex4:\n",
        "        writer.writerow(item)"
      ]
    },
    {
      "cell_type": "code",
      "execution_count": 71,
      "metadata": {
        "colab": {
          "base_uri": "https://localhost:8080/"
        },
        "id": "Xz4-GbiIvdFd",
        "outputId": "f6f90149-b349-4b5e-e4c0-7bd22469b2d6"
      },
      "outputs": [
        {
          "output_type": "execute_result",
          "data": {
            "text/plain": [
              "13037"
            ]
          },
          "metadata": {},
          "execution_count": 71
        }
      ],
      "source": [
        "# Exercise 5\n",
        "# What is the richest manor in Derbyshire?\n",
        "\n",
        "max_entry = max(ex4, key=lambda x: x['money'])\n",
        "max_id = max_entry['id']\n",
        "max_id"
      ]
    },
    {
      "cell_type": "code",
      "execution_count": 74,
      "metadata": {
        "colab": {
          "base_uri": "https://localhost:8080/"
        },
        "id": "CA95G3KDvdFe",
        "outputId": "49a5333e-f92c-479e-b45b-0acee55a6c1b"
      },
      "outputs": [
        {
          "output_type": "execute_result",
          "data": {
            "text/plain": [
              "23.05"
            ]
          },
          "metadata": {},
          "execution_count": 74
        }
      ],
      "source": [
        "# Exercise 6\n",
        "# Give the total value paid by Derbyshire.\n",
        "\n",
        "sum(item['money'] for item in ex4)"
      ]
    },
    {
      "cell_type": "code",
      "execution_count": 78,
      "metadata": {
        "colab": {
          "base_uri": "https://localhost:8080/"
        },
        "id": "NPpD5d2LvdFe",
        "outputId": "a207eb61-a82a-40fa-e0e2-9f5660d5840d"
      },
      "outputs": [
        {
          "output_type": "stream",
          "name": "stdout",
          "text": [
            "List of Counties:\n",
            "Kent\n",
            "Sussex\n",
            "Surrey\n",
            "Hampshire\n",
            "Berkshire\n",
            "Wiltshire\n",
            "Dorset\n",
            "Somerset\n",
            "Devon\n",
            "Cornwall\n",
            "Middlesex\n",
            "Hertfordshire\n",
            "Buckinghamshire\n",
            "Gloucestershire\n",
            "Oxfordshire\n",
            "Worcestershire\n",
            "Herefordshire\n",
            "Cambridgeshire\n",
            "Huntingdonshire\n",
            "Bedfordshire\n",
            "Northamptonshire\n",
            "Leicestershire\n",
            "Warwickshire\n",
            "Staffordshire\n",
            "Shropshire\n",
            "Cheshire\n",
            "Derbyshire\n",
            "Nottinghamshire\n",
            "Rutland\n",
            "Yorkshire\n",
            "Lincolnshire\n",
            "Claims: YB\n",
            "Claims: YC\n",
            "Claims: LC\n",
            "Claims: HC\n",
            "Claims: YS\n",
            "Essex\n",
            "Norfolk\n",
            "Suffolk\n",
            "Lancashire\n"
          ]
        }
      ],
      "source": [
        "# Exercise 7\n",
        "# Create a Python class.\n",
        "# It must include all the previous functionalities.\n",
        "# Refactor your code to make it readable, efficient, and maintainable.\n",
        "\n",
        "class DomesdayExplorer:\n",
        "    def __init__(self):\n",
        "        self.base_url = \"https://opendomesday.org/api/1.0/\"\n",
        "        self.county_info = None\n",
        "        self.manors = []\n",
        "\n",
        "    def fetch_json(self, endpoint):\n",
        "        try:\n",
        "            response = requests.get(self.base_url + endpoint)\n",
        "            response.raise_for_status()\n",
        "            return response.json()\n",
        "        except requests.RequestException as e:\n",
        "            print(f\"An error occurred: {e}\")\n",
        "            return None\n",
        "\n",
        "    def list_counties(self):\n",
        "        counties = self.fetch_json(\"county/\")\n",
        "        if counties:\n",
        "            print(\"List of Counties:\")\n",
        "            for county in counties:\n",
        "                print(county[\"name\"])\n",
        "\n",
        "    def fetch_derbyshire_info(self):\n",
        "        counties = self.fetch_json(\"county/\")\n",
        "        if counties:\n",
        "            for county in counties:\n",
        "                if county[\"name\"] == \"Derbyshire\":\n",
        "                    self.county_info = county\n",
        "                    break\n",
        "\n",
        "    def fetch_derbyshire_places_info(self, limit=5):\n",
        "        if not self.county_info:\n",
        "            self.fetch_derbyshire_info()\n",
        "        if self.county_info and \"places_in_county\" in self.county_info:\n",
        "            for place in self.county_info[\"places_in_county\"][:limit]:\n",
        "                place_info = self.fetch_json(f\"place/{place['id']}\")\n",
        "                if place_info and \"manors\" in place_info:\n",
        "                    self.manors.append(place_info[\"manors\"][0])\n",
        "\n",
        "    def fetch_and_save_manors_info(self, csv_file_path):\n",
        "        manor_info_list = []\n",
        "        for manor in self.manors:\n",
        "            manor_info = self.fetch_json(f\"manor/{manor['id']}\")\n",
        "            if manor_info:\n",
        "                manor_info_list.append({\n",
        "                    \"id\": manor_info[\"id\"],\n",
        "                    \"money\": manor_info.get(\"value66\", 0) + manor_info.get(\"value86\", 0),\n",
        "                    \"numberPloughs\": manor_info.get(\"totalploughs\", 0)\n",
        "                })\n",
        "        self.save_to_csv(manor_info_list, csv_file_path)\n",
        "\n",
        "    @staticmethod\n",
        "    def save_to_csv(data, file_path):\n",
        "        if data:\n",
        "            with open(file_path, mode='w', newline='') as file:\n",
        "                writer = csv.DictWriter(file, fieldnames=data[0].keys())\n",
        "                writer.writeheader()\n",
        "                for item in data:\n",
        "                    writer.writerow(item)\n",
        "\n",
        "    @staticmethod\n",
        "    def find_max_money(data):\n",
        "        return max(data, key=lambda x: x['money'])['id'] if data else None\n",
        "\n",
        "    @staticmethod\n",
        "    def sum_money(data):\n",
        "        return sum(item['money'] for item in data) if data else 0\n",
        "\n",
        "\n",
        "explorer = DomesdayExplorer()\n",
        "\n",
        "explorer.list_counties()\n",
        "\n",
        "explorer.fetch_derbyshire_info()\n",
        "\n",
        "explorer.fetch_derbyshire_places_info(limit=5)\n",
        "\n",
        "csv_file_path = 'manors_info.csv'\n",
        "\n",
        "explorer.fetch_and_save_manors_info(csv_file_path)\n"
      ]
    },
    {
      "cell_type": "code",
      "execution_count": null,
      "metadata": {
        "id": "oBLvq6_IvdFe"
      },
      "outputs": [],
      "source": [
        "# Exercise 8 (optional)\n",
        "# Add to your class a system for error handling.\n",
        "# It must manage the following errors:\n",
        "# - Connection error\n",
        "# - Parsing error\n",
        "# - Request error\n",
        "# - Response error\n",
        "# - Parameter error\n",
        "\n",
        "#######################################################\n",
        "################## YOUR ANSWER HERE ##################\n",
        "#######################################################\n",
        "\n"
      ]
    }
  ],
  "metadata": {
    "kernelspec": {
      "display_name": "api",
      "language": "python",
      "name": "python3"
    },
    "language_info": {
      "codemirror_mode": {
        "name": "ipython",
        "version": 3
      },
      "file_extension": ".py",
      "mimetype": "text/x-python",
      "name": "python",
      "nbconvert_exporter": "python",
      "pygments_lexer": "ipython3",
      "version": "3.11.6"
    },
    "colab": {
      "provenance": []
    }
  },
  "nbformat": 4,
  "nbformat_minor": 0
}
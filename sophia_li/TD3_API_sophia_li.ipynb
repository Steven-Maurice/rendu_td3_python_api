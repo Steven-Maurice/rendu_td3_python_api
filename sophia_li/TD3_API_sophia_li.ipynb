{
  "cells": [
    {
      "cell_type": "markdown",
      "metadata": {
        "id": "2BbDuHY332ux"
      },
      "source": [
        "# Python with APIs\n",
        "Exchanges via HTTP using `requests` package"
      ]
    },
    {
      "cell_type": "code",
      "execution_count": 1,
      "metadata": {
        "id": "nEVNXrdZ32u2"
      },
      "outputs": [],
      "source": [
        "import requests"
      ]
    },
    {
      "cell_type": "markdown",
      "metadata": {
        "id": "r7vaILHZ32u4"
      },
      "source": [
        "## Example"
      ]
    },
    {
      "cell_type": "markdown",
      "metadata": {
        "id": "4g-WyG_s32u4"
      },
      "source": [
        "### Agify API"
      ]
    },
    {
      "cell_type": "markdown",
      "metadata": {
        "id": "TjdJKpK932u5"
      },
      "source": [
        "Example route for Agify API"
      ]
    },
    {
      "cell_type": "code",
      "execution_count": 23,
      "metadata": {
        "id": "-UjmeWeQ32u5"
      },
      "outputs": [],
      "source": [
        "agify_dan = \"https://api.agify.io/?name=dan\""
      ]
    },
    {
      "cell_type": "markdown",
      "metadata": {
        "id": "RX3xdbr732u6"
      },
      "source": [
        "Extract response"
      ]
    },
    {
      "cell_type": "code",
      "execution_count": 24,
      "metadata": {
        "colab": {
          "base_uri": "https://localhost:8080/"
        },
        "id": "TZU0kAQx32u6",
        "outputId": "639342a2-35e4-48aa-ec6e-6d651e691dfc"
      },
      "outputs": [
        {
          "output_type": "stream",
          "name": "stdout",
          "text": [
            "Answer status_code: <Response [200]>\n",
            "<class 'str'>\n",
            "<class 'dict'>\n",
            "{\"count\":67782,\"name\":\"dan\",\"age\":66}\n",
            "{'count': 67782, 'name': 'dan', 'age': 66}\n"
          ]
        }
      ],
      "source": [
        "# Run a GET request\n",
        "agify_answer = requests.get(agify_dan)\n",
        "agify_answer_txt = agify_answer.text\n",
        "agify_answer_json = agify_answer.json()\n",
        "\n",
        "print(f\"Answer status_code: {agify_answer}\")\n",
        "\n",
        "print(type(agify_answer_txt))\n",
        "print(type(agify_answer_json))\n",
        "\n",
        "print(agify_answer_txt)\n",
        "print(agify_answer_json)"
      ]
    },
    {
      "cell_type": "markdown",
      "metadata": {
        "id": "x4DAoI5M32u7"
      },
      "source": [
        "## Introductory Exercises"
      ]
    },
    {
      "cell_type": "code",
      "execution_count": 4,
      "metadata": {
        "colab": {
          "base_uri": "https://localhost:8080/"
        },
        "id": "V-rBLh0V32u7",
        "outputId": "5073a8a3-ae3e-47d3-a021-5531ee49ed70"
      },
      "outputs": [
        {
          "output_type": "stream",
          "name": "stdout",
          "text": [
            "Please enter your first name: Li\n",
            "Hello Li, our guess is that you are 52 years old!\n"
          ]
        }
      ],
      "source": [
        "# Exercise 1\n",
        "# Write a script that asks the user for their first name\n",
        "# and responds with a personalized message\n",
        "# using the agify API\n",
        "\n",
        "# https://api.agify.io/?name=YOUR_NAME\n",
        "# Example response: {\"name\":\"YOUR_NAME\",\"age\":30,\"count\":12345}\n",
        "\n",
        "#######################################################\n",
        "first_name=input(\"Please enter your first name: \")\n",
        "\n",
        "#Constrh the user's name with the URL\n",
        "url=f\"https://api.agify.io/?name={first_name}\"\n",
        "\n",
        "#Send a GET request to the agify API\n",
        "response=requests.get(url)\n",
        "\n",
        "#Check if the request was successful\n",
        "if response.status_code==200:\n",
        "    #Parse the JSON response\n",
        "    data=response.json()\n",
        "    age=data.get('age', 'unknown')\n",
        "    print(f\"Hello {first_name}, I guess is that you are {age} years old!\")\n",
        "else:\n",
        "    #If fail\n",
        "    print(\"Sorry, we couldn't process your request at this moment.\")\n"
      ]
    },
    {
      "cell_type": "code",
      "execution_count": 6,
      "metadata": {
        "colab": {
          "base_uri": "https://localhost:8080/"
        },
        "id": "6Y8852c732u8",
        "outputId": "64a6cd4c-5f29-4b05-ab98-7aec034ab2f6"
      },
      "outputs": [
        {
          "output_type": "stream",
          "name": "stdout",
          "text": [
            "Please enter your first name: li\n",
            "Hello li, I guess is that your gender is female !\n"
          ]
        }
      ],
      "source": [
        "# Exercise 2\n",
        "# Write a script that asks the user for their first name\n",
        "# and responds with a personalized message\n",
        "# using the genderize API\n",
        "# https://api.genderize.io/?name=YOUR_NAME\n",
        "\n",
        "#######################################################\n",
        "first_name=input(\"Please enter your first name: \")\n",
        "\n",
        "url=f\"https://api.genderize.io/?name={first_name}\"\n",
        "response=requests.get(url)\n",
        "if response.status_code == 200:\n",
        "    #Parse the JSON response\n",
        "    data=response.json()\n",
        "    gender=data.get('gender', 'unknown')\n",
        "    #Check if a probability was provided and format it as a percentage\n",
        "#    probability=data.get('probability', 0)*100\n",
        "#    print(f\"Hello {first_name}, I guess is that your gender is {gender} with a probability of {probability:.2f}%!\")\n",
        "    print(f\"Hello {first_name}, I guess is that your gender is {gender} !\")\n",
        "\n"
      ]
    },
    {
      "cell_type": "code",
      "execution_count": 9,
      "metadata": {
        "colab": {
          "base_uri": "https://localhost:8080/"
        },
        "id": "D6mQQM1432u8",
        "outputId": "85439137-099f-46db-eea0-e436ddb9680e"
      },
      "outputs": [
        {
          "output_type": "stream",
          "name": "stdout",
          "text": [
            "Please enter your first name: Li\n",
            "Hello Li, our guess is that you might be from CN!\n"
          ]
        }
      ],
      "source": [
        "# Exercise 3\n",
        "# Write a script that asks the user for their first name\n",
        "# and responds with a personalized message\n",
        "# using the nationalize API\n",
        "# https://api.nationalize.io/?name=YOUR_NAME\n",
        "\n",
        "#######################################################\n",
        "first_name=input(\"Please enter your first name: \")\n",
        "url=f\"https://api.nationalize.io/?name={first_name}\"\n",
        "response=requests.get(url)\n",
        "if response.status_code==200:\n",
        "    data=response.json()\n",
        "    countries=data.get('country', [])\n",
        "    if countries:\n",
        "        # Assuming the first country is the most probable\n",
        "        country_code=countries[0].get('country_id', 'unknown')\n",
        "        print(f\"Hello {first_name}, our guess is that you might be from {country_code}!\")\n",
        "    else:\n",
        "        print(f\"Hello {first_name}, we couldn't guess your nationality.\")\n",
        "\n"
      ]
    },
    {
      "cell_type": "code",
      "execution_count": 10,
      "metadata": {
        "colab": {
          "base_uri": "https://localhost:8080/"
        },
        "id": "ipffaEQ932u8",
        "outputId": "d244810a-a87f-4633-f37d-ee9e7c80927b"
      },
      "outputs": [
        {
          "output_type": "stream",
          "name": "stdout",
          "text": [
            "Please enter your first name: Li\n",
            "Hello Li, our best guess is that you might be from CN with a probability of 37.14%!\n"
          ]
        }
      ],
      "source": [
        "# Exercise 3.1\n",
        "# Parsing the response from the nationalize API\n",
        "# Get the most probable country and its percentage\n",
        "# Example response: {\"name\":\"YOUR_NAME\",\"country\":[{\"country_id\":\"FR\",\"probability\":0.75},{\"country_id\":\"BE\",\"probability\":0.25}]}\n",
        "# Hint: use the max() function with a lambda function\n",
        "# https://docs.python.org/3/library/functions.html#max\n",
        "# https://docs.python.org/3/tutorial/controlflow.html#lambda-expressions\n",
        "\n",
        "#######################################################\n",
        "\n",
        "first_name=input(\"Please enter your first name: \")\n",
        "\n",
        "url=f\"https://api.nationalize.io/?name={first_name}\"\n",
        "\n",
        "response=requests.get(url)\n",
        "\n",
        "if response.status_code==200:\n",
        "    data=response.json()\n",
        "    countries=data.get('country', [])\n",
        "    if countries:\n",
        "        # Find the country with the highest probability\n",
        "        most_probable_country=max(countries, key=lambda x: x['probability'])\n",
        "        country_code=most_probable_country.get('country_id', 'unknown')\n",
        "        probability=most_probable_country.get('probability', 0) * 100\n",
        "        print(f\"Hello {first_name}, our best guess is that you might be from {country_code} with a probability of {probability:.2f}%!\")\n",
        "\n"
      ]
    },
    {
      "cell_type": "code",
      "execution_count": null,
      "metadata": {
        "id": "TLj3VMFP32u9"
      },
      "outputs": [],
      "source": [
        "# Exercise 4\n",
        "# Use BoredAPI : https://www.boredapi.com/\n",
        "# Documentation : https://www.boredapi.com/documentation\n",
        "# 1. Write a script that generates random activities\n",
        "# 2. Write a script that generates random activities\n",
        "# 3. Write a script that generates random activities for 4 participants\n",
        "# 4. Write a script that generates random activities for 4 participants and of type \"recreational\"\n",
        "# 5. Write a script that generates random activities for 2 participants and that does not require equipment\n",
        "\n",
        "\n"
      ]
    },
    {
      "cell_type": "code",
      "source": [
        "#1\n",
        "def generate_random_activity():\n",
        "    response=requests.get(\"https://www.boredapi.com/api/activity\")\n",
        "    if response.status_code ==200:\n",
        "        data=response.json()\n",
        "        print(\"Random Activity: \", data['activity'])\n",
        "\n",
        "generate_random_activity()\n"
      ],
      "metadata": {
        "colab": {
          "base_uri": "https://localhost:8080/"
        },
        "id": "MVefjYOX_uyU",
        "outputId": "a7391992-a2d1-4c37-ebae-0b829c694892"
      },
      "execution_count": 11,
      "outputs": [
        {
          "output_type": "stream",
          "name": "stdout",
          "text": [
            "Random Activity:  Take a class at your local community center that interests you\n"
          ]
        }
      ]
    },
    {
      "cell_type": "code",
      "source": [
        "#3\n",
        "def generate_activity_for_four():\n",
        "    response = requests.get(\"https://www.boredapi.com/api/activity?participants=4\")\n",
        "    if response.status_code ==200:\n",
        "        data=response.json()\n",
        "        print(\"Activity for 4 Participants: \", data['activity'])\n",
        "\n",
        "generate_activity_for_four()\n"
      ],
      "metadata": {
        "colab": {
          "base_uri": "https://localhost:8080/"
        },
        "id": "KMlcMYYc_92P",
        "outputId": "ee07c0a0-203f-4e7e-d34a-3763293bddcf"
      },
      "execution_count": 12,
      "outputs": [
        {
          "output_type": "stream",
          "name": "stdout",
          "text": [
            "Activity for 4 Participants:  Have a bonfire with your close friends\n"
          ]
        }
      ]
    },
    {
      "cell_type": "code",
      "source": [
        "#4\n",
        "def generate_recreational_activity_for_four():\n",
        "    response = requests.get(\"https://www.boredapi.com/api/activity?type=recreational&participants=4\")\n",
        "    if response.status_code==200:\n",
        "        data=response.json()\n",
        "        print(\"Recreational Activity for 4 Participants: \", data['activity'])\n",
        "\n",
        "generate_recreational_activity_for_four()\n"
      ],
      "metadata": {
        "colab": {
          "base_uri": "https://localhost:8080/"
        },
        "id": "eSdRhb45AWj1",
        "outputId": "65b8377a-937b-4b03-81df-c5edcad95e26"
      },
      "execution_count": 13,
      "outputs": [
        {
          "output_type": "stream",
          "name": "stdout",
          "text": [
            "Recreational Activity for 4 Participants:  Go see a Broadway production\n"
          ]
        }
      ]
    },
    {
      "cell_type": "code",
      "source": [
        "def generate_activity_for_two():\n",
        "    response=requests.get(\"https://www.boredapi.com/api/activity?participants=2\")# ou accesibilité >0.4 etc......\n",
        "    if response.status_code==200:\n",
        "        data=response.json()\n",
        "        if not any(keyword in data['activity'].lower() for keyword in ['equipment', 'ball', 'bike', 'net', 'racket']):\n",
        "         print(\"Activity for 2 Participants without specific equipment: \", data['activity'])\n",
        "\n",
        "\n",
        "generate_activity_for_two()\n"
      ],
      "metadata": {
        "colab": {
          "base_uri": "https://localhost:8080/"
        },
        "id": "WEj1wa3fAgJv",
        "outputId": "6cb83629-e486-49c7-eafd-8eed3afafa23"
      },
      "execution_count": 16,
      "outputs": [
        {
          "output_type": "stream",
          "name": "stdout",
          "text": [
            "Activity for 2 Participants without specific equipment:  Compliment someone\n"
          ]
        }
      ]
    },
    {
      "cell_type": "markdown",
      "metadata": {
        "id": "7Cn3BiUN32u9"
      },
      "source": [
        "## Intermediate exercises"
      ]
    },
    {
      "cell_type": "code",
      "execution_count": 28,
      "metadata": {
        "colab": {
          "base_uri": "https://localhost:8080/"
        },
        "id": "ZWvfo8gc32u9",
        "outputId": "0f714368-6462-45d7-b59f-87cf43acc8a8"
      },
      "outputs": [
        {
          "output_type": "stream",
          "name": "stdout",
          "text": [
            "List of Countries from OpenDomesday:\n",
            "Kent\n",
            "Sussex\n",
            "Surrey\n",
            "Hampshire\n",
            "Berkshire\n",
            "Wiltshire\n",
            "Dorset\n",
            "Somerset\n",
            "Devon\n",
            "Cornwall\n",
            "Middlesex\n",
            "Hertfordshire\n",
            "Buckinghamshire\n",
            "Gloucestershire\n",
            "Oxfordshire\n",
            "Worcestershire\n",
            "Herefordshire\n",
            "Cambridgeshire\n",
            "Huntingdonshire\n",
            "Bedfordshire\n",
            "Northamptonshire\n",
            "Leicestershire\n",
            "Warwickshire\n",
            "Staffordshire\n",
            "Shropshire\n",
            "Cheshire\n",
            "Derbyshire\n",
            "Nottinghamshire\n",
            "Rutland\n",
            "Yorkshire\n",
            "Lincolnshire\n",
            "Claims: YB\n",
            "Claims: YC\n",
            "Claims: LC\n",
            "Claims: HC\n",
            "Claims: YS\n",
            "Essex\n",
            "Norfolk\n",
            "Suffolk\n",
            "Lancashire\n"
          ]
        }
      ],
      "source": [
        "# OpenDomesday\n",
        "# https://opendomesday.org/api/\n",
        "\n",
        "# Exercise 1\n",
        "# Write a script that displays all the counties\n",
        "# using the OpenDomesday API.\n",
        "# Make a GET request to the OpenDomesday API endpoint for counties\n",
        "def fetch_counties():\n",
        "    url = \"https://opendomesday.org/api/1.0/county/\"\n",
        "    response=requests.get(url)\n",
        "\n",
        "    if response.status_code==200:\n",
        "\n",
        "        data=response.json()\n",
        "        print(\"List of Countries from OpenDomesday:\")\n",
        "        for county in data:\n",
        "            print(county['name'])\n",
        "\n",
        "fetch_counties()\n"
      ]
    },
    {
      "cell_type": "code",
      "execution_count": 32,
      "metadata": {
        "colab": {
          "base_uri": "https://localhost:8080/"
        },
        "id": "61curO-a32u9",
        "outputId": "c80c5ced-1919-486d-ea83-2a045ca0f446"
      },
      "outputs": [
        {
          "output_type": "stream",
          "name": "stdout",
          "text": [
            "Information for Derbyshire:\n",
            "Id: dby\n",
            "Name: Derbyshire\n",
            "Name_slug: derbyshire\n",
            "Places_in_county: [{'id': 1036}, {'id': 2558}, {'id': 3016}, {'id': 4791}, {'id': 6093}, {'id': 8701}, {'id': 8951}, {'id': 9101}, {'id': 11441}, {'id': 10771}, {'id': 16116}, {'id': 20861}, {'id': 22251}, {'id': 22571}, {'id': 22611}, {'id': 24741}, {'id': 25536}, {'id': 19061}, {'id': 30246}, {'id': 31896}, {'id': 32521}, {'id': 32981}, {'id': 33916}, {'id': 41346}, {'id': 41788}, {'id': 41801}, {'id': 45821}, {'id': 47401}, {'id': 47411}, {'id': 52361}, {'id': 52596}, {'id': 53901}, {'id': 54446}, {'id': 54646}, {'id': 55736}, {'id': 56786}, {'id': 57061}, {'id': 60236}, {'id': 60351}, {'id': 60816}, {'id': 63606}, {'id': 65368}, {'id': 73221}, {'id': 73731}, {'id': 73741}, {'id': 91}, {'id': 2623}, {'id': 3011}, {'id': 3941}, {'id': 4046}, {'id': 5016}, {'id': 5676}, {'id': 7111}, {'id': 7116}, {'id': 7451}, {'id': 9056}, {'id': 10981}, {'id': 11656}, {'id': 11941}, {'id': 12751}, {'id': 13401}, {'id': 14081}, {'id': 14306}, {'id': 15306}, {'id': 15451}, {'id': 17386}, {'id': 17811}, {'id': 19611}, {'id': 22436}, {'id': 22476}, {'id': 24011}, {'id': 24306}, {'id': 25081}, {'id': 27521}, {'id': 33816}, {'id': 40056}, {'id': 28311}, {'id': 29846}, {'id': 30061}, {'id': 30211}, {'id': 30536}, {'id': 30571}, {'id': 20391}, {'id': 32571}, {'id': 33016}, {'id': 36211}, {'id': 37586}, {'id': 40057}, {'id': 39661}, {'id': 39956}, {'id': 40466}, {'id': 42799}, {'id': 43751}, {'id': 44321}, {'id': 28296}, {'id': 34241}, {'id': 46861}, {'id': 26971}, {'id': 2366}, {'id': 48026}, {'id': 49236}, {'id': 50311}, {'id': 52766}, {'id': 52791}, {'id': 55006}, {'id': 55131}, {'id': 58231}, {'id': 59051}, {'id': 42936}, {'id': 61396}, {'id': 62566}, {'id': 63721}, {'id': 67724}, {'id': 69701}, {'id': 72781}, {'id': 73841}, {'id': 14941}, {'id': 20691}, {'id': 39371}, {'id': 42171}, {'id': 54526}, {'id': 46681}, {'id': 51241}, {'id': 64663}, {'id': 70526}, {'id': 1326}, {'id': 2401}, {'id': 3291}, {'id': 4001}, {'id': 8116}, {'id': 8831}, {'id': 9461}, {'id': 10196}, {'id': 12706}, {'id': 13281}, {'id': 22243}, {'id': 18184}, {'id': 18736}, {'id': 23231}, {'id': 6141}, {'id': 29236}, {'id': 29861}, {'id': 32336}, {'id': 33086}, {'id': 34446}, {'id': 35221}, {'id': 35041}, {'id': 37056}, {'id': 38231}, {'id': 40456}, {'id': 41344}, {'id': 42041}, {'id': 42046}, {'id': 42797}, {'id': 45553}, {'id': 46851}, {'id': 48266}, {'id': 49221}, {'id': 55881}, {'id': 56826}, {'id': 56941}, {'id': 61526}, {'id': 62731}, {'id': 63966}, {'id': 66911}, {'id': 68251}, {'id': 68481}, {'id': 68546}, {'id': 71226}, {'id': 71466}, {'id': 1136}, {'id': 1456}, {'id': 1596}, {'id': 2106}, {'id': 3163}, {'id': 4646}, {'id': 5396}, {'id': 8456}, {'id': 11731}, {'id': 14476}, {'id': 18001}, {'id': 19416}, {'id': 22741}, {'id': 23256}, {'id': 23731}, {'id': 24921}, {'id': 35046}, {'id': 35311}, {'id': 37656}, {'id': 39466}, {'id': 39566}, {'id': 40901}, {'id': 41658}, {'id': 42536}, {'id': 42741}, {'id': 44361}, {'id': 45893}, {'id': 47416}, {'id': 49901}, {'id': 50661}, {'id': 50806}, {'id': 54966}, {'id': 56216}, {'id': 58701}, {'id': 61046}, {'id': 63391}, {'id': 65696}, {'id': 69008}, {'id': 69081}, {'id': 70641}, {'id': 8956}, {'id': 9586}, {'id': 9611}, {'id': 13741}, {'id': 13806}, {'id': 16581}, {'id': 18621}, {'id': 19941}, {'id': 20101}, {'id': 21051}, {'id': 21326}, {'id': 28556}, {'id': 30666}, {'id': 31306}, {'id': 32361}, {'id': 33141}, {'id': 33376}, {'id': 34646}, {'id': 35946}, {'id': 37591}, {'id': 14686}, {'id': 22266}, {'id': 28563}, {'id': 22271}, {'id': 41006}, {'id': 41521}, {'id': 43091}, {'id': 43991}, {'id': 46746}, {'id': 48806}, {'id': 51961}, {'id': 52096}, {'id': 53806}, {'id': 53996}, {'id': 55576}, {'id': 55956}, {'id': 56606}, {'id': 56696}, {'id': 57526}, {'id': 58046}, {'id': 58196}, {'id': 66498}, {'id': 16166}, {'id': 18951}, {'id': 22546}, {'id': 58356}, {'id': 71196}, {'id': 986}, {'id': 2711}, {'id': 4311}, {'id': 4369}, {'id': 5791}, {'id': 7651}, {'id': 8016}, {'id': 8721}, {'id': 9218}, {'id': 10026}, {'id': 12721}, {'id': 14691}, {'id': 16356}, {'id': 3106}, {'id': 20756}, {'id': 21276}, {'id': 21301}, {'id': 22406}, {'id': 22766}, {'id': 23121}, {'id': 23598}, {'id': 26856}, {'id': 4367}, {'id': 27776}, {'id': 29076}, {'id': 29411}, {'id': 32576}, {'id': 32686}, {'id': 35996}, {'id': 40296}, {'id': 29071}, {'id': 44051}, {'id': 44161}, {'id': 49241}, {'id': 45036}, {'id': 45366}, {'id': 71096}, {'id': 46101}, {'id': 46946}, {'id': 9288}, {'id': 65551}, {'id': 69858}, {'id': 47811}, {'id': 48031}, {'id': 48116}, {'id': 51193}, {'id': 52801}, {'id': 54166}, {'id': 55731}, {'id': 45936}, {'id': 71101}, {'id': 57756}, {'id': 58531}, {'id': 33646}, {'id': 60001}, {'id': 60836}, {'id': 61561}, {'id': 45941}, {'id': 63656}, {'id': 64516}, {'id': 65483}, {'id': 65938}, {'id': 66136}, {'id': 66256}, {'id': 66576}, {'id': 67036}, {'id': 68591}, {'id': 69901}, {'id': 70561}, {'id': 71081}, {'id': 52156}, {'id': 1906}, {'id': 8081}, {'id': 9741}, {'id': 12676}, {'id': 13531}, {'id': 17906}, {'id': 21011}, {'id': 25441}, {'id': 29931}, {'id': 30696}, {'id': 34821}, {'id': 40511}, {'id': 42251}, {'id': 43196}, {'id': 45656}, {'id': 51576}, {'id': 52566}, {'id': 56681}, {'id': 58171}, {'id': 58191}, {'id': 60031}, {'id': 60896}, {'id': 63696}, {'id': 67171}]\n"
          ]
        }
      ],
      "source": [
        "# Exercise 2\n",
        "# Write a script that displays the information\n",
        "# of the county \"Derbyshire\".\n",
        "\n",
        "#######################################################\n",
        "response = requests.get('https://opendomesday.org/api/1.0/county/')\n",
        "\n",
        "# Check if the request was successful\n",
        "if response.status_code == 200:\n",
        "    # Parse the response JSON\n",
        "    data = response.json()\n",
        "    # Find the county with the name \"Derbyshire\"\n",
        "    derbyshire = next((county for county in data if county['name'] == 'Derbyshire'), None)\n",
        "\n",
        "\n",
        "    if derbyshire:\n",
        "        print(f\"Information for {derbyshire['name']}:\")\n",
        "        for key, value in derbyshire.items():\n",
        "            print(f\"{key.capitalize()}: {value}\")\n",
        "    else:\n",
        "        print(\"County 'Derbyshire' not found.\")\n",
        "else:\n",
        "    print(\"Error occurred while fetching data from the OpenDomesday API.\")\n",
        "\n"
      ]
    },
    {
      "cell_type": "code",
      "execution_count": 51,
      "metadata": {
        "colab": {
          "base_uri": "https://localhost:8080/"
        },
        "id": "ZUibqwC332u-",
        "outputId": "fe69e0fb-bffd-4598-8b9d-3a6c6dcfb32e"
      },
      "outputs": [
        {
          "output_type": "stream",
          "name": "stdout",
          "text": [
            "Loaded data from local file.\n",
            "Failed to fetch Derbyshire place IDs.\n"
          ]
        }
      ],
      "source": [
        "# Exercise 3\n",
        "# Now that we have the ids for all the places in Derbyshire, we can load all their details...\n",
        "# And from their details, we can list all the details of their manors.\n",
        "# Go fetch the data!\n",
        "# P.S.: remember to save the data to avoid downloading it every time\n",
        "\n",
        "#######################################################\n",
        "import os\n",
        "import json\n",
        "\n",
        "class DerbyshireManors:\n",
        "    def __init__(self, data_filename='derbyshire_manors.json'):\n",
        "        self.data_filename = data_filename\n",
        "        self.derbyshire_manors = self.load_or_fetch_data()\n",
        "        self.derbyshire_place_ids = self.fetch_derbyshire_place_ids()\n",
        "\n",
        "    def load_or_fetch_data(self):\n",
        "        \"\"\"Load manor data from a file or fetch it if not present.\"\"\"\n",
        "        if os.path.exists(self.data_filename):\n",
        "            with open(self.data_filename, 'r') as file:\n",
        "                print(\"Loaded data from local file.\")\n",
        "                return json.load(file)\n",
        "        else:\n",
        "            return []\n",
        "\n",
        "    def fetch_derbyshire_place_ids(self):\n",
        "        \"\"\"Fetches the list of place IDs for Derbyshire.\"\"\"\n",
        "        base_url = 'https://opendomesday.org/api/1.0/county/derbyshire/places'  # Hypothetical URL\n",
        "        response = requests.get(base_url)\n",
        "        if response.status_code == 200:\n",
        "            places_data = response.json()\n",
        "            # Assuming the JSON structure contains a list of places with their IDs\n",
        "            return [place['id'] for place in places_data.get('places', [])]\n",
        "        else:\n",
        "            print(\"Failed to fetch Derbyshire place IDs.\")\n",
        "            return []\n",
        "\n",
        "    def fetch_place_details_and_save(self):\n",
        "        \"\"\"Fetches place details using the set place IDs and saves them locally.\"\"\"\n",
        "        if not self.derbyshire_manors:\n",
        "            base_url = 'https://opendomesday.org/api/1.0/place/'  # Corrected base URL\n",
        "\n",
        "            for place_id in self.derbyshire_place_ids:\n",
        "                full_url = f\"{base_url}{place_id}\"\n",
        "                response = requests.get(full_url)\n",
        "                if response.status_code == 200:\n",
        "                    place_details = response.json()\n",
        "                    self.derbyshire_manors.append(place_details)\n",
        "\n",
        "            with open(self.data_filename, 'w') as file:\n",
        "                json.dump(self.derbyshire_manors, file)\n",
        "            print(\"Data fetched and saved locally.\")\n",
        "\n",
        "# Usage example\n",
        "derbyshire = DerbyshireManors()\n",
        "derbyshire.fetch_place_details_and_save()\n"
      ]
    },
    {
      "cell_type": "code",
      "execution_count": 48,
      "metadata": {
        "colab": {
          "base_uri": "https://localhost:8080/",
          "height": 297
        },
        "id": "uYSAhpF532u-",
        "outputId": "a0d584e1-d107-4569-cf1b-057985f4818e"
      },
      "outputs": [
        {
          "output_type": "error",
          "ename": "AttributeError",
          "evalue": "'DerbyshireManors' object has no attribute 'derbyshire_manors'",
          "traceback": [
            "\u001b[0;31m---------------------------------------------------------------------------\u001b[0m",
            "\u001b[0;31mAttributeError\u001b[0m                            Traceback (most recent call last)",
            "\u001b[0;32m<ipython-input-48-fa67b2b2c1d0>\u001b[0m in \u001b[0;36m<cell line: 37>\u001b[0;34m()\u001b[0m\n\u001b[1;32m     35\u001b[0m \u001b[0mderbyshire\u001b[0m \u001b[0;34m=\u001b[0m \u001b[0mDerbyshireManors\u001b[0m\u001b[0;34m(\u001b[0m\u001b[0;34m)\u001b[0m\u001b[0;34m\u001b[0m\u001b[0;34m\u001b[0m\u001b[0m\n\u001b[1;32m     36\u001b[0m \u001b[0;31m# Assume `derbyshire_manors` is populated with the actual data either loaded or fetched previously\u001b[0m\u001b[0;34m\u001b[0m\u001b[0;34m\u001b[0m\u001b[0m\n\u001b[0;32m---> 37\u001b[0;31m \u001b[0mderbyshire\u001b[0m\u001b[0;34m.\u001b[0m\u001b[0mextract_and_save_manor_data_to_csv\u001b[0m\u001b[0;34m(\u001b[0m\u001b[0;34m)\u001b[0m\u001b[0;34m\u001b[0m\u001b[0;34m\u001b[0m\u001b[0m\n\u001b[0m",
            "\u001b[0;32m<ipython-input-48-fa67b2b2c1d0>\u001b[0m in \u001b[0;36mextract_and_save_manor_data_to_csv\u001b[0;34m(self)\u001b[0m\n\u001b[1;32m     22\u001b[0m             \u001b[0mcsvwriter\u001b[0m\u001b[0;34m.\u001b[0m\u001b[0mwriterow\u001b[0m\u001b[0;34m(\u001b[0m\u001b[0;34m[\u001b[0m\u001b[0;34m'Manor ID'\u001b[0m\u001b[0;34m,\u001b[0m \u001b[0;34m'Money Paid'\u001b[0m\u001b[0;34m,\u001b[0m \u001b[0;34m'Number of Ploughs'\u001b[0m\u001b[0;34m]\u001b[0m\u001b[0;34m)\u001b[0m\u001b[0;34m\u001b[0m\u001b[0;34m\u001b[0m\u001b[0m\n\u001b[1;32m     23\u001b[0m \u001b[0;34m\u001b[0m\u001b[0m\n\u001b[0;32m---> 24\u001b[0;31m             \u001b[0;32mfor\u001b[0m \u001b[0mmanor\u001b[0m \u001b[0;32min\u001b[0m \u001b[0mself\u001b[0m\u001b[0;34m.\u001b[0m\u001b[0mderbyshire_manors\u001b[0m\u001b[0;34m:\u001b[0m\u001b[0;34m\u001b[0m\u001b[0;34m\u001b[0m\u001b[0m\n\u001b[0m\u001b[1;32m     25\u001b[0m                 \u001b[0;31m# Adjust the key names according to your data structure\u001b[0m\u001b[0;34m\u001b[0m\u001b[0;34m\u001b[0m\u001b[0m\n\u001b[1;32m     26\u001b[0m                 \u001b[0mmanor_id\u001b[0m \u001b[0;34m=\u001b[0m \u001b[0mmanor\u001b[0m\u001b[0;34m.\u001b[0m\u001b[0mget\u001b[0m\u001b[0;34m(\u001b[0m\u001b[0;34m'id'\u001b[0m\u001b[0;34m,\u001b[0m \u001b[0;34m'Unknown'\u001b[0m\u001b[0;34m)\u001b[0m  \u001b[0;31m# Adjust as needed\u001b[0m\u001b[0;34m\u001b[0m\u001b[0;34m\u001b[0m\u001b[0m\n",
            "\u001b[0;31mAttributeError\u001b[0m: 'DerbyshireManors' object has no attribute 'derbyshire_manors'"
          ]
        }
      ],
      "source": [
        "# Exercise 4\n",
        "# Now that we have a quantity of raw data, we will extract the interesting parts.\n",
        "# In our case, we want to count the money paid by each manor and compare it to the number of ploughs it has.\n",
        "# - Can you find the corresponding json fields?\n",
        "# - Then, you can list these numbers for each manor in Derbyshire.\n",
        "# - And format this in an appropriate comma-separated values (CSV) file.\n",
        "\n",
        "#######################################################\n",
        "\n"
      ]
    },
    {
      "cell_type": "code",
      "execution_count": 40,
      "metadata": {
        "colab": {
          "base_uri": "https://localhost:8080/"
        },
        "id": "PWR-tqSw32u-",
        "outputId": "3ec864c1-1264-4398-c239-adfff9595737"
      },
      "outputs": [
        {
          "output_type": "stream",
          "name": "stdout",
          "text": [
            "No manor data found.\n"
          ]
        }
      ],
      "source": [
        "# Exercise 5\n",
        "# What is the richest manor in Derbyshire?\n",
        "\n",
        "#######################################################\n",
        "\n",
        "cache_dir = 'place_details_cache'\n",
        "\n",
        "richest_manor = None\n",
        "max_wealth = 0\n",
        "\n",
        "for filename in os.listdir(cache_dir):\n",
        "    filepath = os.path.join(cache_dir, filename)\n",
        "    with open(filepath, 'r') as file:\n",
        "        data = json.load(file)\n",
        "\n",
        "\n",
        "        manors = []\n",
        "        if isinstance(data, list):\n",
        "            manors = data  # Assuming the list contains manor details\n",
        "        elif isinstance(data, dict) and 'manors' in data:\n",
        "            manors = data['manors']  # Extract manors if structured as expected\n",
        "\n",
        "        for manor in manors:\n",
        "            money_paid = manor.get('money_paid', 0)\n",
        "            if money_paid > max_wealth:\n",
        "                max_wealth = money_paid\n",
        "                richest_manor = manor\n",
        "\n",
        "if richest_manor:\n",
        "    print(f\"The richest manor in Derbyshire is {richest_manor.get('name', 'Unknown')} with a wealth indicator of {max_wealth}.\")\n",
        "else:\n",
        "    print(\"No manor data found.\")\n"
      ]
    },
    {
      "cell_type": "code",
      "execution_count": 41,
      "metadata": {
        "colab": {
          "base_uri": "https://localhost:8080/"
        },
        "id": "L2QSf7li32u-",
        "outputId": "53b49f66-0e06-4cda-b1cf-fd83746ae03f"
      },
      "outputs": [
        {
          "output_type": "stream",
          "name": "stdout",
          "text": [
            "The total value paid by Derbyshire is: 0\n"
          ]
        }
      ],
      "source": [
        "# Exercise 6\n",
        "# Give the total value paid by Derbyshire.\n",
        "\n",
        "#######################################################\n",
        "\n",
        "cache_dir = 'place_details_cache'\n",
        "\n",
        "total_value_paid = 0\n",
        "\n",
        "for filename in os.listdir(cache_dir):\n",
        "    filepath = os.path.join(cache_dir, filename)\n",
        "    with open(filepath, 'r') as file:\n",
        "        data = json.load(file)\n",
        "\n",
        "        manors = []\n",
        "        if isinstance(data, list):\n",
        "            manors = data  # Assuming the list contains manor details\n",
        "        elif isinstance(data, dict) and 'manors' in data:\n",
        "            manors = data['manors']  # Extract manors if structured as expected\n",
        "\n",
        "        for manor in manors:\n",
        "            # Assuming a dictionary structure for each manor; adjust the key as needed\n",
        "            money_paid = manor.get('money_paid', 0)  # Use the correct key for money paid\n",
        "            total_value_paid += money_paid\n",
        "\n",
        "print(f\"The total value paid by Derbyshire is: {total_value_paid}\")\n"
      ]
    },
    {
      "cell_type": "code",
      "execution_count": 42,
      "metadata": {
        "colab": {
          "base_uri": "https://localhost:8080/"
        },
        "id": "wn23fzIr32u-",
        "outputId": "75aab804-a76a-4913-a243-18b71cfbb0ba"
      },
      "outputs": [
        {
          "output_type": "stream",
          "name": "stdout",
          "text": [
            "Fetching data for place ID: place_id_1 from the API\n",
            "Failed to fetch data for place ID: place_id_1\n",
            "Fetching data for place ID: place_id_2 from the API\n",
            "Failed to fetch data for place ID: place_id_2\n",
            "The total value paid by Derbyshire is: 0\n"
          ]
        }
      ],
      "source": [
        "# Exercise 7\n",
        "# Create a Python class.\n",
        "# It must include all the previous functionalities.\n",
        "# Refactor your code to make it readable, efficient, and maintainable.\n",
        "\n",
        "#######################################################\n",
        "\n",
        "\n"
      ]
    },
    {
      "cell_type": "code",
      "execution_count": null,
      "metadata": {
        "id": "xGy5oork32u_"
      },
      "outputs": [],
      "source": [
        "# Exercise 8 (optional)\n",
        "# Add to your class a system for error handling.\n",
        "# It must manage the following errors:\n",
        "# - Connection error\n",
        "# - Parsing error\n",
        "# - Request error\n",
        "# - Response error\n",
        "# - Parameter error\n",
        "\n",
        "#######################################################\n",
        "################## YOUR ANSWER HERE ##################\n",
        "#######################################################\n",
        "\n"
      ]
    }
  ],
  "metadata": {
    "kernelspec": {
      "display_name": "api",
      "language": "python",
      "name": "python3"
    },
    "language_info": {
      "codemirror_mode": {
        "name": "ipython",
        "version": 3
      },
      "file_extension": ".py",
      "mimetype": "text/x-python",
      "name": "python",
      "nbconvert_exporter": "python",
      "pygments_lexer": "ipython3",
      "version": "3.11.6"
    },
    "colab": {
      "provenance": []
    }
  },
  "nbformat": 4,
  "nbformat_minor": 0
}
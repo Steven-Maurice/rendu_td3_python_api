{
  "nbformat": 4,
  "nbformat_minor": 0,
  "metadata": {
    "colab": {
      "provenance": []
    },
    "kernelspec": {
      "name": "python3",
      "display_name": "Python 3"
    },
    "language_info": {
      "name": "python"
    }
  },
  "cells": [
    {
      "cell_type": "markdown",
      "source": [
        "# Python with APIs\n",
        "\n",
        "> Exchanges via HTTP using requests package\n",
        "\n"
      ],
      "metadata": {
        "id": "8F8W7GWp563z"
      }
    },
    {
      "cell_type": "code",
      "execution_count": 1,
      "metadata": {
        "id": "2kxjITNc5iin"
      },
      "outputs": [],
      "source": [
        "import requests"
      ]
    },
    {
      "cell_type": "markdown",
      "source": [
        "#Example\n",
        "\n",
        ">Agify API\n",
        "\n",
        "Example route for Agify API"
      ],
      "metadata": {
        "id": "7OdK2fLa6RAa"
      }
    },
    {
      "cell_type": "code",
      "source": [
        "agify_dan = \"https://api.agify.io/?name=dan\""
      ],
      "metadata": {
        "id": "mP6Ay-Hi6faL"
      },
      "execution_count": 2,
      "outputs": []
    },
    {
      "cell_type": "markdown",
      "source": [
        "Extract response"
      ],
      "metadata": {
        "id": "90wnXGxn6k6H"
      }
    },
    {
      "cell_type": "code",
      "source": [
        "# Run a GET request\n",
        "agify_answer = requests.get(agify_dan)\n",
        "agify_answer_txt = agify_answer.text\n",
        "agify_answer_json = agify_answer.json()\n",
        "\n",
        "print(f\"Answer status_code: {agify_answer}\")\n",
        "\n",
        "print(type(agify_answer_txt))\n",
        "print(type(agify_answer_json))\n",
        "\n",
        "print(agify_answer_txt)\n",
        "print(agify_answer_json)"
      ],
      "metadata": {
        "colab": {
          "base_uri": "https://localhost:8080/"
        },
        "id": "pdkYM_kd6nBy",
        "outputId": "2734c69a-1400-47cc-822d-d972560ea32d"
      },
      "execution_count": 3,
      "outputs": [
        {
          "output_type": "stream",
          "name": "stdout",
          "text": [
            "Answer status_code: <Response [200]>\n",
            "<class 'str'>\n",
            "<class 'dict'>\n",
            "{\"count\":67782,\"name\":\"dan\",\"age\":66}\n",
            "{'count': 67782, 'name': 'dan', 'age': 66}\n"
          ]
        }
      ]
    },
    {
      "cell_type": "markdown",
      "source": [
        "#Introductory Exercises\n",
        "\n",
        "Exercice 1 :"
      ],
      "metadata": {
        "id": "wGmlITcj7X_I"
      }
    },
    {
      "cell_type": "code",
      "source": [
        "def Prenom(name):\n",
        "    api_url = f\"https://api.agify.io/?name={name}\"\n",
        "\n",
        "    try:\n",
        "        # Requête vers l'API agify\n",
        "        response = requests.get(api_url)\n",
        "        data = response.json()\n",
        "\n",
        "        # Analyse des données\n",
        "        name = data.get(\"name\")\n",
        "        age = data.get(\"age\")\n",
        "\n",
        "        # Ecriture du message personnalisé\n",
        "        if name and age:\n",
        "            message = f\"Salut, {name}! D'après ton prénom, tu as environ {age} ans.\"\n",
        "        else:\n",
        "            message = \"Désolé, nous n'avons pas pu estimer ton âge.\"\n",
        "\n",
        "        return message\n",
        "    except Exception as e:\n",
        "        return f\"An error occurred: {e}\"\n",
        "\n",
        "if __name__ == \"__main__\":\n",
        "    user_name = input(\"Quel est votre prénom ?\")\n",
        "    personalized_message = Prenom(user_name)\n",
        "    print(personalized_message)\n"
      ],
      "metadata": {
        "colab": {
          "base_uri": "https://localhost:8080/"
        },
        "id": "a84jEamW7Wal",
        "outputId": "dd205b3f-93ea-47e6-af8f-79b5ede7c6c2"
      },
      "execution_count": 7,
      "outputs": [
        {
          "output_type": "stream",
          "name": "stdout",
          "text": [
            "Quel est votre prénom ?Adam\n",
            "Salut, Adam! D'après ton prénom, tu as environ 46 ans.\n"
          ]
        }
      ]
    },
    {
      "cell_type": "markdown",
      "source": [
        "Exercice 2 :"
      ],
      "metadata": {
        "id": "HV3hOu7N_JFr"
      }
    },
    {
      "cell_type": "code",
      "source": [
        "def Genre(name):\n",
        "    api_url = f\"https://api.genderize.io/?name={name}\"\n",
        "\n",
        "    try:\n",
        "        # Requête vers l'API Genderize\n",
        "        response = requests.get(api_url)\n",
        "        data = response.json()\n",
        "\n",
        "        # Analyse des données\n",
        "        nom = data.get(\"name\")\n",
        "        genre = data.get(\"gender\")\n",
        "\n",
        "        # Ecriture du message personnalisé\n",
        "        if nom and genre:\n",
        "            message = f\"Salut, {nom}! D'après ton prénom, ton genre est {genre}.\"\n",
        "        else:\n",
        "            message = \"Désolé, nous n'avons pas pu estimer ton genre.\"\n",
        "\n",
        "        return message\n",
        "    except Exception as e:\n",
        "        return f\"Une erreur s'est produite : {e}\"\n",
        "\n",
        "if __name__ == \"__main__\":\n",
        "    user_name = input(\"Quel est votre prénom ?\")\n",
        "    message_personnalise = Genre(user_name)\n",
        "    print(message_personnalise)\n"
      ],
      "metadata": {
        "colab": {
          "base_uri": "https://localhost:8080/"
        },
        "id": "7d8KSpeJ_Nwq",
        "outputId": "2a6c1980-2b7c-450d-e3a8-64699adfa525"
      },
      "execution_count": 16,
      "outputs": [
        {
          "output_type": "stream",
          "name": "stdout",
          "text": [
            "Quel est votre prénom ?Adel\n",
            "Salut, Adel! D'après ton prénom, ton genre est male.\n"
          ]
        }
      ]
    },
    {
      "cell_type": "markdown",
      "source": [
        "Exercice 3:"
      ],
      "metadata": {
        "id": "lZeqsKXbA4BZ"
      }
    },
    {
      "cell_type": "code",
      "source": [
        "def Nationalite(name):\n",
        "    # Construit l'URL de l'API Nationalize\n",
        "    api_url = f\"https://api.nationalize.io/?name={name}\"\n",
        "\n",
        "    try:\n",
        "        # Requête vers l'API Nationalize\n",
        "        response = requests.get(api_url)\n",
        "        data = response.json()\n",
        "\n",
        "        # Analyse des données\n",
        "        nom = data.get(\"name\")\n",
        "        pays = data.get(\"country\")\n",
        "\n",
        "        # Ecriture du message personnalisé\n",
        "        if nom and pays:\n",
        "            top_countries = \", \".join([f\"{c['country_id']} ({c['probability']:.2f})\" for c in pays[:5]])\n",
        "            message = f\"Bonjour, {nom} ! Selon votre prénom, voici les pays les plus probables : {top_countries}.\"\n",
        "        else:\n",
        "            message = \"Désolé, nous n'avons pas pu estimer votre nationalité en fonction du prénom fourni.\"\n",
        "\n",
        "        return message\n",
        "    except Exception as e:\n",
        "        return f\"Une erreur s'est produite : {e}\"\n",
        "\n",
        "if __name__ == \"__main__\":\n",
        "    user_name = input(\"Quel est votre prénom ?\")\n",
        "    message_personnalise = Nationalite(user_name)\n",
        "    print(message_personnalise)\n"
      ],
      "metadata": {
        "colab": {
          "base_uri": "https://localhost:8080/"
        },
        "id": "CMcDXy3FA6RB",
        "outputId": "2cf59bb6-99d1-4620-90f9-03ce81ba8d1b"
      },
      "execution_count": 17,
      "outputs": [
        {
          "output_type": "stream",
          "name": "stdout",
          "text": [
            "Quel est votre prénom ?Adel\n",
            "Bonjour, Adel ! Selon votre prénom, voici les pays les plus probables : EG (0.57), DZ (0.07), TN (0.06), SA (0.04), AE (0.03).\n"
          ]
        }
      ]
    },
    {
      "cell_type": "markdown",
      "source": [
        "Exercice 3.1:"
      ],
      "metadata": {
        "id": "Vi2ukr8ECDpH"
      }
    },
    {
      "cell_type": "code",
      "source": [
        "def Nationalite(name):\n",
        "    # Construit l'URL de l'API Nationalize\n",
        "    api_url = f\"https://api.nationalize.io/?name={name}\"\n",
        "\n",
        "    try:\n",
        "        # Requête vers l'API Nationalize\n",
        "        response = requests.get(api_url)\n",
        "        data = response.json()\n",
        "\n",
        "        # Analyse des données\n",
        "        nom = data.get(\"name\")\n",
        "        pays = data.get(\"country\")\n",
        "\n",
        "        # Ecriture du message personnalisé\n",
        "        if nom and pays:\n",
        "            PaysPlusProbable = max(pays, key=lambda x: x[\"probability\"])\n",
        "            Id_pays = PaysPlusProbable.get(\"country_id\")\n",
        "            probabilite = PaysPlusProbable.get(\"probability\")\n",
        "            message = f\"Bonjour, {nom} ! Selon votre prénom, voici le pays le plus probable : {Id_pays}, avec une probabilité de {probabilite}.\"\n",
        "        else:\n",
        "            message = \"Désolé, nous n'avons pas pu estimer votre nationalité la plus probable en fonction du prénom fourni.\"\n",
        "\n",
        "        return message\n",
        "    except Exception as e:\n",
        "        return f\"Une erreur s'est produite : {e}\"\n",
        "\n",
        "if __name__ == \"__main__\":\n",
        "    user_name = input(\"Quel est votre prénom ?\")\n",
        "    message_personnalise = Nationalite(user_name)\n",
        "    print(message_personnalise)"
      ],
      "metadata": {
        "colab": {
          "base_uri": "https://localhost:8080/"
        },
        "id": "jnNT2Vk5CG51",
        "outputId": "268450dc-cbe6-4f04-dcc4-a786e41718db"
      },
      "execution_count": 19,
      "outputs": [
        {
          "output_type": "stream",
          "name": "stdout",
          "text": [
            "Quel est votre prénom ?Adel\n",
            "Bonjour, Adel ! Selon votre prénom, voici le pays le plus probable : EG, avec une probabilité de 0.571837080695912.\n"
          ]
        }
      ]
    },
    {
      "cell_type": "markdown",
      "source": [
        "Exercice 4:\n",
        ">1."
      ],
      "metadata": {
        "id": "euDbpyUvFyoy"
      }
    },
    {
      "cell_type": "code",
      "source": [
        "response = requests.get(\"https://www.boredapi.com/api/activity/\")\n",
        "data = response.json()\n",
        "print(data.get(\"activity\"))"
      ],
      "metadata": {
        "colab": {
          "base_uri": "https://localhost:8080/"
        },
        "id": "yK3QtayNFEKi",
        "outputId": "59c6ce55-c7c7-4d2c-d797-b2d4ee63f8ea"
      },
      "execution_count": 21,
      "outputs": [
        {
          "output_type": "stream",
          "name": "stdout",
          "text": [
            "Make a to-do list for your week\n"
          ]
        }
      ]
    },
    {
      "cell_type": "markdown",
      "source": [
        ">2."
      ],
      "metadata": {
        "id": "CNMaUlLrHb61"
      }
    },
    {
      "cell_type": "code",
      "source": [
        "def ActiviteePour4():\n",
        "  response = requests.get(\"https://www.boredapi.com/api/activity/\")\n",
        "  data = response.json()\n",
        "  return data.get(\"activity\")\n",
        "\n",
        "for i in range(4):\n",
        "  activite = ActiviteePour4()\n",
        "  print(f\"Le participant {i+1} peut faire {activite}\")"
      ],
      "metadata": {
        "colab": {
          "base_uri": "https://localhost:8080/"
        },
        "id": "9QaX97qkHQbI",
        "outputId": "86d8b648-7592-4b35-b3c9-f192cfcbe644"
      },
      "execution_count": 27,
      "outputs": [
        {
          "output_type": "stream",
          "name": "stdout",
          "text": [
            "Le participant 1 peut faire Learn Kotlin\n",
            "Le participant 2 peut faire Take a class at your local community center that interests you\n",
            "Le participant 3 peut faire Play a video game\n",
            "Le participant 4 peut faire Plan a vacation you've always wanted to take\n"
          ]
        }
      ]
    },
    {
      "cell_type": "markdown",
      "source": [
        ">3."
      ],
      "metadata": {
        "id": "IUweqBJxLBWJ"
      }
    },
    {
      "cell_type": "code",
      "source": [
        "def ActiviteeRecreativePour4():\n",
        "  response = requests.get(\"https://www.boredapi.com/api/activity?type=recreational\")\n",
        "  data = response.json()\n",
        "  return data.get(\"activity\")\n",
        "\n",
        "for i in range(4):\n",
        "  activite = ActiviteePour4()\n",
        "  print(f\"Le participant {i+1} peut faire {activite}\")"
      ],
      "metadata": {
        "colab": {
          "base_uri": "https://localhost:8080/"
        },
        "id": "b0tmPHGpLDBv",
        "outputId": "c7212a50-368d-42ae-c2a8-b8c2945c9142"
      },
      "execution_count": 29,
      "outputs": [
        {
          "output_type": "stream",
          "name": "stdout",
          "text": [
            "Le participant 1 peut faire Rearrange and organize your room\n",
            "Le participant 2 peut faire Match your storage containers with their lids\n",
            "Le participant 3 peut faire Learn Javascript\n",
            "Le participant 4 peut faire Make bread from scratch\n"
          ]
        }
      ]
    },
    {
      "cell_type": "markdown",
      "source": [
        ">4."
      ],
      "metadata": {
        "id": "ZTcvaFChMAfv"
      }
    },
    {
      "cell_type": "code",
      "source": [
        "def ActiviteeRecreativePour4():\n",
        "  response = requests.get(\"https://www.boredapi.com/api/activity?price=0.0\")\n",
        "  data = response.json()\n",
        "  return data.get(\"activity\")\n",
        "\n",
        "for i in range(4):\n",
        "  activite = ActiviteePour4()\n",
        "  print(f\"Le participant {i+1} peut faire {activite}\")"
      ],
      "metadata": {
        "colab": {
          "base_uri": "https://localhost:8080/"
        },
        "id": "uhez8hubMCEv",
        "outputId": "126f075c-392f-4ed5-95c9-b69953196042"
      },
      "execution_count": 30,
      "outputs": [
        {
          "output_type": "stream",
          "name": "stdout",
          "text": [
            "Le participant 1 peut faire Volunteer at your local food bank\n",
            "Le participant 2 peut faire Learn to write with your nondominant hand\n",
            "Le participant 3 peut faire Draw something interesting\n",
            "Le participant 4 peut faire Create or update your resume\n"
          ]
        }
      ]
    },
    {
      "cell_type": "markdown",
      "source": [
        "#Intermediate exercises\n",
        "\n",
        "Exercice 1:"
      ],
      "metadata": {
        "id": "qUkVXvlrN-O4"
      }
    },
    {
      "cell_type": "code",
      "source": [
        "def Counties():\n",
        "  response = requests.get(\"https://opendomesday.org/api/1.0/county\")\n",
        "  data = response.json()\n",
        "  counties = [i['name'] for i in data]\n",
        "  return(counties)\n",
        "\n",
        "Counties()"
      ],
      "metadata": {
        "colab": {
          "base_uri": "https://localhost:8080/"
        },
        "id": "ztY3X-J5TACB",
        "outputId": "2f6f59f2-75ae-48b4-c53a-b633fadf52de"
      },
      "execution_count": 46,
      "outputs": [
        {
          "output_type": "execute_result",
          "data": {
            "text/plain": [
              "['Kent',\n",
              " 'Sussex',\n",
              " 'Surrey',\n",
              " 'Hampshire',\n",
              " 'Berkshire',\n",
              " 'Wiltshire',\n",
              " 'Dorset',\n",
              " 'Somerset',\n",
              " 'Devon',\n",
              " 'Cornwall',\n",
              " 'Middlesex',\n",
              " 'Hertfordshire',\n",
              " 'Buckinghamshire',\n",
              " 'Gloucestershire',\n",
              " 'Oxfordshire',\n",
              " 'Worcestershire',\n",
              " 'Herefordshire',\n",
              " 'Cambridgeshire',\n",
              " 'Huntingdonshire',\n",
              " 'Bedfordshire',\n",
              " 'Northamptonshire',\n",
              " 'Leicestershire',\n",
              " 'Warwickshire',\n",
              " 'Staffordshire',\n",
              " 'Shropshire',\n",
              " 'Cheshire',\n",
              " 'Derbyshire',\n",
              " 'Nottinghamshire',\n",
              " 'Rutland',\n",
              " 'Yorkshire',\n",
              " 'Lincolnshire',\n",
              " 'Claims: YB',\n",
              " 'Claims: YC',\n",
              " 'Claims: LC',\n",
              " 'Claims: HC',\n",
              " 'Claims: YS',\n",
              " 'Essex',\n",
              " 'Norfolk',\n",
              " 'Suffolk',\n",
              " 'Lancashire']"
            ]
          },
          "metadata": {},
          "execution_count": 46
        }
      ]
    },
    {
      "cell_type": "markdown",
      "source": [
        "Exercice 2:"
      ],
      "metadata": {
        "id": "Uuj6tmjxZlT-"
      }
    },
    {
      "cell_type": "code",
      "source": [
        "def InfoDerbyshire():\n",
        "    try:\n",
        "        response = requests.get(\"https://opendomesday.org/api/1.0/county/derbyshire/\")\n",
        "        data = response.text\n",
        "\n",
        "        return data\n",
        "\n",
        "if __name__ == \"__main__\":\n",
        "    derbyshire_info = InfoDerbyshire()\n",
        "    print(derbyshire_info)\n"
      ],
      "metadata": {
        "id": "BJSo4wfdZ5cU"
      },
      "execution_count": null,
      "outputs": []
    }
  ]
}
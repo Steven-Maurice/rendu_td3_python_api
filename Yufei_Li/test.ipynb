{
 "cells": [
  {
   "cell_type": "code",
   "execution_count": 11,
   "id": "5622bd28",
   "metadata": {},
   "outputs": [],
   "source": [
    "Yufei Li"
   ]
  },
  {
   "cell_type": "code",
   "execution_count": null,
   "id": "d299777d",
   "metadata": {},
   "outputs": [],
   "source": [
    "import requests"
   ]
  },
  {
   "cell_type": "code",
   "execution_count": 12,
   "id": "8442be74",
   "metadata": {},
   "outputs": [],
   "source": [
    "# Example route for Agify API\n",
    "agify_dan = \"https://api.agify.io/?name=dan\""
   ]
  },
  {
   "cell_type": "code",
   "execution_count": 13,
   "id": "c9915678",
   "metadata": {},
   "outputs": [
    {
     "name": "stdout",
     "output_type": "stream",
     "text": [
      "Answer status_code: <Response [200]>\n",
      "<class 'str'>\n",
      "<class 'dict'>\n",
      "{\"count\":67782,\"name\":\"dan\",\"age\":66}\n",
      "{'count': 67782, 'name': 'dan', 'age': 66}\n"
     ]
    }
   ],
   "source": [
    "# Extract response\n",
    "# Run a GET request\n",
    "agify_answer = requests.get(agify_dan)\n",
    "agify_answer_txt = agify_answer.text\n",
    "agify_answer_json = agify_answer.json()\n",
    "\n",
    "print(f\"Answer status_code: {agify_answer}\")\n",
    "\n",
    "print(type(agify_answer_txt))\n",
    "print(type(agify_answer_json))\n",
    "\n",
    "print(agify_answer_txt)\n",
    "print(agify_answer_json)"
   ]
  },
  {
   "cell_type": "code",
   "execution_count": 15,
   "id": "5959c40c",
   "metadata": {},
   "outputs": [
    {
     "name": "stdout",
     "output_type": "stream",
     "text": [
      "Please enter your first name: Yufei\n",
      "{'name': 'Yufei', 'age': 44, 'count': 57}\n"
     ]
    }
   ],
   "source": [
    "# Exercice 1\n",
    "import requests\n",
    "\n",
    "# Ask user for their first name\n",
    "first_name = input(\"Please enter your first name: \")\n",
    "\n",
    "# Make a GET request to the Agify API\n",
    "url = f\"https://api.agify.io/?name={first_name}\"\n",
    "response = requests.get(url)\n",
    "\n",
    "# Check if the request was successful\n",
    "if response.status_code == 200:\n",
    "    # Parse the response data\n",
    "    data = response.json()\n",
    "\n",
    "    # Extract the age from the response\n",
    "    age = data[\"age\"]\n",
    "    count = data[\"count\"]\n",
    "\n",
    "    # Create a personalized response\n",
    "    response_data = {\n",
    "        \"name\": first_name,\n",
    "        \"age\": age,\n",
    "        \"count\": count\n",
    "    }\n",
    "\n",
    "    # Print the response data\n",
    "    print(response_data)\n",
    "else:\n",
    "    print(\"Error: Failed to retrieve data from the Agify API.\")"
   ]
  },
  {
   "cell_type": "code",
   "execution_count": 16,
   "id": "a359d7c3",
   "metadata": {},
   "outputs": [
    {
     "name": "stdout",
     "output_type": "stream",
     "text": [
      "Please enter your first name: Yufei\n",
      "Hi Yufei, according to the Genderize API, the estimated gender for someone named Yufei is female with a probability of 0.97.\n"
     ]
    }
   ],
   "source": [
    "# Exercice 2\n",
    "import requests\n",
    "\n",
    "# Ask user for their first name\n",
    "first_name = input(\"Please enter your first name: \")\n",
    "\n",
    "# Make a GET request to the Genderize API\n",
    "url = f\"https://api.genderize.io/?name={first_name}\"\n",
    "response = requests.get(url)\n",
    "\n",
    "# Check if the request was successful\n",
    "if response.status_code == 200:\n",
    "    # Parse the response data\n",
    "    data = response.json()\n",
    "\n",
    "    # Extract the gender from the response\n",
    "    gender = data[\"gender\"]\n",
    "    probability = data[\"probability\"]\n",
    "\n",
    "    # Create a personalized message\n",
    "    if gender is not None:\n",
    "        message = f\"Hi {first_name}, according to the Genderize API, the estimated gender for someone named {first_name} is {gender} with a probability of {probability}.\"\n",
    "    else:\n",
    "        message = f\"Hi {first_name}, the Genderize API couldn't determine the gender for someone named {first_name}.\"\n",
    "\n",
    "    # Print the message\n",
    "    print(message)\n",
    "else:\n",
    "    print(\"Error: Failed to retrieve data from the Genderize API.\")"
   ]
  },
  {
   "cell_type": "code",
   "execution_count": 17,
   "id": "73d89963",
   "metadata": {},
   "outputs": [
    {
     "name": "stdout",
     "output_type": "stream",
     "text": [
      "Please enter your first name: Yufei\n",
      "Hi Yufei, according to the Nationalize API, your name Yufei is most likely associated with the following countries: CN, SQ, TW, HK, AO with corresponding probabilities: 0.6415412682473562, 0.1384714475925341, 0.06537594679989556, 0.06537594679989556, 0.02179198226663185.\n"
     ]
    }
   ],
   "source": [
    "# Exercice 3\n",
    "import requests\n",
    "\n",
    "# Ask user for their first name\n",
    "first_name = input(\"Please enter your first name: \")\n",
    "\n",
    "# Make a GET request to the Nationalize API\n",
    "url = f\"https://api.nationalize.io/?name={first_name}\"\n",
    "response = requests.get(url)\n",
    "\n",
    "# Check if the request was successful\n",
    "if response.status_code == 200:\n",
    "    # Parse the response data\n",
    "    data = response.json()\n",
    "\n",
    "    # Extract the country predictions from the response\n",
    "    country_predictions = data[\"country\"]\n",
    "\n",
    "    # Create a personalized message\n",
    "    if len(country_predictions) > 0:\n",
    "        countries = [prediction[\"country_id\"] for prediction in country_predictions]\n",
    "        probabilities = [prediction[\"probability\"] for prediction in country_predictions]\n",
    "        message = f\"Hi {first_name}, according to the Nationalize API, your name {first_name} is most likely associated with the following countries: {', '.join(countries)} with corresponding probabilities: {', '.join(map(str, probabilities))}.\"\n",
    "    else:\n",
    "        message = f\"Hi {first_name}, the Nationalize API couldn't predict any country associated with the name {first_name}.\"\n",
    "\n",
    "    # Print the message\n",
    "    print(message)\n",
    "else:\n",
    "    print(\"Error: Failed to retrieve data from the Nationalize API.\")"
   ]
  },
  {
   "cell_type": "code",
   "execution_count": 20,
   "id": "e519a496",
   "metadata": {},
   "outputs": [
    {
     "name": "stdout",
     "output_type": "stream",
     "text": [
      "Name: YOUR_NAME\n",
      "Most probable country: FR\n",
      "Probability: 0.75\n"
     ]
    }
   ],
   "source": [
    "# Exercice 3.1\n",
    "import json\n",
    "\n",
    "response = '{\"name\":\"YOUR_NAME\",\"country\":[{\"country_id\":\"FR\",\"probability\":0.75},{\"country_id\":\"BE\",\"probability\":0.25}]}'\n",
    "data = json.loads(response)\n",
    "\n",
    "name = data[\"name\"]\n",
    "most_probable_country = max(data[\"country\"], key=lambda x: x[\"probability\"])\n",
    "country_id = most_probable_country[\"country_id\"]\n",
    "probability = most_probable_country[\"probability\"]\n",
    "\n",
    "result = f\"Name: {name}\\nMost probable country: {country_id}\\nProbability: {probability}\"\n",
    "print(result)"
   ]
  },
  {
   "cell_type": "code",
   "execution_count": 21,
   "id": "cc2f56b0",
   "metadata": {},
   "outputs": [
    {
     "name": "stdout",
     "output_type": "stream",
     "text": [
      "Random Activity: Learn how to use a french press\n"
     ]
    }
   ],
   "source": [
    "# Exercice 4\n",
    "\n",
    "# 1.\n",
    "import requests\n",
    "\n",
    "response = requests.get(\"https://www.boredapi.com/api/activity\")\n",
    "data = response.json()\n",
    "\n",
    "activity = data[\"activity\"]\n",
    "print(\"Random Activity:\", activity)"
   ]
  },
  {
   "cell_type": "code",
   "execution_count": 22,
   "id": "2f84bdd3",
   "metadata": {},
   "outputs": [
    {
     "name": "stdout",
     "output_type": "stream",
     "text": [
      "Random Recreational Activity: Paint the first thing you see\n"
     ]
    }
   ],
   "source": [
    "2.\n",
    "import requests\n",
    "\n",
    "response = requests.get(\"https://www.boredapi.com/api/activity?type=recreational\")\n",
    "data = response.json()\n",
    "\n",
    "activity = data[\"activity\"]\n",
    "print(\"Random Recreational Activity:\", activity)"
   ]
  },
  {
   "cell_type": "code",
   "execution_count": 23,
   "id": "a0b4f2bb",
   "metadata": {},
   "outputs": [
    {
     "name": "stdout",
     "output_type": "stream",
     "text": [
      "Random Activity for 4 Participants: Go see a movie in theaters with a few friends\n"
     ]
    }
   ],
   "source": [
    "3.\n",
    "import requests\n",
    "\n",
    "response = requests.get(\"https://www.boredapi.com/api/activity?participants=4\")\n",
    "data = response.json()\n",
    "\n",
    "activity = data[\"activity\"]\n",
    "print(\"Random Activity for 4 Participants:\", activity)"
   ]
  },
  {
   "cell_type": "code",
   "execution_count": 24,
   "id": "9991f896",
   "metadata": {},
   "outputs": [
    {
     "name": "stdout",
     "output_type": "stream",
     "text": [
      "Random Recreational Activity for 4 Participants: Go see a Broadway production\n"
     ]
    }
   ],
   "source": [
    "4.\n",
    "\n",
    "import requests\n",
    "\n",
    "response = requests.get(\"https://www.boredapi.com/api/activity?participants=4&type=recreational\")\n",
    "data = response.json()\n",
    "\n",
    "activity = data[\"activity\"]\n",
    "print(\"Random Recreational Activity for 4 Participants:\", activity)"
   ]
  },
  {
   "cell_type": "code",
   "execution_count": 45,
   "id": "a9fdb2b2",
   "metadata": {},
   "outputs": [
    {
     "name": "stdout",
     "output_type": "stream",
     "text": [
      "Random Activity for 2 Participants (Without equipment): Compliment someone\n"
     ]
    }
   ],
   "source": [
    "5.\n",
    "import requests\n",
    "\n",
    "response = requests.get(\"https://www.boredapi.com/api/activity?participants=2&accessibility=0\")\n",
    "data = response.json()\n",
    "\n",
    "if \"activity\" in data:\n",
    "    activity = data[\"activity\"]\n",
    "    print(\"Random Activity for 2 Participants (Without equipment):\", activity)\n",
    "else:\n",
    "    print(\"No activity found with the specified parameters.\")"
   ]
  },
  {
   "cell_type": "code",
   "execution_count": null,
   "id": "a1c53875",
   "metadata": {},
   "outputs": [],
   "source": [
    "# Intermediate exercices"
   ]
  },
  {
   "cell_type": "code",
   "execution_count": 60,
   "id": "6de951bd",
   "metadata": {},
   "outputs": [
    {
     "name": "stdout",
     "output_type": "stream",
     "text": [
      "County: Kent\n",
      "County: Sussex\n",
      "County: Surrey\n",
      "County: Hampshire\n",
      "County: Berkshire\n",
      "County: Wiltshire\n",
      "County: Dorset\n",
      "County: Somerset\n",
      "County: Devon\n",
      "County: Cornwall\n",
      "County: Middlesex\n",
      "County: Hertfordshire\n",
      "County: Buckinghamshire\n",
      "County: Gloucestershire\n",
      "County: Oxfordshire\n",
      "County: Worcestershire\n",
      "County: Herefordshire\n",
      "County: Cambridgeshire\n",
      "County: Huntingdonshire\n",
      "County: Bedfordshire\n",
      "County: Northamptonshire\n",
      "County: Leicestershire\n",
      "County: Warwickshire\n",
      "County: Staffordshire\n",
      "County: Shropshire\n",
      "County: Cheshire\n",
      "County: Derbyshire\n",
      "County: Nottinghamshire\n",
      "County: Rutland\n",
      "County: Yorkshire\n",
      "County: Lincolnshire\n",
      "County: Claims: YB\n",
      "County: Claims: YC\n",
      "County: Claims: LC\n",
      "County: Claims: HC\n",
      "County: Claims: YS\n",
      "County: Essex\n",
      "County: Norfolk\n",
      "County: Suffolk\n",
      "County: Lancashire\n"
     ]
    }
   ],
   "source": [
    "# Exercice 1\n",
    "import requests\n",
    "\n",
    "response = requests.get(\"https://opendomesday.org/api/1.0/county\")\n",
    "\n",
    "if response.status_code == 200:\n",
    "    counties = response.json()\n",
    "\n",
    "    for county in counties:\n",
    "        print(\"County:\", county[\"name\"])\n",
    "else:\n",
    "    print(\"Error\")"
   ]
  },
  {
   "cell_type": "code",
   "execution_count": 66,
   "id": "5b277273",
   "metadata": {},
   "outputs": [
    {
     "name": "stdout",
     "output_type": "stream",
     "text": [
      "id: dby\n",
      "Name: Derbyshire\n",
      "Name Slug: derbyshire\n",
      "Places ID: [1036, 2558, 3016, 4791, 6093, 8701, 8951, 9101, 11441, 10771, 16116, 20861, 22251, 22571, 22611, 24741, 25536, 19061, 30246, 31896, 32521, 32981, 33916, 41346, 41788, 41801, 45821, 47401, 47411, 52361, 52596, 53901, 54446, 54646, 55736, 56786, 57061, 60236, 60351, 60816, 63606, 65368, 73221, 73731, 73741, 91, 2623, 3011, 3941, 4046, 5016, 5676, 7111, 7116, 7451, 9056, 10981, 11656, 11941, 12751, 13401, 14081, 14306, 15306, 15451, 17386, 17811, 19611, 22436, 22476, 24011, 24306, 25081, 27521, 33816, 40056, 28311, 29846, 30061, 30211, 30536, 30571, 20391, 32571, 33016, 36211, 37586, 40057, 39661, 39956, 40466, 42799, 43751, 44321, 28296, 34241, 46861, 26971, 2366, 48026, 49236, 50311, 52766, 52791, 55006, 55131, 58231, 59051, 42936, 61396, 62566, 63721, 67724, 69701, 72781, 73841, 14941, 20691, 39371, 42171, 54526, 46681, 51241, 64663, 70526, 1326, 2401, 3291, 4001, 8116, 8831, 9461, 10196, 12706, 13281, 22243, 18184, 18736, 23231, 6141, 29236, 29861, 32336, 33086, 34446, 35221, 35041, 37056, 38231, 40456, 41344, 42041, 42046, 42797, 45553, 46851, 48266, 49221, 55881, 56826, 56941, 61526, 62731, 63966, 66911, 68251, 68481, 68546, 71226, 71466, 1136, 1456, 1596, 2106, 3163, 4646, 5396, 8456, 11731, 14476, 18001, 19416, 22741, 23256, 23731, 24921, 35046, 35311, 37656, 39466, 39566, 40901, 41658, 42536, 42741, 44361, 45893, 47416, 49901, 50661, 50806, 54966, 56216, 58701, 61046, 63391, 65696, 69008, 69081, 70641, 8956, 9586, 9611, 13741, 13806, 16581, 18621, 19941, 20101, 21051, 21326, 28556, 30666, 31306, 32361, 33141, 33376, 34646, 35946, 37591, 14686, 22266, 28563, 22271, 41006, 41521, 43091, 43991, 46746, 48806, 51961, 52096, 53806, 53996, 55576, 55956, 56606, 56696, 57526, 58046, 58196, 66498, 16166, 18951, 22546, 58356, 71196, 986, 2711, 4311, 4369, 5791, 7651, 8016, 8721, 9218, 10026, 12721, 14691, 16356, 3106, 20756, 21276, 21301, 22406, 22766, 23121, 23598, 26856, 4367, 27776, 29076, 29411, 32576, 32686, 35996, 40296, 29071, 44051, 44161, 49241, 45036, 45366, 71096, 46101, 46946, 9288, 65551, 69858, 47811, 48031, 48116, 51193, 52801, 54166, 55731, 45936, 71101, 57756, 58531, 33646, 60001, 60836, 61561, 45941, 63656, 64516, 65483, 65938, 66136, 66256, 66576, 67036, 68591, 69901, 70561, 71081, 52156, 1906, 8081, 9741, 12676, 13531, 17906, 21011, 25441, 29931, 30696, 34821, 40511, 42251, 43196, 45656, 51576, 52566, 56681, 58171, 58191, 60031, 60896, 63696, 67171]\n"
     ]
    }
   ],
   "source": [
    "# Exercice 2\n",
    "import requests\n",
    "\n",
    "response = requests.get(\"https://opendomesday.org/api/1.0/county\")\n",
    "data = response.json()\n",
    "\n",
    "counties = data\n",
    "\n",
    "for i in range(len(counties)):\n",
    "    rep = counties[i]\n",
    "    if rep.get('name') == 'Derbyshire':\n",
    "        response_Derbyshire = rep\n",
    "        break\n",
    "\n",
    "Places = [response_Derbyshire.get('places_in_county')[i].get('id') for i in range(len(response_Derbyshire.get('places_in_county')))]\n",
    "\n",
    "print(f\"id: {response_Derbyshire.get('id')}\\nName: {response_Derbyshire.get('name')}\\nName Slug: {response_Derbyshire.get('name_slug')}\")\n",
    "print(f\"Places ID: {Places}\")"
   ]
  },
  {
   "cell_type": "code",
   "execution_count": 11,
   "id": "13c6b9e5",
   "metadata": {},
   "outputs": [],
   "source": [
    "# Exercice 3 and 4 (together)\n",
    "\n",
    "import requests\n",
    "import csv\n"
   ]
  },
  {
   "cell_type": "code",
   "execution_count": 14,
   "id": "f60e237a",
   "metadata": {},
   "outputs": [
    {
     "name": "stdout",
     "output_type": "stream",
     "text": [
      "HTTP error occurred: 502 Server Error: Bad Gateway for url: https://opendomesday.org/api/1.0/place/1036\n"
     ]
    }
   ],
   "source": [
    "try:\n",
    "    derbyshire_data = []\n",
    "\n",
    "    for place_id in Places:\n",
    "        place_response = requests.get(f\"https://opendomesday.org/api/1.0/place/{place_id}\")\n",
    "        place_response.raise_for_status()\n",
    "\n",
    "        place_data = place_response.json()\n",
    "        manors = place_data.get(\"manors\", [])\n",
    "\n",
    "        for manor in manors:\n",
    "            manor_id = manor['id']\n",
    "            manor_response = requests.get(f\"https://opendomesday.org/api/1.0/manor/{manor_id}\")\n",
    "            manor_response.raise_for_status()\n",
    "\n",
    "            manor_data = manor_response.json()\n",
    "\n",
    "            # Extract manor details\n",
    "            manor_name = manor_data.get(\"name\")\n",
    "            manor_type = manor_data.get(\"type\")\n",
    "            manor_tenants = manor_data.get(\"tenants\", [])\n",
    "            \n",
    "            # Extract money paid and number of ploughs\n",
    "            money_paid = manor_data.get(\"money_paid\")\n",
    "            ploughs = manor_data.get(\"ploughs\")\n",
    "\n",
    "            # Combine place, manor, money paid, and ploughs information\n",
    "            for tenant in manor_tenants:\n",
    "                tenant_entry = {\n",
    "                    \"Place Name\": place_data.get(\"name\"),\n",
    "                    \"Manor Name\": manor_name,\n",
    "                    \"Manor Type\": manor_type,\n",
    "                    \"Tenant Name\": tenant.get(\"name\"),\n",
    "                    \"Money Paid\": money_paid,\n",
    "                    \"Ploughs\": ploughs\n",
    "                }\n",
    "                derbyshire_data.append(tenant_entry)\n",
    "                \n",
    "except requests.exceptions.HTTPError as err:\n",
    "    print(f\"HTTP error occurred: {err}\")\n",
    "\n",
    "except requests.exceptions.RequestException as err:\n",
    "    print(f\"An error occurred: {err}\")"
   ]
  },
  {
   "cell_type": "code",
   "execution_count": 10,
   "id": "1c40e164",
   "metadata": {},
   "outputs": [
    {
     "name": "stdout",
     "output_type": "stream",
     "text": [
      "CSV file saved successfully.\n"
     ]
    }
   ],
   "source": [
    "try:\n",
    "    # We save the data to a CSV file\n",
    "    csv_file = \"derbyshire_manors.csv\"\n",
    "    fieldnames = [\"Place Name\", \"Manor Name\", \"Manor Type\", \"Tenant Name\", \"Money Paid\", \"Ploughs\"]\n",
    "\n",
    "    with open(csv_file, mode='w', newline='') as file:\n",
    "        writer = csv.DictWriter(file, fieldnames=fieldnames)\n",
    "        writer.writeheader()\n",
    "        for entry in derbyshire_data:\n",
    "            writer.writerow(entry)\n",
    "\n",
    "    print(\"CSV file saved successfully.\")\n",
    "\n",
    "except IOError as err:\n",
    "    print(f\"An error occurred while saving the CSV file: {err}\")"
   ]
  },
  {
   "cell_type": "code",
   "execution_count": 15,
   "id": "53ab4a50",
   "metadata": {},
   "outputs": [],
   "source": [
    "import csv\n",
    "\n",
    "csv_file = \"derbyshire_manors.csv\"\n",
    "\n",
    "with open(csv_file, mode='r') as file:\n",
    "    reader = csv.DictReader(file)\n",
    "    count = 0\n",
    "\n",
    "    for row in reader:\n",
    "        if count < 10:\n",
    "            print(row)\n",
    "            count += 1\n",
    "        else:\n",
    "            break"
   ]
  },
  {
   "cell_type": "code",
   "execution_count": 13,
   "id": "7c6422f0",
   "metadata": {},
   "outputs": [
    {
     "ename": "ValueError",
     "evalue": "max() arg is an empty sequence",
     "output_type": "error",
     "traceback": [
      "\u001b[1;31m---------------------------------------------------------------------------\u001b[0m",
      "\u001b[1;31mValueError\u001b[0m                                Traceback (most recent call last)",
      "\u001b[1;32m~\\AppData\\Local\\Temp\\ipykernel_3416\\1145719340.py\u001b[0m in \u001b[0;36m<module>\u001b[1;34m\u001b[0m\n\u001b[0;32m      2\u001b[0m \u001b[1;33m\u001b[0m\u001b[0m\n\u001b[0;32m      3\u001b[0m \u001b[1;31m# Find the richest manor in Derbyshire\u001b[0m\u001b[1;33m\u001b[0m\u001b[1;33m\u001b[0m\u001b[0m\n\u001b[1;32m----> 4\u001b[1;33m \u001b[0mrichest_manor\u001b[0m \u001b[1;33m=\u001b[0m \u001b[0mmax\u001b[0m\u001b[1;33m(\u001b[0m\u001b[0mderbyshire_data\u001b[0m\u001b[1;33m,\u001b[0m \u001b[0mkey\u001b[0m\u001b[1;33m=\u001b[0m\u001b[1;32mlambda\u001b[0m \u001b[0mx\u001b[0m\u001b[1;33m:\u001b[0m \u001b[0mx\u001b[0m\u001b[1;33m[\u001b[0m\u001b[1;34m\"Money Paid\"\u001b[0m\u001b[1;33m]\u001b[0m\u001b[1;33m)\u001b[0m\u001b[1;33m\u001b[0m\u001b[1;33m\u001b[0m\u001b[0m\n\u001b[0m\u001b[0;32m      5\u001b[0m \u001b[0mprint\u001b[0m\u001b[1;33m(\u001b[0m\u001b[1;34m\"The richest manor in Derbyshire is:\"\u001b[0m\u001b[1;33m)\u001b[0m\u001b[1;33m\u001b[0m\u001b[1;33m\u001b[0m\u001b[0m\n\u001b[0;32m      6\u001b[0m \u001b[0mprint\u001b[0m\u001b[1;33m(\u001b[0m\u001b[1;34mf\"Manor Name: {richest_manor['Manor Name']}\"\u001b[0m\u001b[1;33m)\u001b[0m\u001b[1;33m\u001b[0m\u001b[1;33m\u001b[0m\u001b[0m\n",
      "\u001b[1;31mValueError\u001b[0m: max() arg is an empty sequence"
     ]
    }
   ],
   "source": [
    "# Exercice 5\n",
    "\n",
    "# Find the richest manor in Derbyshire\n",
    "richest_manor = max(derbyshire_data, key=lambda x: x[\"Money Paid\"])\n",
    "print(\"The richest manor in Derbyshire is:\")\n",
    "print(f\"Manor Name: {richest_manor['Manor Name']}\")\n",
    "print(f\"Money Paid: {richest_manor['Money Paid']}\")\n",
    "\n"
   ]
  },
  {
   "cell_type": "code",
   "execution_count": null,
   "id": "b31be318",
   "metadata": {},
   "outputs": [],
   "source": [
    "# Exercice 6\n",
    "\n",
    "# Calculate the total value paid by Derbyshire\n",
    "total_money_paid = sum(entry[\"Money Paid\"] for entry in derbyshire_data)\n",
    "print(\"Total value paid by Derbyshire:\", total_money_paid)"
   ]
  },
  {
   "cell_type": "code",
   "execution_count": null,
   "id": "91fc234d",
   "metadata": {},
   "outputs": [],
   "source": [
    "# Exercice 7\n",
    "\n",
    "import requests\n",
    "import json\n",
    "import csv\n",
    "\n",
    "class DerbyshireManors:\n",
    "    def __init__(self):\n",
    "        self.county_data = None\n",
    "        self.derbyshire_data = []\n",
    "\n",
    "    def load_county_data(self):\n",
    "        response = requests.get(\"https://opendomesday.org/api/1.0/county\")\n",
    "        self.county_data = response.json()\n",
    "\n",
    "    def get_derbyshire_places(self):\n",
    "        for county in self.county_data:\n",
    "            if county.get('name') == 'Derbyshire':\n",
    "                derbyshire_county = county\n",
    "                break\n",
    "\n",
    "        places = derbyshire_county.get('places_in_county', [])\n",
    "        return [place['id'] for place in places]\n",
    "\n",
    "    def load_derbyshire_data(self):\n",
    "        places = self.get_derbyshire_places()\n",
    "\n",
    "        for place_id in places:\n",
    "            place_response = requests.get(f\"https://opendomesday.org/api/1.0/place/{place_id}\")\n",
    "            place_data = place_response.json()\n",
    "            manors = place_data.get(\"manors\", [])\n",
    "\n",
    "            for manor in manors:\n",
    "                manor_id = manor['id']\n",
    "                manor_response = requests.get(f\"https://opendomesday.org/api/1.0/manor/{manor_id}\")\n",
    "                manor_data = manor_response.json()\n",
    "\n",
    "                money_paid = manor_data.get(\"money_paid\")\n",
    "                ploughs = manor_data.get(\"ploughs\")\n",
    "\n",
    "                data_entry = {\n",
    "                    \"Place Name\": place_data.get(\"name\"),\n",
    "                    \"Manor Name\": manor_data.get(\"name\"),\n",
    "                    \"Money Paid\": money_paid,\n",
    "                    \"Ploughs\": ploughs\n",
    "                }\n",
    "                self.derbyshire_data.append(data_entry)\n",
    "\n",
    "    def save_derbyshire_data_csv(self, filename):\n",
    "        fieldnames = [\"Place Name\", \"Manor Name\", \"Money Paid\", \"Ploughs\"]\n",
    "\n",
    "        with open(filename, mode='w', newline='') as file:\n",
    "            writer = csv.DictWriter(file, fieldnames=fieldnames)\n",
    "            writer.writeheader()\n",
    "            writer.writerows(self.derbyshire_data)\n",
    "\n",
    "    def find_richest_manor(self):\n",
    "        richest_manor = max(self.derbyshire_data, key=lambda x: x[\"Money Paid\"])\n",
    "        return richest_manor\n",
    "\n",
    "    def calculate_total_money_paid(self):\n",
    "        total_money_paid = sum(entry[\"Money Paid\"] for entry in self.derbyshire_data)\n",
    "        return total_money_paid\n",
    "\n",
    "# Usage example\n",
    "derbyshire_manors = DerbyshireManors()\n",
    "derbyshire_manors.load_county_data()\n",
    "derbyshire_manors.load_derbyshire_data()\n",
    "derbyshire_manors.save_derbyshire_data_csv(\"derbyshire_manors.csv\")\n",
    "\n",
    "richest_manor = derbyshire_manors.find_richest_manor()\n",
    "print(\"The richest manor in Derbyshire is:\")\n",
    "print(f\"Manor Name: {richest_manor['Manor Name']}\")\n",
    "print(f\"Money Paid: {richest_manor['Money Paid']}\")\n",
    "\n",
    "total_money_paid = derbyshire_manors.calculate_total_money_paid()\n",
    "print(\"Total value paid by Derbyshire:\", total_money_paid)"
   ]
  }
 ],
 "metadata": {
  "kernelspec": {
   "display_name": "Python 3 (ipykernel)",
   "language": "python",
   "name": "python3"
  },
  "language_info": {
   "codemirror_mode": {
    "name": "ipython",
    "version": 3
   },
   "file_extension": ".py",
   "mimetype": "text/x-python",
   "name": "python",
   "nbconvert_exporter": "python",
   "pygments_lexer": "ipython3",
   "version": "3.9.13"
  }
 },
 "nbformat": 4,
 "nbformat_minor": 5
}

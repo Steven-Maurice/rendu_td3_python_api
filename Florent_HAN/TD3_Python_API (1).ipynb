{
  "cells": [
    {
      "cell_type": "markdown",
      "metadata": {
        "id": "PmsOXAIk3LC_"
      },
      "source": [
        "# Python with APIs\n",
        "Exchanges via HTTP using `requests` package"
      ]
    },
    {
      "cell_type": "code",
      "execution_count": 1,
      "metadata": {
        "id": "l1Evbwhe3LDC"
      },
      "outputs": [],
      "source": [
        "import requests"
      ]
    },
    {
      "cell_type": "markdown",
      "metadata": {
        "id": "qcvE5trA3LDC"
      },
      "source": [
        "## Example"
      ]
    },
    {
      "cell_type": "markdown",
      "metadata": {
        "id": "Zkj4WXYC3LDD"
      },
      "source": [
        "### Agify API"
      ]
    },
    {
      "cell_type": "markdown",
      "metadata": {
        "id": "brUn2edc3LDD"
      },
      "source": [
        "Example route for Agify API"
      ]
    },
    {
      "cell_type": "code",
      "execution_count": 2,
      "metadata": {
        "id": "f8wV2Csr3LDD"
      },
      "outputs": [],
      "source": [
        "agify_dan = \"https://api.agify.io/?name=dan\""
      ]
    },
    {
      "cell_type": "markdown",
      "metadata": {
        "id": "Gwqdjj-B3LDD"
      },
      "source": [
        "Extract response"
      ]
    },
    {
      "cell_type": "code",
      "execution_count": 3,
      "metadata": {
        "colab": {
          "base_uri": "https://localhost:8080/"
        },
        "id": "jP9zrqBu3LDD",
        "outputId": "aa3edb28-d7cd-46af-ce61-4681681a9579"
      },
      "outputs": [
        {
          "output_type": "stream",
          "name": "stdout",
          "text": [
            "Answer status_code: <Response [200]>\n",
            "<class 'str'>\n",
            "<class 'dict'>\n",
            "{\"count\":67782,\"name\":\"dan\",\"age\":66}\n",
            "{'count': 67782, 'name': 'dan', 'age': 66}\n"
          ]
        }
      ],
      "source": [
        "# Run a GET request\n",
        "agify_answer = requests.get(agify_dan)\n",
        "agify_answer_txt = agify_answer.text\n",
        "agify_answer_json = agify_answer.json()\n",
        "\n",
        "print(f\"Answer status_code: {agify_answer}\")\n",
        "\n",
        "print(type(agify_answer_txt))\n",
        "print(type(agify_answer_json))\n",
        "\n",
        "print(agify_answer_txt)\n",
        "print(agify_answer_json)"
      ]
    },
    {
      "cell_type": "markdown",
      "metadata": {
        "id": "n-nnrw_M3LDE"
      },
      "source": [
        "## Introductory Exercises"
      ]
    },
    {
      "cell_type": "code",
      "execution_count": 5,
      "metadata": {
        "colab": {
          "base_uri": "https://localhost:8080/"
        },
        "id": "LLu_8Uke3LDE",
        "outputId": "c90e315e-94cd-4738-ab1f-0640b2631825"
      },
      "outputs": [
        {
          "output_type": "stream",
          "name": "stdout",
          "text": [
            "Please enter your first name: han\n",
            "Answer status_code: 200\n",
            "<class 'str'>\n",
            "<class 'dict'>\n",
            "{\"count\":5444,\"name\":\"han\",\"age\":61}\n",
            "{'count': 5444, 'name': 'han', 'age': 61}\n",
            "Hello, han! The estimated age for your name is: 61 years old.\n"
          ]
        }
      ],
      "source": [
        "# Exercise 1\n",
        "# Write a script that asks the user for their first name\n",
        "# and responds with a personalized message\n",
        "# using the agify API\n",
        "\n",
        "# https://api.agify.io/?name=YOUR_NAME\n",
        "# Example response: {\"name\":\"YOUR_NAME\",\"age\":30,\"count\":12345}\n",
        "\n",
        "#######################################################\n",
        "################## YOUR ANSWER HERE ##################\n",
        "#######################################################\n",
        "\n",
        "name = input(\"Please enter your first name: \")\n",
        "agify_url = f\"https://api.agify.io/?name={name}\"\n",
        "\n",
        "agify_response = requests.get(agify_url)\n",
        "\n",
        "agify_response_txt = agify_response.text\n",
        "agify_response_json = agify_response.json()\n",
        "\n",
        "print(f\"Answer status_code: {agify_response.status_code}\")\n",
        "\n",
        "print(type(agify_response_txt))\n",
        "print(type(agify_response_json))\n",
        "\n",
        "# Display the content of the responses\n",
        "print(agify_response_txt)\n",
        "print(agify_response_json)\n",
        "\n",
        "if agify_response.status_code == 200:\n",
        "    estimated_age = agify_response_json.get(\"age\", \"unknown\")\n",
        "    print(f\"Hello, {name}! The estimated age for your name is: {estimated_age} years old.\")\n",
        "else:\n",
        "    print(f\"Sorry, {name}, we couldn't fetch your estimated age.\")"
      ]
    },
    {
      "cell_type": "code",
      "execution_count": 6,
      "metadata": {
        "colab": {
          "base_uri": "https://localhost:8080/"
        },
        "id": "HvlFSgjy3LDE",
        "outputId": "7cac65b4-c96e-45ba-d1ae-f7d47654af6e"
      },
      "outputs": [
        {
          "output_type": "stream",
          "name": "stdout",
          "text": [
            "Please enter your first name: han\n",
            "Answer status_code: 200\n",
            "<class 'str'>\n",
            "<class 'dict'>\n",
            "{\"count\":6139,\"name\":\"han\",\"gender\":\"male\",\"probability\":0.73}\n",
            "{'count': 6139, 'name': 'han', 'gender': 'male', 'probability': 0.73}\n",
            "Hello, han! The predicted gender for your name is: male.\n"
          ]
        }
      ],
      "source": [
        "# Exercise 2\n",
        "# Write a script that asks the user for their first name\n",
        "# and responds with a personalized message\n",
        "# using the genderize API\n",
        "# https://api.genderize.io/?name=YOUR_NAME\n",
        "\n",
        "#######################################################\n",
        "################## YOUR ANSWER HERE ##################\n",
        "#######################################################\n",
        "\n",
        "name = input(\"Please enter your first name: \")\n",
        "\n",
        "genderize_url = f\"https://api.genderize.io/?name={name}\"\n",
        "\n",
        "genderize_response = requests.get(genderize_url)\n",
        "\n",
        "genderize_response_txt = genderize_response.text\n",
        "genderize_response_json = genderize_response.json()\n",
        "\n",
        "print(f\"Answer status_code: {genderize_response.status_code}\")\n",
        "\n",
        "print(type(genderize_response_txt))\n",
        "print(type(genderize_response_json))\n",
        "\n",
        "print(genderize_response_txt)\n",
        "print(genderize_response_json)\n",
        "\n",
        "if genderize_response.status_code == 200:\n",
        "    predicted_gender = genderize_response_json.get(\"gender\", \"unknown\")\n",
        "    print(f\"Hello, {name}! The predicted gender for your name is: {predicted_gender}.\")\n",
        "else:\n",
        "    print(f\"Sorry, {name}, we couldn't predict the gender associated with your name.\")\n"
      ]
    },
    {
      "cell_type": "code",
      "execution_count": 9,
      "metadata": {
        "colab": {
          "base_uri": "https://localhost:8080/"
        },
        "id": "kBbn6o-f3LDE",
        "outputId": "157c6f5f-5364-44ab-d358-a3f85aade4ec"
      },
      "outputs": [
        {
          "output_type": "stream",
          "name": "stdout",
          "text": [
            "Please enter your first name: han\n",
            "Answer status_code: 200\n",
            "<class 'str'>\n",
            "<class 'dict'>\n",
            "{\"count\":0,\"name\":\"YOUR_NAME\",\"country\":[]}\n",
            "{'count': 0, 'name': 'YOUR_NAME', 'country': []}\n"
          ]
        }
      ],
      "source": [
        "# Exercise 3\n",
        "# Write a script that asks the user for their first name\n",
        "# and responds with a personalized message\n",
        "# using the nationalize API\n",
        "# https://api.nationalize.io/?name=YOUR_NAME\n",
        "\n",
        "#######################################################\n",
        "################## YOUR ANSWER HERE ##################\n",
        "#######################################################\n",
        "# Ask for the user's name\n",
        "name = input(\"Please enter your first name: \")\n",
        "\n",
        "# Construct the API URL for the Nationalize API\n",
        "nationalize_url = f\"https://api.nationalize.io/?name={name}\"\n",
        "\n",
        "# Run a GET request to the Nationalize API\n",
        "nationalize_response = requests.get(nationalize_url)\n",
        "\n",
        "# Get the response text and JSON format\n",
        "nationalize_response_txt = nationalize_response.text\n",
        "nationalize_response_json = nationalize_response.json()\n",
        "\n",
        "# Display the answer's status code\n",
        "print(f\"Answer status_code: {nationalize_response.status_code}\")\n",
        "\n",
        "# Display the types of the responses\n",
        "print(type(nationalize_response_txt))\n",
        "print(type(nationalize_response_json))\n",
        "\n",
        "# Display the content of the responses\n",
        "print(nationalize_response_txt)\n",
        "print(nationalize_response_json)"
      ]
    },
    {
      "cell_type": "code",
      "execution_count": 11,
      "metadata": {
        "colab": {
          "base_uri": "https://localhost:8080/"
        },
        "id": "yKWPlJok3LDE",
        "outputId": "d7171660-ae03-4168-f358-0074c34984b7"
      },
      "outputs": [
        {
          "output_type": "stream",
          "name": "stdout",
          "text": [
            "Veuillez entrer votre prénom : han\n",
            "Pays probable #1: KR avec une probabilité de 35.85%\n",
            "Pays probable #2: CN avec une probabilité de 16.38%\n"
          ]
        }
      ],
      "source": [
        "# Exercise 3.1\n",
        "# Parsing the response from the nationalize API\n",
        "# Get the most probable country and its percentage\n",
        "# Example response: {\"name\":\"YOUR_NAME\",\"country\":[{\"country_id\":\"FR\",\"probability\":0.75},{\"country_id\":\"BE\",\"probability\":0.25}]}\n",
        "# Hint: use the max() function with a lambda function\n",
        "# https://docs.python.org/3/library/functions.html#max\n",
        "# https://docs.python.org/3/tutorial/controlflow.html#lambda-expressions\n",
        "\n",
        "#######################################################\n",
        "################## YOUR ANSWER HERE ##################\n",
        "#######################################################\n",
        "name = input(\"Veuillez entrer votre prénom : \")\n",
        "\n",
        "nationalize_url = f\"https://api.nationalize.io/?name={name}\"\n",
        "\n",
        "nationalize_response = requests.get(nationalize_url)\n",
        "\n",
        "if nationalize_response.status_code == 200:\n",
        "    nationalities = nationalize_response.json().get(\"country\", [])\n",
        "\n",
        "    if len(nationalities) >= 2:\n",
        "        # Trie les nationalités par probabilité décroissante et prend les deux premières\n",
        "        top_two_countries = sorted(nationalities, key=lambda country: country['probability'], reverse=True)[:2]\n",
        "\n",
        "        # Affiche le country_id et la probability des deux pays les plus probables\n",
        "        for i, country in enumerate(top_two_countries, start=1):\n",
        "            print(f\"Pays probable #{i}: {country['country_id']} avec une probabilité de {country['probability']:.2%}\")\n",
        "    else:\n",
        "        print(\"Aucune nationalité prédite.\")\n",
        "else:\n",
        "    print(\"Erreur de requête.\")"
      ]
    },
    {
      "cell_type": "code",
      "execution_count": 14,
      "metadata": {
        "colab": {
          "base_uri": "https://localhost:8080/"
        },
        "id": "uRJOdb6J3LDF",
        "outputId": "648e4aa2-5f0e-4e0a-899e-956988493cba"
      },
      "outputs": [
        {
          "output_type": "stream",
          "name": "stdout",
          "text": [
            "{'activity': 'Take a bubble bath', 'type': 'relaxation', 'participants': 1, 'price': 0.15, 'link': '', 'key': '2581372', 'accessibility': 0.1}\n",
            "{'activity': 'Have a paper airplane contest with some friends', 'type': 'social', 'participants': 4, 'price': 0.02, 'link': '', 'key': '8557562', 'accessibility': 0.05}\n",
            "{'activity': 'Cook something together with someone', 'type': 'cooking', 'participants': 2, 'price': 0.3, 'link': '', 'key': '1799120', 'accessibility': 0.8}\n"
          ]
        }
      ],
      "source": [
        "# Exercise 4\n",
        "# Use BoredAPI : https://www.boredapi.com/\n",
        "# Documentation : https://www.boredapi.com/documentation\n",
        "# 1. Write a script that generates random activities\n",
        "# 2. Write a script that generates random activities\n",
        "# 3. Write a script that generates random activities for 4 participants\n",
        "# 4. Write a script that generates random activities for 4 participants and of type \"recreational\"\n",
        "# 5. Write a script that generates random activities for 2 participants and that does not require equipment\n",
        "\n",
        "#######################################################\n",
        "################## YOUR ANSWER HERE ##################\n",
        "#######################################################\n",
        "\n",
        "# 1.\n",
        "def get_random_activity():\n",
        "    response = requests.get(\"https://www.boredapi.com/api/activity\")\n",
        "    if response.status_code == 200:\n",
        "        return response.json()\n",
        "    else:\n",
        "        return \"Error fetching activity\"\n",
        "\n",
        "activity = get_random_activity()\n",
        "print(activity)\n",
        "\n",
        "# 3.\n",
        "def get_activity_for_participants(participants=4):\n",
        "    response = requests.get(f\"https://www.boredapi.com/api/activity?participants={participants}\")\n",
        "    if response.status_code == 200:\n",
        "        return response.json()\n",
        "    else:\n",
        "        return \"Error fetching activity\"\n",
        "\n",
        "activity = get_activity_for_participants(4)\n",
        "print(activity)\n",
        "\n",
        "# 4.\n",
        "def get_specific_activity(participants=4, activity_type=\"recreational\"):\n",
        "    url = f\"https://www.boredapi.com/api/activity?participants={participants}&type={activity_type}\"\n",
        "    response = requests.get(url)\n",
        "    if response.status_code == 200:\n",
        "        return response.json()\n",
        "    else:\n",
        "        return \"Error fetching activity\"\n",
        "\n",
        "activity = get_specific_activity(4, \"recreational\")\n",
        "print(activity)\n",
        "\n",
        "# 5\n",
        "def get_activity_with_high_accessibility(participants=2, min_accessibility=0.8):\n",
        "    response = requests.get(f\"https://www.boredapi.com/api/activity?participants={participants}&minaccessibility={min_accessibility}\")\n",
        "    if response.status_code == 200:\n",
        "        return response.json()\n",
        "    else:\n",
        "        return \"Erreur lors de la requête à l'API.\"\n",
        "\n",
        "activity = get_activity_with_high_accessibility(2, 0.8)\n",
        "print(activity)"
      ]
    },
    {
      "cell_type": "markdown",
      "metadata": {
        "id": "-mEDc0ou3LDF"
      },
      "source": [
        "## Intermediate exercises"
      ]
    },
    {
      "cell_type": "code",
      "execution_count": 20,
      "metadata": {
        "colab": {
          "base_uri": "https://localhost:8080/"
        },
        "id": "lB2VZmKu3LDF",
        "outputId": "22415041-1394-4222-d751-3c861e3326ca"
      },
      "outputs": [
        {
          "output_type": "stream",
          "name": "stdout",
          "text": [
            "Kent\n",
            "Sussex\n",
            "Surrey\n",
            "Hampshire\n",
            "Berkshire\n",
            "Wiltshire\n",
            "Dorset\n",
            "Somerset\n",
            "Devon\n",
            "Cornwall\n",
            "Middlesex\n",
            "Hertfordshire\n",
            "Buckinghamshire\n",
            "Gloucestershire\n",
            "Oxfordshire\n",
            "Worcestershire\n",
            "Herefordshire\n",
            "Cambridgeshire\n",
            "Huntingdonshire\n",
            "Bedfordshire\n",
            "Northamptonshire\n",
            "Leicestershire\n",
            "Warwickshire\n",
            "Staffordshire\n",
            "Shropshire\n",
            "Cheshire\n",
            "Derbyshire\n",
            "Nottinghamshire\n",
            "Rutland\n",
            "Yorkshire\n",
            "Lincolnshire\n",
            "Claims: YB\n",
            "Claims: YC\n",
            "Claims: LC\n",
            "Claims: HC\n",
            "Claims: YS\n",
            "Essex\n",
            "Norfolk\n",
            "Suffolk\n",
            "Lancashire\n"
          ]
        }
      ],
      "source": [
        "# OpenDomesday\n",
        "# https://opendomesday.org/api/\n",
        "\n",
        "# Exercise 1\n",
        "# Write a script that displays all the counties\n",
        "# using the OpenDomesday API.\n",
        "\n",
        "#######################################################\n",
        "################## YOUR ANSWER HERE ##################\n",
        "#######################################################\n",
        "def get_counties():\n",
        "    # URL de l'API pour récupérer la liste des comtés\n",
        "    url = \"https://opendomesday.org/api/1.0/county/\"\n",
        "\n",
        "    # Exécute une requête GET à l'URL\n",
        "    response = requests.get(url)\n",
        "\n",
        "    # Vérifie si la requête a réussi\n",
        "    if response.status_code == 200:\n",
        "        # Convertit la réponse en JSON\n",
        "        counties_data = response.json()\n",
        "\n",
        "        # Affiche les comtés\n",
        "        for county in counties_data:\n",
        "            print(county['name'])\n",
        "    else:\n",
        "        print(\"Erreur lors de la récupération des données des comtés.\")\n",
        "\n",
        "# Appelle la fonction\n",
        "get_counties()"
      ]
    },
    {
      "cell_type": "code",
      "execution_count": 35,
      "metadata": {
        "colab": {
          "base_uri": "https://localhost:8080/"
        },
        "id": "Gm2hB9sp3LDF",
        "outputId": "cf532e4b-6d74-4ba8-c126-c770326c5ed5"
      },
      "outputs": [
        {
          "output_type": "stream",
          "name": "stdout",
          "text": [
            "Information for Derbyshire: {'id': 'dby', 'name': 'Derbyshire', 'name_slug': 'derbyshire', 'places_in_county': [{'id': 1036}, {'id': 2558}, {'id': 3016}, {'id': 4791}, {'id': 6093}, {'id': 8701}, {'id': 8951}, {'id': 9101}, {'id': 11441}, {'id': 10771}, {'id': 16116}, {'id': 20861}, {'id': 22251}, {'id': 22571}, {'id': 22611}, {'id': 24741}, {'id': 25536}, {'id': 19061}, {'id': 30246}, {'id': 31896}, {'id': 32521}, {'id': 32981}, {'id': 33916}, {'id': 41346}, {'id': 41788}, {'id': 41801}, {'id': 45821}, {'id': 47401}, {'id': 47411}, {'id': 52361}, {'id': 52596}, {'id': 53901}, {'id': 54446}, {'id': 54646}, {'id': 55736}, {'id': 56786}, {'id': 57061}, {'id': 60236}, {'id': 60351}, {'id': 60816}, {'id': 63606}, {'id': 65368}, {'id': 73221}, {'id': 73731}, {'id': 73741}, {'id': 91}, {'id': 2623}, {'id': 3011}, {'id': 3941}, {'id': 4046}, {'id': 5016}, {'id': 5676}, {'id': 7111}, {'id': 7116}, {'id': 7451}, {'id': 9056}, {'id': 10981}, {'id': 11656}, {'id': 11941}, {'id': 12751}, {'id': 13401}, {'id': 14081}, {'id': 14306}, {'id': 15306}, {'id': 15451}, {'id': 17386}, {'id': 17811}, {'id': 19611}, {'id': 22436}, {'id': 22476}, {'id': 24011}, {'id': 24306}, {'id': 25081}, {'id': 27521}, {'id': 33816}, {'id': 40056}, {'id': 28311}, {'id': 29846}, {'id': 30061}, {'id': 30211}, {'id': 30536}, {'id': 30571}, {'id': 20391}, {'id': 32571}, {'id': 33016}, {'id': 36211}, {'id': 37586}, {'id': 40057}, {'id': 39661}, {'id': 39956}, {'id': 40466}, {'id': 42799}, {'id': 43751}, {'id': 44321}, {'id': 28296}, {'id': 34241}, {'id': 46861}, {'id': 26971}, {'id': 2366}, {'id': 48026}, {'id': 49236}, {'id': 50311}, {'id': 52766}, {'id': 52791}, {'id': 55006}, {'id': 55131}, {'id': 58231}, {'id': 59051}, {'id': 42936}, {'id': 61396}, {'id': 62566}, {'id': 63721}, {'id': 67724}, {'id': 69701}, {'id': 72781}, {'id': 73841}, {'id': 14941}, {'id': 20691}, {'id': 39371}, {'id': 42171}, {'id': 54526}, {'id': 46681}, {'id': 51241}, {'id': 64663}, {'id': 70526}, {'id': 1326}, {'id': 2401}, {'id': 3291}, {'id': 4001}, {'id': 8116}, {'id': 8831}, {'id': 9461}, {'id': 10196}, {'id': 12706}, {'id': 13281}, {'id': 22243}, {'id': 18184}, {'id': 18736}, {'id': 23231}, {'id': 6141}, {'id': 29236}, {'id': 29861}, {'id': 32336}, {'id': 33086}, {'id': 34446}, {'id': 35221}, {'id': 35041}, {'id': 37056}, {'id': 38231}, {'id': 40456}, {'id': 41344}, {'id': 42041}, {'id': 42046}, {'id': 42797}, {'id': 45553}, {'id': 46851}, {'id': 48266}, {'id': 49221}, {'id': 55881}, {'id': 56826}, {'id': 56941}, {'id': 61526}, {'id': 62731}, {'id': 63966}, {'id': 66911}, {'id': 68251}, {'id': 68481}, {'id': 68546}, {'id': 71226}, {'id': 71466}, {'id': 1136}, {'id': 1456}, {'id': 1596}, {'id': 2106}, {'id': 3163}, {'id': 4646}, {'id': 5396}, {'id': 8456}, {'id': 11731}, {'id': 14476}, {'id': 18001}, {'id': 19416}, {'id': 22741}, {'id': 23256}, {'id': 23731}, {'id': 24921}, {'id': 35046}, {'id': 35311}, {'id': 37656}, {'id': 39466}, {'id': 39566}, {'id': 40901}, {'id': 41658}, {'id': 42536}, {'id': 42741}, {'id': 44361}, {'id': 45893}, {'id': 47416}, {'id': 49901}, {'id': 50661}, {'id': 50806}, {'id': 54966}, {'id': 56216}, {'id': 58701}, {'id': 61046}, {'id': 63391}, {'id': 65696}, {'id': 69008}, {'id': 69081}, {'id': 70641}, {'id': 8956}, {'id': 9586}, {'id': 9611}, {'id': 13741}, {'id': 13806}, {'id': 16581}, {'id': 18621}, {'id': 19941}, {'id': 20101}, {'id': 21051}, {'id': 21326}, {'id': 28556}, {'id': 30666}, {'id': 31306}, {'id': 32361}, {'id': 33141}, {'id': 33376}, {'id': 34646}, {'id': 35946}, {'id': 37591}, {'id': 14686}, {'id': 22266}, {'id': 28563}, {'id': 22271}, {'id': 41006}, {'id': 41521}, {'id': 43091}, {'id': 43991}, {'id': 46746}, {'id': 48806}, {'id': 51961}, {'id': 52096}, {'id': 53806}, {'id': 53996}, {'id': 55576}, {'id': 55956}, {'id': 56606}, {'id': 56696}, {'id': 57526}, {'id': 58046}, {'id': 58196}, {'id': 66498}, {'id': 16166}, {'id': 18951}, {'id': 22546}, {'id': 58356}, {'id': 71196}, {'id': 986}, {'id': 2711}, {'id': 4311}, {'id': 4369}, {'id': 5791}, {'id': 7651}, {'id': 8016}, {'id': 8721}, {'id': 9218}, {'id': 10026}, {'id': 12721}, {'id': 14691}, {'id': 16356}, {'id': 3106}, {'id': 20756}, {'id': 21276}, {'id': 21301}, {'id': 22406}, {'id': 22766}, {'id': 23121}, {'id': 23598}, {'id': 26856}, {'id': 4367}, {'id': 27776}, {'id': 29076}, {'id': 29411}, {'id': 32576}, {'id': 32686}, {'id': 35996}, {'id': 40296}, {'id': 29071}, {'id': 44051}, {'id': 44161}, {'id': 49241}, {'id': 45036}, {'id': 45366}, {'id': 71096}, {'id': 46101}, {'id': 46946}, {'id': 9288}, {'id': 65551}, {'id': 69858}, {'id': 47811}, {'id': 48031}, {'id': 48116}, {'id': 51193}, {'id': 52801}, {'id': 54166}, {'id': 55731}, {'id': 45936}, {'id': 71101}, {'id': 57756}, {'id': 58531}, {'id': 33646}, {'id': 60001}, {'id': 60836}, {'id': 61561}, {'id': 45941}, {'id': 63656}, {'id': 64516}, {'id': 65483}, {'id': 65938}, {'id': 66136}, {'id': 66256}, {'id': 66576}, {'id': 67036}, {'id': 68591}, {'id': 69901}, {'id': 70561}, {'id': 71081}, {'id': 52156}, {'id': 1906}, {'id': 8081}, {'id': 9741}, {'id': 12676}, {'id': 13531}, {'id': 17906}, {'id': 21011}, {'id': 25441}, {'id': 29931}, {'id': 30696}, {'id': 34821}, {'id': 40511}, {'id': 42251}, {'id': 43196}, {'id': 45656}, {'id': 51576}, {'id': 52566}, {'id': 56681}, {'id': 58171}, {'id': 58191}, {'id': 60031}, {'id': 60896}, {'id': 63696}, {'id': 67171}]}\n"
          ]
        }
      ],
      "source": [
        "# Exercise 2\n",
        "# Write a script that displays the information\n",
        "# of the county \"Derbyshire\".\n",
        "\n",
        "#######################################################\n",
        "################## YOUR ANSWER HERE ##################\n",
        "#######################################################\n",
        "\n",
        "def get_county_info(county_name):\n",
        "    url = \"https://opendomesday.org/api/1.0/county/\"\n",
        "\n",
        "    response = requests.get(url)\n",
        "\n",
        "    if response.status_code == 200:\n",
        "        counties_data = response.json()\n",
        "\n",
        "        county_info = next((county for county in counties_data if county['name'].lower() == county_name.lower()), None)\n",
        "\n",
        "        if county_info:\n",
        "            print(f\"Information for {county_name}: {county_info}\")\n",
        "        else:\n",
        "            print(f\"County named {county_name} not found.\")\n",
        "    else:\n",
        "        print(\"Error fetching counties data.\")\n",
        "\n",
        "county_name = \"Derbyshire\"\n",
        "get_county_info(county_name)\n"
      ]
    },
    {
      "cell_type": "code",
      "execution_count": 37,
      "metadata": {
        "colab": {
          "base_uri": "https://localhost:8080/"
        },
        "id": "pT2NibiS3LDF",
        "outputId": "a6b40086-2adb-49e1-9179-5cc488ac4605"
      },
      "outputs": [
        {
          "output_type": "stream",
          "name": "stdout",
          "text": [
            "Loaded data from local file.\n"
          ]
        }
      ],
      "source": [
        "# Exercise 3\n",
        "# Now that we have the ids for all the places in Derbyshire, we can load all their details...\n",
        "# And from their details, we can list all the details of their manors.\n",
        "# Go fetch the data!\n",
        "# P.S.: remember to save the data to avoid downloading it every time\n",
        "\n",
        "#######################################################\n",
        "################## YOUR ANSWER HERE ##################\n",
        "#######################################################\n",
        "import json\n",
        "import os\n",
        "\n",
        "data_filename = 'derbyshire_manors.json'\n",
        "\n",
        "# Check if the data file already exists to avoid downloading it again\n",
        "if os.path.exists(data_filename):\n",
        "    with open(data_filename, 'r') as file:\n",
        "        derbyshire_manors = json.load(file)\n",
        "    print(\"Loaded data from local file.\")\n",
        "else:\n",
        "    derbyshire_manors = []\n",
        "\n",
        "    # Assuming you have already fetched the county data and have the places' IDs for Derbyshire\n",
        "    # This should be replaced with the actual data fetching if not done yet\n",
        "    derbyshire_place_ids = [{'id': 1036}, {'id': 2558}, {'id': 3016}, {'id': 4791}, {'id': 6093}, {'id': 8701}, {'id': 8951}, {'id': 9101}, {'id': 11441}, {'id': 10771}, {'id': 16116}, {'id': 20861}, {'id': 22251}, {'id': 22571}, {'id': 22611}, {'id': 24741}, {'id': 25536}, {'id': 19061}, {'id': 30246}, {'id': 31896}, {'id': 32521}, {'id': 32981}, {'id': 33916}, {'id': 41346}, {'id': 41788}, {'id': 41801}, {'id': 45821}, {'id': 47401}, {'id': 47411}, {'id': 52361}, {'id': 52596}, {'id': 53901}, {'id': 54446}, {'id': 54646}, {'id': 55736}, {'id': 56786}, {'id': 57061}, {'id': 60236}, {'id': 60351}, {'id': 60816}, {'id': 63606}, {'id': 65368}, {'id': 73221}, {'id': 73731}, {'id': 73741}, {'id': 91}, {'id': 2623}, {'id': 3011}, {'id': 3941}, {'id': 4046}, {'id': 5016}, {'id': 5676}, {'id': 7111}, {'id': 7116}, {'id': 7451}, {'id': 9056}, {'id': 10981}, {'id': 11656}, {'id': 11941}, {'id': 12751}, {'id': 13401}, {'id': 14081}, {'id': 14306}, {'id': 15306}, {'id': 15451}, {'id': 17386}, {'id': 17811}, {'id': 19611}, {'id': 22436}, {'id': 22476}, {'id': 24011}, {'id': 24306}, {'id': 25081}, {'id': 27521}, {'id': 33816}, {'id': 40056}, {'id': 28311}, {'id': 29846}, {'id': 30061}, {'id': 30211}, {'id': 30536}, {'id': 30571}, {'id': 20391}, {'id': 32571}, {'id': 33016}, {'id': 36211}, {'id': 37586}, {'id': 40057}, {'id': 39661}, {'id': 39956}, {'id': 40466}, {'id': 42799}, {'id': 43751}, {'id': 44321}, {'id': 28296}, {'id': 34241}, {'id': 46861}, {'id': 26971}, {'id': 2366}, {'id': 48026}, {'id': 49236}, {'id': 50311}, {'id': 52766}, {'id': 52791}, {'id': 55006}, {'id': 55131}, {'id': 58231}, {'id': 59051}, {'id': 42936}, {'id': 61396}, {'id': 62566}, {'id': 63721}, {'id': 67724}, {'id': 69701}, {'id': 72781}, {'id': 73841}, {'id': 14941}, {'id': 20691}, {'id': 39371}, {'id': 42171}, {'id': 54526}, {'id': 46681}, {'id': 51241}, {'id': 64663}, {'id': 70526}, {'id': 1326}, {'id': 2401}, {'id': 3291}, {'id': 4001}, {'id': 8116}, {'id': 8831}, {'id': 9461}, {'id': 10196}, {'id': 12706}, {'id': 13281}, {'id': 22243}, {'id': 18184}, {'id': 18736}, {'id': 23231}, {'id': 6141}, {'id': 29236}, {'id': 29861}, {'id': 32336}, {'id': 33086}, {'id': 34446}, {'id': 35221}, {'id': 35041}, {'id': 37056}, {'id': 38231}, {'id': 40456}, {'id': 41344}, {'id': 42041}, {'id': 42046}, {'id': 42797}, {'id': 45553}, {'id': 46851}, {'id': 48266}, {'id': 49221}, {'id': 55881}, {'id': 56826}, {'id': 56941}, {'id': 61526}, {'id': 62731}, {'id': 63966}, {'id': 66911}, {'id': 68251}, {'id': 68481}, {'id': 68546}, {'id': 71226}, {'id': 71466}, {'id': 1136}, {'id': 1456}, {'id': 1596}, {'id': 2106}, {'id': 3163}, {'id': 4646}, {'id': 5396}, {'id': 8456}, {'id': 11731}, {'id': 14476}, {'id': 18001}, {'id': 19416}, {'id': 22741}, {'id': 23256}, {'id': 23731}, {'id': 24921}, {'id': 35046}, {'id': 35311}, {'id': 37656}, {'id': 39466}, {'id': 39566}, {'id': 40901}, {'id': 41658}, {'id': 42536}, {'id': 42741}, {'id': 44361}, {'id': 45893}, {'id': 47416}, {'id': 49901}, {'id': 50661}, {'id': 50806}, {'id': 54966}, {'id': 56216}, {'id': 58701}, {'id': 61046}, {'id': 63391}, {'id': 65696}, {'id': 69008}, {'id': 69081}, {'id': 70641}, {'id': 8956}, {'id': 9586}, {'id': 9611}, {'id': 13741}, {'id': 13806}, {'id': 16581}, {'id': 18621}, {'id': 19941}, {'id': 20101}, {'id': 21051}, {'id': 21326}, {'id': 28556}, {'id': 30666}, {'id': 31306}, {'id': 32361}, {'id': 33141}, {'id': 33376}, {'id': 34646}, {'id': 35946}, {'id': 37591}, {'id': 14686}, {'id': 22266}, {'id': 28563}, {'id': 22271}, {'id': 41006}, {'id': 41521}, {'id': 43091}, {'id': 43991}, {'id': 46746}, {'id': 48806}, {'id': 51961}, {'id': 52096}, {'id': 53806}, {'id': 53996}, {'id': 55576}, {'id': 55956}, {'id': 56606}, {'id': 56696}, {'id': 57526}, {'id': 58046}, {'id': 58196}, {'id': 66498}, {'id': 16166}, {'id': 18951}, {'id': 22546}, {'id': 58356}, {'id': 71196}, {'id': 986}, {'id': 2711}, {'id': 4311}, {'id': 4369}, {'id': 5791}, {'id': 7651}, {'id': 8016}, {'id': 8721}, {'id': 9218}, {'id': 10026}, {'id': 12721}, {'id': 14691}, {'id': 16356}, {'id': 3106}, {'id': 20756}, {'id': 21276}, {'id': 21301}, {'id': 22406}, {'id': 22766}, {'id': 23121}, {'id': 23598}, {'id': 26856}, {'id': 4367}, {'id': 27776}, {'id': 29076}, {'id': 29411}, {'id': 32576}, {'id': 32686}, {'id': 35996}, {'id': 40296}, {'id': 29071}, {'id': 44051}, {'id': 44161}, {'id': 49241}, {'id': 45036}, {'id': 45366}, {'id': 71096}, {'id': 46101}, {'id': 46946}, {'id': 9288}, {'id': 65551}, {'id': 69858}, {'id': 47811}, {'id': 48031}, {'id': 48116}, {'id': 51193}, {'id': 52801}, {'id': 54166}, {'id': 55731}, {'id': 45936}, {'id': 71101}, {'id': 57756}, {'id': 58531}, {'id': 33646}, {'id': 60001}, {'id': 60836}, {'id': 61561}, {'id': 45941}, {'id': 63656}, {'id': 64516}, {'id': 65483}, {'id': 65938}, {'id': 66136}, {'id': 66256}, {'id': 66576}, {'id': 67036}, {'id': 68591}, {'id': 69901}, {'id': 70561}, {'id': 71081}, {'id': 52156}, {'id': 1906}, {'id': 8081}, {'id': 9741}, {'id': 12676}, {'id': 13531}, {'id': 17906}, {'id': 21011}, {'id': 25441}, {'id': 29931}, {'id': 30696}, {'id': 34821}, {'id': 40511}, {'id': 42251}, {'id': 43196}, {'id': 45656}, {'id': 51576}, {'id': 52566}, {'id': 56681}, {'id': 58171}, {'id': 58191}, {'id': 60031}, {'id': 60896}, {'id': 63696}, {'id': 67171}]\n",
        "    base_url = 'https://opendomesday.org/api/1.0/place/'\n",
        "\n",
        "    for place_id in derbyshire_place_ids:\n",
        "        # Fetch the details for each place\n",
        "        response = requests.get(f\"{base_url}{place_id}/\")\n",
        "        if response.status_code == 200:\n",
        "            place_details = response.json()\n",
        "            # Extract the manor details and add them to the list\n",
        "            # Assuming the API structure, you might need to adapt the following line\n",
        "            derbyshire_manors.append(place_details.get('manor_details', {}))\n",
        "\n",
        "    # Save the collected data to a file\n",
        "    with open(data_filename, 'w') as file:\n",
        "        json.dump(derbyshire_manors, file)\n",
        "    print(\"Data fetched and saved locally.\")\n",
        "\n"
      ]
    },
    {
      "cell_type": "code",
      "execution_count": null,
      "metadata": {
        "id": "0FYynwlb3LDF"
      },
      "outputs": [],
      "source": [
        "# Exercise 4\n",
        "# Now that we have a quantity of raw data, we will extract the interesting parts.\n",
        "# In our case, we want to count the money paid by each manor and compare it to the number of ploughs it has.\n",
        "# - Can you find the corresponding json fields?\n",
        "# - Then, you can list these numbers for each manor in Derbyshire.\n",
        "# - And format this in an appropriate comma-separated values (CSV) file.\n",
        "\n",
        "#######################################################\n",
        "################## YOUR ANSWER HERE ##################\n",
        "#######################################################\n",
        "\n"
      ]
    },
    {
      "cell_type": "code",
      "execution_count": null,
      "metadata": {
        "id": "xAUGV8pC3LDG"
      },
      "outputs": [],
      "source": [
        "# Exercise 5\n",
        "# What is the richest manor in Derbyshire?\n",
        "\n",
        "#######################################################\n",
        "################## YOUR ANSWER HERE ##################\n",
        "#######################################################\n"
      ]
    },
    {
      "cell_type": "code",
      "execution_count": null,
      "metadata": {
        "id": "yrC9-zcJ3LDG"
      },
      "outputs": [],
      "source": [
        "# Exercise 6\n",
        "# Give the total value paid by Derbyshire.\n",
        "\n",
        "#######################################################\n",
        "################## YOUR ANSWER HERE ##################\n",
        "#######################################################\n"
      ]
    },
    {
      "cell_type": "code",
      "execution_count": null,
      "metadata": {
        "id": "O0XzYJqO3LDG"
      },
      "outputs": [],
      "source": [
        "# Exercise 7\n",
        "# Create a Python class.\n",
        "# It must include all the previous functionalities.\n",
        "# Refactor your code to make it readable, efficient, and maintainable.\n",
        "\n",
        "#######################################################\n",
        "################## YOUR ANSWER HERE ##################\n",
        "#######################################################\n"
      ]
    },
    {
      "cell_type": "code",
      "execution_count": null,
      "metadata": {
        "id": "0kDHifjW3LDG"
      },
      "outputs": [],
      "source": [
        "# Exercise 8 (optional)\n",
        "# Add to your class a system for error handling.\n",
        "# It must manage the following errors:\n",
        "# - Connection error\n",
        "# - Parsing error\n",
        "# - Request error\n",
        "# - Response error\n",
        "# - Parameter error\n",
        "\n",
        "#######################################################\n",
        "################## YOUR ANSWER HERE ##################\n",
        "#######################################################\n",
        "\n"
      ]
    }
  ],
  "metadata": {
    "kernelspec": {
      "display_name": "api",
      "language": "python",
      "name": "python3"
    },
    "language_info": {
      "codemirror_mode": {
        "name": "ipython",
        "version": 3
      },
      "file_extension": ".py",
      "mimetype": "text/x-python",
      "name": "python",
      "nbconvert_exporter": "python",
      "pygments_lexer": "ipython3",
      "version": "3.11.6"
    },
    "colab": {
      "provenance": []
    }
  },
  "nbformat": 4,
  "nbformat_minor": 0
}
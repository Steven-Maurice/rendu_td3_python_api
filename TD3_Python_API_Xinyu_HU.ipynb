{
  "cells": [
    {
      "cell_type": "markdown",
      "metadata": {
        "id": "zxzI4IjY8QRP"
      },
      "source": [
        "# Python with APIs\n",
        "Exchanges via HTTP using `requests` package"
      ]
    },
    {
      "cell_type": "code",
      "execution_count": 1,
      "metadata": {
        "id": "l1mvopjf8QRX"
      },
      "outputs": [],
      "source": [
        "import requests"
      ]
    },
    {
      "cell_type": "markdown",
      "metadata": {
        "id": "vuVBI0os8QRY"
      },
      "source": [
        "## Example"
      ]
    },
    {
      "cell_type": "markdown",
      "metadata": {
        "id": "qoYTPcaT8QRZ"
      },
      "source": [
        "### Agify API"
      ]
    },
    {
      "cell_type": "markdown",
      "metadata": {
        "id": "gxiY0DSe8QRZ"
      },
      "source": [
        "Example route for Agify API"
      ]
    },
    {
      "cell_type": "code",
      "execution_count": 2,
      "metadata": {
        "id": "clelTxt28QRb"
      },
      "outputs": [],
      "source": [
        "agify_dan = \"https://api.agify.io/?name=dan\""
      ]
    },
    {
      "cell_type": "markdown",
      "metadata": {
        "id": "CRUG8yDp8QRe"
      },
      "source": [
        "Extract response"
      ]
    },
    {
      "cell_type": "code",
      "execution_count": 3,
      "metadata": {
        "colab": {
          "base_uri": "https://localhost:8080/"
        },
        "id": "fQMNDPXl8QRf",
        "outputId": "dbc54a00-183c-482a-c9be-17918ad3406f"
      },
      "outputs": [
        {
          "output_type": "stream",
          "name": "stdout",
          "text": [
            "Answer status_code: <Response [200]>\n",
            "<class 'str'>\n",
            "<class 'dict'>\n",
            "{\"count\":67782,\"name\":\"dan\",\"age\":66}\n",
            "{'count': 67782, 'name': 'dan', 'age': 66}\n"
          ]
        }
      ],
      "source": [
        "# Run a GET request\n",
        "agify_answer = requests.get(agify_dan)\n",
        "agify_answer_txt = agify_answer.text\n",
        "agify_answer_json = agify_answer.json()\n",
        "\n",
        "print(f\"Answer status_code: {agify_answer}\")\n",
        "\n",
        "print(type(agify_answer_txt))\n",
        "print(type(agify_answer_json))\n",
        "\n",
        "print(agify_answer_txt)\n",
        "print(agify_answer_json)"
      ]
    },
    {
      "cell_type": "markdown",
      "metadata": {
        "id": "EebktZ678QRg"
      },
      "source": [
        "## Introductory Exercises"
      ]
    },
    {
      "cell_type": "code",
      "execution_count": 4,
      "metadata": {
        "colab": {
          "base_uri": "https://localhost:8080/"
        },
        "id": "osUsjs-68QRh",
        "outputId": "27102230-b632-42c3-8645-3f84d06e7b2c"
      },
      "outputs": [
        {
          "output_type": "stream",
          "name": "stdout",
          "text": [
            "Enter your first name: xin yu\n",
            "Hello xin yu, you are 48 years old!\n"
          ]
        }
      ],
      "source": [
        "# Exercise 1\n",
        "# Write a script that asks the user for their first name\n",
        "# and responds with a personalized message\n",
        "# using the agify API\n",
        "\n",
        "# https://api.agify.io/?name=YOUR_NAME\n",
        "# Example response: {\"name\":\"YOUR_NAME\",\"age\":30,\"count\":12345}\n",
        "\n",
        "#######################################################\n",
        "################## YOUR ANSWER HERE ##################\n",
        "#######################################################\n",
        "name = input(\"Enter your first name: \")\n",
        "\n",
        "# Send a GET request to the Agify API\n",
        "url = f\"https://api.agify.io/?name={name}\"\n",
        "response = requests.get(url)\n",
        "\n",
        "# Check if the request was successful\n",
        "if response.status_code == 200:\n",
        "    # Parse the response JSON\n",
        "    data = response.json()\n",
        "    # Extract the age from the response\n",
        "    age = data['age']\n",
        "\n",
        "    # Print the personalized message\n",
        "    print(f\"Hello {name}, you are {age} years old!\")\n",
        "else:\n",
        "    print(\"Error occurred while fetching data from Agify API.\")\n"
      ]
    },
    {
      "cell_type": "code",
      "execution_count": 5,
      "metadata": {
        "colab": {
          "base_uri": "https://localhost:8080/"
        },
        "id": "OBHwqrQM8QRi",
        "outputId": "f3d6a612-405f-43bd-beed-81edd802d728"
      },
      "outputs": [
        {
          "output_type": "stream",
          "name": "stdout",
          "text": [
            "Enter your first name: xinyu\n",
            "Hello Ms. xinyu!\n"
          ]
        }
      ],
      "source": [
        "# Exercise 2\n",
        "# Write a script that asks the user for their first name\n",
        "# and responds with a personalized message\n",
        "# using the genderize API\n",
        "# https://api.genderize.io/?name=YOUR_NAME\n",
        "\n",
        "#######################################################\n",
        "################## YOUR ANSWER HERE ##################\n",
        "#######################################################\n",
        "# Ask the user for their first name\n",
        "name = input(\"Enter your first name: \")\n",
        "\n",
        "# Send a GET request to the genderize API\n",
        "url = f\"https://api.genderize.io/?name={name}\"\n",
        "response = requests.get(url)\n",
        "\n",
        "# Check if the request was successful\n",
        "if response.status_code == 200:\n",
        "    # Parse the response JSON\n",
        "    data = response.json()\n",
        "    # Extract the gender from the response\n",
        "    gender = data['gender']\n",
        "\n",
        "    # Print the personalized message\n",
        "    if gender == 'male':\n",
        "        print(f\"Hello Mr. {name}!\")\n",
        "    elif gender == 'female':\n",
        "        print(f\"Hello Ms. {name}!\")\n",
        "    else:\n",
        "        print(f\"Hello {name}!\")\n",
        "else:\n",
        "    print(\"Error occurred while fetching data from the genderize API.\")\n",
        "\n"
      ]
    },
    {
      "cell_type": "code",
      "execution_count": 6,
      "metadata": {
        "colab": {
          "base_uri": "https://localhost:8080/"
        },
        "id": "lsByLfPo8QRi",
        "outputId": "36a2a9d6-bed3-4a5a-bcfd-5e262b948cb7"
      },
      "outputs": [
        {
          "output_type": "stream",
          "name": "stdout",
          "text": [
            "Enter your first name: lucie\n",
            "Hello lucie, it is most probable that you are from IT with a probability of 0.42050974904845473.\n"
          ]
        }
      ],
      "source": [
        "# Exercise 3\n",
        "# Write a script that asks the user for their first name\n",
        "# and responds with a personalized message\n",
        "# using the nationalize API\n",
        "# https://api.nationalize.io/?name=YOUR_NAME\n",
        "\n",
        "#######################################################\n",
        "################## YOUR ANSWER HERE ##################\n",
        "#######################################################\n",
        "name = input(\"Enter your first name: \")\n",
        "\n",
        "# Send a GET request to the nationalize API\n",
        "url = f\"https://api.nationalize.io/?name={name}\"\n",
        "response = requests.get(url)\n",
        "\n",
        "# Check if the request was successful\n",
        "if response.status_code == 200:\n",
        "    # Parse the response JSON\n",
        "    data = response.json()\n",
        "    # Extract the most probable country and its probability\n",
        "    country = data['country'][0]['country_id']\n",
        "    probability = data['country'][0]['probability']\n",
        "\n",
        "    # Print the personalized message\n",
        "    print(f\"Hello {name}, it is most probable that you are from {country} with a probability of {probability}.\")\n",
        "else:\n",
        "    print(\"Error occurred while fetching data from the nationalize API.\")"
      ]
    },
    {
      "cell_type": "code",
      "execution_count": 11,
      "metadata": {
        "colab": {
          "base_uri": "https://localhost:8080/"
        },
        "id": "m-0V7qcn8QRi",
        "outputId": "89874309-586e-41e9-d7dc-5db877941217"
      },
      "outputs": [
        {
          "output_type": "stream",
          "name": "stdout",
          "text": [
            "Please enter your first name: lucy\n",
            "The most probable country of origin for the name lucy is CN with a probability of 0.34383636563593123.\n"
          ]
        }
      ],
      "source": [
        "# Exercise 3.1\n",
        "# Parsing the response from the nationalize API\n",
        "# Get the most probable country and its percentage\n",
        "# Example response: {\"name\":\"YOUR_NAME\",\"country\":[{\"country_id\":\"FR\",\"probability\":0.75},{\"country_id\":\"BE\",\"probability\":0.25}]}\n",
        "# Hint: use the max() function with a lambda function\n",
        "# https://docs.python.org/3/library/functions.html#max\n",
        "# https://docs.python.org/3/tutorial/controlflow.html#lambda-expressions\n",
        "\n",
        "#######################################################\n",
        "################## YOUR ANSWER HERE ##################\n",
        "#######################################################\n",
        "# Prompt the user to input their first name\n",
        "user_name = input(\"Please enter your first name: \")\n",
        "\n",
        "# Build the request URL and make the API call\n",
        "url = f\"https://api.nationalize.io/?name={user_name}\"\n",
        "response = requests.get(url)\n",
        "\n",
        "# Check if the request was successful\n",
        "if response.status_code == 200:\n",
        "    data = response.json()\n",
        "    if 'country' in data and data['country']:\n",
        "        # Find the most probable country and its probability\n",
        "        most_probable_country = max(data['country'], key=lambda x: x['probability'])\n",
        "        country_id = most_probable_country['country_id']\n",
        "        probability = most_probable_country['probability']\n",
        "        # Print out the result\n",
        "        print(f\"The most probable country of origin for the name {user_name} is {country_id} with a probability of {probability}.\")\n",
        "    else:\n",
        "        print(\"No country data found for the given name.\")\n",
        "else:\n",
        "    print(\"Sorry, we couldn't process your request.\")\n",
        "\n"
      ]
    },
    {
      "cell_type": "code",
      "execution_count": 12,
      "metadata": {
        "colab": {
          "base_uri": "https://localhost:8080/"
        },
        "id": "38gP5lar8QRj",
        "outputId": "05b116c5-11b7-45dd-db04-781867b2fd64"
      },
      "outputs": [
        {
          "output_type": "stream",
          "name": "stdout",
          "text": [
            "Random Activity: Learn about the Golden Ratio\n"
          ]
        }
      ],
      "source": [
        "# Exercise 4\n",
        "# Use BoredAPI : https://www.boredapi.com/\n",
        "# Documentation : https://www.boredapi.com/documentation\n",
        "# 1. Write a script that generates random activities\n",
        "# 2. Write a script that generates random activities\n",
        "# 3. Write a script that generates random activities for 4 participants\n",
        "# 4. Write a script that generates random activities for 4 participants and of type \"recreational\"\n",
        "# 5. Write a script that generates random activities for 2 participants and that does not require equipment\n",
        "\n",
        "#######################################################\n",
        "################## YOUR ANSWER HERE ##################\n",
        "#######################################################\n",
        "response = requests.get('https://www.boredapi.com/api/activity')\n",
        "# Check if the request was successful\n",
        "if response.status_code == 200:\n",
        "    # Parse the response JSON\n",
        "    data = response.json()\n",
        "    # Extract the activity from the response\n",
        "    activity = data['activity']\n",
        "\n",
        "    # Print the random activity\n",
        "    print(f\"Random Activity: {activity}\")\n",
        "else:\n",
        "    print(\"Error occurred while fetching data from the BoredAPI.\")\n"
      ]
    },
    {
      "cell_type": "code",
      "source": [
        "# Make a GET request to the BoredAPI with participants=4\n",
        "response = requests.get('https://www.boredapi.com/api/activity', params={'participants': 4})\n",
        "\n",
        "# Check if the request was successful\n",
        "if response.status_code == 200:\n",
        "    # Parse the response JSON\n",
        "    data = response.json()\n",
        "    # Extract the activity from the response\n",
        "    activity = data['activity']\n",
        "\n",
        "    # Print the random activity for 4 participants\n",
        "    print(f\"Random Activity for 4 participants: {activity}\")\n",
        "else:\n",
        "    print(\"Error occurred while fetching data from the BoredAPI.\")"
      ],
      "metadata": {
        "colab": {
          "base_uri": "https://localhost:8080/"
        },
        "id": "_THWcLpsAwzE",
        "outputId": "faed2ea3-2d3b-4b7c-d8a6-2feb9366cc84"
      },
      "execution_count": 13,
      "outputs": [
        {
          "output_type": "stream",
          "name": "stdout",
          "text": [
            "Random Activity for 4 participants: Take a spontaneous road trip with some friends\n"
          ]
        }
      ]
    },
    {
      "cell_type": "code",
      "source": [
        "# Make a GET request to the BoredAPI with participants=4 and type=recreational\n",
        "response = requests.get('https://www.boredapi.com/api/activity', params={'participants': 4, 'type': 'recreational'})\n",
        "\n",
        "# Check if the request was successful\n",
        "if response.status_code == 200:\n",
        "    # Parse the response JSON\n",
        "    data = response.json()\n",
        "    # Extract the activity from the response\n",
        "    activity = data['activity']\n",
        "\n",
        "    # Print the random activity for 4 participants of type \"recreational\"\n",
        "    print(f\"Random Activity for 4 participants (recreational): {activity}\")\n",
        "else:\n",
        "    print(\"Error occurred while fetching data from the BoredAPI.\")"
      ],
      "metadata": {
        "colab": {
          "base_uri": "https://localhost:8080/"
        },
        "id": "LlM5IuTWBKWq",
        "outputId": "c8bff7a4-e462-4e88-fc38-21393e3a3678"
      },
      "execution_count": 14,
      "outputs": [
        {
          "output_type": "stream",
          "name": "stdout",
          "text": [
            "Random Activity for 4 participants (recreational): Go see a Broadway production\n"
          ]
        }
      ]
    },
    {
      "cell_type": "code",
      "source": [
        "# Make a GET request to the BoredAPI with participants=2 and participants_exclude=relaxation\n",
        "response = requests.get('https://www.boredapi.com/api/activity', params={'participants': 2, 'participants_exclude': 'relaxation'})\n",
        "\n",
        "# Check if the request was successful\n",
        "if response.status_code == 200:\n",
        "    # Parse the response JSON\n",
        "    data = response.json()\n",
        "    # Extract the activity from the response\n",
        "    activity = data['activity']\n",
        "\n",
        "    # Print the random activity for 2 participants that does not require equipment\n",
        "    print(f\"Random Activity for 2 participants (no equipment): {activity}\")\n",
        "else:\n",
        "    print(\"Error occurred while fetching data from the BoredAPI.\")"
      ],
      "metadata": {
        "colab": {
          "base_uri": "https://localhost:8080/"
        },
        "id": "q1yzyugPBSpm",
        "outputId": "93118e15-0c2a-47cd-e999-7864bd588032"
      },
      "execution_count": 24,
      "outputs": [
        {
          "output_type": "stream",
          "name": "stdout",
          "text": [
            "Random Activity for 2 participants (no equipment): Catch up with a friend over a lunch date\n"
          ]
        }
      ]
    },
    {
      "cell_type": "markdown",
      "metadata": {
        "id": "uw83Vf5h8QRk"
      },
      "source": [
        "## Intermediate exercises"
      ]
    },
    {
      "cell_type": "code",
      "execution_count": 29,
      "metadata": {
        "colab": {
          "base_uri": "https://localhost:8080/"
        },
        "id": "Sq-E_Ng78QRk",
        "outputId": "6a4035da-3441-48fd-d94a-eff8361a2384"
      },
      "outputs": [
        {
          "output_type": "stream",
          "name": "stdout",
          "text": [
            "Kent\n",
            "Sussex\n",
            "Surrey\n",
            "Hampshire\n",
            "Berkshire\n",
            "Wiltshire\n",
            "Dorset\n",
            "Somerset\n",
            "Devon\n",
            "Cornwall\n",
            "Middlesex\n",
            "Hertfordshire\n",
            "Buckinghamshire\n",
            "Gloucestershire\n",
            "Oxfordshire\n",
            "Worcestershire\n",
            "Herefordshire\n",
            "Cambridgeshire\n",
            "Huntingdonshire\n",
            "Bedfordshire\n",
            "Northamptonshire\n",
            "Leicestershire\n",
            "Warwickshire\n",
            "Staffordshire\n",
            "Shropshire\n",
            "Cheshire\n",
            "Derbyshire\n",
            "Nottinghamshire\n",
            "Rutland\n",
            "Yorkshire\n",
            "Lincolnshire\n",
            "Claims: YB\n",
            "Claims: YC\n",
            "Claims: LC\n",
            "Claims: HC\n",
            "Claims: YS\n",
            "Essex\n",
            "Norfolk\n",
            "Suffolk\n",
            "Lancashire\n"
          ]
        }
      ],
      "source": [
        "# OpenDomesday\n",
        "# https://opendomesday.org/api/\n",
        "\n",
        "# Exercise 1\n",
        "# Write a script that displays all the counties\n",
        "# using the OpenDomesday API.\n",
        "# Make a GET request to the OpenDomesday API endpoint for counties\n",
        "\n",
        "# The OpenDomesday API endpoint for counties\n",
        "url = 'https://opendomesday.org/api/1.0/county/'\n",
        "\n",
        "# Make a GET request to the OpenDomesday API endpoint for counties\n",
        "response = requests.get(url)\n",
        "\n",
        "# Check if the request was successful\n",
        "if response.status_code == 200:\n",
        "    # Parse the response JSON\n",
        "    data = response.json()\n",
        "\n",
        "    for county in data:\n",
        "      print(county['name'])\n",
        "\n",
        "else:\n",
        "    print(\"Error occurred while fetching data from the OpenDomesday API.\")\n",
        "\n",
        "#######################################################\n",
        "################## YOUR ANSWER HERE ##################\n",
        "#######################################################\n"
      ]
    },
    {
      "cell_type": "code",
      "execution_count": 34,
      "metadata": {
        "colab": {
          "base_uri": "https://localhost:8080/"
        },
        "id": "XjrlA11p8QRk",
        "outputId": "9c34b8f2-903b-43d6-9a62-77e2a75cdfcf"
      },
      "outputs": [
        {
          "output_type": "stream",
          "name": "stdout",
          "text": [
            "Information for Derbyshire:\n",
            "Id: dby\n",
            "Name: Derbyshire\n",
            "Name_slug: derbyshire\n",
            "Places_in_county: [{'id': 1036}, {'id': 2558}, {'id': 3016}, {'id': 4791}, {'id': 6093}, {'id': 8701}, {'id': 8951}, {'id': 9101}, {'id': 11441}, {'id': 10771}, {'id': 16116}, {'id': 20861}, {'id': 22251}, {'id': 22571}, {'id': 22611}, {'id': 24741}, {'id': 25536}, {'id': 19061}, {'id': 30246}, {'id': 31896}, {'id': 32521}, {'id': 32981}, {'id': 33916}, {'id': 41346}, {'id': 41788}, {'id': 41801}, {'id': 45821}, {'id': 47401}, {'id': 47411}, {'id': 52361}, {'id': 52596}, {'id': 53901}, {'id': 54446}, {'id': 54646}, {'id': 55736}, {'id': 56786}, {'id': 57061}, {'id': 60236}, {'id': 60351}, {'id': 60816}, {'id': 63606}, {'id': 65368}, {'id': 73221}, {'id': 73731}, {'id': 73741}, {'id': 91}, {'id': 2623}, {'id': 3011}, {'id': 3941}, {'id': 4046}, {'id': 5016}, {'id': 5676}, {'id': 7111}, {'id': 7116}, {'id': 7451}, {'id': 9056}, {'id': 10981}, {'id': 11656}, {'id': 11941}, {'id': 12751}, {'id': 13401}, {'id': 14081}, {'id': 14306}, {'id': 15306}, {'id': 15451}, {'id': 17386}, {'id': 17811}, {'id': 19611}, {'id': 22436}, {'id': 22476}, {'id': 24011}, {'id': 24306}, {'id': 25081}, {'id': 27521}, {'id': 33816}, {'id': 40056}, {'id': 28311}, {'id': 29846}, {'id': 30061}, {'id': 30211}, {'id': 30536}, {'id': 30571}, {'id': 20391}, {'id': 32571}, {'id': 33016}, {'id': 36211}, {'id': 37586}, {'id': 40057}, {'id': 39661}, {'id': 39956}, {'id': 40466}, {'id': 42799}, {'id': 43751}, {'id': 44321}, {'id': 28296}, {'id': 34241}, {'id': 46861}, {'id': 26971}, {'id': 2366}, {'id': 48026}, {'id': 49236}, {'id': 50311}, {'id': 52766}, {'id': 52791}, {'id': 55006}, {'id': 55131}, {'id': 58231}, {'id': 59051}, {'id': 42936}, {'id': 61396}, {'id': 62566}, {'id': 63721}, {'id': 67724}, {'id': 69701}, {'id': 72781}, {'id': 73841}, {'id': 14941}, {'id': 20691}, {'id': 39371}, {'id': 42171}, {'id': 54526}, {'id': 46681}, {'id': 51241}, {'id': 64663}, {'id': 70526}, {'id': 1326}, {'id': 2401}, {'id': 3291}, {'id': 4001}, {'id': 8116}, {'id': 8831}, {'id': 9461}, {'id': 10196}, {'id': 12706}, {'id': 13281}, {'id': 22243}, {'id': 18184}, {'id': 18736}, {'id': 23231}, {'id': 6141}, {'id': 29236}, {'id': 29861}, {'id': 32336}, {'id': 33086}, {'id': 34446}, {'id': 35221}, {'id': 35041}, {'id': 37056}, {'id': 38231}, {'id': 40456}, {'id': 41344}, {'id': 42041}, {'id': 42046}, {'id': 42797}, {'id': 45553}, {'id': 46851}, {'id': 48266}, {'id': 49221}, {'id': 55881}, {'id': 56826}, {'id': 56941}, {'id': 61526}, {'id': 62731}, {'id': 63966}, {'id': 66911}, {'id': 68251}, {'id': 68481}, {'id': 68546}, {'id': 71226}, {'id': 71466}, {'id': 1136}, {'id': 1456}, {'id': 1596}, {'id': 2106}, {'id': 3163}, {'id': 4646}, {'id': 5396}, {'id': 8456}, {'id': 11731}, {'id': 14476}, {'id': 18001}, {'id': 19416}, {'id': 22741}, {'id': 23256}, {'id': 23731}, {'id': 24921}, {'id': 35046}, {'id': 35311}, {'id': 37656}, {'id': 39466}, {'id': 39566}, {'id': 40901}, {'id': 41658}, {'id': 42536}, {'id': 42741}, {'id': 44361}, {'id': 45893}, {'id': 47416}, {'id': 49901}, {'id': 50661}, {'id': 50806}, {'id': 54966}, {'id': 56216}, {'id': 58701}, {'id': 61046}, {'id': 63391}, {'id': 65696}, {'id': 69008}, {'id': 69081}, {'id': 70641}, {'id': 8956}, {'id': 9586}, {'id': 9611}, {'id': 13741}, {'id': 13806}, {'id': 16581}, {'id': 18621}, {'id': 19941}, {'id': 20101}, {'id': 21051}, {'id': 21326}, {'id': 28556}, {'id': 30666}, {'id': 31306}, {'id': 32361}, {'id': 33141}, {'id': 33376}, {'id': 34646}, {'id': 35946}, {'id': 37591}, {'id': 14686}, {'id': 22266}, {'id': 28563}, {'id': 22271}, {'id': 41006}, {'id': 41521}, {'id': 43091}, {'id': 43991}, {'id': 46746}, {'id': 48806}, {'id': 51961}, {'id': 52096}, {'id': 53806}, {'id': 53996}, {'id': 55576}, {'id': 55956}, {'id': 56606}, {'id': 56696}, {'id': 57526}, {'id': 58046}, {'id': 58196}, {'id': 66498}, {'id': 16166}, {'id': 18951}, {'id': 22546}, {'id': 58356}, {'id': 71196}, {'id': 986}, {'id': 2711}, {'id': 4311}, {'id': 4369}, {'id': 5791}, {'id': 7651}, {'id': 8016}, {'id': 8721}, {'id': 9218}, {'id': 10026}, {'id': 12721}, {'id': 14691}, {'id': 16356}, {'id': 3106}, {'id': 20756}, {'id': 21276}, {'id': 21301}, {'id': 22406}, {'id': 22766}, {'id': 23121}, {'id': 23598}, {'id': 26856}, {'id': 4367}, {'id': 27776}, {'id': 29076}, {'id': 29411}, {'id': 32576}, {'id': 32686}, {'id': 35996}, {'id': 40296}, {'id': 29071}, {'id': 44051}, {'id': 44161}, {'id': 49241}, {'id': 45036}, {'id': 45366}, {'id': 71096}, {'id': 46101}, {'id': 46946}, {'id': 9288}, {'id': 65551}, {'id': 69858}, {'id': 47811}, {'id': 48031}, {'id': 48116}, {'id': 51193}, {'id': 52801}, {'id': 54166}, {'id': 55731}, {'id': 45936}, {'id': 71101}, {'id': 57756}, {'id': 58531}, {'id': 33646}, {'id': 60001}, {'id': 60836}, {'id': 61561}, {'id': 45941}, {'id': 63656}, {'id': 64516}, {'id': 65483}, {'id': 65938}, {'id': 66136}, {'id': 66256}, {'id': 66576}, {'id': 67036}, {'id': 68591}, {'id': 69901}, {'id': 70561}, {'id': 71081}, {'id': 52156}, {'id': 1906}, {'id': 8081}, {'id': 9741}, {'id': 12676}, {'id': 13531}, {'id': 17906}, {'id': 21011}, {'id': 25441}, {'id': 29931}, {'id': 30696}, {'id': 34821}, {'id': 40511}, {'id': 42251}, {'id': 43196}, {'id': 45656}, {'id': 51576}, {'id': 52566}, {'id': 56681}, {'id': 58171}, {'id': 58191}, {'id': 60031}, {'id': 60896}, {'id': 63696}, {'id': 67171}]\n"
          ]
        }
      ],
      "source": [
        "# Exercise 2\n",
        "# Write a script that displays the information\n",
        "# of the county \"Derbyshire\".\n",
        "# Make a GET request to the OpenDomesday API endpoint for counties\n",
        "response = requests.get('https://opendomesday.org/api/1.0/county/')\n",
        "\n",
        "# Check if the request was successful\n",
        "if response.status_code == 200:\n",
        "    # Parse the response JSON\n",
        "    data = response.json()\n",
        "    # Find the county with the name \"Derbyshire\"\n",
        "    derbyshire = next((county for county in data if county['name'] == 'Derbyshire'), None)\n",
        "\n",
        "    if derbyshire:\n",
        "        print(f\"Information for {derbyshire['name']}:\")\n",
        "        for key, value in derbyshire.items():\n",
        "            print(f\"{key.capitalize()}: {value}\")\n",
        "    else:\n",
        "        print(\"County 'Derbyshire' not found.\")\n",
        "else:\n",
        "    print(\"Error occurred while fetching data from the OpenDomesday API.\")\n",
        "\n",
        "#######################################################\n",
        "################## YOUR ANSWER HERE ##################\n",
        "#######################################################\n"
      ]
    },
    {
      "cell_type": "code",
      "source": [
        "\n",
        "import os\n",
        "import json\n",
        "\n",
        "# Exercise 3\n",
        "# Now that we have the ids for all the places in Derbyshire, we can load all their details...\n",
        "# And from their details, we can list all the details of their manors.\n",
        "# Go fetch the data!\n",
        "# P.S.: remember to save the data to avoid downloading it every time\n",
        "# Define a filename to store the data\n",
        "\n",
        "data_filename = 'derbyshire_manors.json'\n",
        "\n",
        "# Check if the data file already exists to avoid downloading it again\n",
        "#if os.path.exists(data_filename):\n",
        "    #with open(data_filename, 'r') as file:\n",
        "        #derbyshire_manors = json.load(file)\n",
        "    #print(\"Loaded data from local file.\")\n",
        "#else\n",
        "response = requests.get('https://opendomesday.org/api/1.0/county/')\n",
        "if response.status_code == 200:\n",
        "    # Parse the response JSON\n",
        "    data = response.json()\n",
        "    # Find the county with the name \"Derbyshire\"\n",
        "    derbyshire = next((county for county in data if county['name'] == 'Derbyshire'), None)\n",
        "\n",
        "derbyshire_manors = []\n",
        "if derbyshire:\n",
        "    # Assuming you have already fetched the county data and have the places' IDs for Derbyshire\n",
        "    # This should be replaced with the actual data fetching if not done yet\n",
        "      derbyshire_place_ids = derbyshire.get('id', [])  # Populate this list with the place IDs\n",
        "\n",
        "    # Base URL for fetching place details\n",
        "      base_url = 'https://opendomesday.org/api/1.0/county/'\n",
        "      for place_id in derbyshire_place_ids:\n",
        "        # Fetch the details for each place\n",
        "        response = requests.get(f\"{base_url}{place_id}/\")\n",
        "        if response.status_code == 200:\n",
        "            place_details = response.json()\n",
        "            # Extract the manor details and add them to the list\n",
        "            # Assuming the API structure, you might need to adapt the following line\n",
        "            derbyshire_manors.append(place_details.get('manor_details', {}))\n",
        "        # Save the collected data to a file\n",
        "        with open(data_filename, 'w') as file:\n",
        "          json.dump(derbyshire_manors, file)\n",
        "        print(\"Data fetched and saved locally.\")\n",
        "\n",
        "# Now derbyshire_manors contains all the details, and you can process them further as needed\n"
      ],
      "metadata": {
        "colab": {
          "base_uri": "https://localhost:8080/"
        },
        "id": "e1BorzFpRAVN",
        "outputId": "eb1fdbb1-f382-4acd-dba3-f4843cbaa3ed"
      },
      "execution_count": 55,
      "outputs": [
        {
          "output_type": "stream",
          "name": "stdout",
          "text": [
            "Data fetched and saved locally.\n",
            "Data fetched and saved locally.\n",
            "Data fetched and saved locally.\n"
          ]
        }
      ]
    },
    {
      "cell_type": "code",
      "source": [
        "data_filename = 'derbyshire_place2.json'\n",
        "\n",
        "    # Initialize an empty list to store place details\n",
        "derbyshire_places = []\n",
        "\n",
        "    # Fetch county data to get the county ID for Derbyshire\n",
        "response = requests.get('https://opendomesday.org/api/1.0/county/')\n",
        "if response.status_code == 200:\n",
        "  data = response.json()\n",
        "        # Extract the Derbyshire county ID assuming the first entry is for Derbyshire\n",
        "  derbyshire_id = next((county['id'] for county in data if county['id'] == 'dby'), None)\n",
        "\n",
        "if derbyshire_id:\n",
        "            # Assuming the API provides an endpoint that lists places by county ID\n",
        "            # Fetching places details using the Derbyshire county ID\n",
        "  response = requests.get(f'https://opendomesday.org/api/1.0/place/{derbyshire_id}/')\n",
        "  if response.status_code == 200:\n",
        "    places_data = response.json()\n",
        "\n",
        "    for place in places_data:\n",
        "                    # Storing each place's details\n",
        "      derbyshire_places.append(place)\n",
        "\n",
        "            # Save the collected data to avoid refetching\n",
        "    with open(data_filename, 'w') as file:\n",
        "                json.dump(derbyshire_places, file)\n",
        "    print(\"Data fetched for Derbyshire places and saved locally.\")\n",
        "  else:\n",
        "            print(\"Derbyshire county ID not found.\")\n",
        "else:\n",
        "    print(\"Error occurred while fetching data from the OpenDomesday API.\")\n",
        "\n",
        "# At this point, derbyshire_places contains all the fetched place details\n"
      ],
      "metadata": {
        "colab": {
          "base_uri": "https://localhost:8080/"
        },
        "id": "VUxxdBteaTAd",
        "outputId": "654a0bfd-de2a-4c6c-df44-1302fe1d8e69"
      },
      "execution_count": 61,
      "outputs": [
        {
          "output_type": "stream",
          "name": "stdout",
          "text": [
            "Derbyshire county ID not found.\n"
          ]
        }
      ]
    },
    {
      "cell_type": "code",
      "execution_count": 47,
      "metadata": {
        "colab": {
          "base_uri": "https://localhost:8080/"
        },
        "id": "M9eS-qom8QRl",
        "outputId": "5876be4d-579b-4cae-e3be-a1128400db05"
      },
      "outputs": [
        {
          "output_type": "stream",
          "name": "stdout",
          "text": [
            "Loaded data from local file.\n"
          ]
        }
      ],
      "source": [
        "# Exercise 4\n",
        "# Now that we have a quantity of raw data, we will extract the interesting parts.\n",
        "# In our case, we want to count the money paid by each manor and compare it to the number of ploughs it has.\n",
        "# - Can you find the corresponding json fields?\n",
        "# - Then, you can list these numbers for each manor in Derbyshire.\n",
        "# - And format this in an appropriate comma-separated values (CSV) file.\n",
        "\n",
        "import csv\n",
        "\n",
        "# Placeholder: A list of dictionaries representing each manor's data in Derbyshire\n",
        "# Replace this with the loading of your actual data file\n",
        "derbyshire_places = [\n",
        "    {\"name\": \"Manor A\", \"money_paid\": \"100\", \"ploughs\": \"5\"},\n",
        "    {\"name\": \"Manor B\", \"money_paid\": \"150\", \"ploughs\": \"7\"},\n",
        "    # Add more manor entries...\n",
        "]\n",
        "\n",
        "# Define a filename for the CSV output\n",
        "csv_filename = 'derbyshire_manors.csv'\n",
        "\n",
        "# Define the CSV headers\n",
        "headers = ['Manor Name', 'Money Paid', 'Ploughs']\n",
        "\n",
        "# Writing the data into the CSV file\n",
        "with open(csv_filename, 'w', newline='') as csvfile:\n",
        "    writer = csv.writer(csvfile)\n",
        "    writer.writerow(headers)\n",
        "\n",
        "    # Iterate over each manor and write the relevant data\n",
        "    for manor in derbyshire_places:\n",
        "        writer.writerow([manor['name'], manor['money_paid'], manor['ploughs']])\n",
        "\n",
        "print(f\"Data has been written to {csv_filename}.\")\n",
        "\n",
        "\n",
        "#######################################################\n",
        "################## YOUR ANSWER HERE ##################\n",
        "#######################################################\n",
        "\n"
      ]
    },
    {
      "cell_type": "code",
      "execution_count": null,
      "metadata": {
        "id": "cyA4aDPv8QRq"
      },
      "outputs": [],
      "source": [
        "# Exercise 5\n",
        "# What is the richest manor in Derbyshire?\n",
        "\n",
        "#######################################################\n",
        "################## YOUR ANSWER HERE ##################\n",
        "#######################################################\n"
      ]
    },
    {
      "cell_type": "code",
      "execution_count": null,
      "metadata": {
        "id": "jBd7c8Op8QRq"
      },
      "outputs": [],
      "source": [
        "# Exercise 6\n",
        "# Give the total value paid by Derbyshire.\n",
        "\n",
        "#######################################################\n",
        "################## YOUR ANSWER HERE ##################\n",
        "#######################################################\n"
      ]
    },
    {
      "cell_type": "code",
      "execution_count": null,
      "metadata": {
        "id": "rCle1LiB8QRr"
      },
      "outputs": [],
      "source": [
        "# Exercise 7\n",
        "# Create a Python class.\n",
        "# It must include all the previous functionalities.\n",
        "# Refactor your code to make it readable, efficient, and maintainable.\n",
        "\n",
        "#######################################################\n",
        "################## YOUR ANSWER HERE ##################\n",
        "#######################################################\n"
      ]
    },
    {
      "cell_type": "code",
      "execution_count": null,
      "metadata": {
        "id": "MSK00L-B8QRr"
      },
      "outputs": [],
      "source": [
        "# Exercise 8 (optional)\n",
        "# Add to your class a system for error handling.\n",
        "# It must manage the following errors:\n",
        "# - Connection error\n",
        "# - Parsing error\n",
        "# - Request error\n",
        "# - Response error\n",
        "# - Parameter error\n",
        "\n",
        "#######################################################\n",
        "################## YOUR ANSWER HERE ##################\n",
        "#######################################################\n",
        "\n"
      ]
    }
  ],
  "metadata": {
    "kernelspec": {
      "display_name": "api",
      "language": "python",
      "name": "python3"
    },
    "language_info": {
      "codemirror_mode": {
        "name": "ipython",
        "version": 3
      },
      "file_extension": ".py",
      "mimetype": "text/x-python",
      "name": "python",
      "nbconvert_exporter": "python",
      "pygments_lexer": "ipython3",
      "version": "3.11.6"
    },
    "colab": {
      "provenance": []
    }
  },
  "nbformat": 4,
  "nbformat_minor": 0
}
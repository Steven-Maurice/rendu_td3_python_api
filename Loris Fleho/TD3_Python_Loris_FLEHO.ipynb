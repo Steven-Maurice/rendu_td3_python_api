{
  "nbformat": 4,
  "nbformat_minor": 0,
  "metadata": {
    "colab": {
      "provenance": []
    },
    "kernelspec": {
      "name": "python3",
      "display_name": "Python 3"
    },
    "language_info": {
      "name": "python"
    }
  },
  "cells": [
    {
      "cell_type": "markdown",
      "source": [
        "## TD3 : Advanced Python / Git For Bloomberg\n",
        "\n",
        "### Introductory Exercises\n"
      ],
      "metadata": {
        "id": "Ej2AbA53HjIf"
      }
    },
    {
      "cell_type": "markdown",
      "source": [
        "### Exercice 1"
      ],
      "metadata": {
        "id": "NnGLnlh9KOBW"
      }
    },
    {
      "cell_type": "code",
      "execution_count": 1,
      "metadata": {
        "colab": {
          "base_uri": "https://localhost:8080/"
        },
        "id": "BfuP1odBHgUD",
        "outputId": "b44bfab5-605e-4653-8b98-0e1bd601815f"
      },
      "outputs": [
        {
          "output_type": "stream",
          "name": "stdout",
          "text": [
            "Quel est votre prénom ? Loris\n",
            "Bonjour Loris, vous avez environ 53 ans.\n",
            "Votre prénom a été rencontré 7638 fois dans la base de données.\n"
          ]
        }
      ],
      "source": [
        "import requests\n",
        "\n",
        "# Demande à l'utilisateur son prénom\n",
        "user_name = input(\"Quel est votre prénom ? \")\n",
        "\n",
        "# Construit l'URL de l'API Agify avec le prénom de l'utilisateur\n",
        "agify_url = f\"https://api.agify.io/?name={user_name}\"\n",
        "\n",
        "# Effectue une requête GET vers l'API Agify\n",
        "response = requests.get(agify_url)\n",
        "\n",
        "# Analyse la réponse JSON\n",
        "data = response.json()\n",
        "\n",
        "# Extrait l'âge et le count de l'utilisateur à partir des données JSON\n",
        "user_age = data[\"age\"]\n",
        "user_count = data[\"count\"]\n",
        "\n",
        "# Affiche un message personnalisé avec le prénom, l'âge et le count de l'utilisateur\n",
        "print(f\"Bonjour {user_name}, vous avez environ {user_age} ans.\")\n",
        "print(f\"Votre prénom a été rencontré {user_count} fois dans la base de données.\")\n"
      ]
    },
    {
      "cell_type": "markdown",
      "source": [
        "### Exercice 2"
      ],
      "metadata": {
        "id": "mT9HJQGiKJft"
      }
    },
    {
      "cell_type": "code",
      "source": [
        "import requests\n",
        "\n",
        "# Demande à l'utilisateur son prénom\n",
        "user_name = input(\"Quel est votre prénom ? \")\n",
        "\n",
        "# Construit l'URL de l'API Genderize avec le prénom de l'utilisateur\n",
        "genderize_url = f\"https://api.genderize.io/?name={user_name}\"\n",
        "\n",
        "# Effectue une requête GET vers l'API Genderize\n",
        "response = requests.get(genderize_url)\n",
        "\n",
        "# Analyse la réponse JSON\n",
        "data = response.json()\n",
        "\n",
        "# Extrait le genre prédit à partir des données JSON\n",
        "user_gender = data[\"gender\"]\n",
        "\n",
        "# Affiche un message personnalisé en fonction du genre prédit\n",
        "if user_gender == \"male\":\n",
        "    print(f\"Bonjour Monsieur {user_name} !\")\n",
        "elif user_gender == \"female\":\n",
        "    print(f\"Bonjour Madame {user_name} !\")\n",
        "else:\n",
        "    print(f\"Bonjour {user_name} !\")\n",
        "    print(\"Le genre n'a pas pu être déterminé avec certitude.\")\n"
      ],
      "metadata": {
        "colab": {
          "base_uri": "https://localhost:8080/"
        },
        "id": "cxegSG3hKMBU",
        "outputId": "a899dfa0-0a3c-4e1e-8832-d32f4a6ae15c"
      },
      "execution_count": 5,
      "outputs": [
        {
          "output_type": "stream",
          "name": "stdout",
          "text": [
            "Quel est votre prénom ? Camille\n",
            "Bonjour Madame Camille !\n"
          ]
        }
      ]
    },
    {
      "cell_type": "markdown",
      "source": [
        "### Exercice 3"
      ],
      "metadata": {
        "id": "Ck5rmfQHLYNM"
      }
    },
    {
      "cell_type": "code",
      "source": [
        "import requests\n",
        "\n",
        "# Demande à l'utilisateur son prénom\n",
        "user_name = input(\"Quel est votre prénom ? \")\n",
        "\n",
        "# Construit l'URL de l'API Nationalize avec le prénom de l'utilisateur\n",
        "nationalize_url = f\"https://api.nationalize.io/?name={user_name}\"\n",
        "\n",
        "# Effectue une requête GET vers l'API Nationalize\n",
        "response = requests.get(nationalize_url)\n",
        "\n",
        "# Analyse la réponse JSON\n",
        "data = response.json()\n",
        "\n",
        "# Extrait les données relatives à la nationalité prédite à partir des données JSON\n",
        "country_data = data[\"country\"]\n",
        "\n",
        "# Affiche un message personnalisé en utilisant les données relatives à la nationalité prédite\n",
        "if country_data:\n",
        "    country_name = country_data[0][\"country_id\"]\n",
        "    probability = country_data[0][\"probability\"]\n",
        "    print(f\"Bonjour {user_name} ! Selon nos estimations, vous avez une probabilité de {probability}% d'être de nationalité {country_name}.\")\n",
        "else:\n",
        "    print(f\"Bonjour {user_name} ! Désolé, nous n'avons pas pu déterminer votre nationalité avec certitude.\")\n"
      ],
      "metadata": {
        "colab": {
          "base_uri": "https://localhost:8080/"
        },
        "id": "rg6MBRdcLfxH",
        "outputId": "fc4a8288-02b1-4191-d321-b0d704c41eaa"
      },
      "execution_count": 6,
      "outputs": [
        {
          "output_type": "stream",
          "name": "stdout",
          "text": [
            "Quel est votre prénom ? Loris\n",
            "Bonjour Loris ! Selon nos estimations, vous avez une probabilité de 0.15489465050136306% d'être de nationalité IT.\n"
          ]
        }
      ]
    },
    {
      "cell_type": "markdown",
      "source": [
        "### Exercice 3.1"
      ],
      "metadata": {
        "id": "lrWEPHPsMMsD"
      }
    },
    {
      "cell_type": "code",
      "source": [
        "import requests\n",
        "\n",
        "# Demande à l'utilisateur son prénom\n",
        "user_name = input(\"Quel est votre prénom ? \")\n",
        "\n",
        "# Construit l'URL de l'API Nationalize avec le prénom de l'utilisateur\n",
        "nationalize_url = f\"https://api.nationalize.io/?name={user_name}\"\n",
        "\n",
        "# Effectue une requête GET vers l'API Nationalize\n",
        "response = requests.get(nationalize_url)\n",
        "\n",
        "# Analyse la réponse JSON\n",
        "data = response.json()\n",
        "\n",
        "# Extrait les données relatives à la nationalité prédite à partir des données JSON\n",
        "country_data = data[\"country\"]\n",
        "\n",
        "# Utilise la fonction max() avec une fonction lambda pour obtenir le pays le plus probable et sa probabilité associée\n",
        "most_probable_country = max(country_data, key=lambda x: x[\"probability\"])\n",
        "country_id = most_probable_country[\"country_id\"]\n",
        "probability = most_probable_country[\"probability\"]\n",
        "\n",
        "# Affiche un message personnalisé avec le pays le plus probable et sa probabilité associée\n",
        "print(f\"Bonjour {user_name} ! Selon nos estimations, vous avez une probabilité de {probability}% d'être de nationalité {country_id}.\")\n"
      ],
      "metadata": {
        "colab": {
          "base_uri": "https://localhost:8080/"
        },
        "id": "2yxJrQ9oMRrW",
        "outputId": "c2a868d7-4ee0-46d8-9059-f44757c28023"
      },
      "execution_count": 7,
      "outputs": [
        {
          "output_type": "stream",
          "name": "stdout",
          "text": [
            "Quel est votre prénom ? Loris\n",
            "Bonjour Loris ! Selon nos estimations, vous avez une probabilité de 0.15489465050136306% d'être de nationalité IT.\n"
          ]
        }
      ]
    },
    {
      "cell_type": "markdown",
      "source": [
        "Dans l'exercice 3, nous avons parcouru la liste des pays prédits et avons simplement sélectionné le premier pays avec la probabilité la plus élevée. Si plusieurs pays ont la même probabilité (la plus élevée), nous choisissons le premier de ces pays.\n",
        "\n",
        "Dans l'exercice 3.1, nous avons utilisé la fonction max() avec une fonction lambda pour déterminer le pays ayant la probabilité la plus élevée."
      ],
      "metadata": {
        "id": "iItT1HXdNE49"
      }
    },
    {
      "cell_type": "markdown",
      "source": [
        "### Exercice 4"
      ],
      "metadata": {
        "id": "ovmaL9nHNXsk"
      }
    },
    {
      "cell_type": "code",
      "source": [
        "# 4.1\n",
        "\n",
        "import requests\n",
        "\n",
        "# Effectuer une requête GET vers l'API BoredAPI pour obtenir une activité aléatoire\n",
        "response = requests.get(\"https://www.boredapi.com/api/activity\")\n",
        "\n",
        "# Analyser la réponse JSON\n",
        "data = response.json()\n",
        "\n",
        "# Afficher l'activité aléatoire\n",
        "print(\"Activité aléatoire:\", data[\"activity\"])\n"
      ],
      "metadata": {
        "colab": {
          "base_uri": "https://localhost:8080/"
        },
        "id": "OZdAcNo2NZhV",
        "outputId": "bfd256a1-39a3-48e5-f879-10ba12bd852b"
      },
      "execution_count": 8,
      "outputs": [
        {
          "output_type": "stream",
          "name": "stdout",
          "text": [
            "Activité aléatoire: Go to a concert with some friends\n"
          ]
        }
      ]
    },
    {
      "cell_type": "code",
      "source": [
        "# 4.3\n",
        "\n",
        "import requests\n",
        "\n",
        "# Effectuer une requête GET vers l'API BoredAPI pour obtenir une activité aléatoire pour 4 participants\n",
        "response = requests.get(\"https://www.boredapi.com/api/activity?participants=4\")\n",
        "\n",
        "# Analyser la réponse JSON\n",
        "data = response.json()\n",
        "\n",
        "# Afficher l'activité aléatoire\n",
        "print(\"Activité aléatoire pour 4 participants:\", data[\"activity\"])\n"
      ],
      "metadata": {
        "colab": {
          "base_uri": "https://localhost:8080/"
        },
        "id": "Hipj-cGFOrGN",
        "outputId": "3fc1b583-9c53-4cd3-9d55-38abacfe9d30"
      },
      "execution_count": 9,
      "outputs": [
        {
          "output_type": "stream",
          "name": "stdout",
          "text": [
            "Activité aléatoire pour 4 participants: Go to a concert with some friends\n"
          ]
        }
      ]
    },
    {
      "cell_type": "code",
      "source": [
        "# 4.4\n",
        "\n",
        "import requests\n",
        "\n",
        "# Effectuer une requête GET vers l'API BoredAPI pour obtenir une activité aléatoire pour 4 participants et de type \"recreational\"\n",
        "response = requests.get(\"https://www.boredapi.com/api/activity?type=recreational&participants=4\")\n",
        "\n",
        "# Analyser la réponse JSON\n",
        "data = response.json()\n",
        "\n",
        "# Afficher l'activité aléatoire\n",
        "print(\"Activité aléatoire de type récréative pour 4 participants:\", data[\"activity\"])\n"
      ],
      "metadata": {
        "colab": {
          "base_uri": "https://localhost:8080/"
        },
        "id": "v-iWaFuMO4j7",
        "outputId": "6517901c-c622-41a4-d098-e762342ed3e8"
      },
      "execution_count": 10,
      "outputs": [
        {
          "output_type": "stream",
          "name": "stdout",
          "text": [
            "Activité aléatoire de type récréative pour 4 participants: Go see a Broadway production\n"
          ]
        }
      ]
    },
    {
      "cell_type": "code",
      "source": [
        "# 4.5\n",
        "\n",
        "import requests\n",
        "\n",
        "# Effectuer une requête GET vers l'API BoredAPI pour obtenir une activité aléatoire pour 2 participants qui ne nécessite pas d'équipement\n",
        "response = requests.get(\"https://www.boredapi.com/api/activity?participants=2&?equipment=no\")\n",
        "\n",
        "# Analyser la réponse JSON\n",
        "data = response.json()\n",
        "\n",
        "# Afficher l'activité aléatoire\n",
        "print(\"Activité aléatoire pour 2 participants qui ne nécessite pas d'équipement:\", data[\"activity\"])\n"
      ],
      "metadata": {
        "colab": {
          "base_uri": "https://localhost:8080/"
        },
        "id": "25kN4d_eO92I",
        "outputId": "a183cea7-223d-4136-995a-9bfb15b34f05"
      },
      "execution_count": 11,
      "outputs": [
        {
          "output_type": "stream",
          "name": "stdout",
          "text": [
            "Activité aléatoire pour 2 participants qui ne nécessite pas d'équipement: Cook something together with someone\n"
          ]
        }
      ]
    },
    {
      "cell_type": "markdown",
      "source": [
        "### Intermediate exercises\n",
        "\n",
        "### Exercice 1"
      ],
      "metadata": {
        "id": "nsRGLw32PIYO"
      }
    },
    {
      "cell_type": "code",
      "source": [
        "import requests\n",
        "\n",
        "# Effectuer une requête GET vers l'API OpenDomesday pour obtenir les données générales\n",
        "response = requests.get(\"https://opendomesday.org/api/\")\n",
        "\n",
        "# Vérifier si la requête a réussi (code de statut 200)\n",
        "if response.status_code == 200:\n",
        "    try:\n",
        "        # Analyser la réponse JSON pour obtenir les endpoints disponibles\n",
        "        data = response.json()\n",
        "\n",
        "        # Vérifier si l'endpoint pour les comtés est disponible\n",
        "        if 'counties' in data['_links']:\n",
        "            counties_url = data['_links']['counties']['href']\n",
        "\n",
        "            # Effectuer une requête GET vers l'endpoint des comtés\n",
        "            counties_response = requests.get(counties_url)\n",
        "\n",
        "            # Vérifier si la requête a réussi (code de statut 200)\n",
        "            if counties_response.status_code == 200:\n",
        "                try:\n",
        "                    # Analyser la réponse JSON pour obtenir les comtés\n",
        "                    counties_data = counties_response.json()\n",
        "\n",
        "                    # Afficher les comtés\n",
        "                    print(\"Liste des comtés :\")\n",
        "                    for county in counties_data['_items']:\n",
        "                        print(county['name'])\n",
        "                except ValueError:\n",
        "                    print(\"Erreur: La réponse de l'endpoint des comtés n'est pas au format JSON valide.\")\n",
        "            else:\n",
        "                print(\"Erreur lors de la récupération des données des comtés. Statut de la réponse :\", counties_response.status_code)\n",
        "        else:\n",
        "            print(\"L'endpoint pour les comtés n'est pas disponible.\")\n",
        "    except ValueError:\n",
        "        print(\"Erreur: La réponse des données générales de l'API n'est pas au format JSON valide.\")\n",
        "else:\n",
        "    print(\"Erreur lors de la récupération des données générales de l'API. Statut de la réponse :\", response.status_code)\n"
      ],
      "metadata": {
        "colab": {
          "base_uri": "https://localhost:8080/"
        },
        "id": "GU_EKJ0YPaTs",
        "outputId": "b5372fc8-beb4-472f-cc2d-90d7c974dce0"
      },
      "execution_count": 14,
      "outputs": [
        {
          "output_type": "stream",
          "name": "stdout",
          "text": [
            "Erreur: La réponse des données générales de l'API n'est pas au format JSON valide.\n"
          ]
        }
      ]
    },
    {
      "cell_type": "code",
      "source": [
        "import requests\n",
        "\n",
        "# Effectuer une requête GET vers l'API OpenDomesday pour obtenir les données des comtés\n",
        "response = requests.get(\"https://opendomesday.org/api/1.0/county\")\n",
        "\n",
        "# Vérifier si la requête a réussi (code de statut 200)\n",
        "if response.status_code == 200:\n",
        "    try:\n",
        "        # Analyser la réponse JSON pour obtenir les données des comtés\n",
        "        counties_data = response.json()\n",
        "\n",
        "        # Afficher les comtés\n",
        "        print(\"Liste des comtés :\")\n",
        "        for county in counties_data:\n",
        "            print(county['name'])\n",
        "    except ValueError:\n",
        "        # Afficher le contenu de la réponse\n",
        "        print(\"Contenu de la réponse (non-JSON) :\", response.text)\n",
        "else:\n",
        "    print(\"Erreur lors de la récupération des données des comtés. Statut de la réponse :\", response.status_code)\n"
      ],
      "metadata": {
        "colab": {
          "base_uri": "https://localhost:8080/"
        },
        "id": "DWtPQn1SQxDa",
        "outputId": "bf782075-6f36-4061-b37a-e3913159a5af"
      },
      "execution_count": 17,
      "outputs": [
        {
          "output_type": "stream",
          "name": "stdout",
          "text": [
            "Liste des comtés :\n",
            "Kent\n",
            "Sussex\n",
            "Surrey\n",
            "Hampshire\n",
            "Berkshire\n",
            "Wiltshire\n",
            "Dorset\n",
            "Somerset\n",
            "Devon\n",
            "Cornwall\n",
            "Middlesex\n",
            "Hertfordshire\n",
            "Buckinghamshire\n",
            "Gloucestershire\n",
            "Oxfordshire\n",
            "Worcestershire\n",
            "Herefordshire\n",
            "Cambridgeshire\n",
            "Huntingdonshire\n",
            "Bedfordshire\n",
            "Northamptonshire\n",
            "Leicestershire\n",
            "Warwickshire\n",
            "Staffordshire\n",
            "Shropshire\n",
            "Cheshire\n",
            "Derbyshire\n",
            "Nottinghamshire\n",
            "Rutland\n",
            "Yorkshire\n",
            "Lincolnshire\n",
            "Claims: YB\n",
            "Claims: YC\n",
            "Claims: LC\n",
            "Claims: HC\n",
            "Claims: YS\n",
            "Essex\n",
            "Norfolk\n",
            "Suffolk\n",
            "Lancashire\n"
          ]
        }
      ]
    },
    {
      "cell_type": "markdown",
      "source": [
        "### Exercice 2"
      ],
      "metadata": {
        "id": "IHxakiOuV2Nx"
      }
    },
    {
      "cell_type": "code",
      "source": [
        "import requests\n",
        "\n",
        "# Effectuer une requête GET vers l'API OpenDomesday pour obtenir les données des comtés\n",
        "response = requests.get(\"https://opendomesday.org/api/1.0/county\")\n",
        "\n",
        "# Vérifier si la requête a réussi (code de statut 200)\n",
        "if response.status_code == 200:\n",
        "    try:\n",
        "        # Analyser la réponse JSON pour obtenir les données des comtés\n",
        "        counties_data = response.json()\n",
        "\n",
        "        # Recherche du comté de Derbyshire\n",
        "        derbyshire_county = None\n",
        "        for county in counties_data:\n",
        "            if county['name'] == 'Derbyshire':\n",
        "                derbyshire_county = county\n",
        "                break\n",
        "\n",
        "        # Afficher les informations sur le comté de Derbyshire s'il est trouvé\n",
        "        if derbyshire_county:\n",
        "            print(\"Informations sur le comté de Derbyshire :\")\n",
        "            for key, value in derbyshire_county.items():\n",
        "                print(f\"{key}: {value}\")\n",
        "        else:\n",
        "            print(\"Le comté de Derbyshire n'a pas été trouvé.\")\n",
        "    except ValueError:\n",
        "        # Afficher le contenu de la réponse\n",
        "        print(\"Contenu de la réponse (non-JSON) :\", response.text)\n",
        "else:\n",
        "    print(\"Erreur lors de la récupération des données des comtés. Statut de la réponse :\", response.status_code)\n"
      ],
      "metadata": {
        "colab": {
          "base_uri": "https://localhost:8080/"
        },
        "id": "zG-lKL-oV7De",
        "outputId": "cda1b256-2b39-4fd2-9feb-7fab1b9f8f4e"
      },
      "execution_count": 21,
      "outputs": [
        {
          "output_type": "stream",
          "name": "stdout",
          "text": [
            "Informations sur le comté de Derbyshire :\n",
            "id: dby\n",
            "name: Derbyshire\n",
            "name_slug: derbyshire\n",
            "places_in_county: [{'id': 1036}, {'id': 2558}, {'id': 3016}, {'id': 4791}, {'id': 6093}, {'id': 8701}, {'id': 8951}, {'id': 9101}, {'id': 11441}, {'id': 10771}, {'id': 16116}, {'id': 20861}, {'id': 22251}, {'id': 22571}, {'id': 22611}, {'id': 24741}, {'id': 25536}, {'id': 19061}, {'id': 30246}, {'id': 31896}, {'id': 32521}, {'id': 32981}, {'id': 33916}, {'id': 41346}, {'id': 41788}, {'id': 41801}, {'id': 45821}, {'id': 47401}, {'id': 47411}, {'id': 52361}, {'id': 52596}, {'id': 53901}, {'id': 54446}, {'id': 54646}, {'id': 55736}, {'id': 56786}, {'id': 57061}, {'id': 60236}, {'id': 60351}, {'id': 60816}, {'id': 63606}, {'id': 65368}, {'id': 73221}, {'id': 73731}, {'id': 73741}, {'id': 91}, {'id': 2623}, {'id': 3011}, {'id': 3941}, {'id': 4046}, {'id': 5016}, {'id': 5676}, {'id': 7111}, {'id': 7116}, {'id': 7451}, {'id': 9056}, {'id': 10981}, {'id': 11656}, {'id': 11941}, {'id': 12751}, {'id': 13401}, {'id': 14081}, {'id': 14306}, {'id': 15306}, {'id': 15451}, {'id': 17386}, {'id': 17811}, {'id': 19611}, {'id': 22436}, {'id': 22476}, {'id': 24011}, {'id': 24306}, {'id': 25081}, {'id': 27521}, {'id': 33816}, {'id': 40056}, {'id': 28311}, {'id': 29846}, {'id': 30061}, {'id': 30211}, {'id': 30536}, {'id': 30571}, {'id': 20391}, {'id': 32571}, {'id': 33016}, {'id': 36211}, {'id': 37586}, {'id': 40057}, {'id': 39661}, {'id': 39956}, {'id': 40466}, {'id': 42799}, {'id': 43751}, {'id': 44321}, {'id': 28296}, {'id': 34241}, {'id': 46861}, {'id': 26971}, {'id': 2366}, {'id': 48026}, {'id': 49236}, {'id': 50311}, {'id': 52766}, {'id': 52791}, {'id': 55006}, {'id': 55131}, {'id': 58231}, {'id': 59051}, {'id': 42936}, {'id': 61396}, {'id': 62566}, {'id': 63721}, {'id': 67724}, {'id': 69701}, {'id': 72781}, {'id': 73841}, {'id': 14941}, {'id': 20691}, {'id': 39371}, {'id': 42171}, {'id': 54526}, {'id': 46681}, {'id': 51241}, {'id': 64663}, {'id': 70526}, {'id': 1326}, {'id': 2401}, {'id': 3291}, {'id': 4001}, {'id': 8116}, {'id': 8831}, {'id': 9461}, {'id': 10196}, {'id': 12706}, {'id': 13281}, {'id': 22243}, {'id': 18184}, {'id': 18736}, {'id': 23231}, {'id': 6141}, {'id': 29236}, {'id': 29861}, {'id': 32336}, {'id': 33086}, {'id': 34446}, {'id': 35221}, {'id': 35041}, {'id': 37056}, {'id': 38231}, {'id': 40456}, {'id': 41344}, {'id': 42041}, {'id': 42046}, {'id': 42797}, {'id': 45553}, {'id': 46851}, {'id': 48266}, {'id': 49221}, {'id': 55881}, {'id': 56826}, {'id': 56941}, {'id': 61526}, {'id': 62731}, {'id': 63966}, {'id': 66911}, {'id': 68251}, {'id': 68481}, {'id': 68546}, {'id': 71226}, {'id': 71466}, {'id': 1136}, {'id': 1456}, {'id': 1596}, {'id': 2106}, {'id': 3163}, {'id': 4646}, {'id': 5396}, {'id': 8456}, {'id': 11731}, {'id': 14476}, {'id': 18001}, {'id': 19416}, {'id': 22741}, {'id': 23256}, {'id': 23731}, {'id': 24921}, {'id': 35046}, {'id': 35311}, {'id': 37656}, {'id': 39466}, {'id': 39566}, {'id': 40901}, {'id': 41658}, {'id': 42536}, {'id': 42741}, {'id': 44361}, {'id': 45893}, {'id': 47416}, {'id': 49901}, {'id': 50661}, {'id': 50806}, {'id': 54966}, {'id': 56216}, {'id': 58701}, {'id': 61046}, {'id': 63391}, {'id': 65696}, {'id': 69008}, {'id': 69081}, {'id': 70641}, {'id': 8956}, {'id': 9586}, {'id': 9611}, {'id': 13741}, {'id': 13806}, {'id': 16581}, {'id': 18621}, {'id': 19941}, {'id': 20101}, {'id': 21051}, {'id': 21326}, {'id': 28556}, {'id': 30666}, {'id': 31306}, {'id': 32361}, {'id': 33141}, {'id': 33376}, {'id': 34646}, {'id': 35946}, {'id': 37591}, {'id': 14686}, {'id': 22266}, {'id': 28563}, {'id': 22271}, {'id': 41006}, {'id': 41521}, {'id': 43091}, {'id': 43991}, {'id': 46746}, {'id': 48806}, {'id': 51961}, {'id': 52096}, {'id': 53806}, {'id': 53996}, {'id': 55576}, {'id': 55956}, {'id': 56606}, {'id': 56696}, {'id': 57526}, {'id': 58046}, {'id': 58196}, {'id': 66498}, {'id': 16166}, {'id': 18951}, {'id': 22546}, {'id': 58356}, {'id': 71196}, {'id': 986}, {'id': 2711}, {'id': 4311}, {'id': 4369}, {'id': 5791}, {'id': 7651}, {'id': 8016}, {'id': 8721}, {'id': 9218}, {'id': 10026}, {'id': 12721}, {'id': 14691}, {'id': 16356}, {'id': 3106}, {'id': 20756}, {'id': 21276}, {'id': 21301}, {'id': 22406}, {'id': 22766}, {'id': 23121}, {'id': 23598}, {'id': 26856}, {'id': 4367}, {'id': 27776}, {'id': 29076}, {'id': 29411}, {'id': 32576}, {'id': 32686}, {'id': 35996}, {'id': 40296}, {'id': 29071}, {'id': 44051}, {'id': 44161}, {'id': 49241}, {'id': 45036}, {'id': 45366}, {'id': 71096}, {'id': 46101}, {'id': 46946}, {'id': 9288}, {'id': 65551}, {'id': 69858}, {'id': 47811}, {'id': 48031}, {'id': 48116}, {'id': 51193}, {'id': 52801}, {'id': 54166}, {'id': 55731}, {'id': 45936}, {'id': 71101}, {'id': 57756}, {'id': 58531}, {'id': 33646}, {'id': 60001}, {'id': 60836}, {'id': 61561}, {'id': 45941}, {'id': 63656}, {'id': 64516}, {'id': 65483}, {'id': 65938}, {'id': 66136}, {'id': 66256}, {'id': 66576}, {'id': 67036}, {'id': 68591}, {'id': 69901}, {'id': 70561}, {'id': 71081}, {'id': 52156}, {'id': 1906}, {'id': 8081}, {'id': 9741}, {'id': 12676}, {'id': 13531}, {'id': 17906}, {'id': 21011}, {'id': 25441}, {'id': 29931}, {'id': 30696}, {'id': 34821}, {'id': 40511}, {'id': 42251}, {'id': 43196}, {'id': 45656}, {'id': 51576}, {'id': 52566}, {'id': 56681}, {'id': 58171}, {'id': 58191}, {'id': 60031}, {'id': 60896}, {'id': 63696}, {'id': 67171}]\n"
          ]
        }
      ]
    },
    {
      "cell_type": "markdown",
      "source": [
        "### Exercice 3"
      ],
      "metadata": {
        "id": "CiKEepR7YRrI"
      }
    },
    {
      "cell_type": "code",
      "source": [
        "places_cache = {}\n",
        "response = requests.get(\"https://opendomesday.org/api/1.0/county/dby/\")\n",
        "\n",
        "if response.status_code == 200:\n",
        "    derbyshire_places = response.json()['places_in_county']\n",
        "\n",
        "    with open(\"manor_details.txt\", \"w\") as file:\n",
        "        for place in derbyshire_places:\n",
        "            place_id = place['id']\n",
        "\n",
        "            if place_id not in places_cache:\n",
        "                place_response = requests.get(f\"https://opendomesday.org/api/1.0/place/{place_id}\")\n",
        "                if place_response.status_code == 200:\n",
        "                    place_details = place_response.json()\n",
        "                    places_cache[place_id] = place_details\n",
        "                else:\n",
        "                    print(f\"Failed to fetch details for place ID: {place_id}\")\n",
        "                    continue\n",
        "            else:\n",
        "                place_details = places_cache[place_id]\n",
        "\n",
        "            if 'manors' in place_details:\n",
        "                for manor in place_details['manors']:\n",
        "                    file.write(f\"Manor details: {manor}\\n\")\n",
        "                    print(f\"Manor details: {manor}\")\n",
        "\n",
        "    print(\"Manor details have been written to 'manor_details.txt'.\")\n",
        "else:\n",
        "    print(\"Failed to fetch places for Derbyshire.\")\n"
      ],
      "metadata": {
        "colab": {
          "base_uri": "https://localhost:8080/"
        },
        "id": "C1WUTCbE913s",
        "outputId": "a196958f-6429-42b0-f673-25d536328af5"
      },
      "execution_count": 9,
      "outputs": [
        {
          "output_type": "stream",
          "name": "stdout",
          "text": [
            "Manor details: {'id': 13038}\n",
            "Manor details: {'id': 13040}\n",
            "Manor details: {'id': 13031}\n",
            "Manor details: {'id': 13037}\n",
            "Manor details: {'id': 13039}\n",
            "Manor details: {'id': 13058}\n",
            "Manor details: {'id': 13047}\n",
            "Manor details: {'id': 13043}\n",
            "Manor details: {'id': 12985}\n",
            "Manor details: {'id': 13055}\n",
            "Manor details: {'id': 13063}\n",
            "Manor details: {'id': 13034}\n",
            "Manor details: {'id': 13157}\n",
            "Manor details: {'id': 13028}\n",
            "Manor details: {'id': 13053}\n",
            "Manor details: {'id': 13062}\n",
            "Manor details: {'id': 13129}\n",
            "Manor details: {'id': 13059}\n",
            "Manor details: {'id': 13029}\n",
            "Manor details: {'id': 13057}\n",
            "Manor details: {'id': 13051}\n",
            "Manor details: {'id': 13052}\n",
            "Manor details: {'id': 12987}\n",
            "Manor details: {'id': 13049}\n",
            "Manor details: {'id': 13044}\n",
            "Manor details: {'id': 13045}\n",
            "Manor details: {'id': 13129}\n",
            "Manor details: {'id': 12987}\n",
            "Manor details: {'id': 13050}\n",
            "Manor details: {'id': 13129}\n",
            "Manor details: {'id': 12978}\n",
            "Manor details: {'id': 13054}\n",
            "Manor details: {'id': 13027}\n",
            "Manor details: {'id': 13056}\n",
            "Manor details: {'id': 13060}\n",
            "Manor details: {'id': 13066}\n",
            "Manor details: {'id': 13061}\n",
            "Manor details: {'id': 12987}\n",
            "Manor details: {'id': 13065}\n",
            "Manor details: {'id': 13060}\n",
            "Manor details: {'id': 13032}\n",
            "Manor details: {'id': 13030}\n",
            "Manor details: {'id': 13053}\n",
            "Manor details: {'id': 13044}\n",
            "Manor details: {'id': 13046}\n",
            "Manor details: {'id': 12987}\n",
            "Manor details: {'id': 13056}\n",
            "Manor details: {'id': 13035}\n",
            "Manor details: {'id': 13036}\n",
            "Manor details: {'id': 13059}\n",
            "Manor details: {'id': 12987}\n",
            "Manor details: {'id': 13033}\n",
            "Manor details: {'id': 12987}\n",
            "Manor details: {'id': 13042}\n",
            "Manor details: {'id': 13063}\n",
            "Manor details: {'id': 13067}\n",
            "Manor details: {'id': 13041}\n",
            "Manor details: {'id': 13062}\n",
            "Manor details: {'id': 13064}\n",
            "Manor details: {'id': 13048}\n",
            "Manor details: {'id': 13116}\n",
            "Manor details: {'id': 12971}\n",
            "Manor details: {'id': 12972}\n",
            "Manor details: {'id': 12970}\n",
            "Manor details: {'id': 13150}\n",
            "Manor details: {'id': 12971}\n",
            "Manor details: {'id': 12974}\n",
            "Manor details: {'id': 12971}\n",
            "Manor details: {'id': 13077}\n",
            "Manor details: {'id': 12971}\n",
            "Manor details: {'id': 13113}\n",
            "Manor details: {'id': 12971}\n",
            "Manor details: {'id': 12954}\n",
            "Manor details: {'id': 12970}\n",
            "Manor details: {'id': 12971}\n",
            "Manor details: {'id': 13112}\n",
            "Manor details: {'id': 12973}\n",
            "Manor details: {'id': 12975}\n",
            "Manor details: {'id': 12973}\n",
            "Manor details: {'id': 12973}\n",
            "Manor details: {'id': 12970}\n",
            "Manor details: {'id': 12954}\n",
            "Manor details: {'id': 12954}\n",
            "Manor details: {'id': 12972}\n",
            "Manor details: {'id': 13104}\n",
            "Manor details: {'id': 12976}\n",
            "Manor details: {'id': 12954}\n",
            "Manor details: {'id': 12971}\n",
            "Manor details: {'id': 13081}\n",
            "Manor details: {'id': 13115}\n",
            "Manor details: {'id': 12971}\n",
            "Manor details: {'id': 12973}\n",
            "Manor details: {'id': 13078}\n",
            "Manor details: {'id': 13151}\n",
            "Manor details: {'id': 12971}\n",
            "Manor details: {'id': 13150}\n",
            "Manor details: {'id': 12973}\n",
            "Manor details: {'id': 13114}\n",
            "Manor details: {'id': 12973}\n",
            "Manor details: {'id': 12970}\n",
            "Manor details: {'id': 12972}\n",
            "Manor details: {'id': 12973}\n",
            "Manor details: {'id': 12975}\n",
            "Manor details: {'id': 13075}\n",
            "Manor details: {'id': 13114}\n",
            "Manor details: {'id': 12973}\n",
            "Manor details: {'id': 12973}\n",
            "Manor details: {'id': 13080}\n",
            "Manor details: {'id': 12970}\n",
            "Manor details: {'id': 12972}\n",
            "Manor details: {'id': 13082}\n",
            "Manor details: {'id': 12970}\n",
            "Manor details: {'id': 13150}\n",
            "Manor details: {'id': 12972}\n",
            "Manor details: {'id': 13150}\n",
            "Manor details: {'id': 12973}\n",
            "Manor details: {'id': 12970}\n",
            "Manor details: {'id': 12973}\n",
            "Manor details: {'id': 13074}\n",
            "Manor details: {'id': 12971}\n",
            "Manor details: {'id': 12971}\n",
            "Manor details: {'id': 12970}\n",
            "Manor details: {'id': 12972}\n",
            "Manor details: {'id': 12971}\n",
            "Manor details: {'id': 13076}\n",
            "Manor details: {'id': 12972}\n",
            "Manor details: {'id': 12977}\n",
            "Manor details: {'id': 13149}\n",
            "Manor details: {'id': 13150}\n",
            "Manor details: {'id': 12971}\n",
            "Manor details: {'id': 12973}\n",
            "Manor details: {'id': 12972}\n",
            "Manor details: {'id': 13117}\n",
            "Manor details: {'id': 12973}\n",
            "Manor details: {'id': 13082}\n",
            "Manor details: {'id': 13079}\n",
            "Manor details: {'id': 12968}\n",
            "Manor details: {'id': 10831}\n",
            "Manor details: {'id': 13185}\n",
            "Manor details: {'id': 10837}\n",
            "Manor details: {'id': 13022}\n",
            "Manor details: {'id': 12967}\n",
            "Manor details: {'id': 10822}\n",
            "Manor details: {'id': 10823}\n",
            "Manor details: {'id': 11013}\n",
            "Manor details: {'id': 13186}\n",
            "Manor details: {'id': 10954}\n",
            "Manor details: {'id': 13184}\n",
            "Manor details: {'id': 12966}\n",
            "Manor details: {'id': 13187}\n",
            "Manor details: {'id': 12964}\n",
            "Manor details: {'id': 13023}\n",
            "Manor details: {'id': 12958}\n",
            "Manor details: {'id': 12957}\n",
            "Manor details: {'id': 13016}\n",
            "Manor details: {'id': 13155}\n",
            "Manor details: {'id': 12955}\n",
            "Manor details: {'id': 13009}\n",
            "Manor details: {'id': 13008}\n",
            "Manor details: {'id': 12957}\n",
            "Manor details: {'id': 12956}\n",
            "Manor details: {'id': 12956}\n",
            "Manor details: {'id': 12958}\n",
            "Manor details: {'id': 13006}\n",
            "Manor details: {'id': 12956}\n",
            "Manor details: {'id': 13007}\n",
            "Manor details: {'id': 12957}\n",
            "Manor details: {'id': 12958}\n",
            "Manor details: {'id': 13012}\n",
            "Manor details: {'id': 12957}\n",
            "Manor details: {'id': 12956}\n",
            "Manor details: {'id': 12955}\n",
            "Manor details: {'id': 13004}\n",
            "Manor details: {'id': 12956}\n",
            "Manor details: {'id': 12996}\n",
            "Manor details: {'id': 13145}\n",
            "Manor details: {'id': 13014}\n",
            "Manor details: {'id': 12957}\n",
            "Manor details: {'id': 12955}\n",
            "Manor details: {'id': 12955}\n",
            "Manor details: {'id': 12956}\n",
            "Manor details: {'id': 13011}\n",
            "Manor details: {'id': 12957}\n",
            "Manor details: {'id': 12958}\n",
            "Manor details: {'id': 13014}\n",
            "Manor details: {'id': 13015}\n",
            "Manor details: {'id': 12955}\n",
            "Manor details: {'id': 13013}\n",
            "Manor details: {'id': 12955}\n",
            "Manor details: {'id': 13145}\n",
            "Manor details: {'id': 12957}\n",
            "Manor details: {'id': 13010}\n",
            "Manor details: {'id': 13015}\n",
            "Manor details: {'id': 12956}\n",
            "Manor details: {'id': 12955}\n",
            "Manor details: {'id': 13160}\n",
            "Manor details: {'id': 13005}\n",
            "Manor details: {'id': 12956}\n",
            "Manor details: {'id': 13145}\n",
            "Manor details: {'id': 12996}\n",
            "Manor details: {'id': 13127}\n",
            "Manor details: {'id': 13127}\n",
            "Manor details: {'id': 13088}\n",
            "Manor details: {'id': 12981}\n",
            "Manor details: {'id': 13096}\n",
            "Manor details: {'id': 12962}\n",
            "Manor details: {'id': 13085}\n",
            "Manor details: {'id': 13159}\n",
            "Manor details: {'id': 12987}\n",
            "Manor details: {'id': 13097}\n",
            "Manor details: {'id': 13152}\n",
            "Manor details: {'id': 13097}\n",
            "Manor details: {'id': 12962}\n",
            "Manor details: {'id': 13087}\n",
            "Manor details: {'id': 12962}\n",
            "Manor details: {'id': 13092}\n",
            "Manor details: {'id': 12987}\n",
            "Manor details: {'id': 13100}\n",
            "Manor details: {'id': 13130}\n",
            "Manor details: {'id': 13127}\n",
            "Manor details: {'id': 13101}\n",
            "Manor details: {'id': 13128}\n",
            "Manor details: {'id': 12987}\n",
            "Manor details: {'id': 13095}\n",
            "Manor details: {'id': 13083}\n",
            "Manor details: {'id': 13154}\n",
            "Manor details: {'id': 13225}\n",
            "Manor details: {'id': 12987}\n",
            "Manor details: {'id': 12996}\n",
            "Manor details: {'id': 13220}\n",
            "Manor details: {'id': 13099}\n",
            "Manor details: {'id': 12987}\n",
            "Manor details: {'id': 13056}\n",
            "Manor details: {'id': 13098}\n",
            "Manor details: {'id': 12962}\n",
            "Manor details: {'id': 13094}\n",
            "Manor details: {'id': 12962}\n",
            "Manor details: {'id': 13091}\n",
            "Manor details: {'id': 13092}\n",
            "Manor details: {'id': 12987}\n",
            "Manor details: {'id': 13223}\n",
            "Manor details: {'id': 13102}\n",
            "Manor details: {'id': 12981}\n",
            "Manor details: {'id': 13093}\n",
            "Manor details: {'id': 13089}\n",
            "Manor details: {'id': 13090}\n",
            "Manor details: {'id': 12962}\n",
            "Manor details: {'id': 13086}\n",
            "Manor details: {'id': 13084}\n",
            "Manor details: {'id': 13127}\n",
            "Manor details: {'id': 13089}\n",
            "Manor details: {'id': 13090}\n",
            "Manor details: {'id': 13094}\n",
            "Manor details: {'id': 12960}\n",
            "Manor details: {'id': 12980}\n",
            "Manor details: {'id': 13162}\n",
            "Manor details: {'id': 13153}\n",
            "Manor details: {'id': 13069}\n",
            "Manor details: {'id': 13072}\n",
            "Manor details: {'id': 13068}\n",
            "Manor details: {'id': 13131}\n",
            "Manor details: {'id': 13174}\n",
            "Manor details: {'id': 13191}\n",
            "Manor details: {'id': 13217}\n",
            "Manor details: {'id': 13071}\n",
            "Manor details: {'id': 13111}\n",
            "Manor details: {'id': 13144}\n",
            "Manor details: {'id': 13164}\n",
            "Manor details: {'id': 13223}\n",
            "Manor details: {'id': 13224}\n",
            "Manor details: {'id': 13226}\n",
            "Manor details: {'id': 13227}\n",
            "Manor details: {'id': 13228}\n",
            "Manor details: {'id': 13229}\n",
            "Manor details: {'id': 13230}\n",
            "Manor details: {'id': 13231}\n",
            "Manor details: {'id': 13233}\n",
            "Manor details: {'id': 13234}\n",
            "Manor details: {'id': 12983}\n",
            "Manor details: {'id': 13069}\n",
            "Manor details: {'id': 13165}\n",
            "Manor details: {'id': 13111}\n",
            "Manor details: {'id': 13069}\n",
            "Manor details: {'id': 13166}\n",
            "Manor details: {'id': 13069}\n",
            "Manor details: {'id': 12983}\n",
            "Manor details: {'id': 13163}\n",
            "Manor details: {'id': 13174}\n",
            "Manor details: {'id': 13212}\n",
            "Manor details: {'id': 13213}\n",
            "Manor details: {'id': 12960}\n",
            "Manor details: {'id': 13111}\n",
            "Manor details: {'id': 13223}\n",
            "Manor details: {'id': 13174}\n",
            "Manor details: {'id': 12984}\n",
            "Manor details: {'id': 13069}\n",
            "Manor details: {'id': 12995}\n",
            "Manor details: {'id': 13069}\n",
            "Manor details: {'id': 13073}\n",
            "Manor details: {'id': 13103}\n",
            "Manor details: {'id': 13132}\n",
            "Manor details: {'id': 13158}\n",
            "Manor details: {'id': 13158}\n",
            "Manor details: {'id': 13192}\n",
            "Manor details: {'id': 13219}\n",
            "Manor details: {'id': 13214}\n",
            "Manor details: {'id': 13215}\n",
            "Manor details: {'id': 13216}\n",
            "Manor details: {'id': 12983}\n",
            "Manor details: {'id': 13175}\n",
            "Manor details: {'id': 13144}\n",
            "Manor details: {'id': 12960}\n",
            "Manor details: {'id': 13111}\n",
            "Manor details: {'id': 13070}\n",
            "Manor details: {'id': 13189}\n",
            "Manor details: {'id': 13174}\n",
            "Manor details: {'id': 13218}\n",
            "Manor details: {'id': 11561}\n",
            "Manor details: {'id': 13017}\n",
            "Manor details: {'id': 13018}\n",
            "Manor details: {'id': 13211}\n",
            "Manor details: {'id': 12991}\n",
            "Manor details: {'id': 13178}\n",
            "Manor details: {'id': 12989}\n",
            "Manor details: {'id': 13197}\n",
            "Manor details: {'id': 13142}\n",
            "Manor details: {'id': 13137}\n",
            "Manor details: {'id': 13200}\n",
            "Manor details: {'id': 12999}\n",
            "Manor details: {'id': 13136}\n",
            "Manor details: {'id': 13193}\n",
            "Manor details: {'id': 13002}\n",
            "Manor details: {'id': 13106}\n",
            "Manor details: {'id': 12944}\n",
            "Manor details: {'id': 13198}\n",
            "Manor details: {'id': 12944}\n",
            "Manor details: {'id': 13208}\n",
            "Manor details: {'id': 12944}\n",
            "Manor details: {'id': 13137}\n",
            "Manor details: {'id': 13209}\n",
            "Manor details: {'id': 13204}\n",
            "Manor details: {'id': 13194}\n",
            "Manor details: {'id': 13195}\n",
            "Manor details: {'id': 12949}\n",
            "Manor details: {'id': 13139}\n",
            "Manor details: {'id': 12944}\n",
            "Manor details: {'id': 13134}\n",
            "Manor details: {'id': 13140}\n",
            "Manor details: {'id': 13124}\n",
            "Manor details: {'id': 13108}\n",
            "Manor details: {'id': 13107}\n",
            "Manor details: {'id': 13168}\n",
            "Manor details: {'id': 12946}\n",
            "Manor details: {'id': 13205}\n",
            "Manor details: {'id': 13206}\n",
            "Manor details: {'id': 13002}\n",
            "Manor details: {'id': 13170}\n",
            "Manor details: {'id': 13123}\n",
            "Manor details: {'id': 13172}\n",
            "Manor details: {'id': 13201}\n",
            "Manor details: {'id': 13000}\n",
            "Manor details: {'id': 13140}\n",
            "Manor details: {'id': 13120}\n",
            "Manor details: {'id': 13135}\n",
            "Manor details: {'id': 13122}\n",
            "Manor details: {'id': 12944}\n",
            "Manor details: {'id': 13143}\n",
            "Manor details: {'id': 13122}\n",
            "Manor details: {'id': 12951}\n",
            "Manor details: {'id': 13196}\n",
            "Manor details: {'id': 13120}\n",
            "Manor details: {'id': 13147}\n",
            "Manor details: {'id': 13121}\n",
            "Manor details: {'id': 13170}\n",
            "Manor details: {'id': 13171}\n",
            "Manor details: {'id': 12951}\n",
            "Manor details: {'id': 13122}\n",
            "Manor details: {'id': 13202}\n",
            "Manor details: {'id': 12944}\n",
            "Manor details: {'id': 13122}\n",
            "Manor details: {'id': 12946}\n",
            "Manor details: {'id': 13138}\n",
            "Manor details: {'id': 12950}\n",
            "Manor details: {'id': 13198}\n",
            "Manor details: {'id': 13138}\n",
            "Manor details: {'id': 13110}\n",
            "Manor details: {'id': 13109}\n",
            "Manor details: {'id': 13118}\n",
            "Manor details: {'id': 13001}\n",
            "Manor details: {'id': 13169}\n",
            "Manor details: {'id': 13125}\n",
            "Manor details: {'id': 13140}\n",
            "Manor details: {'id': 13141}\n",
            "Manor details: {'id': 12998}\n",
            "Manor details: {'id': 12944}\n",
            "Manor details: {'id': 13207}\n",
            "Manor details: {'id': 12947}\n",
            "Manor details: {'id': 12952}\n",
            "Manor details: {'id': 12979}\n",
            "Manor details: {'id': 13203}\n",
            "Manor details: {'id': 13001}\n",
            "Manor details: {'id': 13138}\n",
            "Manor details: {'id': 13110}\n",
            "Manor details: {'id': 13148}\n",
            "Manor details: {'id': 12948}\n",
            "Manor details: {'id': 12952}\n",
            "Manor details: {'id': 12950}\n",
            "Manor details: {'id': 13121}\n",
            "Manor details: {'id': 13170}\n",
            "Manor details: {'id': 13171}\n",
            "Manor details: {'id': 12953}\n",
            "Manor details: {'id': 13120}\n",
            "Manor details: {'id': 13146}\n",
            "Manor details: {'id': 13137}\n",
            "Manor details: {'id': 13122}\n",
            "Manor details: {'id': 12945}\n",
            "Manor details: {'id': 11549}\n",
            "Manor details: {'id': 13056}\n",
            "Manor details: {'id': 12988}\n",
            "Manor details: {'id': 13021}\n",
            "Manor details: {'id': 12961}\n",
            "Manor details: {'id': 12992}\n",
            "Manor details: {'id': 13020}\n",
            "Manor details: {'id': 12990}\n",
            "Manor details: {'id': 13177}\n",
            "Manor details: {'id': 13180}\n",
            "Manor details: {'id': 13025}\n",
            "Manor details: {'id': 13026}\n",
            "Manor details: {'id': 13177}\n",
            "Manor details: {'id': 12969}\n",
            "Manor details: {'id': 13156}\n",
            "Manor details: {'id': 13181}\n",
            "Manor details: {'id': 13222}\n",
            "Manor details: {'id': 13210}\n",
            "Manor details: {'id': 12962}\n",
            "Manor details: {'id': 12963}\n",
            "Manor details: {'id': 12961}\n",
            "Manor details: {'id': 12963}\n",
            "Manor details: {'id': 12959}\n",
            "Manor details: {'id': 13183}\n",
            "Manor details: {'id': 13024}\n",
            "Manor details: {'id': 13221}\n",
            "Manor details: {'id': 13019}\n",
            "Manor details: {'id': 13179}\n",
            "Manor details: {'id': 12965}\n",
            "Manor details: {'id': 12993}\n",
            "Manor details: {'id': 13182}\n",
            "Manor details: {'id': 12959}\n",
            "Manor details have been written to 'manor_details.txt'.\n"
          ]
        }
      ]
    },
    {
      "cell_type": "markdown",
      "source": [
        "### Exercice 4"
      ],
      "metadata": {
        "id": "ZHkZO_zQ_Rf1"
      }
    },
    {
      "cell_type": "code",
      "source": [
        "import csv\n",
        "import requests\n",
        "\n",
        "# Chemin du fichier CSV où sauvegarder les informations extraites\n",
        "csv_file_path = '/content/manor_details.csv'\n",
        "\n",
        "# Création et ouverture du fichier CSV pour l'écriture\n",
        "with open(csv_file_path, 'w', newline='') as csvfile:\n",
        "   # Définir les en-têtes de colonnes pour le fichier CSV\n",
        "   fieldnames = ['Manor Name', 'Price', 'Total Ploughs']\n",
        "   writer = csv.DictWriter(csvfile, fieldnames=fieldnames)\n",
        "\n",
        "   # Écrire l'en-tête du fichier CSV\n",
        "   writer.writeheader()\n",
        "\n",
        "   # Itération à travers chaque manoir dans le cache pour extraire les informations pertinentes\n",
        "   for place_id, place_details in places_cache.items():\n",
        "       if 'manors' in place_details:\n",
        "           for manor_reference in place_details['manors']:\n",
        "               manor_id = manor_reference['id']\n",
        "               manor_response = requests.get(f\"https://opendomesday.org/api/1.0/manor/{manor_id}\")\n",
        "               if manor_response.status_code == 200:\n",
        "                   manor_details = manor_response.json()\n",
        "                   manor_prix = manor_details.get('geld', 'Data Not Available')\n",
        "                   total_ploughs = manor_details.get('totalploughs', 'Data Not Available')\n",
        "                   manor_name = manor_details.get('id', 'Unknown Manor')\n",
        "\n",
        "                   writer.writerow({'Manor Name': manor_name, 'Price': manor_prix, 'Total Ploughs': total_ploughs})\n",
        "\n",
        "print(f\"Les données ont été sauvegardées dans {csv_file_path}\")\n"
      ],
      "metadata": {
        "colab": {
          "base_uri": "https://localhost:8080/"
        },
        "id": "WfeCbfhL_TVD",
        "outputId": "6c4c0889-ff35-452d-d878-12b3569d0c2a"
      },
      "execution_count": 17,
      "outputs": [
        {
          "output_type": "stream",
          "name": "stdout",
          "text": [
            "Les données ont été sauvegardées dans /content/manor_details.csv\n"
          ]
        }
      ]
    },
    {
      "cell_type": "markdown",
      "source": [
        "### Exercice 5"
      ],
      "metadata": {
        "id": "hST8rUEBYNWc"
      }
    },
    {
      "cell_type": "code",
      "source": [
        "import csv\n",
        "\n",
        "# Chemin du fichier CSV contenant les détails des manoirs\n",
        "csv_file_path = '/content/manor_details.csv'\n",
        "\n",
        "# Initialiser une variable pour stocker la valeur maximale\n",
        "richest_manor_price = float('-inf')\n",
        "richest_manor_name = ''\n",
        "\n",
        "# Lire le fichier CSV et trouver le manoir le plus riche\n",
        "with open(csv_file_path, 'r', newline='') as csvfile:\n",
        "    reader = csv.DictReader(csvfile)\n",
        "    for row in reader:\n",
        "        price_str = row['Price']\n",
        "        if price_str:\n",
        "            try:\n",
        "                price = float(price_str)\n",
        "                if price > richest_manor_price:\n",
        "                    richest_manor_price = price\n",
        "                    richest_manor_name = row['Manor Name']\n",
        "            except ValueError:\n",
        "                # Ignorer les valeurs de prix invalides\n",
        "                continue\n",
        "\n",
        "# Afficher le manoir le plus riche\n",
        "if richest_manor_name:\n",
        "    print(f\"The richest manor in Derbyshire is '{richest_manor_name}' with a price of £{richest_manor_price}.\")\n",
        "else:\n",
        "    print(\"No valid price found in the CSV file.\")\n"
      ],
      "metadata": {
        "colab": {
          "base_uri": "https://localhost:8080/"
        },
        "id": "FB_i_-tlYWco",
        "outputId": "9f56a3c2-5137-433c-c72f-f6017737485a"
      },
      "execution_count": 18,
      "outputs": [
        {
          "output_type": "stream",
          "name": "stdout",
          "text": [
            "The richest manor in Derbyshire is '12971' with a price of £23.0.\n"
          ]
        }
      ]
    },
    {
      "cell_type": "markdown",
      "source": [
        "### Exercice 6"
      ],
      "metadata": {
        "id": "HUkVcAlmdswt"
      }
    },
    {
      "cell_type": "code",
      "source": [
        "import csv\n",
        "\n",
        "# Chemin du fichier CSV contenant les détails des manoirs\n",
        "csv_file_path = '/content/manor_details.csv'\n",
        "\n",
        "# Initialiser une variable pour stocker la valeur totale payée\n",
        "total_value_paid = 0\n",
        "\n",
        "# Lire le fichier CSV et calculer la valeur totale payée\n",
        "with open(csv_file_path, 'r', newline='') as csvfile:\n",
        "    reader = csv.DictReader(csvfile)\n",
        "    for row in reader:\n",
        "        price_str = row['Price']\n",
        "        if price_str:\n",
        "            try:\n",
        "                price = float(price_str)\n",
        "                total_value_paid += price\n",
        "            except ValueError:\n",
        "                # Ignorer les valeurs de prix invalides\n",
        "                continue\n",
        "\n",
        "# Afficher la valeur totale payée par Derbyshire\n",
        "print(f\"The total value paid by Derbyshire is £{total_value_paid}.\")\n"
      ],
      "metadata": {
        "colab": {
          "base_uri": "https://localhost:8080/"
        },
        "id": "2rcLxmHOd3R-",
        "outputId": "8e7ee84c-0692-4fc4-88eb-e9dbc87090cf"
      },
      "execution_count": 19,
      "outputs": [
        {
          "output_type": "stream",
          "name": "stdout",
          "text": [
            "The total value paid by Derbyshire is £2158.9599999999973.\n"
          ]
        }
      ]
    },
    {
      "cell_type": "markdown",
      "source": [
        "### Exercice 7"
      ],
      "metadata": {
        "id": "52SG6DfjeLMR"
      }
    },
    {
      "cell_type": "code",
      "source": [
        "import csv\n",
        "import requests\n",
        "\n",
        "class ManorDetailsExtractor:\n",
        "    def __init__(self, csv_file_path):\n",
        "        self.csv_file_path = csv_file_path\n",
        "        self.places_cache = {}\n",
        "\n",
        "    def fetch_place_details(self, place_id):\n",
        "        if place_id not in self.places_cache:\n",
        "            response = requests.get(f\"https://opendomesday.org/api/1.0/place/{place_id}\")\n",
        "            if response.status_code == 200:\n",
        "                place_details = response.json()\n",
        "                self.places_cache[place_id] = place_details\n",
        "                return place_details\n",
        "            else:\n",
        "                print(f\"Failed to fetch details for place ID: {place_id}\")\n",
        "                return None\n",
        "        else:\n",
        "            return self.places_cache[place_id]\n",
        "\n",
        "    def extract_manor_details(self):\n",
        "        with open(self.csv_file_path, 'w', newline='') as csvfile:\n",
        "            fieldnames = ['Manor Name', 'Price', 'Total Ploughs']\n",
        "            writer = csv.DictWriter(csvfile, fieldnames=fieldnames)\n",
        "            writer.writeheader()\n",
        "\n",
        "            for place_id, place_details in self.places_cache.items():\n",
        "                if 'manors' in place_details:\n",
        "                    for manor_reference in place_details['manors']:\n",
        "                        manor_id = manor_reference['id']\n",
        "                        manor_details = self.fetch_place_details(manor_id)\n",
        "                        if manor_details:\n",
        "                            manor_name = manor_details.get('id', 'Unknown Manor')\n",
        "                            manor_price = manor_details.get('value86', 'Data Not Available')\n",
        "                            total_ploughs = manor_details.get('totalploughs', 'Data Not Available')\n",
        "                            writer.writerow({'Manor Name': manor_name, 'Price': manor_price, 'Total Ploughs': total_ploughs})\n",
        "\n",
        "    def calculate_total_value_paid(self):\n",
        "        total_value_paid = 0\n",
        "        with open(self.csv_file_path, 'r', newline='') as csvfile:\n",
        "            reader = csv.DictReader(csvfile)\n",
        "            for row in reader:\n",
        "                price_str = row['Price']\n",
        "                if price_str:\n",
        "                    try:\n",
        "                        price = float(price_str)\n",
        "                        total_value_paid += price\n",
        "                    except ValueError:\n",
        "                        # Ignore invalid price values\n",
        "                        continue\n",
        "        return total_value_paid\n",
        "\n",
        "# Usage example:\n",
        "csv_file_path = '/content/manor_details.csv'\n",
        "extractor = ManorDetailsExtractor(csv_file_path)\n",
        "response = requests.get(\"https://opendomesday.org/api/1.0/county/dby/\")\n",
        "\n",
        "if response.status_code == 200:\n",
        "    derbyshire_places = response.json()['places_in_county']\n",
        "    extractor.places_cache = {place['id']: place for place in derbyshire_places}\n",
        "    extractor.extract_manor_details()\n",
        "    total_value_paid = extractor.calculate_total_value_paid()\n",
        "    print(f\"The total value paid by Derbyshire is £{total_value_paid}.\")\n",
        "else:\n",
        "    print(\"Failed to fetch places for Derbyshire.\")\n"
      ],
      "metadata": {
        "colab": {
          "base_uri": "https://localhost:8080/"
        },
        "id": "nm8MDf42eM5j",
        "outputId": "c4a88656-d33d-443e-cc54-43e2c0b015bf"
      },
      "execution_count": 20,
      "outputs": [
        {
          "output_type": "stream",
          "name": "stdout",
          "text": [
            "The total value paid by Derbyshire is £0.\n"
          ]
        }
      ]
    },
    {
      "cell_type": "markdown",
      "source": [
        "La 7 est surement fausse. Je n'ai pas eu assez de temps pour rééllement me pencher dessus."
      ],
      "metadata": {
        "id": "nSGYfz5Mg0jp"
      }
    }
  ]
}
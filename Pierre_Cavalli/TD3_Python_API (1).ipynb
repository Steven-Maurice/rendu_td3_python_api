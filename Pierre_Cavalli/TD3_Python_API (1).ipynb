{
  "cells": [
    {
      "cell_type": "markdown",
      "metadata": {
        "id": "6VDbSnO6v0yM"
      },
      "source": [
        "# Python with APIs\n",
        "Exchanges via HTTP using `requests` package"
      ]
    },
    {
      "cell_type": "code",
      "execution_count": 1,
      "metadata": {
        "id": "nkAbSrU6v0yO"
      },
      "outputs": [],
      "source": [
        "import requests"
      ]
    },
    {
      "cell_type": "markdown",
      "metadata": {
        "id": "9jQJn2L8v0yP"
      },
      "source": [
        "## Example"
      ]
    },
    {
      "cell_type": "markdown",
      "metadata": {
        "id": "ZbjPHcjlv0yQ"
      },
      "source": [
        "### Agify API"
      ]
    },
    {
      "cell_type": "markdown",
      "metadata": {
        "id": "1HDPVbZ4v0yQ"
      },
      "source": [
        "Example route for Agify API"
      ]
    },
    {
      "cell_type": "code",
      "execution_count": 2,
      "metadata": {
        "id": "nmGwUUHEv0yQ"
      },
      "outputs": [],
      "source": [
        "agify_dan = \"https://api.agify.io/?name=dan\""
      ]
    },
    {
      "cell_type": "markdown",
      "metadata": {
        "id": "KvFViILYv0yR"
      },
      "source": [
        "Extract response"
      ]
    },
    {
      "cell_type": "code",
      "execution_count": 3,
      "metadata": {
        "colab": {
          "base_uri": "https://localhost:8080/"
        },
        "id": "aViFXuS7v0yR",
        "outputId": "0237f9e3-c213-4061-becb-ef3c1ded046a"
      },
      "outputs": [
        {
          "output_type": "stream",
          "name": "stdout",
          "text": [
            "Answer status_code: <Response [200]>\n",
            "<class 'str'>\n",
            "<class 'dict'>\n",
            "{\"count\":67782,\"name\":\"dan\",\"age\":66}\n",
            "{'count': 67782, 'name': 'dan', 'age': 66}\n"
          ]
        }
      ],
      "source": [
        "# Run a GET request\n",
        "agify_answer = requests.get(agify_dan)\n",
        "agify_answer_txt = agify_answer.text\n",
        "agify_answer_json = agify_answer.json()\n",
        "\n",
        "print(f\"Answer status_code: {agify_answer}\")\n",
        "\n",
        "print(type(agify_answer_txt))\n",
        "print(type(agify_answer_json))\n",
        "\n",
        "print(agify_answer_txt)\n",
        "print(agify_answer_json)"
      ]
    },
    {
      "cell_type": "markdown",
      "metadata": {
        "id": "uSo-we2cv0yS"
      },
      "source": [
        "## Introductory Exercises"
      ]
    },
    {
      "cell_type": "code",
      "execution_count": 20,
      "metadata": {
        "colab": {
          "base_uri": "https://localhost:8080/"
        },
        "id": "LxL7RRpAv0yS",
        "outputId": "50979fa9-8640-4a73-d33e-476ad84ce2bf"
      },
      "outputs": [
        {
          "output_type": "stream",
          "name": "stdout",
          "text": [
            "Please enter your first name: quintuple monstre\n",
            "quintuple monstre, the predicted age for your name is 82 years old.\n"
          ]
        }
      ],
      "source": [
        "# Exercise 1\n",
        "# Write a script that asks the user for their first name\n",
        "# and responds with a personalized message\n",
        "# using the agify API\n",
        "\n",
        "# https://api.agify.io/?name=YOUR_NAME\n",
        "# Example response: {\"name\":\"YOUR_NAME\",\"age\":30,\"count\":12345}\n",
        "\n",
        "\n",
        "\n",
        "user_name = input(\"Please enter your first name: \")\n",
        "\n",
        "api_url = f\"https://api.agify.io/?name={user_name}\"\n",
        "\n",
        "response = requests.get(api_url)\n",
        "\n",
        "\n",
        "if response.status_code == 200:\n",
        "\n",
        "    data = response.json()\n",
        "\n",
        "\n",
        "    predicted_age = data.get('age')\n",
        "\n",
        "\n",
        "    if predicted_age is not None:\n",
        "        print(f\"{user_name}, the predicted age for your name is {predicted_age} years old.\")\n",
        "    else:\n",
        "        print(\"Sorry, we couldn't predict the age for your name.\")\n",
        "else:\n",
        "    print(\"There was an error contacting the agify API. Please try again later.\")\n"
      ]
    },
    {
      "cell_type": "code",
      "execution_count": 10,
      "metadata": {
        "colab": {
          "base_uri": "https://localhost:8080/"
        },
        "id": "63qYEVDXv0yS",
        "outputId": "af53e57b-e36e-4f53-de44-5eee4784b5be"
      },
      "outputs": [
        {
          "output_type": "stream",
          "name": "stdout",
          "text": [
            "Please enter your first name: Pierre\n",
            "Pierre, the predicted gender for your name is male.\n"
          ]
        }
      ],
      "source": [
        "# Exercise 2\n",
        "# Write a script that asks the user for their first name\n",
        "# and responds with a personalized message\n",
        "# using the genderize API\n",
        "# https://api.genderize.io/?name=YOUR_NAME\n",
        "\n",
        "\n",
        "\n",
        "user_name = input(\"Please enter your first name: \")\n",
        "\n",
        "api_url = f\"https://api.genderize.io/?name={user_name}\"\n",
        "\n",
        "response = requests.get(api_url)\n",
        "\n",
        "if response.status_code == 200:\n",
        "    data = response.json()\n",
        "\n",
        "    predicted_gender = data.get('gender')\n",
        "\n",
        "    if predicted_gender is not None:\n",
        "        print(f\"{user_name}, the predicted gender for your name is {predicted_gender}.\")\n",
        "    else:\n",
        "        print(\"Sorry, we couldn't predict the gender for your name.\")\n",
        "else:\n",
        "    print(\"There was an error contacting the genderize API. Please try again later.\")\n",
        "\n"
      ]
    },
    {
      "cell_type": "code",
      "execution_count": 25,
      "metadata": {
        "colab": {
          "base_uri": "https://localhost:8080/"
        },
        "id": "D5_N6EV8v0yT",
        "outputId": "0cec9dce-7125-46a2-930a-ad5ba301474e"
      },
      "outputs": [
        {
          "output_type": "stream",
          "name": "stdout",
          "text": [
            "Please enter your first name: Pierre\n",
            "Pierre, the nationality for your name is HT\n"
          ]
        }
      ],
      "source": [
        "# Exercise 3\n",
        "# Write a script that asks the user for their first name\n",
        "# and responds with a personalized message\n",
        "# using the nationalize API\n",
        "# https://api.nationalize.io/?name=YOUR_NAME\n",
        "import requests\n",
        "\n",
        "user_name = input(\"Please enter your first name: \")\n",
        "\n",
        "api_url = f\"https://api.nationalize.io/?name={user_name}\"\n",
        "\n",
        "response = requests.get(api_url)\n",
        "\n",
        "if response.status_code == 200:\n",
        "    data = response.json()\n",
        "\n",
        "    if data['country']:\n",
        "        nationality = data['country'][0]['country_id']\n",
        "\n",
        "        print(f\"{user_name}, the nationality for your name is {nationality}\")\n",
        "    else:\n",
        "        print(\"Sorry, we couldn't predict the nationality for your name.\")\n",
        "else:\n",
        "    print(\"There was an error contacting the nationalize API. Please try again later.\")\n",
        "\n"
      ]
    },
    {
      "cell_type": "code",
      "execution_count": 23,
      "metadata": {
        "colab": {
          "base_uri": "https://localhost:8080/"
        },
        "id": "wsvzg16rv0yT",
        "outputId": "166e1d32-644b-4ec4-b584-e0cae06b6eca"
      },
      "outputs": [
        {
          "output_type": "stream",
          "name": "stdout",
          "text": [
            "The most probable country for the name 'Pierre' is HT with a probability of 24.99%.\n"
          ]
        }
      ],
      "source": [
        "# Exercise 3.1\n",
        "# Parsing the response from the nationalize API\n",
        "# Get the most probable country and its percentage\n",
        "# Example response: {\"name\":\"YOUR_NAME\",\"country\":[{\"country_id\":\"FR\",\"probability\":0.75},{\"country_id\":\"BE\",\"probability\":0.25}]}\n",
        "# Hint: use the max() function with a lambda function\n",
        "# https://docs.python.org/3/library/functions.html#max\n",
        "# https://docs.python.org/3/tutorial/controlflow.html#lambda-expressions\n",
        "\n",
        "import requests\n",
        "\n",
        "user_name = \"Pierre\"\n",
        "api_url = f\"https://api.nationalize.io/?name={user_name}\"\n",
        "response = requests.get(api_url)\n",
        "\n",
        "if response.status_code == 200:\n",
        "    data = response.json()\n",
        "\n",
        "\n",
        "    if data['country']:\n",
        "        most_probable_country = max(data['country'], key=lambda x: x['probability'])\n",
        "        country_id = most_probable_country['country_id']\n",
        "        probability = most_probable_country['probability'] * 100\n",
        "\n",
        "        print(f\"The most probable country for the name '{user_name}' is {country_id} with a probability of {probability:.2f}%.\")\n",
        "    else:\n",
        "        print(f\"No nationality prediction is available for the name '{user_name}'.\")\n",
        "else:\n",
        "    print(\"There was an error contacting the nationalize API. Please try again later.\")\n",
        "\n"
      ]
    },
    {
      "cell_type": "code",
      "execution_count": 32,
      "metadata": {
        "colab": {
          "base_uri": "https://localhost:8080/"
        },
        "id": "OBpXh7apv0yT",
        "outputId": "89159089-1aec-4572-db1c-63fc5d85841e"
      },
      "outputs": [
        {
          "output_type": "stream",
          "name": "stdout",
          "text": [
            "Random activity suggestion: Practice coding in your favorite lanaguage\n",
            "Activity for 4 participants: Invite some friends over for a game night\n",
            "Recreational activity for 4 participants: Go see a Broadway production\n",
            "Activity for 2 participants with high accessibility (0): Compliment someone\n"
          ]
        }
      ],
      "source": [
        "# Exercise 4\n",
        "# Use BoredAPI : https://www.boredapi.com/\n",
        "# Documentation : https://www.boredapi.com/documentation\n",
        "# 1. Write a script that generates random activities\n",
        "\n",
        "\n",
        "def get_random_activity():\n",
        "    response = requests.get(\"https://www.boredapi.com/api/activity\")\n",
        "    if response.status_code == 200:\n",
        "        activity = response.json()['activity']\n",
        "        print(f\"Random activity suggestion: {activity}\")\n",
        "    else:\n",
        "        print(\"Failed to fetch a random activity. Please try again.\")\n",
        "\n",
        "get_random_activity()\n",
        "\n",
        "# 3. Write a script that generates random activities for 4 participants\n",
        "\n",
        "\n",
        "def get_activity_for_participants(participants):\n",
        "    response = requests.get(f\"https://www.boredapi.com/api/activity?participants={participants}\")\n",
        "    if response.status_code == 200:\n",
        "        activity = response.json()['activity']\n",
        "        print(f\"Activity for {participants} participants: {activity}\")\n",
        "    else:\n",
        "        print(f\"Failed to fetch an activity for {participants} participants. Please try again.\")\n",
        "\n",
        "get_activity_for_participants(4)\n",
        "\n",
        "\n",
        "# 4. Write a script that generates random activities for 4 participants and of type \"recreational\"\n",
        "\n",
        "\n",
        "def get_specific_activity(participants, activity_type):\n",
        "    response = requests.get(f\"https://www.boredapi.com/api/activity?participants={participants}&type={activity_type}\")\n",
        "    if response.status_code == 200:\n",
        "        activity = response.json()['activity']\n",
        "        print(f\"Recreational activity for {participants} participants: {activity}\")\n",
        "    else:\n",
        "        print(f\"Failed to fetch a recreational activity for {participants} participants. Please try again.\")\n",
        "\n",
        "get_specific_activity(4, \"recreational\")\n",
        "\n",
        "\n",
        "# 5. Write a script that generates random activities for 2 participants and that does not require equipment\n",
        "\n",
        "\n",
        "def get_activity_for_two_with_high_accessibility(participants, accessibility=0):\n",
        "    response = requests.get(f\"https://www.boredapi.com/api/activity?participants={participants}&accessibility={accessibility}\")\n",
        "    if response.status_code == 200:\n",
        "        data = response.json()\n",
        "        activity = data['activity']\n",
        "        accessibility = data['accessibility']\n",
        "        print(f\"Activity for {participants} participants with high accessibility ({accessibility}): {activity}\")\n",
        "    else:\n",
        "        print(f\"Failed to fetch an activity for {participants} participants. Please try again.\")\n",
        "\n",
        "get_activity_for_two_with_high_accessibility(2)\n",
        "\n",
        "\n",
        "\n",
        "\n"
      ]
    },
    {
      "cell_type": "markdown",
      "metadata": {
        "id": "M75V0tUGv0yU"
      },
      "source": [
        "## Intermediate exercises"
      ]
    },
    {
      "cell_type": "code",
      "execution_count": 39,
      "metadata": {
        "colab": {
          "base_uri": "https://localhost:8080/"
        },
        "id": "hkSaMnM7v0yU",
        "outputId": "161c70f7-02c3-4e21-a917-600eca92dcfe"
      },
      "outputs": [
        {
          "output_type": "stream",
          "name": "stdout",
          "text": [
            "Kent\n",
            "Sussex\n",
            "Surrey\n",
            "Hampshire\n",
            "Berkshire\n",
            "Wiltshire\n",
            "Dorset\n",
            "Somerset\n",
            "Devon\n",
            "Cornwall\n",
            "Middlesex\n",
            "Hertfordshire\n",
            "Buckinghamshire\n",
            "Gloucestershire\n",
            "Oxfordshire\n",
            "Worcestershire\n",
            "Herefordshire\n",
            "Cambridgeshire\n",
            "Huntingdonshire\n",
            "Bedfordshire\n",
            "Northamptonshire\n",
            "Leicestershire\n",
            "Warwickshire\n",
            "Staffordshire\n",
            "Shropshire\n",
            "Cheshire\n",
            "Derbyshire\n",
            "Nottinghamshire\n",
            "Rutland\n",
            "Yorkshire\n",
            "Lincolnshire\n",
            "Claims: YB\n",
            "Claims: YC\n",
            "Claims: LC\n",
            "Claims: HC\n",
            "Claims: YS\n",
            "Essex\n",
            "Norfolk\n",
            "Suffolk\n",
            "Lancashire\n"
          ]
        }
      ],
      "source": [
        "# OpenDomesday\n",
        "# https://opendomesday.org/api/\n",
        "\n",
        "# Exercise 1\n",
        "# Write a script that displays all the counties\n",
        "# using the OpenDomesday API.\n",
        "\n",
        "\n",
        "def get_counties():\n",
        "    api_url = \"https://opendomesday.org/api/1.0/county\"\n",
        "    response = requests.get(api_url)\n",
        "\n",
        "    if response.status_code == 200:\n",
        "        counties = response.json()\n",
        "        for county in counties:\n",
        "            print(county['name'])\n",
        "    else:\n",
        "        print(\"Failed to fetch counties. Please try again.\")\n",
        "\n",
        "get_counties()\n",
        "\n"
      ]
    },
    {
      "cell_type": "code",
      "execution_count": 63,
      "metadata": {
        "colab": {
          "base_uri": "https://localhost:8080/"
        },
        "id": "zkXYuV4av0yU",
        "outputId": "a9179ce3-a24b-40fa-8981-34a444ab99f9"
      },
      "outputs": [
        {
          "output_type": "stream",
          "name": "stdout",
          "text": [
            "[1036, 2558, 3016, 4791, 6093, 8701, 8951, 9101, 11441, 10771, 16116, 20861, 22251, 22571, 22611, 24741, 25536, 19061, 30246, 31896, 32521, 32981, 33916, 41346, 41788, 41801, 45821, 47401, 47411, 52361, 52596, 53901, 54446, 54646, 55736, 56786, 57061, 60236, 60351, 60816, 63606, 65368, 73221, 73731, 73741, 91, 2623, 3011, 3941, 4046, 5016, 5676, 7111, 7116, 7451, 9056, 10981, 11656, 11941, 12751, 13401, 14081, 14306, 15306, 15451, 17386, 17811, 19611, 22436, 22476, 24011, 24306, 25081, 27521, 33816, 40056, 28311, 29846, 30061, 30211, 30536, 30571, 20391, 32571, 33016, 36211, 37586, 40057, 39661, 39956, 40466, 42799, 43751, 44321, 28296, 34241, 46861, 26971, 2366, 48026, 49236, 50311, 52766, 52791, 55006, 55131, 58231, 59051, 42936, 61396, 62566, 63721, 67724, 69701, 72781, 73841, 14941, 20691, 39371, 42171, 54526, 46681, 51241, 64663, 70526, 1326, 2401, 3291, 4001, 8116, 8831, 9461, 10196, 12706, 13281, 22243, 18184, 18736, 23231, 6141, 29236, 29861, 32336, 33086, 34446, 35221, 35041, 37056, 38231, 40456, 41344, 42041, 42046, 42797, 45553, 46851, 48266, 49221, 55881, 56826, 56941, 61526, 62731, 63966, 66911, 68251, 68481, 68546, 71226, 71466, 1136, 1456, 1596, 2106, 3163, 4646, 5396, 8456, 11731, 14476, 18001, 19416, 22741, 23256, 23731, 24921, 35046, 35311, 37656, 39466, 39566, 40901, 41658, 42536, 42741, 44361, 45893, 47416, 49901, 50661, 50806, 54966, 56216, 58701, 61046, 63391, 65696, 69008, 69081, 70641, 8956, 9586, 9611, 13741, 13806, 16581, 18621, 19941, 20101, 21051, 21326, 28556, 30666, 31306, 32361, 33141, 33376, 34646, 35946, 37591, 14686, 22266, 28563, 22271, 41006, 41521, 43091, 43991, 46746, 48806, 51961, 52096, 53806, 53996, 55576, 55956, 56606, 56696, 57526, 58046, 58196, 66498, 16166, 18951, 22546, 58356, 71196, 986, 2711, 4311, 4369, 5791, 7651, 8016, 8721, 9218, 10026, 12721, 14691, 16356, 3106, 20756, 21276, 21301, 22406, 22766, 23121, 23598, 26856, 4367, 27776, 29076, 29411, 32576, 32686, 35996, 40296, 29071, 44051, 44161, 49241, 45036, 45366, 71096, 46101, 46946, 9288, 65551, 69858, 47811, 48031, 48116, 51193, 52801, 54166, 55731, 45936, 71101, 57756, 58531, 33646, 60001, 60836, 61561, 45941, 63656, 64516, 65483, 65938, 66136, 66256, 66576, 67036, 68591, 69901, 70561, 71081, 52156, 1906, 8081, 9741, 12676, 13531, 17906, 21011, 25441, 29931, 30696, 34821, 40511, 42251, 43196, 45656, 51576, 52566, 56681, 58171, 58191, 60031, 60896, 63696, 67171]\n"
          ]
        }
      ],
      "source": [
        "# Exercise 2\n",
        "# Write a script that displays the information\n",
        "# of the county \"Derbyshire\".\n",
        "def get_Derbyshire():\n",
        "    api_url = \"https://opendomesday.org/api/1.0/county\"\n",
        "    response = requests.get(api_url)\n",
        "\n",
        "    if response.status_code == 200:\n",
        "        counties = response.json()\n",
        "        for county in counties:\n",
        "            if (county['name']==\"Derbyshire\"):\n",
        "              return(county)\n",
        "    else:\n",
        "        print(\"Failed to fetch counties. Please try again.\")\n",
        "\n",
        "derbyshire_data=get_Derbyshire()\n",
        "\n",
        "if derbyshire_data and 'places_in_county' in derbyshire_data:\n",
        "    place_ids = [place['id'] for place in derbyshire_data['places_in_county']]\n",
        "    print(place_ids)\n",
        "else:\n",
        "    print(\"Derbyshire data not found or is missing 'places_in_county'.\")"
      ]
    },
    {
      "cell_type": "code",
      "execution_count": 93,
      "metadata": {
        "colab": {
          "base_uri": "https://localhost:8080/"
        },
        "id": "5_NjUV0Hv0yU",
        "outputId": "26f08924-d981-463b-ef82-f7d0df95b28c"
      },
      "outputs": [
        {
          "output_type": "stream",
          "name": "stdout",
          "text": [
            "Saved manor details to 'derbyshire_manor_details.json'.\n"
          ]
        }
      ],
      "source": [
        "# Exercise 3\n",
        "# Now that we have the ids for all the places in Derbyshire, we can load all their details...\n",
        "# And from their details, we can list all the details of their manors.\n",
        "# Go fetch the data!\n",
        "# P.S.: remember to save the data to avoid downloading it every time\n",
        "import requests\n",
        "import json\n",
        "\n",
        "def fetch_and_save_manor_details(place_ids, output_filename='derbyshire_manor_details.json'):\n",
        "    all_manors_details = {}\n",
        "\n",
        "    for place_id in place_ids:\n",
        "        place_api_url = f\"https://opendomesday.org/api/1.0/place/{place_id}\"\n",
        "        place_response = requests.get(place_api_url)\n",
        "\n",
        "        if place_response.status_code == 200:\n",
        "            place_details = place_response.json()\n",
        "            manors_ids = [manor['id'] for manor in place_details.get('manors', [])]\n",
        "\n",
        "            for manor_id in manors_ids:\n",
        "                manor_api_url = f\"https://opendomesday.org/api/1.0/manor/{manor_id}\"\n",
        "                manor_response = requests.get(manor_api_url)\n",
        "\n",
        "                if manor_response.status_code == 200:\n",
        "                    manor_details = manor_response.json()\n",
        "                    all_manors_details[manor_id] = manor_details\n",
        "                else:\n",
        "                    print(f\"Failed to fetch details for manor ID: {manor_id}\")\n",
        "        else:\n",
        "            print(f\"Failed to fetch details for place ID: {place_id}\")\n",
        "\n",
        "    with open(output_filename, 'w') as file:\n",
        "        json.dump(all_manors_details, file, indent=4)\n",
        "\n",
        "    print(f\"Saved manor details to '{output_filename}'.\")\n",
        "\n",
        "place_ids = [1036, 2558, 3016, 4791, 6093, 8701, 8951, 9101, 11441, 10771, 16116]\n",
        "\n",
        "fetch_and_save_manor_details(place_ids)\n",
        "\n",
        "\n",
        "\n",
        "\n"
      ]
    },
    {
      "cell_type": "code",
      "execution_count": 94,
      "metadata": {
        "colab": {
          "base_uri": "https://localhost:8080/"
        },
        "id": "3-pQOTfcv0yV",
        "outputId": "09d47577-0565-4cf8-bb81-492da83054e4"
      },
      "outputs": [
        {
          "output_type": "stream",
          "name": "stdout",
          "text": [
            "Manor details summary has been saved to manor_details_summary.csv\n"
          ]
        }
      ],
      "source": [
        "# Exercise 4\n",
        "# Now that we have a quantity of raw data, we will extract the interesting parts.\n",
        "# In our case, we want to count the money paid by each manor and compare it to the number of ploughs it has.\n",
        "# - Can you find the corresponding json fields?\n",
        "# - Then, you can list these numbers for each manor in Derbyshire.\n",
        "# - And format this in an appropriate comma-separated values (CSV) file.\n",
        "import csv\n",
        "\n",
        "def to_float(value, default=0.0):\n",
        "    try:\n",
        "        return float(value) if value is not None else default\n",
        "    except ValueError:\n",
        "        return default\n",
        "\n",
        "def process_manor_details_and_save_to_csv(json_file, csv_file):\n",
        "    with open(json_file, 'r') as file:\n",
        "        manor_details_dict = json.load(file)\n",
        "\n",
        "    with open(csv_file, 'w', newline='') as csvfile:\n",
        "        writer = csv.writer(csvfile)\n",
        "        writer.writerow(['Manor ID', 'Total Value', 'Total Ploughs'])\n",
        "\n",
        "        for manor_id, details in manor_details_dict.items():\n",
        "\n",
        "            value86 = to_float(details.get('value86'))\n",
        "            value66 = to_float(details.get('value66'))\n",
        "\n",
        "            total_value = max(value86, value66)\n",
        "\n",
        "            total_ploughs = to_float(details.get('totalploughs'))\n",
        "\n",
        "            writer.writerow([manor_id, total_value, total_ploughs])\n",
        "\n",
        "json_file_path = 'derbyshire_manor_details.json'\n",
        "csv_file_path = 'manor_details_summary.csv'\n",
        "process_manor_details_and_save_to_csv(json_file_path, csv_file_path)\n",
        "\n",
        "print(f\"Manor details summary has been saved to {csv_file_path}\")\n",
        "\n",
        "\n"
      ]
    },
    {
      "cell_type": "code",
      "execution_count": 97,
      "metadata": {
        "colab": {
          "base_uri": "https://localhost:8080/"
        },
        "id": "RANLu3jPv0yV",
        "outputId": "635ff157-72e2-4df4-e12c-4f2b64f23c6f"
      },
      "outputs": [
        {
          "output_type": "stream",
          "name": "stdout",
          "text": [
            "The richest manor is: {'id': 13037, 'county': {'id': 'dby'}, 'place': [{'id': 4791}], 'phillimore': '6,34', 'headofmanor': None, 'duplicates': None, 'subholdings': None, 'notes': None, 'waste': 'none', 'waste66': 'N', 'wasteqr': 'N', 'waste86': 'N', 'geld': 4.0, 'gcode': 'geld', 'villtax': None, 'taxedon': None, 'value86': 4.0, 'value66': 4.0, 'valueqr': None, 'value_string': None, 'render': None, 'lordsland': None, 'newland': None, 'ploughlands': 4.0, 'pcode': 'land for', 'lordsploughs': 3.0, 'mensploughs': 7.0, 'totalploughs': 10.0, 'lordsploughspossible': None, 'mensploughspossible': None, 'villagers': 19.0, 'smallholders': 11.0, 'slaves': 0.0, 'femaleslaves': 0.0, 'freemen': 0.0, 'free2men': 0.0, 'priests': 1.0, 'cottagers': 0.0, 'otherpop': 0.0, 'miscpop': 0.0, 'miscpopcategories': None, 'burgesses': 0.0, 'mills': 2.0, 'millvalue': 1.0, 'meadow': '64', 'meadowunits': 'acres', 'pasture': None, 'pastureunits': None, 'woodland': None, 'woodlandunits': None, 'fisheries': None, 'salthouses': None, 'payments': None, 'paymentsunits': None, 'churches': 1.0, 'churchland': None, 'cobs_1086': None, 'cobs_1066': None, 'cattle_1086': None, 'cattle_1066': None, 'cows_1086': None, 'cows_1066': None, 'pigs_1086': None, 'pigs_1066': None, 'sheep_1086': None, 'sheep_1066': None, 'goats_1086': None, 'goats_1066': None, 'beehives_1086': None, 'beehives_1066': None, 'wild_mares_1086': None, 'wild_mares_1066': None, 'other_1086': None, 'other_code_1086': None, 'other_1066': None, 'other_codes_1066': None, 'lord66': [169600, 236350, 235050, 333160, 325800, 153050, 32510, 167360], 'overlord66': [], 'lord86': [412960], 'teninchief': [274850], 'image_for_manor': [{'manor': {'id': 13037}, 'x1': 127, 'x2': 853, 'y1': 1547, 'y2': 1791, 'image': 'dby/06.png'}]}\n"
          ]
        }
      ],
      "source": [
        "# Exercise 5\n",
        "# What is the richest manor in Derbyshire?\n",
        "import json\n",
        "\n",
        "def find_richest_manor(json_file):\n",
        "    with open(json_file, 'r') as file:\n",
        "        manor_details_dict = json.load(file)\n",
        "\n",
        "    richest_manor = None\n",
        "    max_value = 0\n",
        "\n",
        "    for manor_id, details in manor_details_dict.items():\n",
        "        manor_value = details.get('value86', 0) or 0\n",
        "\n",
        "        if manor_value > max_value:\n",
        "            max_value = manor_value\n",
        "            richest_manor = details\n",
        "\n",
        "    return richest_manor\n",
        "\n",
        "\n",
        "json_file_path = 'derbyshire_manor_details.json'\n",
        "\n",
        "\n",
        "richest_manor = find_richest_manor(json_file_path)\n",
        "if richest_manor:\n",
        "    print(f\"The richest manor is: {richest_manor}\")\n",
        "else:\n",
        "    print(\"Could not determine the richest manor.\")\n",
        "\n"
      ]
    },
    {
      "cell_type": "code",
      "execution_count": 103,
      "metadata": {
        "colab": {
          "base_uri": "https://localhost:8080/"
        },
        "id": "Jp5U8sHFv0yV",
        "outputId": "e2303910-22cc-401d-fb81-310ffdbf7968"
      },
      "outputs": [
        {
          "output_type": "stream",
          "name": "stdout",
          "text": [
            "The total is: {'id': 13037, 'county': {'id': 'dby'}, 'place': [{'id': 4791}], 'phillimore': '6,34', 'headofmanor': None, 'duplicates': None, 'subholdings': None, 'notes': None, 'waste': 'none', 'waste66': 'N', 'wasteqr': 'N', 'waste86': 'N', 'geld': 4.0, 'gcode': 'geld', 'villtax': None, 'taxedon': None, 'value86': 4.0, 'value66': 4.0, 'valueqr': None, 'value_string': None, 'render': None, 'lordsland': None, 'newland': None, 'ploughlands': 4.0, 'pcode': 'land for', 'lordsploughs': 3.0, 'mensploughs': 7.0, 'totalploughs': 10.0, 'lordsploughspossible': None, 'mensploughspossible': None, 'villagers': 19.0, 'smallholders': 11.0, 'slaves': 0.0, 'femaleslaves': 0.0, 'freemen': 0.0, 'free2men': 0.0, 'priests': 1.0, 'cottagers': 0.0, 'otherpop': 0.0, 'miscpop': 0.0, 'miscpopcategories': None, 'burgesses': 0.0, 'mills': 2.0, 'millvalue': 1.0, 'meadow': '64', 'meadowunits': 'acres', 'pasture': None, 'pastureunits': None, 'woodland': None, 'woodlandunits': None, 'fisheries': None, 'salthouses': None, 'payments': None, 'paymentsunits': None, 'churches': 1.0, 'churchland': None, 'cobs_1086': None, 'cobs_1066': None, 'cattle_1086': None, 'cattle_1066': None, 'cows_1086': None, 'cows_1066': None, 'pigs_1086': None, 'pigs_1066': None, 'sheep_1086': None, 'sheep_1066': None, 'goats_1086': None, 'goats_1066': None, 'beehives_1086': None, 'beehives_1066': None, 'wild_mares_1086': None, 'wild_mares_1066': None, 'other_1086': None, 'other_code_1086': None, 'other_1066': None, 'other_codes_1066': None, 'lord66': [169600, 236350, 235050, 333160, 325800, 153050, 32510, 167360], 'overlord66': [], 'lord86': [412960], 'teninchief': [274850], 'image_for_manor': [{'manor': {'id': 13037}, 'x1': 127, 'x2': 853, 'y1': 1547, 'y2': 1791, 'image': 'dby/06.png'}]}\n"
          ]
        }
      ],
      "source": [
        "# Exercise 6\n",
        "# Give the total value paid by Derbyshire.\n",
        "def find_total_value_paid(json_file):\n",
        "    with open(json_file, 'r') as file:\n",
        "        manor_details_dict = json.load(file)\n",
        "\n",
        "    richest_manor = None\n",
        "    manor_value = 0\n",
        "\n",
        "    for manor_id, details in manor_details_dict.items():\n",
        "        manor_value = sum(details.get('value86', 0) or 0 )\n",
        "        return manor_value\n",
        "\n",
        "\n",
        "json_file_path = 'derbyshire_manor_details.json'\n",
        "\n",
        "total_paid = find_richest_manor(json_file_path)\n",
        "if richest_manor:\n",
        "    print(f\"The total is: {total_paid}\")\n",
        "else:\n",
        "    print(\"Could not determine the richest manor.\")"
      ]
    },
    {
      "cell_type": "code",
      "execution_count": null,
      "metadata": {
        "id": "rF7mtZK3v0yV"
      },
      "outputs": [],
      "source": [
        "# Exercise 7\n",
        "# Create a Python class.\n",
        "# It must include all the previous functionalities.\n",
        "# Refactor your code to make it readable, efficient, and maintainable.\n",
        "\n",
        "#######################################################\n",
        "################## YOUR ANSWER HERE ##################\n",
        "#######################################################\n"
      ]
    },
    {
      "cell_type": "code",
      "execution_count": null,
      "metadata": {
        "id": "H6YwwKLTv0yV"
      },
      "outputs": [],
      "source": [
        "# Exercise 8 (optional)\n",
        "# Add to your class a system for error handling.\n",
        "# It must manage the following errors:\n",
        "# - Connection error\n",
        "# - Parsing error\n",
        "# - Request error\n",
        "# - Response error\n",
        "# - Parameter error\n",
        "\n",
        "#######################################################\n",
        "################## YOUR ANSWER HERE ##################\n",
        "#######################################################\n",
        "\n"
      ]
    }
  ],
  "metadata": {
    "kernelspec": {
      "display_name": "api",
      "language": "python",
      "name": "python3"
    },
    "language_info": {
      "codemirror_mode": {
        "name": "ipython",
        "version": 3
      },
      "file_extension": ".py",
      "mimetype": "text/x-python",
      "name": "python",
      "nbconvert_exporter": "python",
      "pygments_lexer": "ipython3",
      "version": "3.11.6"
    },
    "colab": {
      "provenance": []
    }
  },
  "nbformat": 4,
  "nbformat_minor": 0
}
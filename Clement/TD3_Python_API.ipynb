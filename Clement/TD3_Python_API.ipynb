{
 "cells": [
  {
   "cell_type": "markdown",
   "metadata": {},
   "source": [
    "# Python with APIs\n",
    "Exchanges via HTTP using `requests` package"
   ]
  },
  {
   "cell_type": "code",
   "execution_count": 1,
   "metadata": {},
   "outputs": [],
   "source": [
    "import requests"
   ]
  },
  {
   "cell_type": "markdown",
   "metadata": {},
   "source": [
    "## Example"
   ]
  },
  {
   "cell_type": "markdown",
   "metadata": {},
   "source": [
    "### Agify API"
   ]
  },
  {
   "cell_type": "markdown",
   "metadata": {},
   "source": [
    "Example route for Agify API"
   ]
  },
  {
   "cell_type": "code",
   "execution_count": 2,
   "metadata": {},
   "outputs": [],
   "source": [
    "agify_dan = \"https://api.agify.io/?name=dan\""
   ]
  },
  {
   "cell_type": "markdown",
   "metadata": {},
   "source": [
    "Extract response"
   ]
  },
  {
   "cell_type": "code",
   "execution_count": 3,
   "metadata": {},
   "outputs": [
    {
     "name": "stdout",
     "output_type": "stream",
     "text": [
      "Answer status_code: <Response [200]>\n",
      "<class 'str'>\n",
      "<class 'dict'>\n",
      "{\"count\":67782,\"name\":\"dan\",\"age\":66}\n",
      "{'count': 67782, 'name': 'dan', 'age': 66}\n"
     ]
    }
   ],
   "source": [
    "# Run a GET request\n",
    "agify_answer = requests.get(agify_dan)\n",
    "agify_answer_txt = agify_answer.text\n",
    "agify_answer_json = agify_answer.json()\n",
    "\n",
    "print(f\"Answer status_code: {agify_answer}\")\n",
    "\n",
    "print(type(agify_answer_txt))\n",
    "print(type(agify_answer_json))\n",
    "\n",
    "print(agify_answer_txt)\n",
    "print(agify_answer_json)"
   ]
  },
  {
   "cell_type": "markdown",
   "metadata": {},
   "source": [
    "## Introductory Exercises"
   ]
  },
  {
   "cell_type": "code",
   "execution_count": 4,
   "metadata": {},
   "outputs": [
    {
     "name": "stdout",
     "output_type": "stream",
     "text": [
      "Bonjour clem ! Selon nos données, une personne avec le prénom 'clem' a en moyenne 55 ans. Nous avons trouvé 4071 occurrences de ce prénom dans notre base de données.\n"
     ]
    }
   ],
   "source": [
    "# Exercise 1\n",
    "# Write a script that asks the user for their first name\n",
    "# and responds with a personalized message\n",
    "# using the agify API\n",
    "\n",
    "# https://api.agify.io/?name=YOUR_NAME\n",
    "# Example response: {\"name\":\"YOUR_NAME\",\"age\":30,\"count\":12345}\n",
    "\n",
    "#######################################################\n",
    "################## YOUR ANSWER HERE ##################\n",
    "#######################################################\n",
    "\n",
    "def get_age_from_agify_api(name):\n",
    "    url = f\"https://api.agify.io/?name={name}\"\n",
    "    response = requests.get(url)\n",
    "    data = response.json()\n",
    "    return data\n",
    "\n",
    "first_name = input(\"Entrez votre prénom : \")\n",
    "\n",
    "result = get_age_from_agify_api(first_name)\n",
    "\n",
    "\n",
    "age = result.get('age', 'indéterminé')\n",
    "count = result.get('count', 'inconnu')\n",
    "\n",
    "print(f\"Bonjour {first_name} ! Selon nos données, une personne avec le prénom '{first_name}' a en moyenne {age} ans. Nous avons trouvé {count} occurrences de ce prénom dans notre base de données.\")\n"
   ]
  },
  {
   "cell_type": "code",
   "execution_count": 5,
   "metadata": {},
   "outputs": [
    {
     "name": "stdout",
     "output_type": "stream",
     "text": [
      "+----------+---------+---------------+\n",
      "| Prénom   | Genre   | Probabilité   |\n",
      "+==========+=========+===============+\n",
      "| clem     | male    | 0.8%          |\n",
      "+----------+---------+---------------+\n"
     ]
    }
   ],
   "source": [
    "# Exercise 2\n",
    "# Write a script that asks the user for their first name\n",
    "# and responds with a personalized message\n",
    "# using the genderize API\n",
    "# https://api.genderize.io/?name=YOUR_NAME\n",
    "\n",
    "#######################################################\n",
    "################## YOUR ANSWER HERE ##################\n",
    "#######################################################\n",
    "\n",
    "import requests\n",
    "from tabulate import tabulate\n",
    "\n",
    "def get_gender_from_genderize_api(name):\n",
    "    url = f\"https://api.genderize.io/?name={name}\"\n",
    "    response = requests.get(url)\n",
    "    data = response.json()\n",
    "    return data\n",
    "\n",
    "first_name = input(\"Entrez votre prénom : \")\n",
    "\n",
    "\n",
    "result = get_gender_from_genderize_api(first_name)\n",
    "\n",
    "\n",
    "gender = result.get('gender', 'indéterminé')\n",
    "probability = result.get('probability', 'inconnue')\n",
    "\n",
    "table_data = [\n",
    "    [\"Prénom\", \"Genre\", \"Probabilité\"],\n",
    "    [first_name, gender, f\"{probability}%\"]\n",
    "]\n",
    "\n",
    "print(tabulate(table_data, headers=\"firstrow\", tablefmt=\"grid\"))\n"
   ]
  },
  {
   "cell_type": "code",
   "execution_count": 6,
   "metadata": {},
   "outputs": [
    {
     "name": "stdout",
     "output_type": "stream",
     "text": [
      "+--------+---------------+\n",
      "| Pays   |   Probabilité |\n",
      "+========+===============+\n",
      "| US     |          0.15 |\n",
      "+--------+---------------+\n",
      "| NG     |          0.1  |\n",
      "+--------+---------------+\n",
      "| FR     |          0.08 |\n",
      "+--------+---------------+\n",
      "| AU     |          0.05 |\n",
      "+--------+---------------+\n",
      "| NE     |          0.05 |\n",
      "+--------+---------------+\n"
     ]
    }
   ],
   "source": [
    "# Exercise 3\n",
    "# Write a script that asks the user for their first name\n",
    "# and responds with a personalized message\n",
    "# using the nationalize API\n",
    "# https://api.nationalize.io/?name=YOUR_NAME\n",
    "\n",
    "#######################################################\n",
    "################## YOUR ANSWER HERE ##################\n",
    "#######################################################\n",
    "\n",
    "\n",
    "def get_nationality_from_nationalize_api(name):\n",
    "    url = f\"https://api.nationalize.io/?name={name}\"\n",
    "    response = requests.get(url)\n",
    "    data = response.json()\n",
    "    return data\n",
    "\n",
    "first_name = input(\"Entrez votre prénom : \")\n",
    "\n",
    "result = get_nationality_from_nationalize_api(first_name)\n",
    "\n",
    "nationalities = result.get('country', [])\n",
    "\n",
    "table_data = [[\"Pays\", \"Probabilité\"]]\n",
    "for nationality in nationalities:\n",
    "    country = nationality.get('country_id', 'Indéterminé')\n",
    "    probability = nationality.get('probability', 'Inconnue')\n",
    "    table_data.append([country, f\"{probability:.2f}\"])\n",
    "\n",
    "print(tabulate(table_data, headers=\"firstrow\", tablefmt=\"grid\"))\n"
   ]
  },
  {
   "cell_type": "code",
   "execution_count": 7,
   "metadata": {},
   "outputs": [
    {
     "name": "stdout",
     "output_type": "stream",
     "text": [
      "Pour le prénom 'clem', le pays le plus probable est 'US' avec une probabilité de 0.15.\n"
     ]
    }
   ],
   "source": [
    "# Exercise 3.1\n",
    "# Parsing the response from the nationalize API\n",
    "# Get the most probable country and its percentage\n",
    "# Example response: {\"name\":\"YOUR_NAME\",\"country\":[{\"country_id\":\"FR\",\"probability\":0.75},{\"country_id\":\"BE\",\"probability\":0.25}]}\n",
    "# Hint: use the max() function with a lambda function\n",
    "# https://docs.python.org/3/library/functions.html#max\n",
    "# https://docs.python.org/3/tutorial/controlflow.html#lambda-expressions\n",
    "\n",
    "#######################################################\n",
    "################## YOUR ANSWER HERE ##################\n",
    "#######################################################\n",
    "\n",
    "def get_nationality_from_nationalize_api(name):\n",
    "    url = f\"https://api.nationalize.io/?name={name}\"\n",
    "    response = requests.get(url)\n",
    "    data = response.json()\n",
    "    return data\n",
    "\n",
    "first_name = input(\"Entrez votre prénom : \")\n",
    "\n",
    "result = get_nationality_from_nationalize_api(first_name)\n",
    "\n",
    "most_probable_country = max(result['country'], key=lambda x: x['probability'])\n",
    "country_id = most_probable_country.get('country_id', 'Indéterminé')\n",
    "probability = most_probable_country.get('probability', 'Inconnue')\n",
    "\n",
    "print(f\"Pour le prénom '{first_name}', le pays le plus probable est '{country_id}' avec une probabilité de {probability:.2f}.\")\n",
    "\n"
   ]
  },
  {
   "cell_type": "code",
   "execution_count": 8,
   "metadata": {},
   "outputs": [
    {
     "name": "stdout",
     "output_type": "stream",
     "text": [
      "Activité aléatoire: Learn Morse code\n",
      "Activité aléatoire: Organize your pantry\n",
      "Activité aléatoire pour 4 participants: Go to an escape room\n",
      "Activité aléatoire pour 4 participants (type 'recreational'): Go see a Broadway production\n",
      "Activité aléatoire pour 2 participants sans équipement requis: Compliment someone\n"
     ]
    }
   ],
   "source": [
    "# Exercise 4\n",
    "# Use BoredAPI : https://www.boredapi.com/\n",
    "# Documentation : https://www.boredapi.com/documentation\n",
    "# 1. Write a script that generates random activities\n",
    "# 2. Write a script that generates random activities\n",
    "# 3. Write a script that generates random activities for 4 participants\n",
    "# 4. Write a script that generates random activities for 4 participants and of type \"recreational\"\n",
    "# 5. Write a script that generates random activities for 2 participants and that does not require equipment\n",
    "\n",
    "#######################################################\n",
    "################## YOUR ANSWER HERE ##################\n",
    "#######################################################\n",
    "\n",
    "def get_random_activity():\n",
    "    url = \"https://www.boredapi.com/api/activity\"\n",
    "    response = requests.get(url)\n",
    "    data = response.json()\n",
    "    return data\n",
    "\n",
    "\n",
    "# 1. Write a script that generates random activities\n",
    "random_activity = get_random_activity()\n",
    "print(\"Activité aléatoire:\", random_activity['activity'])\n",
    "\n",
    "# 2. Write a script that generates random activities\n",
    "random_activity = get_random_activity()\n",
    "print(\"Activité aléatoire:\", random_activity['activity'])\n",
    "\n",
    "# 3. Write a script that generates random activities for 4 participants\n",
    "url = \"https://www.boredapi.com/api/activity?participants=4\"\n",
    "response = requests.get(url)\n",
    "random_activity = response.json()\n",
    "\n",
    "print(\"Activité aléatoire pour 4 participants:\", random_activity['activity'])\n",
    "\n",
    "# 4. Write a script that generates random activities for 4 participants and of type \"recreational\"\n",
    "url = \"https://www.boredapi.com/api/activity?type=recreational&participants=4\"\n",
    "response = requests.get(url)\n",
    "random_activity = response.json()\n",
    "\n",
    "print(\"Activité aléatoire pour 4 participants (type 'recreational'):\", random_activity['activity'])\n",
    "\n",
    "# 5. Write a script that generates random activities for 2 participants and that does not require equipment\n",
    "url = \"https://www.boredapi.com/api/activity?participants=2&accessibility=0\"\n",
    "response = requests.get(url)\n",
    "random_activity = response.json()\n",
    "\n",
    "print(\"Activité aléatoire pour 2 participants sans équipement requis:\", random_activity['activity'])\n"
   ]
  },
  {
   "cell_type": "markdown",
   "metadata": {},
   "source": [
    "## Intermediate exercises"
   ]
  },
  {
   "cell_type": "code",
   "execution_count": 15,
   "metadata": {},
   "outputs": [
    {
     "name": "stdout",
     "output_type": "stream",
     "text": [
      "Kent\n",
      "Sussex\n",
      "Surrey\n",
      "Hampshire\n",
      "Berkshire\n",
      "Wiltshire\n",
      "Dorset\n",
      "Somerset\n",
      "Devon\n",
      "Cornwall\n",
      "Middlesex\n",
      "Hertfordshire\n",
      "Buckinghamshire\n",
      "Gloucestershire\n",
      "Oxfordshire\n",
      "Worcestershire\n",
      "Herefordshire\n",
      "Cambridgeshire\n",
      "Huntingdonshire\n",
      "Bedfordshire\n",
      "Northamptonshire\n",
      "Leicestershire\n",
      "Warwickshire\n",
      "Staffordshire\n",
      "Shropshire\n",
      "Cheshire\n",
      "Derbyshire\n",
      "Nottinghamshire\n",
      "Rutland\n",
      "Yorkshire\n",
      "Lincolnshire\n",
      "Claims: YB\n",
      "Claims: YC\n",
      "Claims: LC\n",
      "Claims: HC\n",
      "Claims: YS\n",
      "Essex\n",
      "Norfolk\n",
      "Suffolk\n",
      "Lancashire\n"
     ]
    }
   ],
   "source": [
    "# OpenDomesday\n",
    "# https://opendomesday.org/api/\n",
    "\n",
    "# Exercise 1\n",
    "# Write a script that displays all the counties  \n",
    "# using the OpenDomesday API.\n",
    "\n",
    "#######################################################\n",
    "################## YOUR ANSWER HERE ##################\n",
    "#######################################################\n",
    "\n",
    "import requests\n",
    "\n",
    "counties = requests.get('https://opendomesday.org/api/1.0/county').json()\n",
    "for county in counties:\n",
    "    print(county.get('name'))\n"
   ]
  },
  {
   "cell_type": "code",
   "execution_count": 16,
   "metadata": {},
   "outputs": [
    {
     "name": "stdout",
     "output_type": "stream",
     "text": [
      "id dby\n",
      "name Derbyshire\n",
      "name_slug derbyshire\n",
      "places_in_county [{'id': 1036}, {'id': 2558}, {'id': 3016}, {'id': 4791}, {'id': 6093}, {'id': 8701}, {'id': 8951}, {'id': 9101}, {'id': 11441}, {'id': 10771}, {'id': 16116}, {'id': 20861}, {'id': 22251}, {'id': 22571}, {'id': 22611}, {'id': 24741}, {'id': 25536}, {'id': 19061}, {'id': 30246}, {'id': 31896}, {'id': 32521}, {'id': 32981}, {'id': 33916}, {'id': 41346}, {'id': 41788}, {'id': 41801}, {'id': 45821}, {'id': 47401}, {'id': 47411}, {'id': 52361}, {'id': 52596}, {'id': 53901}, {'id': 54446}, {'id': 54646}, {'id': 55736}, {'id': 56786}, {'id': 57061}, {'id': 60236}, {'id': 60351}, {'id': 60816}, {'id': 63606}, {'id': 65368}, {'id': 73221}, {'id': 73731}, {'id': 73741}, {'id': 91}, {'id': 2623}, {'id': 3011}, {'id': 3941}, {'id': 4046}, {'id': 5016}, {'id': 5676}, {'id': 7111}, {'id': 7116}, {'id': 7451}, {'id': 9056}, {'id': 10981}, {'id': 11656}, {'id': 11941}, {'id': 12751}, {'id': 13401}, {'id': 14081}, {'id': 14306}, {'id': 15306}, {'id': 15451}, {'id': 17386}, {'id': 17811}, {'id': 19611}, {'id': 22436}, {'id': 22476}, {'id': 24011}, {'id': 24306}, {'id': 25081}, {'id': 27521}, {'id': 33816}, {'id': 40056}, {'id': 28311}, {'id': 29846}, {'id': 30061}, {'id': 30211}, {'id': 30536}, {'id': 30571}, {'id': 20391}, {'id': 32571}, {'id': 33016}, {'id': 36211}, {'id': 37586}, {'id': 40057}, {'id': 39661}, {'id': 39956}, {'id': 40466}, {'id': 42799}, {'id': 43751}, {'id': 44321}, {'id': 28296}, {'id': 34241}, {'id': 46861}, {'id': 26971}, {'id': 2366}, {'id': 48026}, {'id': 49236}, {'id': 50311}, {'id': 52766}, {'id': 52791}, {'id': 55006}, {'id': 55131}, {'id': 58231}, {'id': 59051}, {'id': 42936}, {'id': 61396}, {'id': 62566}, {'id': 63721}, {'id': 67724}, {'id': 69701}, {'id': 72781}, {'id': 73841}, {'id': 14941}, {'id': 20691}, {'id': 39371}, {'id': 42171}, {'id': 54526}, {'id': 46681}, {'id': 51241}, {'id': 64663}, {'id': 70526}, {'id': 1326}, {'id': 2401}, {'id': 3291}, {'id': 4001}, {'id': 8116}, {'id': 8831}, {'id': 9461}, {'id': 10196}, {'id': 12706}, {'id': 13281}, {'id': 22243}, {'id': 18184}, {'id': 18736}, {'id': 23231}, {'id': 6141}, {'id': 29236}, {'id': 29861}, {'id': 32336}, {'id': 33086}, {'id': 34446}, {'id': 35221}, {'id': 35041}, {'id': 37056}, {'id': 38231}, {'id': 40456}, {'id': 41344}, {'id': 42041}, {'id': 42046}, {'id': 42797}, {'id': 45553}, {'id': 46851}, {'id': 48266}, {'id': 49221}, {'id': 55881}, {'id': 56826}, {'id': 56941}, {'id': 61526}, {'id': 62731}, {'id': 63966}, {'id': 66911}, {'id': 68251}, {'id': 68481}, {'id': 68546}, {'id': 71226}, {'id': 71466}, {'id': 1136}, {'id': 1456}, {'id': 1596}, {'id': 2106}, {'id': 3163}, {'id': 4646}, {'id': 5396}, {'id': 8456}, {'id': 11731}, {'id': 14476}, {'id': 18001}, {'id': 19416}, {'id': 22741}, {'id': 23256}, {'id': 23731}, {'id': 24921}, {'id': 35046}, {'id': 35311}, {'id': 37656}, {'id': 39466}, {'id': 39566}, {'id': 40901}, {'id': 41658}, {'id': 42536}, {'id': 42741}, {'id': 44361}, {'id': 45893}, {'id': 47416}, {'id': 49901}, {'id': 50661}, {'id': 50806}, {'id': 54966}, {'id': 56216}, {'id': 58701}, {'id': 61046}, {'id': 63391}, {'id': 65696}, {'id': 69008}, {'id': 69081}, {'id': 70641}, {'id': 8956}, {'id': 9586}, {'id': 9611}, {'id': 13741}, {'id': 13806}, {'id': 16581}, {'id': 18621}, {'id': 19941}, {'id': 20101}, {'id': 21051}, {'id': 21326}, {'id': 28556}, {'id': 30666}, {'id': 31306}, {'id': 32361}, {'id': 33141}, {'id': 33376}, {'id': 34646}, {'id': 35946}, {'id': 37591}, {'id': 14686}, {'id': 22266}, {'id': 28563}, {'id': 22271}, {'id': 41006}, {'id': 41521}, {'id': 43091}, {'id': 43991}, {'id': 46746}, {'id': 48806}, {'id': 51961}, {'id': 52096}, {'id': 53806}, {'id': 53996}, {'id': 55576}, {'id': 55956}, {'id': 56606}, {'id': 56696}, {'id': 57526}, {'id': 58046}, {'id': 58196}, {'id': 66498}, {'id': 16166}, {'id': 18951}, {'id': 22546}, {'id': 58356}, {'id': 71196}, {'id': 986}, {'id': 2711}, {'id': 4311}, {'id': 4369}, {'id': 5791}, {'id': 7651}, {'id': 8016}, {'id': 8721}, {'id': 9218}, {'id': 10026}, {'id': 12721}, {'id': 14691}, {'id': 16356}, {'id': 3106}, {'id': 20756}, {'id': 21276}, {'id': 21301}, {'id': 22406}, {'id': 22766}, {'id': 23121}, {'id': 23598}, {'id': 26856}, {'id': 4367}, {'id': 27776}, {'id': 29076}, {'id': 29411}, {'id': 32576}, {'id': 32686}, {'id': 35996}, {'id': 40296}, {'id': 29071}, {'id': 44051}, {'id': 44161}, {'id': 49241}, {'id': 45036}, {'id': 45366}, {'id': 71096}, {'id': 46101}, {'id': 46946}, {'id': 9288}, {'id': 65551}, {'id': 69858}, {'id': 47811}, {'id': 48031}, {'id': 48116}, {'id': 51193}, {'id': 52801}, {'id': 54166}, {'id': 55731}, {'id': 45936}, {'id': 71101}, {'id': 57756}, {'id': 58531}, {'id': 33646}, {'id': 60001}, {'id': 60836}, {'id': 61561}, {'id': 45941}, {'id': 63656}, {'id': 64516}, {'id': 65483}, {'id': 65938}, {'id': 66136}, {'id': 66256}, {'id': 66576}, {'id': 67036}, {'id': 68591}, {'id': 69901}, {'id': 70561}, {'id': 71081}, {'id': 52156}, {'id': 1906}, {'id': 8081}, {'id': 9741}, {'id': 12676}, {'id': 13531}, {'id': 17906}, {'id': 21011}, {'id': 25441}, {'id': 29931}, {'id': 30696}, {'id': 34821}, {'id': 40511}, {'id': 42251}, {'id': 43196}, {'id': 45656}, {'id': 51576}, {'id': 52566}, {'id': 56681}, {'id': 58171}, {'id': 58191}, {'id': 60031}, {'id': 60896}, {'id': 63696}, {'id': 67171}]\n"
     ]
    }
   ],
   "source": [
    "# Exercise 2\n",
    "# Write a script that displays the information\n",
    "# of the county \"Derbyshire\".\n",
    "\n",
    "#######################################################\n",
    "################## YOUR ANSWER HERE ##################\n",
    "#######################################################\n",
    "\n",
    "response = requests.get('https://opendomesday.org/api/1.0/county')\n",
    "counties = response.json()\n",
    "\n",
    "for county in counties:\n",
    "    if county.get('name') == \"Derbyshire\":\n",
    "        derbyshire = county \n",
    "        break\n",
    "\n",
    "for key, item in derbyshire.items():\n",
    "    print(key, item)"
   ]
  },
  {
   "cell_type": "code",
   "execution_count": 17,
   "metadata": {},
   "outputs": [
    {
     "name": "stdout",
     "output_type": "stream",
     "text": [
      "[{'id': 1036}, {'id': 2558}, {'id': 3016}, {'id': 4791}, {'id': 6093}, {'id': 8701}, {'id': 8951}, {'id': 9101}, {'id': 11441}, {'id': 10771}, {'id': 16116}, {'id': 20861}, {'id': 22251}, {'id': 22571}, {'id': 22611}, {'id': 24741}, {'id': 25536}, {'id': 19061}, {'id': 30246}, {'id': 31896}, {'id': 32521}, {'id': 32981}, {'id': 33916}, {'id': 41346}, {'id': 41788}, {'id': 41801}, {'id': 45821}, {'id': 47401}, {'id': 47411}, {'id': 52361}, {'id': 52596}, {'id': 53901}, {'id': 54446}, {'id': 54646}, {'id': 55736}, {'id': 56786}, {'id': 57061}, {'id': 60236}, {'id': 60351}, {'id': 60816}, {'id': 63606}, {'id': 65368}, {'id': 73221}, {'id': 73731}, {'id': 73741}, {'id': 91}, {'id': 2623}, {'id': 3011}, {'id': 3941}, {'id': 4046}, {'id': 5016}, {'id': 5676}, {'id': 7111}, {'id': 7116}, {'id': 7451}, {'id': 9056}, {'id': 10981}, {'id': 11656}, {'id': 11941}, {'id': 12751}, {'id': 13401}, {'id': 14081}, {'id': 14306}, {'id': 15306}, {'id': 15451}, {'id': 17386}, {'id': 17811}, {'id': 19611}, {'id': 22436}, {'id': 22476}, {'id': 24011}, {'id': 24306}, {'id': 25081}, {'id': 27521}, {'id': 33816}, {'id': 40056}, {'id': 28311}, {'id': 29846}, {'id': 30061}, {'id': 30211}, {'id': 30536}, {'id': 30571}, {'id': 20391}, {'id': 32571}, {'id': 33016}, {'id': 36211}, {'id': 37586}, {'id': 40057}, {'id': 39661}, {'id': 39956}, {'id': 40466}, {'id': 42799}, {'id': 43751}, {'id': 44321}, {'id': 28296}, {'id': 34241}, {'id': 46861}, {'id': 26971}, {'id': 2366}, {'id': 48026}, {'id': 49236}, {'id': 50311}, {'id': 52766}, {'id': 52791}, {'id': 55006}, {'id': 55131}, {'id': 58231}, {'id': 59051}, {'id': 42936}, {'id': 61396}, {'id': 62566}, {'id': 63721}, {'id': 67724}, {'id': 69701}, {'id': 72781}, {'id': 73841}, {'id': 14941}, {'id': 20691}, {'id': 39371}, {'id': 42171}, {'id': 54526}, {'id': 46681}, {'id': 51241}, {'id': 64663}, {'id': 70526}, {'id': 1326}, {'id': 2401}, {'id': 3291}, {'id': 4001}, {'id': 8116}, {'id': 8831}, {'id': 9461}, {'id': 10196}, {'id': 12706}, {'id': 13281}, {'id': 22243}, {'id': 18184}, {'id': 18736}, {'id': 23231}, {'id': 6141}, {'id': 29236}, {'id': 29861}, {'id': 32336}, {'id': 33086}, {'id': 34446}, {'id': 35221}, {'id': 35041}, {'id': 37056}, {'id': 38231}, {'id': 40456}, {'id': 41344}, {'id': 42041}, {'id': 42046}, {'id': 42797}, {'id': 45553}, {'id': 46851}, {'id': 48266}, {'id': 49221}, {'id': 55881}, {'id': 56826}, {'id': 56941}, {'id': 61526}, {'id': 62731}, {'id': 63966}, {'id': 66911}, {'id': 68251}, {'id': 68481}, {'id': 68546}, {'id': 71226}, {'id': 71466}, {'id': 1136}, {'id': 1456}, {'id': 1596}, {'id': 2106}, {'id': 3163}, {'id': 4646}, {'id': 5396}, {'id': 8456}, {'id': 11731}, {'id': 14476}, {'id': 18001}, {'id': 19416}, {'id': 22741}, {'id': 23256}, {'id': 23731}, {'id': 24921}, {'id': 35046}, {'id': 35311}, {'id': 37656}, {'id': 39466}, {'id': 39566}, {'id': 40901}, {'id': 41658}, {'id': 42536}, {'id': 42741}, {'id': 44361}, {'id': 45893}, {'id': 47416}, {'id': 49901}, {'id': 50661}, {'id': 50806}, {'id': 54966}, {'id': 56216}, {'id': 58701}, {'id': 61046}, {'id': 63391}, {'id': 65696}, {'id': 69008}, {'id': 69081}, {'id': 70641}, {'id': 8956}, {'id': 9586}, {'id': 9611}, {'id': 13741}, {'id': 13806}, {'id': 16581}, {'id': 18621}, {'id': 19941}, {'id': 20101}, {'id': 21051}, {'id': 21326}, {'id': 28556}, {'id': 30666}, {'id': 31306}, {'id': 32361}, {'id': 33141}, {'id': 33376}, {'id': 34646}, {'id': 35946}, {'id': 37591}, {'id': 14686}, {'id': 22266}, {'id': 28563}, {'id': 22271}, {'id': 41006}, {'id': 41521}, {'id': 43091}, {'id': 43991}, {'id': 46746}, {'id': 48806}, {'id': 51961}, {'id': 52096}, {'id': 53806}, {'id': 53996}, {'id': 55576}, {'id': 55956}, {'id': 56606}, {'id': 56696}, {'id': 57526}, {'id': 58046}, {'id': 58196}, {'id': 66498}, {'id': 16166}, {'id': 18951}, {'id': 22546}, {'id': 58356}, {'id': 71196}, {'id': 986}, {'id': 2711}, {'id': 4311}, {'id': 4369}, {'id': 5791}, {'id': 7651}, {'id': 8016}, {'id': 8721}, {'id': 9218}, {'id': 10026}, {'id': 12721}, {'id': 14691}, {'id': 16356}, {'id': 3106}, {'id': 20756}, {'id': 21276}, {'id': 21301}, {'id': 22406}, {'id': 22766}, {'id': 23121}, {'id': 23598}, {'id': 26856}, {'id': 4367}, {'id': 27776}, {'id': 29076}, {'id': 29411}, {'id': 32576}, {'id': 32686}, {'id': 35996}, {'id': 40296}, {'id': 29071}, {'id': 44051}, {'id': 44161}, {'id': 49241}, {'id': 45036}, {'id': 45366}, {'id': 71096}, {'id': 46101}, {'id': 46946}, {'id': 9288}, {'id': 65551}, {'id': 69858}, {'id': 47811}, {'id': 48031}, {'id': 48116}, {'id': 51193}, {'id': 52801}, {'id': 54166}, {'id': 55731}, {'id': 45936}, {'id': 71101}, {'id': 57756}, {'id': 58531}, {'id': 33646}, {'id': 60001}, {'id': 60836}, {'id': 61561}, {'id': 45941}, {'id': 63656}, {'id': 64516}, {'id': 65483}, {'id': 65938}, {'id': 66136}, {'id': 66256}, {'id': 66576}, {'id': 67036}, {'id': 68591}, {'id': 69901}, {'id': 70561}, {'id': 71081}, {'id': 52156}, {'id': 1906}, {'id': 8081}, {'id': 9741}, {'id': 12676}, {'id': 13531}, {'id': 17906}, {'id': 21011}, {'id': 25441}, {'id': 29931}, {'id': 30696}, {'id': 34821}, {'id': 40511}, {'id': 42251}, {'id': 43196}, {'id': 45656}, {'id': 51576}, {'id': 52566}, {'id': 56681}, {'id': 58171}, {'id': 58191}, {'id': 60031}, {'id': 60896}, {'id': 63696}, {'id': 67171}]\n"
     ]
    }
   ],
   "source": [
    "# Exercise 3\n",
    "# Now that we have the ids for all the places in Derbyshire, we can load all their details...\n",
    "# And from their details, we can list all the details of their manors.\n",
    "# Go fetch the data!\n",
    "# P.S.: remember to save the data to avoid downloading it every time\n",
    "\n",
    "#######################################################\n",
    "################## YOUR ANSWER HERE ###################\n",
    "#######################################################\n",
    "\n",
    "\n",
    "places_in_county = derbyshire.get('places_in_county')\n",
    "\n",
    "print(places_in_county)"
   ]
  },
  {
   "cell_type": "code",
   "execution_count": 18,
   "metadata": {},
   "outputs": [],
   "source": [
    "place_details = []\n",
    "\n",
    "\n",
    "for place in places_in_county:\n",
    "    place_id = place['id']\n",
    "    response = requests.get(f'https://opendomesday.org/api/1.0/place/{place_id}')\n",
    "    place_detail = response.json()\n",
    "    place_details.append(place_detail)"
   ]
  },
  {
   "cell_type": "code",
   "execution_count": 19,
   "metadata": {},
   "outputs": [
    {
     "name": "stdout",
     "output_type": "stream",
     "text": [
      "{'id': 1036, 'vill': 'Alkmonton', 'vill_slug': 'alkmonton', 'phillimore': '6,35', 'location': 'SRID=4326;POINT (-1.726146307392585 52.94357672901474)', 'grid': 'SK1838', 'status': None, 'xrefs': None, 'county': [{'id': 'dby'}], 'area': [], 'hundred': [{'id': 'appletree'}], 'manors': [{'id': 13038}]}\n"
     ]
    }
   ],
   "source": [
    "print(place_details[0])"
   ]
  },
  {
   "cell_type": "code",
   "execution_count": 20,
   "metadata": {},
   "outputs": [],
   "source": [
    "manor_ids = set()\n",
    "\n",
    "for place_detail in place_details:\n",
    "    for manor in place_detail.get('manors', []):\n",
    "        manor_ids.add(manor['id'])\n",
    "\n",
    "manor_details = []\n",
    "\n",
    "for manor_id in manor_ids:\n",
    "    response = requests.get(f'https://opendomesday.org/api/1.0/manor/{manor_id}')\n",
    "    manor_detail = response.json()\n",
    "    manor_details.append(manor_detail)\n"
   ]
  },
  {
   "cell_type": "code",
   "execution_count": null,
   "metadata": {},
   "outputs": [],
   "source": [
    "for manor_detail in manor_details:\n",
    "    for key, items in manor_detail.items():\n",
    "        print(key, items)\n",
    "    print(\"\\n\\n\")"
   ]
  },
  {
   "cell_type": "code",
   "execution_count": 22,
   "metadata": {},
   "outputs": [
    {
     "name": "stdout",
     "output_type": "stream",
     "text": [
      "[{'id': 10822, 'moneyPaid': 7.0, 'number of ploughs': 5.0}, {'id': 10823, 'moneyPaid': 6.0, 'number of ploughs': 3.0}, {'id': 10831, 'moneyPaid': 3.0, 'number of ploughs': None}, {'id': 10837, 'moneyPaid': 1.0, 'number of ploughs': None}, {'id': 12969, 'moneyPaid': 0.37, 'number of ploughs': 0.5}, {'id': 12944, 'moneyPaid': 6.12, 'number of ploughs': 6.0}, {'id': 12945, 'moneyPaid': 2.0, 'number of ploughs': 2.0}, {'id': 12946, 'moneyPaid': 0.5, 'number of ploughs': None}, {'id': 12947, 'moneyPaid': 0.2, 'number of ploughs': 1.0}, {'id': 12948, 'moneyPaid': 0.33, 'number of ploughs': 0.25}, {'id': 12949, 'moneyPaid': 1.0, 'number of ploughs': 1.0}, {'id': 12950, 'moneyPaid': 1.0, 'number of ploughs': 1.0}, {'id': 12951, 'moneyPaid': 0.25, 'number of ploughs': None}, {'id': 12952, 'moneyPaid': 0.9, 'number of ploughs': 1.5}, {'id': 12953, 'moneyPaid': 2.0, 'number of ploughs': 3.0}, {'id': 12954, 'moneyPaid': 3.25, 'number of ploughs': 3.0}, {'id': 12955, 'moneyPaid': 9.0, 'number of ploughs': 7.0}, {'id': 12956, 'moneyPaid': 21.0, 'number of ploughs': 22.0}, {'id': 12957, 'moneyPaid': 17.0, 'number of ploughs': 17.0}, {'id': 12958, 'moneyPaid': 4.0, 'number of ploughs': 4.0}, {'id': 12959, 'moneyPaid': 6.0, 'number of ploughs': 7.0}, {'id': 12960, 'moneyPaid': 1.16, 'number of ploughs': None}, {'id': 12961, 'moneyPaid': 7.0, 'number of ploughs': 5.0}, {'id': 12962, 'moneyPaid': 13.81, 'number of ploughs': 18.0}, {'id': 12963, 'moneyPaid': 6.0, 'number of ploughs': 8.0}, {'id': 12964, 'moneyPaid': 2.0, 'number of ploughs': 2.0}, {'id': 12965, 'moneyPaid': 2.33, 'number of ploughs': 2.0}, {'id': 12966, 'moneyPaid': 0.5, 'number of ploughs': 0.5}, {'id': 12967, 'moneyPaid': 2.0, 'number of ploughs': 3.0}, {'id': 12968, 'moneyPaid': 3.0, 'number of ploughs': 3.0}, {'id': 11549, 'moneyPaid': 1.0, 'number of ploughs': 9.0}, {'id': 12970, 'moneyPaid': 18.0, 'number of ploughs': 18.0}, {'id': 12971, 'moneyPaid': 23.0, 'number of ploughs': 22.0}, {'id': 12972, 'moneyPaid': 10.0, 'number of ploughs': 10.0}, {'id': 12973, 'moneyPaid': 6.0, 'number of ploughs': 0.0}, {'id': 12974, 'moneyPaid': 0.75, 'number of ploughs': 0.75}, {'id': 12975, 'moneyPaid': 1.25, 'number of ploughs': 1.25}, {'id': 12976, 'moneyPaid': 2.0, 'number of ploughs': 2.0}, {'id': 12977, 'moneyPaid': 0.5, 'number of ploughs': 0.5}, {'id': 12978, 'moneyPaid': 1.0, 'number of ploughs': None}, {'id': 12979, 'moneyPaid': 3.0, 'number of ploughs': 3.0}, {'id': 12980, 'moneyPaid': 10.31, 'number of ploughs': 10.31}, {'id': 12981, 'moneyPaid': 0.81, 'number of ploughs': None}, {'id': 12983, 'moneyPaid': 12.0, 'number of ploughs': 12.0}, {'id': 12984, 'moneyPaid': 12.0, 'number of ploughs': 12.0}, {'id': 12985, 'moneyPaid': 5.25, 'number of ploughs': 5.0}, {'id': 12987, 'moneyPaid': 16.25, 'number of ploughs': 15.0}, {'id': 12988, 'moneyPaid': 5.0, 'number of ploughs': 5.0}, {'id': 12989, 'moneyPaid': 2.0, 'number of ploughs': 3.0}, {'id': 12990, 'moneyPaid': 2.0, 'number of ploughs': 3.0}, {'id': 12991, 'moneyPaid': 4.25, 'number of ploughs': 4.0}, {'id': 12992, 'moneyPaid': 2.0, 'number of ploughs': 2.0}, {'id': 12993, 'moneyPaid': 0.66, 'number of ploughs': None}, {'id': 12995, 'moneyPaid': 9.5, 'number of ploughs': 9.0}, {'id': 12996, 'moneyPaid': 4.0, 'number of ploughs': 4.0}, {'id': 12998, 'moneyPaid': 4.0, 'number of ploughs': 5.0}, {'id': 12999, 'moneyPaid': 0.68, 'number of ploughs': 0.75}, {'id': 13000, 'moneyPaid': 2.0, 'number of ploughs': 2.0}, {'id': 13001, 'moneyPaid': 1.5, 'number of ploughs': 2.0}, {'id': 10954, 'moneyPaid': 2.0, 'number of ploughs': None}, {'id': 13002, 'moneyPaid': 1.0, 'number of ploughs': 2.0}, {'id': 13004, 'moneyPaid': 0.62, 'number of ploughs': 1.0}, {'id': 13005, 'moneyPaid': 1.5, 'number of ploughs': 1.5}, {'id': 13006, 'moneyPaid': 0.5, 'number of ploughs': 0.5}, {'id': 13007, 'moneyPaid': 2.0, 'number of ploughs': 2.0}, {'id': 13008, 'moneyPaid': 4.0, 'number of ploughs': 4.0}, {'id': 13009, 'moneyPaid': 4.0, 'number of ploughs': 4.0}, {'id': 13010, 'moneyPaid': 4.0, 'number of ploughs': 4.0}, {'id': 13011, 'moneyPaid': 4.0, 'number of ploughs': 4.0}, {'id': 13012, 'moneyPaid': 2.0, 'number of ploughs': 2.0}, {'id': 13013, 'moneyPaid': 2.0, 'number of ploughs': 2.0}, {'id': 13014, 'moneyPaid': 2.0, 'number of ploughs': 2.0}, {'id': 13015, 'moneyPaid': 6.0, 'number of ploughs': 6.0}, {'id': 13016, 'moneyPaid': 3.0, 'number of ploughs': 2.0}, {'id': 13017, 'moneyPaid': 3.0, 'number of ploughs': 8.0}, {'id': 13018, 'moneyPaid': 1.0, 'number of ploughs': 1.0}, {'id': 13019, 'moneyPaid': 1.0, 'number of ploughs': 1.0}, {'id': 13020, 'moneyPaid': 3.0, 'number of ploughs': 3.0}, {'id': 13021, 'moneyPaid': 4.0, 'number of ploughs': 4.0}, {'id': 13022, 'moneyPaid': 2.0, 'number of ploughs': 1.5}, {'id': 13023, 'moneyPaid': 1.0, 'number of ploughs': 1.0}, {'id': 13070, 'moneyPaid': 5.0, 'number of ploughs': 5.0}, {'id': 13025, 'moneyPaid': 4.0, 'number of ploughs': 4.0}, {'id': 13026, 'moneyPaid': 2.0, 'number of ploughs': 2.0}, {'id': 13027, 'moneyPaid': 2.0, 'number of ploughs': 3.0}, {'id': 13028, 'moneyPaid': 4.0, 'number of ploughs': 6.0}, {'id': 13029, 'moneyPaid': 2.5, 'number of ploughs': 2.5}, {'id': 13030, 'moneyPaid': 6.0, 'number of ploughs': 7.0}, {'id': 13031, 'moneyPaid': 2.08, 'number of ploughs': 2.0}, {'id': 13032, 'moneyPaid': 1.0, 'number of ploughs': 1.5}, {'id': 13033, 'moneyPaid': 1.93, 'number of ploughs': 2.0}, {'id': 13034, 'moneyPaid': 2.0, 'number of ploughs': 2.0}, {'id': 13035, 'moneyPaid': 2.0, 'number of ploughs': 2.0}, {'id': 13036, 'moneyPaid': 1.0, 'number of ploughs': 1.0}, {'id': 13037, 'moneyPaid': 4.0, 'number of ploughs': 4.0}, {'id': 13038, 'moneyPaid': 1.5, 'number of ploughs': 2.0}, {'id': 13039, 'moneyPaid': 1.0, 'number of ploughs': 1.0}, {'id': 13040, 'moneyPaid': 2.0, 'number of ploughs': 2.0}, {'id': 13041, 'moneyPaid': 1.5, 'number of ploughs': 2.0}, {'id': 13042, 'moneyPaid': 2.0, 'number of ploughs': 3.0}, {'id': 13043, 'moneyPaid': 2.0, 'number of ploughs': 2.0}, {'id': 13044, 'moneyPaid': 0.37, 'number of ploughs': 0.5}, {'id': 13045, 'moneyPaid': 1.5, 'number of ploughs': 1.5}, {'id': 13046, 'moneyPaid': 1.93, 'number of ploughs': 2.0}, {'id': 13047, 'moneyPaid': 1.0, 'number of ploughs': 2.0}, {'id': 13048, 'moneyPaid': 2.0, 'number of ploughs': 2.0}, {'id': 13049, 'moneyPaid': 3.0, 'number of ploughs': 4.0}, {'id': 13050, 'moneyPaid': 2.0, 'number of ploughs': 2.25}, {'id': 13051, 'moneyPaid': 1.0, 'number of ploughs': None}, {'id': 13052, 'moneyPaid': 1.0, 'number of ploughs': 1.0}, {'id': 13053, 'moneyPaid': 1.0, 'number of ploughs': 2.0}, {'id': 13054, 'moneyPaid': 4.0, 'number of ploughs': 4.0}, {'id': 13055, 'moneyPaid': 0.75, 'number of ploughs': 1.0}, {'id': 13056, 'moneyPaid': 4.0, 'number of ploughs': 4.0}, {'id': 13057, 'moneyPaid': 2.0, 'number of ploughs': 2.0}, {'id': 13058, 'moneyPaid': 2.0, 'number of ploughs': 2.0}, {'id': 13059, 'moneyPaid': 0.66, 'number of ploughs': 0.75}, {'id': 13060, 'moneyPaid': 3.0, 'number of ploughs': 3.0}, {'id': 13061, 'moneyPaid': 2.0, 'number of ploughs': 2.0}, {'id': 13062, 'moneyPaid': 2.0, 'number of ploughs': 2.0}, {'id': 13063, 'moneyPaid': 0.62, 'number of ploughs': 1.0}, {'id': 13064, 'moneyPaid': 1.5, 'number of ploughs': 1.5}, {'id': 13065, 'moneyPaid': 1.5, 'number of ploughs': 1.5}, {'id': 13066, 'moneyPaid': 1.5, 'number of ploughs': 3.0}, {'id': 13067, 'moneyPaid': 1.5, 'number of ploughs': 3.0}, {'id': 11013, 'moneyPaid': 2.0, 'number of ploughs': None}, {'id': 13069, 'moneyPaid': 7.16, 'number of ploughs': 7.16}, {'id': 13068, 'moneyPaid': 0.37, 'number of ploughs': 1.0}, {'id': 13071, 'moneyPaid': 4.58, 'number of ploughs': 4.58}, {'id': 13072, 'moneyPaid': 5.0, 'number of ploughs': 5.0}, {'id': 13073, 'moneyPaid': 0.66, 'number of ploughs': None}, {'id': 13074, 'moneyPaid': 2.0, 'number of ploughs': 2.0}, {'id': 13075, 'moneyPaid': 3.0, 'number of ploughs': 3.0}, {'id': 13076, 'moneyPaid': 1.0, 'number of ploughs': 1.0}, {'id': 13077, 'moneyPaid': 1.0, 'number of ploughs': 1.0}, {'id': 13078, 'moneyPaid': 0.5, 'number of ploughs': None}, {'id': 13079, 'moneyPaid': 1.5, 'number of ploughs': 3.0}, {'id': 13080, 'moneyPaid': 2.0, 'number of ploughs': 2.0}, {'id': 13081, 'moneyPaid': 1.0, 'number of ploughs': 2.0}, {'id': 13082, 'moneyPaid': 4.0, 'number of ploughs': 4.0}, {'id': 13083, 'moneyPaid': 2.0, 'number of ploughs': 2.0}, {'id': 13084, 'moneyPaid': 1.0, 'number of ploughs': None}, {'id': 13085, 'moneyPaid': 0.43, 'number of ploughs': None}, {'id': 13086, 'moneyPaid': 1.0, 'number of ploughs': 1.0}, {'id': 13087, 'moneyPaid': 0.5, 'number of ploughs': 0.5}, {'id': 13088, 'moneyPaid': 1.0, 'number of ploughs': 1.0}, {'id': 13089, 'moneyPaid': 4.0, 'number of ploughs': 3.0}, {'id': 13090, 'moneyPaid': 1.0, 'number of ploughs': 1.0}, {'id': 13091, 'moneyPaid': 0.37, 'number of ploughs': 1.0}, {'id': 13092, 'moneyPaid': 0.87, 'number of ploughs': 1.0}, {'id': 13093, 'moneyPaid': 2.0, 'number of ploughs': 1.0}, {'id': 13094, 'moneyPaid': 1.0, 'number of ploughs': 1.0}, {'id': 13095, 'moneyPaid': 1.0, 'number of ploughs': 2.0}, {'id': 13096, 'moneyPaid': 1.0, 'number of ploughs': None}, {'id': 13097, 'moneyPaid': 2.0, 'number of ploughs': 3.0}, {'id': 13098, 'moneyPaid': 2.0, 'number of ploughs': 3.0}, {'id': 13099, 'moneyPaid': 4.0, 'number of ploughs': 6.0}, {'id': 13100, 'moneyPaid': 2.0, 'number of ploughs': 4.0}, {'id': 13101, 'moneyPaid': 5.0, 'number of ploughs': 5.0}, {'id': 13102, 'moneyPaid': 3.0, 'number of ploughs': 4.0}, {'id': 13103, 'moneyPaid': 0.66, 'number of ploughs': None}, {'id': 13104, 'moneyPaid': 2.0, 'number of ploughs': 4.0}, {'id': 11561, 'moneyPaid': 8.0, 'number of ploughs': 4.0}, {'id': 13106, 'moneyPaid': 3.0, 'number of ploughs': 4.0}, {'id': 13107, 'moneyPaid': 1.0, 'number of ploughs': 1.0}, {'id': 13108, 'moneyPaid': 0.5, 'number of ploughs': 1.0}, {'id': 13109, 'moneyPaid': 2.0, 'number of ploughs': 2.0}, {'id': 13110, 'moneyPaid': 2.5, 'number of ploughs': 2.5}, {'id': 13111, 'moneyPaid': 7.0, 'number of ploughs': 7.0}, {'id': 13112, 'moneyPaid': 2.0, 'number of ploughs': 2.0}, {'id': 13113, 'moneyPaid': 2.0, 'number of ploughs': 2.0}, {'id': 13114, 'moneyPaid': 3.5, 'number of ploughs': 3.5}, {'id': 13115, 'moneyPaid': 2.0, 'number of ploughs': 2.0}, {'id': 13116, 'moneyPaid': 1.0, 'number of ploughs': 1.0}, {'id': 13117, 'moneyPaid': 1.0, 'number of ploughs': 1.0}, {'id': 13118, 'moneyPaid': 2.0, 'number of ploughs': 3.0}, {'id': 13120, 'moneyPaid': 1.5, 'number of ploughs': 3.0}, {'id': 13121, 'moneyPaid': 0.47, 'number of ploughs': 0.5}, {'id': 13122, 'moneyPaid': 2.35, 'number of ploughs': 4.0}, {'id': 13123, 'moneyPaid': 1.0, 'number of ploughs': 2.0}, {'id': 13124, 'moneyPaid': 1.0, 'number of ploughs': 3.0}, {'id': 13125, 'moneyPaid': 0.37, 'number of ploughs': 2.0}, {'id': 13127, 'moneyPaid': 10.0, 'number of ploughs': 14.0}, {'id': 13128, 'moneyPaid': 1.0, 'number of ploughs': 1.0}, {'id': 13129, 'moneyPaid': 3.31, 'number of ploughs': 3.31}, {'id': 13130, 'moneyPaid': 4.0, 'number of ploughs': 6.0}, {'id': 13131, 'moneyPaid': 2.12, 'number of ploughs': 0.12}, {'id': 13132, 'moneyPaid': 4.0, 'number of ploughs': 4.0}, {'id': 13134, 'moneyPaid': 4.0, 'number of ploughs': 5.0}, {'id': 13135, 'moneyPaid': 2.0, 'number of ploughs': 3.0}, {'id': 13136, 'moneyPaid': 0.5, 'number of ploughs': 0.5}, {'id': 13137, 'moneyPaid': 6.25, 'number of ploughs': 8.0}, {'id': 13138, 'moneyPaid': 6.25, 'number of ploughs': 8.0}, {'id': 13139, 'moneyPaid': 4.25, 'number of ploughs': 5.0}, {'id': 13140, 'moneyPaid': 1.0, 'number of ploughs': 2.0}, {'id': 13141, 'moneyPaid': 0.31, 'number of ploughs': 0.5}, {'id': 13142, 'moneyPaid': 2.0, 'number of ploughs': 2.0}, {'id': 13143, 'moneyPaid': 3.0, 'number of ploughs': 5.0}, {'id': 13144, 'moneyPaid': 0.5, 'number of ploughs': 1.0}, {'id': 13145, 'moneyPaid': 0.5, 'number of ploughs': 1.0}, {'id': 13146, 'moneyPaid': 0.43, 'number of ploughs': 1.0}, {'id': 13147, 'moneyPaid': 0.25, 'number of ploughs': 0.5}, {'id': 13148, 'moneyPaid': 0.5, 'number of ploughs': 0.5}, {'id': 13149, 'moneyPaid': 1.0, 'number of ploughs': 1.0}, {'id': 13150, 'moneyPaid': 4.0, 'number of ploughs': 4.0}, {'id': 13151, 'moneyPaid': 2.0, 'number of ploughs': 2.0}, {'id': 13152, 'moneyPaid': 1.0, 'number of ploughs': 2.0}, {'id': 13153, 'moneyPaid': 3.0, 'number of ploughs': 4.0}, {'id': 13154, 'moneyPaid': 4.0, 'number of ploughs': 6.0}, {'id': 13155, 'moneyPaid': 4.0, 'number of ploughs': 4.0}, {'id': 13156, 'moneyPaid': 1.16, 'number of ploughs': 1.5}, {'id': 13157, 'moneyPaid': 3.0, 'number of ploughs': 3.0}, {'id': 13158, 'moneyPaid': 2.0, 'number of ploughs': 2.0}, {'id': 13159, 'moneyPaid': 1.5, 'number of ploughs': None}, {'id': 13160, 'moneyPaid': 0.25, 'number of ploughs': 0.5}, {'id': 13162, 'moneyPaid': 1.0, 'number of ploughs': 1.0}, {'id': 13163, 'moneyPaid': 3.0, 'number of ploughs': 4.0}, {'id': 13164, 'moneyPaid': 2.0, 'number of ploughs': 4.0}, {'id': 13165, 'moneyPaid': 1.0, 'number of ploughs': 2.0}, {'id': 13166, 'moneyPaid': 0.83, 'number of ploughs': 1.0}, {'id': 13168, 'moneyPaid': 0.66, 'number of ploughs': 0.5}, {'id': 13169, 'moneyPaid': 4.0, 'number of ploughs': 4.0}, {'id': 13170, 'moneyPaid': 1.31, 'number of ploughs': 1.5}, {'id': 13171, 'moneyPaid': 0.9, 'number of ploughs': 1.0}, {'id': 13172, 'moneyPaid': 0.06, 'number of ploughs': None}, {'id': 13174, 'moneyPaid': 8.75, 'number of ploughs': 8.75}, {'id': 13175, 'moneyPaid': 2.0, 'number of ploughs': 2.0}, {'id': 13177, 'moneyPaid': 4.0, 'number of ploughs': 4.0}, {'id': 13178, 'moneyPaid': 0.75, 'number of ploughs': 1.0}, {'id': 13179, 'moneyPaid': 1.0, 'number of ploughs': 1.0}, {'id': 13180, 'moneyPaid': 2.0, 'number of ploughs': 2.0}, {'id': 13181, 'moneyPaid': 0.37, 'number of ploughs': 0.5}, {'id': 13182, 'moneyPaid': 1.0, 'number of ploughs': 1.0}, {'id': 13183, 'moneyPaid': 2.0, 'number of ploughs': 2.0}, {'id': 13184, 'moneyPaid': 1.0, 'number of ploughs': 1.0}, {'id': 13185, 'moneyPaid': 1.0, 'number of ploughs': 0.5}, {'id': 13186, 'moneyPaid': 0.75, 'number of ploughs': 0.5}, {'id': 13187, 'moneyPaid': 0.5, 'number of ploughs': None}, {'id': 13189, 'moneyPaid': 2.0, 'number of ploughs': 2.0}, {'id': 13191, 'moneyPaid': 3.0, 'number of ploughs': None}, {'id': 13192, 'moneyPaid': 1.33, 'number of ploughs': None}, {'id': 13193, 'moneyPaid': 0.81, 'number of ploughs': 1.5}, {'id': 13194, 'moneyPaid': 0.25, 'number of ploughs': 0.5}, {'id': 13195, 'moneyPaid': 0.25, 'number of ploughs': 1.0}, {'id': 13196, 'moneyPaid': 1.62, 'number of ploughs': 2.0}, {'id': 13197, 'moneyPaid': 0.59, 'number of ploughs': 1.0}, {'id': 13198, 'moneyPaid': 1.25, 'number of ploughs': 2.0}, {'id': 13200, 'moneyPaid': 0.31, 'number of ploughs': 0.62}, {'id': 13201, 'moneyPaid': 0.93, 'number of ploughs': 1.0}, {'id': 13202, 'moneyPaid': 0.25, 'number of ploughs': None}, {'id': 13203, 'moneyPaid': 0.5, 'number of ploughs': 1.0}, {'id': 13204, 'moneyPaid': 0.68, 'number of ploughs': 1.0}, {'id': 13205, 'moneyPaid': 0.87, 'number of ploughs': 1.0}, {'id': 13206, 'moneyPaid': 0.12, 'number of ploughs': None}, {'id': 13207, 'moneyPaid': 0.15, 'number of ploughs': 0.25}, {'id': 13208, 'moneyPaid': 1.0, 'number of ploughs': 1.5}, {'id': 13209, 'moneyPaid': 0.75, 'number of ploughs': 1.0}, {'id': 13210, 'moneyPaid': 5.0, 'number of ploughs': 5.0}, {'id': 13211, 'moneyPaid': 2.0, 'number of ploughs': 3.0}, {'id': 13212, 'moneyPaid': 0.37, 'number of ploughs': None}, {'id': 13213, 'moneyPaid': 0.37, 'number of ploughs': 0.37}, {'id': 13214, 'moneyPaid': 4.0, 'number of ploughs': 5.0}, {'id': 13215, 'moneyPaid': 1.0, 'number of ploughs': 1.0}, {'id': 13216, 'moneyPaid': 0.25, 'number of ploughs': None}, {'id': 13217, 'moneyPaid': 0.59, 'number of ploughs': 0.75}, {'id': 13218, 'moneyPaid': 1.0, 'number of ploughs': 2.0}, {'id': 13219, 'moneyPaid': 0.66, 'number of ploughs': None}, {'id': 13220, 'moneyPaid': 0.5, 'number of ploughs': 0.5}, {'id': 13221, 'moneyPaid': 1.5, 'number of ploughs': 2.0}, {'id': 13222, 'moneyPaid': 0.08, 'number of ploughs': None}, {'id': 13223, 'moneyPaid': 15.12, 'number of ploughs': 8.0}, {'id': 13224, 'moneyPaid': None, 'number of ploughs': None}, {'id': 13225, 'moneyPaid': 2.0, 'number of ploughs': 3.0}, {'id': 13226, 'moneyPaid': None, 'number of ploughs': None}, {'id': 13227, 'moneyPaid': None, 'number of ploughs': None}, {'id': 13228, 'moneyPaid': 1.0, 'number of ploughs': None}, {'id': 13229, 'moneyPaid': None, 'number of ploughs': None}, {'id': 13230, 'moneyPaid': None, 'number of ploughs': None}, {'id': 13231, 'moneyPaid': None, 'number of ploughs': None}, {'id': 13233, 'moneyPaid': 0.12, 'number of ploughs': None}, {'id': 13234, 'moneyPaid': 0.12, 'number of ploughs': None}, {'id': 13024, 'moneyPaid': 0.5, 'number of ploughs': 0.5}]\n"
     ]
    }
   ],
   "source": [
    "# Exercise 4\n",
    "# Now that we have a quantity of raw data, we will extract the interesting parts.  \n",
    "# In our case, we want to count the money paid by each manor and compare it to the number of ploughs it has.  \n",
    "# - Can you find the corresponding json fields?  \n",
    "# - Then, you can list these numbers for each manor in Derbyshire.  \n",
    "# - And format this in an appropriate comma-separated values (CSV) file.\n",
    "\n",
    "#######################################################\n",
    "################## YOUR ANSWER HERE ###################\n",
    "#######################################################\n",
    "\n",
    "manor_moneyPaid_NumberOfPloughs =  []\n",
    "\n",
    "for manor_detail in manor_details:\n",
    "    details = {\n",
    "        \"id\": manor_detail.get('id'),\n",
    "        \"moneyPaid\": manor_detail.get('geld'),\n",
    "        \"number of ploughs\": manor_detail.get('ploughlands')\n",
    "    }\n",
    "    manor_moneyPaid_NumberOfPloughs.append(details)\n",
    "\n",
    "print(manor_moneyPaid_NumberOfPloughs)\n",
    "\n"
   ]
  },
  {
   "cell_type": "code",
   "execution_count": 23,
   "metadata": {},
   "outputs": [
    {
     "name": "stdout",
     "output_type": "stream",
     "text": [
      "The richest manor is the manor with the id: 12971\n"
     ]
    }
   ],
   "source": [
    "# Exercise 5\n",
    "# What is the richest manor in Derbyshire?\n",
    "\n",
    "#######################################################\n",
    "################## YOUR ANSWER HERE ##################\n",
    "#######################################################\n",
    "\n",
    "max_moneyPaid = 0.0\n",
    "\n",
    "for manor in manor_moneyPaid_NumberOfPloughs:\n",
    "    if manor.get('moneyPaid') and manor.get('moneyPaid') > max_moneyPaid:\n",
    "        max_moneyPaid = manor['moneyPaid']\n",
    "        richest_manor = manor\n",
    "\n",
    "print(f\"The richest manor is the manor with the id: {richest_manor['id']}\")\n"
   ]
  },
  {
   "cell_type": "code",
   "execution_count": 24,
   "metadata": {},
   "outputs": [
    {
     "name": "stdout",
     "output_type": "stream",
     "text": [
      "The total amount paid is 728.9799999999999\n"
     ]
    }
   ],
   "source": [
    "# Exercise 6\n",
    "# Give the total value paid by Derbyshire.\n",
    "\n",
    "#######################################################\n",
    "################## YOUR ANSWER HERE ##################\n",
    "#######################################################\n",
    "\n",
    "\n",
    "totalPaid = 0\n",
    "\n",
    "\n",
    "for manor in manor_moneyPaid_NumberOfPloughs:\n",
    "    if manor.get('moneyPaid'):\n",
    "        totalPaid += manor.get('moneyPaid')\n",
    "\n",
    "print(f\"The total amount paid is {totalPaid}\")"
   ]
  },
  {
   "cell_type": "code",
   "execution_count": null,
   "metadata": {},
   "outputs": [],
   "source": [
    "# Exercise 7\n",
    "# Create a Python class.  \n",
    "# It must include all the previous functionalities.  \n",
    "# Refactor your code to make it readable, efficient, and maintainable.\n",
    "\n",
    "#######################################################\n",
    "################## YOUR ANSWER HERE ##################\n",
    "#######################################################\n",
    "\n",
    "class ApiBot():\n",
    "    def getUserInfoByNameWithAgify():\n",
    "        print(\"Hello could please enter your first name ? \\n\")\n",
    "        user_first_name = input()\n",
    "        new_uri = \"https://api.agify.io/?name=\"+str(user_first_name)\n",
    "\n",
    "        agify_answer_json = requests.get(new_uri).json()\n",
    "        print(f\"Hello according to the agify database there is {agify_answer_json.get('count')} users with this name \\nThe average age is {agify_answer_json.get('age')} year(s) old\")\n",
    "\n",
    "    ##les autres classes"
   ]
  },
  {
   "cell_type": "code",
   "execution_count": null,
   "metadata": {},
   "outputs": [],
   "source": [
    "# Exercise 8 (optional)\n",
    "# Add to your class a system for error handling.  \n",
    "# It must manage the following errors:  \n",
    "# - Connection error  \n",
    "# - Parsing error  \n",
    "# - Request error  \n",
    "# - Response error  \n",
    "# - Parameter error\n",
    "\n",
    "#######################################################\n",
    "################## YOUR ANSWER HERE ##################\n",
    "#######################################################\n",
    "\n"
   ]
  }
 ],
 "metadata": {
  "kernelspec": {
   "display_name": "api",
   "language": "python",
   "name": "python3"
  },
  "language_info": {
   "codemirror_mode": {
    "name": "ipython",
    "version": 3
   },
   "file_extension": ".py",
   "mimetype": "text/x-python",
   "name": "python",
   "nbconvert_exporter": "python",
   "pygments_lexer": "ipython3",
   "version": "3.10.2"
  }
 },
 "nbformat": 4,
 "nbformat_minor": 2
}

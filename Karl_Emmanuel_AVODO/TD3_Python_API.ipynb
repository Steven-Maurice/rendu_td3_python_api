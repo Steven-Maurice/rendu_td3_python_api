{
  "cells": [
    {
      "cell_type": "markdown",
      "metadata": {
        "id": "xY1Y9HTa5umB"
      },
      "source": [
        "# Python with APIs\n",
        "Exchanges via HTTP using `requests` package"
      ]
    },
    {
      "cell_type": "code",
      "execution_count": null,
      "metadata": {
        "id": "CvdTlpKg5umD"
      },
      "outputs": [],
      "source": [
        "import requests"
      ]
    },
    {
      "cell_type": "markdown",
      "metadata": {
        "id": "rAk45L_p5umE"
      },
      "source": [
        "## Example"
      ]
    },
    {
      "cell_type": "markdown",
      "metadata": {
        "id": "kDvVIgQJ5umE"
      },
      "source": [
        "### Agify API"
      ]
    },
    {
      "cell_type": "markdown",
      "metadata": {
        "id": "5zkec0Rt5umF"
      },
      "source": [
        "Example route for Agify API"
      ]
    },
    {
      "cell_type": "code",
      "execution_count": null,
      "metadata": {
        "id": "T4bikuMb5umF"
      },
      "outputs": [],
      "source": [
        "agify_dan = \"https://api.agify.io/?name=dan\""
      ]
    },
    {
      "cell_type": "markdown",
      "metadata": {
        "id": "7dN8Kqe55umF"
      },
      "source": [
        "Extract response"
      ]
    },
    {
      "cell_type": "code",
      "execution_count": null,
      "metadata": {
        "colab": {
          "base_uri": "https://localhost:8080/"
        },
        "id": "dZ6fHo265umG",
        "outputId": "3492dd22-e3fd-4676-8d75-292e26fd944c"
      },
      "outputs": [
        {
          "output_type": "stream",
          "name": "stdout",
          "text": [
            "Answer status_code: <Response [200]>\n",
            "<class 'str'>\n",
            "<class 'dict'>\n",
            "{\"count\":67782,\"name\":\"dan\",\"age\":66}\n",
            "{'count': 67782, 'name': 'dan', 'age': 66}\n"
          ]
        }
      ],
      "source": [
        "# Run a GET request\n",
        "agify_answer = requests.get(agify_dan)\n",
        "agify_answer_txt = agify_answer.text\n",
        "agify_answer_json = agify_answer.json()\n",
        "\n",
        "print(f\"Answer status_code: {agify_answer}\")\n",
        "\n",
        "print(type(agify_answer_txt))\n",
        "print(type(agify_answer_json))\n",
        "\n",
        "print(agify_answer_txt)\n",
        "print(agify_answer_json)"
      ]
    },
    {
      "cell_type": "markdown",
      "metadata": {
        "id": "2jeR1WFu5umG"
      },
      "source": [
        "## Introductory Exercises"
      ]
    },
    {
      "cell_type": "code",
      "execution_count": null,
      "metadata": {
        "colab": {
          "base_uri": "https://localhost:8080/"
        },
        "id": "TuEQeGGg5umH",
        "outputId": "83112a13-75a3-4feb-e0c0-962e96bf8c48"
      },
      "outputs": [
        {
          "output_type": "stream",
          "name": "stdout",
          "text": [
            "Please enter your first name: li\n",
            "{'count': 5949, 'name': 'li', 'age': 52}\n",
            "Hello, li!  you have 52 \n"
          ]
        }
      ],
      "source": [
        "# Exercise 1\n",
        "# Write a script that asks the user for their first name\n",
        "# and responds with a personalized message\n",
        "# using the agify API\n",
        "\n",
        "# https://api.agify.io/?name=YOUR_NAME\n",
        "# Example response: {\"name\":\"YOUR_NAME\",\"age\":30,\"count\":12345}\n",
        "\n",
        "\n",
        "name = input(\"Please enter your first name: \")\n",
        "\n",
        "api_url = f\"https://api.agify.io/?name={name}\"\n",
        "\n",
        "# Ma\n",
        "response = requests.get(api_url)\n",
        "data = response.json()\n",
        "age = data.get(\"age\")\n",
        "print(data)\n",
        "print(f\"Hello, {name}!  you have {age} \")"
      ]
    },
    {
      "cell_type": "code",
      "execution_count": null,
      "metadata": {
        "colab": {
          "base_uri": "https://localhost:8080/"
        },
        "id": "BjVi9ze_5umH",
        "outputId": "8b7a17c5-9ca7-4552-b196-09e8bd5a742e"
      },
      "outputs": [
        {
          "output_type": "stream",
          "name": "stdout",
          "text": [
            "Please enter your first name: Alix \n",
            "Hello, Alix !  your gender might be female with a probability of 0.75%.\n"
          ]
        }
      ],
      "source": [
        "# Exercise 2\n",
        "# Write a script that asks the user for their first name\n",
        "# and responds with a personalized message\n",
        "# using the genderize API\n",
        "# https://api.genderize.io/?name=YOUR_NAME\n",
        "\n",
        "\n",
        "name = input(\"Please enter your first name: \")\n",
        "\n",
        "# The URL for the Genderize API, with the user's name\n",
        "api_url = f\"https://api.genderize.io/?name={name}\"\n",
        "data = response.json()\n",
        "# Make a GET request to the Genderize API\n",
        "response = requests.get(api_url)\n",
        "gender = data.get(\"gender\")\n",
        "prob = data.get(\"probability\")\n",
        "print(f\"Hello, {name}!  your gender might be {gender} with a probability of {float(prob)}%.\")"
      ]
    },
    {
      "cell_type": "code",
      "execution_count": null,
      "metadata": {
        "colab": {
          "base_uri": "https://localhost:8080/"
        },
        "id": "wpehS80G5umI",
        "outputId": "79533496-0d60-4bf4-c87b-6ca8f1f62383"
      },
      "outputs": [
        {
          "output_type": "stream",
          "name": "stdout",
          "text": [
            "Please enter your first name: karle\n",
            "{'count': 1481, 'name': 'karle', 'country': [{'country_id': 'DE', 'probability': 0.21171163474766608}, {'country_id': 'IN', 'probability': 0.16471350889689723}, {'country_id': 'DK', 'probability': 0.054987202182241936}, {'country_id': 'AE', 'probability': 0.05292357923224372}, {'country_id': 'CH', 'probability': 0.05074836271976543}]}\n",
            "Hello, karle! Based on our analysis, there's a chance you might be from DE with a probability of 21.17%.\n"
          ]
        }
      ],
      "source": [
        "# Exercise 3\n",
        "# Write a script that asks the user for their first name\n",
        "# and responds with a personalized message\n",
        "# using the nationalize API\n",
        "# https://api.nationalize.io/?name=YOUR_NAME\n",
        "\n",
        "import requests\n",
        "\n",
        "\n",
        "name = input(\"Please enter your first name: \")\n",
        "api_url = f\"https://api.nationalize.io/?name={name}\"\n",
        "\n",
        "response = requests.get(api_url)\n",
        "data = response.json()\n",
        "print(data)\n",
        "countries = data.get(\"country\")\n",
        "top_country = countries[0]\n",
        "country_id = top_country.get(\"country_id\")\n",
        "probability = top_country.get(\"probability\")\n",
        "print(f\"Hello, {name}! Based on our analysis, there's a chance you might be from {country_id} with a probability of {probability*100:.2f}%.\")\n"
      ]
    },
    {
      "cell_type": "code",
      "execution_count": null,
      "metadata": {
        "colab": {
          "base_uri": "https://localhost:8080/"
        },
        "id": "AUDoij_a5umI",
        "outputId": "47d7a5a1-f315-4c9d-e04d-3bf5c8124459"
      },
      "outputs": [
        {
          "output_type": "stream",
          "name": "stdout",
          "text": [
            "Please enter your first name: leonl\n",
            "The most probable country for the name leonl is CN with a probability of 33.57%.\n"
          ]
        }
      ],
      "source": [
        "# Exercise 3.1\n",
        "# Parsing the response from the nationalize API\n",
        "# Get the most probable country and its percentage\n",
        "# Example response: {\"name\":\"YOUR_NAME\",\"country\":[{\"country_id\":\"FR\",\"probability\":0.75},{\"country_id\":\"BE\",\"probability\":0.25}]}\n",
        "# Hint: use the max() function with a lambda function\n",
        "# https://docs.python.org/3/library/functions.html#max\n",
        "# https://docs.python.org/3/tutorial/controlflow.html#lambda-expressions\n",
        "\n",
        "#######################################################\n",
        "\n",
        "\n",
        "name = input(\"Please enter your first name: \")\n",
        "api_url = f\"https://api.nationalize.io/?name={name}\"\n",
        "response = requests.get(api_url)\n",
        "data = response.json()\n",
        "\n",
        "    # Extracting the list of countries\n",
        "countries = data.get(\"country\")\n",
        "most_probable_country = max(countries, key=lambda x: x['probability'])\n",
        "country_id = most_probable_country['country_id']\n",
        "probability = most_probable_country['probability']\n",
        "print(f\"The most probable country for the name {name} is {country_id} with a probability of {probability*100:.2f}%.\")"
      ]
    },
    {
      "cell_type": "code",
      "execution_count": null,
      "metadata": {
        "colab": {
          "base_uri": "https://localhost:8080/"
        },
        "id": "VmXZ1vEp5umI",
        "outputId": "384a331e-f47c-4f70-cf41-26f28e15ad85"
      },
      "outputs": [
        {
          "output_type": "stream",
          "name": "stdout",
          "text": [
            "1. Generating a random activity...\n",
            "Random Activity: Draw and color a Mandala\n",
            "\n",
            "2. Generating a random activity for 4 participants...\n",
            "Activity for 4 participants: Go see a Broadway production\n",
            "\n",
            "3. Generating a random recreational activity for 4 participants...\n",
            "Recreational activity for 4 participants: Go see a Broadway production\n",
            "\n",
            "4. Generating a random activity for 2 participants that might not require equipment...\n",
            "Activity for 2 participants that might not require equipment: Compliment someone\n"
          ]
        }
      ],
      "source": [
        "# Exercise 4\n",
        "# Use BoredAPI : https://www.boredapi.com/\n",
        "# Documentation : https://www.boredapi.com/documentation\n",
        "# 1. Write a script that generates random activities\n",
        "# 2. Write a script that generates random activities\n",
        "# 3. Write a script that generates random activities for 4 participants\n",
        "# 4. Write a script that generates random activities for 4 participants and of type \"recreational\"\n",
        "# 5. Write a script that generates random activities for 2 participants and that does not require equipment\n",
        "\n",
        "import requests\n",
        "\n",
        "def get_random_activity():\n",
        "    response = requests.get(\"http://www.boredapi.com/api/activity/\")\n",
        "    data = response.json()\n",
        "    print(f\"Random Activity: {data['activity']}\")\n",
        "\n",
        "def get_activity_for_participants(participants):\n",
        "    response = requests.get(f\"http://www.boredapi.com/api/activity?participants={participants}\")\n",
        "    data = response.json()\n",
        "    print(f\"Activity for {participants} participants: {data['activity']}\")\n",
        "\n",
        "def get_specific_activity(type, participants):\n",
        "    response = requests.get(f\"http://www.boredapi.com/api/activity?type={type}&participants={participants}\")\n",
        "    data = response.json()\n",
        "    print(f\"{type.capitalize()} activity for {participants} participants: {data['activity']}\")\n",
        "\n",
        "\n",
        "\n",
        "def get_free_activity_for_participants(participants):\n",
        "    response = requests.get(f\"http://www.boredapi.com/api/activity?participants={participants}&price=0\")\n",
        "    if response.status_code == 200:\n",
        "        data = response.json()\n",
        "        print(f\"Activity for {participants} participants that might not require equipment: {data['activity']}\")\n",
        "\n",
        "\n",
        "\n",
        "print(\"1. Generating a random activity...\")\n",
        "get_random_activity()\n",
        "\n",
        "print(\"\\n2. Generating a random activity for 4 participants...\")\n",
        "get_activity_for_participants(4)\n",
        "\n",
        "print(\"\\n3. Generating a random recreational activity for 4 participants...\")\n",
        "get_specific_activity(\"recreational\", 4)\n",
        "\n",
        "print(\"\\n4. Generating a random activity for 2 participants that might not require equipment...\")\n",
        "get_free_activity_for_participants(2)\n",
        "\n"
      ]
    },
    {
      "cell_type": "markdown",
      "metadata": {
        "id": "amLK9n295umJ"
      },
      "source": [
        "## Intermediate exercises"
      ]
    },
    {
      "cell_type": "code",
      "execution_count": null,
      "metadata": {
        "colab": {
          "base_uri": "https://localhost:8080/"
        },
        "id": "MBJdE6K95umJ",
        "outputId": "c7ca0ad3-5acc-42ce-f16d-f31c06e684d2"
      },
      "outputs": [
        {
          "output_type": "stream",
          "name": "stdout",
          "text": [
            "County ID: ken, Name: Kent\n",
            "County ID: sus, Name: Sussex\n",
            "County ID: sur, Name: Surrey\n",
            "County ID: ham, Name: Hampshire\n",
            "County ID: brk, Name: Berkshire\n",
            "County ID: wil, Name: Wiltshire\n",
            "County ID: dor, Name: Dorset\n",
            "County ID: som, Name: Somerset\n",
            "County ID: dev, Name: Devon\n",
            "County ID: con, Name: Cornwall\n",
            "County ID: mdx, Name: Middlesex\n",
            "County ID: hrt, Name: Hertfordshire\n",
            "County ID: buk, Name: Buckinghamshire\n",
            "County ID: gls, Name: Gloucestershire\n",
            "County ID: oxf, Name: Oxfordshire\n",
            "County ID: wor, Name: Worcestershire\n",
            "County ID: hef, Name: Herefordshire\n",
            "County ID: cam, Name: Cambridgeshire\n",
            "County ID: hun, Name: Huntingdonshire\n",
            "County ID: bdf, Name: Bedfordshire\n",
            "County ID: nth, Name: Northamptonshire\n",
            "County ID: lec, Name: Leicestershire\n",
            "County ID: war, Name: Warwickshire\n",
            "County ID: sts, Name: Staffordshire\n",
            "County ID: shr, Name: Shropshire\n",
            "County ID: chs, Name: Cheshire\n",
            "County ID: dby, Name: Derbyshire\n",
            "County ID: ntt, Name: Nottinghamshire\n",
            "County ID: rut, Name: Rutland\n",
            "County ID: yks, Name: Yorkshire\n",
            "County ID: lin, Name: Lincolnshire\n",
            "County ID: yb, Name: Claims: YB\n",
            "County ID: yc, Name: Claims: YC\n",
            "County ID: lc, Name: Claims: LC\n",
            "County ID: hc, Name: Claims: HC\n",
            "County ID: ys, Name: Claims: YS\n",
            "County ID: ess, Name: Essex\n",
            "County ID: nfk, Name: Norfolk\n",
            "County ID: suf, Name: Suffolk\n",
            "County ID: lan, Name: Lancashire\n"
          ]
        }
      ],
      "source": [
        "# OpenDomesday\n",
        "# https://opendomesday.org/api/\n",
        "\n",
        "# Exercise 1\n",
        "# Write a script that displays all the counties\n",
        "# using the OpenDomesday API.\n",
        "\n",
        "\n",
        "api_url = \"http://opendomesday.org/api/1.0/county\"\n",
        "response = requests.get(api_url)\n",
        "counties = response.json()\n",
        "for county in counties:\n",
        "    print(f\"County ID: {county['id']}, Name: {county['name']}\")"
      ]
    },
    {
      "cell_type": "code",
      "execution_count": null,
      "metadata": {
        "colab": {
          "base_uri": "https://localhost:8080/"
        },
        "id": "Iem6T8U_5umK",
        "outputId": "41666f46-846f-4de1-bdfb-ee0a1b0bf203"
      },
      "outputs": [
        {
          "output_type": "stream",
          "name": "stdout",
          "text": [
            "{'id': 'dby', 'name': 'Derbyshire', 'name_slug': 'derbyshire', 'places_in_county': [{'id': 1036}, {'id': 2558}, {'id': 3016}, {'id': 4791}, {'id': 6093}, {'id': 8701}, {'id': 8951}, {'id': 9101}, {'id': 11441}, {'id': 10771}, {'id': 16116}, {'id': 20861}, {'id': 22251}, {'id': 22571}, {'id': 22611}, {'id': 24741}, {'id': 25536}, {'id': 19061}, {'id': 30246}, {'id': 31896}, {'id': 32521}, {'id': 32981}, {'id': 33916}, {'id': 41346}, {'id': 41788}, {'id': 41801}, {'id': 45821}, {'id': 47401}, {'id': 47411}, {'id': 52361}, {'id': 52596}, {'id': 53901}, {'id': 54446}, {'id': 54646}, {'id': 55736}, {'id': 56786}, {'id': 57061}, {'id': 60236}, {'id': 60351}, {'id': 60816}, {'id': 63606}, {'id': 65368}, {'id': 73221}, {'id': 73731}, {'id': 73741}, {'id': 91}, {'id': 2623}, {'id': 3011}, {'id': 3941}, {'id': 4046}, {'id': 5016}, {'id': 5676}, {'id': 7111}, {'id': 7116}, {'id': 7451}, {'id': 9056}, {'id': 10981}, {'id': 11656}, {'id': 11941}, {'id': 12751}, {'id': 13401}, {'id': 14081}, {'id': 14306}, {'id': 15306}, {'id': 15451}, {'id': 17386}, {'id': 17811}, {'id': 19611}, {'id': 22436}, {'id': 22476}, {'id': 24011}, {'id': 24306}, {'id': 25081}, {'id': 27521}, {'id': 33816}, {'id': 40056}, {'id': 28311}, {'id': 29846}, {'id': 30061}, {'id': 30211}, {'id': 30536}, {'id': 30571}, {'id': 20391}, {'id': 32571}, {'id': 33016}, {'id': 36211}, {'id': 37586}, {'id': 40057}, {'id': 39661}, {'id': 39956}, {'id': 40466}, {'id': 42799}, {'id': 43751}, {'id': 44321}, {'id': 28296}, {'id': 34241}, {'id': 46861}, {'id': 26971}, {'id': 2366}, {'id': 48026}, {'id': 49236}, {'id': 50311}, {'id': 52766}, {'id': 52791}, {'id': 55006}, {'id': 55131}, {'id': 58231}, {'id': 59051}, {'id': 42936}, {'id': 61396}, {'id': 62566}, {'id': 63721}, {'id': 67724}, {'id': 69701}, {'id': 72781}, {'id': 73841}, {'id': 14941}, {'id': 20691}, {'id': 39371}, {'id': 42171}, {'id': 54526}, {'id': 46681}, {'id': 51241}, {'id': 64663}, {'id': 70526}, {'id': 1326}, {'id': 2401}, {'id': 3291}, {'id': 4001}, {'id': 8116}, {'id': 8831}, {'id': 9461}, {'id': 10196}, {'id': 12706}, {'id': 13281}, {'id': 22243}, {'id': 18184}, {'id': 18736}, {'id': 23231}, {'id': 6141}, {'id': 29236}, {'id': 29861}, {'id': 32336}, {'id': 33086}, {'id': 34446}, {'id': 35221}, {'id': 35041}, {'id': 37056}, {'id': 38231}, {'id': 40456}, {'id': 41344}, {'id': 42041}, {'id': 42046}, {'id': 42797}, {'id': 45553}, {'id': 46851}, {'id': 48266}, {'id': 49221}, {'id': 55881}, {'id': 56826}, {'id': 56941}, {'id': 61526}, {'id': 62731}, {'id': 63966}, {'id': 66911}, {'id': 68251}, {'id': 68481}, {'id': 68546}, {'id': 71226}, {'id': 71466}, {'id': 1136}, {'id': 1456}, {'id': 1596}, {'id': 2106}, {'id': 3163}, {'id': 4646}, {'id': 5396}, {'id': 8456}, {'id': 11731}, {'id': 14476}, {'id': 18001}, {'id': 19416}, {'id': 22741}, {'id': 23256}, {'id': 23731}, {'id': 24921}, {'id': 35046}, {'id': 35311}, {'id': 37656}, {'id': 39466}, {'id': 39566}, {'id': 40901}, {'id': 41658}, {'id': 42536}, {'id': 42741}, {'id': 44361}, {'id': 45893}, {'id': 47416}, {'id': 49901}, {'id': 50661}, {'id': 50806}, {'id': 54966}, {'id': 56216}, {'id': 58701}, {'id': 61046}, {'id': 63391}, {'id': 65696}, {'id': 69008}, {'id': 69081}, {'id': 70641}, {'id': 8956}, {'id': 9586}, {'id': 9611}, {'id': 13741}, {'id': 13806}, {'id': 16581}, {'id': 18621}, {'id': 19941}, {'id': 20101}, {'id': 21051}, {'id': 21326}, {'id': 28556}, {'id': 30666}, {'id': 31306}, {'id': 32361}, {'id': 33141}, {'id': 33376}, {'id': 34646}, {'id': 35946}, {'id': 37591}, {'id': 14686}, {'id': 22266}, {'id': 28563}, {'id': 22271}, {'id': 41006}, {'id': 41521}, {'id': 43091}, {'id': 43991}, {'id': 46746}, {'id': 48806}, {'id': 51961}, {'id': 52096}, {'id': 53806}, {'id': 53996}, {'id': 55576}, {'id': 55956}, {'id': 56606}, {'id': 56696}, {'id': 57526}, {'id': 58046}, {'id': 58196}, {'id': 66498}, {'id': 16166}, {'id': 18951}, {'id': 22546}, {'id': 58356}, {'id': 71196}, {'id': 986}, {'id': 2711}, {'id': 4311}, {'id': 4369}, {'id': 5791}, {'id': 7651}, {'id': 8016}, {'id': 8721}, {'id': 9218}, {'id': 10026}, {'id': 12721}, {'id': 14691}, {'id': 16356}, {'id': 3106}, {'id': 20756}, {'id': 21276}, {'id': 21301}, {'id': 22406}, {'id': 22766}, {'id': 23121}, {'id': 23598}, {'id': 26856}, {'id': 4367}, {'id': 27776}, {'id': 29076}, {'id': 29411}, {'id': 32576}, {'id': 32686}, {'id': 35996}, {'id': 40296}, {'id': 29071}, {'id': 44051}, {'id': 44161}, {'id': 49241}, {'id': 45036}, {'id': 45366}, {'id': 71096}, {'id': 46101}, {'id': 46946}, {'id': 9288}, {'id': 65551}, {'id': 69858}, {'id': 47811}, {'id': 48031}, {'id': 48116}, {'id': 51193}, {'id': 52801}, {'id': 54166}, {'id': 55731}, {'id': 45936}, {'id': 71101}, {'id': 57756}, {'id': 58531}, {'id': 33646}, {'id': 60001}, {'id': 60836}, {'id': 61561}, {'id': 45941}, {'id': 63656}, {'id': 64516}, {'id': 65483}, {'id': 65938}, {'id': 66136}, {'id': 66256}, {'id': 66576}, {'id': 67036}, {'id': 68591}, {'id': 69901}, {'id': 70561}, {'id': 71081}, {'id': 52156}, {'id': 1906}, {'id': 8081}, {'id': 9741}, {'id': 12676}, {'id': 13531}, {'id': 17906}, {'id': 21011}, {'id': 25441}, {'id': 29931}, {'id': 30696}, {'id': 34821}, {'id': 40511}, {'id': 42251}, {'id': 43196}, {'id': 45656}, {'id': 51576}, {'id': 52566}, {'id': 56681}, {'id': 58171}, {'id': 58191}, {'id': 60031}, {'id': 60896}, {'id': 63696}, {'id': 67171}]}\n"
          ]
        }
      ],
      "source": [
        "# Exercise 2\n",
        "# Write a script that displays the information\n",
        "# of the county \"Derbyshire\".\n",
        "\n",
        "county_id = \"dby\"\n",
        "api_url = f\"http://opendomesday.org/api/1.0/county/{county_id}\"\n",
        "response = requests.get(api_url)\n",
        "county_info = response.json()\n",
        "print(county_info)\n"
      ]
    },
    {
      "cell_type": "code",
      "execution_count": 66,
      "metadata": {
        "id": "pBFuFl6D5umK"
      },
      "outputs": [],
      "source": [
        "# Exercise 3\n",
        "# Now that we have the ids for all the places in Derbyshire, we can load all their details...\n",
        "# And from their details, we can list all the details of their manors.\n",
        "# Go fetch the data!\n",
        "# P.S.: remember to save the data to avoid downloading it every time\n",
        "\n",
        "\n",
        "import requests\n",
        "import csv\n",
        "\n",
        "# Configuration initiale\n",
        "county_id = 'dby'\n",
        "county_url = f\"http://opendomesday.org/api/1.0/county/{county_id}\"\n",
        "csv_file_path = 'manor_details_derbyshire.csv'\n",
        "\n",
        "# Colonnes à enregistrer dans le CSV, basées sur les clés scalaires des détails du manoir\n",
        "fieldnames = [\n",
        "    'id', 'phillimore', 'headofmanor', 'duplicates', 'subholdings', 'notes', 'waste', 'waste66', 'wasteqr',\n",
        "    'waste86', 'geld', 'gcode', 'villtax', 'taxedon', 'value86', 'value66', 'valueqr', 'value_string',\n",
        "    'render', 'lordsland', 'newland', 'ploughlands', 'pcode', 'lordsploughs', 'mensploughs', 'totalploughs',\n",
        "    'lordsploughspossible', 'mensploughspossible', 'villagers', 'smallholders', 'slaves', 'femaleslaves',\n",
        "    'freemen', 'free2men', 'priests', 'cottagers', 'otherpop', 'miscpop', 'miscpopcategories', 'burgesses',\n",
        "    'mills', 'millvalue', 'meadow', 'meadowunits', 'pasture', 'pastureunits', 'woodland', 'woodlandunits',\n",
        "    'fisheries', 'salthouses', 'payments', 'paymentsunits', 'churches', 'churchland', 'cobs_1086', 'cobs_1066',\n",
        "    'cattle_1086', 'cattle_1066', 'cows_1086', 'cows_1066', 'pigs_1086', 'pigs_1066', 'sheep_1086',\n",
        "    'sheep_1066', 'goats_1086', 'goats_1066', 'beehives_1086', 'beehives_1066', 'wild_mares_1086',\n",
        "    'wild_mares_1066', 'other_1086', 'other_code_1086', 'other_1066', 'other_codes_1066'\n",
        "]\n",
        "\n",
        "# Ouverture du fichier CSV pour l'écriture\n",
        "with open(csv_file_path, mode='w', newline='', encoding='utf-8') as csv_file:\n",
        "    writer = csv.DictWriter(csv_file, fieldnames=fieldnames)\n",
        "    writer.writeheader()\n",
        "\n",
        "    # Récupération des places dans le comté\n",
        "    response = requests.get(county_url)\n",
        "    if response.status_code == 200:\n",
        "        derbyshire_data = response.json()\n",
        "        places_in_county = derbyshire_data['places_in_county']\n",
        "\n",
        "        for place in places_in_county:\n",
        "            place_id = place['id']\n",
        "\n",
        "            for manor in place.get('manors', []):\n",
        "                manor_id = manor['id']\n",
        "                manor_url = f\"http://opendomesday.org/api/1.0/manor/{manor_id}\"\n",
        "\n",
        "                # Récupération des détails pour chaque manoir\n",
        "                manor_response = requests.get(manor_url)\n",
        "                if manor_response.status_code == 200:\n",
        "                    manor_data = manor_response.json()\n",
        "                    # Simplification pour l'écriture dans le CSV, omettant les champs complexes\n",
        "                    simplified_data = {key: manor_data[key] for key in fieldnames if key in manor_data}\n",
        "                    writer.writerow(simplified_data)\n",
        "\n",
        "                    print(f\"Enregistré Manor ID: {manor_id} dans CSV.\")\n",
        "                else:\n",
        "                    print(f\"Échec de la récupération des détails pour Manor ID: {manor_id}\")\n",
        "    else:\n",
        "        print(\"Échec de la récupération des données pour Derbyshire.\")\n",
        "\n",
        "\n"
      ]
    },
    {
      "cell_type": "code",
      "execution_count": null,
      "metadata": {
        "id": "f8tyMDqa5umK"
      },
      "outputs": [],
      "source": [
        "# Exercise 4\n",
        "# Now that we have a quantity of raw data, we will extract the interesting parts.\n",
        "# In our case, we want to count the money paid by each manor and compare it to the number of ploughs it has.\n",
        "# - Can you find the corresponding json fields?\n",
        "# - Then, you can list these numbers for each manor in Derbyshire.\n",
        "# - And format this in an appropriate comma-separated values (CSV) file.\n",
        "\n",
        "#######################################################\n",
        "################## YOUR ANSWER HERE ##################\n",
        "#######################################################\n",
        "\n"
      ]
    },
    {
      "cell_type": "code",
      "execution_count": null,
      "metadata": {
        "id": "Y7NCBAF_5umL"
      },
      "outputs": [],
      "source": [
        "# Exercise 5\n",
        "# What is the richest manor in Derbyshire?\n",
        "\n",
        "#######################################################\n",
        "################## YOUR ANSWER HERE ##################\n",
        "#######################################################\n"
      ]
    },
    {
      "cell_type": "code",
      "execution_count": null,
      "metadata": {
        "id": "dIG9qZ9n5umL"
      },
      "outputs": [],
      "source": [
        "# Exercise 6\n",
        "# Give the total value paid by Derbyshire.\n",
        "\n",
        "#######################################################\n",
        "################## YOUR ANSWER HERE ##################\n",
        "#######################################################\n"
      ]
    },
    {
      "cell_type": "code",
      "execution_count": null,
      "metadata": {
        "id": "GyFRqAg75umL"
      },
      "outputs": [],
      "source": [
        "# Exercise 7\n",
        "# Create a Python class.\n",
        "# It must include all the previous functionalities.\n",
        "# Refactor your code to make it readable, efficient, and maintainable.\n",
        "\n",
        "#######################################################\n",
        "################## YOUR ANSWER HERE ##################\n",
        "#######################################################\n"
      ]
    },
    {
      "cell_type": "code",
      "execution_count": null,
      "metadata": {
        "id": "FPIVSfJm5umM"
      },
      "outputs": [],
      "source": [
        "# Exercise 8 (optional)\n",
        "# Add to your class a system for error handling.\n",
        "# It must manage the following errors:\n",
        "# - Connection error\n",
        "# - Parsing error\n",
        "# - Request error\n",
        "# - Response error\n",
        "# - Parameter error\n",
        "\n",
        "#######################################################\n",
        "################## YOUR ANSWER HERE ##################\n",
        "#######################################################\n",
        "\n"
      ]
    }
  ],
  "metadata": {
    "kernelspec": {
      "display_name": "api",
      "language": "python",
      "name": "python3"
    },
    "language_info": {
      "codemirror_mode": {
        "name": "ipython",
        "version": 3
      },
      "file_extension": ".py",
      "mimetype": "text/x-python",
      "name": "python",
      "nbconvert_exporter": "python",
      "pygments_lexer": "ipython3",
      "version": "3.9.6"
    },
    "colab": {
      "provenance": []
    }
  },
  "nbformat": 4,
  "nbformat_minor": 0
}
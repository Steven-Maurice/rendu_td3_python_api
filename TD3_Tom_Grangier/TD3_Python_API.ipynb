{
  "cells": [
    {
      "cell_type": "markdown",
      "metadata": {
        "id": "mPy0ZCB-5sTj"
      },
      "source": [
        "# Python with APIs\n",
        "Exchanges via HTTP using `requests` package"
      ]
    },
    {
      "cell_type": "code",
      "execution_count": null,
      "metadata": {
        "id": "qvwiDV0Z5sTp"
      },
      "outputs": [],
      "source": [
        "import requests"
      ]
    },
    {
      "cell_type": "markdown",
      "metadata": {
        "id": "l4e-Lj7u5sTs"
      },
      "source": [
        "## Example"
      ]
    },
    {
      "cell_type": "markdown",
      "metadata": {
        "id": "ZH3OEr9k5sTt"
      },
      "source": [
        "### Agify API"
      ]
    },
    {
      "cell_type": "markdown",
      "metadata": {
        "id": "5kEp_pxs5sTt"
      },
      "source": [
        "Example route for Agify API"
      ]
    },
    {
      "cell_type": "code",
      "execution_count": null,
      "metadata": {
        "id": "SBxeN4un5sTv"
      },
      "outputs": [],
      "source": [
        "agify_dan = \"https://api.agify.io/?name=dan\""
      ]
    },
    {
      "cell_type": "markdown",
      "metadata": {
        "id": "TURjUNJ75sTv"
      },
      "source": [
        "Extract response"
      ]
    },
    {
      "cell_type": "code",
      "execution_count": null,
      "metadata": {
        "colab": {
          "base_uri": "https://localhost:8080/"
        },
        "id": "-ODic4C05sTv",
        "outputId": "9d0e6ba9-fec1-4772-a8a2-62cbd69f10eb"
      },
      "outputs": [
        {
          "output_type": "stream",
          "name": "stdout",
          "text": [
            "Answer status_code: <Response [200]>\n",
            "<class 'str'>\n",
            "<class 'dict'>\n",
            "{\"count\":67782,\"name\":\"dan\",\"age\":66}\n",
            "{'count': 67782, 'name': 'dan', 'age': 66}\n"
          ]
        }
      ],
      "source": [
        "# Run a GET request\n",
        "agify_answer = requests.get(agify_dan)\n",
        "agify_answer_txt = agify_answer.text\n",
        "agify_answer_json = agify_answer.json()\n",
        "\n",
        "print(f\"Answer status_code: {agify_answer}\")\n",
        "\n",
        "print(type(agify_answer_txt))\n",
        "print(type(agify_answer_json))\n",
        "\n",
        "print(agify_answer_txt)\n",
        "print(agify_answer_json)"
      ]
    },
    {
      "cell_type": "markdown",
      "metadata": {
        "id": "8Yw2kQhN5sTw"
      },
      "source": [
        "## Introductory Exercises"
      ]
    },
    {
      "cell_type": "code",
      "execution_count": null,
      "metadata": {
        "colab": {
          "base_uri": "https://localhost:8080/"
        },
        "id": "sDjeAyBA5sU_",
        "outputId": "7823f931-913e-441a-8d1e-3d587a4c0a19"
      },
      "outputs": [
        {
          "output_type": "stream",
          "name": "stdout",
          "text": [
            "Enter your first name: Tom\n",
            "Name:,Tom,age:66,count:135975\n"
          ]
        }
      ],
      "source": [
        "# Exercise 1\n",
        "# Write a script that asks the user for their first name\n",
        "# and responds with a personalized message\n",
        "# using the agify API\n",
        "\n",
        "# https://api.agify.io/?name=YOUR_NAME\n",
        "# Example response: {\"name\":\"YOUR_NAME\",\"age\":30,\"count\":12345}\n",
        "\n",
        "first_name = input(\"Enter your first name: \")\n",
        "\n",
        "url = f\"https://api.agify.io/?name={first_name}\"\n",
        "\n",
        "response = requests.get(url)\n",
        "\n",
        "if response.status_code == 200:\n",
        "    data = response.json()\n",
        "\n",
        "    age = data.get(\"age\")\n",
        "\n",
        "    count =data.get(\"count\")\n",
        "\n",
        "    print(f\"Name:,{first_name},age:{age},count:{count}\")\n",
        "else:\n",
        "    print(\"Erreur\")\n",
        "\n"
      ]
    },
    {
      "cell_type": "code",
      "execution_count": null,
      "metadata": {
        "colab": {
          "base_uri": "https://localhost:8080/"
        },
        "id": "cT6ornyH5sVA",
        "outputId": "1c631cbf-9a43-4f51-f9ef-ccce7b9bcd88"
      },
      "outputs": [
        {
          "output_type": "stream",
          "name": "stdout",
          "text": [
            "Enter your first name: Tom\n",
            "Name:,Tom,gender:male,proba:1.0\n"
          ]
        }
      ],
      "source": [
        "# Exercise 2\n",
        "# Write a script that asks the user for their first name\n",
        "# and responds with a personalized message\n",
        "# using the genderize API\n",
        "# https://api.genderize.io/?name=YOUR_NAME\n",
        "\n",
        "first_name = input(\"Enter your first name: \")\n",
        "\n",
        "url = f\"https://api.genderize.io/?name={first_name}\"\n",
        "\n",
        "response = requests.get(url)\n",
        "\n",
        "if response.status_code == 200:\n",
        "    data = response.json()\n",
        "\n",
        "    gender = data.get(\"gender\")\n",
        "\n",
        "    proba =data.get(\"probability\")\n",
        "\n",
        "    print(f\"Name:,{first_name},gender:{gender},proba:{proba}\")\n",
        "else:\n",
        "    print(\"Erreur\")\n"
      ]
    },
    {
      "cell_type": "code",
      "execution_count": null,
      "metadata": {
        "colab": {
          "base_uri": "https://localhost:8080/"
        },
        "id": "VZ_rJeap5sVB",
        "outputId": "f432be18-147c-46da-a846-548570e57f25"
      },
      "outputs": [
        {
          "output_type": "stream",
          "name": "stdout",
          "text": [
            "Enter your first name: Tom\n",
            "Name:,Tom,country:[{'country_id': 'CN', 'probability': 0.16308469088802294}, {'country_id': 'UG', 'probability': 0.0524804200586284}, {'country_id': 'CZ', 'probability': 0.04473369189024208}, {'country_id': 'HK', 'probability': 0.03057111848075441}, {'country_id': 'KE', 'probability': 0.03000427155409532}]\n"
          ]
        }
      ],
      "source": [
        "# Exercise 3\n",
        "# Write a script that asks the user for their first name\n",
        "# and responds with a personalized message\n",
        "# using the nationalize API\n",
        "# https://api.nationalize.io/?name=YOUR_NAME\n",
        "\n",
        "first_name = input(\"Enter your first name: \")\n",
        "\n",
        "url = f\"https://api.nationalize.io/?name={first_name}\"\n",
        "\n",
        "response = requests.get(url)\n",
        "\n",
        "if response.status_code == 200:\n",
        "    data = response.json()\n",
        "\n",
        "    countries = data.get(\"country\",[])\n",
        "\n",
        "    print(f\"Name:,{first_name},country:{countries}\")\n",
        "else:\n",
        "    print(\"Erreur\")\n",
        "\n"
      ]
    },
    {
      "cell_type": "code",
      "execution_count": null,
      "metadata": {
        "colab": {
          "base_uri": "https://localhost:8080/"
        },
        "id": "6C0-kukR5sVC",
        "outputId": "a8b8b6b8-ba57-4ab1-947e-873b8fe84a42"
      },
      "outputs": [
        {
          "output_type": "stream",
          "name": "stdout",
          "text": [
            "Name:Tom, Country:CN ,Proba:0.16308469088802294\n"
          ]
        }
      ],
      "source": [
        "# Exercise 3.1\n",
        "# Parsing the response from the nationalize API\n",
        "# Get the most probable country and its percentage\n",
        "# Example response: {\"name\":\"YOUR_NAME\",\"country\":[{\"country_id\":\"FR\",\"probability\":0.75},{\"country_id\":\"BE\",\"probability\":0.25}]}\n",
        "# Hint: use the max() function with a lambda function\n",
        "# https://docs.python.org/3/library/functions.html#max\n",
        "# https://docs.python.org/3/tutorial/controlflow.html#lambda-expressions\n",
        "\n",
        "mst_proba=max(countries,key=lambda country:country[\"probability\"])\n",
        "print(f\"Name:{first_name}, Country:{mst_proba['country_id']} ,Proba:{mst_proba['probability']}\")\n"
      ]
    },
    {
      "cell_type": "code",
      "execution_count": null,
      "metadata": {
        "colab": {
          "base_uri": "https://localhost:8080/"
        },
        "id": "CuVnlV_G5sVD",
        "outputId": "1d655b4e-d6c1-4bab-b16a-cbf2bf165f17"
      },
      "outputs": [
        {
          "output_type": "stream",
          "name": "stdout",
          "text": [
            "Random Activity: Make your own LEGO creation\n",
            "Random Activity for 4 participants: Learn Kotlin\n",
            "Random Activity for 4 participants: Go see a Broadway production\n",
            "Random Activity for 2 participants: Compliment someone\n"
          ]
        }
      ],
      "source": [
        "# Exercise 4\n",
        "# Use BoredAPI : https://www.boredapi.com/\n",
        "# Documentation : https://www.boredapi.com/documentation\n",
        "# 1. Write a script that generates random activities\n",
        "# 2. Write a script that generates random activities\n",
        "# 3. Write a script that generates random activities for 4 participants\n",
        "# 4. Write a script that generates random activities for 4 participants and of type \"recreational\"\n",
        "# 5. Write a script that generates random activities for 2 participants and that does not require equipment\n",
        "\n",
        "url=\"https://www.boredapi.com/api/activity/\"\n",
        "#random activities\n",
        "response = requests.get(\"https://www.boredapi.com/api/activity\")\n",
        "if response.status_code == 200:\n",
        "  data = response.json()\n",
        "  print(f\"Random Activity: {data['activity']}\")\n",
        "else:\n",
        "  print(\"Error\")\n",
        "\n",
        "#random activity with 4 participants\n",
        "response = requests.get(\"https://www.boredapi.com/api/activity?/participants=4\")\n",
        "if response.status_code == 200:\n",
        "  data = response.json()\n",
        "  print(f\"Random Activity for 4 participants: {data['activity']}\")\n",
        "else:\n",
        "  print(\"Error\")\n",
        "\n",
        "#random activity for 4 participants and type \"recreational\"\n",
        "response = requests.get(\"https://www.boredapi.com/api/activity?participants=4&type=recreational\")\n",
        "if response.status_code == 200:\n",
        "  data = response.json()\n",
        "  print(f\"Random Activity for 4 participants: {data['activity']}\")\n",
        "else:\n",
        "  print(\"Error\")\n",
        "\n",
        "#random activities for 2 participants and that does not require equipment\n",
        "response = requests.get(\"https://www.boredapi.com/api/activity?participants=2&accessibility=0\")\n",
        "if response.status_code == 200:\n",
        "  data = response.json()\n",
        "  print(f\"Random Activity for 2 participants: {data['activity']}\")\n",
        "else:\n",
        "  print(\"Error\")\n",
        "\n",
        "\n",
        "\n",
        "\n",
        "\n",
        "\n",
        "\n",
        "\n"
      ]
    },
    {
      "cell_type": "markdown",
      "metadata": {
        "id": "lW2O8wgy5sVD"
      },
      "source": [
        "## Intermediate exercises"
      ]
    },
    {
      "cell_type": "code",
      "execution_count": null,
      "metadata": {
        "id": "fUcC5nXU5sVE",
        "colab": {
          "base_uri": "https://localhost:8080/"
        },
        "outputId": "76d0a227-045a-4b38-89cb-351b774c7146"
      },
      "outputs": [
        {
          "output_type": "stream",
          "name": "stdout",
          "text": [
            "County: Kent\n",
            "County: Sussex\n",
            "County: Surrey\n",
            "County: Hampshire\n",
            "County: Berkshire\n",
            "County: Wiltshire\n",
            "County: Dorset\n",
            "County: Somerset\n",
            "County: Devon\n",
            "County: Cornwall\n",
            "County: Middlesex\n",
            "County: Hertfordshire\n",
            "County: Buckinghamshire\n",
            "County: Gloucestershire\n",
            "County: Oxfordshire\n",
            "County: Worcestershire\n",
            "County: Herefordshire\n",
            "County: Cambridgeshire\n",
            "County: Huntingdonshire\n",
            "County: Bedfordshire\n",
            "County: Northamptonshire\n",
            "County: Leicestershire\n",
            "County: Warwickshire\n",
            "County: Staffordshire\n",
            "County: Shropshire\n",
            "County: Cheshire\n",
            "County: Derbyshire\n",
            "County: Nottinghamshire\n",
            "County: Rutland\n",
            "County: Yorkshire\n",
            "County: Lincolnshire\n",
            "County: Claims: YB\n",
            "County: Claims: YC\n",
            "County: Claims: LC\n",
            "County: Claims: HC\n",
            "County: Claims: YS\n",
            "County: Essex\n",
            "County: Norfolk\n",
            "County: Suffolk\n",
            "County: Lancashire\n"
          ]
        }
      ],
      "source": [
        "# OpenDomesday\n",
        "# https://opendomesday.org/api/\n",
        "\n",
        "# Exercise 1\n",
        "# Write a script that displays all the counties\n",
        "# using the OpenDomesday API.\n",
        "\n",
        "response=requests.get(\"http://opendomesday.org/api/1.0/county\")\n",
        "\n",
        "if response.status_code == 200:\n",
        "  counties = response.json()\n",
        "  for i in counties:\n",
        "    print(f\"County: {i['name']}\")\n",
        "else:\n",
        "  print(\"Error\")\n",
        "\n",
        "\n"
      ]
    },
    {
      "cell_type": "code",
      "execution_count": null,
      "metadata": {
        "colab": {
          "base_uri": "https://localhost:8080/"
        },
        "id": "MuwV2xWp5sVE",
        "outputId": "958185c7-d1b9-49e7-d6f1-890fff85d867"
      },
      "outputs": [
        {
          "output_type": "stream",
          "name": "stdout",
          "text": [
            "id: dby\n",
            "name: Derbyshire\n",
            "name_slug: derbyshire\n",
            "places in county: [{'id': 1036}, {'id': 2558}, {'id': 3016}, {'id': 4791}, {'id': 6093}, {'id': 8701}, {'id': 8951}, {'id': 9101}, {'id': 11441}, {'id': 10771}, {'id': 16116}, {'id': 20861}, {'id': 22251}, {'id': 22571}, {'id': 22611}, {'id': 24741}, {'id': 25536}, {'id': 19061}, {'id': 30246}, {'id': 31896}, {'id': 32521}, {'id': 32981}, {'id': 33916}, {'id': 41346}, {'id': 41788}, {'id': 41801}, {'id': 45821}, {'id': 47401}, {'id': 47411}, {'id': 52361}, {'id': 52596}, {'id': 53901}, {'id': 54446}, {'id': 54646}, {'id': 55736}, {'id': 56786}, {'id': 57061}, {'id': 60236}, {'id': 60351}, {'id': 60816}, {'id': 63606}, {'id': 65368}, {'id': 73221}, {'id': 73731}, {'id': 73741}, {'id': 91}, {'id': 2623}, {'id': 3011}, {'id': 3941}, {'id': 4046}, {'id': 5016}, {'id': 5676}, {'id': 7111}, {'id': 7116}, {'id': 7451}, {'id': 9056}, {'id': 10981}, {'id': 11656}, {'id': 11941}, {'id': 12751}, {'id': 13401}, {'id': 14081}, {'id': 14306}, {'id': 15306}, {'id': 15451}, {'id': 17386}, {'id': 17811}, {'id': 19611}, {'id': 22436}, {'id': 22476}, {'id': 24011}, {'id': 24306}, {'id': 25081}, {'id': 27521}, {'id': 33816}, {'id': 40056}, {'id': 28311}, {'id': 29846}, {'id': 30061}, {'id': 30211}, {'id': 30536}, {'id': 30571}, {'id': 20391}, {'id': 32571}, {'id': 33016}, {'id': 36211}, {'id': 37586}, {'id': 40057}, {'id': 39661}, {'id': 39956}, {'id': 40466}, {'id': 42799}, {'id': 43751}, {'id': 44321}, {'id': 28296}, {'id': 34241}, {'id': 46861}, {'id': 26971}, {'id': 2366}, {'id': 48026}, {'id': 49236}, {'id': 50311}, {'id': 52766}, {'id': 52791}, {'id': 55006}, {'id': 55131}, {'id': 58231}, {'id': 59051}, {'id': 42936}, {'id': 61396}, {'id': 62566}, {'id': 63721}, {'id': 67724}, {'id': 69701}, {'id': 72781}, {'id': 73841}, {'id': 14941}, {'id': 20691}, {'id': 39371}, {'id': 42171}, {'id': 54526}, {'id': 46681}, {'id': 51241}, {'id': 64663}, {'id': 70526}, {'id': 1326}, {'id': 2401}, {'id': 3291}, {'id': 4001}, {'id': 8116}, {'id': 8831}, {'id': 9461}, {'id': 10196}, {'id': 12706}, {'id': 13281}, {'id': 22243}, {'id': 18184}, {'id': 18736}, {'id': 23231}, {'id': 6141}, {'id': 29236}, {'id': 29861}, {'id': 32336}, {'id': 33086}, {'id': 34446}, {'id': 35221}, {'id': 35041}, {'id': 37056}, {'id': 38231}, {'id': 40456}, {'id': 41344}, {'id': 42041}, {'id': 42046}, {'id': 42797}, {'id': 45553}, {'id': 46851}, {'id': 48266}, {'id': 49221}, {'id': 55881}, {'id': 56826}, {'id': 56941}, {'id': 61526}, {'id': 62731}, {'id': 63966}, {'id': 66911}, {'id': 68251}, {'id': 68481}, {'id': 68546}, {'id': 71226}, {'id': 71466}, {'id': 1136}, {'id': 1456}, {'id': 1596}, {'id': 2106}, {'id': 3163}, {'id': 4646}, {'id': 5396}, {'id': 8456}, {'id': 11731}, {'id': 14476}, {'id': 18001}, {'id': 19416}, {'id': 22741}, {'id': 23256}, {'id': 23731}, {'id': 24921}, {'id': 35046}, {'id': 35311}, {'id': 37656}, {'id': 39466}, {'id': 39566}, {'id': 40901}, {'id': 41658}, {'id': 42536}, {'id': 42741}, {'id': 44361}, {'id': 45893}, {'id': 47416}, {'id': 49901}, {'id': 50661}, {'id': 50806}, {'id': 54966}, {'id': 56216}, {'id': 58701}, {'id': 61046}, {'id': 63391}, {'id': 65696}, {'id': 69008}, {'id': 69081}, {'id': 70641}, {'id': 8956}, {'id': 9586}, {'id': 9611}, {'id': 13741}, {'id': 13806}, {'id': 16581}, {'id': 18621}, {'id': 19941}, {'id': 20101}, {'id': 21051}, {'id': 21326}, {'id': 28556}, {'id': 30666}, {'id': 31306}, {'id': 32361}, {'id': 33141}, {'id': 33376}, {'id': 34646}, {'id': 35946}, {'id': 37591}, {'id': 14686}, {'id': 22266}, {'id': 28563}, {'id': 22271}, {'id': 41006}, {'id': 41521}, {'id': 43091}, {'id': 43991}, {'id': 46746}, {'id': 48806}, {'id': 51961}, {'id': 52096}, {'id': 53806}, {'id': 53996}, {'id': 55576}, {'id': 55956}, {'id': 56606}, {'id': 56696}, {'id': 57526}, {'id': 58046}, {'id': 58196}, {'id': 66498}, {'id': 16166}, {'id': 18951}, {'id': 22546}, {'id': 58356}, {'id': 71196}, {'id': 986}, {'id': 2711}, {'id': 4311}, {'id': 4369}, {'id': 5791}, {'id': 7651}, {'id': 8016}, {'id': 8721}, {'id': 9218}, {'id': 10026}, {'id': 12721}, {'id': 14691}, {'id': 16356}, {'id': 3106}, {'id': 20756}, {'id': 21276}, {'id': 21301}, {'id': 22406}, {'id': 22766}, {'id': 23121}, {'id': 23598}, {'id': 26856}, {'id': 4367}, {'id': 27776}, {'id': 29076}, {'id': 29411}, {'id': 32576}, {'id': 32686}, {'id': 35996}, {'id': 40296}, {'id': 29071}, {'id': 44051}, {'id': 44161}, {'id': 49241}, {'id': 45036}, {'id': 45366}, {'id': 71096}, {'id': 46101}, {'id': 46946}, {'id': 9288}, {'id': 65551}, {'id': 69858}, {'id': 47811}, {'id': 48031}, {'id': 48116}, {'id': 51193}, {'id': 52801}, {'id': 54166}, {'id': 55731}, {'id': 45936}, {'id': 71101}, {'id': 57756}, {'id': 58531}, {'id': 33646}, {'id': 60001}, {'id': 60836}, {'id': 61561}, {'id': 45941}, {'id': 63656}, {'id': 64516}, {'id': 65483}, {'id': 65938}, {'id': 66136}, {'id': 66256}, {'id': 66576}, {'id': 67036}, {'id': 68591}, {'id': 69901}, {'id': 70561}, {'id': 71081}, {'id': 52156}, {'id': 1906}, {'id': 8081}, {'id': 9741}, {'id': 12676}, {'id': 13531}, {'id': 17906}, {'id': 21011}, {'id': 25441}, {'id': 29931}, {'id': 30696}, {'id': 34821}, {'id': 40511}, {'id': 42251}, {'id': 43196}, {'id': 45656}, {'id': 51576}, {'id': 52566}, {'id': 56681}, {'id': 58171}, {'id': 58191}, {'id': 60031}, {'id': 60896}, {'id': 63696}, {'id': 67171}]\n"
          ]
        }
      ],
      "source": [
        "# Exercise 2\n",
        "# Write a script that displays the information\n",
        "# of the county \"Derbyshire\".\n",
        "\n",
        "for i in counties:\n",
        "  if i['name']==\"Derbyshire\":\n",
        "    print(f\"id: {i['id']}\")\n",
        "    print(f\"name: {i['name']}\")\n",
        "    print(f\"name_slug: {i['name_slug']}\")\n",
        "    places=i['places_in_county']\n",
        "    print(f\"places in county: {places}\")\n",
        "    break"
      ]
    },
    {
      "cell_type": "code",
      "execution_count": 103,
      "metadata": {
        "id": "9xZuikrc5sVF",
        "colab": {
          "base_uri": "https://localhost:8080/",
          "height": 644
        },
        "outputId": "a9dde5bf-2212-4026-f355-1478f186cf18"
      },
      "outputs": [
        {
          "output_type": "stream",
          "name": "stdout",
          "text": [
            "{'id': 1036, 'county': {'id': 'sus'}, 'place': [{'id': 16631}], 'phillimore': '13,41', 'headofmanor': None, 'duplicates': None, 'subholdings': None, 'notes': None, 'waste': 'none', 'waste66': 'N', 'wasteqr': 'N', 'waste86': 'N', 'geld': 2.25, 'gcode': 'exemption', 'villtax': None, 'taxedon': 0.0, 'value86': 2.75, 'value66': 2.75, 'valueqr': 2.75, 'value_string': '2.75', 'render': None, 'lordsland': None, 'newland': None, 'ploughlands': None, 'pcode': 'no ploughlands', 'lordsploughs': 1.0, 'mensploughs': 0.0, 'totalploughs': 1.0, 'lordsploughspossible': None, 'mensploughspossible': None, 'villagers': 0.0, 'smallholders': 5.0, 'slaves': 0.0, 'femaleslaves': 0.0, 'freemen': 0.0, 'free2men': 0.0, 'priests': 0.0, 'cottagers': 0.0, 'otherpop': 0.0, 'miscpop': 0.0, 'miscpopcategories': None, 'burgesses': 0.0, 'mills': None, 'millvalue': None, 'meadow': '8', 'meadowunits': 'acres', 'pasture': None, 'pastureunits': None, 'woodland': None, 'woodlandunits': None, 'fisheries': None, 'salthouses': None, 'payments': None, 'paymentsunits': None, 'churches': None, 'churchland': None, 'cobs_1086': None, 'cobs_1066': None, 'cattle_1086': None, 'cattle_1066': None, 'cows_1086': None, 'cows_1066': None, 'pigs_1086': None, 'pigs_1066': None, 'sheep_1086': None, 'sheep_1066': None, 'goats_1086': None, 'goats_1066': None, 'beehives_1086': None, 'beehives_1066': None, 'wild_mares_1086': None, 'wild_mares_1066': None, 'other_1086': None, 'other_code_1086': None, 'other_1066': None, 'other_codes_1066': None, 'lord66': [251550], 'overlord66': [270250], 'lord86': [419900], 'teninchief': [588250], 'image_for_manor': [{'manor': {'id': 1036}, 'x1': 64, 'x2': 764, 'y1': 739, 'y2': 875, 'image': 'sus/27.png'}]}\n",
            "{'id': 2558, 'county': {'id': 'wil'}, 'place': [{'id': 15046}], 'phillimore': '13,5', 'headofmanor': None, 'duplicates': None, 'subholdings': None, 'notes': None, 'waste': 'none', 'waste66': 'N', 'wasteqr': 'N', 'waste86': 'N', 'geld': 20.0, 'gcode': 'geld', 'villtax': None, 'taxedon': None, 'value86': 15.0, 'value66': None, 'valueqr': 14.0, 'value_string': '14.00', 'render': None, 'lordsland': 8.0, 'newland': None, 'ploughlands': 14.0, 'pcode': 'land for', 'lordsploughs': 2.0, 'mensploughs': 12.0, 'totalploughs': 14.0, 'lordsploughspossible': None, 'mensploughspossible': None, 'villagers': 15.0, 'smallholders': 12.0, 'slaves': 0.0, 'femaleslaves': 0.0, 'freemen': 0.0, 'free2men': 0.0, 'priests': 0.0, 'cottagers': 0.0, 'otherpop': 0.0, 'miscpop': 12.0, 'miscpopcategories': 'freedmen', 'burgesses': 0.0, 'mills': 1.0, 'millvalue': 0.5, 'meadow': '5', 'meadowunits': 'acres', 'pasture': '1 * 0.5', 'pastureunits': 'leagues', 'woodland': '10', 'woodlandunits': 'acres', 'fisheries': None, 'salthouses': None, 'payments': None, 'paymentsunits': None, 'churches': None, 'churchland': None, 'cobs_1086': None, 'cobs_1066': None, 'cattle_1086': None, 'cattle_1066': None, 'cows_1086': None, 'cows_1066': None, 'pigs_1086': None, 'pigs_1066': None, 'sheep_1086': None, 'sheep_1066': None, 'goats_1086': None, 'goats_1066': None, 'beehives_1086': None, 'beehives_1066': None, 'wild_mares_1086': None, 'wild_mares_1066': None, 'other_1086': None, 'other_code_1086': None, 'other_1066': None, 'other_codes_1066': None, 'lord66': [602150], 'overlord66': [], 'lord86': [602150], 'teninchief': [602150], 'image_for_manor': [{'manor': {'id': 2558}, 'x1': 886, 'x2': 1472, 'y1': 1872, 'y2': 2087, 'image': 'wil/07.png'}]}\n",
            "{'id': 3016, 'county': {'id': 'wil'}, 'place': [{'id': 71411}, {'id': 65816}], 'phillimore': '67,66', 'headofmanor': None, 'duplicates': None, 'subholdings': None, 'notes': None, 'waste': 'none', 'waste66': 'N', 'wasteqr': 'N', 'waste86': 'N', 'geld': 1.0, 'gcode': 'geld', 'villtax': None, 'taxedon': None, 'value86': 1.0, 'value66': None, 'valueqr': None, 'value_string': None, 'render': None, 'lordsland': None, 'newland': None, 'ploughlands': 1.0, 'pcode': 'land for', 'lordsploughs': 0.0, 'mensploughs': 1.0, 'totalploughs': 1.0, 'lordsploughspossible': None, 'mensploughspossible': None, 'villagers': 0.0, 'smallholders': 0.0, 'slaves': 0.0, 'femaleslaves': 0.0, 'freemen': 0.0, 'free2men': 0.0, 'priests': 0.0, 'cottagers': 0.0, 'otherpop': 0.0, 'miscpop': 4.0, 'miscpopcategories': 'countrymen', 'burgesses': 0.0, 'mills': None, 'millvalue': None, 'meadow': None, 'meadowunits': None, 'pasture': None, 'pastureunits': None, 'woodland': '4 * 1', 'woodlandunits': 'furlongs', 'fisheries': None, 'salthouses': None, 'payments': None, 'paymentsunits': None, 'churches': None, 'churchland': None, 'cobs_1086': None, 'cobs_1066': None, 'cattle_1086': None, 'cattle_1066': None, 'cows_1086': None, 'cows_1066': None, 'pigs_1086': None, 'pigs_1066': None, 'sheep_1086': None, 'sheep_1066': None, 'goats_1086': None, 'goats_1066': None, 'beehives_1086': None, 'beehives_1066': None, 'wild_mares_1086': None, 'wild_mares_1066': None, 'other_1086': None, 'other_code_1086': None, 'other_1066': None, 'other_codes_1066': None, 'lord66': [620600], 'overlord66': [], 'lord86': [620400], 'teninchief': [620400], 'image_for_manor': [{'manor': {'id': 3016}, 'x1': 121, 'x2': 770, 'y1': 1882, 'y2': 2014, 'image': 'wil/20.png'}]}\n",
            "{'id': 4791, 'county': {'id': 'dev'}, 'place': [{'id': 10156}], 'phillimore': '15,69', 'headofmanor': None, 'duplicates': None, 'subholdings': None, 'notes': None, 'waste': 'none', 'waste66': 'N', 'wasteqr': 'N', 'waste86': 'N', 'geld': 0.25, 'gcode': 'geld', 'villtax': None, 'taxedon': None, 'value86': 0.25, 'value66': None, 'valueqr': 0.5, 'value_string': '0.50', 'render': None, 'lordsland': None, 'newland': None, 'ploughlands': 2.0, 'pcode': 'land for', 'lordsploughs': 0.0, 'mensploughs': 0.0, 'totalploughs': 0.0, 'lordsploughspossible': None, 'mensploughspossible': None, 'villagers': 0.0, 'smallholders': 0.0, 'slaves': 0.0, 'femaleslaves': 0.0, 'freemen': 0.0, 'free2men': 0.0, 'priests': 0.0, 'cottagers': 0.0, 'otherpop': 0.0, 'miscpop': 0.0, 'miscpopcategories': None, 'burgesses': 0.0, 'mills': None, 'millvalue': None, 'meadow': None, 'meadowunits': None, 'pasture': None, 'pastureunits': None, 'woodland': None, 'woodlandunits': None, 'fisheries': None, 'salthouses': None, 'payments': None, 'paymentsunits': None, 'churches': None, 'churchland': None, 'cobs_1086': None, 'cobs_1066': None, 'cattle_1086': None, 'cattle_1066': None, 'cows_1086': None, 'cows_1066': None, 'pigs_1086': None, 'pigs_1066': None, 'sheep_1086': None, 'sheep_1066': None, 'goats_1086': None, 'goats_1066': None, 'beehives_1086': None, 'beehives_1066': None, 'wild_mares_1086': None, 'wild_mares_1066': None, 'other_1086': None, 'other_code_1086': None, 'other_1066': None, 'other_codes_1066': None, 'lord66': [164750], 'overlord66': [], 'lord86': [430150], 'teninchief': [451000], 'image_for_manor': [{'manor': {'id': 4791}, 'x1': 160, 'x2': 909, 'y1': 1417, 'y2': 1507, 'image': 'dev/12.png'}]}\n",
            "{'id': 6093, 'county': {'id': 'mdx'}, 'place': [{'id': 29506}], 'phillimore': '13,1', 'headofmanor': None, 'duplicates': None, 'subholdings': None, 'notes': 'Payments: 4 fishponds, 1000 eels.', 'waste': 'none', 'waste66': 'N', 'wasteqr': 'N', 'waste86': 'N', 'geld': 5.0, 'gcode': 'geld', 'villtax': None, 'taxedon': None, 'value86': 12.0, 'value66': 14.0, 'valueqr': 8.0, 'value_string': '8.00', 'render': None, 'lordsland': 2.0, 'newland': None, 'ploughlands': 5.0, 'pcode': 'land for', 'lordsploughs': 2.0, 'mensploughs': 3.0, 'totalploughs': 5.0, 'lordsploughspossible': 0.0, 'mensploughspossible': 0.0, 'villagers': 10.0, 'smallholders': 8.0, 'slaves': 3.0, 'femaleslaves': 0.0, 'freemen': 0.0, 'free2men': 0.0, 'priests': 1.0, 'cottagers': 3.0, 'otherpop': 0.0, 'miscpop': 0.0, 'miscpopcategories': None, 'burgesses': 0.0, 'mills': 2.0, 'millvalue': 0.75, 'meadow': '1', 'meadowunits': 'ploughs', 'pasture': None, 'pastureunits': 'village livestock', 'woodland': '1200', 'woodlandunits': 'pigs', 'fisheries': 4.0, 'salthouses': None, 'payments': None, 'paymentsunits': 'payment in kind', 'churches': None, 'churchland': 0.25, 'cobs_1086': None, 'cobs_1066': None, 'cattle_1086': None, 'cattle_1066': None, 'cows_1086': None, 'cows_1066': None, 'pigs_1086': None, 'pigs_1066': None, 'sheep_1086': None, 'sheep_1066': None, 'goats_1086': None, 'goats_1066': None, 'beehives_1086': None, 'beehives_1066': None, 'wild_mares_1086': None, 'wild_mares_1066': None, 'other_1086': None, 'other_code_1086': None, 'other_1066': None, 'other_codes_1066': None, 'lord66': [228050], 'overlord66': [], 'lord86': [439000], 'teninchief': [439000], 'image_for_manor': [{'manor': {'id': 6093}, 'x1': 763, 'x2': 1492, 'y1': 706, 'y2': 1125, 'image': 'mdx/08.png'}]}\n",
            "{'id': 8701, 'county': {'id': 'hef'}, 'place': [{'id': 38166}], 'phillimore': '36,2', 'headofmanor': None, 'duplicates': None, 'subholdings': None, 'notes': 'Waste: no recorded resources.', 'waste': 'now waste', 'waste66': 'N', 'wasteqr': 'X', 'waste86': 'Y', 'geld': 1.5, 'gcode': 'geld', 'villtax': None, 'taxedon': 1.5, 'value86': 0.0, 'value66': 0.75, 'valueqr': None, 'value_string': None, 'render': None, 'lordsland': None, 'newland': None, 'ploughlands': None, 'pcode': None, 'lordsploughs': 0.0, 'mensploughs': 0.0, 'totalploughs': 0.0, 'lordsploughspossible': None, 'mensploughspossible': None, 'villagers': 0.0, 'smallholders': 0.0, 'slaves': 0.0, 'femaleslaves': 0.0, 'freemen': 0.0, 'free2men': 0.0, 'priests': 0.0, 'cottagers': 0.0, 'otherpop': 0.0, 'miscpop': 0.0, 'miscpopcategories': None, 'burgesses': 0.0, 'mills': None, 'millvalue': None, 'meadow': None, 'meadowunits': None, 'pasture': None, 'pastureunits': None, 'woodland': None, 'woodlandunits': None, 'fisheries': None, 'salthouses': None, 'payments': None, 'paymentsunits': None, 'churches': None, 'churchland': None, 'cobs_1086': None, 'cobs_1066': None, 'cattle_1086': None, 'cattle_1066': None, 'cows_1086': None, 'cows_1066': None, 'pigs_1086': None, 'pigs_1066': None, 'sheep_1086': None, 'sheep_1066': None, 'goats_1086': None, 'goats_1066': None, 'beehives_1086': None, 'beehives_1066': None, 'wild_mares_1086': None, 'wild_mares_1066': None, 'other_1086': None, 'other_code_1086': None, 'other_1066': None, 'other_codes_1066': None, 'lord66': [168270], 'overlord66': [171200], 'lord86': [168270], 'teninchief': [165000], 'image_for_manor': [{'manor': {'id': 8701}, 'x1': 175, 'x2': 899, 'y1': 1841, 'y2': 1961, 'image': 'hef/18.png'}]}\n",
            "{'id': 8951, 'county': {'id': 'cam'}, 'place': [{'id': 11866}], 'phillimore': '14,78', 'headofmanor': None, 'duplicates': None, 'subholdings': None, 'notes': \"Satellite: ICC 4.5 men's ploughteams.\", 'waste': 'none', 'waste66': 'N', 'wasteqr': 'N', 'waste86': 'N', 'geld': 5.0, 'gcode': 'geld', 'villtax': None, 'taxedon': None, 'value86': 9.0, 'value66': 10.0, 'valueqr': 8.0, 'value_string': '8.00', 'render': None, 'lordsland': 3.0, 'newland': None, 'ploughlands': 8.0, 'pcode': 'land for', 'lordsploughs': 4.0, 'mensploughs': 4.0, 'totalploughs': 8.0, 'lordsploughspossible': None, 'mensploughspossible': None, 'villagers': 7.0, 'smallholders': 10.0, 'slaves': 2.0, 'femaleslaves': 0.0, 'freemen': 0.0, 'free2men': 0.0, 'priests': 0.0, 'cottagers': 0.0, 'otherpop': 0.0, 'miscpop': 0.0, 'miscpopcategories': None, 'burgesses': 0.0, 'mills': None, 'millvalue': None, 'meadow': '4', 'meadowunits': 'acres', 'pasture': None, 'pastureunits': None, 'woodland': None, 'woodlandunits': None, 'fisheries': None, 'salthouses': None, 'payments': None, 'paymentsunits': None, 'churches': None, 'churchland': None, 'cobs_1086': None, 'cobs_1066': None, 'cattle_1086': None, 'cattle_1066': None, 'cows_1086': None, 'cows_1066': None, 'pigs_1086': None, 'pigs_1066': None, 'sheep_1086': None, 'sheep_1066': None, 'goats_1086': None, 'goats_1066': None, 'beehives_1086': None, 'beehives_1066': None, 'wild_mares_1086': None, 'wild_mares_1066': None, 'other_1086': None, 'other_code_1086': None, 'other_1066': None, 'other_codes_1066': None, 'lord66': [157350], 'overlord66': [], 'lord86': [23600], 'teninchief': [23600], 'image_for_manor': [{'manor': {'id': 8951}, 'x1': 940, 'x2': 1619, 'y1': 1361, 'y2': 1614, 'image': 'cam/14.png'}]}\n",
            "{'id': 9101, 'county': {'id': 'cam'}, 'place': [{'id': 66}], 'phillimore': '29,10', 'headofmanor': None, 'duplicates': None, 'subholdings': None, 'notes': 'Payments: pasture, 6 ploughshares (ICC 5).', 'waste': 'none', 'waste66': 'N', 'wasteqr': 'N', 'waste86': 'N', 'geld': 6.0, 'gcode': 'geld', 'villtax': None, 'taxedon': None, 'value86': 8.0, 'value66': 6.0, 'valueqr': 8.0, 'value_string': '8.00', 'render': None, 'lordsland': None, 'newland': None, 'ploughlands': 8.0, 'pcode': 'land for', 'lordsploughs': 2.0, 'mensploughs': 4.0, 'totalploughs': 6.0, 'lordsploughspossible': 1.0, 'mensploughspossible': 1.0, 'villagers': 9.0, 'smallholders': 5.0, 'slaves': 0.0, 'femaleslaves': 0.0, 'freemen': 0.0, 'free2men': 0.0, 'priests': 0.0, 'cottagers': 0.0, 'otherpop': 0.0, 'miscpop': 0.0, 'miscpopcategories': None, 'burgesses': 0.0, 'mills': 1.0, 'millvalue': 0.45, 'meadow': '2', 'meadowunits': 'ploughs', 'pasture': None, 'pastureunits': 'just pasture', 'woodland': '10', 'woodlandunits': 'pigs', 'fisheries': None, 'salthouses': None, 'payments': None, 'paymentsunits': 'payment in kind', 'churches': None, 'churchland': None, 'cobs_1086': None, 'cobs_1066': None, 'cattle_1086': None, 'cattle_1066': None, 'cows_1086': None, 'cows_1066': None, 'pigs_1086': None, 'pigs_1066': None, 'sheep_1086': None, 'sheep_1066': None, 'goats_1086': None, 'goats_1066': None, 'beehives_1086': None, 'beehives_1066': None, 'wild_mares_1086': None, 'wild_mares_1066': None, 'other_1086': None, 'other_code_1086': None, 'other_1066': None, 'other_codes_1066': None, 'lord66': [629260, 669900], 'overlord66': [157300, 170750], 'lord86': [200550], 'teninchief': [94750], 'image_for_manor': [{'manor': {'id': 9101}, 'x1': 931, 'x2': 1610, 'y1': 576, 'y2': 951, 'image': 'cam/22.png'}]}\n",
            "{'id': 11441, 'county': {'id': 'war'}, 'place': [{'id': 17256}], 'phillimore': '30,1', 'headofmanor': None, 'duplicates': None, 'subholdings': None, 'notes': None, 'waste': 'none', 'waste66': 'N', 'wasteqr': 'N', 'waste86': 'N', 'geld': 30.0, 'gcode': 'geld', 'villtax': None, 'taxedon': None, 'value86': 30.0, 'value66': 15.0, 'valueqr': None, 'value_string': None, 'render': None, 'lordsland': None, 'newland': None, 'ploughlands': 20.0, 'pcode': 'land for', 'lordsploughs': 7.0, 'mensploughs': 10.0, 'totalploughs': 17.0, 'lordsploughspossible': None, 'mensploughspossible': None, 'villagers': 45.0, 'smallholders': 13.0, 'slaves': 25.0, 'femaleslaves': 0.0, 'freemen': 0.0, 'free2men': 0.0, 'priests': 1.0, 'cottagers': 0.0, 'otherpop': 0.0, 'miscpop': 2.0, 'miscpopcategories': 'men-at-arms', 'burgesses': 0.0, 'mills': 1.0, 'millvalue': 0.5, 'meadow': '3 * 3', 'meadowunits': 'furlongs', 'pasture': None, 'pastureunits': None, 'woodland': '2 * 2', 'woodlandunits': 'furlongs', 'fisheries': None, 'salthouses': None, 'payments': None, 'paymentsunits': None, 'churches': None, 'churchland': None, 'cobs_1086': None, 'cobs_1066': None, 'cattle_1086': None, 'cattle_1066': None, 'cows_1086': None, 'cows_1066': None, 'pigs_1086': None, 'pigs_1066': None, 'sheep_1086': None, 'sheep_1066': None, 'goats_1086': None, 'goats_1066': None, 'beehives_1086': None, 'beehives_1066': None, 'wild_mares_1086': None, 'wild_mares_1066': None, 'other_1086': None, 'other_code_1086': None, 'other_1066': None, 'other_codes_1066': None, 'lord66': [190050], 'overlord66': [], 'lord86': [212250], 'teninchief': [212250], 'image_for_manor': [{'manor': {'id': 11441}, 'x1': 182, 'x2': 929, 'y1': 687, 'y2': 943, 'image': 'war/12.png'}]}\n",
            "{'id': 10771, 'county': {'id': 'lec'}, 'place': [{'id': 60696}], 'phillimore': '13,43', 'headofmanor': None, 'duplicates': None, 'subholdings': None, 'notes': None, 'waste': 'none', 'waste66': 'N', 'wasteqr': 'N', 'waste86': 'N', 'geld': 1.0, 'gcode': 'geld', 'villtax': None, 'taxedon': None, 'value86': 0.5, 'value66': None, 'valueqr': 0.15, 'value_string': '0.15', 'render': None, 'lordsland': None, 'newland': None, 'ploughlands': 0.5, 'pcode': 'land for', 'lordsploughs': 0.5, 'mensploughs': 0.0, 'totalploughs': 0.5, 'lordsploughspossible': None, 'mensploughspossible': None, 'villagers': 0.0, 'smallholders': 0.0, 'slaves': 0.0, 'femaleslaves': 0.0, 'freemen': 0.0, 'free2men': 0.0, 'priests': 0.0, 'cottagers': 0.0, 'otherpop': 0.0, 'miscpop': 0.0, 'miscpopcategories': None, 'burgesses': 0.0, 'mills': None, 'millvalue': None, 'meadow': None, 'meadowunits': None, 'pasture': None, 'pastureunits': None, 'woodland': None, 'woodlandunits': None, 'fisheries': None, 'salthouses': None, 'payments': None, 'paymentsunits': None, 'churches': None, 'churchland': None, 'cobs_1086': None, 'cobs_1066': None, 'cattle_1086': None, 'cattle_1066': None, 'cows_1086': None, 'cows_1066': None, 'pigs_1086': None, 'pigs_1066': None, 'sheep_1086': None, 'sheep_1066': None, 'goats_1086': None, 'goats_1066': None, 'beehives_1086': None, 'beehives_1066': None, 'wild_mares_1086': None, 'wild_mares_1066': None, 'other_1086': None, 'other_code_1086': None, 'other_1066': None, 'other_codes_1066': None, 'lord66': [], 'overlord66': [], 'lord86': [89100], 'teninchief': [293200], 'image_for_manor': [{'manor': {'id': 10771}, 'x1': 230, 'x2': 879, 'y1': 1681, 'y2': 1767, 'image': 'lec/06.png'}]}\n",
            "{'id': 16116, 'county': {'id': 'lin'}, 'place': [{'id': 34411}], 'phillimore': '12,92', 'headofmanor': None, 'duplicates': None, 'subholdings': None, 'notes': None, 'waste': 'none', 'waste66': 'N', 'wasteqr': 'N', 'waste86': 'N', 'geld': 4.0, 'gcode': 'geld', 'villtax': None, 'taxedon': None, 'value86': 1.0, 'value66': 1.0, 'valueqr': None, 'value_string': None, 'render': None, 'lordsland': None, 'newland': None, 'ploughlands': 2.0, 'pcode': 'land for', 'lordsploughs': 1.0, 'mensploughs': 0.25, 'totalploughs': 1.25, 'lordsploughspossible': None, 'mensploughspossible': None, 'villagers': 2.0, 'smallholders': 0.0, 'slaves': 0.0, 'femaleslaves': 0.0, 'freemen': 0.0, 'free2men': 0.0, 'priests': 0.0, 'cottagers': 0.0, 'otherpop': 0.0, 'miscpop': 0.0, 'miscpopcategories': None, 'burgesses': 0.0, 'mills': 1.0, 'millvalue': 0.25, 'meadow': '26', 'meadowunits': 'acres', 'pasture': None, 'pastureunits': None, 'woodland': None, 'woodlandunits': None, 'fisheries': None, 'salthouses': None, 'payments': None, 'paymentsunits': None, 'churches': None, 'churchland': None, 'cobs_1086': None, 'cobs_1066': None, 'cattle_1086': None, 'cattle_1066': None, 'cows_1086': None, 'cows_1066': None, 'pigs_1086': None, 'pigs_1066': None, 'sheep_1086': None, 'sheep_1066': None, 'goats_1086': None, 'goats_1066': None, 'beehives_1086': None, 'beehives_1066': None, 'wild_mares_1086': None, 'wild_mares_1066': None, 'other_1086': None, 'other_code_1086': None, 'other_1066': None, 'other_codes_1066': None, 'lord66': [494200], 'overlord66': [], 'lord86': [321530], 'teninchief': [23900], 'image_for_manor': [{'manor': {'id': 16116}, 'x1': 891, 'x2': 1654, 'y1': 1275, 'y2': 1474, 'image': 'lin/26.png'}]}\n",
            "{'id': 20861, 'county': {'id': 'nfk'}, 'place': [{'id': 24906}], 'phillimore': '66,35', 'headofmanor': None, 'duplicates': None, 'subholdings': None, 'notes': None, 'waste': 'none', 'waste66': 'N', 'wasteqr': 'N', 'waste86': 'N', 'geld': 1.0, 'gcode': 'geld', 'villtax': None, 'taxedon': None, 'value86': 2.0, 'value66': 1.0, 'valueqr': None, 'value_string': None, 'render': None, 'lordsland': None, 'newland': None, 'ploughlands': None, 'pcode': None, 'lordsploughs': 0.0, 'mensploughs': 1.0, 'totalploughs': 1.0, 'lordsploughspossible': None, 'mensploughspossible': None, 'villagers': 0.0, 'smallholders': 2.0, 'slaves': 0.0, 'femaleslaves': 0.0, 'freemen': 0.0, 'free2men': 7.5, 'priests': 0.0, 'cottagers': 0.0, 'otherpop': 0.0, 'miscpop': 0.0, 'miscpopcategories': None, 'burgesses': 0.0, 'mills': None, 'millvalue': None, 'meadow': '8', 'meadowunits': 'acres', 'pasture': None, 'pastureunits': None, 'woodland': None, 'woodlandunits': None, 'fisheries': None, 'salthouses': None, 'payments': None, 'paymentsunits': None, 'churches': None, 'churchland': None, 'cobs_1086': None, 'cobs_1066': None, 'cattle_1086': None, 'cattle_1066': None, 'cows_1086': None, 'cows_1066': None, 'pigs_1086': None, 'pigs_1066': None, 'sheep_1086': None, 'sheep_1066': None, 'goats_1086': None, 'goats_1066': None, 'beehives_1086': None, 'beehives_1066': None, 'wild_mares_1086': None, 'wild_mares_1066': None, 'other_1086': None, 'other_code_1086': None, 'other_1066': None, 'other_codes_1066': None, 'lord66': [648350], 'overlord66': [], 'lord86': [410550], 'teninchief': [410550], 'image_for_manor': [{'manor': {'id': 20861}, 'x1': 2144, 'x2': 3646, 'y1': 1421, 'y2': 1753, 'image': 'nfk/167.png'}]}\n",
            "{'id': 22251, 'county': {'id': 'suf'}, 'place': [{'id': 73051}], 'phillimore': '25,10', 'headofmanor': None, 'duplicates': None, 'subholdings': None, 'notes': None, 'waste': 'none', 'waste66': 'N', 'wasteqr': 'N', 'waste86': 'N', 'geld': 1.26, 'gcode': 'exemption', 'villtax': None, 'taxedon': 1.0, 'value86': 1.0, 'value66': 1.0, 'valueqr': 1.0, 'value_string': '1.00', 'render': None, 'lordsland': None, 'newland': None, 'ploughlands': None, 'pcode': None, 'lordsploughs': 1.0, 'mensploughs': 0.25, 'totalploughs': 1.25, 'lordsploughspossible': None, 'mensploughspossible': None, 'villagers': 1.0, 'smallholders': 3.0, 'slaves': 1.0, 'femaleslaves': 0.0, 'freemen': 1.0, 'free2men': 0.0, 'priests': 0.0, 'cottagers': 0.0, 'otherpop': 0.0, 'miscpop': 0.0, 'miscpopcategories': None, 'burgesses': 0.0, 'mills': None, 'millvalue': None, 'meadow': '4', 'meadowunits': 'acres', 'pasture': None, 'pastureunits': None, 'woodland': None, 'woodlandunits': None, 'fisheries': None, 'salthouses': None, 'payments': None, 'paymentsunits': None, 'churches': 1.0, 'churchland': 0.26, 'cobs_1086': None, 'cobs_1066': None, 'cattle_1086': None, 'cattle_1066': None, 'cows_1086': None, 'cows_1066': None, 'pigs_1086': None, 'pigs_1066': None, 'sheep_1086': None, 'sheep_1066': None, 'goats_1086': None, 'goats_1066': None, 'beehives_1086': None, 'beehives_1066': None, 'wild_mares_1086': None, 'wild_mares_1066': None, 'other_1086': None, 'other_code_1086': None, 'other_1066': None, 'other_codes_1066': None, 'lord66': [613800], 'overlord66': [576680], 'lord86': [613800], 'teninchief': [439050], 'image_for_manor': [{'manor': {'id': 22251}, 'x1': 306, 'x2': 1622, 'y1': 1167, 'y2': 1528, 'image': 'suf/111.png'}]}\n",
            "{'id': 22571, 'county': {'id': 'suf'}, 'place': [{'id': 22651}], 'phillimore': '36,14', 'headofmanor': None, 'duplicates': None, 'subholdings': None, 'notes': None, 'waste': 'none', 'waste66': 'N', 'wasteqr': 'N', 'waste86': 'N', 'geld': 0.25, 'gcode': 'geld', 'villtax': None, 'taxedon': None, 'value86': 0.17, 'value66': 0.25, 'valueqr': None, 'value_string': None, 'render': None, 'lordsland': None, 'newland': None, 'ploughlands': None, 'pcode': None, 'lordsploughs': 0.0, 'mensploughs': 0.0, 'totalploughs': 0.0, 'lordsploughspossible': None, 'mensploughspossible': None, 'villagers': 0.0, 'smallholders': 0.0, 'slaves': 0.0, 'femaleslaves': 0.0, 'freemen': 0.0, 'free2men': 0.0, 'priests': 0.0, 'cottagers': 0.0, 'otherpop': 0.0, 'miscpop': 0.0, 'miscpopcategories': None, 'burgesses': 0.0, 'mills': None, 'millvalue': None, 'meadow': None, 'meadowunits': None, 'pasture': None, 'pastureunits': None, 'woodland': None, 'woodlandunits': None, 'fisheries': None, 'salthouses': None, 'payments': None, 'paymentsunits': None, 'churches': None, 'churchland': None, 'cobs_1086': None, 'cobs_1066': None, 'cattle_1086': None, 'cattle_1066': None, 'cows_1086': None, 'cows_1066': None, 'pigs_1086': None, 'pigs_1066': None, 'sheep_1086': None, 'sheep_1066': None, 'goats_1086': None, 'goats_1066': None, 'beehives_1086': None, 'beehives_1066': None, 'wild_mares_1086': None, 'wild_mares_1066': None, 'other_1086': None, 'other_code_1086': None, 'other_1066': None, 'other_codes_1066': None, 'lord66': [500200], 'overlord66': [], 'lord86': [447050], 'teninchief': [447050], 'image_for_manor': [{'manor': {'id': 22571}, 'x1': 275, 'x2': 1610, 'y1': 518, 'y2': 750, 'image': 'suf/141.png'}]}\n"
          ]
        },
        {
          "output_type": "error",
          "ename": "KeyboardInterrupt",
          "evalue": "",
          "traceback": [
            "\u001b[0;31m---------------------------------------------------------------------------\u001b[0m",
            "\u001b[0;31mKeyboardInterrupt\u001b[0m                         Traceback (most recent call last)",
            "\u001b[0;32m<ipython-input-103-d26dca3be313>\u001b[0m in \u001b[0;36m<cell line: 7>\u001b[0;34m()\u001b[0m\n\u001b[1;32m      7\u001b[0m \u001b[0;32mfor\u001b[0m \u001b[0mi\u001b[0m \u001b[0;32min\u001b[0m \u001b[0mplaces\u001b[0m\u001b[0;34m:\u001b[0m\u001b[0;34m\u001b[0m\u001b[0;34m\u001b[0m\u001b[0m\n\u001b[1;32m      8\u001b[0m   \u001b[0mid\u001b[0m\u001b[0;34m=\u001b[0m\u001b[0mi\u001b[0m\u001b[0;34m[\u001b[0m\u001b[0;34m'id'\u001b[0m\u001b[0;34m]\u001b[0m\u001b[0;34m\u001b[0m\u001b[0;34m\u001b[0m\u001b[0m\n\u001b[0;32m----> 9\u001b[0;31m   \u001b[0mresponse\u001b[0m\u001b[0;34m=\u001b[0m\u001b[0mrequests\u001b[0m\u001b[0;34m.\u001b[0m\u001b[0mget\u001b[0m\u001b[0;34m(\u001b[0m\u001b[0;34mf\"http://opendomesday.org/api/1.0/manor/{id}\"\u001b[0m\u001b[0;34m)\u001b[0m\u001b[0;34m\u001b[0m\u001b[0;34m\u001b[0m\u001b[0m\n\u001b[0m\u001b[1;32m     10\u001b[0m \u001b[0;34m\u001b[0m\u001b[0m\n\u001b[1;32m     11\u001b[0m   \u001b[0;32mif\u001b[0m \u001b[0mresponse\u001b[0m\u001b[0;34m.\u001b[0m\u001b[0mstatus_code\u001b[0m \u001b[0;34m==\u001b[0m \u001b[0;36m200\u001b[0m\u001b[0;34m:\u001b[0m\u001b[0;34m\u001b[0m\u001b[0;34m\u001b[0m\u001b[0m\n",
            "\u001b[0;32m/usr/local/lib/python3.10/dist-packages/requests/api.py\u001b[0m in \u001b[0;36mget\u001b[0;34m(url, params, **kwargs)\u001b[0m\n\u001b[1;32m     71\u001b[0m     \"\"\"\n\u001b[1;32m     72\u001b[0m \u001b[0;34m\u001b[0m\u001b[0m\n\u001b[0;32m---> 73\u001b[0;31m     \u001b[0;32mreturn\u001b[0m \u001b[0mrequest\u001b[0m\u001b[0;34m(\u001b[0m\u001b[0;34m\"get\"\u001b[0m\u001b[0;34m,\u001b[0m \u001b[0murl\u001b[0m\u001b[0;34m,\u001b[0m \u001b[0mparams\u001b[0m\u001b[0;34m=\u001b[0m\u001b[0mparams\u001b[0m\u001b[0;34m,\u001b[0m \u001b[0;34m**\u001b[0m\u001b[0mkwargs\u001b[0m\u001b[0;34m)\u001b[0m\u001b[0;34m\u001b[0m\u001b[0;34m\u001b[0m\u001b[0m\n\u001b[0m\u001b[1;32m     74\u001b[0m \u001b[0;34m\u001b[0m\u001b[0m\n\u001b[1;32m     75\u001b[0m \u001b[0;34m\u001b[0m\u001b[0m\n",
            "\u001b[0;32m/usr/local/lib/python3.10/dist-packages/requests/api.py\u001b[0m in \u001b[0;36mrequest\u001b[0;34m(method, url, **kwargs)\u001b[0m\n\u001b[1;32m     57\u001b[0m     \u001b[0;31m# cases, and look like a memory leak in others.\u001b[0m\u001b[0;34m\u001b[0m\u001b[0;34m\u001b[0m\u001b[0m\n\u001b[1;32m     58\u001b[0m     \u001b[0;32mwith\u001b[0m \u001b[0msessions\u001b[0m\u001b[0;34m.\u001b[0m\u001b[0mSession\u001b[0m\u001b[0;34m(\u001b[0m\u001b[0;34m)\u001b[0m \u001b[0;32mas\u001b[0m \u001b[0msession\u001b[0m\u001b[0;34m:\u001b[0m\u001b[0;34m\u001b[0m\u001b[0;34m\u001b[0m\u001b[0m\n\u001b[0;32m---> 59\u001b[0;31m         \u001b[0;32mreturn\u001b[0m \u001b[0msession\u001b[0m\u001b[0;34m.\u001b[0m\u001b[0mrequest\u001b[0m\u001b[0;34m(\u001b[0m\u001b[0mmethod\u001b[0m\u001b[0;34m=\u001b[0m\u001b[0mmethod\u001b[0m\u001b[0;34m,\u001b[0m \u001b[0murl\u001b[0m\u001b[0;34m=\u001b[0m\u001b[0murl\u001b[0m\u001b[0;34m,\u001b[0m \u001b[0;34m**\u001b[0m\u001b[0mkwargs\u001b[0m\u001b[0;34m)\u001b[0m\u001b[0;34m\u001b[0m\u001b[0;34m\u001b[0m\u001b[0m\n\u001b[0m\u001b[1;32m     60\u001b[0m \u001b[0;34m\u001b[0m\u001b[0m\n\u001b[1;32m     61\u001b[0m \u001b[0;34m\u001b[0m\u001b[0m\n",
            "\u001b[0;32m/usr/local/lib/python3.10/dist-packages/requests/sessions.py\u001b[0m in \u001b[0;36mrequest\u001b[0;34m(self, method, url, params, data, headers, cookies, files, auth, timeout, allow_redirects, proxies, hooks, stream, verify, cert, json)\u001b[0m\n\u001b[1;32m    587\u001b[0m         }\n\u001b[1;32m    588\u001b[0m         \u001b[0msend_kwargs\u001b[0m\u001b[0;34m.\u001b[0m\u001b[0mupdate\u001b[0m\u001b[0;34m(\u001b[0m\u001b[0msettings\u001b[0m\u001b[0;34m)\u001b[0m\u001b[0;34m\u001b[0m\u001b[0;34m\u001b[0m\u001b[0m\n\u001b[0;32m--> 589\u001b[0;31m         \u001b[0mresp\u001b[0m \u001b[0;34m=\u001b[0m \u001b[0mself\u001b[0m\u001b[0;34m.\u001b[0m\u001b[0msend\u001b[0m\u001b[0;34m(\u001b[0m\u001b[0mprep\u001b[0m\u001b[0;34m,\u001b[0m \u001b[0;34m**\u001b[0m\u001b[0msend_kwargs\u001b[0m\u001b[0;34m)\u001b[0m\u001b[0;34m\u001b[0m\u001b[0;34m\u001b[0m\u001b[0m\n\u001b[0m\u001b[1;32m    590\u001b[0m \u001b[0;34m\u001b[0m\u001b[0m\n\u001b[1;32m    591\u001b[0m         \u001b[0;32mreturn\u001b[0m \u001b[0mresp\u001b[0m\u001b[0;34m\u001b[0m\u001b[0;34m\u001b[0m\u001b[0m\n",
            "\u001b[0;32m/usr/local/lib/python3.10/dist-packages/requests/sessions.py\u001b[0m in \u001b[0;36msend\u001b[0;34m(self, request, **kwargs)\u001b[0m\n\u001b[1;32m    723\u001b[0m             \u001b[0;31m# Redirect resolving generator.\u001b[0m\u001b[0;34m\u001b[0m\u001b[0;34m\u001b[0m\u001b[0m\n\u001b[1;32m    724\u001b[0m             \u001b[0mgen\u001b[0m \u001b[0;34m=\u001b[0m \u001b[0mself\u001b[0m\u001b[0;34m.\u001b[0m\u001b[0mresolve_redirects\u001b[0m\u001b[0;34m(\u001b[0m\u001b[0mr\u001b[0m\u001b[0;34m,\u001b[0m \u001b[0mrequest\u001b[0m\u001b[0;34m,\u001b[0m \u001b[0;34m**\u001b[0m\u001b[0mkwargs\u001b[0m\u001b[0;34m)\u001b[0m\u001b[0;34m\u001b[0m\u001b[0;34m\u001b[0m\u001b[0m\n\u001b[0;32m--> 725\u001b[0;31m             \u001b[0mhistory\u001b[0m \u001b[0;34m=\u001b[0m \u001b[0;34m[\u001b[0m\u001b[0mresp\u001b[0m \u001b[0;32mfor\u001b[0m \u001b[0mresp\u001b[0m \u001b[0;32min\u001b[0m \u001b[0mgen\u001b[0m\u001b[0;34m]\u001b[0m\u001b[0;34m\u001b[0m\u001b[0;34m\u001b[0m\u001b[0m\n\u001b[0m\u001b[1;32m    726\u001b[0m         \u001b[0;32melse\u001b[0m\u001b[0;34m:\u001b[0m\u001b[0;34m\u001b[0m\u001b[0;34m\u001b[0m\u001b[0m\n\u001b[1;32m    727\u001b[0m             \u001b[0mhistory\u001b[0m \u001b[0;34m=\u001b[0m \u001b[0;34m[\u001b[0m\u001b[0;34m]\u001b[0m\u001b[0;34m\u001b[0m\u001b[0;34m\u001b[0m\u001b[0m\n",
            "\u001b[0;32m/usr/local/lib/python3.10/dist-packages/requests/sessions.py\u001b[0m in \u001b[0;36m<listcomp>\u001b[0;34m(.0)\u001b[0m\n\u001b[1;32m    723\u001b[0m             \u001b[0;31m# Redirect resolving generator.\u001b[0m\u001b[0;34m\u001b[0m\u001b[0;34m\u001b[0m\u001b[0m\n\u001b[1;32m    724\u001b[0m             \u001b[0mgen\u001b[0m \u001b[0;34m=\u001b[0m \u001b[0mself\u001b[0m\u001b[0;34m.\u001b[0m\u001b[0mresolve_redirects\u001b[0m\u001b[0;34m(\u001b[0m\u001b[0mr\u001b[0m\u001b[0;34m,\u001b[0m \u001b[0mrequest\u001b[0m\u001b[0;34m,\u001b[0m \u001b[0;34m**\u001b[0m\u001b[0mkwargs\u001b[0m\u001b[0;34m)\u001b[0m\u001b[0;34m\u001b[0m\u001b[0;34m\u001b[0m\u001b[0m\n\u001b[0;32m--> 725\u001b[0;31m             \u001b[0mhistory\u001b[0m \u001b[0;34m=\u001b[0m \u001b[0;34m[\u001b[0m\u001b[0mresp\u001b[0m \u001b[0;32mfor\u001b[0m \u001b[0mresp\u001b[0m \u001b[0;32min\u001b[0m \u001b[0mgen\u001b[0m\u001b[0;34m]\u001b[0m\u001b[0;34m\u001b[0m\u001b[0;34m\u001b[0m\u001b[0m\n\u001b[0m\u001b[1;32m    726\u001b[0m         \u001b[0;32melse\u001b[0m\u001b[0;34m:\u001b[0m\u001b[0;34m\u001b[0m\u001b[0;34m\u001b[0m\u001b[0m\n\u001b[1;32m    727\u001b[0m             \u001b[0mhistory\u001b[0m \u001b[0;34m=\u001b[0m \u001b[0;34m[\u001b[0m\u001b[0;34m]\u001b[0m\u001b[0;34m\u001b[0m\u001b[0;34m\u001b[0m\u001b[0m\n",
            "\u001b[0;32m/usr/local/lib/python3.10/dist-packages/requests/sessions.py\u001b[0m in \u001b[0;36mresolve_redirects\u001b[0;34m(self, resp, req, stream, timeout, verify, cert, proxies, yield_requests, **adapter_kwargs)\u001b[0m\n\u001b[1;32m    264\u001b[0m             \u001b[0;32melse\u001b[0m\u001b[0;34m:\u001b[0m\u001b[0;34m\u001b[0m\u001b[0;34m\u001b[0m\u001b[0m\n\u001b[1;32m    265\u001b[0m \u001b[0;34m\u001b[0m\u001b[0m\n\u001b[0;32m--> 266\u001b[0;31m                 resp = self.send(\n\u001b[0m\u001b[1;32m    267\u001b[0m                     \u001b[0mreq\u001b[0m\u001b[0;34m,\u001b[0m\u001b[0;34m\u001b[0m\u001b[0;34m\u001b[0m\u001b[0m\n\u001b[1;32m    268\u001b[0m                     \u001b[0mstream\u001b[0m\u001b[0;34m=\u001b[0m\u001b[0mstream\u001b[0m\u001b[0;34m,\u001b[0m\u001b[0;34m\u001b[0m\u001b[0;34m\u001b[0m\u001b[0m\n",
            "\u001b[0;32m/usr/local/lib/python3.10/dist-packages/requests/sessions.py\u001b[0m in \u001b[0;36msend\u001b[0;34m(self, request, **kwargs)\u001b[0m\n\u001b[1;32m    701\u001b[0m \u001b[0;34m\u001b[0m\u001b[0m\n\u001b[1;32m    702\u001b[0m         \u001b[0;31m# Send the request\u001b[0m\u001b[0;34m\u001b[0m\u001b[0;34m\u001b[0m\u001b[0m\n\u001b[0;32m--> 703\u001b[0;31m         \u001b[0mr\u001b[0m \u001b[0;34m=\u001b[0m \u001b[0madapter\u001b[0m\u001b[0;34m.\u001b[0m\u001b[0msend\u001b[0m\u001b[0;34m(\u001b[0m\u001b[0mrequest\u001b[0m\u001b[0;34m,\u001b[0m \u001b[0;34m**\u001b[0m\u001b[0mkwargs\u001b[0m\u001b[0;34m)\u001b[0m\u001b[0;34m\u001b[0m\u001b[0;34m\u001b[0m\u001b[0m\n\u001b[0m\u001b[1;32m    704\u001b[0m \u001b[0;34m\u001b[0m\u001b[0m\n\u001b[1;32m    705\u001b[0m         \u001b[0;31m# Total elapsed time of the request (approximately)\u001b[0m\u001b[0;34m\u001b[0m\u001b[0;34m\u001b[0m\u001b[0m\n",
            "\u001b[0;32m/usr/local/lib/python3.10/dist-packages/requests/adapters.py\u001b[0m in \u001b[0;36msend\u001b[0;34m(self, request, stream, timeout, verify, cert, proxies)\u001b[0m\n\u001b[1;32m    484\u001b[0m \u001b[0;34m\u001b[0m\u001b[0m\n\u001b[1;32m    485\u001b[0m         \u001b[0;32mtry\u001b[0m\u001b[0;34m:\u001b[0m\u001b[0;34m\u001b[0m\u001b[0;34m\u001b[0m\u001b[0m\n\u001b[0;32m--> 486\u001b[0;31m             resp = conn.urlopen(\n\u001b[0m\u001b[1;32m    487\u001b[0m                 \u001b[0mmethod\u001b[0m\u001b[0;34m=\u001b[0m\u001b[0mrequest\u001b[0m\u001b[0;34m.\u001b[0m\u001b[0mmethod\u001b[0m\u001b[0;34m,\u001b[0m\u001b[0;34m\u001b[0m\u001b[0;34m\u001b[0m\u001b[0m\n\u001b[1;32m    488\u001b[0m                 \u001b[0murl\u001b[0m\u001b[0;34m=\u001b[0m\u001b[0murl\u001b[0m\u001b[0;34m,\u001b[0m\u001b[0;34m\u001b[0m\u001b[0;34m\u001b[0m\u001b[0m\n",
            "\u001b[0;32m/usr/local/lib/python3.10/dist-packages/urllib3/connectionpool.py\u001b[0m in \u001b[0;36murlopen\u001b[0;34m(self, method, url, body, headers, retries, redirect, assert_same_host, timeout, pool_timeout, release_conn, chunked, body_pos, preload_content, decode_content, **response_kw)\u001b[0m\n\u001b[1;32m    789\u001b[0m \u001b[0;34m\u001b[0m\u001b[0m\n\u001b[1;32m    790\u001b[0m             \u001b[0;31m# Make the request on the HTTPConnection object\u001b[0m\u001b[0;34m\u001b[0m\u001b[0;34m\u001b[0m\u001b[0m\n\u001b[0;32m--> 791\u001b[0;31m             response = self._make_request(\n\u001b[0m\u001b[1;32m    792\u001b[0m                 \u001b[0mconn\u001b[0m\u001b[0;34m,\u001b[0m\u001b[0;34m\u001b[0m\u001b[0;34m\u001b[0m\u001b[0m\n\u001b[1;32m    793\u001b[0m                 \u001b[0mmethod\u001b[0m\u001b[0;34m,\u001b[0m\u001b[0;34m\u001b[0m\u001b[0;34m\u001b[0m\u001b[0m\n",
            "\u001b[0;32m/usr/local/lib/python3.10/dist-packages/urllib3/connectionpool.py\u001b[0m in \u001b[0;36m_make_request\u001b[0;34m(self, conn, method, url, body, headers, retries, timeout, chunked, response_conn, preload_content, decode_content, enforce_content_length)\u001b[0m\n\u001b[1;32m    535\u001b[0m         \u001b[0;31m# Receive the response from the server\u001b[0m\u001b[0;34m\u001b[0m\u001b[0;34m\u001b[0m\u001b[0m\n\u001b[1;32m    536\u001b[0m         \u001b[0;32mtry\u001b[0m\u001b[0;34m:\u001b[0m\u001b[0;34m\u001b[0m\u001b[0;34m\u001b[0m\u001b[0m\n\u001b[0;32m--> 537\u001b[0;31m             \u001b[0mresponse\u001b[0m \u001b[0;34m=\u001b[0m \u001b[0mconn\u001b[0m\u001b[0;34m.\u001b[0m\u001b[0mgetresponse\u001b[0m\u001b[0;34m(\u001b[0m\u001b[0;34m)\u001b[0m\u001b[0;34m\u001b[0m\u001b[0;34m\u001b[0m\u001b[0m\n\u001b[0m\u001b[1;32m    538\u001b[0m         \u001b[0;32mexcept\u001b[0m \u001b[0;34m(\u001b[0m\u001b[0mBaseSSLError\u001b[0m\u001b[0;34m,\u001b[0m \u001b[0mOSError\u001b[0m\u001b[0;34m)\u001b[0m \u001b[0;32mas\u001b[0m \u001b[0me\u001b[0m\u001b[0;34m:\u001b[0m\u001b[0;34m\u001b[0m\u001b[0;34m\u001b[0m\u001b[0m\n\u001b[1;32m    539\u001b[0m             \u001b[0mself\u001b[0m\u001b[0;34m.\u001b[0m\u001b[0m_raise_timeout\u001b[0m\u001b[0;34m(\u001b[0m\u001b[0merr\u001b[0m\u001b[0;34m=\u001b[0m\u001b[0me\u001b[0m\u001b[0;34m,\u001b[0m \u001b[0murl\u001b[0m\u001b[0;34m=\u001b[0m\u001b[0murl\u001b[0m\u001b[0;34m,\u001b[0m \u001b[0mtimeout_value\u001b[0m\u001b[0;34m=\u001b[0m\u001b[0mread_timeout\u001b[0m\u001b[0;34m)\u001b[0m\u001b[0;34m\u001b[0m\u001b[0;34m\u001b[0m\u001b[0m\n",
            "\u001b[0;32m/usr/local/lib/python3.10/dist-packages/urllib3/connection.py\u001b[0m in \u001b[0;36mgetresponse\u001b[0;34m(self)\u001b[0m\n\u001b[1;32m    459\u001b[0m \u001b[0;34m\u001b[0m\u001b[0m\n\u001b[1;32m    460\u001b[0m         \u001b[0;31m# Get the response from http.client.HTTPConnection\u001b[0m\u001b[0;34m\u001b[0m\u001b[0;34m\u001b[0m\u001b[0m\n\u001b[0;32m--> 461\u001b[0;31m         \u001b[0mhttplib_response\u001b[0m \u001b[0;34m=\u001b[0m \u001b[0msuper\u001b[0m\u001b[0;34m(\u001b[0m\u001b[0;34m)\u001b[0m\u001b[0;34m.\u001b[0m\u001b[0mgetresponse\u001b[0m\u001b[0;34m(\u001b[0m\u001b[0;34m)\u001b[0m\u001b[0;34m\u001b[0m\u001b[0;34m\u001b[0m\u001b[0m\n\u001b[0m\u001b[1;32m    462\u001b[0m \u001b[0;34m\u001b[0m\u001b[0m\n\u001b[1;32m    463\u001b[0m         \u001b[0;32mtry\u001b[0m\u001b[0;34m:\u001b[0m\u001b[0;34m\u001b[0m\u001b[0;34m\u001b[0m\u001b[0m\n",
            "\u001b[0;32m/usr/lib/python3.10/http/client.py\u001b[0m in \u001b[0;36mgetresponse\u001b[0;34m(self)\u001b[0m\n\u001b[1;32m   1373\u001b[0m         \u001b[0;32mtry\u001b[0m\u001b[0;34m:\u001b[0m\u001b[0;34m\u001b[0m\u001b[0;34m\u001b[0m\u001b[0m\n\u001b[1;32m   1374\u001b[0m             \u001b[0;32mtry\u001b[0m\u001b[0;34m:\u001b[0m\u001b[0;34m\u001b[0m\u001b[0;34m\u001b[0m\u001b[0m\n\u001b[0;32m-> 1375\u001b[0;31m                 \u001b[0mresponse\u001b[0m\u001b[0;34m.\u001b[0m\u001b[0mbegin\u001b[0m\u001b[0;34m(\u001b[0m\u001b[0;34m)\u001b[0m\u001b[0;34m\u001b[0m\u001b[0;34m\u001b[0m\u001b[0m\n\u001b[0m\u001b[1;32m   1376\u001b[0m             \u001b[0;32mexcept\u001b[0m \u001b[0mConnectionError\u001b[0m\u001b[0;34m:\u001b[0m\u001b[0;34m\u001b[0m\u001b[0;34m\u001b[0m\u001b[0m\n\u001b[1;32m   1377\u001b[0m                 \u001b[0mself\u001b[0m\u001b[0;34m.\u001b[0m\u001b[0mclose\u001b[0m\u001b[0;34m(\u001b[0m\u001b[0;34m)\u001b[0m\u001b[0;34m\u001b[0m\u001b[0;34m\u001b[0m\u001b[0m\n",
            "\u001b[0;32m/usr/lib/python3.10/http/client.py\u001b[0m in \u001b[0;36mbegin\u001b[0;34m(self)\u001b[0m\n\u001b[1;32m    316\u001b[0m         \u001b[0;31m# read until we get a non-100 response\u001b[0m\u001b[0;34m\u001b[0m\u001b[0;34m\u001b[0m\u001b[0m\n\u001b[1;32m    317\u001b[0m         \u001b[0;32mwhile\u001b[0m \u001b[0;32mTrue\u001b[0m\u001b[0;34m:\u001b[0m\u001b[0;34m\u001b[0m\u001b[0;34m\u001b[0m\u001b[0m\n\u001b[0;32m--> 318\u001b[0;31m             \u001b[0mversion\u001b[0m\u001b[0;34m,\u001b[0m \u001b[0mstatus\u001b[0m\u001b[0;34m,\u001b[0m \u001b[0mreason\u001b[0m \u001b[0;34m=\u001b[0m \u001b[0mself\u001b[0m\u001b[0;34m.\u001b[0m\u001b[0m_read_status\u001b[0m\u001b[0;34m(\u001b[0m\u001b[0;34m)\u001b[0m\u001b[0;34m\u001b[0m\u001b[0;34m\u001b[0m\u001b[0m\n\u001b[0m\u001b[1;32m    319\u001b[0m             \u001b[0;32mif\u001b[0m \u001b[0mstatus\u001b[0m \u001b[0;34m!=\u001b[0m \u001b[0mCONTINUE\u001b[0m\u001b[0;34m:\u001b[0m\u001b[0;34m\u001b[0m\u001b[0;34m\u001b[0m\u001b[0m\n\u001b[1;32m    320\u001b[0m                 \u001b[0;32mbreak\u001b[0m\u001b[0;34m\u001b[0m\u001b[0;34m\u001b[0m\u001b[0m\n",
            "\u001b[0;32m/usr/lib/python3.10/http/client.py\u001b[0m in \u001b[0;36m_read_status\u001b[0;34m(self)\u001b[0m\n\u001b[1;32m    277\u001b[0m \u001b[0;34m\u001b[0m\u001b[0m\n\u001b[1;32m    278\u001b[0m     \u001b[0;32mdef\u001b[0m \u001b[0m_read_status\u001b[0m\u001b[0;34m(\u001b[0m\u001b[0mself\u001b[0m\u001b[0;34m)\u001b[0m\u001b[0;34m:\u001b[0m\u001b[0;34m\u001b[0m\u001b[0;34m\u001b[0m\u001b[0m\n\u001b[0;32m--> 279\u001b[0;31m         \u001b[0mline\u001b[0m \u001b[0;34m=\u001b[0m \u001b[0mstr\u001b[0m\u001b[0;34m(\u001b[0m\u001b[0mself\u001b[0m\u001b[0;34m.\u001b[0m\u001b[0mfp\u001b[0m\u001b[0;34m.\u001b[0m\u001b[0mreadline\u001b[0m\u001b[0;34m(\u001b[0m\u001b[0m_MAXLINE\u001b[0m \u001b[0;34m+\u001b[0m \u001b[0;36m1\u001b[0m\u001b[0;34m)\u001b[0m\u001b[0;34m,\u001b[0m \u001b[0;34m\"iso-8859-1\"\u001b[0m\u001b[0;34m)\u001b[0m\u001b[0;34m\u001b[0m\u001b[0;34m\u001b[0m\u001b[0m\n\u001b[0m\u001b[1;32m    280\u001b[0m         \u001b[0;32mif\u001b[0m \u001b[0mlen\u001b[0m\u001b[0;34m(\u001b[0m\u001b[0mline\u001b[0m\u001b[0;34m)\u001b[0m \u001b[0;34m>\u001b[0m \u001b[0m_MAXLINE\u001b[0m\u001b[0;34m:\u001b[0m\u001b[0;34m\u001b[0m\u001b[0;34m\u001b[0m\u001b[0m\n\u001b[1;32m    281\u001b[0m             \u001b[0;32mraise\u001b[0m \u001b[0mLineTooLong\u001b[0m\u001b[0;34m(\u001b[0m\u001b[0;34m\"status line\"\u001b[0m\u001b[0;34m)\u001b[0m\u001b[0;34m\u001b[0m\u001b[0;34m\u001b[0m\u001b[0m\n",
            "\u001b[0;32m/usr/lib/python3.10/socket.py\u001b[0m in \u001b[0;36mreadinto\u001b[0;34m(self, b)\u001b[0m\n\u001b[1;32m    703\u001b[0m         \u001b[0;32mwhile\u001b[0m \u001b[0;32mTrue\u001b[0m\u001b[0;34m:\u001b[0m\u001b[0;34m\u001b[0m\u001b[0;34m\u001b[0m\u001b[0m\n\u001b[1;32m    704\u001b[0m             \u001b[0;32mtry\u001b[0m\u001b[0;34m:\u001b[0m\u001b[0;34m\u001b[0m\u001b[0;34m\u001b[0m\u001b[0m\n\u001b[0;32m--> 705\u001b[0;31m                 \u001b[0;32mreturn\u001b[0m \u001b[0mself\u001b[0m\u001b[0;34m.\u001b[0m\u001b[0m_sock\u001b[0m\u001b[0;34m.\u001b[0m\u001b[0mrecv_into\u001b[0m\u001b[0;34m(\u001b[0m\u001b[0mb\u001b[0m\u001b[0;34m)\u001b[0m\u001b[0;34m\u001b[0m\u001b[0;34m\u001b[0m\u001b[0m\n\u001b[0m\u001b[1;32m    706\u001b[0m             \u001b[0;32mexcept\u001b[0m \u001b[0mtimeout\u001b[0m\u001b[0;34m:\u001b[0m\u001b[0;34m\u001b[0m\u001b[0;34m\u001b[0m\u001b[0m\n\u001b[1;32m    707\u001b[0m                 \u001b[0mself\u001b[0m\u001b[0;34m.\u001b[0m\u001b[0m_timeout_occurred\u001b[0m \u001b[0;34m=\u001b[0m \u001b[0;32mTrue\u001b[0m\u001b[0;34m\u001b[0m\u001b[0;34m\u001b[0m\u001b[0m\n",
            "\u001b[0;32m/usr/lib/python3.10/ssl.py\u001b[0m in \u001b[0;36mrecv_into\u001b[0;34m(self, buffer, nbytes, flags)\u001b[0m\n\u001b[1;32m   1301\u001b[0m                   \u001b[0;34m\"non-zero flags not allowed in calls to recv_into() on %s\"\u001b[0m \u001b[0;34m%\u001b[0m\u001b[0;34m\u001b[0m\u001b[0;34m\u001b[0m\u001b[0m\n\u001b[1;32m   1302\u001b[0m                   self.__class__)\n\u001b[0;32m-> 1303\u001b[0;31m             \u001b[0;32mreturn\u001b[0m \u001b[0mself\u001b[0m\u001b[0;34m.\u001b[0m\u001b[0mread\u001b[0m\u001b[0;34m(\u001b[0m\u001b[0mnbytes\u001b[0m\u001b[0;34m,\u001b[0m \u001b[0mbuffer\u001b[0m\u001b[0;34m)\u001b[0m\u001b[0;34m\u001b[0m\u001b[0;34m\u001b[0m\u001b[0m\n\u001b[0m\u001b[1;32m   1304\u001b[0m         \u001b[0;32melse\u001b[0m\u001b[0;34m:\u001b[0m\u001b[0;34m\u001b[0m\u001b[0;34m\u001b[0m\u001b[0m\n\u001b[1;32m   1305\u001b[0m             \u001b[0;32mreturn\u001b[0m \u001b[0msuper\u001b[0m\u001b[0;34m(\u001b[0m\u001b[0;34m)\u001b[0m\u001b[0;34m.\u001b[0m\u001b[0mrecv_into\u001b[0m\u001b[0;34m(\u001b[0m\u001b[0mbuffer\u001b[0m\u001b[0;34m,\u001b[0m \u001b[0mnbytes\u001b[0m\u001b[0;34m,\u001b[0m \u001b[0mflags\u001b[0m\u001b[0;34m)\u001b[0m\u001b[0;34m\u001b[0m\u001b[0;34m\u001b[0m\u001b[0m\n",
            "\u001b[0;32m/usr/lib/python3.10/ssl.py\u001b[0m in \u001b[0;36mread\u001b[0;34m(self, len, buffer)\u001b[0m\n\u001b[1;32m   1157\u001b[0m         \u001b[0;32mtry\u001b[0m\u001b[0;34m:\u001b[0m\u001b[0;34m\u001b[0m\u001b[0;34m\u001b[0m\u001b[0m\n\u001b[1;32m   1158\u001b[0m             \u001b[0;32mif\u001b[0m \u001b[0mbuffer\u001b[0m \u001b[0;32mis\u001b[0m \u001b[0;32mnot\u001b[0m \u001b[0;32mNone\u001b[0m\u001b[0;34m:\u001b[0m\u001b[0;34m\u001b[0m\u001b[0;34m\u001b[0m\u001b[0m\n\u001b[0;32m-> 1159\u001b[0;31m                 \u001b[0;32mreturn\u001b[0m \u001b[0mself\u001b[0m\u001b[0;34m.\u001b[0m\u001b[0m_sslobj\u001b[0m\u001b[0;34m.\u001b[0m\u001b[0mread\u001b[0m\u001b[0;34m(\u001b[0m\u001b[0mlen\u001b[0m\u001b[0;34m,\u001b[0m \u001b[0mbuffer\u001b[0m\u001b[0;34m)\u001b[0m\u001b[0;34m\u001b[0m\u001b[0;34m\u001b[0m\u001b[0m\n\u001b[0m\u001b[1;32m   1160\u001b[0m             \u001b[0;32melse\u001b[0m\u001b[0;34m:\u001b[0m\u001b[0;34m\u001b[0m\u001b[0;34m\u001b[0m\u001b[0m\n\u001b[1;32m   1161\u001b[0m                 \u001b[0;32mreturn\u001b[0m \u001b[0mself\u001b[0m\u001b[0;34m.\u001b[0m\u001b[0m_sslobj\u001b[0m\u001b[0;34m.\u001b[0m\u001b[0mread\u001b[0m\u001b[0;34m(\u001b[0m\u001b[0mlen\u001b[0m\u001b[0;34m)\u001b[0m\u001b[0;34m\u001b[0m\u001b[0;34m\u001b[0m\u001b[0m\n",
            "\u001b[0;31mKeyboardInterrupt\u001b[0m: "
          ]
        }
      ],
      "source": [
        "# Exercise 3\n",
        "# Now that we have the ids for all the places in Derbyshire, we can load all their details...\n",
        "# And from their details, we can list all the details of their manors.\n",
        "# Go fetch the data!\n",
        "# P.S.: remember to save the data to avoid downloading it every time\n",
        "tab=[]\n",
        "for i in places:\n",
        "  id=i['id']\n",
        "  response=requests.get(f\"http://opendomesday.org/api/1.0/manor/{id}\")\n",
        "\n",
        "  if response.status_code == 200:\n",
        "    counties = response.json()\n",
        "    tab.append(counties)\n",
        "    print(counties)\n",
        "  else:\n",
        "    print(\"Error\")\n"
      ]
    },
    {
      "cell_type": "code",
      "execution_count": 108,
      "metadata": {
        "id": "pTayzmUg5sVG",
        "colab": {
          "base_uri": "https://localhost:8080/"
        },
        "outputId": "c68976a5-dcf9-43cd-d5e9-8ddfcbf551ec"
      },
      "outputs": [
        {
          "output_type": "stream",
          "name": "stdout",
          "text": [
            "2.25 1.0\n",
            "20.0 14.0\n",
            "1.0 1.0\n",
            "0.25 0.0\n",
            "5.0 5.0\n",
            "1.5 0.0\n",
            "5.0 8.0\n",
            "6.0 6.0\n",
            "30.0 17.0\n",
            "1.0 0.5\n",
            "4.0 1.25\n",
            "1.0 1.0\n",
            "1.26 1.25\n",
            "0.25 0.0\n"
          ]
        }
      ],
      "source": [
        "# Exercise 4\n",
        "# Now that we have a quantity of raw data, we will extract the interesting parts.\n",
        "# In our case, we want to count the money paid by each manor and compare it to the number of ploughs it has.\n",
        "# - Can you find the corresponding json fields?\n",
        "# - Then, you can list these numbers for each manor in Derbyshire.\n",
        "# - And format this in an appropriate comma-separated values (CSV) file.\n",
        "\n",
        "for i in tab:\n",
        "  print(i[\"geld\"],i[\"totalploughs\"])\n",
        "\n",
        "\n"
      ]
    },
    {
      "cell_type": "code",
      "execution_count": null,
      "metadata": {
        "id": "GlIqY5vC5sVG"
      },
      "outputs": [],
      "source": [
        "# Exercise 5\n",
        "# What is the richest manor in Derbyshire?\n",
        "\n",
        "#######################################################\n",
        "################## YOUR ANSWER HERE ##################\n",
        "#######################################################\n"
      ]
    },
    {
      "cell_type": "code",
      "execution_count": null,
      "metadata": {
        "id": "kmWumjvb5sVH"
      },
      "outputs": [],
      "source": [
        "# Exercise 6\n",
        "# Give the total value paid by Derbyshire.\n",
        "\n",
        "#######################################################\n",
        "################## YOUR ANSWER HERE ##################\n",
        "#######################################################\n"
      ]
    },
    {
      "cell_type": "code",
      "execution_count": null,
      "metadata": {
        "id": "7ZkQmghS5sVH"
      },
      "outputs": [],
      "source": [
        "# Exercise 7\n",
        "# Create a Python class.\n",
        "# It must include all the previous functionalities.\n",
        "# Refactor your code to make it readable, efficient, and maintainable.\n",
        "\n",
        "#######################################################\n",
        "################## YOUR ANSWER HERE ##################\n",
        "#######################################################\n"
      ]
    },
    {
      "cell_type": "code",
      "execution_count": null,
      "metadata": {
        "id": "XVHZ72mK5sVH"
      },
      "outputs": [],
      "source": [
        "# Exercise 8 (optional)\n",
        "# Add to your class a system for error handling.\n",
        "# It must manage the following errors:\n",
        "# - Connection error\n",
        "# - Parsing error\n",
        "# - Request error\n",
        "# - Response error\n",
        "# - Parameter error\n",
        "\n",
        "#######################################################\n",
        "################## YOUR ANSWER HERE ##################\n",
        "#######################################################\n",
        "\n"
      ]
    }
  ],
  "metadata": {
    "kernelspec": {
      "display_name": "api",
      "language": "python",
      "name": "python3"
    },
    "language_info": {
      "codemirror_mode": {
        "name": "ipython",
        "version": 3
      },
      "file_extension": ".py",
      "mimetype": "text/x-python",
      "name": "python",
      "nbconvert_exporter": "python",
      "pygments_lexer": "ipython3",
      "version": "3.11.6"
    },
    "colab": {
      "provenance": []
    }
  },
  "nbformat": 4,
  "nbformat_minor": 0
}
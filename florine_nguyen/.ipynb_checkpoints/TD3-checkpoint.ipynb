{
 "cells": [
  {
   "cell_type": "markdown",
   "metadata": {},
   "source": [
    "# Python with APIs\n",
    "Exchanges via HTTP using `requests` package"
   ]
  },
  {
   "cell_type": "code",
   "execution_count": 1,
   "metadata": {},
   "outputs": [],
   "source": [
    "import requests"
   ]
  },
  {
   "cell_type": "markdown",
   "metadata": {},
   "source": [
    "## Example"
   ]
  },
  {
   "cell_type": "markdown",
   "metadata": {},
   "source": [
    "### Agify API"
   ]
  },
  {
   "cell_type": "markdown",
   "metadata": {},
   "source": [
    "Example route for Agify API"
   ]
  },
  {
   "cell_type": "code",
   "execution_count": 2,
   "metadata": {},
   "outputs": [],
   "source": [
    "agify_dan = \"https://api.agify.io/?name=dan\""
   ]
  },
  {
   "cell_type": "markdown",
   "metadata": {},
   "source": [
    "Extract response"
   ]
  },
  {
   "cell_type": "code",
   "execution_count": 3,
   "metadata": {},
   "outputs": [
    {
     "name": "stdout",
     "output_type": "stream",
     "text": [
      "Answer status_code: <Response [200]>\n",
      "<class 'str'>\n",
      "<class 'dict'>\n",
      "{\"count\":67782,\"name\":\"dan\",\"age\":66}\n",
      "{'count': 67782, 'name': 'dan', 'age': 66}\n"
     ]
    }
   ],
   "source": [
    "# Run a GET request\n",
    "agify_answer = requests.get(agify_dan)\n",
    "agify_answer_txt = agify_answer.text\n",
    "agify_answer_json = agify_answer.json()\n",
    "\n",
    "print(f\"Answer status_code: {agify_answer}\")\n",
    "\n",
    "print(type(agify_answer_txt))\n",
    "print(type(agify_answer_json))\n",
    "\n",
    "print(agify_answer_txt)\n",
    "print(agify_answer_json)"
   ]
  },
  {
   "cell_type": "markdown",
   "metadata": {},
   "source": [
    "## Introductory Exercises"
   ]
  },
  {
   "cell_type": "code",
   "execution_count": 4,
   "metadata": {},
   "outputs": [
    {
     "name": "stdout",
     "output_type": "stream",
     "text": [
      "Please enter your first name: martin\n",
      "Name: martin, age: 58 years old, count: 176139\n"
     ]
    }
   ],
   "source": [
    "# Exercise 1\n",
    "# Write a script that asks the user for their first name\n",
    "# and responds with a personalized message\n",
    "# using the agify API\n",
    "\n",
    "# https://api.agify.io/?name=YOUR_NAME\n",
    "# Example response: {\"name\":\"YOUR_NAME\",\"age\":30,\"count\":12345}\n",
    "\n",
    "user_name = input(\"Please enter your first name: \")\n",
    "url = f\"https://api.agify.io/?name={user_name}\"\n",
    "response = requests.get(url)\n",
    "\n",
    "data = response.json()\n",
    "message = f\"Name: {data['name']}, age: {data['age']} years old, count: {data['count']}\"\n",
    "print(message)\n"
   ]
  },
  {
   "cell_type": "code",
   "execution_count": 5,
   "metadata": {},
   "outputs": [
    {
     "name": "stdout",
     "output_type": "stream",
     "text": [
      "Please enter your first name: martin\n",
      "Name: martin, gender: male with a probability of 1.0\n"
     ]
    }
   ],
   "source": [
    "# Exercise 2\n",
    "# Write a script that asks the user for their first name\n",
    "# and responds with a personalized message\n",
    "# using the genderize API\n",
    "# https://api.genderize.io/?name=YOUR_NAME\n",
    "\n",
    "user_name = input(\"Please enter your first name: \")\n",
    "url = f\"https://api.genderize.io/?name={user_name}\"\n",
    "response = requests.get(url)\n",
    "\n",
    "\n",
    "data = response.json()\n",
    "message = f\"Name: {data['name']}, gender: {data['gender']} with a probability of {data['probability']}\"\n",
    "print(message)\n"
   ]
  },
  {
   "cell_type": "code",
   "execution_count": 6,
   "metadata": {},
   "outputs": [
    {
     "name": "stdout",
     "output_type": "stream",
     "text": [
      "Please enter your first name: mathis\n",
      "Name: mathis, Nationality: CH with a probability of 0.24\n",
      "Name: mathis, Nationality: US with a probability of 0.21\n",
      "Name: mathis, Nationality: AT with a probability of 0.16\n",
      "Name: mathis, Nationality: FR with a probability of 0.08\n",
      "Name: mathis, Nationality: DE with a probability of 0.02\n"
     ]
    }
   ],
   "source": [
    "# Exercise 3\n",
    "# Write a script that asks the user for their first name\n",
    "# and responds with a personalized message\n",
    "# using the nationalize API\n",
    "# https://api.nationalize.io/?name=YOUR_NAME\n",
    "\n",
    "\n",
    "\n",
    "user_name = input(\"Please enter your first name: \")\n",
    "url = f\"https://api.nationalize.io/?name={user_name}\"\n",
    "response = requests.get(url)\n",
    "\n",
    "\n",
    "data = response.json()\n",
    "if data['country']:  # Check if the 'country' key has any value\n",
    "    for country in data['country']:\n",
    "        country_id = country['country_id']\n",
    "        probability = country['probability']\n",
    "        print(f\"Name: {data['name']}, Nationality: {country_id} with a probability of {probability:.2f}\")\n",
    "else:\n",
    "    print(f\"Name: {data['name']}, no nationality data found.\")\n"
   ]
  },
  {
   "cell_type": "code",
   "execution_count": 7,
   "metadata": {},
   "outputs": [
    {
     "name": "stdout",
     "output_type": "stream",
     "text": [
      "Please enter your first name: mathis\n",
      "Name: mathis, most probable nationality: CH with a probability of 0.24\n"
     ]
    }
   ],
   "source": [
    "# Exercise 3.1\n",
    "# Parsing the response from the nationalize API\n",
    "# Get the most probable country and its percentage\n",
    "# Example response: {\"name\":\"YOUR_NAME\",\"country\":[{\"country_id\":\"FR\",\"probability\":0.75},{\"country_id\":\"BE\",\"probability\":0.25}]}\n",
    "# Hint: use the max() function with a lambda function\n",
    "# https://docs.python.org/3/library/functions.html#max\n",
    "# https://docs.python.org/3/tutorial/controlflow.html#lambda-expressions\n",
    "\n",
    "user_name = input(\"Please enter your first name: \")\n",
    "url = f\"https://api.nationalize.io/?name={user_name}\"\n",
    "response = requests.get(url)\n",
    "\n",
    "\n",
    "data = response.json()\n",
    "if data['country']:  # Ensure there are countries in the response\n",
    "    most_probable_country = max(data['country'], key=lambda country: country['probability'])\n",
    "    country_id = most_probable_country['country_id']\n",
    "    probability = most_probable_country['probability']\n",
    "    print(f\"Name: {data['name']}, most probable nationality: {country_id} with a probability of {probability:.2f}\")\n",
    "else:\n",
    "    print(f\"Name: {data['name']}, no nationality data found.\")\n"
   ]
  },
  {
   "cell_type": "code",
   "execution_count": 8,
   "metadata": {},
   "outputs": [
    {
     "name": "stdout",
     "output_type": "stream",
     "text": [
      "Random Activity: Learn a new programming language\n",
      "Activity for 4 participants: Go to an escape room\n",
      "Recreational activity for 4 participants: Go see a Broadway production\n",
      "Activity for 2 participants without equipment: Text a friend you haven't talked to in a long time\n"
     ]
    }
   ],
   "source": [
    "# Exercise 4\n",
    "# Use BoredAPI : https://www.boredapi.com/\n",
    "# Documentation : https://www.boredapi.com/documentation\n",
    "# 1. Write a script that generates random activities\n",
    "# 2. Write a script that generates random activities\n",
    "# 3. Write a script that generates random activities for 4 participants\n",
    "# 4. Write a script that generates random activities for 4 participants and of type \"recreational\"\n",
    "# 5. Write a script that generates random activities for 2 participants and that does not require equipment\n",
    "\n",
    "\n",
    "def random_activity():\n",
    "    response = requests.get(\"https://www.boredapi.com/api/activity\")\n",
    "    activity = response.json()['activity']\n",
    "    print(f\"Random Activity: {activity}\")\n",
    "random_activity()\n",
    "\n",
    "def activity_for_participants(participants=4):\n",
    "    response = requests.get(f\"https://www.boredapi.com/api/activity?participants={participants}\")\n",
    "    activity = response.json()['activity']\n",
    "    print(f\"Activity for {participants} participants: {activity}\")\n",
    "activity_for_participants()\n",
    "\n",
    "def recreational_activity_for_participants(participants=4):\n",
    "    response = requests.get(f\"https://www.boredapi.com/api/activity?participants={participants}&type=recreational\")\n",
    "    activity = response.json()['activity']\n",
    "    print(f\"Recreational activity for {participants} participants: {activity}\")\n",
    "recreational_activity_for_participants()\n",
    "\n",
    "def activity_without_equipment(participants=2):\n",
    "    response = requests.get(f\"https://www.boredapi.com/api/activity?participants={participants}&equipment=false\")\n",
    "    activity = response.json()['activity']\n",
    "    print(f\"Activity for {participants} participants without equipment: {activity}\")\n",
    "\n",
    "activity_without_equipment()\n"
   ]
  },
  {
   "cell_type": "markdown",
   "metadata": {},
   "source": [
    "## Intermediate exercises"
   ]
  },
  {
   "cell_type": "code",
   "execution_count": 9,
   "metadata": {},
   "outputs": [
    {
     "name": "stdout",
     "output_type": "stream",
     "text": [
      "ken - Kent\n",
      "sus - Sussex\n",
      "sur - Surrey\n",
      "ham - Hampshire\n",
      "brk - Berkshire\n",
      "wil - Wiltshire\n",
      "dor - Dorset\n",
      "som - Somerset\n",
      "dev - Devon\n",
      "con - Cornwall\n",
      "mdx - Middlesex\n",
      "hrt - Hertfordshire\n",
      "buk - Buckinghamshire\n",
      "gls - Gloucestershire\n",
      "oxf - Oxfordshire\n",
      "wor - Worcestershire\n",
      "hef - Herefordshire\n",
      "cam - Cambridgeshire\n",
      "hun - Huntingdonshire\n",
      "bdf - Bedfordshire\n",
      "nth - Northamptonshire\n",
      "lec - Leicestershire\n",
      "war - Warwickshire\n",
      "sts - Staffordshire\n",
      "shr - Shropshire\n",
      "chs - Cheshire\n",
      "dby - Derbyshire\n",
      "ntt - Nottinghamshire\n",
      "rut - Rutland\n",
      "yks - Yorkshire\n",
      "lin - Lincolnshire\n",
      "yb - Claims: YB\n",
      "yc - Claims: YC\n",
      "lc - Claims: LC\n",
      "hc - Claims: HC\n",
      "ys - Claims: YS\n",
      "ess - Essex\n",
      "nfk - Norfolk\n",
      "suf - Suffolk\n",
      "lan - Lancashire\n"
     ]
    }
   ],
   "source": [
    "# OpenDomesday\n",
    "# https://opendomesday.org/api/\n",
    "\n",
    "# Exercise 1\n",
    "# Write a script that displays all the counties  \n",
    "# using the OpenDomesday API.\n",
    "\n",
    "import requests\n",
    "\n",
    "def get_all_counties():\n",
    "    url = \"http://opendomesday.org/api/1.0/county\"\n",
    "    response = requests.get(url)\n",
    "    \n",
    "    if response.status_code == 200:\n",
    "        counties = response.json()\n",
    "        for county in counties:\n",
    "            print(county['id'], \"-\", county.get('name', 'No name available'))\n",
    "    else:\n",
    "        print(\"Failed to retrieve counties. Status code:\", response.status_code)\n",
    "\n",
    "get_all_counties()\n",
    "\n"
   ]
  },
  {
   "cell_type": "code",
   "execution_count": 10,
   "metadata": {},
   "outputs": [
    {
     "name": "stdout",
     "output_type": "stream",
     "text": [
      "Information for County ID: der\n",
      "County Name: No name available\n"
     ]
    }
   ],
   "source": [
    "# Exercise 2\n",
    "# Write a script that displays the information\n",
    "# of the county \"Derbyshire\".\n",
    "\n",
    "\n",
    "def get_county_info(county_id):\n",
    "    url = f\"http://opendomesday.org/api/1.0/county/{county_id}\"\n",
    "    response = requests.get(url)\n",
    "    \n",
    "    county_details = response.json()\n",
    "    print(f\"Information for County ID: {county_id}\")\n",
    "    print(\"County Name:\", county_details.get(\"name\", \"No name available\"))\n",
    "    if \"places\" in county_details:\n",
    "        print(\"Associated Places:\")\n",
    "        for place in county_details[\"places\"]:\n",
    "            print(place[\"name\"])\n",
    "\n",
    "get_county_info(\"der\")\n"
   ]
  },
  {
   "cell_type": "code",
   "execution_count": null,
   "metadata": {},
   "outputs": [],
   "source": [
    "# Exercise 3\n",
    "# Now that we have the ids for all the places in Derbyshire, we can load all their details...\n",
    "# And from their details, we can list all the details of their manors.\n",
    "# Go fetch the data!\n",
    "# P.S.: remember to save the data to avoid downloading it every time\n",
    "\n",
    "#######################################################\n",
    "################## YOUR ANSWER HERE ##################\n",
    "#######################################################\n"
   ]
  },
  {
   "cell_type": "code",
   "execution_count": null,
   "metadata": {},
   "outputs": [],
   "source": [
    "# Exercise 4\n",
    "# Now that we have a quantity of raw data, we will extract the interesting parts.  \n",
    "# In our case, we want to count the money paid by each manor and compare it to the number of ploughs it has.  \n",
    "# - Can you find the corresponding json fields?  \n",
    "# - Then, you can list these numbers for each manor in Derbyshire.  \n",
    "# - And format this in an appropriate comma-separated values (CSV) file.\n",
    "\n",
    "#######################################################\n",
    "################## YOUR ANSWER HERE ##################\n",
    "#######################################################\n",
    "\n"
   ]
  },
  {
   "cell_type": "code",
   "execution_count": null,
   "metadata": {},
   "outputs": [],
   "source": [
    "# Exercise 5\n",
    "# What is the richest manor in Derbyshire?\n",
    "\n",
    "#######################################################\n",
    "################## YOUR ANSWER HERE ##################\n",
    "#######################################################\n"
   ]
  },
  {
   "cell_type": "code",
   "execution_count": null,
   "metadata": {},
   "outputs": [],
   "source": [
    "# Exercise 6\n",
    "# Give the total value paid by Derbyshire.\n",
    "\n",
    "#######################################################\n",
    "################## YOUR ANSWER HERE ##################\n",
    "#######################################################\n"
   ]
  },
  {
   "cell_type": "code",
   "execution_count": null,
   "metadata": {},
   "outputs": [],
   "source": [
    "# Exercise 7\n",
    "# Create a Python class.  \n",
    "# It must include all the previous functionalities.  \n",
    "# Refactor your code to make it readable, efficient, and maintainable.\n",
    "\n",
    "#######################################################\n",
    "################## YOUR ANSWER HERE ##################\n",
    "#######################################################\n"
   ]
  },
  {
   "cell_type": "code",
   "execution_count": null,
   "metadata": {},
   "outputs": [],
   "source": [
    "# Exercise 8 (optional)\n",
    "# Add to your class a system for error handling.  \n",
    "# It must manage the following errors:  \n",
    "# - Connection error  \n",
    "# - Parsing error  \n",
    "# - Request error  \n",
    "# - Response error  \n",
    "# - Parameter error\n",
    "\n",
    "#######################################################\n",
    "################## YOUR ANSWER HERE ##################\n",
    "#######################################################\n",
    "\n"
   ]
  }
 ],
 "metadata": {
  "kernelspec": {
   "display_name": "Python 3 (ipykernel)",
   "language": "python",
   "name": "python3"
  },
  "language_info": {
   "codemirror_mode": {
    "name": "ipython",
    "version": 3
   },
   "file_extension": ".py",
   "mimetype": "text/x-python",
   "name": "python",
   "nbconvert_exporter": "python",
   "pygments_lexer": "ipython3",
   "version": "3.9.16"
  }
 },
 "nbformat": 4,
 "nbformat_minor": 2
}
